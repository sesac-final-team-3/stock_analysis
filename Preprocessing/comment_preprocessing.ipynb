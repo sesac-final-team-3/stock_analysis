{
 "cells": [
  {
   "cell_type": "code",
   "execution_count": 1,
   "metadata": {},
   "outputs": [],
   "source": [
    "import pandas as pd\n",
    "import numpy as np\n",
    "import datetime\n",
    "import time"
   ]
  },
  {
   "cell_type": "code",
   "execution_count": 2,
   "metadata": {},
   "outputs": [
    {
     "name": "stderr",
     "output_type": "stream",
     "text": [
      "C:\\Users\\seon\\AppData\\Local\\Temp\\ipykernel_25176\\1908212109.py:1: DeprecationWarning: `np.str` is a deprecated alias for the builtin `str`. To silence this warning, use `str` by itself. Doing this will not modify any behavior and is safe. If you specifically wanted the numpy scalar type, use `np.str_` here.\n",
      "Deprecated in NumPy 1.20; for more details and guidance: https://numpy.org/devdocs/release/1.20.0-notes.html#deprecations\n",
      "  df = pd.read_csv('./../Data/boardcomment/boardcomment_kia.csv',dtype={'com_code': np.str,'comment': np.str})\n"
     ]
    }
   ],
   "source": [
    "df = pd.read_csv('./../Data/boardcomment/boardcomment_kia.csv',dtype={'com_code': np.str,'comment': np.str})\n",
    "df_date = pd.read_csv('./../Data/주가_휴장일추출.csv')"
   ]
  },
  {
   "cell_type": "code",
   "execution_count": 3,
   "metadata": {},
   "outputs": [],
   "source": [
    "df.rename(columns={'com_code':'code','comment':'content','decommend':'unlike','recommend':'like','view':'view_count'},inplace=True)\n",
    "df=df[['code', 'title', 'content', 'date', 'like', 'unlike','view_count']]"
   ]
  },
  {
   "cell_type": "code",
   "execution_count": 4,
   "metadata": {},
   "outputs": [
    {
     "data": {
      "text/html": [
       "<div>\n",
       "<style scoped>\n",
       "    .dataframe tbody tr th:only-of-type {\n",
       "        vertical-align: middle;\n",
       "    }\n",
       "\n",
       "    .dataframe tbody tr th {\n",
       "        vertical-align: top;\n",
       "    }\n",
       "\n",
       "    .dataframe thead th {\n",
       "        text-align: right;\n",
       "    }\n",
       "</style>\n",
       "<table border=\"1\" class=\"dataframe\">\n",
       "  <thead>\n",
       "    <tr style=\"text-align: right;\">\n",
       "      <th></th>\n",
       "      <th>code</th>\n",
       "      <th>title</th>\n",
       "      <th>content</th>\n",
       "      <th>date</th>\n",
       "      <th>like</th>\n",
       "      <th>unlike</th>\n",
       "      <th>view_count</th>\n",
       "    </tr>\n",
       "  </thead>\n",
       "  <tbody>\n",
       "    <tr>\n",
       "      <th>0</th>\n",
       "      <td>000270</td>\n",
       "      <td>공매도 이기고 가면 올라갈 수는 있음 ㅋ</td>\n",
       "      <td>어찌하냐?</td>\n",
       "      <td>2022.12.21 14:29</td>\n",
       "      <td>1</td>\n",
       "      <td>0</td>\n",
       "      <td>564</td>\n",
       "    </tr>\n",
       "    <tr>\n",
       "      <th>1</th>\n",
       "      <td>000270</td>\n",
       "      <td>기아 다시 9만 가즈아아아아</td>\n",
       "      <td>가즈아 가즈아 애국기아 민노 out</td>\n",
       "      <td>2022.12.21 14:20</td>\n",
       "      <td>5</td>\n",
       "      <td>2</td>\n",
       "      <td>664</td>\n",
       "    </tr>\n",
       "    <tr>\n",
       "      <th>2</th>\n",
       "      <td>000270</td>\n",
       "      <td>기관과 외국인 지들끼리 놀아라 하고</td>\n",
       "      <td>개미는 발빼자 개미할배는 발뺀지 오래다</td>\n",
       "      <td>2022.12.21 14:29</td>\n",
       "      <td>1</td>\n",
       "      <td>1</td>\n",
       "      <td>569</td>\n",
       "    </tr>\n",
       "    <tr>\n",
       "      <th>3</th>\n",
       "      <td>000270</td>\n",
       "      <td>앞으로 사재기 없다, 공장 지을 때 참고 하세요.</td>\n",
       "      <td>it's this both of all i 'm very consider\\nthe ...</td>\n",
       "      <td>2022.12.21 14:29</td>\n",
       "      <td>1</td>\n",
       "      <td>0</td>\n",
       "      <td>588</td>\n",
       "    </tr>\n",
       "    <tr>\n",
       "      <th>4</th>\n",
       "      <td>000270</td>\n",
       "      <td>외국인들</td>\n",
       "      <td>외국인들\\n어제 사는 척 개미 꼬시기 해놓고\\n오늘 거래량도 없이 매도하는 거 봐라...</td>\n",
       "      <td>2022.12.21 14:36</td>\n",
       "      <td>2</td>\n",
       "      <td>0</td>\n",
       "      <td>598</td>\n",
       "    </tr>\n",
       "  </tbody>\n",
       "</table>\n",
       "</div>"
      ],
      "text/plain": [
       "     code                        title  \\\n",
       "0  000270       공매도 이기고 가면 올라갈 수는 있음 ㅋ   \n",
       "1  000270              기아 다시 9만 가즈아아아아   \n",
       "2  000270          기관과 외국인 지들끼리 놀아라 하고   \n",
       "3  000270  앞으로 사재기 없다, 공장 지을 때 참고 하세요.   \n",
       "4  000270                        외국인들    \n",
       "\n",
       "                                             content              date  like  \\\n",
       "0                                              어찌하냐?  2022.12.21 14:29     1   \n",
       "1                                가즈아 가즈아 애국기아 민노 out  2022.12.21 14:20     5   \n",
       "2                              개미는 발빼자 개미할배는 발뺀지 오래다  2022.12.21 14:29     1   \n",
       "3  it's this both of all i 'm very consider\\nthe ...  2022.12.21 14:29     1   \n",
       "4  외국인들\\n어제 사는 척 개미 꼬시기 해놓고\\n오늘 거래량도 없이 매도하는 거 봐라...  2022.12.21 14:36     2   \n",
       "\n",
       "   unlike  view_count  \n",
       "0       0         564  \n",
       "1       2         664  \n",
       "2       1         569  \n",
       "3       0         588  \n",
       "4       0         598  "
      ]
     },
     "execution_count": 4,
     "metadata": {},
     "output_type": "execute_result"
    }
   ],
   "source": [
    "df.head()"
   ]
  },
  {
   "cell_type": "code",
   "execution_count": 5,
   "metadata": {},
   "outputs": [
    {
     "data": {
      "text/plain": [
       "(149210, 7)"
      ]
     },
     "execution_count": 5,
     "metadata": {},
     "output_type": "execute_result"
    }
   ],
   "source": [
    "df.shape"
   ]
  },
  {
   "cell_type": "code",
   "execution_count": 6,
   "metadata": {},
   "outputs": [],
   "source": [
    "df.dropna(inplace=True)"
   ]
  },
  {
   "cell_type": "code",
   "execution_count": 7,
   "metadata": {},
   "outputs": [
    {
     "data": {
      "text/plain": [
       "(149208, 7)"
      ]
     },
     "execution_count": 7,
     "metadata": {},
     "output_type": "execute_result"
    }
   ],
   "source": [
    "df.shape"
   ]
  },
  {
   "cell_type": "code",
   "execution_count": 8,
   "metadata": {},
   "outputs": [
    {
     "data": {
      "text/plain": [
       "(110964, 7)"
      ]
     },
     "execution_count": 8,
     "metadata": {},
     "output_type": "execute_result"
    }
   ],
   "source": [
    "# 최소한의 반응이 있는 글들 사용\n",
    "# 좋아요 싫어요 합이 1 이상\n",
    "df = df.loc[(df['like']+df['unlike'])>=1]\n",
    "df.reset_index(drop=True,inplace=True)\n",
    "df.shape"
   ]
  },
  {
   "cell_type": "code",
   "execution_count": 9,
   "metadata": {},
   "outputs": [],
   "source": [
    "df['date'] = df['date'].apply(lambda x: pd.to_datetime(x))\n",
    "df_date = df_date['날짜']\n",
    "df_date = df_date.apply(lambda x: pd.to_datetime(str(x)))"
   ]
  },
  {
   "cell_type": "code",
   "execution_count": 10,
   "metadata": {},
   "outputs": [],
   "source": [
    "df['content'] = df['content'].apply(lambda x : x.replace('\\n',''))"
   ]
  },
  {
   "cell_type": "code",
   "execution_count": 11,
   "metadata": {},
   "outputs": [],
   "source": [
    "idx = np.where((df['date']>datetime.datetime(2017, 11, 30, 17, 50))&(df['date']<datetime.datetime(2022, 11, 30, 17,50)))"
   ]
  },
  {
   "cell_type": "code",
   "execution_count": 12,
   "metadata": {},
   "outputs": [],
   "source": [
    "df = df.iloc[idx]\n",
    "df.reset_index(drop=True,inplace=True)"
   ]
  },
  {
   "cell_type": "code",
   "execution_count": 13,
   "metadata": {},
   "outputs": [],
   "source": [
    "idx1 = np.where((df_date>=datetime.datetime(2017, 12, 1))&(df_date<=datetime.datetime(2022, 11, 30)))"
   ]
  },
  {
   "cell_type": "code",
   "execution_count": 14,
   "metadata": {},
   "outputs": [],
   "source": [
    "df_date = df_date[np.min(idx1)-1:np.max(idx1)+2]\n",
    "df_date.reset_index(drop=True,inplace=True)\n"
   ]
  },
  {
   "cell_type": "code",
   "execution_count": 16,
   "metadata": {},
   "outputs": [],
   "source": [
    "def date_category(x):\n",
    "    for i in range(len(df_date)-1):\n",
    "        if ((df_date[i] + datetime.timedelta(hours=17,minutes=50)) <= x) & (x<=(df_date[i+1] + datetime.timedelta(hours=17,minutes=49))):\n",
    "            return df_date[i+1].strftime('%Y-%m-%d')"
   ]
  },
  {
   "cell_type": "code",
   "execution_count": 17,
   "metadata": {},
   "outputs": [],
   "source": [
    "df['date_cate']= df['date'].apply(lambda x: date_category(x))"
   ]
  },
  {
   "cell_type": "code",
   "execution_count": 23,
   "metadata": {},
   "outputs": [],
   "source": [
    "df.to_csv('./../Data/boardcomment/pre_comment/comment_kia.csv',encoding='utf-8-sig')"
   ]
  },
  {
   "cell_type": "code",
   "execution_count": null,
   "metadata": {},
   "outputs": [],
   "source": []
  }
 ],
 "metadata": {
  "kernelspec": {
   "display_name": "study",
   "language": "python",
   "name": "python3"
  },
  "language_info": {
   "codemirror_mode": {
    "name": "ipython",
    "version": 3
   },
   "file_extension": ".py",
   "mimetype": "text/x-python",
   "name": "python",
   "nbconvert_exporter": "python",
   "pygments_lexer": "ipython3",
   "version": "3.10.4"
  },
  "orig_nbformat": 4,
  "vscode": {
   "interpreter": {
    "hash": "d1e21767e69694e6271cff48837b0419ac731655a1ddac958206c0399c4912a0"
   }
  }
 },
 "nbformat": 4,
 "nbformat_minor": 2
}
