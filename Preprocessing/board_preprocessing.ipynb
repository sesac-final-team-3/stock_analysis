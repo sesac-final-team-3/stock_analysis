{
 "cells": [
  {
   "cell_type": "code",
   "execution_count": 1,
   "metadata": {},
   "outputs": [],
   "source": [
    "import pandas as pd\n",
    "import os"
   ]
  },
  {
   "cell_type": "code",
   "execution_count": 2,
   "metadata": {},
   "outputs": [],
   "source": [
    "# kospi_list = {\"005380\":'현대차',\"068270\":'셀트리온',\"005930\":'삼성전자',\"000270\":'기아',\"373220\":'LG에너지솔루션',\"207940\":'삼성바이오로직스',\"000660\":'SK하이닉스',\"006400\":'삼성SDI',\"051910\":\"LG화학\",\"015760\":\"한국전력\"}\n",
    "\n",
    "kosdaq_list = {\"091990\": \"셀트리온헬스케어\",\"247540\":\"에코프로비엠\",\"066970\":\"엘앤에프\",\"263750\":\"펄어비스\",\"293490\":\"카카오게임즈\",\"112040\":\"위메이드\",\"028300\":\"HLB\",\"278280\":\"천보\",\"035760\":\"CJ ENM\",\"058470\":\"리노공업\"}"
   ]
  },
  {
   "cell_type": "code",
   "execution_count": 3,
   "metadata": {},
   "outputs": [
    {
     "name": "stdout",
     "output_type": "stream",
     "text": [
      "df_daily_028300 028300_dailyprice.csv\n",
      "df_daily_035760 035760_dailyprice.csv\n",
      "df_daily_058470 058470_dailyprice.csv\n",
      "df_daily_066970 066970_dailyprice.csv\n",
      "df_daily_091990 091990_dailyprice.csv\n",
      "df_daily_112040 112040_dailyprice.csv\n",
      "df_daily_247540 247540_dailyprice.csv\n",
      "df_daily_263750 263750_dailyprice.csv\n",
      "df_daily_278280 278280_dailyprice.csv\n",
      "df_daily_293490 293490_dailyprice.csv\n"
     ]
    }
   ],
   "source": [
    "# 일별 시세 데이터프레임 불러오기\n",
    "# daily_list=[]\n",
    "# for i in os.listdir('./../Data/daily_price/kospi'):\n",
    "#     for j in kospi_list:\n",
    "#         if j in i:\n",
    "#             globals()[f'df_daily_{j}']= pd.read_csv('./../Data/daily_price/kospi/'+i)\n",
    "#             daily_list.append(f'df_daily_{j}')\n",
    "#             print(f'df_daily_{j}',i)\n",
    "\n",
    "daily_list=[]\n",
    "for i in os.listdir('./../Data/daily_price/kosdaq'):\n",
    "    for j in kosdaq_list:\n",
    "        if j in i:\n",
    "            globals()[f'df_daily_{j}']= pd.read_csv('./../Data/daily_price/kosdaq/'+i)\n",
    "            daily_list.append(f'df_daily_{j}')\n",
    "            print(f'df_daily_{j}',i)"
   ]
  },
  {
   "cell_type": "code",
   "execution_count": 4,
   "metadata": {},
   "outputs": [
    {
     "name": "stdout",
     "output_type": "stream",
     "text": [
      "df_board_035760 comment_CJ ENM.csv\n",
      "df_board_028300 comment_HLB.csv\n",
      "df_board_058470 comment_리노공업.csv\n",
      "df_board_091990 comment_셀트리온헬스케어.csv\n",
      "df_board_247540 comment_에코프로비엠.csv\n",
      "df_board_066970 comment_엘앤에프.csv\n",
      "df_board_112040 comment_위메이드.csv\n",
      "df_board_278280 comment_천보.csv\n",
      "df_board_293490 comment_카카오게임즈.csv\n",
      "df_board_263750 comment_펄어비스.csv\n"
     ]
    }
   ],
   "source": [
    "# 종목토론방 데이터프레임 불러오기\n",
    "# board_list = []\n",
    "# for i in os.listdir('./../Data/boardcomment/pre_comment/kospi'):\n",
    "#     for j in kospi_list:\n",
    "#         if kospi_list[j] in i:\n",
    "#             globals()[f'df_board_{j}']= pd.read_csv('./../Data/boardcomment/pre_comment/kospi/'+i)\n",
    "#             board_list.append(f'df_board_{j}')\n",
    "#             print(f'df_board_{j}',i)\n",
    "\n",
    "board_list = []\n",
    "for i in os.listdir('./../Data/boardcomment/pre_comment/kosdaq'):\n",
    "    for j in kosdaq_list:\n",
    "        if kosdaq_list[j] in i:\n",
    "            globals()[f'df_board_{j}']= pd.read_csv('./../Data/boardcomment/pre_comment/kosdaq/'+i)\n",
    "            board_list.append(f'df_board_{j}')\n",
    "            print(f'df_board_{j}',i)"
   ]
  },
  {
   "cell_type": "code",
   "execution_count": 5,
   "metadata": {},
   "outputs": [],
   "source": [
    "def merge_board(df_board,df_date,title_code):\n",
    "    df_board['date_cate'] = df_board['date_cate'].apply(lambda x: pd.to_datetime(str(x)))\n",
    "    df_date['날짜'] = df_date['날짜'].apply(lambda x: pd.to_datetime(str(x)))\n",
    "    df_date['전일비_비율'] = df_date['전일비_비율'].apply(lambda x : x.replace('%','')).astype(float)\n",
    "    result = pd.merge(df_board,df_date.loc[:,['날짜','전일비_비율']], left_on ='date_cate',right_on='날짜')\n",
    "\n",
    "    result.drop('날짜',axis=1,inplace=True)\n",
    "    result['reaction'] = result['전일비_비율'].apply(lambda x: 0 if x<0 else 1)\n",
    "\n",
    "    result.to_csv(f'./../Data/boardcomment/pre_comment/pre_kospi//{str(title_code)}_tagging.csv',encoding='utf-8-sig',index=False)"
   ]
  },
  {
   "cell_type": "code",
   "execution_count": 6,
   "metadata": {},
   "outputs": [
    {
     "name": "stdout",
     "output_type": "stream",
     "text": [
      "df_board_035760 df_daily_035760 CJ ENM\n",
      "df_board_028300 df_daily_028300 HLB\n",
      "df_board_058470 df_daily_058470 리노공업\n",
      "df_board_091990 df_daily_091990 셀트리온헬스케어\n",
      "df_board_247540 df_daily_247540 에코프로비엠\n",
      "df_board_066970 df_daily_066970 엘앤에프\n",
      "df_board_112040 df_daily_112040 위메이드\n",
      "df_board_278280 df_daily_278280 천보\n",
      "df_board_293490 df_daily_293490 카카오게임즈\n",
      "df_board_263750 df_daily_263750 펄어비스\n"
     ]
    }
   ],
   "source": [
    "for i in board_list:\n",
    "    for j in daily_list:\n",
    "        if i[-6:] == j[-6:]:\n",
    "            title_code = i[-6:]\n",
    "            print(i,j,kosdaq_list[title_code])"
   ]
  },
  {
   "cell_type": "code",
   "execution_count": 7,
   "metadata": {},
   "outputs": [],
   "source": [
    "merge_board(df_board_035760, df_daily_035760, 'CJ ENM')\n",
    "merge_board(df_board_028300, df_daily_028300, 'HLB')\n",
    "merge_board(df_board_058470, df_daily_058470, '리노공업')\n",
    "merge_board(df_board_091990, df_daily_091990, '셀트리온헬스케어')\n",
    "merge_board(df_board_247540, df_daily_247540, '에코프로비엠')\n",
    "merge_board(df_board_066970, df_daily_066970, '엘앤에프')\n",
    "merge_board(df_board_112040, df_daily_112040, '위메이드')\n",
    "merge_board(df_board_278280, df_daily_278280, '천보')\n",
    "merge_board(df_board_293490, df_daily_293490, '카카오게임즈')\n",
    "merge_board(df_board_263750, df_daily_263750, '펄어비스')"
   ]
  },
  {
   "cell_type": "code",
   "execution_count": null,
   "metadata": {},
   "outputs": [],
   "source": []
  }
 ],
 "metadata": {
  "kernelspec": {
   "display_name": "study",
   "language": "python",
   "name": "python3"
  },
  "language_info": {
   "codemirror_mode": {
    "name": "ipython",
    "version": 3
   },
   "file_extension": ".py",
   "mimetype": "text/x-python",
   "name": "python",
   "nbconvert_exporter": "python",
   "pygments_lexer": "ipython3",
   "version": "3.10.4"
  },
  "orig_nbformat": 4,
  "vscode": {
   "interpreter": {
    "hash": "d1e21767e69694e6271cff48837b0419ac731655a1ddac958206c0399c4912a0"
   }
  }
 },
 "nbformat": 4,
 "nbformat_minor": 2
}
