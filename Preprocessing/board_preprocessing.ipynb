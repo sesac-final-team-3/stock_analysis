{
 "cells": [
  {
   "cell_type": "code",
   "execution_count": 1,
   "metadata": {},
   "outputs": [],
   "source": [
    "import pandas as pd\n",
    "import os"
   ]
  },
  {
   "cell_type": "code",
   "execution_count": 2,
   "metadata": {},
   "outputs": [],
   "source": [
    "kospi_list = {\"005380\":'현대차',\"068270\":'셀트리온',\"005930\":'삼성전자',\"000270\":'기아',\"373220\":'LG에너지솔루션',\"207940\":'삼성바이오로직스',\"000660\":'SK하이닉스',\"006400\":'삼성SDI',\"051910\":\"LG화학\",\"015760\":\"한국전력\"}"
   ]
  },
  {
   "cell_type": "code",
   "execution_count": 3,
   "metadata": {},
   "outputs": [
    {
     "name": "stdout",
     "output_type": "stream",
     "text": [
      "df_daily_000270 000270_dailyprice.csv\n",
      "df_daily_000660 000660_dailyprice.csv\n",
      "df_daily_005380 005380_dailyprice.csv\n",
      "df_daily_005930 005930_dailyprice.csv\n",
      "df_daily_006400 006400_dailyprice.csv\n",
      "df_daily_015760 015760_dailyprice.csv\n",
      "df_daily_051910 051910_dailyprice.csv\n",
      "df_daily_068270 068270_dailyprice.csv\n",
      "df_daily_207940 207940_dailyprice.csv\n",
      "df_daily_373220 373220_dailyprice.csv\n"
     ]
    }
   ],
   "source": [
    "# 일별 시세 데이터프레임 불러오기\n",
    "daily_list=[]\n",
    "for i in os.listdir('./../Data/daily_price/kospi'):\n",
    "    for j in kospi_list:\n",
    "        if j in i:\n",
    "            globals()[f'df_daily_{j}']= pd.read_csv('./../Data/daily_price/kospi/'+i)\n",
    "            daily_list.append(f'df_daily_{j}')\n",
    "            print(f'df_daily_{j}',i)"
   ]
  },
  {
   "cell_type": "code",
   "execution_count": 8,
   "metadata": {},
   "outputs": [
    {
     "name": "stdout",
     "output_type": "stream",
     "text": [
      "df_board_373220 comment_LG에너지솔루션.csv\n",
      "df_board_051910 comment_LG화학.csv\n",
      "df_board_000660 comment_SK하이닉스.csv\n",
      "df_board_000270 comment_기아.csv\n",
      "df_board_006400 comment_삼성SDI.csv\n",
      "df_board_207940 comment_삼성바이오로직스.csv\n",
      "df_board_005930 comment_삼성전자.csv\n",
      "df_board_068270 comment_셀트리온.csv\n",
      "df_board_015760 comment_한국전력.csv\n",
      "df_board_005380 comment_현대차.csv\n"
     ]
    }
   ],
   "source": [
    "# 종목토론방 데이터프레임 불러오기\n",
    "board_list = []\n",
    "for i in os.listdir('./../Data/boardcomment/pre_comment/kospi'):\n",
    "    for j in kospi_list:\n",
    "        if kospi_list[j] in i:\n",
    "            globals()[f'df_board_{j}']= pd.read_csv('./../Data/boardcomment/pre_comment/kospi/'+i)\n",
    "            board_list.append(f'df_board_{j}')\n",
    "            print(f'df_board_{j}',i)"
   ]
  },
  {
   "cell_type": "code",
   "execution_count": 5,
   "metadata": {},
   "outputs": [],
   "source": [
    "def merge_board(df_board,df_date,title_code):\n",
    "    df_board['date_cate'] = df_board['date_cate'].apply(lambda x: pd.to_datetime(str(x)))\n",
    "    df_date['날짜'] = df_date['날짜'].apply(lambda x: pd.to_datetime(str(x)))\n",
    "    df_date['전일비_비율'] = df_date['전일비_비율'].apply(lambda x : x.replace('%','')).astype(float)\n",
    "    result = pd.merge(df_board,df_date.loc[:,['날짜','전일비_비율']], left_on ='date_cate',right_on='날짜')\n",
    "\n",
    "    result.drop('날짜',axis=1,inplace=True)\n",
    "    result['reaction'] = result['전일비_비율'].apply(lambda x: 0 if x<0 else 1)\n",
    "\n",
    "    result.to_csv(f'./../Data/boardcomment/pre_comment/pre_kospi//{str(title_code)}_tagging.csv',encoding='utf-8-sig',index=False)"
   ]
  },
  {
   "cell_type": "code",
   "execution_count": 6,
   "metadata": {},
   "outputs": [
    {
     "name": "stdout",
     "output_type": "stream",
     "text": [
      "df_board_373220 df_daily_373220 LG에너지솔루션\n",
      "df_board_051910 df_daily_051910 LG화학\n",
      "df_board_000660 df_daily_000660 SK하이닉스\n",
      "df_board_000270 df_daily_000270 기아\n",
      "df_board_006400 df_daily_006400 삼성SDI\n",
      "df_board_207940 df_daily_207940 삼성바이오로직스\n",
      "df_board_005930 df_daily_005930 삼성전자\n",
      "df_board_068270 df_daily_068270 셀트리온\n",
      "df_board_015760 df_daily_015760 한국전력\n",
      "df_board_005380 df_daily_005380 현대차\n"
     ]
    }
   ],
   "source": [
    "for i in board_list:\n",
    "    for j in daily_list:\n",
    "        if i[-6:] == j[-6:]:\n",
    "            title_code = i[-6:]\n",
    "            print(i,j,kospi_list[title_code])"
   ]
  },
  {
   "cell_type": "code",
   "execution_count": 7,
   "metadata": {},
   "outputs": [],
   "source": [
    "merge_board(df_board_373220, df_daily_373220, 'LG에너지솔루션')\n",
    "merge_board(df_board_051910, df_daily_051910, 'LG화학')\n",
    "merge_board(df_board_000660, df_daily_000660, 'SK하이닉스')\n",
    "merge_board(df_board_000270, df_daily_000270, '기아')\n",
    "merge_board(df_board_006400, df_daily_006400, '삼성SDI')\n",
    "merge_board(df_board_207940, df_daily_207940, '삼성바이오로직스')\n",
    "merge_board(df_board_005930, df_daily_005930, '삼성전자')\n",
    "merge_board(df_board_068270, df_daily_068270, '셀트리온')\n",
    "merge_board(df_board_005380, df_daily_005380, '현대차')\n",
    "merge_board(df_board_015760, df_daily_015760, '한국전력')"
   ]
  },
  {
   "cell_type": "code",
   "execution_count": null,
   "metadata": {},
   "outputs": [],
   "source": []
  }
 ],
 "metadata": {
  "kernelspec": {
   "display_name": "study",
   "language": "python",
   "name": "python3"
  },
  "language_info": {
   "codemirror_mode": {
    "name": "ipython",
    "version": 3
   },
   "file_extension": ".py",
   "mimetype": "text/x-python",
   "name": "python",
   "nbconvert_exporter": "python",
   "pygments_lexer": "ipython3",
   "version": "3.10.4"
  },
  "orig_nbformat": 4,
  "vscode": {
   "interpreter": {
    "hash": "d1e21767e69694e6271cff48837b0419ac731655a1ddac958206c0399c4912a0"
   }
  }
 },
 "nbformat": 4,
 "nbformat_minor": 2
}
