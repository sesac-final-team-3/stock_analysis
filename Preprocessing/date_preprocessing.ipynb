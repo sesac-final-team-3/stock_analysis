{
 "cells": [
  {
   "cell_type": "code",
   "execution_count": 8,
   "metadata": {},
   "outputs": [],
   "source": [
    "import pandas as pd\n",
    "import numpy as np\n",
    "import datetime\n",
    "import time\n",
    "import os"
   ]
  },
  {
   "attachments": {},
   "cell_type": "markdown",
   "metadata": {},
   "source": [
    "종목토론방 date tagging"
   ]
  },
  {
   "cell_type": "code",
   "execution_count": 2,
   "metadata": {},
   "outputs": [
    {
     "name": "stderr",
     "output_type": "stream",
     "text": [
      "C:\\Users\\seon\\AppData\\Local\\Temp\\ipykernel_25176\\1908212109.py:1: DeprecationWarning: `np.str` is a deprecated alias for the builtin `str`. To silence this warning, use `str` by itself. Doing this will not modify any behavior and is safe. If you specifically wanted the numpy scalar type, use `np.str_` here.\n",
      "Deprecated in NumPy 1.20; for more details and guidance: https://numpy.org/devdocs/release/1.20.0-notes.html#deprecations\n",
      "  df = pd.read_csv('./../Data/boardcomment/boardcomment_kia.csv',dtype={'com_code': np.str,'comment': np.str})\n"
     ]
    }
   ],
   "source": [
    "df_board = pd.read_csv('./../Data/boardcomment/boardcomment_kia.csv',dtype={'com_code': np.str,'comment': np.str})\n",
    "df_date = pd.read_csv('./../Data/주가_휴장일추출.csv')"
   ]
  },
  {
   "cell_type": "code",
   "execution_count": 3,
   "metadata": {},
   "outputs": [],
   "source": [
    "df_board.rename(columns={'com_code':'code','comment':'content','decommend':'unlike','recommend':'like','view':'view_count'},inplace=True)\n",
    "df_board=df_board[['code', 'title', 'content', 'date', 'like', 'unlike','view_count']]"
   ]
  },
  {
   "cell_type": "code",
   "execution_count": 4,
   "metadata": {},
   "outputs": [
    {
     "data": {
      "text/html": [
       "<div>\n",
       "<style scoped>\n",
       "    .dataframe tbody tr th:only-of-type {\n",
       "        vertical-align: middle;\n",
       "    }\n",
       "\n",
       "    .dataframe tbody tr th {\n",
       "        vertical-align: top;\n",
       "    }\n",
       "\n",
       "    .dataframe thead th {\n",
       "        text-align: right;\n",
       "    }\n",
       "</style>\n",
       "<table border=\"1\" class=\"dataframe\">\n",
       "  <thead>\n",
       "    <tr style=\"text-align: right;\">\n",
       "      <th></th>\n",
       "      <th>code</th>\n",
       "      <th>title</th>\n",
       "      <th>content</th>\n",
       "      <th>date</th>\n",
       "      <th>like</th>\n",
       "      <th>unlike</th>\n",
       "      <th>view_count</th>\n",
       "    </tr>\n",
       "  </thead>\n",
       "  <tbody>\n",
       "    <tr>\n",
       "      <th>0</th>\n",
       "      <td>000270</td>\n",
       "      <td>공매도 이기고 가면 올라갈 수는 있음 ㅋ</td>\n",
       "      <td>어찌하냐?</td>\n",
       "      <td>2022.12.21 14:29</td>\n",
       "      <td>1</td>\n",
       "      <td>0</td>\n",
       "      <td>564</td>\n",
       "    </tr>\n",
       "    <tr>\n",
       "      <th>1</th>\n",
       "      <td>000270</td>\n",
       "      <td>기아 다시 9만 가즈아아아아</td>\n",
       "      <td>가즈아 가즈아 애국기아 민노 out</td>\n",
       "      <td>2022.12.21 14:20</td>\n",
       "      <td>5</td>\n",
       "      <td>2</td>\n",
       "      <td>664</td>\n",
       "    </tr>\n",
       "    <tr>\n",
       "      <th>2</th>\n",
       "      <td>000270</td>\n",
       "      <td>기관과 외국인 지들끼리 놀아라 하고</td>\n",
       "      <td>개미는 발빼자 개미할배는 발뺀지 오래다</td>\n",
       "      <td>2022.12.21 14:29</td>\n",
       "      <td>1</td>\n",
       "      <td>1</td>\n",
       "      <td>569</td>\n",
       "    </tr>\n",
       "    <tr>\n",
       "      <th>3</th>\n",
       "      <td>000270</td>\n",
       "      <td>앞으로 사재기 없다, 공장 지을 때 참고 하세요.</td>\n",
       "      <td>it's this both of all i 'm very consider\\nthe ...</td>\n",
       "      <td>2022.12.21 14:29</td>\n",
       "      <td>1</td>\n",
       "      <td>0</td>\n",
       "      <td>588</td>\n",
       "    </tr>\n",
       "    <tr>\n",
       "      <th>4</th>\n",
       "      <td>000270</td>\n",
       "      <td>외국인들</td>\n",
       "      <td>외국인들\\n어제 사는 척 개미 꼬시기 해놓고\\n오늘 거래량도 없이 매도하는 거 봐라...</td>\n",
       "      <td>2022.12.21 14:36</td>\n",
       "      <td>2</td>\n",
       "      <td>0</td>\n",
       "      <td>598</td>\n",
       "    </tr>\n",
       "  </tbody>\n",
       "</table>\n",
       "</div>"
      ],
      "text/plain": [
       "     code                        title  \\\n",
       "0  000270       공매도 이기고 가면 올라갈 수는 있음 ㅋ   \n",
       "1  000270              기아 다시 9만 가즈아아아아   \n",
       "2  000270          기관과 외국인 지들끼리 놀아라 하고   \n",
       "3  000270  앞으로 사재기 없다, 공장 지을 때 참고 하세요.   \n",
       "4  000270                        외국인들    \n",
       "\n",
       "                                             content              date  like  \\\n",
       "0                                              어찌하냐?  2022.12.21 14:29     1   \n",
       "1                                가즈아 가즈아 애국기아 민노 out  2022.12.21 14:20     5   \n",
       "2                              개미는 발빼자 개미할배는 발뺀지 오래다  2022.12.21 14:29     1   \n",
       "3  it's this both of all i 'm very consider\\nthe ...  2022.12.21 14:29     1   \n",
       "4  외국인들\\n어제 사는 척 개미 꼬시기 해놓고\\n오늘 거래량도 없이 매도하는 거 봐라...  2022.12.21 14:36     2   \n",
       "\n",
       "   unlike  view_count  \n",
       "0       0         564  \n",
       "1       2         664  \n",
       "2       1         569  \n",
       "3       0         588  \n",
       "4       0         598  "
      ]
     },
     "execution_count": 4,
     "metadata": {},
     "output_type": "execute_result"
    }
   ],
   "source": [
    "df_board.head()"
   ]
  },
  {
   "cell_type": "code",
   "execution_count": 5,
   "metadata": {},
   "outputs": [
    {
     "data": {
      "text/plain": [
       "(149210, 7)"
      ]
     },
     "execution_count": 5,
     "metadata": {},
     "output_type": "execute_result"
    }
   ],
   "source": [
    "df_board.shape"
   ]
  },
  {
   "cell_type": "code",
   "execution_count": null,
   "metadata": {},
   "outputs": [],
   "source": [
    "df_board.isnull().sum()"
   ]
  },
  {
   "cell_type": "code",
   "execution_count": 6,
   "metadata": {},
   "outputs": [],
   "source": [
    "df_board.dropna(inplace=True)"
   ]
  },
  {
   "cell_type": "code",
   "execution_count": 7,
   "metadata": {},
   "outputs": [
    {
     "data": {
      "text/plain": [
       "(149208, 7)"
      ]
     },
     "execution_count": 7,
     "metadata": {},
     "output_type": "execute_result"
    }
   ],
   "source": [
    "df_board.shape"
   ]
  },
  {
   "cell_type": "code",
   "execution_count": 8,
   "metadata": {},
   "outputs": [
    {
     "data": {
      "text/plain": [
       "(110964, 7)"
      ]
     },
     "execution_count": 8,
     "metadata": {},
     "output_type": "execute_result"
    }
   ],
   "source": [
    "# 최소한의 반응이 있는 글들 사용\n",
    "# 좋아요 싫어요 합이 1 이상\n",
    "df_board = df_board.loc[(df_board['like']+df_board['unlike'])>=1]\n",
    "df_board.reset_index(drop=True,inplace=True)\n",
    "df_board.shape"
   ]
  },
  {
   "cell_type": "code",
   "execution_count": 9,
   "metadata": {},
   "outputs": [],
   "source": [
    "df_board['date'] = df_board['date'].apply(lambda x: pd.to_datetime(x))\n",
    "df_date = df_date['날짜']\n",
    "df_date = df_date.apply(lambda x: pd.to_datetime(str(x)))"
   ]
  },
  {
   "cell_type": "code",
   "execution_count": 10,
   "metadata": {},
   "outputs": [],
   "source": [
    "df_board['content'] = df_board['content'].apply(lambda x : x.replace('\\n',''))"
   ]
  },
  {
   "cell_type": "code",
   "execution_count": 11,
   "metadata": {},
   "outputs": [],
   "source": [
    "idx = np.where((df_board['date']>datetime.datetime(2017, 11, 30, 17, 50))&(df_board['date']<datetime.datetime(2022, 11, 30, 17,50)))"
   ]
  },
  {
   "cell_type": "code",
   "execution_count": 12,
   "metadata": {},
   "outputs": [],
   "source": [
    "df_board = df_board.iloc[idx]\n",
    "df_board.reset_index(drop=True,inplace=True)"
   ]
  },
  {
   "cell_type": "code",
   "execution_count": 13,
   "metadata": {},
   "outputs": [],
   "source": [
    "idx1 = np.where((df_date>=datetime.datetime(2017, 12, 1))&(df_date<=datetime.datetime(2022, 11, 30)))"
   ]
  },
  {
   "cell_type": "code",
   "execution_count": 14,
   "metadata": {},
   "outputs": [],
   "source": [
    "df_date = df_date[np.min(idx1)-1:np.max(idx1)+2]\n",
    "df_date.reset_index(drop=True,inplace=True)\n"
   ]
  },
  {
   "cell_type": "code",
   "execution_count": 16,
   "metadata": {},
   "outputs": [],
   "source": [
    "def date_category(x):\n",
    "    for i in range(len(df_date)-1):\n",
    "        if ((df_date[i] + datetime.timedelta(hours=17,minutes=50)) <= x) & (x<=(df_date[i+1] + datetime.timedelta(hours=17,minutes=49))):\n",
    "            return df_date[i+1].strftime('%Y-%m-%d')"
   ]
  },
  {
   "cell_type": "code",
   "execution_count": 17,
   "metadata": {},
   "outputs": [],
   "source": [
    "df_board['date_cate']= df_board['date'].apply(lambda x: date_category(x))"
   ]
  },
  {
   "cell_type": "code",
   "execution_count": 23,
   "metadata": {},
   "outputs": [],
   "source": [
    "df_board.to_csv('./../Data/boardcomment/pre_comment/comment_kia.csv',encoding='utf-8-sig')"
   ]
  },
  {
   "attachments": {},
   "cell_type": "markdown",
   "metadata": {},
   "source": [
    "뉴스 date tagging"
   ]
  },
  {
   "cell_type": "code",
   "execution_count": 2,
   "metadata": {},
   "outputs": [],
   "source": [
    "# 네이버 일단 제외\"035420\":\"NAVER\"\n",
    "kospi_list = {\"005380\":'현대차',\"068270\":'셀트리온',\"005930\":'삼성전자',\"000270\":'기아',\"373220\":'LG에너지솔루션',\"207940\":'삼성바이오로직스',\"000660\":'SK하이닉스',\"006400\":'삼성SDI',\"051910\":\"LG화학\"}"
   ]
  },
  {
   "cell_type": "code",
   "execution_count": null,
   "metadata": {},
   "outputs": [],
   "source": [
    "# 일별 시세 데이터프레임 불러오기\n",
    "daily_list=[]\n",
    "for i in os.listdir('./../Data/daily_price/kospi'):\n",
    "    for j in kospi_list:\n",
    "        if j in i:\n",
    "            globals()[f'df_daily_{j}']= pd.read_csv('./../Data/daily_price/kospi/'+i)\n",
    "            daily_list.append(f'df_daily_{j}')\n",
    "            print(f'df_daily_{j}',i)"
   ]
  },
  {
   "cell_type": "code",
   "execution_count": null,
   "metadata": {},
   "outputs": [],
   "source": [
    "# 뉴스 데이터프레임 불러오기\n",
    "news_list = []\n",
    "for i in os.listdir('./../Data/news'):\n",
    "    for j in kospi_list:\n",
    "        if kospi_list[j] in i:\n",
    "            globals()[f'df_news_{j}']= pd.read_csv('./../Data/news/'+i)\n",
    "            news_list.append(f'df_news_{j}')\n",
    "            print(f'df_news_{j}',i)"
   ]
  },
  {
   "cell_type": "code",
   "execution_count": null,
   "metadata": {},
   "outputs": [],
   "source": [
    "def date_category(x,df_date):\n",
    "    for i in range(len(df_date)-1):\n",
    "        if ((df_date['날짜'][i] + datetime.timedelta(hours=17,minutes=50)) <= x) & (x<=(df_date['날짜'][i+1] + datetime.timedelta(hours=17,minutes=49))):\n",
    "            return df_date['날짜'][i+1].strftime('%Y-%m-%d')"
   ]
  },
  {
   "cell_type": "code",
   "execution_count": null,
   "metadata": {},
   "outputs": [],
   "source": [
    "def merge_news(df_news,df_date,title_code):\n",
    "    df_news['date_hour'] = df_news['date_hour'].apply(lambda x: pd.to_datetime(x))\n",
    "\n",
    "    df_date['날짜'] = df_date['날짜'].apply(lambda x: pd.to_datetime(str(x)))\n",
    "\n",
    "    idx = np.where((df_news['date_hour']>=datetime.datetime(2017, 11, 30, 17, 50))&(df_news['date_hour']<datetime.datetime(2022, 11, 30, 17,50)))\n",
    "    df_news = df_news.iloc[idx]\n",
    "    df_news.reset_index(drop=True,inplace=True)\n",
    "\n",
    "\n",
    "    idx1 = np.where((df_date['날짜']>=datetime.datetime(2017, 12, 1))&(df_date['날짜']<datetime.datetime(2022, 11, 30)))\n",
    "\n",
    "\n",
    "    if np.min(idx1) != 0:\n",
    "        df_date = df_date[np.min(idx1)-1:np.max(idx1)+2]\n",
    "        df_date.reset_index(drop=True,inplace=True)\n",
    "    else:\n",
    "        df_date = df_date[np.min(idx1):np.max(idx1)+2]\n",
    "        df_date.reset_index(drop=True,inplace=True)\n",
    "\n",
    "\n",
    "    df_news['date_cate']= df_news['date_hour'].apply(lambda x: date_category(x,df_date))\n",
    "\n",
    "    df_date['전일비_비율'] = df_date['전일비_비율'].apply(lambda x : x.replace('%','')).astype(float)\n",
    "    \n",
    "    df_date['standard']=(df_date['전일비_비율']-np.mean(df_date['전일비_비율']))/np.std(df_date['전일비_비율'])\n",
    "    df_date['standeard_tagging0.5'] = df_date['standard'].apply(lambda x: 0 if x<-1 else\n",
    "                                                                        1 if x<-0.5 else\n",
    "                                                                        2 if x<0.5 else\n",
    "                                                                        3 if x<1 else\n",
    "                                                                        4 )\n",
    "    temp_df = df_date.loc[:,['날짜','전일비_비율','standard','standeard_tagging0.5']]\n",
    "    temp_df['날짜'] = temp_df['날짜'].astype(str)\n",
    "\n",
    "    result = pd.merge(df_news,temp_df, left_on ='date_cate',right_on='날짜')\n",
    "\n",
    "    result.to_csv(f'./../Data/news_tagging/{str(title_code)}_tagging.csv',encoding='utf-8-sig',index=False)"
   ]
  },
  {
   "cell_type": "code",
   "execution_count": null,
   "metadata": {},
   "outputs": [],
   "source": [
    "for i in news_list:\n",
    "    for j in daily_list:\n",
    "        if i[-6:] == j[-6:]:\n",
    "            title_code = i[-6:]\n",
    "            print(i,j,kospi_list[title_code])"
   ]
  },
  {
   "cell_type": "code",
   "execution_count": null,
   "metadata": {},
   "outputs": [],
   "source": [
    "merge_news(df_news_373220, df_daily_373220, 'LG에너지솔루션')\n",
    "merge_news(df_news_051910, df_daily_051910, 'LG화학')\n",
    "merge_news(df_news_000660, df_daily_000660, 'SK하이닉스')\n",
    "merge_news(df_news_000270, df_daily_000270, '기아')\n",
    "merge_news(df_news_006400, df_daily_006400, '삼성SDI')\n",
    "merge_news(df_news_207940, df_daily_207940, '삼성바이오로직스')\n",
    "merge_news(df_news_005930, df_daily_005930, '삼성전자')\n",
    "merge_news(df_news_068270, df_daily_068270, '셀트리온')\n",
    "merge_news(df_news_005380, df_daily_005380, '현대차')"
   ]
  },
  {
   "cell_type": "code",
   "execution_count": null,
   "metadata": {},
   "outputs": [],
   "source": []
  }
 ],
 "metadata": {
  "kernelspec": {
   "display_name": "study",
   "language": "python",
   "name": "python3"
  },
  "language_info": {
   "codemirror_mode": {
    "name": "ipython",
    "version": 3
   },
   "file_extension": ".py",
   "mimetype": "text/x-python",
   "name": "python",
   "nbconvert_exporter": "python",
   "pygments_lexer": "ipython3",
   "version": "3.10.4"
  },
  "orig_nbformat": 4,
  "vscode": {
   "interpreter": {
    "hash": "d1e21767e69694e6271cff48837b0419ac731655a1ddac958206c0399c4912a0"
   }
  }
 },
 "nbformat": 4,
 "nbformat_minor": 2
}
