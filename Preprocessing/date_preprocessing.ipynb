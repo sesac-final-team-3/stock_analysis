{
 "cells": [
  {
   "cell_type": "code",
   "execution_count": 1,
   "metadata": {},
   "outputs": [],
   "source": [
    "import pandas as pd\n",
    "import numpy as np\n",
    "import datetime\n",
    "import time"
   ]
  },
  {
   "attachments": {},
   "cell_type": "markdown",
   "metadata": {},
   "source": [
    "종목토론방 date tagging"
   ]
  },
  {
   "cell_type": "code",
   "execution_count": 2,
   "metadata": {},
   "outputs": [
    {
     "name": "stderr",
     "output_type": "stream",
     "text": [
      "C:\\Users\\seon\\AppData\\Local\\Temp\\ipykernel_25176\\1908212109.py:1: DeprecationWarning: `np.str` is a deprecated alias for the builtin `str`. To silence this warning, use `str` by itself. Doing this will not modify any behavior and is safe. If you specifically wanted the numpy scalar type, use `np.str_` here.\n",
      "Deprecated in NumPy 1.20; for more details and guidance: https://numpy.org/devdocs/release/1.20.0-notes.html#deprecations\n",
      "  df = pd.read_csv('./../Data/boardcomment/boardcomment_kia.csv',dtype={'com_code': np.str,'comment': np.str})\n"
     ]
    }
   ],
   "source": [
    "df_board = pd.read_csv('./../Data/boardcomment/boardcomment_kia.csv',dtype={'com_code': np.str,'comment': np.str})\n",
    "df_date = pd.read_csv('./../Data/주가_휴장일추출.csv')"
   ]
  },
  {
   "cell_type": "code",
   "execution_count": 3,
   "metadata": {},
   "outputs": [],
   "source": [
    "df_board.rename(columns={'com_code':'code','comment':'content','decommend':'unlike','recommend':'like','view':'view_count'},inplace=True)\n",
    "df_board=df_board[['code', 'title', 'content', 'date', 'like', 'unlike','view_count']]"
   ]
  },
  {
   "cell_type": "code",
   "execution_count": 4,
   "metadata": {},
   "outputs": [
    {
     "data": {
      "text/html": [
       "<div>\n",
       "<style scoped>\n",
       "    .dataframe tbody tr th:only-of-type {\n",
       "        vertical-align: middle;\n",
       "    }\n",
       "\n",
       "    .dataframe tbody tr th {\n",
       "        vertical-align: top;\n",
       "    }\n",
       "\n",
       "    .dataframe thead th {\n",
       "        text-align: right;\n",
       "    }\n",
       "</style>\n",
       "<table border=\"1\" class=\"dataframe\">\n",
       "  <thead>\n",
       "    <tr style=\"text-align: right;\">\n",
       "      <th></th>\n",
       "      <th>code</th>\n",
       "      <th>title</th>\n",
       "      <th>content</th>\n",
       "      <th>date</th>\n",
       "      <th>like</th>\n",
       "      <th>unlike</th>\n",
       "      <th>view_count</th>\n",
       "    </tr>\n",
       "  </thead>\n",
       "  <tbody>\n",
       "    <tr>\n",
       "      <th>0</th>\n",
       "      <td>000270</td>\n",
       "      <td>공매도 이기고 가면 올라갈 수는 있음 ㅋ</td>\n",
       "      <td>어찌하냐?</td>\n",
       "      <td>2022.12.21 14:29</td>\n",
       "      <td>1</td>\n",
       "      <td>0</td>\n",
       "      <td>564</td>\n",
       "    </tr>\n",
       "    <tr>\n",
       "      <th>1</th>\n",
       "      <td>000270</td>\n",
       "      <td>기아 다시 9만 가즈아아아아</td>\n",
       "      <td>가즈아 가즈아 애국기아 민노 out</td>\n",
       "      <td>2022.12.21 14:20</td>\n",
       "      <td>5</td>\n",
       "      <td>2</td>\n",
       "      <td>664</td>\n",
       "    </tr>\n",
       "    <tr>\n",
       "      <th>2</th>\n",
       "      <td>000270</td>\n",
       "      <td>기관과 외국인 지들끼리 놀아라 하고</td>\n",
       "      <td>개미는 발빼자 개미할배는 발뺀지 오래다</td>\n",
       "      <td>2022.12.21 14:29</td>\n",
       "      <td>1</td>\n",
       "      <td>1</td>\n",
       "      <td>569</td>\n",
       "    </tr>\n",
       "    <tr>\n",
       "      <th>3</th>\n",
       "      <td>000270</td>\n",
       "      <td>앞으로 사재기 없다, 공장 지을 때 참고 하세요.</td>\n",
       "      <td>it's this both of all i 'm very consider\\nthe ...</td>\n",
       "      <td>2022.12.21 14:29</td>\n",
       "      <td>1</td>\n",
       "      <td>0</td>\n",
       "      <td>588</td>\n",
       "    </tr>\n",
       "    <tr>\n",
       "      <th>4</th>\n",
       "      <td>000270</td>\n",
       "      <td>외국인들</td>\n",
       "      <td>외국인들\\n어제 사는 척 개미 꼬시기 해놓고\\n오늘 거래량도 없이 매도하는 거 봐라...</td>\n",
       "      <td>2022.12.21 14:36</td>\n",
       "      <td>2</td>\n",
       "      <td>0</td>\n",
       "      <td>598</td>\n",
       "    </tr>\n",
       "  </tbody>\n",
       "</table>\n",
       "</div>"
      ],
      "text/plain": [
       "     code                        title  \\\n",
       "0  000270       공매도 이기고 가면 올라갈 수는 있음 ㅋ   \n",
       "1  000270              기아 다시 9만 가즈아아아아   \n",
       "2  000270          기관과 외국인 지들끼리 놀아라 하고   \n",
       "3  000270  앞으로 사재기 없다, 공장 지을 때 참고 하세요.   \n",
       "4  000270                        외국인들    \n",
       "\n",
       "                                             content              date  like  \\\n",
       "0                                              어찌하냐?  2022.12.21 14:29     1   \n",
       "1                                가즈아 가즈아 애국기아 민노 out  2022.12.21 14:20     5   \n",
       "2                              개미는 발빼자 개미할배는 발뺀지 오래다  2022.12.21 14:29     1   \n",
       "3  it's this both of all i 'm very consider\\nthe ...  2022.12.21 14:29     1   \n",
       "4  외국인들\\n어제 사는 척 개미 꼬시기 해놓고\\n오늘 거래량도 없이 매도하는 거 봐라...  2022.12.21 14:36     2   \n",
       "\n",
       "   unlike  view_count  \n",
       "0       0         564  \n",
       "1       2         664  \n",
       "2       1         569  \n",
       "3       0         588  \n",
       "4       0         598  "
      ]
     },
     "execution_count": 4,
     "metadata": {},
     "output_type": "execute_result"
    }
   ],
   "source": [
    "df_board.head()"
   ]
  },
  {
   "cell_type": "code",
   "execution_count": 5,
   "metadata": {},
   "outputs": [
    {
     "data": {
      "text/plain": [
       "(149210, 7)"
      ]
     },
     "execution_count": 5,
     "metadata": {},
     "output_type": "execute_result"
    }
   ],
   "source": [
    "df_board.shape"
   ]
  },
  {
   "cell_type": "code",
   "execution_count": null,
   "metadata": {},
   "outputs": [],
   "source": [
    "df_board.isnull().sum()"
   ]
  },
  {
   "cell_type": "code",
   "execution_count": 6,
   "metadata": {},
   "outputs": [],
   "source": [
    "df_board.dropna(inplace=True)"
   ]
  },
  {
   "cell_type": "code",
   "execution_count": 7,
   "metadata": {},
   "outputs": [
    {
     "data": {
      "text/plain": [
       "(149208, 7)"
      ]
     },
     "execution_count": 7,
     "metadata": {},
     "output_type": "execute_result"
    }
   ],
   "source": [
    "df_board.shape"
   ]
  },
  {
   "cell_type": "code",
   "execution_count": 8,
   "metadata": {},
   "outputs": [
    {
     "data": {
      "text/plain": [
       "(110964, 7)"
      ]
     },
     "execution_count": 8,
     "metadata": {},
     "output_type": "execute_result"
    }
   ],
   "source": [
    "# 최소한의 반응이 있는 글들 사용\n",
    "# 좋아요 싫어요 합이 1 이상\n",
    "df_board = df_board.loc[(df_board['like']+df_board['unlike'])>=1]\n",
    "df_board.reset_index(drop=True,inplace=True)\n",
    "df_board.shape"
   ]
  },
  {
   "cell_type": "code",
   "execution_count": 9,
   "metadata": {},
   "outputs": [],
   "source": [
    "df_board['date'] = df_board['date'].apply(lambda x: pd.to_datetime(x))\n",
    "df_date = df_date['날짜']\n",
    "df_date = df_date.apply(lambda x: pd.to_datetime(str(x)))"
   ]
  },
  {
   "cell_type": "code",
   "execution_count": 10,
   "metadata": {},
   "outputs": [],
   "source": [
    "df_board['content'] = df_board['content'].apply(lambda x : x.replace('\\n',''))"
   ]
  },
  {
   "cell_type": "code",
   "execution_count": 11,
   "metadata": {},
   "outputs": [],
   "source": [
    "idx = np.where((df_board['date']>datetime.datetime(2017, 11, 30, 17, 50))&(df_board['date']<datetime.datetime(2022, 11, 30, 17,50)))"
   ]
  },
  {
   "cell_type": "code",
   "execution_count": 12,
   "metadata": {},
   "outputs": [],
   "source": [
    "df_board = df_board.iloc[idx]\n",
    "df_board.reset_index(drop=True,inplace=True)"
   ]
  },
  {
   "cell_type": "code",
   "execution_count": 13,
   "metadata": {},
   "outputs": [],
   "source": [
    "idx1 = np.where((df_date>=datetime.datetime(2017, 12, 1))&(df_date<=datetime.datetime(2022, 11, 30)))"
   ]
  },
  {
   "cell_type": "code",
   "execution_count": 14,
   "metadata": {},
   "outputs": [],
   "source": [
    "df_date = df_date[np.min(idx1)-1:np.max(idx1)+2]\n",
    "df_date.reset_index(drop=True,inplace=True)\n"
   ]
  },
  {
   "cell_type": "code",
   "execution_count": 16,
   "metadata": {},
   "outputs": [],
   "source": [
    "def date_category(x):\n",
    "    for i in range(len(df_date)-1):\n",
    "        if ((df_date[i] + datetime.timedelta(hours=17,minutes=50)) <= x) & (x<=(df_date[i+1] + datetime.timedelta(hours=17,minutes=49))):\n",
    "            return df_date[i+1].strftime('%Y-%m-%d')"
   ]
  },
  {
   "cell_type": "code",
   "execution_count": 17,
   "metadata": {},
   "outputs": [],
   "source": [
    "df_board['date_cate']= df_board['date'].apply(lambda x: date_category(x))"
   ]
  },
  {
   "cell_type": "code",
   "execution_count": 23,
   "metadata": {},
   "outputs": [],
   "source": [
    "df_board.to_csv('./../Data/boardcomment/pre_comment/comment_kia.csv',encoding='utf-8-sig')"
   ]
  },
  {
   "attachments": {},
   "cell_type": "markdown",
   "metadata": {},
   "source": [
    "뉴스 date tagging"
   ]
  },
  {
   "cell_type": "code",
   "execution_count": 71,
   "metadata": {},
   "outputs": [],
   "source": [
    "df_news = pd.read_csv('./../Data/news/news_삼성바이오로직스.csv')\n",
    "df_date = pd.read_csv('./../Data/주가_휴장일추출.csv')"
   ]
  },
  {
   "cell_type": "code",
   "execution_count": 72,
   "metadata": {},
   "outputs": [
    {
     "data": {
      "text/html": [
       "<div>\n",
       "<style scoped>\n",
       "    .dataframe tbody tr th:only-of-type {\n",
       "        vertical-align: middle;\n",
       "    }\n",
       "\n",
       "    .dataframe tbody tr th {\n",
       "        vertical-align: top;\n",
       "    }\n",
       "\n",
       "    .dataframe thead th {\n",
       "        text-align: right;\n",
       "    }\n",
       "</style>\n",
       "<table border=\"1\" class=\"dataframe\">\n",
       "  <thead>\n",
       "    <tr style=\"text-align: right;\">\n",
       "      <th></th>\n",
       "      <th>media</th>\n",
       "      <th>date</th>\n",
       "      <th>date_hour</th>\n",
       "      <th>url</th>\n",
       "      <th>content</th>\n",
       "      <th>photourl</th>\n",
       "    </tr>\n",
       "  </thead>\n",
       "  <tbody>\n",
       "    <tr>\n",
       "      <th>0</th>\n",
       "      <td>매일경제</td>\n",
       "      <td>20171203</td>\n",
       "      <td>2017-12-03 17:55:44</td>\n",
       "      <td>https://n.news.naver.com/mnews/article/009/000...</td>\n",
       "      <td>삼성물산, 겹호재 덩실덩실 내년 영업익 1조 클럽 도전삼성물산이 건설, 상사로 이어...</td>\n",
       "      <td>https://imgnews.pstatic.net/image/009/2017/12/...</td>\n",
       "    </tr>\n",
       "    <tr>\n",
       "      <th>1</th>\n",
       "      <td>더벨</td>\n",
       "      <td>20171206</td>\n",
       "      <td>2017-12-06 08:32:29</td>\n",
       "      <td>http://www.thebell.co.kr/free/content/ArticleV...</td>\n",
       "      <td>한투운용, 공모주펀드 1년 만에 정리한국투자신탁운용이 지난해 설정했던 한국투자e단기...</td>\n",
       "      <td>NaN</td>\n",
       "    </tr>\n",
       "    <tr>\n",
       "      <th>2</th>\n",
       "      <td>이데일리</td>\n",
       "      <td>20171204</td>\n",
       "      <td>2017-12-04 09:11:58</td>\n",
       "      <td>https://n.news.naver.com/mnews/article/018/000...</td>\n",
       "      <td>코스피 나흘만에 반등..기관개인 동반 순매수이데일리 최정희 기자 코스피 지수가 나흘...</td>\n",
       "      <td>NaN</td>\n",
       "    </tr>\n",
       "    <tr>\n",
       "      <th>3</th>\n",
       "      <td>이데일리</td>\n",
       "      <td>20171204</td>\n",
       "      <td>2017-12-04 13:44:31</td>\n",
       "      <td>https://n.news.naver.com/mnews/article/018/000...</td>\n",
       "      <td>코스피 반등폭 커져..코스닥은 1대 하락이데일리 최정희 기자 코스피 지수가 나흘만에...</td>\n",
       "      <td>NaN</td>\n",
       "    </tr>\n",
       "    <tr>\n",
       "      <th>4</th>\n",
       "      <td>헤럴드경제</td>\n",
       "      <td>20171204</td>\n",
       "      <td>2017-12-04 10:03:27</td>\n",
       "      <td>https://n.news.naver.com/mnews/article/016/000...</td>\n",
       "      <td>삼성바이오로직스, 세계 최대 규모 바이오의약품 제3공장 준공헤럴드경제손인규 기자 삼...</td>\n",
       "      <td>https://imgnews.pstatic.net/image/016/2017/12/...</td>\n",
       "    </tr>\n",
       "  </tbody>\n",
       "</table>\n",
       "</div>"
      ],
      "text/plain": [
       "   media      date            date_hour  \\\n",
       "0   매일경제  20171203  2017-12-03 17:55:44   \n",
       "1     더벨  20171206  2017-12-06 08:32:29   \n",
       "2   이데일리  20171204  2017-12-04 09:11:58   \n",
       "3   이데일리  20171204  2017-12-04 13:44:31   \n",
       "4  헤럴드경제  20171204  2017-12-04 10:03:27   \n",
       "\n",
       "                                                 url  \\\n",
       "0  https://n.news.naver.com/mnews/article/009/000...   \n",
       "1  http://www.thebell.co.kr/free/content/ArticleV...   \n",
       "2  https://n.news.naver.com/mnews/article/018/000...   \n",
       "3  https://n.news.naver.com/mnews/article/018/000...   \n",
       "4  https://n.news.naver.com/mnews/article/016/000...   \n",
       "\n",
       "                                             content  \\\n",
       "0  삼성물산, 겹호재 덩실덩실 내년 영업익 1조 클럽 도전삼성물산이 건설, 상사로 이어...   \n",
       "1  한투운용, 공모주펀드 1년 만에 정리한국투자신탁운용이 지난해 설정했던 한국투자e단기...   \n",
       "2  코스피 나흘만에 반등..기관개인 동반 순매수이데일리 최정희 기자 코스피 지수가 나흘...   \n",
       "3  코스피 반등폭 커져..코스닥은 1대 하락이데일리 최정희 기자 코스피 지수가 나흘만에...   \n",
       "4  삼성바이오로직스, 세계 최대 규모 바이오의약품 제3공장 준공헤럴드경제손인규 기자 삼...   \n",
       "\n",
       "                                            photourl  \n",
       "0  https://imgnews.pstatic.net/image/009/2017/12/...  \n",
       "1                                                NaN  \n",
       "2                                                NaN  \n",
       "3                                                NaN  \n",
       "4  https://imgnews.pstatic.net/image/016/2017/12/...  "
      ]
     },
     "execution_count": 72,
     "metadata": {},
     "output_type": "execute_result"
    }
   ],
   "source": [
    "df_news.head()"
   ]
  },
  {
   "cell_type": "code",
   "execution_count": 73,
   "metadata": {},
   "outputs": [
    {
     "data": {
      "text/html": [
       "<div>\n",
       "<style scoped>\n",
       "    .dataframe tbody tr th:only-of-type {\n",
       "        vertical-align: middle;\n",
       "    }\n",
       "\n",
       "    .dataframe tbody tr th {\n",
       "        vertical-align: top;\n",
       "    }\n",
       "\n",
       "    .dataframe thead th {\n",
       "        text-align: right;\n",
       "    }\n",
       "</style>\n",
       "<table border=\"1\" class=\"dataframe\">\n",
       "  <thead>\n",
       "    <tr style=\"text-align: right;\">\n",
       "      <th></th>\n",
       "      <th>media</th>\n",
       "      <th>date</th>\n",
       "      <th>date_hour</th>\n",
       "      <th>url</th>\n",
       "      <th>content</th>\n",
       "      <th>photourl</th>\n",
       "    </tr>\n",
       "  </thead>\n",
       "  <tbody>\n",
       "    <tr>\n",
       "      <th>0</th>\n",
       "      <td>매일경제</td>\n",
       "      <td>20171203</td>\n",
       "      <td>2017-12-03 17:55:44</td>\n",
       "      <td>https://n.news.naver.com/mnews/article/009/000...</td>\n",
       "      <td>삼성물산, 겹호재 덩실덩실 내년 영업익 1조 클럽 도전삼성물산이 건설, 상사로 이어...</td>\n",
       "      <td>https://imgnews.pstatic.net/image/009/2017/12/...</td>\n",
       "    </tr>\n",
       "    <tr>\n",
       "      <th>1</th>\n",
       "      <td>더벨</td>\n",
       "      <td>20171206</td>\n",
       "      <td>2017-12-06 08:32:29</td>\n",
       "      <td>http://www.thebell.co.kr/free/content/ArticleV...</td>\n",
       "      <td>한투운용, 공모주펀드 1년 만에 정리한국투자신탁운용이 지난해 설정했던 한국투자e단기...</td>\n",
       "      <td>NaN</td>\n",
       "    </tr>\n",
       "    <tr>\n",
       "      <th>2</th>\n",
       "      <td>이데일리</td>\n",
       "      <td>20171204</td>\n",
       "      <td>2017-12-04 09:11:58</td>\n",
       "      <td>https://n.news.naver.com/mnews/article/018/000...</td>\n",
       "      <td>코스피 나흘만에 반등..기관개인 동반 순매수이데일리 최정희 기자 코스피 지수가 나흘...</td>\n",
       "      <td>NaN</td>\n",
       "    </tr>\n",
       "    <tr>\n",
       "      <th>4</th>\n",
       "      <td>헤럴드경제</td>\n",
       "      <td>20171204</td>\n",
       "      <td>2017-12-04 10:03:27</td>\n",
       "      <td>https://n.news.naver.com/mnews/article/016/000...</td>\n",
       "      <td>삼성바이오로직스, 세계 최대 규모 바이오의약품 제3공장 준공헤럴드경제손인규 기자 삼...</td>\n",
       "      <td>https://imgnews.pstatic.net/image/016/2017/12/...</td>\n",
       "    </tr>\n",
       "    <tr>\n",
       "      <th>10</th>\n",
       "      <td>서울경제</td>\n",
       "      <td>20171204</td>\n",
       "      <td>2017-12-04 14:43:26</td>\n",
       "      <td>https://n.news.naver.com/mnews/article/011/000...</td>\n",
       "      <td>포미or e족이 한라 웨스턴파크 송도를 주목하는 이유는나 자신을 위한 과감한 투자 ...</td>\n",
       "      <td>https://imgnews.pstatic.net/image/011/2017/12/...</td>\n",
       "    </tr>\n",
       "    <tr>\n",
       "      <th>28</th>\n",
       "      <td>연합뉴스</td>\n",
       "      <td>20171207</td>\n",
       "      <td>2017-12-07 10:40:43</td>\n",
       "      <td>https://n.news.naver.com/mnews/article/001/000...</td>\n",
       "      <td>코스피 중동 불안에 2,460 무너져코스닥 2종합서울연합뉴스 전명훈 기자  코스피가...</td>\n",
       "      <td>https://imgnews.pstatic.net/image/001/2017/12/...</td>\n",
       "    </tr>\n",
       "    <tr>\n",
       "      <th>39</th>\n",
       "      <td>연합인포맥스</td>\n",
       "      <td>20171213</td>\n",
       "      <td>2017.12.13 08:30</td>\n",
       "      <td>http://news.einfomax.co.kr/news/articleView.ht...</td>\n",
       "      <td>증시결산 바이오 바통 터치10배 장사도서울연합인포맥스 김경림 기자  올해 국내증시에...</td>\n",
       "      <td>NaN</td>\n",
       "    </tr>\n",
       "  </tbody>\n",
       "</table>\n",
       "</div>"
      ],
      "text/plain": [
       "     media      date            date_hour  \\\n",
       "0     매일경제  20171203  2017-12-03 17:55:44   \n",
       "1       더벨  20171206  2017-12-06 08:32:29   \n",
       "2     이데일리  20171204  2017-12-04 09:11:58   \n",
       "4    헤럴드경제  20171204  2017-12-04 10:03:27   \n",
       "10    서울경제  20171204  2017-12-04 14:43:26   \n",
       "28    연합뉴스  20171207  2017-12-07 10:40:43   \n",
       "39  연합인포맥스  20171213     2017.12.13 08:30   \n",
       "\n",
       "                                                  url  \\\n",
       "0   https://n.news.naver.com/mnews/article/009/000...   \n",
       "1   http://www.thebell.co.kr/free/content/ArticleV...   \n",
       "2   https://n.news.naver.com/mnews/article/018/000...   \n",
       "4   https://n.news.naver.com/mnews/article/016/000...   \n",
       "10  https://n.news.naver.com/mnews/article/011/000...   \n",
       "28  https://n.news.naver.com/mnews/article/001/000...   \n",
       "39  http://news.einfomax.co.kr/news/articleView.ht...   \n",
       "\n",
       "                                              content  \\\n",
       "0   삼성물산, 겹호재 덩실덩실 내년 영업익 1조 클럽 도전삼성물산이 건설, 상사로 이어...   \n",
       "1   한투운용, 공모주펀드 1년 만에 정리한국투자신탁운용이 지난해 설정했던 한국투자e단기...   \n",
       "2   코스피 나흘만에 반등..기관개인 동반 순매수이데일리 최정희 기자 코스피 지수가 나흘...   \n",
       "4   삼성바이오로직스, 세계 최대 규모 바이오의약품 제3공장 준공헤럴드경제손인규 기자 삼...   \n",
       "10  포미or e족이 한라 웨스턴파크 송도를 주목하는 이유는나 자신을 위한 과감한 투자 ...   \n",
       "28  코스피 중동 불안에 2,460 무너져코스닥 2종합서울연합뉴스 전명훈 기자  코스피가...   \n",
       "39  증시결산 바이오 바통 터치10배 장사도서울연합인포맥스 김경림 기자  올해 국내증시에...   \n",
       "\n",
       "                                             photourl  \n",
       "0   https://imgnews.pstatic.net/image/009/2017/12/...  \n",
       "1                                                 NaN  \n",
       "2                                                 NaN  \n",
       "4   https://imgnews.pstatic.net/image/016/2017/12/...  \n",
       "10  https://imgnews.pstatic.net/image/011/2017/12/...  \n",
       "28  https://imgnews.pstatic.net/image/001/2017/12/...  \n",
       "39                                                NaN  "
      ]
     },
     "execution_count": 73,
     "metadata": {},
     "output_type": "execute_result"
    }
   ],
   "source": [
    "# media별 date형식 확인\n",
    "df_news.drop_duplicates(subset=['media'])"
   ]
  },
  {
   "cell_type": "code",
   "execution_count": 74,
   "metadata": {},
   "outputs": [
    {
     "data": {
      "text/plain": [
       "media           0\n",
       "date            0\n",
       "date_hour       0\n",
       "url             0\n",
       "content         0\n",
       "photourl     6954\n",
       "dtype: int64"
      ]
     },
     "execution_count": 74,
     "metadata": {},
     "output_type": "execute_result"
    }
   ],
   "source": [
    "df_news.isnull().sum()"
   ]
  },
  {
   "cell_type": "code",
   "execution_count": 75,
   "metadata": {},
   "outputs": [],
   "source": [
    "# print('null값 제거 전 :', df_news.shape)\n",
    "# df_news.dropna(subset=['media', 'date', 'date_hour', 'url', 'content'],inplace=True)\n",
    "# print('null값 제거 후 :', df_news.shape)"
   ]
  },
  {
   "cell_type": "code",
   "execution_count": 76,
   "metadata": {},
   "outputs": [
    {
     "data": {
      "text/plain": [
       "(22646, 6)"
      ]
     },
     "execution_count": 76,
     "metadata": {},
     "output_type": "execute_result"
    }
   ],
   "source": [
    "df_news.shape"
   ]
  },
  {
   "cell_type": "code",
   "execution_count": 77,
   "metadata": {},
   "outputs": [],
   "source": [
    "df_news['date_hour'] = df_news['date_hour'].apply(lambda x: pd.to_datetime(x))\n",
    "df_date = df_date['날짜']\n",
    "df_date = df_date.apply(lambda x: pd.to_datetime(str(x)))"
   ]
  },
  {
   "cell_type": "code",
   "execution_count": 78,
   "metadata": {},
   "outputs": [
    {
     "data": {
      "text/plain": [
       "0      1996-06-25\n",
       "1      1996-06-26\n",
       "2      1996-06-27\n",
       "3      1996-06-28\n",
       "4      1996-06-29\n",
       "          ...    \n",
       "6641   2022-12-09\n",
       "6642   2022-12-12\n",
       "6643   2022-12-13\n",
       "6644   2022-12-14\n",
       "6645   2022-12-15\n",
       "Name: 날짜, Length: 6646, dtype: datetime64[ns]"
      ]
     },
     "execution_count": 78,
     "metadata": {},
     "output_type": "execute_result"
    }
   ],
   "source": [
    "df_date"
   ]
  },
  {
   "cell_type": "code",
   "execution_count": 79,
   "metadata": {},
   "outputs": [],
   "source": [
    "idx = np.where((df_news['date_hour']>datetime.datetime(2017, 11, 30, 17, 50))&(df_news['date_hour']<datetime.datetime(2022, 11, 30, 17,50)))"
   ]
  },
  {
   "cell_type": "code",
   "execution_count": 80,
   "metadata": {},
   "outputs": [],
   "source": [
    "df_news = df_news.iloc[idx]\n",
    "df_news.reset_index(drop=True,inplace=True)"
   ]
  },
  {
   "cell_type": "code",
   "execution_count": 81,
   "metadata": {},
   "outputs": [],
   "source": [
    "idx1 = np.where((df_date>=datetime.datetime(2017, 12, 1))&(df_date<=datetime.datetime(2022, 11, 30)))"
   ]
  },
  {
   "cell_type": "code",
   "execution_count": 82,
   "metadata": {},
   "outputs": [
    {
     "data": {
      "text/plain": [
       "(1232,)"
      ]
     },
     "execution_count": 82,
     "metadata": {},
     "output_type": "execute_result"
    }
   ],
   "source": [
    "df_date = df_date[np.min(idx1)-1:np.max(idx1)+2]\n",
    "df_date.reset_index(drop=True,inplace=True)\n",
    "df_date.shape"
   ]
  },
  {
   "cell_type": "code",
   "execution_count": 83,
   "metadata": {},
   "outputs": [
    {
     "data": {
      "text/plain": [
       "0      2017-11-30\n",
       "1      2017-12-01\n",
       "2      2017-12-04\n",
       "3      2017-12-05\n",
       "4      2017-12-06\n",
       "          ...    \n",
       "1227   2022-11-25\n",
       "1228   2022-11-28\n",
       "1229   2022-11-29\n",
       "1230   2022-11-30\n",
       "1231   2022-12-01\n",
       "Name: 날짜, Length: 1232, dtype: datetime64[ns]"
      ]
     },
     "execution_count": 83,
     "metadata": {},
     "output_type": "execute_result"
    }
   ],
   "source": [
    "df_date"
   ]
  },
  {
   "cell_type": "code",
   "execution_count": 88,
   "metadata": {},
   "outputs": [],
   "source": [
    "def date_category(x):\n",
    "    for i in range(len(df_date)-1):\n",
    "        if ((df_date[i] + datetime.timedelta(hours=17,minutes=50)) <= x) & (x<=(df_date[i+1] + datetime.timedelta(hours=17,minutes=49))):\n",
    "            return df_date[i+1].strftime('%Y-%m-%d')"
   ]
  },
  {
   "cell_type": "code",
   "execution_count": 89,
   "metadata": {},
   "outputs": [],
   "source": [
    "df_news['date_cate']= df_news['date_hour'].apply(lambda x: date_category(x))"
   ]
  },
  {
   "cell_type": "code",
   "execution_count": 90,
   "metadata": {},
   "outputs": [],
   "source": [
    "df_news.to_csv('./test.csv',encoding='utf-8-sig')"
   ]
  },
  {
   "cell_type": "code",
   "execution_count": null,
   "metadata": {},
   "outputs": [],
   "source": []
  }
 ],
 "metadata": {
  "kernelspec": {
   "display_name": "study",
   "language": "python",
   "name": "python3"
  },
  "language_info": {
   "codemirror_mode": {
    "name": "ipython",
    "version": 3
   },
   "file_extension": ".py",
   "mimetype": "text/x-python",
   "name": "python",
   "nbconvert_exporter": "python",
   "pygments_lexer": "ipython3",
   "version": "3.10.4"
  },
  "orig_nbformat": 4,
  "vscode": {
   "interpreter": {
    "hash": "d1e21767e69694e6271cff48837b0419ac731655a1ddac958206c0399c4912a0"
   }
  }
 },
 "nbformat": 4,
 "nbformat_minor": 2
}
