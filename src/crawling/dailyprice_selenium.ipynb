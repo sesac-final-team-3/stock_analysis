{
 "cells": [
  {
   "cell_type": "code",
   "execution_count": 1,
   "id": "ba10d9e9",
   "metadata": {},
   "outputs": [],
   "source": [
    "import pandas as pd\n",
    "from bs4 import BeautifulSoup as bs\n",
    "from selenium import webdriver\n",
    "from selenium.webdriver.common.by import By\n",
    "from selenium.webdriver.chrome.service import Service\n",
    "from webdriver_manager.chrome import ChromeDriverManager\n",
    "from selenium.webdriver.support.ui import WebDriverWait\n",
    "from selenium.webdriver.support import expected_conditions as EC\n",
    "from selenium.webdriver.common.keys import Keys\n",
    "import os"
   ]
  },
  {
   "cell_type": "code",
   "execution_count": 2,
   "id": "0e596c1d",
   "metadata": {},
   "outputs": [],
   "source": [
    "# 다운로드 폴더 설정\n",
    "if not os.path.isdir('./../../Data/daily_price'):\n",
    "    os.mkdir('./../../Data/daily_price')\n",
    "os.chdir('./../../Data/daily_price')\n",
    "\n",
    "if not os.path.isdir('./../daily_price/kospi'):\n",
    "    os.mkdir('./../daily_price/kospi')\n",
    "if not os.path.isdir('./../daily_price/kosdaq'):\n",
    "    os.mkdir('./../daily_price/kosdaq')"
   ]
  },
  {
   "cell_type": "code",
   "execution_count": 6,
   "id": "73ffc93b",
   "metadata": {},
   "outputs": [],
   "source": [
    "def daily_price(code:str):\n",
    "    page=1\n",
    "\n",
    "    url='https://finance.naver.com/item/sise_day.nhn?code='+ code + '&page='\n",
    "\n",
    "    # driver=webdriver.Chrome('c:/pydata/chromedriver.exe')\n",
    "    driver = webdriver.Chrome(service=Service(ChromeDriverManager().install()))\n",
    "    driver.get(url+str(page))\n",
    "    html = bs(driver.page_source, 'html.parser')\n",
    "    endPage=html.find('td', class_=\"pgRR\").find('a')['href'].split('=')[-1]\n",
    "\n",
    "    nav_finance=[]\n",
    "\n",
    "    for page in range(1, int(endPage)+1):\n",
    "        driver.get(url+str(page))\n",
    "        html = bs(driver.page_source, 'html.parser')\n",
    "        soup_tr=html.find_all('tr')\n",
    "        for i in range(2, 15):\n",
    "            day_data=[]\n",
    "            soup_td=soup_tr[i].find_all('td')\n",
    "            if len(soup_td) < 7 :\n",
    "                continue\n",
    "            else:\n",
    "                for td_txt in soup_td:\n",
    "                    if td_txt.text == u'\\xa0':\n",
    "                        continue\n",
    "                    else:\n",
    "                        day_data.append(td_txt.text.replace('.', '-').replace('\\n','').replace('\\t', '').replace(',', ''))\n",
    "                        # day_data.append(re('[가-힣0-9a-zA-Z]+',td_txt.text))\n",
    "\n",
    "            nav_finance.append(day_data)\n",
    "\n",
    "    driver.close()\n",
    "\n",
    "    df=pd.DataFrame(nav_finance, columns=['날짜','종가',\"전일비\",'시가','고가','저가','거래량'])\n",
    "    # print(df.info())\n",
    "    df=df.dropna()\n",
    "    # df['날짜']=pd.to_datetime(df['날짜'])\n",
    "    df['날짜'] = [ pd.to_datetime(df.iloc[date, 0]).strftime('%Y%m%d') for date in range(len(df))]\n",
    "    df = df.sort_values(by='날짜')\n",
    "    df.reset_index(inplace=True,drop=True)\n",
    "\n",
    "    # 전일비 상승,하락 계산\n",
    "    for idx in df.index[1:]:\n",
    "        if df.loc[idx,'종가'] < df.loc[idx-1,'종가'] :\n",
    "            df.loc[idx,'전일비'] = int(-int(df.loc[idx,'전일비']))\n",
    "\n",
    "    # 전일비 비율 생성\n",
    "    df['전일비_비율'] = 0\n",
    "    for idx in df.index[1:]:\n",
    "        df.loc[idx,'전일비_비율'] = int(df.loc[idx,'전일비']) / int(df.loc[idx-1,'종가']) * 100\n",
    "\n",
    "    df['전일비_비율'] = df['전일비_비율'].apply(lambda x : str(round(x, 2)) + '%')\n",
    "\n",
    "\n",
    "    # 파일 저장 코드\n",
    "    # 코스피 폴더\n",
    "    # df.to_csv(f'./kospi/{code}_dailyprice.csv', index=False,encoding='utf-8-sig')\n",
    "    # 코스닥 폴더\n",
    "    df.to_csv(f'./kosdaq/{code}_dailyprice.csv', index=False,encoding='utf-8-sig')\n"
   ]
  },
  {
   "cell_type": "code",
   "execution_count": 4,
   "id": "5e555a35",
   "metadata": {},
   "outputs": [],
   "source": [
    "# 코스피 10개\n",
    "kospi_list = [\"005380\",\"035420\",\"068270\",\"005930\",\"000270\",\"373220\",\"207940\",\"000660\",\"006400\",\"051910\"]\n",
    "\n",
    "# 코스닥 10개\n",
    "kosdaq_list = [\"091990\",\"247540\",\"066970\",\"263750\",\"293490\",\"112040\",\"028300\",\"278280\",\"035760\",\"058470\"]"
   ]
  },
  {
   "cell_type": "code",
   "execution_count": 5,
   "id": "3e2af38a",
   "metadata": {},
   "outputs": [],
   "source": [
    "# for i in kospi_list:\n",
    "#     daily_price(i)"
   ]
  },
  {
   "cell_type": "code",
   "execution_count": 7,
   "id": "015ce0da",
   "metadata": {},
   "outputs": [],
   "source": [
    "for i in kosdaq_list:\n",
    "    daily_price(i)"
   ]
  },
  {
   "cell_type": "code",
   "execution_count": null,
   "id": "027382cd",
   "metadata": {},
   "outputs": [],
   "source": []
  }
 ],
 "metadata": {
  "kernelspec": {
   "display_name": "study",
   "language": "python",
   "name": "python3"
  },
  "language_info": {
   "codemirror_mode": {
    "name": "ipython",
    "version": 3
   },
   "file_extension": ".py",
   "mimetype": "text/x-python",
   "name": "python",
   "nbconvert_exporter": "python",
   "pygments_lexer": "ipython3",
   "version": "3.10.4"
  },
  "vscode": {
   "interpreter": {
    "hash": "d1e21767e69694e6271cff48837b0419ac731655a1ddac958206c0399c4912a0"
   }
  }
 },
 "nbformat": 4,
 "nbformat_minor": 5
}
