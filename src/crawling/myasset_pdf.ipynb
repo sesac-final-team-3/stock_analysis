{
 "cells": [
  {
   "cell_type": "code",
   "execution_count": 23,
   "metadata": {},
   "outputs": [],
   "source": [
    "import requests \n",
    "from bs4 import BeautifulSoup"
   ]
  },
  {
   "cell_type": "code",
   "execution_count": 24,
   "metadata": {},
   "outputs": [],
   "source": [
    "URL = 'https://www.myasset.com/myasset/research/rs_list/rs_list.cmd?cd006=&cd007=RE01&cd008=&searchKeyGubun=1&keyword=&jongMok_keyword=000270&startCalendar=2017%2F12%2F01&endCalendar=2022%2F12%2F14&pgCnt=10'\n",
    "header = {'User-Agent': 'Mozilla/5.0 (Windows NT 10.0; Win64; x64) AppleWebKit/537.36 (KHTML, like Gecko) Chrome/108.0.0.0 Safari/537.36'}\n",
    "response = requests.get(URL,headers=header)\n",
    "soup = BeautifulSoup(response.text,\"html.parser\")"
   ]
  },
  {
   "cell_type": "code",
   "execution_count": 25,
   "metadata": {},
   "outputs": [],
   "source": [
    "result = soup.select('.txtL a')"
   ]
  },
  {
   "cell_type": "code",
   "execution_count": 26,
   "metadata": {},
   "outputs": [],
   "source": [
    "main_url ='https://www.myasset.com/myasset/research/rs_list/rs_view.cmd?cd006=&cd007=RE01&cd008=&searchKeyGubun=1&keyword=&jongMok_keyword=000270&keyword_in=&startCalendar=2017%2F12%2F01&endCalendar=2022%2F12%2F14&pgCnt=10&page=&SEQ='"
   ]
  },
  {
   "cell_type": "code",
   "execution_count": 27,
   "metadata": {},
   "outputs": [],
   "source": [
    "def download(download_url, file_name):\n",
    "    with open(file_name, \"wb\") as file:  \n",
    "        response = requests.get(download_url,headers=header)\n",
    "        file.write(response.content)"
   ]
  },
  {
   "cell_type": "code",
   "execution_count": 28,
   "metadata": {},
   "outputs": [
    {
     "name": "stdout",
     "output_type": "stream",
     "text": [
      "https://www.myasset.com/myasset/research/rs_list/rs_view.cmd?cd006=&cd007=RE01&cd008=&searchKeyGubun=1&keyword=&jongMok_keyword=000270&keyword_in=&startCalendar=2017%2F12%2F01&endCalendar=2022%2F12%2F14&pgCnt=10&page=&SEQ=183604\n",
      "2022/1021/190330/20221021190330553_1.pdf\n",
      "https://file.myasset.com/sitemanager/upload/2022/1021/190330/20221021190330553_1.pdf\n",
      "https://www.myasset.com/myasset/research/rs_list/rs_view.cmd?cd006=&cd007=RE01&cd008=&searchKeyGubun=1&keyword=&jongMok_keyword=000270&keyword_in=&startCalendar=2017%2F12%2F01&endCalendar=2022%2F12%2F14&pgCnt=10&page=&SEQ=181531\n",
      "2022/0718/143859/20220718143859350_1.pdf\n",
      "https://file.myasset.com/sitemanager/upload/2022/0718/143859/20220718143859350_1.pdf\n",
      "https://www.myasset.com/myasset/research/rs_list/rs_view.cmd?cd006=&cd007=RE01&cd008=&searchKeyGubun=1&keyword=&jongMok_keyword=000270&keyword_in=&startCalendar=2017%2F12%2F01&endCalendar=2022%2F12%2F14&pgCnt=10&page=&SEQ=179476\n",
      "2022/0419/080447/20220419080447597_1.pdf\n",
      "https://file.myasset.com/sitemanager/upload/2022/0419/080447/20220419080447597_1.pdf\n",
      "https://www.myasset.com/myasset/research/rs_list/rs_view.cmd?cd006=&cd007=RE01&cd008=&searchKeyGubun=1&keyword=&jongMok_keyword=000270&keyword_in=&startCalendar=2017%2F12%2F01&endCalendar=2022%2F12%2F14&pgCnt=10&page=&SEQ=177447\n",
      "2022/0124/132633/20220124132633903_1.pdf\n",
      "https://file.myasset.com/sitemanager/upload/2022/0124/132633/20220124132633903_1.pdf\n",
      "https://www.myasset.com/myasset/research/rs_list/rs_view.cmd?cd006=&cd007=RE01&cd008=&searchKeyGubun=1&keyword=&jongMok_keyword=000270&keyword_in=&startCalendar=2017%2F12%2F01&endCalendar=2022%2F12%2F14&pgCnt=10&page=&SEQ=175110\n",
      "2021/1019/093628/20211019093628983_1.pdf\n",
      "https://file.myasset.com/sitemanager/upload/2021/1019/093628/20211019093628983_1.pdf\n",
      "https://www.myasset.com/myasset/research/rs_list/rs_view.cmd?cd006=&cd007=RE01&cd008=&searchKeyGubun=1&keyword=&jongMok_keyword=000270&keyword_in=&startCalendar=2017%2F12%2F01&endCalendar=2022%2F12%2F14&pgCnt=10&page=&SEQ=172548\n",
      "2021/0721/075926/20210721075926057_1.pdf\n",
      "https://file.myasset.com/sitemanager/upload/2021/0721/075926/20210721075926057_1.pdf\n",
      "https://www.myasset.com/myasset/research/rs_list/rs_view.cmd?cd006=&cd007=RE01&cd008=&searchKeyGubun=1&keyword=&jongMok_keyword=000270&keyword_in=&startCalendar=2017%2F12%2F01&endCalendar=2022%2F12%2F14&pgCnt=10&page=&SEQ=172069\n",
      "2021/0706/170024/20210706170024300_1.pdf\n",
      "https://file.myasset.com/sitemanager/upload/2021/0706/170024/20210706170024300_1.pdf\n",
      "https://www.myasset.com/myasset/research/rs_list/rs_view.cmd?cd006=&cd007=RE01&cd008=&searchKeyGubun=1&keyword=&jongMok_keyword=000270&keyword_in=&startCalendar=2017%2F12%2F01&endCalendar=2022%2F12%2F14&pgCnt=10&page=&SEQ=168612\n",
      "2021/0311/152841/20210311152841680_3.pdf\n",
      "https://file.myasset.com/sitemanager/upload/2021/0311/152841/20210311152841680_3.pdf\n",
      "https://www.myasset.com/myasset/research/rs_list/rs_view.cmd?cd006=&cd007=RE01&cd008=&searchKeyGubun=1&keyword=&jongMok_keyword=000270&keyword_in=&startCalendar=2017%2F12%2F01&endCalendar=2022%2F12%2F14&pgCnt=10&page=&SEQ=160131\n",
      "2020/0424/082727/20200424082727340_1.pdf\n",
      "https://file.myasset.com/sitemanager/upload/2020/0424/082727/20200424082727340_1.pdf\n",
      "https://www.myasset.com/myasset/research/rs_list/rs_view.cmd?cd006=&cd007=RE01&cd008=&searchKeyGubun=1&keyword=&jongMok_keyword=000270&keyword_in=&startCalendar=2017%2F12%2F01&endCalendar=2022%2F12%2F14&pgCnt=10&page=&SEQ=157986\n",
      "2020/0116/133706/20200116133706357_1.pdf\n",
      "https://file.myasset.com/sitemanager/upload/2020/0116/133706/20200116133706357_1.pdf\n"
     ]
    }
   ],
   "source": [
    "sub_url = 'https://file.myasset.com/sitemanager/upload/'\n",
    "for v,i in enumerate(result):\n",
    "    seq = i.attrs['data-seq']\n",
    "    temp_url = main_url+seq\n",
    "    print(temp_url)\n",
    "    header = {'User-Agent': 'Mozilla/5.0 (Windows NT 10.0; Win64; x64) AppleWebKit/537.36 (KHTML, like Gecko) Chrome/108.0.0.0 Safari/537.36'}\n",
    "    response = requests.get(temp_url,headers=header)\n",
    "    soup = BeautifulSoup(response.text,\"html.parser\")\n",
    "    result = soup.select_one('.acrobat')\n",
    "    pdf_sub = result.attrs['data-seq']\n",
    "    print(pdf_sub)\n",
    "    downloas_url = sub_url+ pdf_sub\n",
    "    print(downloas_url)\n",
    "    download(downloas_url,'test'+str(v)+'.pdf')\n"
   ]
  },
  {
   "cell_type": "code",
   "execution_count": null,
   "metadata": {},
   "outputs": [],
   "source": []
  }
 ],
 "metadata": {
  "kernelspec": {
   "display_name": "study",
   "language": "python",
   "name": "python3"
  },
  "language_info": {
   "codemirror_mode": {
    "name": "ipython",
    "version": 3
   },
   "file_extension": ".py",
   "mimetype": "text/x-python",
   "name": "python",
   "nbconvert_exporter": "python",
   "pygments_lexer": "ipython3",
   "version": "3.10.4"
  },
  "orig_nbformat": 4,
  "vscode": {
   "interpreter": {
    "hash": "d1e21767e69694e6271cff48837b0419ac731655a1ddac958206c0399c4912a0"
   }
  }
 },
 "nbformat": 4,
 "nbformat_minor": 2
}
