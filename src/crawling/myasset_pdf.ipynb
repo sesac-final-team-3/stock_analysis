{
 "cells": [
  {
   "cell_type": "code",
   "execution_count": 1,
   "metadata": {},
   "outputs": [],
   "source": [
    "import requests \n",
    "from bs4 import BeautifulSoup\n",
    "import os"
   ]
  },
  {
   "cell_type": "code",
   "execution_count": 6,
   "metadata": {},
   "outputs": [],
   "source": [
    "# 폴더 생성 및 다운로드 경로 설정\n",
    "if not os.path.isdir('./../../Data/myasset_data'):\n",
    "    os.mkdir('./../../Data/myasset_data')\n",
    "os.chdir('./../../Data/myasset_data')"
   ]
  },
  {
   "cell_type": "code",
   "execution_count": 13,
   "metadata": {},
   "outputs": [],
   "source": [
    "header = {'User-Agent': 'Mozilla/5.0 (Windows NT 10.0; Win64; x64) AppleWebKit/537.36 (KHTML, like Gecko) Chrome/108.0.0.0 Safari/537.36'}"
   ]
  },
  {
   "cell_type": "code",
   "execution_count": 14,
   "metadata": {},
   "outputs": [],
   "source": [
    "# pdf 다운로드 함수\n",
    "def download(download_url, file_name):\n",
    "    with open(file_name, \"wb\") as file:  \n",
    "        response = requests.get(download_url,headers=header)\n",
    "        file.write(response.content)"
   ]
  },
  {
   "cell_type": "code",
   "execution_count": 16,
   "metadata": {},
   "outputs": [],
   "source": [
    "# pdf 제목 설정\n",
    "def pdf_title(x:str):\n",
    "    title = x.split('/')[3][:8]\n",
    "    return title"
   ]
  },
  {
   "cell_type": "code",
   "execution_count": 15,
   "metadata": {},
   "outputs": [],
   "source": [
    "main_url ='https://www.myasset.com/myasset/research/rs_list/rs_view.cmd?cd006=&cd007=RE01&cd008=&searchKeyGubun=1&keyword=&jongMok_keyword=000270&keyword_in=&startCalendar=2017%2F12%2F01&endCalendar=2022%2F12%2F14&pgCnt=10&page=&SEQ='\n",
    "pdf_sub_url = 'https://file.myasset.com/sitemanager/upload/'"
   ]
  },
  {
   "cell_type": "code",
   "execution_count": 22,
   "metadata": {},
   "outputs": [],
   "source": [
    "# company : 기업 코드 '문자로!!!'\n",
    "def pdf_download(company:str,pages:int):\n",
    "    for i in range (1,pages+1):\n",
    "        # 기업분석 보고서 리스트 추출\n",
    "        URL = f'https://www.myasset.com/myasset/research/rs_list/rs_list.cmd?cd006=&cd007=RE01&cd008=&searchKeyGubun=1&keyword=&jongMok_keyword={company}&startCalendar=2017%2F12%2F01&endCalendar=2022%2F12%2F14&pgCnt=10&page={str(i)}'\n",
    "\n",
    "        response = requests.get(URL,headers=header)\n",
    "        soup = BeautifulSoup(response.text,\"html.parser\")\n",
    "        result = soup.select('.txtL a')\n",
    "        \n",
    "        for v,j in enumerate(result):\n",
    "            seq = j.attrs['data-seq']\n",
    "            temp_url = main_url+seq\n",
    "            # print(temp_url)\n",
    "            response1 = requests.get(temp_url,headers=header)\n",
    "            soup1 = BeautifulSoup(response1.text,\"html.parser\")\n",
    "            result1 = soup1.select_one('.acrobat')\n",
    "            pdf_sub = result1.attrs['data-seq']\n",
    "            title = pdf_title(pdf_sub)\n",
    "            # print(pdf_sub)\n",
    "            downloas_url = pdf_sub_url+ pdf_sub\n",
    "            # print(downloas_url)\n",
    "            download(downloas_url,company+'_'+title+'.pdf')"
   ]
  },
  {
   "cell_type": "code",
   "execution_count": 23,
   "metadata": {},
   "outputs": [],
   "source": [
    "pdf_download('000270',2)"
   ]
  },
  {
   "cell_type": "code",
   "execution_count": null,
   "metadata": {},
   "outputs": [],
   "source": []
  }
 ],
 "metadata": {
  "kernelspec": {
   "display_name": "study",
   "language": "python",
   "name": "python3"
  },
  "language_info": {
   "codemirror_mode": {
    "name": "ipython",
    "version": 3
   },
   "file_extension": ".py",
   "mimetype": "text/x-python",
   "name": "python",
   "nbconvert_exporter": "python",
   "pygments_lexer": "ipython3",
   "version": "3.10.4"
  },
  "orig_nbformat": 4,
  "vscode": {
   "interpreter": {
    "hash": "d1e21767e69694e6271cff48837b0419ac731655a1ddac958206c0399c4912a0"
   }
  }
 },
 "nbformat": 4,
 "nbformat_minor": 2
}
