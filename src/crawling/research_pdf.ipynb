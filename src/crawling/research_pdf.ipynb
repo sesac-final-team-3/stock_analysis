{
 "cells": [
  {
   "cell_type": "code",
   "execution_count": 106,
   "metadata": {},
   "outputs": [],
   "source": [
    "import requests \n",
    "from bs4 import BeautifulSoup\n",
    "import pandas as pd\n",
    "import os"
   ]
  },
  {
   "cell_type": "code",
   "execution_count": 143,
   "metadata": {},
   "outputs": [
    {
     "name": "stdout",
     "output_type": "stream",
     "text": [
      "오류링크: https://finance.naver.com/research/company_read.naver?nid=32843&page=8&searchType=itemCode&itemCode=000660\n"
     ]
    }
   ],
   "source": [
    "# kospi_list = [\"005380\",\"035420\",\"068270\",\"005930\",\"000270\",\"373220\",\"207940\",\"000660\",\"006400\",\"051910\"]\n",
    "df=pd.DataFrame()\n",
    "\n",
    "kospi_list = {\"005380\":'현대차',\"035420\":\"NAVER\",\"068270\":'셀트리온',\"005930\":'삼성전자',\"000270\":'기아',\"373220\":'LG에너지솔루션',\"207940\":'삼성바이오로직스',\"000660\":'sk하이닉스',\"006400\":'삼성SDI',\"051910\":\"LG화학\"}\n",
    "for code in kospi_list:\n",
    "    temp_page = 1000\n",
    "    end_url = 'https://finance.naver.com/research/company_list.naver?keyword=&brokerCode=&writeFromDate=&writeToDate=&searchType=itemCode&itemName='+kospi_list[code]+'&itemCode='+ code + '&page=1000'\n",
    "    response = requests.get(end_url)\n",
    "    soup = BeautifulSoup(response.text,\"html.parser\")\n",
    "    end_page = soup.select_one('td.on a').text\n",
    "\n",
    "    for i in range(1,int(end_page)+1):\n",
    "        page = i\n",
    "        page_url = 'https://finance.naver.com/research/company_list.naver?keyword=&brokerCode=&writeFromDate=&writeToDate=&searchType=itemCode&itemName='+kospi_list[code]+'&itemCode='+ code + '&page='+str(page)\n",
    "        page_response = requests.get(page_url)\n",
    "        page_soup = BeautifulSoup(page_response.text,\"html.parser\")\n",
    "\n",
    "        for i in range(1,len(soup.select('a[href*=\"company_read\"]'))):\n",
    "            try:\n",
    "                temp = page_soup.select('a[href*=\"company_read\"]')[i]\n",
    "                parm = temp['href']\n",
    "                main_url = 'https://finance.naver.com/research/'+parm\n",
    "                main_response = requests.get(main_url)\n",
    "                main_soup = BeautifulSoup(main_response.text,\"html.parser\")\n",
    "\n",
    "\n",
    "                result=main_soup.select_one('.view_sbj').text.split('\\n')\n",
    "\n",
    "                company=kospi_list[code]\n",
    "                title = result[2].strip()\n",
    "                firm = result[3].strip().split('|')[0]\n",
    "                date = result[3].strip().split('|')[1]\n",
    "                money = main_soup.select_one('.money').text\n",
    "                coment = main_soup.select_one('.coment').text\n",
    "                pdf_link = main_soup.select_one('.view_report a')['href']\n",
    "\n",
    "                new_data = pd.DataFrame({\n",
    "                    'company' : [company],\n",
    "                    'title' : [title],\n",
    "                    'firm' : [firm],\n",
    "                    'date' : [date],\n",
    "                    'money' : [money],\n",
    "                    'coment' : [coment],\n",
    "                    'pdf_link' : [pdf_link]\n",
    "\n",
    "                })\n",
    "                df = pd.concat([df, new_data])\n",
    "            except:\n",
    "                print('오류링크:',main_url)\n"
   ]
  },
  {
   "cell_type": "code",
   "execution_count": 144,
   "metadata": {},
   "outputs": [],
   "source": [
    "df.to_csv('./../../Data/kospi_report.csv',encoding='utf-8-sig')"
   ]
  },
  {
   "cell_type": "code",
   "execution_count": null,
   "metadata": {},
   "outputs": [],
   "source": [
    "# pdf 다운로드 함수\n",
    "def download(download_url, file_name):\n",
    "    with open(file_name, \"wb\") as file:  \n",
    "        response = requests.get(download_url)\n",
    "        file.write(response.content)"
   ]
  },
  {
   "cell_type": "code",
   "execution_count": null,
   "metadata": {},
   "outputs": [],
   "source": [
    "if not os.path.isdir('./../../Data/report_pdf'):\n",
    "    os.mkdir('./../../Data/report_pdf')\n",
    "os.chdir('./../../Data/report_pdf')"
   ]
  }
 ],
 "metadata": {
  "kernelspec": {
   "display_name": "study",
   "language": "python",
   "name": "python3"
  },
  "language_info": {
   "codemirror_mode": {
    "name": "ipython",
    "version": 3
   },
   "file_extension": ".py",
   "mimetype": "text/x-python",
   "name": "python",
   "nbconvert_exporter": "python",
   "pygments_lexer": "ipython3",
   "version": "3.10.4"
  },
  "orig_nbformat": 4,
  "vscode": {
   "interpreter": {
    "hash": "d1e21767e69694e6271cff48837b0419ac731655a1ddac958206c0399c4912a0"
   }
  }
 },
 "nbformat": 4,
 "nbformat_minor": 2
}
