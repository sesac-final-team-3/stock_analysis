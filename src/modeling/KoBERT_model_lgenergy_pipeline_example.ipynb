{
  "cells": [
    {
      "cell_type": "markdown",
      "metadata": {
        "id": "TpBw-H_NKsdI"
      },
      "source": [
        "# 주가 원인분석 훈련 모델 \n",
        "#기업명 : LG에너지솔루션\n",
        "#코드 명 : 373220\n",
        "\n",
        "### 실행 방법 ###\n",
        "-  뉴스파일 / 댓글 파일 로드\n",
        "- electra_light 파일 넣어두기\n",
        "- 뒤에 electra_light 저장경로 변경 후 실행\n",
        "- 20ep 모델과 10ep 모델 비교"
      ]
    },
    {
      "cell_type": "code",
      "execution_count": null,
      "metadata": {
        "id": "OdsEoME9QyMS"
      },
      "outputs": [],
      "source": [
        "company_name = 'lgenergy'\n",
        "company_code = '373220'\n",
        "company_stopword = ['LG', 'lg', '에너지', '솔루션', '에너지솔루션', '엔솔']"
      ]
    },
    {
      "cell_type": "code",
      "execution_count": null,
      "metadata": {
        "colab": {
          "base_uri": "https://localhost:8080/"
        },
        "id": "h_pTvqurc-Lr",
        "outputId": "5e66bbca-a53a-4621-efc4-f70ab864e93d"
      },
      "outputs": [
        {
          "output_type": "stream",
          "name": "stdout",
          "text": [
            "Mounted at /content/drive\n"
          ]
        }
      ],
      "source": [
        "from google.colab import drive\n",
        "drive.mount('/content/drive')"
      ]
    },
    {
      "cell_type": "code",
      "execution_count": null,
      "metadata": {
        "id": "NDckOSnHiJSI"
      },
      "outputs": [],
      "source": [
        "import pandas as pd\n",
        "import os\n",
        "# 뉴스 파일 로드\n",
        "df = pd.read_csv('/content/drive/MyDrive/뉴스원인분석_modeling/data/LG에너지솔루션_tagging_0109.csv')\n",
        "# 댓글 파일 로드\n",
        "df_bc = pd.read_csv('/content/drive/MyDrive/뉴스원인분석_modeling/data/board_comment/LG에너지솔루션_tagging.csv')\n",
        "# 폴더생성\n",
        "os.makedirs(f'/content/drive/MyDrive/뉴스원인분석_modeling/final_news_modeling/{company_name}', exist_ok=True)"
      ]
    },
    {
      "cell_type": "markdown",
      "metadata": {
        "id": "Rqmpk2iuKjnD"
      },
      "source": [
        "# 모델 전처리\n"
      ]
    },
    {
      "cell_type": "code",
      "execution_count": null,
      "metadata": {
        "colab": {
          "base_uri": "https://localhost:8080/"
        },
        "id": "3pvlwiwBVtJp",
        "outputId": "0cb17624-27ad-4d7f-e60c-831f04cd8f36"
      },
      "outputs": [
        {
          "name": "stdout",
          "output_type": "stream",
          "text": [
            "Installing automake (A dependency for mecab-ko)\n",
            "Get:1 https://cloud.r-project.org/bin/linux/ubuntu bionic-cran40/ InRelease [3,626 B]\n",
            "Get:2 http://security.ubuntu.com/ubuntu bionic-security InRelease [88.7 kB]\n",
            "Ign:3 https://developer.download.nvidia.com/compute/machine-learning/repos/ubuntu1804/x86_64  InRelease\n",
            "Hit:4 https://developer.download.nvidia.com/compute/cuda/repos/ubuntu1804/x86_64  InRelease\n",
            "Hit:5 https://developer.download.nvidia.com/compute/machine-learning/repos/ubuntu1804/x86_64  Release\n",
            "Hit:7 http://archive.ubuntu.com/ubuntu bionic InRelease\n",
            "Hit:8 http://ppa.launchpad.net/c2d4u.team/c2d4u4.0+/ubuntu bionic InRelease\n",
            "Get:9 http://archive.ubuntu.com/ubuntu bionic-updates InRelease [88.7 kB]\n",
            "Hit:10 http://ppa.launchpad.net/cran/libgit2/ubuntu bionic InRelease\n",
            "Get:11 http://security.ubuntu.com/ubuntu bionic-security/restricted amd64 Packages [1,351 kB]\n",
            "Hit:12 http://ppa.launchpad.net/deadsnakes/ppa/ubuntu bionic InRelease\n",
            "Get:13 http://archive.ubuntu.com/ubuntu bionic-backports InRelease [83.3 kB]\n",
            "Hit:14 http://ppa.launchpad.net/graphics-drivers/ppa/ubuntu bionic InRelease\n",
            "Get:15 http://archive.ubuntu.com/ubuntu bionic-updates/main amd64 Packages [3,552 kB]\n",
            "Get:16 http://security.ubuntu.com/ubuntu bionic-security/main amd64 Packages [3,129 kB]\n",
            "Get:17 http://security.ubuntu.com/ubuntu bionic-security/universe amd64 Packages [1,573 kB]\n",
            "Get:18 http://archive.ubuntu.com/ubuntu bionic-updates/restricted amd64 Packages [1,392 kB]\n",
            "Get:19 http://archive.ubuntu.com/ubuntu bionic-updates/universe amd64 Packages [2,348 kB]\n",
            "Fetched 13.6 MB in 3s (4,101 kB/s)\n",
            "Reading package lists... Done\n",
            "Reading package lists... Done\n",
            "Building dependency tree       \n",
            "Reading state information... Done\n",
            "The following package was automatically installed and is no longer required:\n",
            "  libnvidia-common-460\n",
            "Use 'sudo apt autoremove' to remove it.\n",
            "The following additional packages will be installed:\n",
            "  autoconf autotools-dev libsigsegv2 m4\n",
            "Suggested packages:\n",
            "  autoconf-archive gnu-standards autoconf-doc libtool gettext m4-doc\n",
            "The following NEW packages will be installed:\n",
            "  autoconf automake autotools-dev libsigsegv2 m4\n",
            "0 upgraded, 5 newly installed, 0 to remove and 23 not upgraded.\n",
            "Need to get 1,082 kB of archives.\n",
            "After this operation, 3,994 kB of additional disk space will be used.\n",
            "Get:1 http://archive.ubuntu.com/ubuntu bionic/main amd64 libsigsegv2 amd64 2.12-1 [14.7 kB]\n",
            "Get:2 http://archive.ubuntu.com/ubuntu bionic/main amd64 m4 amd64 1.4.18-1 [197 kB]\n",
            "Get:3 http://archive.ubuntu.com/ubuntu bionic/main amd64 autoconf all 2.69-11 [322 kB]\n",
            "Get:4 http://archive.ubuntu.com/ubuntu bionic/main amd64 autotools-dev all 20180224.1 [39.6 kB]\n",
            "Get:5 http://archive.ubuntu.com/ubuntu bionic/main amd64 automake all 1:1.15.1-3ubuntu2 [509 kB]\n",
            "Fetched 1,082 kB in 2s (636 kB/s)\n",
            "debconf: unable to initialize frontend: Dialog\n",
            "debconf: (No usable dialog-like program is installed, so the dialog based frontend cannot be used. at /usr/share/perl5/Debconf/FrontEnd/Dialog.pm line 76, <> line 5.)\n",
            "debconf: falling back to frontend: Readline\n",
            "debconf: unable to initialize frontend: Readline\n",
            "debconf: (This frontend requires a controlling tty.)\n",
            "debconf: falling back to frontend: Teletype\n",
            "dpkg-preconfigure: unable to re-open stdin: \n",
            "Selecting previously unselected package libsigsegv2:amd64.\n",
            "(Reading database ... 124016 files and directories currently installed.)\n",
            "Preparing to unpack .../libsigsegv2_2.12-1_amd64.deb ...\n",
            "Unpacking libsigsegv2:amd64 (2.12-1) ...\n",
            "Selecting previously unselected package m4.\n",
            "Preparing to unpack .../archives/m4_1.4.18-1_amd64.deb ...\n",
            "Unpacking m4 (1.4.18-1) ...\n",
            "Selecting previously unselected package autoconf.\n",
            "Preparing to unpack .../autoconf_2.69-11_all.deb ...\n",
            "Unpacking autoconf (2.69-11) ...\n",
            "Selecting previously unselected package autotools-dev.\n",
            "Preparing to unpack .../autotools-dev_20180224.1_all.deb ...\n",
            "Unpacking autotools-dev (20180224.1) ...\n",
            "Selecting previously unselected package automake.\n",
            "Preparing to unpack .../automake_1%3a1.15.1-3ubuntu2_all.deb ...\n",
            "Unpacking automake (1:1.15.1-3ubuntu2) ...\n",
            "Setting up libsigsegv2:amd64 (2.12-1) ...\n",
            "Setting up m4 (1.4.18-1) ...\n",
            "Setting up autotools-dev (20180224.1) ...\n",
            "Setting up autoconf (2.69-11) ...\n",
            "Setting up automake (1:1.15.1-3ubuntu2) ...\n",
            "update-alternatives: using /usr/bin/automake-1.15 to provide /usr/bin/automake (automake) in auto mode\n",
            "Processing triggers for libc-bin (2.27-3ubuntu1.6) ...\n",
            "Processing triggers for man-db (2.8.3-2ubuntu0.1) ...\n",
            "Install mecab-ko\n",
            "  % Total    % Received % Xferd  Average Speed   Time    Time     Time  Current\n",
            "                                 Dload  Upload   Total   Spent    Left  Speed\n",
            "  0     0    0     0    0     0      0      0 --:--:--  0:00:01 --:--:--     0\n",
            "100 1381k  100 1381k    0     0   414k      0  0:00:03  0:00:03 --:--:--  750k\n",
            "mecab-0.996-ko-0.9.2/\n",
            "mecab-0.996-ko-0.9.2/example/\n",
            "mecab-0.996-ko-0.9.2/example/example.cpp\n",
            "mecab-0.996-ko-0.9.2/example/example_lattice.cpp\n",
            "mecab-0.996-ko-0.9.2/example/example_lattice.c\n",
            "mecab-0.996-ko-0.9.2/example/example.c\n",
            "mecab-0.996-ko-0.9.2/example/thread_test.cpp\n",
            "mecab-0.996-ko-0.9.2/mecab-config.in\n",
            "mecab-0.996-ko-0.9.2/man/\n",
            "mecab-0.996-ko-0.9.2/man/Makefile.am\n",
            "mecab-0.996-ko-0.9.2/man/mecab.1\n",
            "mecab-0.996-ko-0.9.2/man/Makefile.in\n",
            "mecab-0.996-ko-0.9.2/mecab.iss.in\n",
            "mecab-0.996-ko-0.9.2/config.guess\n",
            "mecab-0.996-ko-0.9.2/README\n",
            "mecab-0.996-ko-0.9.2/COPYING\n",
            "mecab-0.996-ko-0.9.2/CHANGES.md\n",
            "mecab-0.996-ko-0.9.2/README.md\n",
            "mecab-0.996-ko-0.9.2/INSTALL\n",
            "mecab-0.996-ko-0.9.2/config.sub\n",
            "mecab-0.996-ko-0.9.2/configure.in\n",
            "mecab-0.996-ko-0.9.2/swig/\n",
            "mecab-0.996-ko-0.9.2/swig/Makefile\n",
            "mecab-0.996-ko-0.9.2/swig/version.h.in\n",
            "mecab-0.996-ko-0.9.2/swig/version.h\n",
            "mecab-0.996-ko-0.9.2/swig/MeCab.i\n",
            "mecab-0.996-ko-0.9.2/aclocal.m4\n",
            "mecab-0.996-ko-0.9.2/LGPL\n",
            "mecab-0.996-ko-0.9.2/Makefile.am\n",
            "mecab-0.996-ko-0.9.2/configure\n",
            "mecab-0.996-ko-0.9.2/tests/\n",
            "mecab-0.996-ko-0.9.2/tests/autolink/\n",
            "mecab-0.996-ko-0.9.2/tests/autolink/unk.def\n",
            "mecab-0.996-ko-0.9.2/tests/autolink/dicrc\n",
            "mecab-0.996-ko-0.9.2/tests/autolink/dic.csv\n",
            "mecab-0.996-ko-0.9.2/tests/autolink/test\n",
            "mecab-0.996-ko-0.9.2/tests/autolink/char.def\n",
            "mecab-0.996-ko-0.9.2/tests/autolink/matrix.def\n",
            "mecab-0.996-ko-0.9.2/tests/autolink/test.gld\n",
            "mecab-0.996-ko-0.9.2/tests/t9/\n",
            "mecab-0.996-ko-0.9.2/tests/t9/unk.def\n",
            "mecab-0.996-ko-0.9.2/tests/t9/ipadic.pl\n",
            "mecab-0.996-ko-0.9.2/tests/t9/dicrc\n",
            "mecab-0.996-ko-0.9.2/tests/t9/dic.csv\n",
            "mecab-0.996-ko-0.9.2/tests/t9/test\n",
            "mecab-0.996-ko-0.9.2/tests/t9/char.def\n",
            "mecab-0.996-ko-0.9.2/tests/t9/matrix.def\n",
            "mecab-0.996-ko-0.9.2/tests/t9/mkdic.pl\n",
            "mecab-0.996-ko-0.9.2/tests/t9/test.gld\n",
            "mecab-0.996-ko-0.9.2/tests/cost-train/\n",
            "mecab-0.996-ko-0.9.2/tests/cost-train/ipa.train\n",
            "mecab-0.996-ko-0.9.2/tests/cost-train/ipa.test\n",
            "mecab-0.996-ko-0.9.2/tests/cost-train/seed/\n",
            "mecab-0.996-ko-0.9.2/tests/cost-train/seed/rewrite.def\n",
            "mecab-0.996-ko-0.9.2/tests/cost-train/seed/feature.def\n",
            "mecab-0.996-ko-0.9.2/tests/cost-train/seed/unk.def\n",
            "mecab-0.996-ko-0.9.2/tests/cost-train/seed/dicrc\n",
            "mecab-0.996-ko-0.9.2/tests/cost-train/seed/dic.csv\n",
            "mecab-0.996-ko-0.9.2/tests/cost-train/seed/char.def\n",
            "mecab-0.996-ko-0.9.2/tests/cost-train/seed/matrix.def\n",
            "mecab-0.996-ko-0.9.2/tests/run-eval.sh\n",
            "mecab-0.996-ko-0.9.2/tests/run-cost-train.sh\n",
            "mecab-0.996-ko-0.9.2/tests/Makefile.am\n",
            "mecab-0.996-ko-0.9.2/tests/katakana/\n",
            "mecab-0.996-ko-0.9.2/tests/katakana/unk.def\n",
            "mecab-0.996-ko-0.9.2/tests/katakana/dicrc\n",
            "mecab-0.996-ko-0.9.2/tests/katakana/dic.csv\n",
            "mecab-0.996-ko-0.9.2/tests/katakana/test\n",
            "mecab-0.996-ko-0.9.2/tests/katakana/char.def\n",
            "mecab-0.996-ko-0.9.2/tests/katakana/matrix.def\n",
            "mecab-0.996-ko-0.9.2/tests/katakana/test.gld\n",
            "mecab-0.996-ko-0.9.2/tests/eval/\n",
            "mecab-0.996-ko-0.9.2/tests/eval/answer\n",
            "mecab-0.996-ko-0.9.2/tests/eval/system\n",
            "mecab-0.996-ko-0.9.2/tests/eval/test.gld\n",
            "mecab-0.996-ko-0.9.2/tests/shiin/\n",
            "mecab-0.996-ko-0.9.2/tests/shiin/unk.def\n",
            "mecab-0.996-ko-0.9.2/tests/shiin/dicrc\n",
            "mecab-0.996-ko-0.9.2/tests/shiin/dic.csv\n",
            "mecab-0.996-ko-0.9.2/tests/shiin/test\n",
            "mecab-0.996-ko-0.9.2/tests/shiin/char.def\n",
            "mecab-0.996-ko-0.9.2/tests/shiin/matrix.def\n",
            "mecab-0.996-ko-0.9.2/tests/shiin/mkdic.pl\n",
            "mecab-0.996-ko-0.9.2/tests/shiin/test.gld\n",
            "mecab-0.996-ko-0.9.2/tests/latin/\n",
            "mecab-0.996-ko-0.9.2/tests/latin/unk.def\n",
            "mecab-0.996-ko-0.9.2/tests/latin/dicrc\n",
            "mecab-0.996-ko-0.9.2/tests/latin/dic.csv\n",
            "mecab-0.996-ko-0.9.2/tests/latin/test\n",
            "mecab-0.996-ko-0.9.2/tests/latin/char.def\n",
            "mecab-0.996-ko-0.9.2/tests/latin/matrix.def\n",
            "mecab-0.996-ko-0.9.2/tests/latin/test.gld\n",
            "mecab-0.996-ko-0.9.2/tests/chartype/\n",
            "mecab-0.996-ko-0.9.2/tests/chartype/unk.def\n",
            "mecab-0.996-ko-0.9.2/tests/chartype/dicrc\n",
            "mecab-0.996-ko-0.9.2/tests/chartype/dic.csv\n",
            "mecab-0.996-ko-0.9.2/tests/chartype/test\n",
            "mecab-0.996-ko-0.9.2/tests/chartype/char.def\n",
            "mecab-0.996-ko-0.9.2/tests/chartype/matrix.def\n",
            "mecab-0.996-ko-0.9.2/tests/chartype/test.gld\n",
            "mecab-0.996-ko-0.9.2/tests/run-dics.sh\n",
            "mecab-0.996-ko-0.9.2/tests/ngram/\n",
            "mecab-0.996-ko-0.9.2/tests/ngram/unk.def\n",
            "mecab-0.996-ko-0.9.2/tests/ngram/dicrc\n",
            "mecab-0.996-ko-0.9.2/tests/ngram/dic.csv\n",
            "mecab-0.996-ko-0.9.2/tests/ngram/test\n",
            "mecab-0.996-ko-0.9.2/tests/ngram/char.def\n",
            "mecab-0.996-ko-0.9.2/tests/ngram/matrix.def\n",
            "mecab-0.996-ko-0.9.2/tests/ngram/test.gld\n",
            "mecab-0.996-ko-0.9.2/tests/Makefile.in\n",
            "mecab-0.996-ko-0.9.2/ltmain.sh\n",
            "mecab-0.996-ko-0.9.2/config.rpath\n",
            "mecab-0.996-ko-0.9.2/config.h.in\n",
            "mecab-0.996-ko-0.9.2/mecabrc.in\n",
            "mecab-0.996-ko-0.9.2/GPL\n",
            "mecab-0.996-ko-0.9.2/Makefile.train\n",
            "mecab-0.996-ko-0.9.2/ChangeLog\n",
            "mecab-0.996-ko-0.9.2/install-sh\n",
            "mecab-0.996-ko-0.9.2/AUTHORS\n",
            "mecab-0.996-ko-0.9.2/doc/\n",
            "mecab-0.996-ko-0.9.2/doc/bindings.html\n",
            "mecab-0.996-ko-0.9.2/doc/posid.html\n",
            "mecab-0.996-ko-0.9.2/doc/unk.html\n",
            "mecab-0.996-ko-0.9.2/doc/learn.html\n",
            "mecab-0.996-ko-0.9.2/doc/format.html\n",
            "mecab-0.996-ko-0.9.2/doc/libmecab.html\n",
            "mecab-0.996-ko-0.9.2/doc/mecab.css\n",
            "mecab-0.996-ko-0.9.2/doc/feature.html\n",
            "mecab-0.996-ko-0.9.2/doc/Makefile.am\n",
            "mecab-0.996-ko-0.9.2/doc/soft.html\n",
            "mecab-0.996-ko-0.9.2/doc/en/\n",
            "mecab-0.996-ko-0.9.2/doc/en/bindings.html\n",
            "mecab-0.996-ko-0.9.2/doc/dic-detail.html\n",
            "mecab-0.996-ko-0.9.2/doc/flow.png\n",
            "mecab-0.996-ko-0.9.2/doc/mecab.html\n",
            "mecab-0.996-ko-0.9.2/doc/index.html\n",
            "mecab-0.996-ko-0.9.2/doc/result.png\n",
            "mecab-0.996-ko-0.9.2/doc/doxygen/\n",
            "mecab-0.996-ko-0.9.2/doc/doxygen/tab_a.png\n",
            "mecab-0.996-ko-0.9.2/doc/doxygen/globals_eval.html\n",
            "mecab-0.996-ko-0.9.2/doc/doxygen/classMeCab_1_1Tagger-members.html\n",
            "mecab-0.996-ko-0.9.2/doc/doxygen/functions_vars.html\n",
            "mecab-0.996-ko-0.9.2/doc/doxygen/doxygen.css\n",
            "mecab-0.996-ko-0.9.2/doc/doxygen/tab_r.gif\n",
            "mecab-0.996-ko-0.9.2/doc/doxygen/classMeCab_1_1Lattice.html\n",
            "mecab-0.996-ko-0.9.2/doc/doxygen/functions.html\n",
            "mecab-0.996-ko-0.9.2/doc/doxygen/classMeCab_1_1Tagger.html\n",
            "mecab-0.996-ko-0.9.2/doc/doxygen/mecab_8h_source.html\n",
            "mecab-0.996-ko-0.9.2/doc/doxygen/tabs.css\n",
            "mecab-0.996-ko-0.9.2/doc/doxygen/nav_f.png\n",
            "mecab-0.996-ko-0.9.2/doc/doxygen/tab_b.png\n",
            "mecab-0.996-ko-0.9.2/doc/doxygen/globals.html\n",
            "mecab-0.996-ko-0.9.2/doc/doxygen/nav_h.png\n",
            "mecab-0.996-ko-0.9.2/doc/doxygen/tab_h.png\n",
            "mecab-0.996-ko-0.9.2/doc/doxygen/classMeCab_1_1Model.html\n",
            "mecab-0.996-ko-0.9.2/doc/doxygen/globals_func.html\n",
            "mecab-0.996-ko-0.9.2/doc/doxygen/closed.png\n",
            "mecab-0.996-ko-0.9.2/doc/doxygen/tab_l.gif\n",
            "mecab-0.996-ko-0.9.2/doc/doxygen/structmecab__path__t-members.html\n",
            "mecab-0.996-ko-0.9.2/doc/doxygen/functions_func.html\n",
            "mecab-0.996-ko-0.9.2/doc/doxygen/globals_type.html\n",
            "mecab-0.996-ko-0.9.2/doc/doxygen/classMeCab_1_1Lattice-members.html\n",
            "mecab-0.996-ko-0.9.2/doc/doxygen/structmecab__node__t.html\n",
            "mecab-0.996-ko-0.9.2/doc/doxygen/namespacemembers_func.html\n",
            "mecab-0.996-ko-0.9.2/doc/doxygen/tab_s.png\n",
            "mecab-0.996-ko-0.9.2/doc/doxygen/structmecab__dictionary__info__t-members.html\n",
            "mecab-0.996-ko-0.9.2/doc/doxygen/namespacemembers_type.html\n",
            "mecab-0.996-ko-0.9.2/doc/doxygen/classMeCab_1_1Model-members.html\n",
            "mecab-0.996-ko-0.9.2/doc/doxygen/structmecab__dictionary__info__t.html\n",
            "mecab-0.996-ko-0.9.2/doc/doxygen/namespaces.html\n",
            "mecab-0.996-ko-0.9.2/doc/doxygen/namespacemembers.html\n",
            "mecab-0.996-ko-0.9.2/doc/doxygen/namespaceMeCab.html\n",
            "mecab-0.996-ko-0.9.2/doc/doxygen/structmecab__path__t.html\n",
            "mecab-0.996-ko-0.9.2/doc/doxygen/files.html\n",
            "mecab-0.996-ko-0.9.2/doc/doxygen/structmecab__node__t-members.html\n",
            "mecab-0.996-ko-0.9.2/doc/doxygen/index.html\n",
            "mecab-0.996-ko-0.9.2/doc/doxygen/annotated.html\n",
            "mecab-0.996-ko-0.9.2/doc/doxygen/globals_defs.html\n",
            "mecab-0.996-ko-0.9.2/doc/doxygen/classes.html\n",
            "mecab-0.996-ko-0.9.2/doc/doxygen/mecab_8h-source.html\n",
            "mecab-0.996-ko-0.9.2/doc/doxygen/doxygen.png\n",
            "mecab-0.996-ko-0.9.2/doc/doxygen/tab_b.gif\n",
            "mecab-0.996-ko-0.9.2/doc/doxygen/bc_s.png\n",
            "mecab-0.996-ko-0.9.2/doc/doxygen/open.png\n",
            "mecab-0.996-ko-0.9.2/doc/doxygen/mecab_8h.html\n",
            "mecab-0.996-ko-0.9.2/doc/dic.html\n",
            "mecab-0.996-ko-0.9.2/doc/partial.html\n",
            "mecab-0.996-ko-0.9.2/doc/feature.png\n",
            "mecab-0.996-ko-0.9.2/doc/Makefile.in\n",
            "mecab-0.996-ko-0.9.2/missing\n",
            "mecab-0.996-ko-0.9.2/BSD\n",
            "mecab-0.996-ko-0.9.2/NEWS\n",
            "mecab-0.996-ko-0.9.2/mkinstalldirs\n",
            "mecab-0.996-ko-0.9.2/src/\n",
            "mecab-0.996-ko-0.9.2/src/dictionary.h\n",
            "mecab-0.996-ko-0.9.2/src/writer.h\n",
            "mecab-0.996-ko-0.9.2/src/utils.h\n",
            "mecab-0.996-ko-0.9.2/src/string_buffer.cpp\n",
            "mecab-0.996-ko-0.9.2/src/tokenizer.cpp\n",
            "mecab-0.996-ko-0.9.2/src/make.bat\n",
            "mecab-0.996-ko-0.9.2/src/mecab.h\n",
            "mecab-0.996-ko-0.9.2/src/freelist.h\n",
            "mecab-0.996-ko-0.9.2/src/string_buffer.h\n",
            "mecab-0.996-ko-0.9.2/src/learner_tagger.h\n",
            "mecab-0.996-ko-0.9.2/src/dictionary_compiler.cpp\n",
            "mecab-0.996-ko-0.9.2/src/eval.cpp\n",
            "mecab-0.996-ko-0.9.2/src/mecab-system-eval.cpp\n",
            "mecab-0.996-ko-0.9.2/src/darts.h\n",
            "mecab-0.996-ko-0.9.2/src/param.h\n",
            "mecab-0.996-ko-0.9.2/src/char_property.h\n",
            "mecab-0.996-ko-0.9.2/src/learner_node.h\n",
            "mecab-0.996-ko-0.9.2/src/mecab-dict-gen.cpp\n",
            "mecab-0.996-ko-0.9.2/src/mecab-dict-index.cpp\n",
            "mecab-0.996-ko-0.9.2/src/winmain.h\n",
            "mecab-0.996-ko-0.9.2/src/thread.h\n",
            "mecab-0.996-ko-0.9.2/src/context_id.cpp\n",
            "mecab-0.996-ko-0.9.2/src/Makefile.am\n",
            "mecab-0.996-ko-0.9.2/src/connector.h\n",
            "mecab-0.996-ko-0.9.2/src/common.h\n",
            "mecab-0.996-ko-0.9.2/src/dictionary_rewriter.cpp\n",
            "mecab-0.996-ko-0.9.2/src/Makefile.msvc.in\n",
            "mecab-0.996-ko-0.9.2/src/dictionary_rewriter.h\n",
            "mecab-0.996-ko-0.9.2/src/feature_index.h\n",
            "mecab-0.996-ko-0.9.2/src/iconv_utils.cpp\n",
            "mecab-0.996-ko-0.9.2/src/char_property.cpp\n",
            "mecab-0.996-ko-0.9.2/src/mecab-test-gen.cpp\n",
            "mecab-0.996-ko-0.9.2/src/tagger.cpp\n",
            "mecab-0.996-ko-0.9.2/src/mecab-cost-train.cpp\n",
            "mecab-0.996-ko-0.9.2/src/learner.cpp\n",
            "mecab-0.996-ko-0.9.2/src/dictionary.cpp\n",
            "mecab-0.996-ko-0.9.2/src/lbfgs.cpp\n",
            "mecab-0.996-ko-0.9.2/src/ucs.h\n",
            "mecab-0.996-ko-0.9.2/src/writer.cpp\n",
            "mecab-0.996-ko-0.9.2/src/learner_tagger.cpp\n",
            "mecab-0.996-ko-0.9.2/src/lbfgs.h\n",
            "mecab-0.996-ko-0.9.2/src/libmecab.cpp\n",
            "mecab-0.996-ko-0.9.2/src/tokenizer.h\n",
            "mecab-0.996-ko-0.9.2/src/mecab.cpp\n",
            "mecab-0.996-ko-0.9.2/src/utils.cpp\n",
            "mecab-0.996-ko-0.9.2/src/dictionary_generator.cpp\n",
            "mecab-0.996-ko-0.9.2/src/param.cpp\n",
            "mecab-0.996-ko-0.9.2/src/context_id.h\n",
            "mecab-0.996-ko-0.9.2/src/mmap.h\n",
            "mecab-0.996-ko-0.9.2/src/viterbi.h\n",
            "mecab-0.996-ko-0.9.2/src/viterbi.cpp\n",
            "mecab-0.996-ko-0.9.2/src/stream_wrapper.h\n",
            "mecab-0.996-ko-0.9.2/src/feature_index.cpp\n",
            "mecab-0.996-ko-0.9.2/src/nbest_generator.h\n",
            "mecab-0.996-ko-0.9.2/src/ucstable.h\n",
            "mecab-0.996-ko-0.9.2/src/nbest_generator.cpp\n",
            "mecab-0.996-ko-0.9.2/src/iconv_utils.h\n",
            "mecab-0.996-ko-0.9.2/src/connector.cpp\n",
            "mecab-0.996-ko-0.9.2/src/Makefile.in\n",
            "mecab-0.996-ko-0.9.2/src/scoped_ptr.h\n",
            "mecab-0.996-ko-0.9.2/Makefile.in\n",
            "checking for a BSD-compatible install... /usr/bin/install -c\n",
            "checking whether build environment is sane... yes\n",
            "checking for a thread-safe mkdir -p... /bin/mkdir -p\n",
            "checking for gawk... no\n",
            "checking for mawk... mawk\n",
            "checking whether make sets $(MAKE)... yes\n",
            "checking for gcc... gcc\n",
            "checking whether the C compiler works... yes\n",
            "checking for C compiler default output file name... a.out\n",
            "checking for suffix of executables... \n",
            "checking whether we are cross compiling... no\n",
            "checking for suffix of object files... o\n",
            "checking whether we are using the GNU C compiler... yes\n",
            "checking whether gcc accepts -g... yes\n",
            "checking for gcc option to accept ISO C89... none needed\n",
            "checking for style of include used by make... GNU\n",
            "checking dependency style of gcc... none\n",
            "checking for g++... g++\n",
            "checking whether we are using the GNU C++ compiler... yes\n",
            "checking whether g++ accepts -g... yes\n",
            "checking dependency style of g++... none\n",
            "checking how to run the C preprocessor... gcc -E\n",
            "checking for grep that handles long lines and -e... /bin/grep\n",
            "checking for egrep... /bin/grep -E\n",
            "checking whether gcc needs -traditional... no\n",
            "checking whether make sets $(MAKE)... (cached) yes\n",
            "checking build system type... x86_64-unknown-linux-gnu\n",
            "checking host system type... x86_64-unknown-linux-gnu\n",
            "checking how to print strings... printf\n",
            "checking for a sed that does not truncate output... /bin/sed\n",
            "checking for fgrep... /bin/grep -F\n",
            "checking for ld used by gcc... /usr/bin/ld\n",
            "checking if the linker (/usr/bin/ld) is GNU ld... yes\n",
            "checking for BSD- or MS-compatible name lister (nm)... /usr/bin/nm -B\n",
            "checking the name lister (/usr/bin/nm -B) interface... BSD nm\n",
            "checking whether ln -s works... yes\n",
            "checking the maximum length of command line arguments... 1572864\n",
            "checking whether the shell understands some XSI constructs... yes\n",
            "checking whether the shell understands \"+=\"... yes\n",
            "checking how to convert x86_64-unknown-linux-gnu file names to x86_64-unknown-linux-gnu format... func_convert_file_noop\n",
            "checking how to convert x86_64-unknown-linux-gnu file names to toolchain format... func_convert_file_noop\n",
            "checking for /usr/bin/ld option to reload object files... -r\n",
            "checking for objdump... objdump\n",
            "checking how to recognize dependent libraries... pass_all\n",
            "checking for dlltool... dlltool\n",
            "checking how to associate runtime and link libraries... printf %s\\n\n",
            "checking for ar... ar\n",
            "checking for archiver @FILE support... @\n",
            "checking for strip... strip\n",
            "checking for ranlib... ranlib\n",
            "checking command to parse /usr/bin/nm -B output from gcc object... ok\n",
            "checking for sysroot... no\n",
            "./configure: line 7378: /usr/bin/file: No such file or directory\n",
            "checking for mt... no\n",
            "checking if : is a manifest tool... no\n",
            "checking for ANSI C header files... yes\n",
            "checking for sys/types.h... yes\n",
            "checking for sys/stat.h... yes\n",
            "checking for stdlib.h... yes\n",
            "checking for string.h... yes\n",
            "checking for memory.h... yes\n",
            "checking for strings.h... yes\n",
            "checking for inttypes.h... yes\n",
            "checking for stdint.h... yes\n",
            "checking for unistd.h... yes\n",
            "checking for dlfcn.h... yes\n",
            "checking for objdir... .libs\n",
            "checking if gcc supports -fno-rtti -fno-exceptions... no\n",
            "checking for gcc option to produce PIC... -fPIC -DPIC\n",
            "checking if gcc PIC flag -fPIC -DPIC works... yes\n",
            "checking if gcc static flag -static works... yes\n",
            "checking if gcc supports -c -o file.o... yes\n",
            "checking if gcc supports -c -o file.o... (cached) yes\n",
            "checking whether the gcc linker (/usr/bin/ld) supports shared libraries... yes\n",
            "checking whether -lc should be explicitly linked in... no\n",
            "checking dynamic linker characteristics... GNU/Linux ld.so\n",
            "checking how to hardcode library paths into programs... immediate\n",
            "checking whether stripping libraries is possible... yes\n",
            "checking if libtool supports shared libraries... yes\n",
            "checking whether to build shared libraries... yes\n",
            "checking whether to build static libraries... yes\n",
            "checking how to run the C++ preprocessor... g++ -E\n",
            "checking for ld used by g++... /usr/bin/ld\n",
            "checking if the linker (/usr/bin/ld) is GNU ld... yes\n",
            "checking whether the g++ linker (/usr/bin/ld) supports shared libraries... yes\n",
            "checking for g++ option to produce PIC... -fPIC -DPIC\n",
            "checking if g++ PIC flag -fPIC -DPIC works... yes\n",
            "checking if g++ static flag -static works... yes\n",
            "checking if g++ supports -c -o file.o... yes\n",
            "checking if g++ supports -c -o file.o... (cached) yes\n",
            "checking whether the g++ linker (/usr/bin/ld) supports shared libraries... yes\n",
            "checking dynamic linker characteristics... (cached) GNU/Linux ld.so\n",
            "checking how to hardcode library paths into programs... immediate\n",
            "checking for library containing strerror... none required\n",
            "checking whether byte ordering is bigendian... no\n",
            "checking for ld used by GCC... /usr/bin/ld\n",
            "checking if the linker (/usr/bin/ld) is GNU ld... yes\n",
            "checking for shared library run path origin... done\n",
            "checking for iconv... yes\n",
            "checking for working iconv... yes\n",
            "checking for iconv declaration... \n",
            "         extern size_t iconv (iconv_t cd, char * *inbuf, size_t *inbytesleft, char * *outbuf, size_t *outbytesleft);\n",
            "checking for ANSI C header files... (cached) yes\n",
            "checking for an ANSI C-conforming const... yes\n",
            "checking whether byte ordering is bigendian... (cached) no\n",
            "checking for string.h... (cached) yes\n",
            "checking for stdlib.h... (cached) yes\n",
            "checking for unistd.h... (cached) yes\n",
            "checking fcntl.h usability... yes\n",
            "checking fcntl.h presence... yes\n",
            "checking for fcntl.h... yes\n",
            "checking for stdint.h... (cached) yes\n",
            "checking for sys/stat.h... (cached) yes\n",
            "checking sys/mman.h usability... yes\n",
            "checking sys/mman.h presence... yes\n",
            "checking for sys/mman.h... yes\n",
            "checking sys/times.h usability... yes\n",
            "checking sys/times.h presence... yes\n",
            "checking for sys/times.h... yes\n",
            "checking for sys/types.h... (cached) yes\n",
            "checking dirent.h usability... yes\n",
            "checking dirent.h presence... yes\n",
            "checking for dirent.h... yes\n",
            "checking ctype.h usability... yes\n",
            "checking ctype.h presence... yes\n",
            "checking for ctype.h... yes\n",
            "checking for sys/types.h... (cached) yes\n",
            "checking io.h usability... no\n",
            "checking io.h presence... no\n",
            "checking for io.h... no\n",
            "checking windows.h usability... no\n",
            "checking windows.h presence... no\n",
            "checking for windows.h... no\n",
            "checking pthread.h usability... yes\n",
            "checking pthread.h presence... yes\n",
            "checking for pthread.h... yes\n",
            "checking for off_t... yes\n",
            "checking for size_t... yes\n",
            "checking size of char... 1\n",
            "checking size of short... 2\n",
            "checking size of int... 4\n",
            "checking size of long... 8\n",
            "checking size of long long... 8\n",
            "checking size of size_t... 8\n",
            "checking for size_t... (cached) yes\n",
            "checking for unsigned long long int... yes\n",
            "checking for stdlib.h... (cached) yes\n",
            "checking for unistd.h... (cached) yes\n",
            "checking for sys/param.h... yes\n",
            "checking for getpagesize... yes\n",
            "checking for working mmap... yes\n",
            "checking for main in -lstdc++... yes\n",
            "checking for pthread_create in -lpthread... yes\n",
            "checking for pthread_join in -lpthread... yes\n",
            "checking for getenv... yes\n",
            "checking for opendir... yes\n",
            "checking whether make is GNU Make... yes\n",
            "checking if g++ supports stl <vector> (required)... yes\n",
            "checking if g++ supports stl <list> (required)... yes\n",
            "checking if g++ supports stl <map> (required)... yes\n",
            "checking if g++ supports stl <set> (required)... yes\n",
            "checking if g++ supports stl <queue> (required)... yes\n",
            "checking if g++ supports stl <functional> (required)... yes\n",
            "checking if g++ supports stl <algorithm> (required)... yes\n",
            "checking if g++ supports stl <string> (required)... yes\n",
            "checking if g++ supports stl <iostream> (required)... yes\n",
            "checking if g++ supports stl <sstream> (required)... yes\n",
            "checking if g++ supports stl <fstream> (required)... yes\n",
            "checking if g++ supports template <class T> (required)... yes\n",
            "checking if g++ supports const_cast<> (required)... yes\n",
            "checking if g++ supports static_cast<> (required)... yes\n",
            "checking if g++ supports reinterpret_cast<> (required)... yes\n",
            "checking if g++ supports namespaces (required) ... yes\n",
            "checking if g++ supports __thread (optional)... yes\n",
            "checking if g++ supports template <class T> (required)... yes\n",
            "checking if g++ supports GCC native atomic operations (optional)... yes\n",
            "checking if g++ supports OSX native atomic operations (optional)... no\n",
            "checking if g++ environment provides all required features... yes\n",
            "configure: creating ./config.status\n",
            "config.status: creating Makefile\n",
            "config.status: creating src/Makefile\n",
            "config.status: creating src/Makefile.msvc\n",
            "config.status: creating man/Makefile\n",
            "config.status: creating doc/Makefile\n",
            "config.status: creating tests/Makefile\n",
            "config.status: creating swig/version.h\n",
            "config.status: creating mecab.iss\n",
            "config.status: creating mecab-config\n",
            "config.status: creating mecabrc\n",
            "config.status: creating config.h\n",
            "config.status: executing depfiles commands\n",
            "config.status: executing libtool commands\n",
            "config.status: executing default commands\n",
            "make  all-recursive\n",
            "make[1]: Entering directory '/tmp/mecab-0.996-ko-0.9.2'\n",
            "Making all in src\n",
            "make[2]: Entering directory '/tmp/mecab-0.996-ko-0.9.2/src'\n",
            "/bin/bash ../libtool --tag=CXX   --mode=compile g++ -DHAVE_CONFIG_H -I. -I.. -DDIC_VERSION=102   -DMECAB_DEFAULT_RC=\"\\\"/usr/local/etc/mecabrc\\\"\"    -O3 -Wall  -c -o viterbi.lo viterbi.cpp\n",
            "libtool: compile:  g++ -DHAVE_CONFIG_H -I. -I.. -DDIC_VERSION=102 -DMECAB_DEFAULT_RC=\\\"/usr/local/etc/mecabrc\\\" -O3 -Wall -c viterbi.cpp  -fPIC -DPIC -o .libs/viterbi.o\n",
            "In file included from \u001b[01m\u001b[Kviterbi.cpp:14:0\u001b[m\u001b[K:\n",
            "\u001b[01m\u001b[Kparam.h:30:13:\u001b[m\u001b[K \u001b[01;35m\u001b[Kwarning: \u001b[m\u001b[K'\u001b[01m\u001b[KTarget {anonymous}::lexical_cast(Source) [with Target = std::__cxx11::basic_string<char>; Source = std::__cxx11::basic_string<char>]\u001b[m\u001b[K' defined but not used [\u001b[01;35m\u001b[K-Wunused-function\u001b[m\u001b[K]\n",
            " std::string \u001b[01;35m\u001b[Klexical_cast<std::string, std::string>\u001b[m\u001b[K(std::string arg) {\n",
            "             \u001b[01;35m\u001b[K^~~~~~~~~~~~~~~~~~~~~~~~~~~~~~~~~~~~~~\u001b[m\u001b[K\n",
            "libtool: compile:  g++ -DHAVE_CONFIG_H -I. -I.. -DDIC_VERSION=102 -DMECAB_DEFAULT_RC=\\\"/usr/local/etc/mecabrc\\\" -O3 -Wall -c viterbi.cpp -o viterbi.o >/dev/null 2>&1\n",
            "/bin/bash ../libtool --tag=CXX   --mode=compile g++ -DHAVE_CONFIG_H -I. -I.. -DDIC_VERSION=102   -DMECAB_DEFAULT_RC=\"\\\"/usr/local/etc/mecabrc\\\"\"    -O3 -Wall  -c -o tagger.lo tagger.cpp\n",
            "libtool: compile:  g++ -DHAVE_CONFIG_H -I. -I.. -DDIC_VERSION=102 -DMECAB_DEFAULT_RC=\\\"/usr/local/etc/mecabrc\\\" -O3 -Wall -c tagger.cpp  -fPIC -DPIC -o .libs/tagger.o\n",
            "libtool: compile:  g++ -DHAVE_CONFIG_H -I. -I.. -DDIC_VERSION=102 -DMECAB_DEFAULT_RC=\\\"/usr/local/etc/mecabrc\\\" -O3 -Wall -c tagger.cpp -o tagger.o >/dev/null 2>&1\n",
            "/bin/bash ../libtool --tag=CXX   --mode=compile g++ -DHAVE_CONFIG_H -I. -I.. -DDIC_VERSION=102   -DMECAB_DEFAULT_RC=\"\\\"/usr/local/etc/mecabrc\\\"\"    -O3 -Wall  -c -o utils.lo utils.cpp\n",
            "libtool: compile:  g++ -DHAVE_CONFIG_H -I. -I.. -DDIC_VERSION=102 -DMECAB_DEFAULT_RC=\\\"/usr/local/etc/mecabrc\\\" -O3 -Wall -c utils.cpp  -fPIC -DPIC -o .libs/utils.o\n",
            "libtool: compile:  g++ -DHAVE_CONFIG_H -I. -I.. -DDIC_VERSION=102 -DMECAB_DEFAULT_RC=\\\"/usr/local/etc/mecabrc\\\" -O3 -Wall -c utils.cpp -o utils.o >/dev/null 2>&1\n",
            "/bin/bash ../libtool --tag=CXX   --mode=compile g++ -DHAVE_CONFIG_H -I. -I.. -DDIC_VERSION=102   -DMECAB_DEFAULT_RC=\"\\\"/usr/local/etc/mecabrc\\\"\"    -O3 -Wall  -c -o eval.lo eval.cpp\n",
            "libtool: compile:  g++ -DHAVE_CONFIG_H -I. -I.. -DDIC_VERSION=102 -DMECAB_DEFAULT_RC=\\\"/usr/local/etc/mecabrc\\\" -O3 -Wall -c eval.cpp  -fPIC -DPIC -o .libs/eval.o\n",
            "libtool: compile:  g++ -DHAVE_CONFIG_H -I. -I.. -DDIC_VERSION=102 -DMECAB_DEFAULT_RC=\\\"/usr/local/etc/mecabrc\\\" -O3 -Wall -c eval.cpp -o eval.o >/dev/null 2>&1\n",
            "/bin/bash ../libtool --tag=CXX   --mode=compile g++ -DHAVE_CONFIG_H -I. -I.. -DDIC_VERSION=102   -DMECAB_DEFAULT_RC=\"\\\"/usr/local/etc/mecabrc\\\"\"    -O3 -Wall  -c -o iconv_utils.lo iconv_utils.cpp\n",
            "libtool: compile:  g++ -DHAVE_CONFIG_H -I. -I.. -DDIC_VERSION=102 -DMECAB_DEFAULT_RC=\\\"/usr/local/etc/mecabrc\\\" -O3 -Wall -c iconv_utils.cpp  -fPIC -DPIC -o .libs/iconv_utils.o\n",
            "libtool: compile:  g++ -DHAVE_CONFIG_H -I. -I.. -DDIC_VERSION=102 -DMECAB_DEFAULT_RC=\\\"/usr/local/etc/mecabrc\\\" -O3 -Wall -c iconv_utils.cpp -o iconv_utils.o >/dev/null 2>&1\n",
            "/bin/bash ../libtool --tag=CXX   --mode=compile g++ -DHAVE_CONFIG_H -I. -I.. -DDIC_VERSION=102   -DMECAB_DEFAULT_RC=\"\\\"/usr/local/etc/mecabrc\\\"\"    -O3 -Wall  -c -o dictionary_rewriter.lo dictionary_rewriter.cpp\n",
            "libtool: compile:  g++ -DHAVE_CONFIG_H -I. -I.. -DDIC_VERSION=102 -DMECAB_DEFAULT_RC=\\\"/usr/local/etc/mecabrc\\\" -O3 -Wall -c dictionary_rewriter.cpp  -fPIC -DPIC -o .libs/dictionary_rewriter.o\n",
            "libtool: compile:  g++ -DHAVE_CONFIG_H -I. -I.. -DDIC_VERSION=102 -DMECAB_DEFAULT_RC=\\\"/usr/local/etc/mecabrc\\\" -O3 -Wall -c dictionary_rewriter.cpp -o dictionary_rewriter.o >/dev/null 2>&1\n",
            "/bin/bash ../libtool --tag=CXX   --mode=compile g++ -DHAVE_CONFIG_H -I. -I.. -DDIC_VERSION=102   -DMECAB_DEFAULT_RC=\"\\\"/usr/local/etc/mecabrc\\\"\"    -O3 -Wall  -c -o dictionary_generator.lo dictionary_generator.cpp\n",
            "libtool: compile:  g++ -DHAVE_CONFIG_H -I. -I.. -DDIC_VERSION=102 -DMECAB_DEFAULT_RC=\\\"/usr/local/etc/mecabrc\\\" -O3 -Wall -c dictionary_generator.cpp  -fPIC -DPIC -o .libs/dictionary_generator.o\n",
            "libtool: compile:  g++ -DHAVE_CONFIG_H -I. -I.. -DDIC_VERSION=102 -DMECAB_DEFAULT_RC=\\\"/usr/local/etc/mecabrc\\\" -O3 -Wall -c dictionary_generator.cpp -o dictionary_generator.o >/dev/null 2>&1\n",
            "/bin/bash ../libtool --tag=CXX   --mode=compile g++ -DHAVE_CONFIG_H -I. -I.. -DDIC_VERSION=102   -DMECAB_DEFAULT_RC=\"\\\"/usr/local/etc/mecabrc\\\"\"    -O3 -Wall  -c -o dictionary_compiler.lo dictionary_compiler.cpp\n",
            "libtool: compile:  g++ -DHAVE_CONFIG_H -I. -I.. -DDIC_VERSION=102 -DMECAB_DEFAULT_RC=\\\"/usr/local/etc/mecabrc\\\" -O3 -Wall -c dictionary_compiler.cpp  -fPIC -DPIC -o .libs/dictionary_compiler.o\n",
            "libtool: compile:  g++ -DHAVE_CONFIG_H -I. -I.. -DDIC_VERSION=102 -DMECAB_DEFAULT_RC=\\\"/usr/local/etc/mecabrc\\\" -O3 -Wall -c dictionary_compiler.cpp -o dictionary_compiler.o >/dev/null 2>&1\n",
            "/bin/bash ../libtool --tag=CXX   --mode=compile g++ -DHAVE_CONFIG_H -I. -I.. -DDIC_VERSION=102   -DMECAB_DEFAULT_RC=\"\\\"/usr/local/etc/mecabrc\\\"\"    -O3 -Wall  -c -o context_id.lo context_id.cpp\n",
            "libtool: compile:  g++ -DHAVE_CONFIG_H -I. -I.. -DDIC_VERSION=102 -DMECAB_DEFAULT_RC=\\\"/usr/local/etc/mecabrc\\\" -O3 -Wall -c context_id.cpp  -fPIC -DPIC -o .libs/context_id.o\n",
            "libtool: compile:  g++ -DHAVE_CONFIG_H -I. -I.. -DDIC_VERSION=102 -DMECAB_DEFAULT_RC=\\\"/usr/local/etc/mecabrc\\\" -O3 -Wall -c context_id.cpp -o context_id.o >/dev/null 2>&1\n",
            "/bin/bash ../libtool --tag=CXX   --mode=compile g++ -DHAVE_CONFIG_H -I. -I.. -DDIC_VERSION=102   -DMECAB_DEFAULT_RC=\"\\\"/usr/local/etc/mecabrc\\\"\"    -O3 -Wall  -c -o connector.lo connector.cpp\n",
            "libtool: compile:  g++ -DHAVE_CONFIG_H -I. -I.. -DDIC_VERSION=102 -DMECAB_DEFAULT_RC=\\\"/usr/local/etc/mecabrc\\\" -O3 -Wall -c connector.cpp  -fPIC -DPIC -o .libs/connector.o\n",
            "libtool: compile:  g++ -DHAVE_CONFIG_H -I. -I.. -DDIC_VERSION=102 -DMECAB_DEFAULT_RC=\\\"/usr/local/etc/mecabrc\\\" -O3 -Wall -c connector.cpp -o connector.o >/dev/null 2>&1\n",
            "/bin/bash ../libtool --tag=CXX   --mode=compile g++ -DHAVE_CONFIG_H -I. -I.. -DDIC_VERSION=102   -DMECAB_DEFAULT_RC=\"\\\"/usr/local/etc/mecabrc\\\"\"    -O3 -Wall  -c -o nbest_generator.lo nbest_generator.cpp\n",
            "libtool: compile:  g++ -DHAVE_CONFIG_H -I. -I.. -DDIC_VERSION=102 -DMECAB_DEFAULT_RC=\\\"/usr/local/etc/mecabrc\\\" -O3 -Wall -c nbest_generator.cpp  -fPIC -DPIC -o .libs/nbest_generator.o\n",
            "libtool: compile:  g++ -DHAVE_CONFIG_H -I. -I.. -DDIC_VERSION=102 -DMECAB_DEFAULT_RC=\\\"/usr/local/etc/mecabrc\\\" -O3 -Wall -c nbest_generator.cpp -o nbest_generator.o >/dev/null 2>&1\n",
            "/bin/bash ../libtool --tag=CXX   --mode=compile g++ -DHAVE_CONFIG_H -I. -I.. -DDIC_VERSION=102   -DMECAB_DEFAULT_RC=\"\\\"/usr/local/etc/mecabrc\\\"\"    -O3 -Wall  -c -o writer.lo writer.cpp\n",
            "libtool: compile:  g++ -DHAVE_CONFIG_H -I. -I.. -DDIC_VERSION=102 -DMECAB_DEFAULT_RC=\\\"/usr/local/etc/mecabrc\\\" -O3 -Wall -c writer.cpp  -fPIC -DPIC -o .libs/writer.o\n",
            "libtool: compile:  g++ -DHAVE_CONFIG_H -I. -I.. -DDIC_VERSION=102 -DMECAB_DEFAULT_RC=\\\"/usr/local/etc/mecabrc\\\" -O3 -Wall -c writer.cpp -o writer.o >/dev/null 2>&1\n",
            "/bin/bash ../libtool --tag=CXX   --mode=compile g++ -DHAVE_CONFIG_H -I. -I.. -DDIC_VERSION=102   -DMECAB_DEFAULT_RC=\"\\\"/usr/local/etc/mecabrc\\\"\"    -O3 -Wall  -c -o string_buffer.lo string_buffer.cpp\n",
            "libtool: compile:  g++ -DHAVE_CONFIG_H -I. -I.. -DDIC_VERSION=102 -DMECAB_DEFAULT_RC=\\\"/usr/local/etc/mecabrc\\\" -O3 -Wall -c string_buffer.cpp  -fPIC -DPIC -o .libs/string_buffer.o\n",
            "libtool: compile:  g++ -DHAVE_CONFIG_H -I. -I.. -DDIC_VERSION=102 -DMECAB_DEFAULT_RC=\\\"/usr/local/etc/mecabrc\\\" -O3 -Wall -c string_buffer.cpp -o string_buffer.o >/dev/null 2>&1\n",
            "/bin/bash ../libtool --tag=CXX   --mode=compile g++ -DHAVE_CONFIG_H -I. -I.. -DDIC_VERSION=102   -DMECAB_DEFAULT_RC=\"\\\"/usr/local/etc/mecabrc\\\"\"    -O3 -Wall  -c -o param.lo param.cpp\n",
            "libtool: compile:  g++ -DHAVE_CONFIG_H -I. -I.. -DDIC_VERSION=102 -DMECAB_DEFAULT_RC=\\\"/usr/local/etc/mecabrc\\\" -O3 -Wall -c param.cpp  -fPIC -DPIC -o .libs/param.o\n",
            "libtool: compile:  g++ -DHAVE_CONFIG_H -I. -I.. -DDIC_VERSION=102 -DMECAB_DEFAULT_RC=\\\"/usr/local/etc/mecabrc\\\" -O3 -Wall -c param.cpp -o param.o >/dev/null 2>&1\n",
            "/bin/bash ../libtool --tag=CXX   --mode=compile g++ -DHAVE_CONFIG_H -I. -I.. -DDIC_VERSION=102   -DMECAB_DEFAULT_RC=\"\\\"/usr/local/etc/mecabrc\\\"\"    -O3 -Wall  -c -o tokenizer.lo tokenizer.cpp\n",
            "libtool: compile:  g++ -DHAVE_CONFIG_H -I. -I.. -DDIC_VERSION=102 -DMECAB_DEFAULT_RC=\\\"/usr/local/etc/mecabrc\\\" -O3 -Wall -c tokenizer.cpp  -fPIC -DPIC -o .libs/tokenizer.o\n",
            "libtool: compile:  g++ -DHAVE_CONFIG_H -I. -I.. -DDIC_VERSION=102 -DMECAB_DEFAULT_RC=\\\"/usr/local/etc/mecabrc\\\" -O3 -Wall -c tokenizer.cpp -o tokenizer.o >/dev/null 2>&1\n",
            "/bin/bash ../libtool --tag=CXX   --mode=compile g++ -DHAVE_CONFIG_H -I. -I.. -DDIC_VERSION=102   -DMECAB_DEFAULT_RC=\"\\\"/usr/local/etc/mecabrc\\\"\"    -O3 -Wall  -c -o char_property.lo char_property.cpp\n",
            "libtool: compile:  g++ -DHAVE_CONFIG_H -I. -I.. -DDIC_VERSION=102 -DMECAB_DEFAULT_RC=\\\"/usr/local/etc/mecabrc\\\" -O3 -Wall -c char_property.cpp  -fPIC -DPIC -o .libs/char_property.o\n",
            "libtool: compile:  g++ -DHAVE_CONFIG_H -I. -I.. -DDIC_VERSION=102 -DMECAB_DEFAULT_RC=\\\"/usr/local/etc/mecabrc\\\" -O3 -Wall -c char_property.cpp -o char_property.o >/dev/null 2>&1\n",
            "/bin/bash ../libtool --tag=CXX   --mode=compile g++ -DHAVE_CONFIG_H -I. -I.. -DDIC_VERSION=102   -DMECAB_DEFAULT_RC=\"\\\"/usr/local/etc/mecabrc\\\"\"    -O3 -Wall  -c -o dictionary.lo dictionary.cpp\n",
            "libtool: compile:  g++ -DHAVE_CONFIG_H -I. -I.. -DDIC_VERSION=102 -DMECAB_DEFAULT_RC=\\\"/usr/local/etc/mecabrc\\\" -O3 -Wall -c dictionary.cpp  -fPIC -DPIC -o .libs/dictionary.o\n",
            "libtool: compile:  g++ -DHAVE_CONFIG_H -I. -I.. -DDIC_VERSION=102 -DMECAB_DEFAULT_RC=\\\"/usr/local/etc/mecabrc\\\" -O3 -Wall -c dictionary.cpp -o dictionary.o >/dev/null 2>&1\n",
            "/bin/bash ../libtool --tag=CXX   --mode=compile g++ -DHAVE_CONFIG_H -I. -I.. -DDIC_VERSION=102   -DMECAB_DEFAULT_RC=\"\\\"/usr/local/etc/mecabrc\\\"\"    -O3 -Wall  -c -o feature_index.lo feature_index.cpp\n",
            "libtool: compile:  g++ -DHAVE_CONFIG_H -I. -I.. -DDIC_VERSION=102 -DMECAB_DEFAULT_RC=\\\"/usr/local/etc/mecabrc\\\" -O3 -Wall -c feature_index.cpp  -fPIC -DPIC -o .libs/feature_index.o\n",
            "libtool: compile:  g++ -DHAVE_CONFIG_H -I. -I.. -DDIC_VERSION=102 -DMECAB_DEFAULT_RC=\\\"/usr/local/etc/mecabrc\\\" -O3 -Wall -c feature_index.cpp -o feature_index.o >/dev/null 2>&1\n",
            "/bin/bash ../libtool --tag=CXX   --mode=compile g++ -DHAVE_CONFIG_H -I. -I.. -DDIC_VERSION=102   -DMECAB_DEFAULT_RC=\"\\\"/usr/local/etc/mecabrc\\\"\"    -O3 -Wall  -c -o lbfgs.lo lbfgs.cpp\n",
            "libtool: compile:  g++ -DHAVE_CONFIG_H -I. -I.. -DDIC_VERSION=102 -DMECAB_DEFAULT_RC=\\\"/usr/local/etc/mecabrc\\\" -O3 -Wall -c lbfgs.cpp  -fPIC -DPIC -o .libs/lbfgs.o\n",
            "libtool: compile:  g++ -DHAVE_CONFIG_H -I. -I.. -DDIC_VERSION=102 -DMECAB_DEFAULT_RC=\\\"/usr/local/etc/mecabrc\\\" -O3 -Wall -c lbfgs.cpp -o lbfgs.o >/dev/null 2>&1\n",
            "/bin/bash ../libtool --tag=CXX   --mode=compile g++ -DHAVE_CONFIG_H -I. -I.. -DDIC_VERSION=102   -DMECAB_DEFAULT_RC=\"\\\"/usr/local/etc/mecabrc\\\"\"    -O3 -Wall  -c -o learner_tagger.lo learner_tagger.cpp\n",
            "libtool: compile:  g++ -DHAVE_CONFIG_H -I. -I.. -DDIC_VERSION=102 -DMECAB_DEFAULT_RC=\\\"/usr/local/etc/mecabrc\\\" -O3 -Wall -c learner_tagger.cpp  -fPIC -DPIC -o .libs/learner_tagger.o\n",
            "\u001b[01m\u001b[Klearner_tagger.cpp:25:7:\u001b[m\u001b[K \u001b[01;35m\u001b[Kwarning: \u001b[m\u001b[K'\u001b[01m\u001b[Kchar* MeCab::{anonymous}::mystrdup(const string&)\u001b[m\u001b[K' defined but not used [\u001b[01;35m\u001b[K-Wunused-function\u001b[m\u001b[K]\n",
            " char *\u001b[01;35m\u001b[Kmystrdup\u001b[m\u001b[K(const std::string &str) {\n",
            "       \u001b[01;35m\u001b[K^~~~~~~~\u001b[m\u001b[K\n",
            "libtool: compile:  g++ -DHAVE_CONFIG_H -I. -I.. -DDIC_VERSION=102 -DMECAB_DEFAULT_RC=\\\"/usr/local/etc/mecabrc\\\" -O3 -Wall -c learner_tagger.cpp -o learner_tagger.o >/dev/null 2>&1\n",
            "/bin/bash ../libtool --tag=CXX   --mode=compile g++ -DHAVE_CONFIG_H -I. -I.. -DDIC_VERSION=102   -DMECAB_DEFAULT_RC=\"\\\"/usr/local/etc/mecabrc\\\"\"    -O3 -Wall  -c -o learner.lo learner.cpp\n",
            "libtool: compile:  g++ -DHAVE_CONFIG_H -I. -I.. -DDIC_VERSION=102 -DMECAB_DEFAULT_RC=\\\"/usr/local/etc/mecabrc\\\" -O3 -Wall -c learner.cpp  -fPIC -DPIC -o .libs/learner.o\n",
            "libtool: compile:  g++ -DHAVE_CONFIG_H -I. -I.. -DDIC_VERSION=102 -DMECAB_DEFAULT_RC=\\\"/usr/local/etc/mecabrc\\\" -O3 -Wall -c learner.cpp -o learner.o >/dev/null 2>&1\n",
            "/bin/bash ../libtool --tag=CXX   --mode=compile g++ -DHAVE_CONFIG_H -I. -I.. -DDIC_VERSION=102   -DMECAB_DEFAULT_RC=\"\\\"/usr/local/etc/mecabrc\\\"\"    -O3 -Wall  -c -o libmecab.lo libmecab.cpp\n",
            "libtool: compile:  g++ -DHAVE_CONFIG_H -I. -I.. -DDIC_VERSION=102 -DMECAB_DEFAULT_RC=\\\"/usr/local/etc/mecabrc\\\" -O3 -Wall -c libmecab.cpp  -fPIC -DPIC -o .libs/libmecab.o\n",
            "libtool: compile:  g++ -DHAVE_CONFIG_H -I. -I.. -DDIC_VERSION=102 -DMECAB_DEFAULT_RC=\\\"/usr/local/etc/mecabrc\\\" -O3 -Wall -c libmecab.cpp -o libmecab.o >/dev/null 2>&1\n",
            "/bin/bash ../libtool --tag=CXX   --mode=link g++  -O3 -Wall  -no-undefined -version-info 2:0:0  -o libmecab.la -rpath /usr/local/lib viterbi.lo tagger.lo utils.lo eval.lo iconv_utils.lo dictionary_rewriter.lo dictionary_generator.lo dictionary_compiler.lo context_id.lo connector.lo nbest_generator.lo writer.lo string_buffer.lo param.lo tokenizer.lo char_property.lo dictionary.lo feature_index.lo lbfgs.lo learner_tagger.lo learner.lo libmecab.lo  -lpthread -lpthread  -lstdc++ \n",
            "libtool: link: g++  -fPIC -DPIC -shared -nostdlib /usr/lib/gcc/x86_64-linux-gnu/7/../../../x86_64-linux-gnu/crti.o /usr/lib/gcc/x86_64-linux-gnu/7/crtbeginS.o  .libs/viterbi.o .libs/tagger.o .libs/utils.o .libs/eval.o .libs/iconv_utils.o .libs/dictionary_rewriter.o .libs/dictionary_generator.o .libs/dictionary_compiler.o .libs/context_id.o .libs/connector.o .libs/nbest_generator.o .libs/writer.o .libs/string_buffer.o .libs/param.o .libs/tokenizer.o .libs/char_property.o .libs/dictionary.o .libs/feature_index.o .libs/lbfgs.o .libs/learner_tagger.o .libs/learner.o .libs/libmecab.o   -lpthread -L/usr/lib/gcc/x86_64-linux-gnu/7 -L/usr/lib/gcc/x86_64-linux-gnu/7/../../../x86_64-linux-gnu -L/usr/lib/gcc/x86_64-linux-gnu/7/../../../../lib -L/lib/x86_64-linux-gnu -L/lib/../lib -L/usr/lib/x86_64-linux-gnu -L/usr/lib/../lib -L/usr/local/cuda/lib64/stubs -L/usr/lib/gcc/x86_64-linux-gnu/7/../../.. -lstdc++ -lm -lc -lgcc_s /usr/lib/gcc/x86_64-linux-gnu/7/crtendS.o /usr/lib/gcc/x86_64-linux-gnu/7/../../../x86_64-linux-gnu/crtn.o  -O3   -Wl,-soname -Wl,libmecab.so.2 -o .libs/libmecab.so.2.0.0\n",
            "libtool: link: (cd \".libs\" && rm -f \"libmecab.so.2\" && ln -s \"libmecab.so.2.0.0\" \"libmecab.so.2\")\n",
            "libtool: link: (cd \".libs\" && rm -f \"libmecab.so\" && ln -s \"libmecab.so.2.0.0\" \"libmecab.so\")\n",
            "libtool: link: ar cru .libs/libmecab.a  viterbi.o tagger.o utils.o eval.o iconv_utils.o dictionary_rewriter.o dictionary_generator.o dictionary_compiler.o context_id.o connector.o nbest_generator.o writer.o string_buffer.o param.o tokenizer.o char_property.o dictionary.o feature_index.o lbfgs.o learner_tagger.o learner.o libmecab.o\n",
            "ar: `u' modifier ignored since `D' is the default (see `U')\n",
            "libtool: link: ranlib .libs/libmecab.a\n",
            "libtool: link: ( cd \".libs\" && rm -f \"libmecab.la\" && ln -s \"../libmecab.la\" \"libmecab.la\" )\n",
            "g++ -DHAVE_CONFIG_H -I. -I.. -DDIC_VERSION=102   -DMECAB_DEFAULT_RC=\"\\\"/usr/local/etc/mecabrc\\\"\"    -O3 -Wall  -c -o mecab.o mecab.cpp\n",
            "/bin/bash ../libtool --tag=CXX   --mode=link g++  -O3 -Wall    -o mecab mecab.o libmecab.la -lpthread -lpthread  -lstdc++ \n",
            "libtool: link: g++ -O3 -Wall -o .libs/mecab mecab.o  ./.libs/libmecab.so -lpthread -lstdc++\n",
            "g++ -DHAVE_CONFIG_H -I. -I.. -DDIC_VERSION=102   -DMECAB_DEFAULT_RC=\"\\\"/usr/local/etc/mecabrc\\\"\"    -O3 -Wall  -c -o mecab-dict-index.o mecab-dict-index.cpp\n",
            "/bin/bash ../libtool --tag=CXX   --mode=link g++  -O3 -Wall    -o mecab-dict-index mecab-dict-index.o libmecab.la -lpthread -lpthread  -lstdc++ \n",
            "libtool: link: g++ -O3 -Wall -o .libs/mecab-dict-index mecab-dict-index.o  ./.libs/libmecab.so -lpthread -lstdc++\n",
            "g++ -DHAVE_CONFIG_H -I. -I.. -DDIC_VERSION=102   -DMECAB_DEFAULT_RC=\"\\\"/usr/local/etc/mecabrc\\\"\"    -O3 -Wall  -c -o mecab-dict-gen.o mecab-dict-gen.cpp\n",
            "/bin/bash ../libtool --tag=CXX   --mode=link g++  -O3 -Wall    -o mecab-dict-gen mecab-dict-gen.o libmecab.la -lpthread -lpthread  -lstdc++ \n",
            "libtool: link: g++ -O3 -Wall -o .libs/mecab-dict-gen mecab-dict-gen.o  ./.libs/libmecab.so -lpthread -lstdc++\n",
            "g++ -DHAVE_CONFIG_H -I. -I.. -DDIC_VERSION=102   -DMECAB_DEFAULT_RC=\"\\\"/usr/local/etc/mecabrc\\\"\"    -O3 -Wall  -c -o mecab-cost-train.o mecab-cost-train.cpp\n",
            "/bin/bash ../libtool --tag=CXX   --mode=link g++  -O3 -Wall    -o mecab-cost-train mecab-cost-train.o libmecab.la -lpthread -lpthread  -lstdc++ \n",
            "libtool: link: g++ -O3 -Wall -o .libs/mecab-cost-train mecab-cost-train.o  ./.libs/libmecab.so -lpthread -lstdc++\n",
            "g++ -DHAVE_CONFIG_H -I. -I.. -DDIC_VERSION=102   -DMECAB_DEFAULT_RC=\"\\\"/usr/local/etc/mecabrc\\\"\"    -O3 -Wall  -c -o mecab-system-eval.o mecab-system-eval.cpp\n",
            "/bin/bash ../libtool --tag=CXX   --mode=link g++  -O3 -Wall    -o mecab-system-eval mecab-system-eval.o libmecab.la -lpthread -lpthread  -lstdc++ \n",
            "libtool: link: g++ -O3 -Wall -o .libs/mecab-system-eval mecab-system-eval.o  ./.libs/libmecab.so -lpthread -lstdc++\n",
            "g++ -DHAVE_CONFIG_H -I. -I.. -DDIC_VERSION=102   -DMECAB_DEFAULT_RC=\"\\\"/usr/local/etc/mecabrc\\\"\"    -O3 -Wall  -c -o mecab-test-gen.o mecab-test-gen.cpp\n",
            "/bin/bash ../libtool --tag=CXX   --mode=link g++  -O3 -Wall    -o mecab-test-gen mecab-test-gen.o libmecab.la -lpthread -lpthread  -lstdc++ \n",
            "libtool: link: g++ -O3 -Wall -o .libs/mecab-test-gen mecab-test-gen.o  ./.libs/libmecab.so -lpthread -lstdc++\n",
            "make[2]: Leaving directory '/tmp/mecab-0.996-ko-0.9.2/src'\n",
            "Making all in man\n",
            "make[2]: Entering directory '/tmp/mecab-0.996-ko-0.9.2/man'\n",
            "make[2]: Nothing to be done for 'all'.\n",
            "make[2]: Leaving directory '/tmp/mecab-0.996-ko-0.9.2/man'\n",
            "Making all in doc\n",
            "make[2]: Entering directory '/tmp/mecab-0.996-ko-0.9.2/doc'\n",
            "make[2]: Nothing to be done for 'all'.\n",
            "make[2]: Leaving directory '/tmp/mecab-0.996-ko-0.9.2/doc'\n",
            "Making all in tests\n",
            "make[2]: Entering directory '/tmp/mecab-0.996-ko-0.9.2/tests'\n",
            "make[2]: Nothing to be done for 'all'.\n",
            "make[2]: Leaving directory '/tmp/mecab-0.996-ko-0.9.2/tests'\n",
            "make[2]: Entering directory '/tmp/mecab-0.996-ko-0.9.2'\n",
            "make[2]: Leaving directory '/tmp/mecab-0.996-ko-0.9.2'\n",
            "make[1]: Leaving directory '/tmp/mecab-0.996-ko-0.9.2'\n",
            "Making check in src\n",
            "make[1]: Entering directory '/tmp/mecab-0.996-ko-0.9.2/src'\n",
            "make[1]: Nothing to be done for 'check'.\n",
            "make[1]: Leaving directory '/tmp/mecab-0.996-ko-0.9.2/src'\n",
            "Making check in man\n",
            "make[1]: Entering directory '/tmp/mecab-0.996-ko-0.9.2/man'\n",
            "make[1]: Nothing to be done for 'check'.\n",
            "make[1]: Leaving directory '/tmp/mecab-0.996-ko-0.9.2/man'\n",
            "Making check in doc\n",
            "make[1]: Entering directory '/tmp/mecab-0.996-ko-0.9.2/doc'\n",
            "make[1]: Nothing to be done for 'check'.\n",
            "make[1]: Leaving directory '/tmp/mecab-0.996-ko-0.9.2/doc'\n",
            "Making check in tests\n",
            "make[1]: Entering directory '/tmp/mecab-0.996-ko-0.9.2/tests'\n",
            "make  check-TESTS\n",
            "make[2]: Entering directory '/tmp/mecab-0.996-ko-0.9.2/tests'\n",
            "./pos-id.def is not found. minimum setting is used\n",
            "reading ./unk.def ... 2\n",
            "emitting double-array: 100% |###########################################| \n",
            "./model.def is not found. skipped.\n",
            "./pos-id.def is not found. minimum setting is used\n",
            "reading ./dic.csv ... 177\n",
            "emitting double-array: 100% |###########################################| \n",
            "reading ./matrix.def ... 178x178\n",
            "emitting matrix      : 100% |###########################################| \n",
            "\n",
            "done!\n",
            "./pos-id.def is not found. minimum setting is used\n",
            "reading ./unk.def ... 2\n",
            "emitting double-array: 100% |###########################################| \n",
            "./model.def is not found. skipped.\n",
            "./pos-id.def is not found. minimum setting is used\n",
            "reading ./dic.csv ... 83\n",
            "emitting double-array: 100% |###########################################| \n",
            "reading ./matrix.def ... 84x84\n",
            "emitting matrix      : 100% |###########################################| \n",
            "\n",
            "done!\n",
            "./pos-id.def is not found. minimum setting is used\n",
            "reading ./unk.def ... 2\n",
            "emitting double-array: 100% |###########################################| \n",
            "./model.def is not found. skipped.\n",
            "./pos-id.def is not found. minimum setting is used\n",
            "reading ./dic.csv ... 450\n",
            "emitting double-array: 100% |###########################################| \n",
            "reading ./matrix.def ... 1x1\n",
            "\n",
            "done!\n",
            "./pos-id.def is not found. minimum setting is used\n",
            "reading ./unk.def ... 2\n",
            "emitting double-array: 100% |###########################################| \n",
            "./model.def is not found. skipped.\n",
            "./pos-id.def is not found. minimum setting is used\n",
            "reading ./dic.csv ... 162\n",
            "emitting double-array: 100% |###########################################| \n",
            "reading ./matrix.def ... 3x3\n",
            "emitting matrix      : 100% |###########################################| \n",
            "\n",
            "done!\n",
            "./pos-id.def is not found. minimum setting is used\n",
            "reading ./unk.def ... 2\n",
            "emitting double-array: 100% |###########################################| \n",
            "./model.def is not found. skipped.\n",
            "./pos-id.def is not found. minimum setting is used\n",
            "reading ./dic.csv ... 4\n",
            "emitting double-array: 100% |###########################################| \n",
            "reading ./matrix.def ... 1x1\n",
            "\n",
            "done!\n",
            "./pos-id.def is not found. minimum setting is used\n",
            "reading ./unk.def ... 11\n",
            "emitting double-array: 100% |###########################################| \n",
            "./model.def is not found. skipped.\n",
            "./pos-id.def is not found. minimum setting is used\n",
            "reading ./dic.csv ... 1\n",
            "reading ./matrix.def ... 1x1\n",
            "\n",
            "done!\n",
            "./pos-id.def is not found. minimum setting is used\n",
            "reading ./unk.def ... 2\n",
            "emitting double-array: 100% |###########################################| \n",
            "./model.def is not found. skipped.\n",
            "./pos-id.def is not found. minimum setting is used\n",
            "reading ./dic.csv ... 1\n",
            "reading ./matrix.def ... 1x1\n",
            "\n",
            "done!\n",
            "PASS: run-dics.sh\n",
            "PASS: run-eval.sh\n",
            "seed/pos-id.def is not found. minimum setting is used\n",
            "reading seed/unk.def ... 40\n",
            "emitting double-array: 100% |###########################################| \n",
            "seed/model.def is not found. skipped.\n",
            "seed/pos-id.def is not found. minimum setting is used\n",
            "reading seed/dic.csv ... 4335\n",
            "emitting double-array: 100% |###########################################| \n",
            "reading seed/matrix.def ... 1x1\n",
            "\n",
            "done!\n",
            "reading corpus ...\n",
            "Number of sentences: 34\n",
            "Number of features:  64108\n",
            "eta:                 0.00005\n",
            "freq:                1\n",
            "eval-size:           6\n",
            "unk-eval-size:       4\n",
            "threads:             1\n",
            "charset:             EUC-JP\n",
            "C(sigma^2):          1.00000\n",
            "\n",
            "iter=0 err=1.00000 F=0.35771 target=2406.28355 diff=1.00000\n",
            "iter=1 err=0.97059 F=0.65652 target=1484.25231 diff=0.38318\n",
            "iter=2 err=0.91176 F=0.79331 target=863.32765 diff=0.41834\n",
            "iter=3 err=0.85294 F=0.89213 target=596.72480 diff=0.30881\n",
            "iter=4 err=0.61765 F=0.95467 target=336.30744 diff=0.43641\n",
            "iter=5 err=0.50000 F=0.96702 target=246.53039 diff=0.26695\n",
            "iter=6 err=0.35294 F=0.95472 target=188.93963 diff=0.23361\n",
            "iter=7 err=0.20588 F=0.99106 target=168.62665 diff=0.10751\n",
            "iter=8 err=0.05882 F=0.99777 target=158.64865 diff=0.05917\n",
            "iter=9 err=0.08824 F=0.99665 target=154.14530 diff=0.02839\n",
            "iter=10 err=0.08824 F=0.99665 target=151.94257 diff=0.01429\n",
            "iter=11 err=0.02941 F=0.99888 target=147.20825 diff=0.03116\n",
            "iter=12 err=0.00000 F=1.00000 target=147.34956 diff=0.00096\n",
            "iter=13 err=0.02941 F=0.99888 target=146.32592 diff=0.00695\n",
            "iter=14 err=0.00000 F=1.00000 target=145.77299 diff=0.00378\n",
            "iter=15 err=0.02941 F=0.99888 target=145.24641 diff=0.00361\n",
            "iter=16 err=0.00000 F=1.00000 target=144.96490 diff=0.00194\n",
            "iter=17 err=0.02941 F=0.99888 target=144.90246 diff=0.00043\n",
            "iter=18 err=0.00000 F=1.00000 target=144.75959 diff=0.00099\n",
            "iter=19 err=0.00000 F=1.00000 target=144.71727 diff=0.00029\n",
            "iter=20 err=0.00000 F=1.00000 target=144.66337 diff=0.00037\n",
            "iter=21 err=0.00000 F=1.00000 target=144.61349 diff=0.00034\n",
            "iter=22 err=0.00000 F=1.00000 target=144.62987 diff=0.00011\n",
            "iter=23 err=0.00000 F=1.00000 target=144.60060 diff=0.00020\n",
            "iter=24 err=0.00000 F=1.00000 target=144.59125 diff=0.00006\n",
            "iter=25 err=0.00000 F=1.00000 target=144.58619 diff=0.00004\n",
            "iter=26 err=0.00000 F=1.00000 target=144.58219 diff=0.00003\n",
            "iter=27 err=0.00000 F=1.00000 target=144.58059 diff=0.00001\n",
            "\n",
            "Done! writing model file ... \n",
            "model-ipadic.c1.0.f1.model is not a binary model. reopen it as text mode...\n",
            "reading seed/unk.def ... 40\n",
            "reading seed/dic.csv ... 4335\n",
            "emitting model-ipadic.c1.0.f1.dic/left-id.def/ model-ipadic.c1.0.f1.dic/right-id.def\n",
            "emitting model-ipadic.c1.0.f1.dic/unk.def ... 40\n",
            "emitting model-ipadic.c1.0.f1.dic/dic.csv ... 4335\n",
            "emitting matrix      : 100% |###########################################| \n",
            "copying seed/char.def to model-ipadic.c1.0.f1.dic/char.def\n",
            "copying seed/rewrite.def to model-ipadic.c1.0.f1.dic/rewrite.def\n",
            "copying seed/dicrc to model-ipadic.c1.0.f1.dic/dicrc\n",
            "copying seed/feature.def to model-ipadic.c1.0.f1.dic/feature.def\n",
            "copying model-ipadic.c1.0.f1.model to model-ipadic.c1.0.f1.dic/model.def\n",
            "\n",
            "done!\n",
            "model-ipadic.c1.0.f1.dic/pos-id.def is not found. minimum setting is used\n",
            "reading model-ipadic.c1.0.f1.dic/unk.def ... 40\n",
            "emitting double-array: 100% |###########################################| \n",
            "model-ipadic.c1.0.f1.dic/pos-id.def is not found. minimum setting is used\n",
            "reading model-ipadic.c1.0.f1.dic/dic.csv ... 4335\n",
            "emitting double-array: 100% |###########################################| \n",
            "reading model-ipadic.c1.0.f1.dic/matrix.def ... 346x346\n",
            "emitting matrix      : 100% |###########################################| \n",
            "\n",
            "done!\n",
            "              precision          recall         F\n",
            "LEVEL 0:    12.8959(57/442) 11.8998(57/479) 12.3779\n",
            "LEVEL 1:    12.2172(54/442) 11.2735(54/479) 11.7264\n",
            "LEVEL 2:    11.7647(52/442) 10.8559(52/479) 11.2921\n",
            "LEVEL 4:    11.7647(52/442) 10.8559(52/479) 11.2921\n",
            "PASS: run-cost-train.sh\n",
            "==================\n",
            "All 3 tests passed\n",
            "==================\n",
            "make[2]: Leaving directory '/tmp/mecab-0.996-ko-0.9.2/tests'\n",
            "make[1]: Leaving directory '/tmp/mecab-0.996-ko-0.9.2/tests'\n",
            "make[1]: Entering directory '/tmp/mecab-0.996-ko-0.9.2'\n",
            "make[1]: Leaving directory '/tmp/mecab-0.996-ko-0.9.2'\n",
            "Making install in src\n",
            "make[1]: Entering directory '/tmp/mecab-0.996-ko-0.9.2/src'\n",
            "make[2]: Entering directory '/tmp/mecab-0.996-ko-0.9.2/src'\n",
            "test -z \"/usr/local/lib\" || /bin/mkdir -p \"/usr/local/lib\"\n",
            " /bin/bash ../libtool   --mode=install /usr/bin/install -c   libmecab.la '/usr/local/lib'\n",
            "libtool: install: /usr/bin/install -c .libs/libmecab.so.2.0.0 /usr/local/lib/libmecab.so.2.0.0\n",
            "libtool: install: (cd /usr/local/lib && { ln -s -f libmecab.so.2.0.0 libmecab.so.2 || { rm -f libmecab.so.2 && ln -s libmecab.so.2.0.0 libmecab.so.2; }; })\n",
            "libtool: install: (cd /usr/local/lib && { ln -s -f libmecab.so.2.0.0 libmecab.so || { rm -f libmecab.so && ln -s libmecab.so.2.0.0 libmecab.so; }; })\n",
            "libtool: install: /usr/bin/install -c .libs/libmecab.lai /usr/local/lib/libmecab.la\n",
            "libtool: install: /usr/bin/install -c .libs/libmecab.a /usr/local/lib/libmecab.a\n",
            "libtool: install: chmod 644 /usr/local/lib/libmecab.a\n",
            "libtool: install: ranlib /usr/local/lib/libmecab.a\n",
            "libtool: finish: PATH=\"/usr/local/sbin:/usr/local/bin:/usr/sbin:/usr/bin:/sbin:/bin:/snap/bin:/sbin\" ldconfig -n /usr/local/lib\n",
            "----------------------------------------------------------------------\n",
            "Libraries have been installed in:\n",
            "   /usr/local/lib\n",
            "\n",
            "If you ever happen to want to link against installed libraries\n",
            "in a given directory, LIBDIR, you must either use libtool, and\n",
            "specify the full pathname of the library, or use the `-LLIBDIR'\n",
            "flag during linking and do at least one of the following:\n",
            "   - add LIBDIR to the `LD_LIBRARY_PATH' environment variable\n",
            "     during execution\n",
            "   - add LIBDIR to the `LD_RUN_PATH' environment variable\n",
            "     during linking\n",
            "   - use the `-Wl,-rpath -Wl,LIBDIR' linker flag\n",
            "   - have your system administrator add LIBDIR to `/etc/ld.so.conf'\n",
            "\n",
            "See any operating system documentation about shared libraries for\n",
            "more information, such as the ld(1) and ld.so(8) manual pages.\n",
            "----------------------------------------------------------------------\n",
            "test -z \"/usr/local/bin\" || /bin/mkdir -p \"/usr/local/bin\"\n",
            "  /bin/bash ../libtool   --mode=install /usr/bin/install -c mecab '/usr/local/bin'\n",
            "libtool: install: /usr/bin/install -c .libs/mecab /usr/local/bin/mecab\n",
            "test -z \"/usr/local/libexec/mecab\" || /bin/mkdir -p \"/usr/local/libexec/mecab\"\n",
            "  /bin/bash ../libtool   --mode=install /usr/bin/install -c mecab-dict-index mecab-dict-gen mecab-cost-train mecab-system-eval mecab-test-gen '/usr/local/libexec/mecab'\n",
            "libtool: install: /usr/bin/install -c .libs/mecab-dict-index /usr/local/libexec/mecab/mecab-dict-index\n",
            "libtool: install: /usr/bin/install -c .libs/mecab-dict-gen /usr/local/libexec/mecab/mecab-dict-gen\n",
            "libtool: install: /usr/bin/install -c .libs/mecab-cost-train /usr/local/libexec/mecab/mecab-cost-train\n",
            "libtool: install: /usr/bin/install -c .libs/mecab-system-eval /usr/local/libexec/mecab/mecab-system-eval\n",
            "libtool: install: /usr/bin/install -c .libs/mecab-test-gen /usr/local/libexec/mecab/mecab-test-gen\n",
            "test -z \"/usr/local/include\" || /bin/mkdir -p \"/usr/local/include\"\n",
            " /usr/bin/install -c -m 644 mecab.h '/usr/local/include'\n",
            "make[2]: Leaving directory '/tmp/mecab-0.996-ko-0.9.2/src'\n",
            "make[1]: Leaving directory '/tmp/mecab-0.996-ko-0.9.2/src'\n",
            "Making install in man\n",
            "make[1]: Entering directory '/tmp/mecab-0.996-ko-0.9.2/man'\n",
            "make[2]: Entering directory '/tmp/mecab-0.996-ko-0.9.2/man'\n",
            "make[2]: Nothing to be done for 'install-exec-am'.\n",
            "test -z \"/usr/local/share/man/man1\" || /bin/mkdir -p \"/usr/local/share/man/man1\"\n",
            " /usr/bin/install -c -m 644 mecab.1 '/usr/local/share/man/man1'\n",
            "make[2]: Leaving directory '/tmp/mecab-0.996-ko-0.9.2/man'\n",
            "make[1]: Leaving directory '/tmp/mecab-0.996-ko-0.9.2/man'\n",
            "Making install in doc\n",
            "make[1]: Entering directory '/tmp/mecab-0.996-ko-0.9.2/doc'\n",
            "make[2]: Entering directory '/tmp/mecab-0.996-ko-0.9.2/doc'\n",
            "make[2]: Nothing to be done for 'install-exec-am'.\n",
            "make[2]: Nothing to be done for 'install-data-am'.\n",
            "make[2]: Leaving directory '/tmp/mecab-0.996-ko-0.9.2/doc'\n",
            "make[1]: Leaving directory '/tmp/mecab-0.996-ko-0.9.2/doc'\n",
            "Making install in tests\n",
            "make[1]: Entering directory '/tmp/mecab-0.996-ko-0.9.2/tests'\n",
            "make[2]: Entering directory '/tmp/mecab-0.996-ko-0.9.2/tests'\n",
            "make[2]: Nothing to be done for 'install-exec-am'.\n",
            "make[2]: Nothing to be done for 'install-data-am'.\n",
            "make[2]: Leaving directory '/tmp/mecab-0.996-ko-0.9.2/tests'\n",
            "make[1]: Leaving directory '/tmp/mecab-0.996-ko-0.9.2/tests'\n",
            "make[1]: Entering directory '/tmp/mecab-0.996-ko-0.9.2'\n",
            "make[2]: Entering directory '/tmp/mecab-0.996-ko-0.9.2'\n",
            "test -z \"/usr/local/bin\" || /bin/mkdir -p \"/usr/local/bin\"\n",
            " /usr/bin/install -c mecab-config '/usr/local/bin'\n",
            "test -z \"/usr/local/etc\" || /bin/mkdir -p \"/usr/local/etc\"\n",
            " /usr/bin/install -c -m 644 mecabrc '/usr/local/etc'\n",
            "make[2]: Leaving directory '/tmp/mecab-0.996-ko-0.9.2'\n",
            "make[1]: Leaving directory '/tmp/mecab-0.996-ko-0.9.2'\n",
            "Install mecab-ko-dic\n",
            "Install mecab-ko-dic\n",
            "  % Total    % Received % Xferd  Average Speed   Time    Time     Time  Current\n",
            "                                 Dload  Upload   Total   Spent    Left  Speed\n",
            "  0     0    0     0    0     0      0      0 --:--:-- --:--:-- --:--:--     0\n",
            "100 47.4M  100 47.4M    0     0  6894k      0  0:00:07  0:00:07 --:--:-- 10.5M\n",
            "mecab-ko-dic-2.1.1-20180720/\n",
            "mecab-ko-dic-2.1.1-20180720/configure\n",
            "mecab-ko-dic-2.1.1-20180720/COPYING\n",
            "mecab-ko-dic-2.1.1-20180720/autogen.sh\n",
            "mecab-ko-dic-2.1.1-20180720/Place-station.csv\n",
            "mecab-ko-dic-2.1.1-20180720/NNG.csv\n",
            "mecab-ko-dic-2.1.1-20180720/README\n",
            "mecab-ko-dic-2.1.1-20180720/EF.csv\n",
            "mecab-ko-dic-2.1.1-20180720/MAG.csv\n",
            "mecab-ko-dic-2.1.1-20180720/Preanalysis.csv\n",
            "mecab-ko-dic-2.1.1-20180720/NNB.csv\n",
            "mecab-ko-dic-2.1.1-20180720/Person-actor.csv\n",
            "mecab-ko-dic-2.1.1-20180720/VV.csv\n",
            "mecab-ko-dic-2.1.1-20180720/Makefile.in\n",
            "mecab-ko-dic-2.1.1-20180720/matrix.def\n",
            "mecab-ko-dic-2.1.1-20180720/EC.csv\n",
            "mecab-ko-dic-2.1.1-20180720/NNBC.csv\n",
            "mecab-ko-dic-2.1.1-20180720/clean\n",
            "mecab-ko-dic-2.1.1-20180720/ChangeLog\n",
            "mecab-ko-dic-2.1.1-20180720/J.csv\n",
            "mecab-ko-dic-2.1.1-20180720/.keep\n",
            "mecab-ko-dic-2.1.1-20180720/feature.def\n",
            "mecab-ko-dic-2.1.1-20180720/Foreign.csv\n",
            "mecab-ko-dic-2.1.1-20180720/XPN.csv\n",
            "mecab-ko-dic-2.1.1-20180720/EP.csv\n",
            "mecab-ko-dic-2.1.1-20180720/NR.csv\n",
            "mecab-ko-dic-2.1.1-20180720/left-id.def\n",
            "mecab-ko-dic-2.1.1-20180720/Place.csv\n",
            "mecab-ko-dic-2.1.1-20180720/Symbol.csv\n",
            "mecab-ko-dic-2.1.1-20180720/dicrc\n",
            "mecab-ko-dic-2.1.1-20180720/NP.csv\n",
            "mecab-ko-dic-2.1.1-20180720/ETM.csv\n",
            "mecab-ko-dic-2.1.1-20180720/IC.csv\n",
            "mecab-ko-dic-2.1.1-20180720/Place-address.csv\n",
            "mecab-ko-dic-2.1.1-20180720/Group.csv\n",
            "mecab-ko-dic-2.1.1-20180720/model.def\n",
            "mecab-ko-dic-2.1.1-20180720/XSN.csv\n",
            "mecab-ko-dic-2.1.1-20180720/INSTALL\n",
            "mecab-ko-dic-2.1.1-20180720/rewrite.def\n",
            "mecab-ko-dic-2.1.1-20180720/Inflect.csv\n",
            "mecab-ko-dic-2.1.1-20180720/configure.ac\n",
            "mecab-ko-dic-2.1.1-20180720/NNP.csv\n",
            "mecab-ko-dic-2.1.1-20180720/CoinedWord.csv\n",
            "mecab-ko-dic-2.1.1-20180720/XSV.csv\n",
            "mecab-ko-dic-2.1.1-20180720/pos-id.def\n",
            "mecab-ko-dic-2.1.1-20180720/Makefile.am\n",
            "mecab-ko-dic-2.1.1-20180720/unk.def\n",
            "mecab-ko-dic-2.1.1-20180720/missing\n",
            "mecab-ko-dic-2.1.1-20180720/VCP.csv\n",
            "mecab-ko-dic-2.1.1-20180720/install-sh\n",
            "mecab-ko-dic-2.1.1-20180720/Hanja.csv\n",
            "mecab-ko-dic-2.1.1-20180720/MAJ.csv\n",
            "mecab-ko-dic-2.1.1-20180720/XSA.csv\n",
            "mecab-ko-dic-2.1.1-20180720/Wikipedia.csv\n",
            "mecab-ko-dic-2.1.1-20180720/tools/\n",
            "mecab-ko-dic-2.1.1-20180720/tools/add-userdic.sh\n",
            "mecab-ko-dic-2.1.1-20180720/tools/mecab-bestn.sh\n",
            "mecab-ko-dic-2.1.1-20180720/tools/convert_for_using_store.sh\n",
            "mecab-ko-dic-2.1.1-20180720/user-dic/\n",
            "mecab-ko-dic-2.1.1-20180720/user-dic/nnp.csv\n",
            "mecab-ko-dic-2.1.1-20180720/user-dic/place.csv\n",
            "mecab-ko-dic-2.1.1-20180720/user-dic/person.csv\n",
            "mecab-ko-dic-2.1.1-20180720/user-dic/README.md\n",
            "mecab-ko-dic-2.1.1-20180720/NorthKorea.csv\n",
            "mecab-ko-dic-2.1.1-20180720/VX.csv\n",
            "mecab-ko-dic-2.1.1-20180720/right-id.def\n",
            "mecab-ko-dic-2.1.1-20180720/VA.csv\n",
            "mecab-ko-dic-2.1.1-20180720/char.def\n",
            "mecab-ko-dic-2.1.1-20180720/NEWS\n",
            "mecab-ko-dic-2.1.1-20180720/MM.csv\n",
            "mecab-ko-dic-2.1.1-20180720/ETN.csv\n",
            "mecab-ko-dic-2.1.1-20180720/AUTHORS\n",
            "mecab-ko-dic-2.1.1-20180720/Person.csv\n",
            "mecab-ko-dic-2.1.1-20180720/XR.csv\n",
            "mecab-ko-dic-2.1.1-20180720/VCN.csv\n",
            "Looking in current directory for macros.\n",
            "configure.ac:2: warning: AM_INIT_AUTOMAKE: two- and three-arguments forms are deprecated.  For more info, see:\n",
            "configure.ac:2: http://www.gnu.org/software/automake/manual/automake.html#Modernize-AM_005fINIT_005fAUTOMAKE-invocation\n",
            "checking for a BSD-compatible install... /usr/bin/install -c\n",
            "checking whether build environment is sane... yes\n",
            "/tmp/mecab-ko-dic-2.1.1-20180720/missing: Unknown `--is-lightweight' option\n",
            "Try `/tmp/mecab-ko-dic-2.1.1-20180720/missing --help' for more information\n",
            "configure: WARNING: 'missing' script is too old or missing\n",
            "checking for a thread-safe mkdir -p... /bin/mkdir -p\n",
            "checking for gawk... no\n",
            "checking for mawk... mawk\n",
            "checking whether make sets $(MAKE)... yes\n",
            "checking whether make supports nested variables... yes\n",
            "checking for mecab-config... /usr/local/bin/mecab-config\n",
            "checking that generated files are newer than configure... done\n",
            "configure: creating ./config.status\n",
            "config.status: creating Makefile\n",
            "/usr/local/lib\n",
            "/usr/local/libexec/mecab/mecab-dict-index -d . -o . -f UTF-8 -t UTF-8\n",
            "reading ./unk.def ... 13\n",
            "emitting double-array: 100% |###########################################| \n",
            "reading ./Place-address.csv ... 19301\n",
            "reading ./EP.csv ... 51\n",
            "reading ./VCN.csv ... 7\n",
            "reading ./CoinedWord.csv ... 148\n",
            "reading ./XSA.csv ... 19\n",
            "reading ./NNP.csv ... 2371\n",
            "reading ./VX.csv ... 125\n",
            "reading ./IC.csv ... 1305\n",
            "reading ./J.csv ... 416\n",
            "reading ./Place-station.csv ... 1145\n",
            "reading ./MAG.csv ... 14242\n",
            "reading ./VV.csv ... 7331\n",
            "reading ./NNBC.csv ... 677\n",
            "reading ./Group.csv ... 3176\n",
            "reading ./MM.csv ... 453\n",
            "reading ./VCP.csv ... 9\n",
            "reading ./NR.csv ... 482\n",
            "reading ./EF.csv ... 1820\n",
            "reading ./Person.csv ... 196459\n",
            "reading ./VA.csv ... 2360\n",
            "reading ./Symbol.csv ... 16\n",
            "reading ./ETN.csv ... 14\n",
            "reading ./XSV.csv ... 23\n",
            "reading ./ETM.csv ... 133\n",
            "reading ./XPN.csv ... 83\n",
            "reading ./Preanalysis.csv ... 5\n",
            "reading ./MAJ.csv ... 240\n",
            "reading ./Person-actor.csv ... 99230\n",
            "reading ./Wikipedia.csv ... 36762\n",
            "reading ./XSN.csv ... 124\n",
            "reading ./NNG.csv ... 208524\n",
            "reading ./Inflect.csv ... 44820\n",
            "reading ./NorthKorea.csv ... 3\n",
            "reading ./NNB.csv ... 140\n",
            "reading ./XR.csv ... 3637\n",
            "reading ./Place.csv ... 30303\n",
            "reading ./Hanja.csv ... 125750\n",
            "reading ./NP.csv ... 342\n",
            "reading ./EC.csv ... 2547\n",
            "reading ./Foreign.csv ... 11690\n",
            "emitting double-array: 100% |###########################################| \n",
            "reading ./matrix.def ... 3822x2693\n",
            "emitting matrix      : 100% |###########################################| \n",
            "\n",
            "done!\n",
            "echo To enable dictionary, rewrite /usr/local/etc/mecabrc as \\\"dicdir = /usr/local/lib/mecab/dic/mecab-ko-dic\\\"\n",
            "To enable dictionary, rewrite /usr/local/etc/mecabrc as \"dicdir = /usr/local/lib/mecab/dic/mecab-ko-dic\"\n",
            "make[1]: Entering directory '/tmp/mecab-ko-dic-2.1.1-20180720'\n",
            "make[1]: Nothing to be done for 'install-exec-am'.\n",
            " /bin/mkdir -p '/usr/local/lib/mecab/dic/mecab-ko-dic'\n",
            " /usr/bin/install -c -m 644 model.bin matrix.bin char.bin sys.dic unk.dic left-id.def right-id.def rewrite.def pos-id.def dicrc '/usr/local/lib/mecab/dic/mecab-ko-dic'\n",
            "make[1]: Leaving directory '/tmp/mecab-ko-dic-2.1.1-20180720'\n",
            "Install mecab-python\n",
            "/tmp /tmp/mecab-ko-dic-2.1.1-20180720\n",
            "Cloning into 'mecab-python-0.996'...\n",
            "remote: Enumerating objects: 17, done.\u001b[K\n",
            "remote: Counting objects: 100% (17/17), done.\u001b[K\n",
            "remote: Compressing objects: 100% (16/16), done.\u001b[K\n",
            "remote: Total 17 (delta 3), reused 0 (delta 0), pack-reused 0\u001b[K\n",
            "Unpacking objects: 100% (17/17), done.\n",
            "/tmp/mecab-ko-dic-2.1.1-20180720\n",
            "Looking in indexes: https://pypi.org/simple, https://us-python.pkg.dev/colab-wheels/public/simple/\n",
            "Processing /tmp/mecab-python-0.996\n",
            "  Preparing metadata (setup.py) ... \u001b[?25l\u001b[?25hdone\n",
            "Building wheels for collected packages: mecab-python\n",
            "  Building wheel for mecab-python (setup.py) ... \u001b[?25l\u001b[?25hdone\n",
            "  Created wheel for mecab-python: filename=mecab_python-0.996_ko_0.9.2-cp38-cp38-linux_x86_64.whl size=142118 sha256=f6417a88a23432cc17ab603ae473db638ee49fdfedff50457dc19514bd3edc7b\n",
            "  Stored in directory: /root/.cache/pip/wheels/e3/88/e7/a947778cce3c142d5721c0629e05db7b09979d3a973277ec2f\n",
            "\u001b[33m  WARNING: Built wheel for mecab-python is invalid: Metadata 1.2 mandates PEP 440 version, but '0.996-ko-0.9.2' is not\u001b[0m\u001b[33m\n",
            "\u001b[0mFailed to build mecab-python\n",
            "Installing collected packages: mecab-python\n",
            "  Running setup.py install for mecab-python ... \u001b[?25l\u001b[?25hdone\n",
            "\u001b[33m  DEPRECATION: mecab-python was installed using the legacy 'setup.py install' method, because a wheel could not be built for it. A possible replacement is to fix the wheel build issue reported above. Discussion can be found at https://github.com/pypa/pip/issues/8368\u001b[0m\u001b[33m\n",
            "\u001b[0mSuccessfully installed mecab-python-0.996-ko-0.9.2\n",
            "Done.\n",
            "Looking in indexes: https://pypi.org/simple, https://us-python.pkg.dev/colab-wheels/public/simple/\n",
            "Collecting kss\n",
            "  Downloading kss-4.3.2.tar.gz (73 kB)\n",
            "\u001b[2K     \u001b[90m━━━━━━━━━━━━━━━━━━━━━━━━━━━━━━━━━━━━━━━━\u001b[0m \u001b[32m73.1/73.1 KB\u001b[0m \u001b[31m8.4 MB/s\u001b[0m eta \u001b[36m0:00:00\u001b[0m\n",
            "\u001b[?25h  Preparing metadata (setup.py) ... \u001b[?25l\u001b[?25hdone\n",
            "Collecting emoji==1.2.0\n",
            "  Downloading emoji-1.2.0-py3-none-any.whl (131 kB)\n",
            "\u001b[2K     \u001b[90m━━━━━━━━━━━━━━━━━━━━━━━━━━━━━━━━━━━━━━\u001b[0m \u001b[32m131.3/131.3 KB\u001b[0m \u001b[31m18.2 MB/s\u001b[0m eta \u001b[36m0:00:00\u001b[0m\n",
            "\u001b[?25hRequirement already satisfied: regex in /usr/local/lib/python3.8/dist-packages (from kss) (2022.6.2)\n",
            "Collecting pecab\n",
            "  Downloading pecab-1.0.8.tar.gz (26.4 MB)\n",
            "\u001b[2K     \u001b[90m━━━━━━━━━━━━━━━━━━━━━━━━━━━━━━━━━━━━━━━━\u001b[0m \u001b[32m26.4/26.4 MB\u001b[0m \u001b[31m62.6 MB/s\u001b[0m eta \u001b[36m0:00:00\u001b[0m\n",
            "\u001b[?25h  Preparing metadata (setup.py) ... \u001b[?25l\u001b[?25hdone\n",
            "Requirement already satisfied: networkx in /usr/local/lib/python3.8/dist-packages (from kss) (2.8.8)\n",
            "Requirement already satisfied: numpy in /usr/local/lib/python3.8/dist-packages (from pecab->kss) (1.21.6)\n",
            "Requirement already satisfied: pyarrow in /usr/local/lib/python3.8/dist-packages (from pecab->kss) (9.0.0)\n",
            "Requirement already satisfied: pytest in /usr/local/lib/python3.8/dist-packages (from pecab->kss) (3.6.4)\n",
            "Requirement already satisfied: pluggy<0.8,>=0.5 in /usr/local/lib/python3.8/dist-packages (from pytest->pecab->kss) (0.7.1)\n",
            "Requirement already satisfied: setuptools in /usr/local/lib/python3.8/dist-packages (from pytest->pecab->kss) (57.4.0)\n",
            "Requirement already satisfied: attrs>=17.4.0 in /usr/local/lib/python3.8/dist-packages (from pytest->pecab->kss) (22.2.0)\n",
            "Requirement already satisfied: atomicwrites>=1.0 in /usr/local/lib/python3.8/dist-packages (from pytest->pecab->kss) (1.4.1)\n",
            "Requirement already satisfied: six>=1.10.0 in /usr/local/lib/python3.8/dist-packages (from pytest->pecab->kss) (1.15.0)\n",
            "Requirement already satisfied: py>=1.5.0 in /usr/local/lib/python3.8/dist-packages (from pytest->pecab->kss) (1.11.0)\n",
            "Requirement already satisfied: more-itertools>=4.0.0 in /usr/local/lib/python3.8/dist-packages (from pytest->pecab->kss) (9.0.0)\n",
            "Building wheels for collected packages: kss, pecab\n",
            "  Building wheel for kss (setup.py) ... \u001b[?25l\u001b[?25hdone\n",
            "  Created wheel for kss: filename=kss-4.3.2-py3-none-any.whl size=50235 sha256=1d62494933385a88cf6fc75ee00903afbf94e96a5b00fec03ca5add8156dffeb\n",
            "  Stored in directory: /root/.cache/pip/wheels/cb/9a/ed/85e3aa14d4ff7a6cd7ca8a6dd6f84dd9494278981cdd2e8f5d\n",
            "  Building wheel for pecab (setup.py) ... \u001b[?25l\u001b[?25hdone\n",
            "  Created wheel for pecab: filename=pecab-1.0.8-py3-none-any.whl size=26646667 sha256=e1406b7b0f6539c7d9afd9472cbb632e42bc66e2eb0e0471dc7490cf345f1cd5\n",
            "  Stored in directory: /root/.cache/pip/wheels/a9/98/a3/085a909aa25805f321467a3af3b80d43b6094ed335b4818775\n",
            "Successfully built kss pecab\n",
            "Installing collected packages: emoji, pecab, kss\n",
            "Successfully installed emoji-1.2.0 kss-4.3.2 pecab-1.0.8\n",
            "Looking in indexes: https://pypi.org/simple, https://us-python.pkg.dev/colab-wheels/public/simple/\n",
            "Collecting scipy==1.8.0\n",
            "  Downloading scipy-1.8.0-cp38-cp38-manylinux_2_17_x86_64.manylinux2014_x86_64.whl (41.6 MB)\n",
            "\u001b[2K     \u001b[90m━━━━━━━━━━━━━━━━━━━━━━━━━━━━━━━━━━━━━━━━\u001b[0m \u001b[32m41.6/41.6 MB\u001b[0m \u001b[31m39.0 MB/s\u001b[0m eta \u001b[36m0:00:00\u001b[0m\n",
            "\u001b[?25hRequirement already satisfied: numpy<1.25.0,>=1.17.3 in /usr/local/lib/python3.8/dist-packages (from scipy==1.8.0) (1.21.6)\n",
            "Installing collected packages: scipy\n",
            "  Attempting uninstall: scipy\n",
            "    Found existing installation: scipy 1.7.3\n",
            "    Uninstalling scipy-1.7.3:\n",
            "      Successfully uninstalled scipy-1.7.3\n",
            "Successfully installed scipy-1.8.0\n",
            "Looking in indexes: https://pypi.org/simple, https://us-python.pkg.dev/colab-wheels/public/simple/\n",
            "Collecting git+https://github.com/lovit/textrank.git\n",
            "  Cloning https://github.com/lovit/textrank.git to /tmp/pip-req-build-8mm8latc\n",
            "  Running command git clone --filter=blob:none --quiet https://github.com/lovit/textrank.git /tmp/pip-req-build-8mm8latc\n",
            "  Resolved https://github.com/lovit/textrank.git to commit 578c7fbbb22b24561b1bd4bab9a9ecc2dc9515e1\n",
            "  Preparing metadata (setup.py) ... \u001b[?25l\u001b[?25hdone\n",
            "Building wheels for collected packages: textrank\n",
            "  Building wheel for textrank (setup.py) ... \u001b[?25l\u001b[?25hdone\n",
            "  Created wheel for textrank: filename=textrank-0.1.2-py3-none-any.whl size=11170 sha256=e966f7a8b2b065f6863635b5e87570199faa606368320085d53a64f0a556ad58\n",
            "  Stored in directory: /tmp/pip-ephem-wheel-cache-_mr6ywhr/wheels/88/fe/9c/129f61ac6c8c9b04f4d33fc3a39560cb97997b1b59c064ffd3\n",
            "Successfully built textrank\n",
            "Installing collected packages: textrank\n",
            "Successfully installed textrank-0.1.2\n",
            "Looking in indexes: https://pypi.org/simple, https://us-python.pkg.dev/colab-wheels/public/simple/\n",
            "Collecting konlpy\n",
            "  Downloading konlpy-0.6.0-py2.py3-none-any.whl (19.4 MB)\n",
            "\u001b[2K     \u001b[90m━━━━━━━━━━━━━━━━━━━━━━━━━━━━━━━━━━━━━━━━\u001b[0m \u001b[32m19.4/19.4 MB\u001b[0m \u001b[31m66.4 MB/s\u001b[0m eta \u001b[36m0:00:00\u001b[0m\n",
            "\u001b[?25hCollecting JPype1>=0.7.0\n",
            "  Downloading JPype1-1.4.1-cp38-cp38-manylinux_2_12_x86_64.manylinux2010_x86_64.whl (465 kB)\n",
            "\u001b[2K     \u001b[90m━━━━━━━━━━━━━━━━━━━━━━━━━━━━━━━━━━━━━━\u001b[0m \u001b[32m465.6/465.6 KB\u001b[0m \u001b[31m39.2 MB/s\u001b[0m eta \u001b[36m0:00:00\u001b[0m\n",
            "\u001b[?25hRequirement already satisfied: numpy>=1.6 in /usr/local/lib/python3.8/dist-packages (from konlpy) (1.21.6)\n",
            "Requirement already satisfied: lxml>=4.1.0 in /usr/local/lib/python3.8/dist-packages (from konlpy) (4.9.2)\n",
            "Requirement already satisfied: packaging in /usr/local/lib/python3.8/dist-packages (from JPype1>=0.7.0->konlpy) (21.3)\n",
            "Requirement already satisfied: pyparsing!=3.0.5,>=2.0.2 in /usr/local/lib/python3.8/dist-packages (from packaging->JPype1>=0.7.0->konlpy) (3.0.9)\n",
            "Installing collected packages: JPype1, konlpy\n",
            "Successfully installed JPype1-1.4.1 konlpy-0.6.0\n",
            "Looking in indexes: https://pypi.org/simple, https://us-python.pkg.dev/colab-wheels/public/simple/\n",
            "Collecting git+https://github.com/krevas/huggingface_konlpy\n",
            "  Cloning https://github.com/krevas/huggingface_konlpy to /tmp/pip-req-build-u9o14dg4\n",
            "  Running command git clone --filter=blob:none --quiet https://github.com/krevas/huggingface_konlpy /tmp/pip-req-build-u9o14dg4\n",
            "  Resolved https://github.com/krevas/huggingface_konlpy to commit 00af654a4a24563b4df0a8903faef2121dbc8d90\n",
            "  Preparing metadata (setup.py) ... \u001b[?25l\u001b[?25hdone\n",
            "Requirement already satisfied: konlpy in /usr/local/lib/python3.8/dist-packages (from huggingface-konlpy==0.1.0) (0.6.0)\n",
            "Collecting tokenizers\n",
            "  Downloading tokenizers-0.13.2-cp38-cp38-manylinux_2_17_x86_64.manylinux2014_x86_64.whl (7.6 MB)\n",
            "\u001b[2K     \u001b[90m━━━━━━━━━━━━━━━━━━━━━━━━━━━━━━━━━━━━━━━━\u001b[0m \u001b[32m7.6/7.6 MB\u001b[0m \u001b[31m94.6 MB/s\u001b[0m eta \u001b[36m0:00:00\u001b[0m\n",
            "\u001b[?25hCollecting transformers\n",
            "  Downloading transformers-4.25.1-py3-none-any.whl (5.8 MB)\n",
            "\u001b[2K     \u001b[90m━━━━━━━━━━━━━━━━━━━━━━━━━━━━━━━━━━━━━━━━\u001b[0m \u001b[32m5.8/5.8 MB\u001b[0m \u001b[31m108.4 MB/s\u001b[0m eta \u001b[36m0:00:00\u001b[0m\n",
            "\u001b[?25hRequirement already satisfied: tqdm in /usr/local/lib/python3.8/dist-packages (from huggingface-konlpy==0.1.0) (4.64.1)\n",
            "Requirement already satisfied: JPype1>=0.7.0 in /usr/local/lib/python3.8/dist-packages (from konlpy->huggingface-konlpy==0.1.0) (1.4.1)\n",
            "Requirement already satisfied: lxml>=4.1.0 in /usr/local/lib/python3.8/dist-packages (from konlpy->huggingface-konlpy==0.1.0) (4.9.2)\n",
            "Requirement already satisfied: numpy>=1.6 in /usr/local/lib/python3.8/dist-packages (from konlpy->huggingface-konlpy==0.1.0) (1.21.6)\n",
            "Requirement already satisfied: pyyaml>=5.1 in /usr/local/lib/python3.8/dist-packages (from transformers->huggingface-konlpy==0.1.0) (6.0)\n",
            "Requirement already satisfied: regex!=2019.12.17 in /usr/local/lib/python3.8/dist-packages (from transformers->huggingface-konlpy==0.1.0) (2022.6.2)\n",
            "Requirement already satisfied: requests in /usr/local/lib/python3.8/dist-packages (from transformers->huggingface-konlpy==0.1.0) (2.25.1)\n",
            "Requirement already satisfied: packaging>=20.0 in /usr/local/lib/python3.8/dist-packages (from transformers->huggingface-konlpy==0.1.0) (21.3)\n",
            "Requirement already satisfied: filelock in /usr/local/lib/python3.8/dist-packages (from transformers->huggingface-konlpy==0.1.0) (3.9.0)\n",
            "Collecting huggingface-hub<1.0,>=0.10.0\n",
            "  Downloading huggingface_hub-0.11.1-py3-none-any.whl (182 kB)\n",
            "\u001b[2K     \u001b[90m━━━━━━━━━━━━━━━━━━━━━━━━━━━━━━━━━━━━━━\u001b[0m \u001b[32m182.4/182.4 KB\u001b[0m \u001b[31m21.3 MB/s\u001b[0m eta \u001b[36m0:00:00\u001b[0m\n",
            "\u001b[?25hRequirement already satisfied: typing-extensions>=3.7.4.3 in /usr/local/lib/python3.8/dist-packages (from huggingface-hub<1.0,>=0.10.0->transformers->huggingface-konlpy==0.1.0) (4.4.0)\n",
            "Requirement already satisfied: pyparsing!=3.0.5,>=2.0.2 in /usr/local/lib/python3.8/dist-packages (from packaging>=20.0->transformers->huggingface-konlpy==0.1.0) (3.0.9)\n",
            "Requirement already satisfied: idna<3,>=2.5 in /usr/local/lib/python3.8/dist-packages (from requests->transformers->huggingface-konlpy==0.1.0) (2.10)\n",
            "Requirement already satisfied: urllib3<1.27,>=1.21.1 in /usr/local/lib/python3.8/dist-packages (from requests->transformers->huggingface-konlpy==0.1.0) (1.24.3)\n",
            "Requirement already satisfied: certifi>=2017.4.17 in /usr/local/lib/python3.8/dist-packages (from requests->transformers->huggingface-konlpy==0.1.0) (2022.12.7)\n",
            "Requirement already satisfied: chardet<5,>=3.0.2 in /usr/local/lib/python3.8/dist-packages (from requests->transformers->huggingface-konlpy==0.1.0) (4.0.0)\n",
            "Building wheels for collected packages: huggingface-konlpy\n",
            "  Building wheel for huggingface-konlpy (setup.py) ... \u001b[?25l\u001b[?25hdone\n",
            "  Created wheel for huggingface-konlpy: filename=huggingface_konlpy-0.1.0-py3-none-any.whl size=9336 sha256=ba3a52236e1a9471270501f83ee46e27f6c19d687b24155579e5843aadad7d9d\n",
            "  Stored in directory: /tmp/pip-ephem-wheel-cache-4gjc7ptn/wheels/49/a7/e8/a1aea7796eb1fbac153e80fb2eac7b5eaf536fdee028f8d6b4\n",
            "Successfully built huggingface-konlpy\n",
            "Installing collected packages: tokenizers, huggingface-hub, transformers, huggingface-konlpy\n",
            "Successfully installed huggingface-hub-0.11.1 huggingface-konlpy-0.1.0 tokenizers-0.13.2 transformers-4.25.1\n"
          ]
        }
      ],
      "source": [
        "!bash <(curl -s https://raw.githubusercontent.com/konlpy/konlpy/master/scripts/mecab.sh)\n",
        "!pip install kss\n",
        "!pip install scipy==1.8.0\n",
        "!pip install git+https://github.com/lovit/textrank.git\n",
        "!pip install konlpy\n",
        "!pip install 'git+https://github.com/krevas/huggingface_konlpy'"
      ]
    },
    {
      "cell_type": "code",
      "execution_count": null,
      "metadata": {
        "id": "ga6RUimCT1RZ"
      },
      "outputs": [],
      "source": [
        "# 라이브러리 import\n",
        "import pandas as pd\n",
        "from tqdm.notebook import tqdm\n",
        "from kss import split_sentences\n",
        "import numpy as np\n",
        "import os\n",
        "\n",
        "from konlpy.tag import Mecab\n",
        "import warnings\n",
        "from collections import Counter\n",
        "warnings.filterwarnings(\"ignore\")\n",
        "mecab = Mecab()"
      ]
    },
    {
      "cell_type": "code",
      "execution_count": null,
      "metadata": {
        "colab": {
          "base_uri": "https://localhost:8080/",
          "height": 1000
        },
        "id": "bCkcQoVbpLOg",
        "outputId": "12fd0ab9-2e57-419d-d583-adad33fdb901"
      },
      "outputs": [
        {
          "data": {
            "text/html": [
              "\n",
              "  <div id=\"df-d7acc9aa-ce51-4b20-a9ab-2d4c661a9b9e\">\n",
              "    <div class=\"colab-df-container\">\n",
              "      <div>\n",
              "<style scoped>\n",
              "    .dataframe tbody tr th:only-of-type {\n",
              "        vertical-align: middle;\n",
              "    }\n",
              "\n",
              "    .dataframe tbody tr th {\n",
              "        vertical-align: top;\n",
              "    }\n",
              "\n",
              "    .dataframe thead th {\n",
              "        text-align: right;\n",
              "    }\n",
              "</style>\n",
              "<table border=\"1\" class=\"dataframe\">\n",
              "  <thead>\n",
              "    <tr style=\"text-align: right;\">\n",
              "      <th></th>\n",
              "      <th>media</th>\n",
              "      <th>date</th>\n",
              "      <th>date_hour</th>\n",
              "      <th>url</th>\n",
              "      <th>content</th>\n",
              "      <th>photourl</th>\n",
              "      <th>date_cate</th>\n",
              "      <th>날짜</th>\n",
              "      <th>전일비_비율</th>\n",
              "      <th>standard</th>\n",
              "      <th>standard_tagging0.5</th>\n",
              "      <th>standard_tagging0.25</th>\n",
              "    </tr>\n",
              "  </thead>\n",
              "  <tbody>\n",
              "    <tr>\n",
              "      <th>0</th>\n",
              "      <td>연합뉴스</td>\n",
              "      <td>20220127</td>\n",
              "      <td>2022-01-27 17:53</td>\n",
              "      <td>https://n.news.naver.com/mnews/article/001/001...</td>\n",
              "      <td>증시자금 블랙홀 엔솔에 코스피 시총 69조원 증발서울연합뉴스 이미령 기자  공모주 ...</td>\n",
              "      <td>https://imgnews.pstatic.net/image/001/2022/01/...</td>\n",
              "      <td>2022-01-28</td>\n",
              "      <td>2022-01-28</td>\n",
              "      <td>-10.89</td>\n",
              "      <td>-4.209753</td>\n",
              "      <td>0</td>\n",
              "      <td>0</td>\n",
              "    </tr>\n",
              "    <tr>\n",
              "      <th>1</th>\n",
              "      <td>연합뉴스</td>\n",
              "      <td>20220127</td>\n",
              "      <td>2022-01-27 18:01</td>\n",
              "      <td>https://n.news.naver.com/mnews/article/001/001...</td>\n",
              "      <td>연합뉴스 이 시각 헤드라인  1800역제안에 수용 양자토론 31일 가닥4자는 다시 ...</td>\n",
              "      <td>https://imgnews.pstatic.net/image/001/2022/01/...</td>\n",
              "      <td>2022-01-28</td>\n",
              "      <td>2022-01-28</td>\n",
              "      <td>-10.89</td>\n",
              "      <td>-4.209753</td>\n",
              "      <td>0</td>\n",
              "      <td>0</td>\n",
              "    </tr>\n",
              "    <tr>\n",
              "      <th>2</th>\n",
              "      <td>이데일리</td>\n",
              "      <td>20220127</td>\n",
              "      <td>2022-01-27 18:09</td>\n",
              "      <td>https://n.news.naver.com/mnews/article/018/000...</td>\n",
              "      <td>단독우리사주 대박 엔솔 임직원성과급도 따블로이데일리 성주원 기자 화학051910에서...</td>\n",
              "      <td>https://imgnews.pstatic.net/image/018/2022/01/...</td>\n",
              "      <td>2022-01-28</td>\n",
              "      <td>2022-01-28</td>\n",
              "      <td>-10.89</td>\n",
              "      <td>-4.209753</td>\n",
              "      <td>0</td>\n",
              "      <td>0</td>\n",
              "    </tr>\n",
              "    <tr>\n",
              "      <th>3</th>\n",
              "      <td>이데일리</td>\n",
              "      <td>20220127</td>\n",
              "      <td>2022-01-27 19:33</td>\n",
              "      <td>https://n.news.naver.com/mnews/article/018/000...</td>\n",
              "      <td>에너지솔루션,  조기편입 불발조건 만족 못해이데일리 안혜신 기자 에너지솔루션3732...</td>\n",
              "      <td>NaN</td>\n",
              "      <td>2022-01-28</td>\n",
              "      <td>2022-01-28</td>\n",
              "      <td>-10.89</td>\n",
              "      <td>-4.209753</td>\n",
              "      <td>0</td>\n",
              "      <td>0</td>\n",
              "    </tr>\n",
              "    <tr>\n",
              "      <th>4</th>\n",
              "      <td>이데일리</td>\n",
              "      <td>20220127</td>\n",
              "      <td>2022-01-27 20:21</td>\n",
              "      <td>https://n.news.naver.com/mnews/article/018/000...</td>\n",
              "      <td>엔솔, 따상 불발했지만공모가보다 70 상승이데일리 안혜신 기자 에너지솔루션37322...</td>\n",
              "      <td>https://imgnews.pstatic.net/image/018/2022/01/...</td>\n",
              "      <td>2022-01-28</td>\n",
              "      <td>2022-01-28</td>\n",
              "      <td>-10.89</td>\n",
              "      <td>-4.209753</td>\n",
              "      <td>0</td>\n",
              "      <td>0</td>\n",
              "    </tr>\n",
              "    <tr>\n",
              "      <th>...</th>\n",
              "      <td>...</td>\n",
              "      <td>...</td>\n",
              "      <td>...</td>\n",
              "      <td>...</td>\n",
              "      <td>...</td>\n",
              "      <td>...</td>\n",
              "      <td>...</td>\n",
              "      <td>...</td>\n",
              "      <td>...</td>\n",
              "      <td>...</td>\n",
              "      <td>...</td>\n",
              "      <td>...</td>\n",
              "    </tr>\n",
              "    <tr>\n",
              "      <th>5948</th>\n",
              "      <td>헤럴드경제</td>\n",
              "      <td>20221130</td>\n",
              "      <td>2022-11-30 11:32</td>\n",
              "      <td>https://n.news.naver.com/mnews/article/016/000...</td>\n",
              "      <td>두달간 바이코리아...6조 쓸어담았다올해 10월과 11월 두 달간 외국인 투자자가 ...</td>\n",
              "      <td>NaN</td>\n",
              "      <td>2022-11-30</td>\n",
              "      <td>2022-11-30</td>\n",
              "      <td>3.53</td>\n",
              "      <td>1.310257</td>\n",
              "      <td>4</td>\n",
              "      <td>4</td>\n",
              "    </tr>\n",
              "    <tr>\n",
              "      <th>5949</th>\n",
              "      <td>서울경제</td>\n",
              "      <td>20221130</td>\n",
              "      <td>2022-11-30 15:41</td>\n",
              "      <td>https://n.news.naver.com/mnews/article/011/000...</td>\n",
              "      <td>데이터로 보는 증시코스피 기관외국인개인 순매수순매도 상위종목11월 30일서울경제 기...</td>\n",
              "      <td>https://imgnews.pstatic.net/image/011/2022/11/...</td>\n",
              "      <td>2022-11-30</td>\n",
              "      <td>2022-11-30</td>\n",
              "      <td>3.53</td>\n",
              "      <td>1.310257</td>\n",
              "      <td>4</td>\n",
              "      <td>4</td>\n",
              "    </tr>\n",
              "    <tr>\n",
              "      <th>5950</th>\n",
              "      <td>서울경제</td>\n",
              "      <td>20221130</td>\n",
              "      <td>2022-11-30 13:46</td>\n",
              "      <td>https://n.news.naver.com/mnews/article/011/000...</td>\n",
              "      <td>특징주대성하이텍, 전기차 주행거리 30 상승 신기술 3세대 코일 현대차 부품 개발중...</td>\n",
              "      <td>NaN</td>\n",
              "      <td>2022-11-30</td>\n",
              "      <td>2022-11-30</td>\n",
              "      <td>3.53</td>\n",
              "      <td>1.310257</td>\n",
              "      <td>4</td>\n",
              "      <td>4</td>\n",
              "    </tr>\n",
              "    <tr>\n",
              "      <th>5951</th>\n",
              "      <td>서울경제</td>\n",
              "      <td>20221130</td>\n",
              "      <td>2022-11-30 15:53</td>\n",
              "      <td>https://n.news.naver.com/mnews/article/011/000...</td>\n",
              "      <td>마감 시황 코스피, 외국인 폭풍 매수에 1.6 상승 마감서울경제 코스피가 외국인 투...</td>\n",
              "      <td>https://imgnews.pstatic.net/image/011/2022/11/...</td>\n",
              "      <td>2022-11-30</td>\n",
              "      <td>2022-11-30</td>\n",
              "      <td>3.53</td>\n",
              "      <td>1.310257</td>\n",
              "      <td>4</td>\n",
              "      <td>4</td>\n",
              "    </tr>\n",
              "    <tr>\n",
              "      <th>5952</th>\n",
              "      <td>서울경제</td>\n",
              "      <td>20221130</td>\n",
              "      <td>2022-11-30 16:44</td>\n",
              "      <td>https://n.news.naver.com/mnews/article/011/000...</td>\n",
              "      <td>인적분할했는데 장중 12 급락이수화학 분할공포증에 짓눌렸나서울경제 분할 공포증일까....</td>\n",
              "      <td>https://imgnews.pstatic.net/image/011/2022/11/...</td>\n",
              "      <td>2022-11-30</td>\n",
              "      <td>2022-11-30</td>\n",
              "      <td>3.53</td>\n",
              "      <td>1.310257</td>\n",
              "      <td>4</td>\n",
              "      <td>4</td>\n",
              "    </tr>\n",
              "  </tbody>\n",
              "</table>\n",
              "<p>5953 rows × 12 columns</p>\n",
              "</div>\n",
              "      <button class=\"colab-df-convert\" onclick=\"convertToInteractive('df-d7acc9aa-ce51-4b20-a9ab-2d4c661a9b9e')\"\n",
              "              title=\"Convert this dataframe to an interactive table.\"\n",
              "              style=\"display:none;\">\n",
              "        \n",
              "  <svg xmlns=\"http://www.w3.org/2000/svg\" height=\"24px\"viewBox=\"0 0 24 24\"\n",
              "       width=\"24px\">\n",
              "    <path d=\"M0 0h24v24H0V0z\" fill=\"none\"/>\n",
              "    <path d=\"M18.56 5.44l.94 2.06.94-2.06 2.06-.94-2.06-.94-.94-2.06-.94 2.06-2.06.94zm-11 1L8.5 8.5l.94-2.06 2.06-.94-2.06-.94L8.5 2.5l-.94 2.06-2.06.94zm10 10l.94 2.06.94-2.06 2.06-.94-2.06-.94-.94-2.06-.94 2.06-2.06.94z\"/><path d=\"M17.41 7.96l-1.37-1.37c-.4-.4-.92-.59-1.43-.59-.52 0-1.04.2-1.43.59L10.3 9.45l-7.72 7.72c-.78.78-.78 2.05 0 2.83L4 21.41c.39.39.9.59 1.41.59.51 0 1.02-.2 1.41-.59l7.78-7.78 2.81-2.81c.8-.78.8-2.07 0-2.86zM5.41 20L4 18.59l7.72-7.72 1.47 1.35L5.41 20z\"/>\n",
              "  </svg>\n",
              "      </button>\n",
              "      \n",
              "  <style>\n",
              "    .colab-df-container {\n",
              "      display:flex;\n",
              "      flex-wrap:wrap;\n",
              "      gap: 12px;\n",
              "    }\n",
              "\n",
              "    .colab-df-convert {\n",
              "      background-color: #E8F0FE;\n",
              "      border: none;\n",
              "      border-radius: 50%;\n",
              "      cursor: pointer;\n",
              "      display: none;\n",
              "      fill: #1967D2;\n",
              "      height: 32px;\n",
              "      padding: 0 0 0 0;\n",
              "      width: 32px;\n",
              "    }\n",
              "\n",
              "    .colab-df-convert:hover {\n",
              "      background-color: #E2EBFA;\n",
              "      box-shadow: 0px 1px 2px rgba(60, 64, 67, 0.3), 0px 1px 3px 1px rgba(60, 64, 67, 0.15);\n",
              "      fill: #174EA6;\n",
              "    }\n",
              "\n",
              "    [theme=dark] .colab-df-convert {\n",
              "      background-color: #3B4455;\n",
              "      fill: #D2E3FC;\n",
              "    }\n",
              "\n",
              "    [theme=dark] .colab-df-convert:hover {\n",
              "      background-color: #434B5C;\n",
              "      box-shadow: 0px 1px 3px 1px rgba(0, 0, 0, 0.15);\n",
              "      filter: drop-shadow(0px 1px 2px rgba(0, 0, 0, 0.3));\n",
              "      fill: #FFFFFF;\n",
              "    }\n",
              "  </style>\n",
              "\n",
              "      <script>\n",
              "        const buttonEl =\n",
              "          document.querySelector('#df-d7acc9aa-ce51-4b20-a9ab-2d4c661a9b9e button.colab-df-convert');\n",
              "        buttonEl.style.display =\n",
              "          google.colab.kernel.accessAllowed ? 'block' : 'none';\n",
              "\n",
              "        async function convertToInteractive(key) {\n",
              "          const element = document.querySelector('#df-d7acc9aa-ce51-4b20-a9ab-2d4c661a9b9e');\n",
              "          const dataTable =\n",
              "            await google.colab.kernel.invokeFunction('convertToInteractive',\n",
              "                                                     [key], {});\n",
              "          if (!dataTable) return;\n",
              "\n",
              "          const docLinkHtml = 'Like what you see? Visit the ' +\n",
              "            '<a target=\"_blank\" href=https://colab.research.google.com/notebooks/data_table.ipynb>data table notebook</a>'\n",
              "            + ' to learn more about interactive tables.';\n",
              "          element.innerHTML = '';\n",
              "          dataTable['output_type'] = 'display_data';\n",
              "          await google.colab.output.renderOutput(dataTable, element);\n",
              "          const docLink = document.createElement('div');\n",
              "          docLink.innerHTML = docLinkHtml;\n",
              "          element.appendChild(docLink);\n",
              "        }\n",
              "      </script>\n",
              "    </div>\n",
              "  </div>\n",
              "  "
            ],
            "text/plain": [
              "      media      date         date_hour  \\\n",
              "0      연합뉴스  20220127  2022-01-27 17:53   \n",
              "1      연합뉴스  20220127  2022-01-27 18:01   \n",
              "2      이데일리  20220127  2022-01-27 18:09   \n",
              "3      이데일리  20220127  2022-01-27 19:33   \n",
              "4      이데일리  20220127  2022-01-27 20:21   \n",
              "...     ...       ...               ...   \n",
              "5948  헤럴드경제  20221130  2022-11-30 11:32   \n",
              "5949   서울경제  20221130  2022-11-30 15:41   \n",
              "5950   서울경제  20221130  2022-11-30 13:46   \n",
              "5951   서울경제  20221130  2022-11-30 15:53   \n",
              "5952   서울경제  20221130  2022-11-30 16:44   \n",
              "\n",
              "                                                    url  \\\n",
              "0     https://n.news.naver.com/mnews/article/001/001...   \n",
              "1     https://n.news.naver.com/mnews/article/001/001...   \n",
              "2     https://n.news.naver.com/mnews/article/018/000...   \n",
              "3     https://n.news.naver.com/mnews/article/018/000...   \n",
              "4     https://n.news.naver.com/mnews/article/018/000...   \n",
              "...                                                 ...   \n",
              "5948  https://n.news.naver.com/mnews/article/016/000...   \n",
              "5949  https://n.news.naver.com/mnews/article/011/000...   \n",
              "5950  https://n.news.naver.com/mnews/article/011/000...   \n",
              "5951  https://n.news.naver.com/mnews/article/011/000...   \n",
              "5952  https://n.news.naver.com/mnews/article/011/000...   \n",
              "\n",
              "                                                content  \\\n",
              "0     증시자금 블랙홀 엔솔에 코스피 시총 69조원 증발서울연합뉴스 이미령 기자  공모주 ...   \n",
              "1     연합뉴스 이 시각 헤드라인  1800역제안에 수용 양자토론 31일 가닥4자는 다시 ...   \n",
              "2     단독우리사주 대박 엔솔 임직원성과급도 따블로이데일리 성주원 기자 화학051910에서...   \n",
              "3     에너지솔루션,  조기편입 불발조건 만족 못해이데일리 안혜신 기자 에너지솔루션3732...   \n",
              "4     엔솔, 따상 불발했지만공모가보다 70 상승이데일리 안혜신 기자 에너지솔루션37322...   \n",
              "...                                                 ...   \n",
              "5948  두달간 바이코리아...6조 쓸어담았다올해 10월과 11월 두 달간 외국인 투자자가 ...   \n",
              "5949  데이터로 보는 증시코스피 기관외국인개인 순매수순매도 상위종목11월 30일서울경제 기...   \n",
              "5950  특징주대성하이텍, 전기차 주행거리 30 상승 신기술 3세대 코일 현대차 부품 개발중...   \n",
              "5951  마감 시황 코스피, 외국인 폭풍 매수에 1.6 상승 마감서울경제 코스피가 외국인 투...   \n",
              "5952  인적분할했는데 장중 12 급락이수화학 분할공포증에 짓눌렸나서울경제 분할 공포증일까....   \n",
              "\n",
              "                                               photourl   date_cate  \\\n",
              "0     https://imgnews.pstatic.net/image/001/2022/01/...  2022-01-28   \n",
              "1     https://imgnews.pstatic.net/image/001/2022/01/...  2022-01-28   \n",
              "2     https://imgnews.pstatic.net/image/018/2022/01/...  2022-01-28   \n",
              "3                                                   NaN  2022-01-28   \n",
              "4     https://imgnews.pstatic.net/image/018/2022/01/...  2022-01-28   \n",
              "...                                                 ...         ...   \n",
              "5948                                                NaN  2022-11-30   \n",
              "5949  https://imgnews.pstatic.net/image/011/2022/11/...  2022-11-30   \n",
              "5950                                                NaN  2022-11-30   \n",
              "5951  https://imgnews.pstatic.net/image/011/2022/11/...  2022-11-30   \n",
              "5952  https://imgnews.pstatic.net/image/011/2022/11/...  2022-11-30   \n",
              "\n",
              "              날짜  전일비_비율  standard  standard_tagging0.5  standard_tagging0.25  \n",
              "0     2022-01-28  -10.89 -4.209753                    0                     0  \n",
              "1     2022-01-28  -10.89 -4.209753                    0                     0  \n",
              "2     2022-01-28  -10.89 -4.209753                    0                     0  \n",
              "3     2022-01-28  -10.89 -4.209753                    0                     0  \n",
              "4     2022-01-28  -10.89 -4.209753                    0                     0  \n",
              "...          ...     ...       ...                  ...                   ...  \n",
              "5948  2022-11-30    3.53  1.310257                    4                     4  \n",
              "5949  2022-11-30    3.53  1.310257                    4                     4  \n",
              "5950  2022-11-30    3.53  1.310257                    4                     4  \n",
              "5951  2022-11-30    3.53  1.310257                    4                     4  \n",
              "5952  2022-11-30    3.53  1.310257                    4                     4  \n",
              "\n",
              "[5953 rows x 12 columns]"
            ]
          },
          "execution_count": 7,
          "metadata": {},
          "output_type": "execute_result"
        }
      ],
      "source": [
        "df"
      ]
    },
    {
      "cell_type": "code",
      "execution_count": null,
      "metadata": {
        "id": "ICRK0QJNLKSv"
      },
      "outputs": [],
      "source": [
        "# 전처리 함수\n",
        "\n",
        "def sent_split_list(df) :\n",
        "  # 문장 단위로 구분\n",
        "  df_sent = pd.DataFrame()\n",
        "  date_cate_list = []\n",
        "  text_rank_content_list = []\n",
        "  standard_tagging_list = []\n",
        "  targetpm_list = []\n",
        "  idx_list = []\n",
        "  for idx in tqdm(df.index) :\n",
        "    temp_date = df.loc[idx, 'date_cate']\n",
        "    temp_sent_total = df.loc[idx, 'content']\n",
        "    temp_label = df.loc[idx, 'standard_tagging0.25']\n",
        "    temp_targetpm = df.loc[idx, 'targetpm']\n",
        "    temp_sent = split_sentences(str(temp_sent_total))\n",
        "    for sent in temp_sent:\n",
        "      date_cate_list.append(temp_date)\n",
        "      text_rank_content_list.append(sent)\n",
        "      standard_tagging_list.append(temp_label)\n",
        "      targetpm_list.append(temp_targetpm)\n",
        "      idx_list.append(idx)\n",
        "      # temp = pd.DataFrame({'date' : [temp_date],\n",
        "      #                     'sent' : [sent],\n",
        "      #                     'target' : [temp_label],\n",
        "      #                     'targetpm' : [temp_targetpm],\n",
        "      #                     'news_id' : [idx]\n",
        "      #                     })\n",
        "      # df_sent = pd.concat([df_sent, temp])\n",
        "  # df_sent = df_sent.reset_index(drop=True)\n",
        "  df_sent['date'] = date_cate_list\n",
        "  df_sent['sent'] = text_rank_content_list\n",
        "  df_sent['target'] = standard_tagging_list\n",
        "  df_sent['targetpm'] = targetpm_list\n",
        "  df_sent['news_id'] = idx_list\n",
        "  return df_sent"
      ]
    },
    {
      "cell_type": "code",
      "execution_count": null,
      "metadata": {
        "colab": {
          "base_uri": "https://localhost:8080/",
          "height": 708,
          "referenced_widgets": [
            "765e48e71bb34020944f6449a99801f0",
            "00007d4bc9e84ba399f2b69ccaec0171",
            "16e320a8dbff46569ba97a04bfc35e67",
            "a0c93019b9634c8cb618d24ce71b7402",
            "de4a5f5e3f2c4eb3b393242ce739182e",
            "2b03d813cbe84a839ba01fdbcdeba5ae",
            "f05a430b14194709806d4bc2609c4c10",
            "4b2f640825484340861d241e3547981e",
            "5a43c2e88cf44b00b3d13d341163dfe0",
            "4859eb5c52d148d994731b07d2bac389",
            "97a9f9e1c2904f999265e49dbe889ad7"
          ]
        },
        "id": "PwCBYr0NOgpI",
        "outputId": "5bdb35d1-b041-46dc-dc9d-2e5bec6d7fc0"
      },
      "outputs": [
        {
          "data": {
            "application/vnd.jupyter.widget-view+json": {
              "model_id": "765e48e71bb34020944f6449a99801f0",
              "version_major": 2,
              "version_minor": 0
            },
            "text/plain": [
              "  0%|          | 0/5953 [00:00<?, ?it/s]"
            ]
          },
          "metadata": {},
          "output_type": "display_data"
        },
        {
          "name": "stderr",
          "output_type": "stream",
          "text": [
            "WARNING:root:Oh! You have mecab in your environment. Kss will take this as a backend! :D\n",
            "\n"
          ]
        },
        {
          "data": {
            "text/html": [
              "\n",
              "  <div id=\"df-0220dab9-a715-4e12-a825-0af319244e7d\">\n",
              "    <div class=\"colab-df-container\">\n",
              "      <div>\n",
              "<style scoped>\n",
              "    .dataframe tbody tr th:only-of-type {\n",
              "        vertical-align: middle;\n",
              "    }\n",
              "\n",
              "    .dataframe tbody tr th {\n",
              "        vertical-align: top;\n",
              "    }\n",
              "\n",
              "    .dataframe thead th {\n",
              "        text-align: right;\n",
              "    }\n",
              "</style>\n",
              "<table border=\"1\" class=\"dataframe\">\n",
              "  <thead>\n",
              "    <tr style=\"text-align: right;\">\n",
              "      <th></th>\n",
              "      <th>date</th>\n",
              "      <th>sent</th>\n",
              "      <th>target</th>\n",
              "      <th>targetpm</th>\n",
              "      <th>news_id</th>\n",
              "    </tr>\n",
              "  </thead>\n",
              "  <tbody>\n",
              "    <tr>\n",
              "      <th>0</th>\n",
              "      <td>2022-01-28</td>\n",
              "      <td>증시자금 블랙홀 엔솔에 코스피 시총 69조원 증발서울연합뉴스 이미령 기자  공모주 ...</td>\n",
              "      <td>0</td>\n",
              "      <td>1</td>\n",
              "      <td>0</td>\n",
              "    </tr>\n",
              "    <tr>\n",
              "      <th>1</th>\n",
              "      <td>2022-01-28</td>\n",
              "      <td>27일 한국거래소에 따르면 이날 유가증권시장 시가총액은 총 2천56조8천억원으로 전...</td>\n",
              "      <td>0</td>\n",
              "      <td>1</td>\n",
              "      <td>0</td>\n",
              "    </tr>\n",
              "    <tr>\n",
              "      <th>2</th>\n",
              "      <td>2022-01-28</td>\n",
              "      <td>다만 이는 이날 상장한 에너지솔루션 시가총액118조2천억원이 더해진 규모로, 에너지...</td>\n",
              "      <td>0</td>\n",
              "      <td>1</td>\n",
              "      <td>0</td>\n",
              "    </tr>\n",
              "    <tr>\n",
              "      <th>3</th>\n",
              "      <td>2022-01-28</td>\n",
              "      <td>이날 코스피가 3.50 급락하며 2,610대로 밀려난 것도 이런 이유에서란 분석이다.</td>\n",
              "      <td>0</td>\n",
              "      <td>1</td>\n",
              "      <td>0</td>\n",
              "    </tr>\n",
              "    <tr>\n",
              "      <th>4</th>\n",
              "      <td>2022-01-28</td>\n",
              "      <td>서상영 미래에셋증권 연구원은 이날 코스피 하락 요인 중 가장 큰 건 에너지솔루션 수...</td>\n",
              "      <td>0</td>\n",
              "      <td>1</td>\n",
              "      <td>0</td>\n",
              "    </tr>\n",
              "    <tr>\n",
              "      <th>...</th>\n",
              "      <td>...</td>\n",
              "      <td>...</td>\n",
              "      <td>...</td>\n",
              "      <td>...</td>\n",
              "      <td>...</td>\n",
              "    </tr>\n",
              "    <tr>\n",
              "      <th>125904</th>\n",
              "      <td>2022-11-30</td>\n",
              "      <td>업계에서는 분할 공포증 영향이라는 해석도 나온다.</td>\n",
              "      <td>4</td>\n",
              "      <td>3</td>\n",
              "      <td>5952</td>\n",
              "    </tr>\n",
              "    <tr>\n",
              "      <th>125905</th>\n",
              "      <td>2022-11-30</td>\n",
              "      <td>화학의 에너지솔루션 물적 분할 이후 분할악재라는 인식 때문에 주가가 내리는 것이라는...</td>\n",
              "      <td>4</td>\n",
              "      <td>3</td>\n",
              "      <td>5952</td>\n",
              "    </tr>\n",
              "    <tr>\n",
              "      <th>125906</th>\n",
              "      <td>2022-11-30</td>\n",
              "      <td>한 투자 업계 고위 임원은 기존 사업이 돈을 벌고 신사업에 투자하다 신사업이 자생력...</td>\n",
              "      <td>4</td>\n",
              "      <td>3</td>\n",
              "      <td>5952</td>\n",
              "    </tr>\n",
              "    <tr>\n",
              "      <th>125907</th>\n",
              "      <td>2022-11-30</td>\n",
              "      <td>다만 주가가 지나치게 급락했다는 점에서 외부로 알려지지 않은 내용이 더 있는 것 아...</td>\n",
              "      <td>4</td>\n",
              "      <td>3</td>\n",
              "      <td>5952</td>\n",
              "    </tr>\n",
              "    <tr>\n",
              "      <th>125908</th>\n",
              "      <td>2022-11-30</td>\n",
              "      <td>한 투자 업계 관계자는 주가가 급락하는 배경이 있을 수도 있다며 장 상황이 안 좋다...</td>\n",
              "      <td>4</td>\n",
              "      <td>3</td>\n",
              "      <td>5952</td>\n",
              "    </tr>\n",
              "  </tbody>\n",
              "</table>\n",
              "<p>125909 rows × 5 columns</p>\n",
              "</div>\n",
              "      <button class=\"colab-df-convert\" onclick=\"convertToInteractive('df-0220dab9-a715-4e12-a825-0af319244e7d')\"\n",
              "              title=\"Convert this dataframe to an interactive table.\"\n",
              "              style=\"display:none;\">\n",
              "        \n",
              "  <svg xmlns=\"http://www.w3.org/2000/svg\" height=\"24px\"viewBox=\"0 0 24 24\"\n",
              "       width=\"24px\">\n",
              "    <path d=\"M0 0h24v24H0V0z\" fill=\"none\"/>\n",
              "    <path d=\"M18.56 5.44l.94 2.06.94-2.06 2.06-.94-2.06-.94-.94-2.06-.94 2.06-2.06.94zm-11 1L8.5 8.5l.94-2.06 2.06-.94-2.06-.94L8.5 2.5l-.94 2.06-2.06.94zm10 10l.94 2.06.94-2.06 2.06-.94-2.06-.94-.94-2.06-.94 2.06-2.06.94z\"/><path d=\"M17.41 7.96l-1.37-1.37c-.4-.4-.92-.59-1.43-.59-.52 0-1.04.2-1.43.59L10.3 9.45l-7.72 7.72c-.78.78-.78 2.05 0 2.83L4 21.41c.39.39.9.59 1.41.59.51 0 1.02-.2 1.41-.59l7.78-7.78 2.81-2.81c.8-.78.8-2.07 0-2.86zM5.41 20L4 18.59l7.72-7.72 1.47 1.35L5.41 20z\"/>\n",
              "  </svg>\n",
              "      </button>\n",
              "      \n",
              "  <style>\n",
              "    .colab-df-container {\n",
              "      display:flex;\n",
              "      flex-wrap:wrap;\n",
              "      gap: 12px;\n",
              "    }\n",
              "\n",
              "    .colab-df-convert {\n",
              "      background-color: #E8F0FE;\n",
              "      border: none;\n",
              "      border-radius: 50%;\n",
              "      cursor: pointer;\n",
              "      display: none;\n",
              "      fill: #1967D2;\n",
              "      height: 32px;\n",
              "      padding: 0 0 0 0;\n",
              "      width: 32px;\n",
              "    }\n",
              "\n",
              "    .colab-df-convert:hover {\n",
              "      background-color: #E2EBFA;\n",
              "      box-shadow: 0px 1px 2px rgba(60, 64, 67, 0.3), 0px 1px 3px 1px rgba(60, 64, 67, 0.15);\n",
              "      fill: #174EA6;\n",
              "    }\n",
              "\n",
              "    [theme=dark] .colab-df-convert {\n",
              "      background-color: #3B4455;\n",
              "      fill: #D2E3FC;\n",
              "    }\n",
              "\n",
              "    [theme=dark] .colab-df-convert:hover {\n",
              "      background-color: #434B5C;\n",
              "      box-shadow: 0px 1px 3px 1px rgba(0, 0, 0, 0.15);\n",
              "      filter: drop-shadow(0px 1px 2px rgba(0, 0, 0, 0.3));\n",
              "      fill: #FFFFFF;\n",
              "    }\n",
              "  </style>\n",
              "\n",
              "      <script>\n",
              "        const buttonEl =\n",
              "          document.querySelector('#df-0220dab9-a715-4e12-a825-0af319244e7d button.colab-df-convert');\n",
              "        buttonEl.style.display =\n",
              "          google.colab.kernel.accessAllowed ? 'block' : 'none';\n",
              "\n",
              "        async function convertToInteractive(key) {\n",
              "          const element = document.querySelector('#df-0220dab9-a715-4e12-a825-0af319244e7d');\n",
              "          const dataTable =\n",
              "            await google.colab.kernel.invokeFunction('convertToInteractive',\n",
              "                                                     [key], {});\n",
              "          if (!dataTable) return;\n",
              "\n",
              "          const docLinkHtml = 'Like what you see? Visit the ' +\n",
              "            '<a target=\"_blank\" href=https://colab.research.google.com/notebooks/data_table.ipynb>data table notebook</a>'\n",
              "            + ' to learn more about interactive tables.';\n",
              "          element.innerHTML = '';\n",
              "          dataTable['output_type'] = 'display_data';\n",
              "          await google.colab.output.renderOutput(dataTable, element);\n",
              "          const docLink = document.createElement('div');\n",
              "          docLink.innerHTML = docLinkHtml;\n",
              "          element.appendChild(docLink);\n",
              "        }\n",
              "      </script>\n",
              "    </div>\n",
              "  </div>\n",
              "  "
            ],
            "text/plain": [
              "              date                                               sent  target  \\\n",
              "0       2022-01-28  증시자금 블랙홀 엔솔에 코스피 시총 69조원 증발서울연합뉴스 이미령 기자  공모주 ...       0   \n",
              "1       2022-01-28  27일 한국거래소에 따르면 이날 유가증권시장 시가총액은 총 2천56조8천억원으로 전...       0   \n",
              "2       2022-01-28  다만 이는 이날 상장한 에너지솔루션 시가총액118조2천억원이 더해진 규모로, 에너지...       0   \n",
              "3       2022-01-28    이날 코스피가 3.50 급락하며 2,610대로 밀려난 것도 이런 이유에서란 분석이다.       0   \n",
              "4       2022-01-28  서상영 미래에셋증권 연구원은 이날 코스피 하락 요인 중 가장 큰 건 에너지솔루션 수...       0   \n",
              "...            ...                                                ...     ...   \n",
              "125904  2022-11-30                        업계에서는 분할 공포증 영향이라는 해석도 나온다.       4   \n",
              "125905  2022-11-30  화학의 에너지솔루션 물적 분할 이후 분할악재라는 인식 때문에 주가가 내리는 것이라는...       4   \n",
              "125906  2022-11-30  한 투자 업계 고위 임원은 기존 사업이 돈을 벌고 신사업에 투자하다 신사업이 자생력...       4   \n",
              "125907  2022-11-30  다만 주가가 지나치게 급락했다는 점에서 외부로 알려지지 않은 내용이 더 있는 것 아...       4   \n",
              "125908  2022-11-30  한 투자 업계 관계자는 주가가 급락하는 배경이 있을 수도 있다며 장 상황이 안 좋다...       4   \n",
              "\n",
              "        targetpm  news_id  \n",
              "0              1        0  \n",
              "1              1        0  \n",
              "2              1        0  \n",
              "3              1        0  \n",
              "4              1        0  \n",
              "...          ...      ...  \n",
              "125904         3     5952  \n",
              "125905         3     5952  \n",
              "125906         3     5952  \n",
              "125907         3     5952  \n",
              "125908         3     5952  \n",
              "\n",
              "[125909 rows x 5 columns]"
            ]
          },
          "execution_count": 9,
          "metadata": {},
          "output_type": "execute_result"
        }
      ],
      "source": [
        "df = df[['date_cate', 'content','전일비_비율','standard_tagging0.25']]\n",
        "df['targetpm'] = np.where(df['전일비_비율'] >= 0, 3, 1)\n",
        "df['targetpm'] = df['targetpm'].astype('int')\n",
        "df_sent = sent_split_list(df)\n",
        "df_sent"
      ]
    },
    {
      "cell_type": "code",
      "execution_count": null,
      "metadata": {
        "colab": {
          "base_uri": "https://localhost:8080/"
        },
        "id": "_UpcjTrFPIiN",
        "outputId": "d1146c84-7829-4799-b02f-bf88cbd0adde"
      },
      "outputs": [
        {
          "data": {
            "text/plain": [
              "2    31128\n",
              "3    30389\n",
              "1    26282\n",
              "0    19764\n",
              "4    18346\n",
              "Name: target, dtype: int64"
            ]
          },
          "execution_count": 10,
          "metadata": {},
          "output_type": "execute_result"
        }
      ],
      "source": [
        "df_sent['target'].value_counts()"
      ]
    },
    {
      "cell_type": "code",
      "execution_count": null,
      "metadata": {
        "id": "xTedpwc-LAxn"
      },
      "outputs": [],
      "source": [
        "# df_sent 저장 코드\n",
        "save_df_sent_path = f'/content/drive/MyDrive/뉴스원인분석_modeling/final_news_modeling/{company_name}/{company_name}_sent_split.csv'\n",
        "df_sent.to_csv(save_df_sent_path, index=False)"
      ]
    },
    {
      "cell_type": "markdown",
      "metadata": {
        "id": "7TW6a-UBKgw1"
      },
      "source": [
        "# 모델 훈련"
      ]
    },
    {
      "cell_type": "code",
      "execution_count": null,
      "metadata": {
        "id": "KfPVLZ37rPu2"
      },
      "outputs": [],
      "source": [
        "######## GPU 전환 후 실행 !!! ########\n",
        "\n",
        "# KoBERT\n",
        "!pip install git+https://git@github.com/SKTBrain/KoBERT.git@master\n",
        "# GPU 토치 버전 설정\n",
        "!pip3 install torch==1.9.0+cu111 torchvision==0.10.0+cu111 torchaudio==0.9.0 -f https://download.pytorch.org/whl/torch_stable.html"
      ]
    },
    {
      "cell_type": "code",
      "execution_count": null,
      "metadata": {
        "id": "ZjazldfMuCxv"
      },
      "outputs": [],
      "source": [
        "import torch\n",
        "from torch import nn\n",
        "import torch.nn.functional as F\n",
        "import torch.optim as optim\n",
        "from torch.utils.data import Dataset, DataLoader\n",
        "import gluonnlp as nlp\n",
        "import numpy as np\n",
        "from tqdm import tqdm, tqdm_notebook\n",
        "from sklearn.model_selection import train_test_split\n",
        "from kobert.utils import get_tokenizer\n",
        "from kobert.pytorch_kobert import get_pytorch_kobert_model\n",
        "from transformers import AdamW\n",
        "from transformers.optimization import get_cosine_schedule_with_warmup\n",
        "import pandas as pd\n",
        "import os\n"
      ]
    },
    {
      "cell_type": "code",
      "execution_count": null,
      "metadata": {
        "colab": {
          "base_uri": "https://localhost:8080/"
        },
        "id": "TImzV9r0uENS",
        "outputId": "cac11a7c-2432-4768-c368-380d9595e749"
      },
      "outputs": [
        {
          "output_type": "stream",
          "name": "stdout",
          "text": [
            "/content/.cache/kobert_v1.zip[██████████████████████████████████████████████████]\n",
            "/content/.cache/kobert_news_wiki_ko_cased-1087f8699e.spiece[██████████████████████████████████████████████████]\n",
            "using cached model. /content/.cache/kobert_news_wiki_ko_cased-1087f8699e.spiece\n"
          ]
        }
      ],
      "source": [
        "## KoBERT 기초 설정 ##\n",
        "\n",
        "\n",
        "max_len = 128 \n",
        "batch_size = 64\n",
        "warmup_ratio = 0.1\n",
        "max_grad_norm = 1\n",
        "log_interval = 200\n",
        "learning_rate = 5e-5\n",
        "\n",
        "\n",
        "device = torch.device(\"cuda:0\")\n",
        "bertmodel, vocab = get_pytorch_kobert_model()\n",
        "tokenizer = get_tokenizer()\n",
        "tok = nlp.data.BERTSPTokenizer(tokenizer, vocab, lower=False)\n",
        "\n",
        "class BERTDataset(Dataset):\n",
        "    def __init__(self, dataset, sent_idx, label_idx, bert_tokenizer, max_len,\n",
        "                 pad, pair):\n",
        "        transform = nlp.data.BERTSentenceTransform(\n",
        "            bert_tokenizer, max_seq_length=max_len, pad=pad, pair=pair) \n",
        "\n",
        "        self.sentences = [transform([i[sent_idx]]) for i in dataset]\n",
        "        self.labels = [np.int32(i[label_idx]) for i in dataset]\n",
        "\n",
        "    def __getitem__(self, i):\n",
        "        return (self.sentences[i] + (self.labels[i], ))\n",
        "\n",
        "    def __len__(self):\n",
        "        return (len(self.labels))\n",
        "\n",
        "class BERTClassifier(nn.Module):\n",
        "    def __init__(self,\n",
        "                 bert,\n",
        "                 hidden_size = 768,\n",
        "                 num_classes = 5, # softmax 사용 <- binary일 경우는 2\n",
        "                 dr_rate=None,\n",
        "                 params=None):\n",
        "        super(BERTClassifier, self).__init__()\n",
        "        self.bert = bert\n",
        "        self.dr_rate = dr_rate\n",
        "                 \n",
        "        self.classifier = nn.Linear(hidden_size , num_classes)\n",
        "        if dr_rate:\n",
        "            self.dropout = nn.Dropout(p=dr_rate)\n",
        "    \n",
        "    def gen_attention_mask(self, token_ids, valid_length):\n",
        "        attention_mask = torch.zeros_like(token_ids)\n",
        "        for i, v in enumerate(valid_length):\n",
        "            attention_mask[i][:v] = 1\n",
        "        return attention_mask.float()\n",
        "\n",
        "    def forward(self, token_ids, valid_length, segment_ids):\n",
        "        attention_mask = self.gen_attention_mask(token_ids, valid_length)\n",
        "        \n",
        "        _, pooler = self.bert(input_ids = token_ids, token_type_ids = segment_ids.long(), attention_mask = attention_mask.float().to(token_ids.device))\n",
        "        if self.dr_rate:\n",
        "            out = self.dropout(pooler)\n",
        "        return self.classifier(out)\n",
        "\n",
        "def calc_accuracy(X,Y):\n",
        "    max_vals, max_indices = torch.max(X, 1)\n",
        "    train_acc = (max_indices == Y).sum().data.cpu().numpy()/max_indices.size()[0]\n",
        "    return train_acc\n",
        "\n",
        "os.environ['CUDA_LAUNCH_BLOCKING'] = \"1\"\n",
        "os.environ[\"CUDA_VISIBLE_DEVICES\"] = \"0\""
      ]
    },
    {
      "cell_type": "code",
      "execution_count": null,
      "metadata": {
        "id": "tb-AxMsnPTuz"
      },
      "outputs": [],
      "source": [
        "def train_test_dataframe(df): \n",
        "  df = df.sample(frac=1, random_state=2022).reset_index(drop=True)\n",
        "  df_gr = df_sent.groupby('date')[['target']].mean()\n",
        "  # 날짜별로 train_test_split\n",
        "  train_date, test_date = train_test_split(df_gr, test_size=0.1, random_state=2022, stratify=df_gr['target'])\n",
        "  train_date_list = train_date.index\n",
        "  test_date_list = test_date.index\n",
        "  train_data = df_sent[df_sent['date'].isin(train_date_list)][['date','sent', 'target','targetpm','news_id']]\n",
        "  test_data = df_sent[df_sent['date'].isin(test_date_list)][['date','sent', 'target','targetpm','news_id']]\n",
        "  return train_data, test_data\n",
        "\n",
        "def train_sampling(train, train_num=0, sample_labels = 10000) :\n",
        "  # 훈련데이터 샘플링\n",
        "  train = train.reset_index(drop=True)\n",
        "  idx_list = []\n",
        "  for i in range(0,5):\n",
        "    train_temp = train[train['target'] == i]\n",
        "    train_temp_date = train[train['target'] == i]['date'].unique()\n",
        "    frac_ratio = sample_labels / len(train_temp)\n",
        "    for date_idx  in train_temp_date :\n",
        "      train_temp_idx = train_temp[train_temp['date'] == date_idx].sample(frac=frac_ratio, random_state=2022).index\n",
        "      idx_list += list(train_temp_idx)\n",
        "  train_temp_batch = train.loc[idx_list, :].sample(frac=1, random_state=2022)\n",
        "  train_temp_total_list = []\n",
        "  for i in range(len(train_temp_batch)):\n",
        "    train_temp_total_list.append([train_temp_batch.iloc[i,1], train_temp_batch.iloc[i,2]])\n",
        "  data_train_temp = BERTDataset(train_temp_total_list, 0, 1, tok, max_len, True, False)\n",
        "  train_temp_dataloader = torch.utils.data.DataLoader(data_train_temp, batch_size=batch_size, num_workers=5)\n",
        "  train_not_use = train.loc[~train.index.isin(idx_list), :]\n",
        "  # 사용하지 않은 훈련데이터는 추후 예측에서 사용\n",
        "  return train_temp_dataloader, train_temp_batch, train_not_use\n",
        "\n",
        "def to_dataloader(df) : \n",
        "  df_list = []\n",
        "  for i in range(len(df)):\n",
        "    df_list.append([df.iloc[i,1], df.iloc[i,2]])\n",
        "  df_data = BERTDataset(df_list, 0, 1, tok, max_len, True, False)\n",
        "  df_loader = torch.utils.data.DataLoader(df_data, batch_size=batch_size, num_workers=5)\n",
        "  return df_loader\n",
        "\n",
        "def train_model(train, test, model, save_path, len_train = 0, train_num = 0 , model_path = False) :\n",
        "\n",
        "  no_decay = ['bias', 'LayerNorm.weight']\n",
        "  optimizer_grouped_parameters = [\n",
        "      {'params': [p for n, p in model.named_parameters() if not any(nd in n for nd in no_decay)], 'weight_decay': 0.01},\n",
        "      {'params': [p for n, p in model.named_parameters() if any(nd in n for nd in no_decay)], 'weight_decay': 0.0}]\n",
        "  optimizer = AdamW(optimizer_grouped_parameters, lr=learning_rate)\n",
        "  loss_fn = nn.CrossEntropyLoss()\n",
        "\n",
        "  num_epochs = 40\n",
        "  t_total = len(train) * 0.8 * num_epochs\n",
        "  warmup_step = int(t_total * warmup_ratio)\n",
        "  scheduler = get_cosine_schedule_with_warmup(optimizer, num_warmup_steps=warmup_step, num_training_steps=t_total)\n",
        "    \n",
        "\n",
        "  # 모델 학습 시작\n",
        "  for e in range(num_epochs):\n",
        "      train_acc = 0.0\n",
        "\n",
        "      train_temp_total_list = []\n",
        "      train_sampled = train.sample(frac=0.8)\n",
        "      for i in range(len(train_sampled)):\n",
        "        train_temp_total_list.append([train_sampled.iloc[i,1], train_sampled.iloc[i,2]])\n",
        "      data_train_temp = BERTDataset(train_temp_total_list, 0, 1, tok, max_len, True, False)\n",
        "      train_loader = torch.utils.data.DataLoader(data_train_temp, batch_size=batch_size, num_workers=5)\n",
        "\n",
        "      model.train()\n",
        "      for batch_id, (token_ids, valid_length, segment_ids, label) in enumerate(tqdm(train_loader)):\n",
        "          optimizer.zero_grad()\n",
        "          token_ids = token_ids.long().to(device)\n",
        "          segment_ids = segment_ids.long().to(device)\n",
        "          valid_length= valid_length\n",
        "          label = label.long().to(device)\n",
        "          out = model(token_ids, valid_length, segment_ids)\n",
        "          loss = loss_fn(out, label)\n",
        "          loss.backward()\n",
        "          torch.nn.utils.clip_grad_norm_(model.parameters(), max_grad_norm) # gradient clipping\n",
        "          optimizer.step()\n",
        "          scheduler.step()  # Update learning rate schedule\n",
        "          train_acc += calc_accuracy(out, label)\n",
        "\n",
        "          if batch_id % log_interval == 0:\n",
        "              print(\"epoch {} batch id {} loss {} train acc {} acc {}\".format(e+1, batch_id+1, loss.data.cpu().numpy(), train_acc / (batch_id+1), train_acc / (batch_id+1)))\n",
        "      print(\"epoch {} train acc {} acc {}\".format(e+1, train_acc / (batch_id+1), train_acc / (batch_id+1)))\n",
        "      \n",
        "      model.eval() # 평가 모드로 변경\n",
        "      test_acc(model, int(e+1), test, save_path)\n",
        "  return model\n",
        "\n",
        "\n",
        "def test_acc(model, epoch, test1, model_path):\n",
        "  batch_size = 64\n",
        "  test = test1.copy()\n",
        "  test = test.reset_index(drop=True)\n",
        "  test['pred'] = ''\n",
        "\n",
        "  model.eval()\n",
        "  unseen_values = test[['sent', 'target']].values\n",
        "  test_set = BERTDataset(unseen_values, 0, 1, tok, max_len, True, False)\n",
        "  test_input = torch.utils.data.DataLoader(test_set, batch_size=batch_size, num_workers=5)\n",
        "  for batch_id, (token_ids, valid_length, segment_ids, label) in tqdm(enumerate(test_input)):\n",
        "    token_ids = token_ids.long().to(device)\n",
        "    segment_ids = segment_ids.long().to(device)\n",
        "    valid_length= valid_length\n",
        "    out = model(token_ids, valid_length, segment_ids)\n",
        "    for outn in range(len(out)) :\n",
        "      pred = int(out[outn].argmax().cpu().numpy())\n",
        "      idx = batch_size * batch_id + outn\n",
        "      test.iloc[idx, -1] = pred\n",
        "\n",
        "  test['pred'] = test['pred'].astype('int')\n",
        "  # 뉴스별 라벨링\n",
        "  df_news = test.groupby('news_id')[['target', 'pred', 'targetpm']].mean()\n",
        "  df_news_idx = df_news.index\n",
        "\n",
        "  # 뉴스별 최빈값 계산\n",
        "  for idx in df_news_idx:\n",
        "    df_news.loc[idx, 'cnt_pred'] = int(test[test['news_id'] == idx ]['pred'].value_counts().idxmax())\n",
        "    # print(idx, df_news.loc[idx, 'cnt_pred'])\n",
        "    \n",
        "  # 뉴스별 값 태깅\n",
        "  test['news_pred'] = -5\n",
        "  for idx_nm in range(len(test)) :\n",
        "    news_idx = test.iloc[idx_nm, 4]\n",
        "    test.iloc[idx_nm, -1] = df_news.loc[news_idx, 'cnt_pred']\n",
        "\n",
        "  # 날짜별 최반값 계산\n",
        "  df_gr = test.groupby('date')[['target', 'news_pred', 'targetpm']].mean()\n",
        "  df_date = df_gr.index\n",
        "  for idx in df_date:\n",
        "    df_gr.loc[idx, 'cnt_pred'] = int(test[test['date'] == idx ]['news_pred'].value_counts().idxmax())\n",
        "\n",
        "  df_gr['pred_target'] = df_gr['cnt_pred'].apply(lambda x : int(np.round(x)))\n",
        "  df_gr['pred_pm'] = df_gr['pred_target'].apply(lambda x: 1 if x< 2 else 3)\n",
        "\n",
        "  df_gr = df_gr.reset_index()\n",
        "  for idx in df_gr.index :\n",
        "    if df_gr.loc[idx, 'target'] == df_gr.loc[idx, 'pred_target']:\n",
        "      temp_eval = True\n",
        "    else :\n",
        "      temp_eval = False\n",
        "    df_gr.loc[idx, 'eval_5'] = temp_eval\n",
        "\n",
        "  for idx in df_gr.index :\n",
        "    if df_gr.loc[idx, 'target'] == 0 :\n",
        "      df_gr.loc[idx, '3target'] = 1\n",
        "    elif df_gr.loc[idx, 'target'] == 4 :\n",
        "      df_gr.loc[idx, '3target'] = 3\n",
        "    else :\n",
        "      df_gr.loc[idx, '3target'] = int(df_gr.loc[idx, 'target'])\n",
        "\n",
        "    if df_gr.loc[idx, 'pred_target'] == 0 :\n",
        "      df_gr.loc[idx, 'pred_3target'] = 1\n",
        "    elif df_gr.loc[idx, 'pred_target'] == 4 :\n",
        "      df_gr.loc[idx, 'pred_3target'] = 3\n",
        "    else :\n",
        "      df_gr.loc[idx, 'pred_3target'] = int(df_gr.loc[idx, 'pred_target'])\n",
        "\n",
        "  df_gr['pred_3target'] = df_gr['pred_3target'].apply(lambda x : int(x))\n",
        "\n",
        "  for idx in df_gr.index :\n",
        "    if df_gr.loc[idx, '3target'] == df_gr.loc[idx, 'pred_3target']:\n",
        "      temp_eval = True\n",
        "    else :\n",
        "      temp_eval = False\n",
        "    df_gr.loc[idx, 'eval_3'] = temp_eval\n",
        "\n",
        "  for idx in df_gr.index :\n",
        "    if df_gr.loc[idx, 'targetpm'] == df_gr.loc[idx, 'pred_pm']:\n",
        "      temp_eval = True\n",
        "    else :\n",
        "      temp_eval = False\n",
        "    df_gr.loc[idx, 'eval_pm'] = temp_eval\n",
        "\n",
        "  acc_5label = float(round(df_gr['eval_5'].sum() / len(df_gr), 2))\n",
        "  acc_3label = float(round(df_gr['eval_3'].sum() / len(df_gr), 2))\n",
        "  acc_2label = float(round(df_gr['eval_pm'].sum() / len(df_gr), 2))\n",
        "  print(f'****************Epoch : {epoch} Test 정확도 ****************', '\\n')\n",
        "  print('5중분류 정확도 :', acc_5label , '\\n')\n",
        "  print('3중분류 정확도 :', acc_3label , '\\n')\n",
        "  print('이진분류 정확도 :', acc_2label , '\\n')\n",
        "  save_txt = ''\n",
        "  test_valuec = df_gr['pred_target'].value_counts().reset_index().sort_values('index')\n",
        "  for idx in test_valuec.index :\n",
        "    temp_label = test_valuec.loc[idx, 'index']\n",
        "    temp_cnt = test_valuec.loc[idx, 'pred_target']\n",
        "    temp_txt = f'label : {temp_label} , cnt : {temp_cnt} ' + ' [SEP] '\n",
        "    save_txt += temp_txt\n",
        "  os.makedirs(model_path + f'epoch_{epoch}', exist_ok=True)\n",
        "  with open(model_path + f'{company_name}_model_test_log.txt', 'a', encoding='utf-8') as f :\n",
        "    txt = f'Epoch : {epoch}, 5중분류 정확도 : {acc_5label}, 3중분류 정확도 : {acc_3label}, 이진분류 정확도 : {acc_2label}'\n",
        "    txt += (' [SEP] ' + save_txt)\n",
        "    f.write(txt)\n",
        "    f.write('\\n')\n",
        "  torch.save(model, model_path + f'epoch_{epoch}' + f'/{company_name}_model_ep{epoch}_new_sampling.pt')\n",
        "  torch.save(model.state_dict(), model_path + f'epoch_{epoch}' + f'/{company_name}_model_ep{epoch}_new_sampling_state_dict.bin')\n",
        "  test.to_csv(model_path + f'epoch_{epoch}' + f'/{company_name}_model_ep{epoch}_test.csv', index=False)\n",
        "  df_gr.to_csv(model_path + f'epoch_{epoch}' + f'/{company_name}_model_ep{epoch}_pred_by_date_test.csv', index=False)\n",
        "\n",
        "\n",
        "def predict_test(model, test):\n",
        "  batch_size = 64\n",
        "  test = test.reset_index(drop=True)\n",
        "  test['pred'] = ''\n",
        "\n",
        "  model.eval()\n",
        "  unseen_values = test[['sent', 'target']].values\n",
        "  test_set = BERTDataset(unseen_values, 0, 1, tok, max_len, True, False)\n",
        "  test_input = torch.utils.data.DataLoader(test_set, batch_size=batch_size, num_workers=5)\n",
        "  for batch_id, (token_ids, valid_length, segment_ids, label) in tqdm(enumerate(test_input)):\n",
        "    token_ids = token_ids.long().to(device)\n",
        "    segment_ids = segment_ids.long().to(device)\n",
        "    valid_length= valid_length\n",
        "    out = model(token_ids, valid_length, segment_ids)\n",
        "    for outn in range(len(out)) :\n",
        "      pred = int(out[outn].argmax().cpu().numpy())\n",
        "      idx = batch_size * batch_id + outn\n",
        "      test.iloc[idx, -1] = pred\n",
        "      if idx % 5000 == 0 :\n",
        "        print(idx, pred)\n",
        "  test.head(20)\n",
        "  return test\n",
        "\n",
        "\n",
        "def eval_model(test_pred) :\n",
        "  test_pred['pred'] = test_pred['pred'].astype('int')\n",
        "  # 뉴스별 라벨링\n",
        "  df_news = test_pred.groupby('news_id')[['target', 'pred', 'targetpm']].mean()\n",
        "  df_news_idx = df_news.index\n",
        "\n",
        "  # 뉴스별 최빈값 계산\n",
        "  for idx in df_news_idx:\n",
        "    df_news.loc[idx, 'cnt_pred'] = int(test_pred[test_pred['news_id'] == idx ]['pred'].value_counts().idxmax())\n",
        "    # print(idx, df_news.loc[idx, 'cnt_pred'])\n",
        "    \n",
        "  # 뉴스별 값 태깅\n",
        "  test_pred['news_pred'] = -5\n",
        "  for idx_nm in range(len(test_pred)) :\n",
        "    news_idx = test_pred.iloc[idx_nm, 4]\n",
        "    test_pred.iloc[idx_nm, -1] = df_news.loc[news_idx, 'cnt_pred']\n",
        "\n",
        "  # 날짜별 최반값 계산\n",
        "  df_gr = test_pred.groupby('date')[['target', 'news_pred', 'targetpm']].mean()\n",
        "  df_date = df_gr.index\n",
        "  for idx in df_date:\n",
        "    df_gr.loc[idx, 'cnt_pred'] = int(test_pred[test_pred['date'] == idx ]['news_pred'].value_counts().idxmax())\n",
        "\n",
        "  df_gr['pred_target'] = df_gr['cnt_pred'].apply(lambda x : int(np.round(x)))\n",
        "  df_gr['pred_pm'] = df_gr['pred_target'].apply(lambda x: 1 if x< 2 else 3)\n",
        "\n",
        "  df_gr = df_gr.reset_index()\n",
        "  for idx in df_gr.index :\n",
        "    if df_gr.loc[idx, 'target'] == df_gr.loc[idx, 'pred_target']:\n",
        "      temp_eval = True\n",
        "    else :\n",
        "      temp_eval = False\n",
        "    df_gr.loc[idx, 'eval_5'] = temp_eval\n",
        "\n",
        "  for idx in df_gr.index :\n",
        "    if df_gr.loc[idx, 'target'] == 0 :\n",
        "      df_gr.loc[idx, '3target'] = 1\n",
        "    elif df_gr.loc[idx, 'target'] == 4 :\n",
        "      df_gr.loc[idx, '3target'] = 3\n",
        "    else :\n",
        "      df_gr.loc[idx, '3target'] = int(df_gr.loc[idx, 'target'])\n",
        "\n",
        "    if df_gr.loc[idx, 'pred_target'] == 0 :\n",
        "      df_gr.loc[idx, 'pred_3target'] = 1\n",
        "    elif df_gr.loc[idx, 'pred_target'] == 4 :\n",
        "      df_gr.loc[idx, 'pred_3target'] = 3\n",
        "    else :\n",
        "      df_gr.loc[idx, 'pred_3target'] = int(df_gr.loc[idx, 'pred_target'])\n",
        "\n",
        "  df_gr['pred_3target'] = df_gr['pred_3target'].apply(lambda x : int(x))\n",
        "\n",
        "  for idx in df_gr.index :\n",
        "    if df_gr.loc[idx, '3target'] == df_gr.loc[idx, 'pred_3target']:\n",
        "      temp_eval = True\n",
        "    else :\n",
        "      temp_eval = False\n",
        "    df_gr.loc[idx, 'eval_3'] = temp_eval\n",
        "\n",
        "  for idx in df_gr.index :\n",
        "    if df_gr.loc[idx, 'targetpm'] == df_gr.loc[idx, 'pred_pm']:\n",
        "      temp_eval = True\n",
        "    else :\n",
        "      temp_eval = False\n",
        "    df_gr.loc[idx, 'eval_pm'] = temp_eval\n",
        "\n",
        "\n",
        "  print('5중분류 정확도 :', round(df_gr['eval_5'].sum() / len(df_gr), 2), '\\n')\n",
        "  print('3중분류 정확도 :', round(df_gr['eval_3'].sum() / len(df_gr), 2), '\\n')\n",
        "  print('이진분류 정확도 :', round(df_gr['eval_pm'].sum() / len(df_gr), 2), '\\n')\n",
        "\n",
        "  df_gr.head()\n",
        "  return test_pred, df_gr"
      ]
    },
    {
      "cell_type": "code",
      "execution_count": null,
      "metadata": {
        "colab": {
          "base_uri": "https://localhost:8080/",
          "height": 310
        },
        "id": "y7ryLFGkVALU",
        "outputId": "891f010a-e3eb-4ec1-d405-fba39b94b14a"
      },
      "outputs": [
        {
          "output_type": "stream",
          "name": "stdout",
          "text": [
            "2    31128\n",
            "3    30389\n",
            "1    26282\n",
            "0    19764\n",
            "4    18346\n",
            "Name: target, dtype: int64\n"
          ]
        },
        {
          "output_type": "execute_result",
          "data": {
            "text/plain": [
              "         date                                               sent  target  \\\n",
              "0  2022-01-28  증시자금 블랙홀 엔솔에 코스피 시총 69조원 증발서울연합뉴스 이미령 기자  공모주 ...       0   \n",
              "1  2022-01-28  27일 한국거래소에 따르면 이날 유가증권시장 시가총액은 총 2천56조8천억원으로 전...       0   \n",
              "2  2022-01-28  다만 이는 이날 상장한 에너지솔루션 시가총액118조2천억원이 더해진 규모로, 에너지...       0   \n",
              "3  2022-01-28    이날 코스피가 3.50 급락하며 2,610대로 밀려난 것도 이런 이유에서란 분석이다.       0   \n",
              "4  2022-01-28  서상영 미래에셋증권 연구원은 이날 코스피 하락 요인 중 가장 큰 건 에너지솔루션 수...       0   \n",
              "\n",
              "   targetpm  news_id  \n",
              "0         1        0  \n",
              "1         1        0  \n",
              "2         1        0  \n",
              "3         1        0  \n",
              "4         1        0  "
            ],
            "text/html": [
              "\n",
              "  <div id=\"df-78adbca7-ec09-43cb-8c50-d3340ef52614\">\n",
              "    <div class=\"colab-df-container\">\n",
              "      <div>\n",
              "<style scoped>\n",
              "    .dataframe tbody tr th:only-of-type {\n",
              "        vertical-align: middle;\n",
              "    }\n",
              "\n",
              "    .dataframe tbody tr th {\n",
              "        vertical-align: top;\n",
              "    }\n",
              "\n",
              "    .dataframe thead th {\n",
              "        text-align: right;\n",
              "    }\n",
              "</style>\n",
              "<table border=\"1\" class=\"dataframe\">\n",
              "  <thead>\n",
              "    <tr style=\"text-align: right;\">\n",
              "      <th></th>\n",
              "      <th>date</th>\n",
              "      <th>sent</th>\n",
              "      <th>target</th>\n",
              "      <th>targetpm</th>\n",
              "      <th>news_id</th>\n",
              "    </tr>\n",
              "  </thead>\n",
              "  <tbody>\n",
              "    <tr>\n",
              "      <th>0</th>\n",
              "      <td>2022-01-28</td>\n",
              "      <td>증시자금 블랙홀 엔솔에 코스피 시총 69조원 증발서울연합뉴스 이미령 기자  공모주 ...</td>\n",
              "      <td>0</td>\n",
              "      <td>1</td>\n",
              "      <td>0</td>\n",
              "    </tr>\n",
              "    <tr>\n",
              "      <th>1</th>\n",
              "      <td>2022-01-28</td>\n",
              "      <td>27일 한국거래소에 따르면 이날 유가증권시장 시가총액은 총 2천56조8천억원으로 전...</td>\n",
              "      <td>0</td>\n",
              "      <td>1</td>\n",
              "      <td>0</td>\n",
              "    </tr>\n",
              "    <tr>\n",
              "      <th>2</th>\n",
              "      <td>2022-01-28</td>\n",
              "      <td>다만 이는 이날 상장한 에너지솔루션 시가총액118조2천억원이 더해진 규모로, 에너지...</td>\n",
              "      <td>0</td>\n",
              "      <td>1</td>\n",
              "      <td>0</td>\n",
              "    </tr>\n",
              "    <tr>\n",
              "      <th>3</th>\n",
              "      <td>2022-01-28</td>\n",
              "      <td>이날 코스피가 3.50 급락하며 2,610대로 밀려난 것도 이런 이유에서란 분석이다.</td>\n",
              "      <td>0</td>\n",
              "      <td>1</td>\n",
              "      <td>0</td>\n",
              "    </tr>\n",
              "    <tr>\n",
              "      <th>4</th>\n",
              "      <td>2022-01-28</td>\n",
              "      <td>서상영 미래에셋증권 연구원은 이날 코스피 하락 요인 중 가장 큰 건 에너지솔루션 수...</td>\n",
              "      <td>0</td>\n",
              "      <td>1</td>\n",
              "      <td>0</td>\n",
              "    </tr>\n",
              "  </tbody>\n",
              "</table>\n",
              "</div>\n",
              "      <button class=\"colab-df-convert\" onclick=\"convertToInteractive('df-78adbca7-ec09-43cb-8c50-d3340ef52614')\"\n",
              "              title=\"Convert this dataframe to an interactive table.\"\n",
              "              style=\"display:none;\">\n",
              "        \n",
              "  <svg xmlns=\"http://www.w3.org/2000/svg\" height=\"24px\"viewBox=\"0 0 24 24\"\n",
              "       width=\"24px\">\n",
              "    <path d=\"M0 0h24v24H0V0z\" fill=\"none\"/>\n",
              "    <path d=\"M18.56 5.44l.94 2.06.94-2.06 2.06-.94-2.06-.94-.94-2.06-.94 2.06-2.06.94zm-11 1L8.5 8.5l.94-2.06 2.06-.94-2.06-.94L8.5 2.5l-.94 2.06-2.06.94zm10 10l.94 2.06.94-2.06 2.06-.94-2.06-.94-.94-2.06-.94 2.06-2.06.94z\"/><path d=\"M17.41 7.96l-1.37-1.37c-.4-.4-.92-.59-1.43-.59-.52 0-1.04.2-1.43.59L10.3 9.45l-7.72 7.72c-.78.78-.78 2.05 0 2.83L4 21.41c.39.39.9.59 1.41.59.51 0 1.02-.2 1.41-.59l7.78-7.78 2.81-2.81c.8-.78.8-2.07 0-2.86zM5.41 20L4 18.59l7.72-7.72 1.47 1.35L5.41 20z\"/>\n",
              "  </svg>\n",
              "      </button>\n",
              "      \n",
              "  <style>\n",
              "    .colab-df-container {\n",
              "      display:flex;\n",
              "      flex-wrap:wrap;\n",
              "      gap: 12px;\n",
              "    }\n",
              "\n",
              "    .colab-df-convert {\n",
              "      background-color: #E8F0FE;\n",
              "      border: none;\n",
              "      border-radius: 50%;\n",
              "      cursor: pointer;\n",
              "      display: none;\n",
              "      fill: #1967D2;\n",
              "      height: 32px;\n",
              "      padding: 0 0 0 0;\n",
              "      width: 32px;\n",
              "    }\n",
              "\n",
              "    .colab-df-convert:hover {\n",
              "      background-color: #E2EBFA;\n",
              "      box-shadow: 0px 1px 2px rgba(60, 64, 67, 0.3), 0px 1px 3px 1px rgba(60, 64, 67, 0.15);\n",
              "      fill: #174EA6;\n",
              "    }\n",
              "\n",
              "    [theme=dark] .colab-df-convert {\n",
              "      background-color: #3B4455;\n",
              "      fill: #D2E3FC;\n",
              "    }\n",
              "\n",
              "    [theme=dark] .colab-df-convert:hover {\n",
              "      background-color: #434B5C;\n",
              "      box-shadow: 0px 1px 3px 1px rgba(0, 0, 0, 0.15);\n",
              "      filter: drop-shadow(0px 1px 2px rgba(0, 0, 0, 0.3));\n",
              "      fill: #FFFFFF;\n",
              "    }\n",
              "  </style>\n",
              "\n",
              "      <script>\n",
              "        const buttonEl =\n",
              "          document.querySelector('#df-78adbca7-ec09-43cb-8c50-d3340ef52614 button.colab-df-convert');\n",
              "        buttonEl.style.display =\n",
              "          google.colab.kernel.accessAllowed ? 'block' : 'none';\n",
              "\n",
              "        async function convertToInteractive(key) {\n",
              "          const element = document.querySelector('#df-78adbca7-ec09-43cb-8c50-d3340ef52614');\n",
              "          const dataTable =\n",
              "            await google.colab.kernel.invokeFunction('convertToInteractive',\n",
              "                                                     [key], {});\n",
              "          if (!dataTable) return;\n",
              "\n",
              "          const docLinkHtml = 'Like what you see? Visit the ' +\n",
              "            '<a target=\"_blank\" href=https://colab.research.google.com/notebooks/data_table.ipynb>data table notebook</a>'\n",
              "            + ' to learn more about interactive tables.';\n",
              "          element.innerHTML = '';\n",
              "          dataTable['output_type'] = 'display_data';\n",
              "          await google.colab.output.renderOutput(dataTable, element);\n",
              "          const docLink = document.createElement('div');\n",
              "          docLink.innerHTML = docLinkHtml;\n",
              "          element.appendChild(docLink);\n",
              "        }\n",
              "      </script>\n",
              "    </div>\n",
              "  </div>\n",
              "  "
            ]
          },
          "metadata": {},
          "execution_count": 11
        }
      ],
      "source": [
        "# 다시 전처리 끝난 데이터 프레임 불러오기\n",
        "save_df_sent_path = f'/content/drive/MyDrive/뉴스원인분석_modeling/final_news_modeling/{company_name}/{company_name}_sent_split.csv'\n",
        "df_sent = pd.read_csv(save_df_sent_path)\n",
        "df_sent['sent'] = df_sent['sent'].astype('str')\n",
        "print(df_sent['target'].value_counts())\n",
        "df_sent.head()"
      ]
    },
    {
      "cell_type": "markdown",
      "metadata": {
        "id": "QNMZ3-QlafM0"
      },
      "source": [
        "# 모델학습\n",
        "- 40 Epoch\n",
        "- 최소빈도라벨 수 기준 80% 수로 모든 라벨 샘플링\n",
        "- Epoch 마다 train 데이터에서 80% 샘플링 후 셔플\n",
        "- test 데이터셋의 예측을 가장 정확히하고 분포가 고른 모델 선정\n"
      ]
    },
    {
      "cell_type": "code",
      "execution_count": null,
      "metadata": {
        "colab": {
          "base_uri": "https://localhost:8080/"
        },
        "id": "7i6bFvGEVV1y",
        "outputId": "c62bf26f-71df-47e4-afe3-8410f2908f7d"
      },
      "outputs": [
        {
          "metadata": {
            "tags": null
          },
          "name": "stdout",
          "output_type": "stream",
          "text": [
            "train : (113187, 5) test : (12722, 5)\n"
          ]
        },
        {
          "metadata": {
            "tags": null
          },
          "name": "stderr",
          "output_type": "stream",
          "text": [
            "  0%|          | 1/1415 [00:00<13:20,  1.77it/s]"
          ]
        },
        {
          "metadata": {
            "tags": null
          },
          "name": "stdout",
          "output_type": "stream",
          "text": [
            "epoch 1 batch id 1 loss 1.6426713466644287 train acc 0.171875 acc 0.171875\n"
          ]
        },
        {
          "metadata": {
            "tags": null
          },
          "name": "stderr",
          "output_type": "stream",
          "text": [
            " 14%|█▍        | 202/1415 [00:39<03:56,  5.13it/s]"
          ]
        },
        {
          "metadata": {
            "tags": null
          },
          "name": "stdout",
          "output_type": "stream",
          "text": [
            "epoch 1 batch id 201 loss 1.6886014938354492 train acc 0.16200248756218905 acc 0.16200248756218905\n"
          ]
        },
        {
          "metadata": {
            "tags": null
          },
          "name": "stderr",
          "output_type": "stream",
          "text": [
            " 28%|██▊       | 402/1415 [01:18<03:16,  5.16it/s]"
          ]
        },
        {
          "metadata": {
            "tags": null
          },
          "name": "stdout",
          "output_type": "stream",
          "text": [
            "epoch 1 batch id 401 loss 1.574479341506958 train acc 0.16626402743142144 acc 0.16626402743142144\n"
          ]
        },
        {
          "metadata": {
            "tags": null
          },
          "name": "stderr",
          "output_type": "stream",
          "text": [
            " 43%|████▎     | 602/1415 [01:57<02:41,  5.03it/s]"
          ]
        },
        {
          "metadata": {
            "tags": null
          },
          "name": "stdout",
          "output_type": "stream",
          "text": [
            "epoch 1 batch id 601 loss 1.6163923740386963 train acc 0.1750207986688852 acc 0.1750207986688852\n"
          ]
        },
        {
          "metadata": {
            "tags": null
          },
          "name": "stderr",
          "output_type": "stream",
          "text": [
            " 57%|█████▋    | 801/1415 [02:36<02:00,  5.09it/s]"
          ]
        },
        {
          "metadata": {
            "tags": null
          },
          "name": "stdout",
          "output_type": "stream",
          "text": [
            "epoch 1 batch id 801 loss 1.5804489850997925 train acc 0.19011392009987516 acc 0.19011392009987516\n"
          ]
        },
        {
          "metadata": {
            "tags": null
          },
          "name": "stderr",
          "output_type": "stream",
          "text": [
            " 71%|███████   | 1002/1415 [03:16<01:21,  5.09it/s]"
          ]
        },
        {
          "metadata": {
            "tags": null
          },
          "name": "stdout",
          "output_type": "stream",
          "text": [
            "epoch 1 batch id 1001 loss 1.5448410511016846 train acc 0.2065902847152847 acc 0.2065902847152847\n"
          ]
        },
        {
          "metadata": {
            "tags": null
          },
          "name": "stderr",
          "output_type": "stream",
          "text": [
            " 85%|████████▍ | 1202/1415 [03:55<00:41,  5.09it/s]"
          ]
        },
        {
          "metadata": {
            "tags": null
          },
          "name": "stdout",
          "output_type": "stream",
          "text": [
            "epoch 1 batch id 1201 loss 1.5180782079696655 train acc 0.22332951706910908 acc 0.22332951706910908\n"
          ]
        },
        {
          "metadata": {
            "tags": null
          },
          "name": "stderr",
          "output_type": "stream",
          "text": [
            " 99%|█████████▉| 1402/1415 [04:35<00:02,  5.10it/s]"
          ]
        },
        {
          "metadata": {
            "tags": null
          },
          "name": "stdout",
          "output_type": "stream",
          "text": [
            "epoch 1 batch id 1401 loss 1.455751895904541 train acc 0.24308529621698788 acc 0.24308529621698788\n"
          ]
        },
        {
          "metadata": {
            "tags": null
          },
          "name": "stderr",
          "output_type": "stream",
          "text": [
            "100%|██████████| 1415/1415 [04:38<00:00,  5.09it/s]\n"
          ]
        },
        {
          "metadata": {
            "tags": null
          },
          "name": "stdout",
          "output_type": "stream",
          "text": [
            "epoch 1 train acc 0.24439618505431226 acc 0.24439618505431226\n"
          ]
        },
        {
          "metadata": {
            "tags": null
          },
          "name": "stderr",
          "output_type": "stream",
          "text": [
            "199it [00:17, 11.69it/s]\n"
          ]
        },
        {
          "metadata": {
            "tags": null
          },
          "name": "stdout",
          "output_type": "stream",
          "text": [
            "****************Epoch : 1 Test 정확도 **************** \n",
            "\n",
            "5중분류 정확도 : 0.43 \n",
            "\n",
            "3중분류 정확도 : 0.62 \n",
            "\n",
            "이진분류 정확도 : 0.76 \n",
            "\n"
          ]
        },
        {
          "metadata": {
            "tags": null
          },
          "name": "stderr",
          "output_type": "stream",
          "text": [
            "  0%|          | 1/1415 [00:00<13:04,  1.80it/s]"
          ]
        },
        {
          "metadata": {
            "tags": null
          },
          "name": "stdout",
          "output_type": "stream",
          "text": [
            "epoch 2 batch id 1 loss 1.4727176427841187 train acc 0.34375 acc 0.34375\n"
          ]
        },
        {
          "metadata": {
            "tags": null
          },
          "name": "stderr",
          "output_type": "stream",
          "text": [
            " 14%|█▍        | 201/1415 [00:39<03:59,  5.07it/s]"
          ]
        },
        {
          "metadata": {
            "tags": null
          },
          "name": "stdout",
          "output_type": "stream",
          "text": [
            "epoch 2 batch id 201 loss 1.4178411960601807 train acc 0.40049751243781095 acc 0.40049751243781095\n"
          ]
        },
        {
          "metadata": {
            "tags": null
          },
          "name": "stderr",
          "output_type": "stream",
          "text": [
            " 28%|██▊       | 402/1415 [01:19<03:19,  5.09it/s]"
          ]
        },
        {
          "metadata": {
            "tags": null
          },
          "name": "stdout",
          "output_type": "stream",
          "text": [
            "epoch 2 batch id 401 loss 1.3753464221954346 train acc 0.42234258104738154 acc 0.42234258104738154\n"
          ]
        },
        {
          "metadata": {
            "tags": null
          },
          "name": "stderr",
          "output_type": "stream",
          "text": [
            " 43%|████▎     | 602/1415 [01:58<02:38,  5.13it/s]"
          ]
        },
        {
          "metadata": {
            "tags": null
          },
          "name": "stdout",
          "output_type": "stream",
          "text": [
            "epoch 2 batch id 601 loss 1.3698818683624268 train acc 0.441113768718802 acc 0.441113768718802\n"
          ]
        },
        {
          "metadata": {
            "tags": null
          },
          "name": "stderr",
          "output_type": "stream",
          "text": [
            " 57%|█████▋    | 802/1415 [02:37<01:58,  5.17it/s]"
          ]
        },
        {
          "metadata": {
            "tags": null
          },
          "name": "stdout",
          "output_type": "stream",
          "text": [
            "epoch 2 batch id 801 loss 1.3537311553955078 train acc 0.4637562421972534 acc 0.4637562421972534\n"
          ]
        },
        {
          "metadata": {
            "tags": null
          },
          "name": "stderr",
          "output_type": "stream",
          "text": [
            " 71%|███████   | 1002/1415 [03:16<01:20,  5.11it/s]"
          ]
        },
        {
          "metadata": {
            "tags": null
          },
          "name": "stdout",
          "output_type": "stream",
          "text": [
            "epoch 2 batch id 1001 loss 1.3274896144866943 train acc 0.48723151848151847 acc 0.48723151848151847\n"
          ]
        },
        {
          "metadata": {
            "tags": null
          },
          "name": "stderr",
          "output_type": "stream",
          "text": [
            " 85%|████████▍ | 1202/1415 [03:55<00:41,  5.14it/s]"
          ]
        },
        {
          "metadata": {
            "tags": null
          },
          "name": "stdout",
          "output_type": "stream",
          "text": [
            "epoch 2 batch id 1201 loss 1.14715576171875 train acc 0.5085865945045795 acc 0.5085865945045795\n"
          ]
        },
        {
          "metadata": {
            "tags": null
          },
          "name": "stderr",
          "output_type": "stream",
          "text": [
            " 99%|█████████▉| 1402/1415 [04:34<00:02,  5.13it/s]"
          ]
        },
        {
          "metadata": {
            "tags": null
          },
          "name": "stdout",
          "output_type": "stream",
          "text": [
            "epoch 2 batch id 1401 loss 1.1893724203109741 train acc 0.526933886509636 acc 0.526933886509636\n"
          ]
        },
        {
          "metadata": {
            "tags": null
          },
          "name": "stderr",
          "output_type": "stream",
          "text": [
            "100%|██████████| 1415/1415 [04:36<00:00,  5.11it/s]\n"
          ]
        },
        {
          "metadata": {
            "tags": null
          },
          "name": "stdout",
          "output_type": "stream",
          "text": [
            "epoch 2 train acc 0.5281102767962308 acc 0.5281102767962308\n"
          ]
        },
        {
          "metadata": {
            "tags": null
          },
          "name": "stderr",
          "output_type": "stream",
          "text": [
            "199it [00:16, 11.97it/s]\n"
          ]
        },
        {
          "metadata": {
            "tags": null
          },
          "name": "stdout",
          "output_type": "stream",
          "text": [
            "****************Epoch : 2 Test 정확도 **************** \n",
            "\n",
            "5중분류 정확도 : 0.29 \n",
            "\n",
            "3중분류 정확도 : 0.48 \n",
            "\n",
            "이진분류 정확도 : 0.57 \n",
            "\n"
          ]
        },
        {
          "metadata": {
            "tags": null
          },
          "name": "stderr",
          "output_type": "stream",
          "text": [
            "  0%|          | 2/1415 [00:00<08:26,  2.79it/s]"
          ]
        },
        {
          "metadata": {
            "tags": null
          },
          "name": "stdout",
          "output_type": "stream",
          "text": [
            "epoch 3 batch id 1 loss 1.1810839176177979 train acc 0.671875 acc 0.671875\n"
          ]
        },
        {
          "metadata": {
            "tags": null
          },
          "name": "stderr",
          "output_type": "stream",
          "text": [
            " 14%|█▍        | 202/1415 [00:39<03:55,  5.16it/s]"
          ]
        },
        {
          "metadata": {
            "tags": null
          },
          "name": "stdout",
          "output_type": "stream",
          "text": [
            "epoch 3 batch id 201 loss 1.0319762229919434 train acc 0.6727300995024875 acc 0.6727300995024875\n"
          ]
        },
        {
          "metadata": {
            "tags": null
          },
          "name": "stderr",
          "output_type": "stream",
          "text": [
            " 28%|██▊       | 402/1415 [01:18<03:17,  5.12it/s]"
          ]
        },
        {
          "metadata": {
            "tags": null
          },
          "name": "stdout",
          "output_type": "stream",
          "text": [
            "epoch 3 batch id 401 loss 1.0914666652679443 train acc 0.6866038029925187 acc 0.6866038029925187\n"
          ]
        },
        {
          "metadata": {
            "tags": null
          },
          "name": "stderr",
          "output_type": "stream",
          "text": [
            " 43%|████▎     | 602/1415 [01:57<02:38,  5.13it/s]"
          ]
        },
        {
          "metadata": {
            "tags": null
          },
          "name": "stdout",
          "output_type": "stream",
          "text": [
            "epoch 3 batch id 601 loss 1.0542635917663574 train acc 0.6928036605657238 acc 0.6928036605657238\n"
          ]
        },
        {
          "metadata": {
            "tags": null
          },
          "name": "stderr",
          "output_type": "stream",
          "text": [
            " 57%|█████▋    | 802/1415 [02:36<01:59,  5.14it/s]"
          ]
        },
        {
          "metadata": {
            "tags": null
          },
          "name": "stdout",
          "output_type": "stream",
          "text": [
            "epoch 3 batch id 801 loss 1.0852776765823364 train acc 0.6999648876404494 acc 0.6999648876404494\n"
          ]
        },
        {
          "metadata": {
            "tags": null
          },
          "name": "stderr",
          "output_type": "stream",
          "text": [
            " 71%|███████   | 1002/1415 [03:15<01:20,  5.12it/s]"
          ]
        },
        {
          "metadata": {
            "tags": null
          },
          "name": "stdout",
          "output_type": "stream",
          "text": [
            "epoch 3 batch id 1001 loss 0.9973672032356262 train acc 0.7065902847152847 acc 0.7065902847152847\n"
          ]
        },
        {
          "metadata": {
            "tags": null
          },
          "name": "stderr",
          "output_type": "stream",
          "text": [
            " 85%|████████▍ | 1202/1415 [03:54<00:41,  5.12it/s]"
          ]
        },
        {
          "metadata": {
            "tags": null
          },
          "name": "stdout",
          "output_type": "stream",
          "text": [
            "epoch 3 batch id 1201 loss 0.8063811659812927 train acc 0.7126613238967527 acc 0.7126613238967527\n"
          ]
        },
        {
          "metadata": {
            "tags": null
          },
          "name": "stderr",
          "output_type": "stream",
          "text": [
            " 99%|█████████▉| 1402/1415 [04:33<00:02,  5.15it/s]"
          ]
        },
        {
          "metadata": {
            "tags": null
          },
          "name": "stdout",
          "output_type": "stream",
          "text": [
            "epoch 3 batch id 1401 loss 0.8542099595069885 train acc 0.7189619022127052 acc 0.7189619022127052\n"
          ]
        },
        {
          "metadata": {
            "tags": null
          },
          "name": "stderr",
          "output_type": "stream",
          "text": [
            "100%|██████████| 1415/1415 [04:35<00:00,  5.13it/s]\n"
          ]
        },
        {
          "metadata": {
            "tags": null
          },
          "name": "stdout",
          "output_type": "stream",
          "text": [
            "epoch 3 train acc 0.7194362648867949 acc 0.7194362648867949\n"
          ]
        },
        {
          "metadata": {
            "tags": null
          },
          "name": "stderr",
          "output_type": "stream",
          "text": [
            "199it [00:16, 11.96it/s]\n"
          ]
        },
        {
          "metadata": {
            "tags": null
          },
          "name": "stdout",
          "output_type": "stream",
          "text": [
            "****************Epoch : 3 Test 정확도 **************** \n",
            "\n",
            "5중분류 정확도 : 0.29 \n",
            "\n",
            "3중분류 정확도 : 0.43 \n",
            "\n",
            "이진분류 정확도 : 0.57 \n",
            "\n"
          ]
        },
        {
          "metadata": {
            "tags": null
          },
          "name": "stderr",
          "output_type": "stream",
          "text": [
            "  0%|          | 2/1415 [00:00<08:11,  2.88it/s]"
          ]
        },
        {
          "metadata": {
            "tags": null
          },
          "name": "stdout",
          "output_type": "stream",
          "text": [
            "epoch 4 batch id 1 loss 0.841983437538147 train acc 0.75 acc 0.75\n"
          ]
        },
        {
          "metadata": {
            "tags": null
          },
          "name": "stderr",
          "output_type": "stream",
          "text": [
            " 14%|█▍        | 202/1415 [00:39<03:55,  5.15it/s]"
          ]
        },
        {
          "metadata": {
            "tags": null
          },
          "name": "stdout",
          "output_type": "stream",
          "text": [
            "epoch 4 batch id 201 loss 0.8272331357002258 train acc 0.7625932835820896 acc 0.7625932835820896\n"
          ]
        },
        {
          "metadata": {
            "tags": null
          },
          "name": "stderr",
          "output_type": "stream",
          "text": [
            " 28%|██▊       | 402/1415 [01:18<03:16,  5.16it/s]"
          ]
        },
        {
          "metadata": {
            "tags": null
          },
          "name": "stdout",
          "output_type": "stream",
          "text": [
            "epoch 4 batch id 401 loss 0.8388822078704834 train acc 0.7651574189526185 acc 0.7651574189526185\n"
          ]
        },
        {
          "metadata": {
            "tags": null
          },
          "name": "stderr",
          "output_type": "stream",
          "text": [
            " 43%|████▎     | 602/1415 [01:57<02:37,  5.18it/s]"
          ]
        },
        {
          "metadata": {
            "tags": null
          },
          "name": "stdout",
          "output_type": "stream",
          "text": [
            "epoch 4 batch id 601 loss 0.8525633811950684 train acc 0.7679388519134775 acc 0.7679388519134775\n"
          ]
        },
        {
          "metadata": {
            "tags": null
          },
          "name": "stderr",
          "output_type": "stream",
          "text": [
            " 57%|█████▋    | 802/1415 [02:36<01:58,  5.16it/s]"
          ]
        },
        {
          "metadata": {
            "tags": null
          },
          "name": "stdout",
          "output_type": "stream",
          "text": [
            "epoch 4 batch id 801 loss 0.8261129260063171 train acc 0.7708528401997503 acc 0.7708528401997503\n"
          ]
        },
        {
          "metadata": {
            "tags": null
          },
          "name": "stderr",
          "output_type": "stream",
          "text": [
            " 71%|███████   | 1002/1415 [03:15<01:20,  5.13it/s]"
          ]
        },
        {
          "metadata": {
            "tags": null
          },
          "name": "stdout",
          "output_type": "stream",
          "text": [
            "epoch 4 batch id 1001 loss 0.742300271987915 train acc 0.7743974775224776 acc 0.7743974775224776\n"
          ]
        },
        {
          "metadata": {
            "tags": null
          },
          "name": "stderr",
          "output_type": "stream",
          "text": [
            " 85%|████████▍ | 1202/1415 [03:54<00:41,  5.14it/s]"
          ]
        },
        {
          "metadata": {
            "tags": null
          },
          "name": "stdout",
          "output_type": "stream",
          "text": [
            "epoch 4 batch id 1201 loss 0.6478780508041382 train acc 0.7776722522897586 acc 0.7776722522897586\n"
          ]
        },
        {
          "metadata": {
            "tags": null
          },
          "name": "stderr",
          "output_type": "stream",
          "text": [
            " 99%|█████████▉| 1402/1415 [04:32<00:02,  5.18it/s]"
          ]
        },
        {
          "metadata": {
            "tags": null
          },
          "name": "stdout",
          "output_type": "stream",
          "text": [
            "epoch 4 batch id 1401 loss 0.6341401934623718 train acc 0.7801681834403997 acc 0.7801681834403997\n"
          ]
        },
        {
          "metadata": {
            "tags": null
          },
          "name": "stderr",
          "output_type": "stream",
          "text": [
            "100%|██████████| 1415/1415 [04:35<00:00,  5.13it/s]\n"
          ]
        },
        {
          "metadata": {
            "tags": null
          },
          "name": "stdout",
          "output_type": "stream",
          "text": [
            "epoch 4 train acc 0.7804565829079964 acc 0.7804565829079964\n"
          ]
        },
        {
          "metadata": {
            "tags": null
          },
          "name": "stderr",
          "output_type": "stream",
          "text": [
            "199it [00:16, 11.93it/s]\n"
          ]
        },
        {
          "metadata": {
            "tags": null
          },
          "name": "stdout",
          "output_type": "stream",
          "text": [
            "****************Epoch : 4 Test 정확도 **************** \n",
            "\n",
            "5중분류 정확도 : 0.29 \n",
            "\n",
            "3중분류 정확도 : 0.38 \n",
            "\n",
            "이진분류 정확도 : 0.52 \n",
            "\n"
          ]
        },
        {
          "metadata": {
            "tags": null
          },
          "name": "stderr",
          "output_type": "stream",
          "text": [
            "  0%|          | 1/1415 [00:00<13:04,  1.80it/s]"
          ]
        },
        {
          "metadata": {
            "tags": null
          },
          "name": "stdout",
          "output_type": "stream",
          "text": [
            "epoch 5 batch id 1 loss 0.7139073014259338 train acc 0.8125 acc 0.8125\n"
          ]
        },
        {
          "metadata": {
            "tags": null
          },
          "name": "stderr",
          "output_type": "stream",
          "text": [
            " 14%|█▍        | 202/1415 [00:39<03:55,  5.14it/s]"
          ]
        },
        {
          "metadata": {
            "tags": null
          },
          "name": "stdout",
          "output_type": "stream",
          "text": [
            "epoch 5 batch id 201 loss 0.7602471709251404 train acc 0.7977300995024875 acc 0.7977300995024875\n"
          ]
        },
        {
          "metadata": {
            "tags": null
          },
          "name": "stderr",
          "output_type": "stream",
          "text": [
            " 28%|██▊       | 402/1415 [01:18<03:16,  5.15it/s]"
          ]
        },
        {
          "metadata": {
            "tags": null
          },
          "name": "stdout",
          "output_type": "stream",
          "text": [
            "epoch 5 batch id 401 loss 0.6631900072097778 train acc 0.7999922069825436 acc 0.7999922069825436\n"
          ]
        },
        {
          "metadata": {
            "tags": null
          },
          "name": "stderr",
          "output_type": "stream",
          "text": [
            " 43%|████▎     | 602/1415 [01:57<02:37,  5.15it/s]"
          ]
        },
        {
          "metadata": {
            "tags": null
          },
          "name": "stdout",
          "output_type": "stream",
          "text": [
            "epoch 5 batch id 601 loss 0.7768658399581909 train acc 0.7995528286189684 acc 0.7995528286189684\n"
          ]
        },
        {
          "metadata": {
            "tags": null
          },
          "name": "stderr",
          "output_type": "stream",
          "text": [
            " 57%|█████▋    | 802/1415 [02:36<01:58,  5.15it/s]"
          ]
        },
        {
          "metadata": {
            "tags": null
          },
          "name": "stdout",
          "output_type": "stream",
          "text": [
            "epoch 5 batch id 801 loss 0.6702603697776794 train acc 0.8007958801498127 acc 0.8007958801498127\n"
          ]
        },
        {
          "metadata": {
            "tags": null
          },
          "name": "stderr",
          "output_type": "stream",
          "text": [
            " 71%|███████   | 1002/1415 [03:15<01:20,  5.15it/s]"
          ]
        },
        {
          "metadata": {
            "tags": null
          },
          "name": "stdout",
          "output_type": "stream",
          "text": [
            "epoch 5 batch id 1001 loss 0.6256709694862366 train acc 0.8020104895104895 acc 0.8020104895104895\n"
          ]
        },
        {
          "metadata": {
            "tags": null
          },
          "name": "stderr",
          "output_type": "stream",
          "text": [
            " 85%|████████▍ | 1202/1415 [03:54<00:41,  5.15it/s]"
          ]
        },
        {
          "metadata": {
            "tags": null
          },
          "name": "stdout",
          "output_type": "stream",
          "text": [
            "epoch 5 batch id 1201 loss 0.535209596157074 train acc 0.8026904662781016 acc 0.8026904662781016\n"
          ]
        },
        {
          "metadata": {
            "tags": null
          },
          "name": "stderr",
          "output_type": "stream",
          "text": [
            " 99%|█████████▉| 1402/1415 [04:33<00:02,  5.14it/s]"
          ]
        },
        {
          "metadata": {
            "tags": null
          },
          "name": "stdout",
          "output_type": "stream",
          "text": [
            "epoch 5 batch id 1401 loss 0.5146710276603699 train acc 0.8043919521770164 acc 0.8043919521770164\n"
          ]
        },
        {
          "metadata": {
            "tags": null
          },
          "name": "stderr",
          "output_type": "stream",
          "text": [
            "100%|██████████| 1415/1415 [04:35<00:00,  5.13it/s]\n"
          ]
        },
        {
          "metadata": {
            "tags": null
          },
          "name": "stdout",
          "output_type": "stream",
          "text": [
            "epoch 5 train acc 0.8045641931684334 acc 0.8045641931684334\n"
          ]
        },
        {
          "metadata": {
            "tags": null
          },
          "name": "stderr",
          "output_type": "stream",
          "text": [
            "199it [00:16, 11.96it/s]\n"
          ]
        },
        {
          "metadata": {
            "tags": null
          },
          "name": "stdout",
          "output_type": "stream",
          "text": [
            "****************Epoch : 5 Test 정확도 **************** \n",
            "\n",
            "5중분류 정확도 : 0.24 \n",
            "\n",
            "3중분류 정확도 : 0.38 \n",
            "\n",
            "이진분류 정확도 : 0.48 \n",
            "\n"
          ]
        },
        {
          "metadata": {
            "tags": null
          },
          "name": "stderr",
          "output_type": "stream",
          "text": [
            "  0%|          | 1/1415 [00:00<12:56,  1.82it/s]"
          ]
        },
        {
          "metadata": {
            "tags": null
          },
          "name": "stdout",
          "output_type": "stream",
          "text": [
            "epoch 6 batch id 1 loss 0.49251589179039 train acc 0.875 acc 0.875\n"
          ]
        },
        {
          "metadata": {
            "tags": null
          },
          "name": "stderr",
          "output_type": "stream",
          "text": [
            " 14%|█▍        | 202/1415 [00:39<03:57,  5.11it/s]"
          ]
        },
        {
          "metadata": {
            "tags": null
          },
          "name": "stdout",
          "output_type": "stream",
          "text": [
            "epoch 6 batch id 201 loss 0.5783994793891907 train acc 0.8142101990049752 acc 0.8142101990049752\n"
          ]
        },
        {
          "metadata": {
            "tags": null
          },
          "name": "stderr",
          "output_type": "stream",
          "text": [
            " 28%|██▊       | 402/1415 [01:19<03:17,  5.13it/s]"
          ]
        },
        {
          "metadata": {
            "tags": null
          },
          "name": "stdout",
          "output_type": "stream",
          "text": [
            "epoch 6 batch id 401 loss 0.7238739728927612 train acc 0.813084476309227 acc 0.813084476309227\n"
          ]
        },
        {
          "metadata": {
            "tags": null
          },
          "name": "stderr",
          "output_type": "stream",
          "text": [
            " 43%|████▎     | 602/1415 [01:58<02:38,  5.13it/s]"
          ]
        },
        {
          "metadata": {
            "tags": null
          },
          "name": "stdout",
          "output_type": "stream",
          "text": [
            "epoch 6 batch id 601 loss 0.6699804067611694 train acc 0.8152558236272879 acc 0.8152558236272879\n"
          ]
        },
        {
          "metadata": {
            "tags": null
          },
          "name": "stderr",
          "output_type": "stream",
          "text": [
            " 57%|█████▋    | 802/1415 [02:37<01:58,  5.16it/s]"
          ]
        },
        {
          "metadata": {
            "tags": null
          },
          "name": "stdout",
          "output_type": "stream",
          "text": [
            "epoch 6 batch id 801 loss 0.5146162509918213 train acc 0.817064606741573 acc 0.817064606741573\n"
          ]
        },
        {
          "metadata": {
            "tags": null
          },
          "name": "stderr",
          "output_type": "stream",
          "text": [
            " 71%|███████   | 1002/1415 [03:16<01:20,  5.13it/s]"
          ]
        },
        {
          "metadata": {
            "tags": null
          },
          "name": "stdout",
          "output_type": "stream",
          "text": [
            "epoch 6 batch id 1001 loss 0.6022326946258545 train acc 0.8184003496503497 acc 0.8184003496503497\n"
          ]
        },
        {
          "metadata": {
            "tags": null
          },
          "name": "stderr",
          "output_type": "stream",
          "text": [
            " 85%|████████▍ | 1202/1415 [03:54<00:41,  5.14it/s]"
          ]
        },
        {
          "metadata": {
            "tags": null
          },
          "name": "stdout",
          "output_type": "stream",
          "text": [
            "epoch 6 batch id 1201 loss 0.6427954435348511 train acc 0.8188748959200666 acc 0.8188748959200666\n"
          ]
        },
        {
          "metadata": {
            "tags": null
          },
          "name": "stderr",
          "output_type": "stream",
          "text": [
            " 99%|█████████▉| 1402/1415 [04:34<00:02,  5.04it/s]"
          ]
        },
        {
          "metadata": {
            "tags": null
          },
          "name": "stdout",
          "output_type": "stream",
          "text": [
            "epoch 6 batch id 1401 loss 0.4836514890193939 train acc 0.8181990542469665 acc 0.8181990542469665\n"
          ]
        },
        {
          "metadata": {
            "tags": null
          },
          "name": "stderr",
          "output_type": "stream",
          "text": [
            "100%|██████████| 1415/1415 [04:36<00:00,  5.11it/s]\n"
          ]
        },
        {
          "metadata": {
            "tags": null
          },
          "name": "stdout",
          "output_type": "stream",
          "text": [
            "epoch 6 train acc 0.8182849921476246 acc 0.8182849921476246\n"
          ]
        },
        {
          "metadata": {
            "tags": null
          },
          "name": "stderr",
          "output_type": "stream",
          "text": [
            "199it [00:16, 11.92it/s]\n"
          ]
        },
        {
          "metadata": {
            "tags": null
          },
          "name": "stdout",
          "output_type": "stream",
          "text": [
            "****************Epoch : 6 Test 정확도 **************** \n",
            "\n",
            "5중분류 정확도 : 0.19 \n",
            "\n",
            "3중분류 정확도 : 0.24 \n",
            "\n",
            "이진분류 정확도 : 0.52 \n",
            "\n"
          ]
        },
        {
          "metadata": {
            "tags": null
          },
          "name": "stderr",
          "output_type": "stream",
          "text": [
            "  0%|          | 1/1415 [00:00<12:56,  1.82it/s]"
          ]
        },
        {
          "metadata": {
            "tags": null
          },
          "name": "stdout",
          "output_type": "stream",
          "text": [
            "epoch 7 batch id 1 loss 0.5496875643730164 train acc 0.828125 acc 0.828125\n"
          ]
        },
        {
          "metadata": {
            "tags": null
          },
          "name": "stderr",
          "output_type": "stream",
          "text": [
            " 14%|█▍        | 202/1415 [00:39<03:56,  5.13it/s]"
          ]
        },
        {
          "metadata": {
            "tags": null
          },
          "name": "stdout",
          "output_type": "stream",
          "text": [
            "epoch 7 batch id 201 loss 0.4762726128101349 train acc 0.8276585820895522 acc 0.8276585820895522\n"
          ]
        },
        {
          "metadata": {
            "tags": null
          },
          "name": "stderr",
          "output_type": "stream",
          "text": [
            " 28%|██▊       | 402/1415 [01:18<03:17,  5.13it/s]"
          ]
        },
        {
          "metadata": {
            "tags": null
          },
          "name": "stdout",
          "output_type": "stream",
          "text": [
            "epoch 7 batch id 401 loss 0.45203790068626404 train acc 0.8275015586034913 acc 0.8275015586034913\n"
          ]
        },
        {
          "metadata": {
            "tags": null
          },
          "name": "stderr",
          "output_type": "stream",
          "text": [
            " 43%|████▎     | 602/1415 [01:57<02:37,  5.15it/s]"
          ]
        },
        {
          "metadata": {
            "tags": null
          },
          "name": "stdout",
          "output_type": "stream",
          "text": [
            "epoch 7 batch id 601 loss 0.5784205794334412 train acc 0.8243812396006656 acc 0.8243812396006656\n"
          ]
        },
        {
          "metadata": {
            "tags": null
          },
          "name": "stderr",
          "output_type": "stream",
          "text": [
            " 57%|█████▋    | 802/1415 [02:36<01:58,  5.16it/s]"
          ]
        },
        {
          "metadata": {
            "tags": null
          },
          "name": "stdout",
          "output_type": "stream",
          "text": [
            "epoch 7 batch id 801 loss 0.5454268455505371 train acc 0.8245942571785269 acc 0.8245942571785269\n"
          ]
        },
        {
          "metadata": {
            "tags": null
          },
          "name": "stderr",
          "output_type": "stream",
          "text": [
            " 71%|███████   | 1002/1415 [03:15<01:20,  5.16it/s]"
          ]
        },
        {
          "metadata": {
            "tags": null
          },
          "name": "stdout",
          "output_type": "stream",
          "text": [
            "epoch 7 batch id 1001 loss 0.5028495788574219 train acc 0.8243943556443556 acc 0.8243943556443556\n"
          ]
        },
        {
          "metadata": {
            "tags": null
          },
          "name": "stderr",
          "output_type": "stream",
          "text": [
            " 85%|████████▍ | 1202/1415 [03:54<00:41,  5.14it/s]"
          ]
        },
        {
          "metadata": {
            "tags": null
          },
          "name": "stdout",
          "output_type": "stream",
          "text": [
            "epoch 7 batch id 1201 loss 0.48271530866622925 train acc 0.8247944421315571 acc 0.8247944421315571\n"
          ]
        },
        {
          "metadata": {
            "tags": null
          },
          "name": "stderr",
          "output_type": "stream",
          "text": [
            " 99%|█████████▉| 1402/1415 [04:32<00:02,  5.11it/s]"
          ]
        },
        {
          "metadata": {
            "tags": null
          },
          "name": "stdout",
          "output_type": "stream",
          "text": [
            "epoch 7 batch id 1401 loss 0.38421788811683655 train acc 0.825158369022127 acc 0.825158369022127\n"
          ]
        },
        {
          "metadata": {
            "tags": null
          },
          "name": "stderr",
          "output_type": "stream",
          "text": [
            "100%|██████████| 1415/1415 [04:35<00:00,  5.13it/s]\n"
          ]
        },
        {
          "metadata": {
            "tags": null
          },
          "name": "stdout",
          "output_type": "stream",
          "text": [
            "epoch 7 train acc 0.8254052970815339 acc 0.8254052970815339\n"
          ]
        },
        {
          "metadata": {
            "tags": null
          },
          "name": "stderr",
          "output_type": "stream",
          "text": [
            "199it [00:16, 11.98it/s]\n"
          ]
        },
        {
          "metadata": {
            "tags": null
          },
          "name": "stdout",
          "output_type": "stream",
          "text": [
            "****************Epoch : 7 Test 정확도 **************** \n",
            "\n",
            "5중분류 정확도 : 0.33 \n",
            "\n",
            "3중분류 정확도 : 0.48 \n",
            "\n",
            "이진분류 정확도 : 0.52 \n",
            "\n"
          ]
        },
        {
          "metadata": {
            "tags": null
          },
          "name": "stderr",
          "output_type": "stream",
          "text": [
            "  0%|          | 2/1415 [00:00<08:09,  2.89it/s]"
          ]
        },
        {
          "metadata": {
            "tags": null
          },
          "name": "stdout",
          "output_type": "stream",
          "text": [
            "epoch 8 batch id 1 loss 0.42618176341056824 train acc 0.84375 acc 0.84375\n"
          ]
        },
        {
          "metadata": {
            "tags": null
          },
          "name": "stderr",
          "output_type": "stream",
          "text": [
            " 14%|█▍        | 202/1415 [00:39<03:56,  5.13it/s]"
          ]
        },
        {
          "metadata": {
            "tags": null
          },
          "name": "stdout",
          "output_type": "stream",
          "text": [
            "epoch 8 batch id 201 loss 0.45659705996513367 train acc 0.8297574626865671 acc 0.8297574626865671\n"
          ]
        },
        {
          "metadata": {
            "tags": null
          },
          "name": "stderr",
          "output_type": "stream",
          "text": [
            " 28%|██▊       | 402/1415 [01:18<03:18,  5.10it/s]"
          ]
        },
        {
          "metadata": {
            "tags": null
          },
          "name": "stdout",
          "output_type": "stream",
          "text": [
            "epoch 8 batch id 401 loss 0.5076397657394409 train acc 0.8329566708229427 acc 0.8329566708229427\n"
          ]
        },
        {
          "metadata": {
            "tags": null
          },
          "name": "stderr",
          "output_type": "stream",
          "text": [
            " 43%|████▎     | 602/1415 [01:57<02:37,  5.16it/s]"
          ]
        },
        {
          "metadata": {
            "tags": null
          },
          "name": "stdout",
          "output_type": "stream",
          "text": [
            "epoch 8 batch id 601 loss 0.42630255222320557 train acc 0.8329346921797005 acc 0.8329346921797005\n"
          ]
        },
        {
          "metadata": {
            "tags": null
          },
          "name": "stderr",
          "output_type": "stream",
          "text": [
            " 57%|█████▋    | 802/1415 [02:36<02:01,  5.03it/s]"
          ]
        },
        {
          "metadata": {
            "tags": null
          },
          "name": "stdout",
          "output_type": "stream",
          "text": [
            "epoch 8 batch id 801 loss 0.4864051938056946 train acc 0.8330602372034956 acc 0.8330602372034956\n"
          ]
        },
        {
          "metadata": {
            "tags": null
          },
          "name": "stderr",
          "output_type": "stream",
          "text": [
            " 71%|███████   | 1002/1415 [03:15<01:20,  5.12it/s]"
          ]
        },
        {
          "metadata": {
            "tags": null
          },
          "name": "stdout",
          "output_type": "stream",
          "text": [
            "epoch 8 batch id 1001 loss 0.48306140303611755 train acc 0.8332760989010989 acc 0.8332760989010989\n"
          ]
        },
        {
          "metadata": {
            "tags": null
          },
          "name": "stderr",
          "output_type": "stream",
          "text": [
            " 85%|████████▍ | 1202/1415 [03:54<00:41,  5.11it/s]"
          ]
        },
        {
          "metadata": {
            "tags": null
          },
          "name": "stdout",
          "output_type": "stream",
          "text": [
            "epoch 8 batch id 1201 loss 0.4221777319908142 train acc 0.8331988967527061 acc 0.8331988967527061\n"
          ]
        },
        {
          "metadata": {
            "tags": null
          },
          "name": "stderr",
          "output_type": "stream",
          "text": [
            " 99%|█████████▉| 1402/1415 [04:33<00:02,  5.10it/s]"
          ]
        },
        {
          "metadata": {
            "tags": null
          },
          "name": "stdout",
          "output_type": "stream",
          "text": [
            "epoch 8 batch id 1401 loss 0.44240638613700867 train acc 0.8330879728765168 acc 0.8330879728765168\n"
          ]
        },
        {
          "metadata": {
            "tags": null
          },
          "name": "stderr",
          "output_type": "stream",
          "text": [
            "100%|██████████| 1415/1415 [04:35<00:00,  5.13it/s]\n"
          ]
        },
        {
          "metadata": {
            "tags": null
          },
          "name": "stdout",
          "output_type": "stream",
          "text": [
            "epoch 8 train acc 0.8329079963355581 acc 0.8329079963355581\n"
          ]
        },
        {
          "metadata": {
            "tags": null
          },
          "name": "stderr",
          "output_type": "stream",
          "text": [
            "199it [00:16, 11.82it/s]\n"
          ]
        },
        {
          "metadata": {
            "tags": null
          },
          "name": "stdout",
          "output_type": "stream",
          "text": [
            "****************Epoch : 8 Test 정확도 **************** \n",
            "\n",
            "5중분류 정확도 : 0.38 \n",
            "\n",
            "3중분류 정확도 : 0.52 \n",
            "\n",
            "이진분류 정확도 : 0.57 \n",
            "\n"
          ]
        },
        {
          "metadata": {
            "tags": null
          },
          "name": "stderr",
          "output_type": "stream",
          "text": [
            "  0%|          | 2/1415 [00:00<08:18,  2.83it/s]"
          ]
        },
        {
          "metadata": {
            "tags": null
          },
          "name": "stdout",
          "output_type": "stream",
          "text": [
            "epoch 9 batch id 1 loss 0.5220392346382141 train acc 0.84375 acc 0.84375\n"
          ]
        },
        {
          "metadata": {
            "tags": null
          },
          "name": "stderr",
          "output_type": "stream",
          "text": [
            " 14%|█▍        | 202/1415 [00:39<03:56,  5.13it/s]"
          ]
        },
        {
          "metadata": {
            "tags": null
          },
          "name": "stdout",
          "output_type": "stream",
          "text": [
            "epoch 9 batch id 201 loss 0.3658509850502014 train acc 0.835976368159204 acc 0.835976368159204\n"
          ]
        },
        {
          "metadata": {
            "tags": null
          },
          "name": "stderr",
          "output_type": "stream",
          "text": [
            " 28%|██▊       | 402/1415 [01:18<03:16,  5.15it/s]"
          ]
        },
        {
          "metadata": {
            "tags": null
          },
          "name": "stdout",
          "output_type": "stream",
          "text": [
            "epoch 9 batch id 401 loss 0.4121977984905243 train acc 0.835372506234414 acc 0.835372506234414\n"
          ]
        },
        {
          "metadata": {
            "tags": null
          },
          "name": "stderr",
          "output_type": "stream",
          "text": [
            " 43%|████▎     | 602/1415 [01:57<02:38,  5.12it/s]"
          ]
        },
        {
          "metadata": {
            "tags": null
          },
          "name": "stdout",
          "output_type": "stream",
          "text": [
            "epoch 9 batch id 601 loss 0.4859865605831146 train acc 0.8358205074875208 acc 0.8358205074875208\n"
          ]
        },
        {
          "metadata": {
            "tags": null
          },
          "name": "stderr",
          "output_type": "stream",
          "text": [
            " 57%|█████▋    | 802/1415 [02:36<01:58,  5.15it/s]"
          ]
        },
        {
          "metadata": {
            "tags": null
          },
          "name": "stdout",
          "output_type": "stream",
          "text": [
            "epoch 9 batch id 801 loss 0.4150407016277313 train acc 0.8351474719101124 acc 0.8351474719101124\n"
          ]
        },
        {
          "metadata": {
            "tags": null
          },
          "name": "stderr",
          "output_type": "stream",
          "text": [
            " 71%|███████   | 1002/1415 [03:15<01:19,  5.18it/s]"
          ]
        },
        {
          "metadata": {
            "tags": null
          },
          "name": "stdout",
          "output_type": "stream",
          "text": [
            "epoch 9 batch id 1001 loss 0.4095383882522583 train acc 0.8345872877122877 acc 0.8345872877122877\n"
          ]
        },
        {
          "metadata": {
            "tags": null
          },
          "name": "stderr",
          "output_type": "stream",
          "text": [
            " 85%|████████▍ | 1202/1415 [03:53<00:41,  5.15it/s]"
          ]
        },
        {
          "metadata": {
            "tags": null
          },
          "name": "stdout",
          "output_type": "stream",
          "text": [
            "epoch 9 batch id 1201 loss 0.4393311142921448 train acc 0.8353975853455454 acc 0.8353975853455454\n"
          ]
        },
        {
          "metadata": {
            "tags": null
          },
          "name": "stderr",
          "output_type": "stream",
          "text": [
            " 99%|█████████▉| 1402/1415 [04:32<00:02,  5.11it/s]"
          ]
        },
        {
          "metadata": {
            "tags": null
          },
          "name": "stdout",
          "output_type": "stream",
          "text": [
            "epoch 9 batch id 1401 loss 0.3437374234199524 train acc 0.8358761598857959 acc 0.8358761598857959\n"
          ]
        },
        {
          "metadata": {
            "tags": null
          },
          "name": "stderr",
          "output_type": "stream",
          "text": [
            "100%|██████████| 1415/1415 [04:35<00:00,  5.14it/s]\n"
          ]
        },
        {
          "metadata": {
            "tags": null
          },
          "name": "stdout",
          "output_type": "stream",
          "text": [
            "epoch 9 train acc 0.8358963977228112 acc 0.8358963977228112\n"
          ]
        },
        {
          "metadata": {
            "tags": null
          },
          "name": "stderr",
          "output_type": "stream",
          "text": [
            "199it [00:16, 11.85it/s]\n"
          ]
        },
        {
          "metadata": {
            "tags": null
          },
          "name": "stdout",
          "output_type": "stream",
          "text": [
            "****************Epoch : 9 Test 정확도 **************** \n",
            "\n",
            "5중분류 정확도 : 0.33 \n",
            "\n",
            "3중분류 정확도 : 0.43 \n",
            "\n",
            "이진분류 정확도 : 0.48 \n",
            "\n"
          ]
        },
        {
          "metadata": {
            "tags": null
          },
          "name": "stderr",
          "output_type": "stream",
          "text": [
            "  0%|          | 1/1415 [00:00<13:01,  1.81it/s]"
          ]
        },
        {
          "metadata": {
            "tags": null
          },
          "name": "stdout",
          "output_type": "stream",
          "text": [
            "epoch 10 batch id 1 loss 0.5469070076942444 train acc 0.796875 acc 0.796875\n"
          ]
        },
        {
          "metadata": {
            "tags": null
          },
          "name": "stderr",
          "output_type": "stream",
          "text": [
            " 14%|█▍        | 202/1415 [00:39<03:55,  5.14it/s]"
          ]
        },
        {
          "metadata": {
            "tags": null
          },
          "name": "stdout",
          "output_type": "stream",
          "text": [
            "epoch 10 batch id 201 loss 0.4468987286090851 train acc 0.8458488805970149 acc 0.8458488805970149\n"
          ]
        },
        {
          "metadata": {
            "tags": null
          },
          "name": "stderr",
          "output_type": "stream",
          "text": [
            " 28%|██▊       | 402/1415 [01:18<03:16,  5.16it/s]"
          ]
        },
        {
          "metadata": {
            "tags": null
          },
          "name": "stdout",
          "output_type": "stream",
          "text": [
            "epoch 10 batch id 401 loss 0.36604630947113037 train acc 0.8436331047381546 acc 0.8436331047381546\n"
          ]
        },
        {
          "metadata": {
            "tags": null
          },
          "name": "stderr",
          "output_type": "stream",
          "text": [
            " 43%|████▎     | 602/1415 [01:57<02:38,  5.14it/s]"
          ]
        },
        {
          "metadata": {
            "tags": null
          },
          "name": "stdout",
          "output_type": "stream",
          "text": [
            "epoch 10 batch id 601 loss 0.35879087448120117 train acc 0.8433080282861897 acc 0.8433080282861897\n"
          ]
        },
        {
          "metadata": {
            "tags": null
          },
          "name": "stderr",
          "output_type": "stream",
          "text": [
            " 57%|█████▋    | 802/1415 [02:36<01:58,  5.16it/s]"
          ]
        },
        {
          "metadata": {
            "tags": null
          },
          "name": "stdout",
          "output_type": "stream",
          "text": [
            "epoch 10 batch id 801 loss 0.460349977016449 train acc 0.8417798064918851 acc 0.8417798064918851\n"
          ]
        },
        {
          "metadata": {
            "tags": null
          },
          "name": "stderr",
          "output_type": "stream",
          "text": [
            " 71%|███████   | 1002/1415 [03:14<01:20,  5.14it/s]"
          ]
        },
        {
          "metadata": {
            "tags": null
          },
          "name": "stdout",
          "output_type": "stream",
          "text": [
            "epoch 10 batch id 1001 loss 0.5465313792228699 train acc 0.8412056693306693 acc 0.8412056693306693\n"
          ]
        },
        {
          "metadata": {
            "tags": null
          },
          "name": "stderr",
          "output_type": "stream",
          "text": [
            " 85%|████████▍ | 1202/1415 [03:53<00:41,  5.16it/s]"
          ]
        },
        {
          "metadata": {
            "tags": null
          },
          "name": "stdout",
          "output_type": "stream",
          "text": [
            "epoch 10 batch id 1201 loss 0.3802848756313324 train acc 0.8408747918401333 acc 0.8408747918401333\n"
          ]
        },
        {
          "metadata": {
            "tags": null
          },
          "name": "stderr",
          "output_type": "stream",
          "text": [
            " 99%|█████████▉| 1402/1415 [04:32<00:02,  5.16it/s]"
          ]
        },
        {
          "metadata": {
            "tags": null
          },
          "name": "stdout",
          "output_type": "stream",
          "text": [
            "epoch 10 batch id 1401 loss 0.705168604850769 train acc 0.8411960206995004 acc 0.8411960206995004\n"
          ]
        },
        {
          "metadata": {
            "tags": null
          },
          "name": "stderr",
          "output_type": "stream",
          "text": [
            "100%|██████████| 1415/1415 [04:35<00:00,  5.14it/s]\n"
          ]
        },
        {
          "metadata": {
            "tags": null
          },
          "name": "stdout",
          "output_type": "stream",
          "text": [
            "epoch 10 train acc 0.8412429655804214 acc 0.8412429655804214\n"
          ]
        },
        {
          "metadata": {
            "tags": null
          },
          "name": "stderr",
          "output_type": "stream",
          "text": [
            "199it [00:16, 11.95it/s]\n"
          ]
        },
        {
          "metadata": {
            "tags": null
          },
          "name": "stdout",
          "output_type": "stream",
          "text": [
            "****************Epoch : 10 Test 정확도 **************** \n",
            "\n",
            "5중분류 정확도 : 0.38 \n",
            "\n",
            "3중분류 정확도 : 0.48 \n",
            "\n",
            "이진분류 정확도 : 0.62 \n",
            "\n"
          ]
        },
        {
          "metadata": {
            "tags": null
          },
          "name": "stderr",
          "output_type": "stream",
          "text": [
            "  0%|          | 1/1415 [00:00<13:25,  1.75it/s]"
          ]
        },
        {
          "metadata": {
            "tags": null
          },
          "name": "stdout",
          "output_type": "stream",
          "text": [
            "epoch 11 batch id 1 loss 0.44110414385795593 train acc 0.828125 acc 0.828125\n"
          ]
        },
        {
          "metadata": {
            "tags": null
          },
          "name": "stderr",
          "output_type": "stream",
          "text": [
            " 14%|█▍        | 202/1415 [00:39<03:56,  5.12it/s]"
          ]
        },
        {
          "metadata": {
            "tags": null
          },
          "name": "stdout",
          "output_type": "stream",
          "text": [
            "epoch 11 batch id 201 loss 0.3455963432788849 train acc 0.8397077114427861 acc 0.8397077114427861\n"
          ]
        },
        {
          "metadata": {
            "tags": null
          },
          "name": "stderr",
          "output_type": "stream",
          "text": [
            " 28%|██▊       | 402/1415 [01:18<03:17,  5.13it/s]"
          ]
        },
        {
          "metadata": {
            "tags": null
          },
          "name": "stdout",
          "output_type": "stream",
          "text": [
            "epoch 11 batch id 401 loss 0.46223440766334534 train acc 0.84071072319202 acc 0.84071072319202\n"
          ]
        },
        {
          "metadata": {
            "tags": null
          },
          "name": "stderr",
          "output_type": "stream",
          "text": [
            " 43%|████▎     | 602/1415 [01:57<02:39,  5.11it/s]"
          ]
        },
        {
          "metadata": {
            "tags": null
          },
          "name": "stdout",
          "output_type": "stream",
          "text": [
            "epoch 11 batch id 601 loss 0.40158402919769287 train acc 0.8438279950083195 acc 0.8438279950083195\n"
          ]
        },
        {
          "metadata": {
            "tags": null
          },
          "name": "stderr",
          "output_type": "stream",
          "text": [
            " 57%|█████▋    | 802/1415 [02:36<02:03,  4.98it/s]"
          ]
        },
        {
          "metadata": {
            "tags": null
          },
          "name": "stdout",
          "output_type": "stream",
          "text": [
            "epoch 11 batch id 801 loss 0.550614595413208 train acc 0.8459542759051186 acc 0.8459542759051186\n"
          ]
        },
        {
          "metadata": {
            "tags": null
          },
          "name": "stderr",
          "output_type": "stream",
          "text": [
            " 71%|███████   | 1002/1415 [03:15<01:20,  5.15it/s]"
          ]
        },
        {
          "metadata": {
            "tags": null
          },
          "name": "stdout",
          "output_type": "stream",
          "text": [
            "epoch 11 batch id 1001 loss 0.3472382426261902 train acc 0.8452797202797203 acc 0.8452797202797203\n"
          ]
        },
        {
          "metadata": {
            "tags": null
          },
          "name": "stderr",
          "output_type": "stream",
          "text": [
            " 85%|████████▍ | 1202/1415 [03:54<00:41,  5.13it/s]"
          ]
        },
        {
          "metadata": {
            "tags": null
          },
          "name": "stdout",
          "output_type": "stream",
          "text": [
            "epoch 11 batch id 1201 loss 0.47996631264686584 train acc 0.8453762489592007 acc 0.8453762489592007\n"
          ]
        },
        {
          "metadata": {
            "tags": null
          },
          "name": "stderr",
          "output_type": "stream",
          "text": [
            " 99%|█████████▉| 1402/1415 [04:33<00:02,  5.14it/s]"
          ]
        },
        {
          "metadata": {
            "tags": null
          },
          "name": "stdout",
          "output_type": "stream",
          "text": [
            "epoch 11 batch id 1401 loss 0.37557950615882874 train acc 0.8452221627408993 acc 0.8452221627408993\n"
          ]
        },
        {
          "metadata": {
            "tags": null
          },
          "name": "stderr",
          "output_type": "stream",
          "text": [
            "100%|██████████| 1415/1415 [04:36<00:00,  5.12it/s]\n"
          ]
        },
        {
          "metadata": {
            "tags": null
          },
          "name": "stdout",
          "output_type": "stream",
          "text": [
            "epoch 11 train acc 0.845008424944379 acc 0.845008424944379\n"
          ]
        },
        {
          "metadata": {
            "tags": null
          },
          "name": "stderr",
          "output_type": "stream",
          "text": [
            "199it [00:16, 11.91it/s]\n"
          ]
        },
        {
          "metadata": {
            "tags": null
          },
          "name": "stdout",
          "output_type": "stream",
          "text": [
            "****************Epoch : 11 Test 정확도 **************** \n",
            "\n",
            "5중분류 정확도 : 0.33 \n",
            "\n",
            "3중분류 정확도 : 0.43 \n",
            "\n",
            "이진분류 정확도 : 0.48 \n",
            "\n"
          ]
        },
        {
          "metadata": {
            "tags": null
          },
          "name": "stderr",
          "output_type": "stream",
          "text": [
            "  0%|          | 1/1415 [00:00<12:50,  1.84it/s]"
          ]
        },
        {
          "metadata": {
            "tags": null
          },
          "name": "stdout",
          "output_type": "stream",
          "text": [
            "epoch 12 batch id 1 loss 0.6050004363059998 train acc 0.734375 acc 0.734375\n"
          ]
        },
        {
          "metadata": {
            "tags": null
          },
          "name": "stderr",
          "output_type": "stream",
          "text": [
            " 14%|█▍        | 202/1415 [00:39<03:54,  5.17it/s]"
          ]
        },
        {
          "metadata": {
            "tags": null
          },
          "name": "stdout",
          "output_type": "stream",
          "text": [
            "epoch 12 batch id 201 loss 0.3187408447265625 train acc 0.8542444029850746 acc 0.8542444029850746\n"
          ]
        },
        {
          "metadata": {
            "tags": null
          },
          "name": "stderr",
          "output_type": "stream",
          "text": [
            " 28%|██▊       | 402/1415 [01:18<03:15,  5.18it/s]"
          ]
        },
        {
          "metadata": {
            "tags": null
          },
          "name": "stdout",
          "output_type": "stream",
          "text": [
            "epoch 12 batch id 401 loss 0.5972816944122314 train acc 0.8481530548628429 acc 0.8481530548628429\n"
          ]
        },
        {
          "metadata": {
            "tags": null
          },
          "name": "stderr",
          "output_type": "stream",
          "text": [
            " 43%|████▎     | 602/1415 [01:57<02:37,  5.17it/s]"
          ]
        },
        {
          "metadata": {
            "tags": null
          },
          "name": "stdout",
          "output_type": "stream",
          "text": [
            "epoch 12 batch id 601 loss 0.5444759130477905 train acc 0.8504835690515807 acc 0.8504835690515807\n"
          ]
        },
        {
          "metadata": {
            "tags": null
          },
          "name": "stderr",
          "output_type": "stream",
          "text": [
            " 57%|█████▋    | 802/1415 [02:36<01:59,  5.12it/s]"
          ]
        },
        {
          "metadata": {
            "tags": null
          },
          "name": "stdout",
          "output_type": "stream",
          "text": [
            "epoch 12 batch id 801 loss 0.2958420515060425 train acc 0.8497776217228464 acc 0.8497776217228464\n"
          ]
        },
        {
          "metadata": {
            "tags": null
          },
          "name": "stderr",
          "output_type": "stream",
          "text": [
            " 71%|███████   | 1002/1415 [03:15<01:20,  5.12it/s]"
          ]
        },
        {
          "metadata": {
            "tags": null
          },
          "name": "stdout",
          "output_type": "stream",
          "text": [
            "epoch 12 batch id 1001 loss 0.37220802903175354 train acc 0.8489791458541458 acc 0.8489791458541458\n"
          ]
        },
        {
          "metadata": {
            "tags": null
          },
          "name": "stderr",
          "output_type": "stream",
          "text": [
            " 85%|████████▍ | 1202/1415 [03:54<00:41,  5.14it/s]"
          ]
        },
        {
          "metadata": {
            "tags": null
          },
          "name": "stdout",
          "output_type": "stream",
          "text": [
            "epoch 12 batch id 1201 loss 0.2851857841014862 train acc 0.8480823272273106 acc 0.8480823272273106\n"
          ]
        },
        {
          "metadata": {
            "tags": null
          },
          "name": "stderr",
          "output_type": "stream",
          "text": [
            " 99%|█████████▉| 1402/1415 [04:33<00:02,  5.14it/s]"
          ]
        },
        {
          "metadata": {
            "tags": null
          },
          "name": "stdout",
          "output_type": "stream",
          "text": [
            "epoch 12 batch id 1401 loss 0.44713377952575684 train acc 0.8476311563169164 acc 0.8476311563169164\n"
          ]
        },
        {
          "metadata": {
            "tags": null
          },
          "name": "stderr",
          "output_type": "stream",
          "text": [
            "100%|██████████| 1415/1415 [04:35<00:00,  5.13it/s]\n"
          ]
        },
        {
          "metadata": {
            "tags": null
          },
          "name": "stdout",
          "output_type": "stream",
          "text": [
            "epoch 12 train acc 0.8477379433320246 acc 0.8477379433320246\n"
          ]
        },
        {
          "metadata": {
            "tags": null
          },
          "name": "stderr",
          "output_type": "stream",
          "text": [
            "199it [00:16, 11.93it/s]\n"
          ]
        },
        {
          "metadata": {
            "tags": null
          },
          "name": "stdout",
          "output_type": "stream",
          "text": [
            "****************Epoch : 12 Test 정확도 **************** \n",
            "\n",
            "5중분류 정확도 : 0.38 \n",
            "\n",
            "3중분류 정확도 : 0.52 \n",
            "\n",
            "이진분류 정확도 : 0.57 \n",
            "\n"
          ]
        },
        {
          "metadata": {
            "tags": null
          },
          "name": "stderr",
          "output_type": "stream",
          "text": [
            "  0%|          | 1/1415 [00:00<13:00,  1.81it/s]"
          ]
        },
        {
          "metadata": {
            "tags": null
          },
          "name": "stdout",
          "output_type": "stream",
          "text": [
            "epoch 13 batch id 1 loss 0.2956463098526001 train acc 0.875 acc 0.875\n"
          ]
        },
        {
          "metadata": {
            "tags": null
          },
          "name": "stderr",
          "output_type": "stream",
          "text": [
            " 14%|█▍        | 202/1415 [00:39<03:55,  5.14it/s]"
          ]
        },
        {
          "metadata": {
            "tags": null
          },
          "name": "stdout",
          "output_type": "stream",
          "text": [
            "epoch 13 batch id 201 loss 0.5010210275650024 train acc 0.8523009950248757 acc 0.8523009950248757\n"
          ]
        },
        {
          "metadata": {
            "tags": null
          },
          "name": "stderr",
          "output_type": "stream",
          "text": [
            " 28%|██▊       | 402/1415 [01:18<03:17,  5.13it/s]"
          ]
        },
        {
          "metadata": {
            "tags": null
          },
          "name": "stdout",
          "output_type": "stream",
          "text": [
            "epoch 13 batch id 401 loss 0.3420448899269104 train acc 0.8529847256857855 acc 0.8529847256857855\n"
          ]
        },
        {
          "metadata": {
            "tags": null
          },
          "name": "stderr",
          "output_type": "stream",
          "text": [
            " 43%|████▎     | 602/1415 [01:57<02:37,  5.15it/s]"
          ]
        },
        {
          "metadata": {
            "tags": null
          },
          "name": "stdout",
          "output_type": "stream",
          "text": [
            "epoch 13 batch id 601 loss 0.35377249121665955 train acc 0.8527974209650583 acc 0.8527974209650583\n"
          ]
        },
        {
          "metadata": {
            "tags": null
          },
          "name": "stderr",
          "output_type": "stream",
          "text": [
            " 57%|█████▋    | 802/1415 [02:36<01:58,  5.16it/s]"
          ]
        },
        {
          "metadata": {
            "tags": null
          },
          "name": "stdout",
          "output_type": "stream",
          "text": [
            "epoch 13 batch id 801 loss 0.4021449387073517 train acc 0.8527036516853933 acc 0.8527036516853933\n"
          ]
        },
        {
          "metadata": {
            "tags": null
          },
          "name": "stderr",
          "output_type": "stream",
          "text": [
            " 71%|███████   | 1002/1415 [03:14<01:19,  5.19it/s]"
          ]
        },
        {
          "metadata": {
            "tags": null
          },
          "name": "stdout",
          "output_type": "stream",
          "text": [
            "epoch 13 batch id 1001 loss 0.23106782138347626 train acc 0.8515078671328671 acc 0.8515078671328671\n"
          ]
        },
        {
          "metadata": {
            "tags": null
          },
          "name": "stderr",
          "output_type": "stream",
          "text": [
            " 85%|████████▍ | 1202/1415 [03:53<00:41,  5.10it/s]"
          ]
        },
        {
          "metadata": {
            "tags": null
          },
          "name": "stdout",
          "output_type": "stream",
          "text": [
            "epoch 13 batch id 1201 loss 0.3937684893608093 train acc 0.8513608451290591 acc 0.8513608451290591\n"
          ]
        },
        {
          "metadata": {
            "tags": null
          },
          "name": "stderr",
          "output_type": "stream",
          "text": [
            " 99%|█████████▉| 1402/1415 [04:32<00:02,  5.11it/s]"
          ]
        },
        {
          "metadata": {
            "tags": null
          },
          "name": "stdout",
          "output_type": "stream",
          "text": [
            "epoch 13 batch id 1401 loss 0.2964339554309845 train acc 0.851222341184868 acc 0.851222341184868\n"
          ]
        },
        {
          "metadata": {
            "tags": null
          },
          "name": "stderr",
          "output_type": "stream",
          "text": [
            "100%|██████████| 1415/1415 [04:35<00:00,  5.14it/s]\n"
          ]
        },
        {
          "metadata": {
            "tags": null
          },
          "name": "stdout",
          "output_type": "stream",
          "text": [
            "epoch 13 train acc 0.8510486192906688 acc 0.8510486192906688\n"
          ]
        },
        {
          "metadata": {
            "tags": null
          },
          "name": "stderr",
          "output_type": "stream",
          "text": [
            "199it [00:16, 11.99it/s]\n"
          ]
        },
        {
          "metadata": {
            "tags": null
          },
          "name": "stdout",
          "output_type": "stream",
          "text": [
            "****************Epoch : 13 Test 정확도 **************** \n",
            "\n",
            "5중분류 정확도 : 0.33 \n",
            "\n",
            "3중분류 정확도 : 0.43 \n",
            "\n",
            "이진분류 정확도 : 0.62 \n",
            "\n"
          ]
        },
        {
          "metadata": {
            "tags": null
          },
          "name": "stderr",
          "output_type": "stream",
          "text": [
            "  0%|          | 2/1415 [00:00<08:07,  2.90it/s]"
          ]
        },
        {
          "metadata": {
            "tags": null
          },
          "name": "stdout",
          "output_type": "stream",
          "text": [
            "epoch 14 batch id 1 loss 0.3516840934753418 train acc 0.84375 acc 0.84375\n"
          ]
        },
        {
          "metadata": {
            "tags": null
          },
          "name": "stderr",
          "output_type": "stream",
          "text": [
            " 14%|█▍        | 202/1415 [00:39<03:54,  5.17it/s]"
          ]
        },
        {
          "metadata": {
            "tags": null
          },
          "name": "stdout",
          "output_type": "stream",
          "text": [
            "epoch 14 batch id 201 loss 0.3903390169143677 train acc 0.857353855721393 acc 0.857353855721393\n"
          ]
        },
        {
          "metadata": {
            "tags": null
          },
          "name": "stderr",
          "output_type": "stream",
          "text": [
            " 28%|██▊       | 402/1415 [01:18<03:17,  5.14it/s]"
          ]
        },
        {
          "metadata": {
            "tags": null
          },
          "name": "stdout",
          "output_type": "stream",
          "text": [
            "epoch 14 batch id 401 loss 0.4048101305961609 train acc 0.8567643391521197 acc 0.8567643391521197\n"
          ]
        },
        {
          "metadata": {
            "tags": null
          },
          "name": "stderr",
          "output_type": "stream",
          "text": [
            " 43%|████▎     | 602/1415 [01:57<02:37,  5.16it/s]"
          ]
        },
        {
          "metadata": {
            "tags": null
          },
          "name": "stdout",
          "output_type": "stream",
          "text": [
            "epoch 14 batch id 601 loss 0.35440754890441895 train acc 0.8552412645590682 acc 0.8552412645590682\n"
          ]
        },
        {
          "metadata": {
            "tags": null
          },
          "name": "stderr",
          "output_type": "stream",
          "text": [
            " 57%|█████▋    | 802/1415 [02:36<01:58,  5.16it/s]"
          ]
        },
        {
          "metadata": {
            "tags": null
          },
          "name": "stdout",
          "output_type": "stream",
          "text": [
            "epoch 14 batch id 801 loss 0.34121254086494446 train acc 0.8560393258426966 acc 0.8560393258426966\n"
          ]
        },
        {
          "metadata": {
            "tags": null
          },
          "name": "stderr",
          "output_type": "stream",
          "text": [
            " 71%|███████   | 1002/1415 [03:14<01:19,  5.18it/s]"
          ]
        },
        {
          "metadata": {
            "tags": null
          },
          "name": "stdout",
          "output_type": "stream",
          "text": [
            "epoch 14 batch id 1001 loss 0.46000415086746216 train acc 0.8559409340659341 acc 0.8559409340659341\n"
          ]
        },
        {
          "metadata": {
            "tags": null
          },
          "name": "stderr",
          "output_type": "stream",
          "text": [
            " 85%|████████▍ | 1201/1415 [03:53<00:42,  4.99it/s]"
          ]
        },
        {
          "metadata": {
            "tags": null
          },
          "name": "stdout",
          "output_type": "stream",
          "text": [
            "epoch 14 batch id 1201 loss 0.43498533964157104 train acc 0.8550036427976686 acc 0.8550036427976686\n"
          ]
        },
        {
          "metadata": {
            "tags": null
          },
          "name": "stderr",
          "output_type": "stream",
          "text": [
            " 99%|█████████▉| 1402/1415 [04:32<00:02,  5.15it/s]"
          ]
        },
        {
          "metadata": {
            "tags": null
          },
          "name": "stdout",
          "output_type": "stream",
          "text": [
            "epoch 14 batch id 1401 loss 0.337898313999176 train acc 0.8540551391862955 acc 0.8540551391862955\n"
          ]
        },
        {
          "metadata": {
            "tags": null
          },
          "name": "stderr",
          "output_type": "stream",
          "text": [
            "100%|██████████| 1415/1415 [04:35<00:00,  5.14it/s]\n"
          ]
        },
        {
          "metadata": {
            "tags": null
          },
          "name": "stdout",
          "output_type": "stream",
          "text": [
            "epoch 14 train acc 0.8539879433320245 acc 0.8539879433320245\n"
          ]
        },
        {
          "metadata": {
            "tags": null
          },
          "name": "stderr",
          "output_type": "stream",
          "text": [
            "199it [00:16, 12.02it/s]\n"
          ]
        },
        {
          "metadata": {
            "tags": null
          },
          "name": "stdout",
          "output_type": "stream",
          "text": [
            "****************Epoch : 14 Test 정확도 **************** \n",
            "\n",
            "5중분류 정확도 : 0.38 \n",
            "\n",
            "3중분류 정확도 : 0.48 \n",
            "\n",
            "이진분류 정확도 : 0.67 \n",
            "\n"
          ]
        },
        {
          "metadata": {
            "tags": null
          },
          "name": "stderr",
          "output_type": "stream",
          "text": [
            "  0%|          | 2/1415 [00:00<07:59,  2.95it/s]"
          ]
        },
        {
          "metadata": {
            "tags": null
          },
          "name": "stdout",
          "output_type": "stream",
          "text": [
            "epoch 15 batch id 1 loss 0.43624147772789 train acc 0.8125 acc 0.8125\n"
          ]
        },
        {
          "metadata": {
            "tags": null
          },
          "name": "stderr",
          "output_type": "stream",
          "text": [
            " 14%|█▍        | 202/1415 [00:39<03:53,  5.19it/s]"
          ]
        },
        {
          "metadata": {
            "tags": null
          },
          "name": "stdout",
          "output_type": "stream",
          "text": [
            "epoch 15 batch id 201 loss 0.2918122112751007 train acc 0.8582866915422885 acc 0.8582866915422885\n"
          ]
        },
        {
          "metadata": {
            "tags": null
          },
          "name": "stderr",
          "output_type": "stream",
          "text": [
            " 28%|██▊       | 402/1415 [01:18<03:16,  5.16it/s]"
          ]
        },
        {
          "metadata": {
            "tags": null
          },
          "name": "stdout",
          "output_type": "stream",
          "text": [
            "epoch 15 batch id 401 loss 0.4518355131149292 train acc 0.8564526184538653 acc 0.8564526184538653\n"
          ]
        },
        {
          "metadata": {
            "tags": null
          },
          "name": "stderr",
          "output_type": "stream",
          "text": [
            " 43%|████▎     | 602/1415 [01:56<02:37,  5.18it/s]"
          ]
        },
        {
          "metadata": {
            "tags": null
          },
          "name": "stdout",
          "output_type": "stream",
          "text": [
            "epoch 15 batch id 601 loss 0.4208256006240845 train acc 0.8575291181364393 acc 0.8575291181364393\n"
          ]
        },
        {
          "metadata": {
            "tags": null
          },
          "name": "stderr",
          "output_type": "stream",
          "text": [
            " 57%|█████▋    | 802/1415 [02:35<01:58,  5.18it/s]"
          ]
        },
        {
          "metadata": {
            "tags": null
          },
          "name": "stdout",
          "output_type": "stream",
          "text": [
            "epoch 15 batch id 801 loss 0.4687420725822449 train acc 0.8558442571785269 acc 0.8558442571785269\n"
          ]
        },
        {
          "metadata": {
            "tags": null
          },
          "name": "stderr",
          "output_type": "stream",
          "text": [
            " 71%|███████   | 1002/1415 [03:14<01:19,  5.20it/s]"
          ]
        },
        {
          "metadata": {
            "tags": null
          },
          "name": "stdout",
          "output_type": "stream",
          "text": [
            "epoch 15 batch id 1001 loss 0.5159571170806885 train acc 0.8557224025974026 acc 0.8557224025974026\n"
          ]
        },
        {
          "metadata": {
            "tags": null
          },
          "name": "stderr",
          "output_type": "stream",
          "text": [
            " 85%|████████▍ | 1202/1415 [03:53<00:41,  5.15it/s]"
          ]
        },
        {
          "metadata": {
            "tags": null
          },
          "name": "stdout",
          "output_type": "stream",
          "text": [
            "epoch 15 batch id 1201 loss 0.3189179599285126 train acc 0.8549776228143214 acc 0.8549776228143214\n"
          ]
        },
        {
          "metadata": {
            "tags": null
          },
          "name": "stderr",
          "output_type": "stream",
          "text": [
            " 99%|█████████▉| 1402/1415 [04:31<00:02,  5.12it/s]"
          ]
        },
        {
          "metadata": {
            "tags": null
          },
          "name": "stdout",
          "output_type": "stream",
          "text": [
            "epoch 15 batch id 1401 loss 0.51997971534729 train acc 0.8549473590292648 acc 0.8549473590292648\n"
          ]
        },
        {
          "metadata": {
            "tags": null
          },
          "name": "stderr",
          "output_type": "stream",
          "text": [
            "100%|██████████| 1415/1415 [04:34<00:00,  5.16it/s]\n"
          ]
        },
        {
          "metadata": {
            "tags": null
          },
          "name": "stdout",
          "output_type": "stream",
          "text": [
            "epoch 15 train acc 0.8549727620730271 acc 0.8549727620730271\n"
          ]
        },
        {
          "metadata": {
            "tags": null
          },
          "name": "stderr",
          "output_type": "stream",
          "text": [
            "199it [00:16, 12.08it/s]\n"
          ]
        },
        {
          "metadata": {
            "tags": null
          },
          "name": "stdout",
          "output_type": "stream",
          "text": [
            "****************Epoch : 15 Test 정확도 **************** \n",
            "\n",
            "5중분류 정확도 : 0.29 \n",
            "\n",
            "3중분류 정확도 : 0.38 \n",
            "\n",
            "이진분류 정확도 : 0.57 \n",
            "\n"
          ]
        },
        {
          "metadata": {
            "tags": null
          },
          "name": "stderr",
          "output_type": "stream",
          "text": [
            "  0%|          | 2/1415 [00:00<08:05,  2.91it/s]"
          ]
        },
        {
          "metadata": {
            "tags": null
          },
          "name": "stdout",
          "output_type": "stream",
          "text": [
            "epoch 16 batch id 1 loss 0.4486899673938751 train acc 0.859375 acc 0.859375\n"
          ]
        },
        {
          "metadata": {
            "tags": null
          },
          "name": "stderr",
          "output_type": "stream",
          "text": [
            " 14%|█▍        | 202/1415 [00:39<03:52,  5.21it/s]"
          ]
        },
        {
          "metadata": {
            "tags": null
          },
          "name": "stdout",
          "output_type": "stream",
          "text": [
            "epoch 16 batch id 201 loss 0.24707648158073425 train acc 0.8650497512437811 acc 0.8650497512437811\n"
          ]
        },
        {
          "metadata": {
            "tags": null
          },
          "name": "stderr",
          "output_type": "stream",
          "text": [
            " 28%|██▊       | 402/1415 [01:18<03:16,  5.17it/s]"
          ]
        },
        {
          "metadata": {
            "tags": null
          },
          "name": "stdout",
          "output_type": "stream",
          "text": [
            "epoch 16 batch id 401 loss 0.3742893636226654 train acc 0.8613622194513716 acc 0.8613622194513716\n"
          ]
        },
        {
          "metadata": {
            "tags": null
          },
          "name": "stderr",
          "output_type": "stream",
          "text": [
            " 43%|████▎     | 602/1415 [01:56<02:37,  5.17it/s]"
          ]
        },
        {
          "metadata": {
            "tags": null
          },
          "name": "stdout",
          "output_type": "stream",
          "text": [
            "epoch 16 batch id 601 loss 0.30330678820610046 train acc 0.860544925124792 acc 0.860544925124792\n"
          ]
        },
        {
          "metadata": {
            "tags": null
          },
          "name": "stderr",
          "output_type": "stream",
          "text": [
            " 57%|█████▋    | 802/1415 [02:35<01:57,  5.20it/s]"
          ]
        },
        {
          "metadata": {
            "tags": null
          },
          "name": "stdout",
          "output_type": "stream",
          "text": [
            "epoch 16 batch id 801 loss 0.40391597151756287 train acc 0.8605063982521848 acc 0.8605063982521848\n"
          ]
        },
        {
          "metadata": {
            "tags": null
          },
          "name": "stderr",
          "output_type": "stream",
          "text": [
            " 71%|███████   | 1002/1415 [03:14<01:19,  5.19it/s]"
          ]
        },
        {
          "metadata": {
            "tags": null
          },
          "name": "stdout",
          "output_type": "stream",
          "text": [
            "epoch 16 batch id 1001 loss 0.45576876401901245 train acc 0.8600462037962038 acc 0.8600462037962038\n"
          ]
        },
        {
          "metadata": {
            "tags": null
          },
          "name": "stderr",
          "output_type": "stream",
          "text": [
            " 85%|████████▍ | 1202/1415 [03:52<00:41,  5.11it/s]"
          ]
        },
        {
          "metadata": {
            "tags": null
          },
          "name": "stdout",
          "output_type": "stream",
          "text": [
            "epoch 16 batch id 1201 loss 0.5180140733718872 train acc 0.859440049958368 acc 0.859440049958368\n"
          ]
        },
        {
          "metadata": {
            "tags": null
          },
          "name": "stderr",
          "output_type": "stream",
          "text": [
            " 99%|█████████▉| 1402/1415 [04:31<00:02,  5.12it/s]"
          ]
        },
        {
          "metadata": {
            "tags": null
          },
          "name": "stdout",
          "output_type": "stream",
          "text": [
            "epoch 16 batch id 1401 loss 0.3802262544631958 train acc 0.8586277658815132 acc 0.8586277658815132\n"
          ]
        },
        {
          "metadata": {
            "tags": null
          },
          "name": "stderr",
          "output_type": "stream",
          "text": [
            "100%|██████████| 1415/1415 [04:34<00:00,  5.16it/s]\n"
          ]
        },
        {
          "metadata": {
            "tags": null
          },
          "name": "stdout",
          "output_type": "stream",
          "text": [
            "epoch 16 train acc 0.8584278072241853 acc 0.8584278072241853\n"
          ]
        },
        {
          "metadata": {
            "tags": null
          },
          "name": "stderr",
          "output_type": "stream",
          "text": [
            "199it [00:16, 12.11it/s]\n"
          ]
        },
        {
          "metadata": {
            "tags": null
          },
          "name": "stdout",
          "output_type": "stream",
          "text": [
            "****************Epoch : 16 Test 정확도 **************** \n",
            "\n",
            "5중분류 정확도 : 0.38 \n",
            "\n",
            "3중분류 정확도 : 0.52 \n",
            "\n",
            "이진분류 정확도 : 0.57 \n",
            "\n"
          ]
        },
        {
          "metadata": {
            "tags": null
          },
          "name": "stderr",
          "output_type": "stream",
          "text": [
            "  0%|          | 2/1415 [00:00<08:04,  2.92it/s]"
          ]
        },
        {
          "metadata": {
            "tags": null
          },
          "name": "stdout",
          "output_type": "stream",
          "text": [
            "epoch 17 batch id 1 loss 0.30102774500846863 train acc 0.859375 acc 0.859375\n"
          ]
        },
        {
          "metadata": {
            "tags": null
          },
          "name": "stderr",
          "output_type": "stream",
          "text": [
            " 14%|█▍        | 201/1415 [00:39<03:57,  5.11it/s]"
          ]
        },
        {
          "metadata": {
            "tags": null
          },
          "name": "stdout",
          "output_type": "stream",
          "text": [
            "epoch 17 batch id 201 loss 0.3455837666988373 train acc 0.8587531094527363 acc 0.8587531094527363\n"
          ]
        },
        {
          "metadata": {
            "tags": null
          },
          "name": "stderr",
          "output_type": "stream",
          "text": [
            " 28%|██▊       | 402/1415 [01:18<03:14,  5.20it/s]"
          ]
        },
        {
          "metadata": {
            "tags": null
          },
          "name": "stdout",
          "output_type": "stream",
          "text": [
            "epoch 17 batch id 401 loss 0.3656381666660309 train acc 0.8592581047381546 acc 0.8592581047381546\n"
          ]
        },
        {
          "metadata": {
            "tags": null
          },
          "name": "stderr",
          "output_type": "stream",
          "text": [
            " 43%|████▎     | 602/1415 [01:56<02:38,  5.13it/s]"
          ]
        },
        {
          "metadata": {
            "tags": null
          },
          "name": "stdout",
          "output_type": "stream",
          "text": [
            "epoch 17 batch id 601 loss 0.21501901745796204 train acc 0.8605709234608985 acc 0.8605709234608985\n"
          ]
        },
        {
          "metadata": {
            "tags": null
          },
          "name": "stderr",
          "output_type": "stream",
          "text": [
            " 57%|█████▋    | 802/1415 [02:35<01:58,  5.19it/s]"
          ]
        },
        {
          "metadata": {
            "tags": null
          },
          "name": "stdout",
          "output_type": "stream",
          "text": [
            "epoch 17 batch id 801 loss 0.2705453932285309 train acc 0.8609550561797753 acc 0.8609550561797753\n"
          ]
        },
        {
          "metadata": {
            "tags": null
          },
          "name": "stderr",
          "output_type": "stream",
          "text": [
            " 71%|███████   | 1002/1415 [03:14<01:20,  5.12it/s]"
          ]
        },
        {
          "metadata": {
            "tags": null
          },
          "name": "stdout",
          "output_type": "stream",
          "text": [
            "epoch 17 batch id 1001 loss 0.38031741976737976 train acc 0.8605144855144855 acc 0.8605144855144855\n"
          ]
        },
        {
          "metadata": {
            "tags": null
          },
          "name": "stderr",
          "output_type": "stream",
          "text": [
            " 85%|████████▍ | 1202/1415 [03:52<00:41,  5.11it/s]"
          ]
        },
        {
          "metadata": {
            "tags": null
          },
          "name": "stdout",
          "output_type": "stream",
          "text": [
            "epoch 17 batch id 1201 loss 0.2233888804912567 train acc 0.86016860949209 acc 0.86016860949209\n"
          ]
        },
        {
          "metadata": {
            "tags": null
          },
          "name": "stderr",
          "output_type": "stream",
          "text": [
            " 99%|█████████▉| 1402/1415 [04:31<00:02,  5.10it/s]"
          ]
        },
        {
          "metadata": {
            "tags": null
          },
          "name": "stdout",
          "output_type": "stream",
          "text": [
            "epoch 17 batch id 1401 loss 0.34955692291259766 train acc 0.8596203604568166 acc 0.8596203604568166\n"
          ]
        },
        {
          "metadata": {
            "tags": null
          },
          "name": "stderr",
          "output_type": "stream",
          "text": [
            "100%|██████████| 1415/1415 [04:34<00:00,  5.16it/s]\n"
          ]
        },
        {
          "metadata": {
            "tags": null
          },
          "name": "stdout",
          "output_type": "stream",
          "text": [
            "epoch 17 train acc 0.8597410352048162 acc 0.8597410352048162\n"
          ]
        },
        {
          "metadata": {
            "tags": null
          },
          "name": "stderr",
          "output_type": "stream",
          "text": [
            "199it [00:16, 12.10it/s]\n"
          ]
        },
        {
          "metadata": {
            "tags": null
          },
          "name": "stdout",
          "output_type": "stream",
          "text": [
            "****************Epoch : 17 Test 정확도 **************** \n",
            "\n",
            "5중분류 정확도 : 0.38 \n",
            "\n",
            "3중분류 정확도 : 0.48 \n",
            "\n",
            "이진분류 정확도 : 0.67 \n",
            "\n"
          ]
        },
        {
          "metadata": {
            "tags": null
          },
          "name": "stderr",
          "output_type": "stream",
          "text": [
            "  0%|          | 2/1415 [00:00<08:03,  2.92it/s]"
          ]
        },
        {
          "metadata": {
            "tags": null
          },
          "name": "stdout",
          "output_type": "stream",
          "text": [
            "epoch 18 batch id 1 loss 0.3738015294075012 train acc 0.84375 acc 0.84375\n"
          ]
        },
        {
          "metadata": {
            "tags": null
          },
          "name": "stderr",
          "output_type": "stream",
          "text": [
            " 14%|█▍        | 202/1415 [00:39<03:54,  5.18it/s]"
          ]
        },
        {
          "metadata": {
            "tags": null
          },
          "name": "stdout",
          "output_type": "stream",
          "text": [
            "epoch 18 batch id 201 loss 0.38527193665504456 train acc 0.8701803482587065 acc 0.8701803482587065\n"
          ]
        },
        {
          "metadata": {
            "tags": null
          },
          "name": "stderr",
          "output_type": "stream",
          "text": [
            " 28%|██▊       | 402/1415 [01:18<03:16,  5.17it/s]"
          ]
        },
        {
          "metadata": {
            "tags": null
          },
          "name": "stdout",
          "output_type": "stream",
          "text": [
            "epoch 18 batch id 401 loss 0.31847843527793884 train acc 0.8668952618453866 acc 0.8668952618453866\n"
          ]
        },
        {
          "metadata": {
            "tags": null
          },
          "name": "stderr",
          "output_type": "stream",
          "text": [
            " 43%|████▎     | 602/1415 [01:57<02:37,  5.17it/s]"
          ]
        },
        {
          "metadata": {
            "tags": null
          },
          "name": "stdout",
          "output_type": "stream",
          "text": [
            "epoch 18 batch id 601 loss 0.4476262927055359 train acc 0.8656665973377704 acc 0.8656665973377704\n"
          ]
        },
        {
          "metadata": {
            "tags": null
          },
          "name": "stderr",
          "output_type": "stream",
          "text": [
            " 57%|█████▋    | 802/1415 [02:35<01:58,  5.17it/s]"
          ]
        },
        {
          "metadata": {
            "tags": null
          },
          "name": "stdout",
          "output_type": "stream",
          "text": [
            "epoch 18 batch id 801 loss 0.4151962697505951 train acc 0.8652660736579276 acc 0.8652660736579276\n"
          ]
        },
        {
          "metadata": {
            "tags": null
          },
          "name": "stderr",
          "output_type": "stream",
          "text": [
            " 71%|███████   | 1002/1415 [03:14<01:20,  5.15it/s]"
          ]
        },
        {
          "metadata": {
            "tags": null
          },
          "name": "stdout",
          "output_type": "stream",
          "text": [
            "epoch 18 batch id 1001 loss 0.34307771921157837 train acc 0.864089035964036 acc 0.864089035964036\n"
          ]
        },
        {
          "metadata": {
            "tags": null
          },
          "name": "stderr",
          "output_type": "stream",
          "text": [
            " 85%|████████▍ | 1202/1415 [03:53<00:41,  5.14it/s]"
          ]
        },
        {
          "metadata": {
            "tags": null
          },
          "name": "stdout",
          "output_type": "stream",
          "text": [
            "epoch 18 batch id 1201 loss 0.4968262314796448 train acc 0.8639024771024146 acc 0.8639024771024146\n"
          ]
        },
        {
          "metadata": {
            "tags": null
          },
          "name": "stderr",
          "output_type": "stream",
          "text": [
            " 99%|█████████▉| 1402/1415 [04:32<00:02,  5.18it/s]"
          ]
        },
        {
          "metadata": {
            "tags": null
          },
          "name": "stdout",
          "output_type": "stream",
          "text": [
            "epoch 18 batch id 1401 loss 0.31184494495391846 train acc 0.8626539079229122 acc 0.8626539079229122\n"
          ]
        },
        {
          "metadata": {
            "tags": null
          },
          "name": "stderr",
          "output_type": "stream",
          "text": [
            "100%|██████████| 1415/1415 [04:34<00:00,  5.15it/s]\n"
          ]
        },
        {
          "metadata": {
            "tags": null
          },
          "name": "stdout",
          "output_type": "stream",
          "text": [
            "epoch 18 train acc 0.8624325186493914 acc 0.8624325186493914\n"
          ]
        },
        {
          "metadata": {
            "tags": null
          },
          "name": "stderr",
          "output_type": "stream",
          "text": [
            "199it [00:16, 12.10it/s]\n"
          ]
        },
        {
          "metadata": {
            "tags": null
          },
          "name": "stdout",
          "output_type": "stream",
          "text": [
            "****************Epoch : 18 Test 정확도 **************** \n",
            "\n",
            "5중분류 정확도 : 0.29 \n",
            "\n",
            "3중분류 정확도 : 0.38 \n",
            "\n",
            "이진분류 정확도 : 0.52 \n",
            "\n"
          ]
        },
        {
          "metadata": {
            "tags": null
          },
          "name": "stderr",
          "output_type": "stream",
          "text": [
            "  0%|          | 2/1415 [00:00<07:56,  2.97it/s]"
          ]
        },
        {
          "metadata": {
            "tags": null
          },
          "name": "stdout",
          "output_type": "stream",
          "text": [
            "epoch 19 batch id 1 loss 0.2364911139011383 train acc 0.921875 acc 0.921875\n"
          ]
        },
        {
          "metadata": {
            "tags": null
          },
          "name": "stderr",
          "output_type": "stream",
          "text": [
            " 14%|█▍        | 202/1415 [00:39<03:54,  5.18it/s]"
          ]
        },
        {
          "metadata": {
            "tags": null
          },
          "name": "stdout",
          "output_type": "stream",
          "text": [
            "epoch 19 batch id 201 loss 0.34049472212791443 train acc 0.8738339552238806 acc 0.8738339552238806\n"
          ]
        },
        {
          "metadata": {
            "tags": null
          },
          "name": "stderr",
          "output_type": "stream",
          "text": [
            " 28%|██▊       | 402/1415 [01:18<03:16,  5.16it/s]"
          ]
        },
        {
          "metadata": {
            "tags": null
          },
          "name": "stdout",
          "output_type": "stream",
          "text": [
            "epoch 19 batch id 401 loss 0.3085557520389557 train acc 0.8726620947630923 acc 0.8726620947630923\n"
          ]
        },
        {
          "metadata": {
            "tags": null
          },
          "name": "stderr",
          "output_type": "stream",
          "text": [
            " 43%|████▎     | 602/1415 [01:56<02:36,  5.18it/s]"
          ]
        },
        {
          "metadata": {
            "tags": null
          },
          "name": "stdout",
          "output_type": "stream",
          "text": [
            "epoch 19 batch id 601 loss 0.3403455317020416 train acc 0.870164309484193 acc 0.870164309484193\n"
          ]
        },
        {
          "metadata": {
            "tags": null
          },
          "name": "stderr",
          "output_type": "stream",
          "text": [
            " 57%|█████▋    | 802/1415 [02:35<01:58,  5.19it/s]"
          ]
        },
        {
          "metadata": {
            "tags": null
          },
          "name": "stdout",
          "output_type": "stream",
          "text": [
            "epoch 19 batch id 801 loss 0.4276203513145447 train acc 0.8690699126092385 acc 0.8690699126092385\n"
          ]
        },
        {
          "metadata": {
            "tags": null
          },
          "name": "stderr",
          "output_type": "stream",
          "text": [
            " 71%|███████   | 1002/1415 [03:14<01:20,  5.16it/s]"
          ]
        },
        {
          "metadata": {
            "tags": null
          },
          "name": "stdout",
          "output_type": "stream",
          "text": [
            "epoch 19 batch id 1001 loss 0.37819570302963257 train acc 0.8681162587412588 acc 0.8681162587412588\n"
          ]
        },
        {
          "metadata": {
            "tags": null
          },
          "name": "stderr",
          "output_type": "stream",
          "text": [
            " 85%|████████▍ | 1202/1415 [03:52<00:41,  5.15it/s]"
          ]
        },
        {
          "metadata": {
            "tags": null
          },
          "name": "stdout",
          "output_type": "stream",
          "text": [
            "epoch 19 batch id 1201 loss 0.3298582434654236 train acc 0.8678705245628643 acc 0.8678705245628643\n"
          ]
        },
        {
          "metadata": {
            "tags": null
          },
          "name": "stderr",
          "output_type": "stream",
          "text": [
            " 99%|█████████▉| 1402/1415 [04:31<00:02,  5.16it/s]"
          ]
        },
        {
          "metadata": {
            "tags": null
          },
          "name": "stdout",
          "output_type": "stream",
          "text": [
            "epoch 19 batch id 1401 loss 0.39705708622932434 train acc 0.866378925767309 acc 0.866378925767309\n"
          ]
        },
        {
          "metadata": {
            "tags": null
          },
          "name": "stderr",
          "output_type": "stream",
          "text": [
            "100%|██████████| 1415/1415 [04:34<00:00,  5.16it/s]\n"
          ]
        },
        {
          "metadata": {
            "tags": null
          },
          "name": "stdout",
          "output_type": "stream",
          "text": [
            "epoch 19 train acc 0.8664368210967152 acc 0.8664368210967152\n"
          ]
        },
        {
          "metadata": {
            "tags": null
          },
          "name": "stderr",
          "output_type": "stream",
          "text": [
            "199it [00:16, 12.13it/s]\n"
          ]
        },
        {
          "metadata": {
            "tags": null
          },
          "name": "stdout",
          "output_type": "stream",
          "text": [
            "****************Epoch : 19 Test 정확도 **************** \n",
            "\n",
            "5중분류 정확도 : 0.38 \n",
            "\n",
            "3중분류 정확도 : 0.48 \n",
            "\n",
            "이진분류 정확도 : 0.57 \n",
            "\n"
          ]
        },
        {
          "metadata": {
            "tags": null
          },
          "name": "stderr",
          "output_type": "stream",
          "text": [
            "  0%|          | 1/1415 [00:00<12:57,  1.82it/s]"
          ]
        },
        {
          "metadata": {
            "tags": null
          },
          "name": "stdout",
          "output_type": "stream",
          "text": [
            "epoch 20 batch id 1 loss 0.4841138422489166 train acc 0.765625 acc 0.765625\n"
          ]
        },
        {
          "metadata": {
            "tags": null
          },
          "name": "stderr",
          "output_type": "stream",
          "text": [
            " 14%|█▍        | 202/1415 [00:39<03:53,  5.20it/s]"
          ]
        },
        {
          "metadata": {
            "tags": null
          },
          "name": "stdout",
          "output_type": "stream",
          "text": [
            "epoch 20 batch id 201 loss 0.4221698045730591 train acc 0.8724347014925373 acc 0.8724347014925373\n"
          ]
        },
        {
          "metadata": {
            "tags": null
          },
          "name": "stderr",
          "output_type": "stream",
          "text": [
            " 28%|██▊       | 402/1415 [01:17<03:15,  5.18it/s]"
          ]
        },
        {
          "metadata": {
            "tags": null
          },
          "name": "stdout",
          "output_type": "stream",
          "text": [
            "epoch 20 batch id 401 loss 0.3902888298034668 train acc 0.8704021197007481 acc 0.8704021197007481\n"
          ]
        },
        {
          "metadata": {
            "tags": null
          },
          "name": "stderr",
          "output_type": "stream",
          "text": [
            " 43%|████▎     | 602/1415 [01:56<02:36,  5.18it/s]"
          ]
        },
        {
          "metadata": {
            "tags": null
          },
          "name": "stdout",
          "output_type": "stream",
          "text": [
            "epoch 20 batch id 601 loss 0.439420610666275 train acc 0.8704502911813644 acc 0.8704502911813644\n"
          ]
        },
        {
          "metadata": {
            "tags": null
          },
          "name": "stderr",
          "output_type": "stream",
          "text": [
            " 57%|█████▋    | 801/1415 [02:34<01:59,  5.12it/s]"
          ]
        },
        {
          "metadata": {
            "tags": null
          },
          "name": "stdout",
          "output_type": "stream",
          "text": [
            "epoch 20 batch id 801 loss 0.23994171619415283 train acc 0.8700452559300874 acc 0.8700452559300874\n"
          ]
        },
        {
          "metadata": {
            "tags": null
          },
          "name": "stderr",
          "output_type": "stream",
          "text": [
            " 71%|███████   | 1002/1415 [03:13<01:20,  5.15it/s]"
          ]
        },
        {
          "metadata": {
            "tags": null
          },
          "name": "stdout",
          "output_type": "stream",
          "text": [
            "epoch 20 batch id 1001 loss 0.343998521566391 train acc 0.8694742757242757 acc 0.8694742757242757\n"
          ]
        },
        {
          "metadata": {
            "tags": null
          },
          "name": "stderr",
          "output_type": "stream",
          "text": [
            " 85%|████████▍ | 1202/1415 [03:52<00:40,  5.20it/s]"
          ]
        },
        {
          "metadata": {
            "tags": null
          },
          "name": "stdout",
          "output_type": "stream",
          "text": [
            "epoch 20 batch id 1201 loss 0.400063693523407 train acc 0.8688202539550375 acc 0.8688202539550375\n"
          ]
        },
        {
          "metadata": {
            "tags": null
          },
          "name": "stderr",
          "output_type": "stream",
          "text": [
            " 99%|█████████▉| 1402/1415 [04:30<00:02,  5.14it/s]"
          ]
        },
        {
          "metadata": {
            "tags": null
          },
          "name": "stdout",
          "output_type": "stream",
          "text": [
            "epoch 20 batch id 1401 loss 0.40616580843925476 train acc 0.8680629907209136 acc 0.8680629907209136\n"
          ]
        },
        {
          "metadata": {
            "tags": null
          },
          "name": "stderr",
          "output_type": "stream",
          "text": [
            "100%|██████████| 1415/1415 [04:33<00:00,  5.17it/s]\n"
          ]
        },
        {
          "metadata": {
            "tags": null
          },
          "name": "stdout",
          "output_type": "stream",
          "text": [
            "epoch 20 train acc 0.8679214108101034 acc 0.8679214108101034\n"
          ]
        },
        {
          "metadata": {
            "tags": null
          },
          "name": "stderr",
          "output_type": "stream",
          "text": [
            "199it [00:16, 12.17it/s]\n"
          ]
        },
        {
          "metadata": {
            "tags": null
          },
          "name": "stdout",
          "output_type": "stream",
          "text": [
            "****************Epoch : 20 Test 정확도 **************** \n",
            "\n",
            "5중분류 정확도 : 0.33 \n",
            "\n",
            "3중분류 정확도 : 0.43 \n",
            "\n",
            "이진분류 정확도 : 0.62 \n",
            "\n"
          ]
        },
        {
          "metadata": {
            "tags": null
          },
          "name": "stderr",
          "output_type": "stream",
          "text": [
            "  0%|          | 2/1415 [00:00<08:02,  2.93it/s]"
          ]
        },
        {
          "metadata": {
            "tags": null
          },
          "name": "stdout",
          "output_type": "stream",
          "text": [
            "epoch 21 batch id 1 loss 0.38576391339302063 train acc 0.890625 acc 0.890625\n"
          ]
        },
        {
          "metadata": {
            "tags": null
          },
          "name": "stderr",
          "output_type": "stream",
          "text": [
            " 14%|█▍        | 202/1415 [00:39<03:53,  5.20it/s]"
          ]
        },
        {
          "metadata": {
            "tags": null
          },
          "name": "stdout",
          "output_type": "stream",
          "text": [
            "epoch 21 batch id 201 loss 0.4688175916671753 train acc 0.8753886815920398 acc 0.8753886815920398\n"
          ]
        },
        {
          "metadata": {
            "tags": null
          },
          "name": "stderr",
          "output_type": "stream",
          "text": [
            " 28%|██▊       | 402/1415 [01:18<03:16,  5.15it/s]"
          ]
        },
        {
          "metadata": {
            "tags": null
          },
          "name": "stdout",
          "output_type": "stream",
          "text": [
            "epoch 21 batch id 401 loss 0.21349044144153595 train acc 0.871376246882793 acc 0.871376246882793\n"
          ]
        },
        {
          "metadata": {
            "tags": null
          },
          "name": "stderr",
          "output_type": "stream",
          "text": [
            " 43%|████▎     | 602/1415 [01:56<02:38,  5.12it/s]"
          ]
        },
        {
          "metadata": {
            "tags": null
          },
          "name": "stdout",
          "output_type": "stream",
          "text": [
            "epoch 21 batch id 601 loss 0.2598806917667389 train acc 0.8717762063227953 acc 0.8717762063227953\n"
          ]
        },
        {
          "metadata": {
            "tags": null
          },
          "name": "stderr",
          "output_type": "stream",
          "text": [
            " 57%|█████▋    | 802/1415 [02:35<01:57,  5.20it/s]"
          ]
        },
        {
          "metadata": {
            "tags": null
          },
          "name": "stdout",
          "output_type": "stream",
          "text": [
            "epoch 21 batch id 801 loss 0.2671518921852112 train acc 0.8719959425717853 acc 0.8719959425717853\n"
          ]
        },
        {
          "metadata": {
            "tags": null
          },
          "name": "stderr",
          "output_type": "stream",
          "text": [
            " 71%|███████   | 1002/1415 [03:14<01:20,  5.16it/s]"
          ]
        },
        {
          "metadata": {
            "tags": null
          },
          "name": "stdout",
          "output_type": "stream",
          "text": [
            "epoch 21 batch id 1001 loss 0.1846836507320404 train acc 0.8719405594405595 acc 0.8719405594405595\n"
          ]
        },
        {
          "metadata": {
            "tags": null
          },
          "name": "stderr",
          "output_type": "stream",
          "text": [
            " 85%|████████▍ | 1202/1415 [03:53<00:41,  5.16it/s]"
          ]
        },
        {
          "metadata": {
            "tags": null
          },
          "name": "stdout",
          "output_type": "stream",
          "text": [
            "epoch 21 batch id 1201 loss 0.25756773352622986 train acc 0.8722158617818485 acc 0.8722158617818485\n"
          ]
        },
        {
          "metadata": {
            "tags": null
          },
          "name": "stderr",
          "output_type": "stream",
          "text": [
            " 99%|█████████▉| 1402/1415 [04:32<00:02,  5.18it/s]"
          ]
        },
        {
          "metadata": {
            "tags": null
          },
          "name": "stdout",
          "output_type": "stream",
          "text": [
            "epoch 21 batch id 1401 loss 0.38158097863197327 train acc 0.871654175588865 acc 0.871654175588865\n"
          ]
        },
        {
          "metadata": {
            "tags": null
          },
          "name": "stderr",
          "output_type": "stream",
          "text": [
            "100%|██████████| 1415/1415 [04:34<00:00,  5.15it/s]\n"
          ]
        },
        {
          "metadata": {
            "tags": null
          },
          "name": "stdout",
          "output_type": "stream",
          "text": [
            "epoch 21 train acc 0.8715093737730664 acc 0.8715093737730664\n"
          ]
        },
        {
          "metadata": {
            "tags": null
          },
          "name": "stderr",
          "output_type": "stream",
          "text": [
            "199it [00:16, 12.09it/s]\n"
          ]
        },
        {
          "metadata": {
            "tags": null
          },
          "name": "stdout",
          "output_type": "stream",
          "text": [
            "****************Epoch : 21 Test 정확도 **************** \n",
            "\n",
            "5중분류 정확도 : 0.33 \n",
            "\n",
            "3중분류 정확도 : 0.43 \n",
            "\n",
            "이진분류 정확도 : 0.52 \n",
            "\n"
          ]
        },
        {
          "metadata": {
            "tags": null
          },
          "name": "stderr",
          "output_type": "stream",
          "text": [
            "  0%|          | 2/1415 [00:00<08:00,  2.94it/s]"
          ]
        },
        {
          "metadata": {
            "tags": null
          },
          "name": "stdout",
          "output_type": "stream",
          "text": [
            "epoch 22 batch id 1 loss 0.2823407053947449 train acc 0.90625 acc 0.90625\n"
          ]
        },
        {
          "metadata": {
            "tags": null
          },
          "name": "stderr",
          "output_type": "stream",
          "text": [
            " 14%|█▍        | 202/1415 [00:39<03:53,  5.19it/s]"
          ]
        },
        {
          "metadata": {
            "tags": null
          },
          "name": "stdout",
          "output_type": "stream",
          "text": [
            "epoch 22 batch id 201 loss 0.41617563366889954 train acc 0.8805192786069652 acc 0.8805192786069652\n"
          ]
        },
        {
          "metadata": {
            "tags": null
          },
          "name": "stderr",
          "output_type": "stream",
          "text": [
            " 28%|██▊       | 402/1415 [01:18<03:15,  5.19it/s]"
          ]
        },
        {
          "metadata": {
            "tags": null
          },
          "name": "stdout",
          "output_type": "stream",
          "text": [
            "epoch 22 batch id 401 loss 0.4204534888267517 train acc 0.8785068578553616 acc 0.8785068578553616\n"
          ]
        },
        {
          "metadata": {
            "tags": null
          },
          "name": "stderr",
          "output_type": "stream",
          "text": [
            " 43%|████▎     | 602/1415 [01:56<02:36,  5.19it/s]"
          ]
        },
        {
          "metadata": {
            "tags": null
          },
          "name": "stdout",
          "output_type": "stream",
          "text": [
            "epoch 22 batch id 601 loss 0.3152698576450348 train acc 0.8770798668885191 acc 0.8770798668885191\n"
          ]
        },
        {
          "metadata": {
            "tags": null
          },
          "name": "stderr",
          "output_type": "stream",
          "text": [
            " 57%|█████▋    | 802/1415 [02:35<01:58,  5.19it/s]"
          ]
        },
        {
          "metadata": {
            "tags": null
          },
          "name": "stdout",
          "output_type": "stream",
          "text": [
            "epoch 22 batch id 801 loss 0.46848011016845703 train acc 0.8755071785268415 acc 0.8755071785268415\n"
          ]
        },
        {
          "metadata": {
            "tags": null
          },
          "name": "stderr",
          "output_type": "stream",
          "text": [
            " 71%|███████   | 1002/1415 [03:14<01:20,  5.16it/s]"
          ]
        },
        {
          "metadata": {
            "tags": null
          },
          "name": "stdout",
          "output_type": "stream",
          "text": [
            "epoch 22 batch id 1001 loss 0.32559481263160706 train acc 0.8746878121878122 acc 0.8746878121878122\n"
          ]
        },
        {
          "metadata": {
            "tags": null
          },
          "name": "stderr",
          "output_type": "stream",
          "text": [
            " 85%|████████▍ | 1202/1415 [03:52<00:41,  5.14it/s]"
          ]
        },
        {
          "metadata": {
            "tags": null
          },
          "name": "stdout",
          "output_type": "stream",
          "text": [
            "epoch 22 batch id 1201 loss 0.2806850075721741 train acc 0.8743625104079933 acc 0.8743625104079933\n"
          ]
        },
        {
          "metadata": {
            "tags": null
          },
          "name": "stderr",
          "output_type": "stream",
          "text": [
            " 99%|█████████▉| 1402/1415 [04:31<00:02,  5.21it/s]"
          ]
        },
        {
          "metadata": {
            "tags": null
          },
          "name": "stdout",
          "output_type": "stream",
          "text": [
            "epoch 22 batch id 1401 loss 0.5579236149787903 train acc 0.8731486438258387 acc 0.8731486438258387\n"
          ]
        },
        {
          "metadata": {
            "tags": null
          },
          "name": "stderr",
          "output_type": "stream",
          "text": [
            "100%|██████████| 1415/1415 [04:34<00:00,  5.16it/s]\n"
          ]
        },
        {
          "metadata": {
            "tags": null
          },
          "name": "stdout",
          "output_type": "stream",
          "text": [
            "epoch 22 train acc 0.8730692154168302 acc 0.8730692154168302\n"
          ]
        },
        {
          "metadata": {
            "tags": null
          },
          "name": "stderr",
          "output_type": "stream",
          "text": [
            "199it [00:16, 12.11it/s]\n"
          ]
        },
        {
          "metadata": {
            "tags": null
          },
          "name": "stdout",
          "output_type": "stream",
          "text": [
            "****************Epoch : 22 Test 정확도 **************** \n",
            "\n",
            "5중분류 정확도 : 0.43 \n",
            "\n",
            "3중분류 정확도 : 0.52 \n",
            "\n",
            "이진분류 정확도 : 0.67 \n",
            "\n"
          ]
        },
        {
          "metadata": {
            "tags": null
          },
          "name": "stderr",
          "output_type": "stream",
          "text": [
            "  0%|          | 2/1415 [00:00<08:00,  2.94it/s]"
          ]
        },
        {
          "metadata": {
            "tags": null
          },
          "name": "stdout",
          "output_type": "stream",
          "text": [
            "epoch 23 batch id 1 loss 0.2332494854927063 train acc 0.90625 acc 0.90625\n"
          ]
        },
        {
          "metadata": {
            "tags": null
          },
          "name": "stderr",
          "output_type": "stream",
          "text": [
            " 14%|█▍        | 202/1415 [00:39<03:52,  5.21it/s]"
          ]
        },
        {
          "metadata": {
            "tags": null
          },
          "name": "stdout",
          "output_type": "stream",
          "text": [
            "epoch 23 batch id 201 loss 0.36106768250465393 train acc 0.877021144278607 acc 0.877021144278607\n"
          ]
        },
        {
          "metadata": {
            "tags": null
          },
          "name": "stderr",
          "output_type": "stream",
          "text": [
            " 28%|██▊       | 402/1415 [01:18<03:14,  5.20it/s]"
          ]
        },
        {
          "metadata": {
            "tags": null
          },
          "name": "stdout",
          "output_type": "stream",
          "text": [
            "epoch 23 batch id 401 loss 0.0987040102481842 train acc 0.8771041147132169 acc 0.8771041147132169\n"
          ]
        },
        {
          "metadata": {
            "tags": null
          },
          "name": "stderr",
          "output_type": "stream",
          "text": [
            " 43%|████▎     | 602/1415 [01:56<02:36,  5.18it/s]"
          ]
        },
        {
          "metadata": {
            "tags": null
          },
          "name": "stdout",
          "output_type": "stream",
          "text": [
            "epoch 23 batch id 601 loss 0.44969648122787476 train acc 0.877495840266223 acc 0.877495840266223\n"
          ]
        },
        {
          "metadata": {
            "tags": null
          },
          "name": "stderr",
          "output_type": "stream",
          "text": [
            " 57%|█████▋    | 802/1415 [02:35<01:58,  5.18it/s]"
          ]
        },
        {
          "metadata": {
            "tags": null
          },
          "name": "stdout",
          "output_type": "stream",
          "text": [
            "epoch 23 batch id 801 loss 0.35594484210014343 train acc 0.8764435081148564 acc 0.8764435081148564\n"
          ]
        },
        {
          "metadata": {
            "tags": null
          },
          "name": "stderr",
          "output_type": "stream",
          "text": [
            " 71%|███████   | 1001/1415 [03:13<01:19,  5.18it/s]"
          ]
        },
        {
          "metadata": {
            "tags": null
          },
          "name": "stdout",
          "output_type": "stream",
          "text": [
            "epoch 23 batch id 1001 loss 0.2475612759590149 train acc 0.8756712037962038 acc 0.8756712037962038\n"
          ]
        },
        {
          "metadata": {
            "tags": null
          },
          "name": "stderr",
          "output_type": "stream",
          "text": [
            " 85%|████████▍ | 1202/1415 [03:52<00:41,  5.11it/s]"
          ]
        },
        {
          "metadata": {
            "tags": null
          },
          "name": "stdout",
          "output_type": "stream",
          "text": [
            "epoch 23 batch id 1201 loss 0.4500168263912201 train acc 0.874310470441299 acc 0.874310470441299\n"
          ]
        },
        {
          "metadata": {
            "tags": null
          },
          "name": "stderr",
          "output_type": "stream",
          "text": [
            " 99%|█████████▉| 1402/1415 [04:31<00:02,  5.17it/s]"
          ]
        },
        {
          "metadata": {
            "tags": null
          },
          "name": "stdout",
          "output_type": "stream",
          "text": [
            "epoch 23 batch id 1401 loss 0.16252827644348145 train acc 0.8744089043540328 acc 0.8744089043540328\n"
          ]
        },
        {
          "metadata": {
            "tags": null
          },
          "name": "stderr",
          "output_type": "stream",
          "text": [
            "100%|██████████| 1415/1415 [04:34<00:00,  5.16it/s]\n"
          ]
        },
        {
          "metadata": {
            "tags": null
          },
          "name": "stdout",
          "output_type": "stream",
          "text": [
            "epoch 23 train acc 0.8744446080355975 acc 0.8744446080355975\n"
          ]
        },
        {
          "metadata": {
            "tags": null
          },
          "name": "stderr",
          "output_type": "stream",
          "text": [
            "199it [00:16, 12.17it/s]\n"
          ]
        },
        {
          "metadata": {
            "tags": null
          },
          "name": "stdout",
          "output_type": "stream",
          "text": [
            "****************Epoch : 23 Test 정확도 **************** \n",
            "\n",
            "5중분류 정확도 : 0.43 \n",
            "\n",
            "3중분류 정확도 : 0.62 \n",
            "\n",
            "이진분류 정확도 : 0.57 \n",
            "\n"
          ]
        },
        {
          "metadata": {
            "tags": null
          },
          "name": "stderr",
          "output_type": "stream",
          "text": [
            "  0%|          | 2/1415 [00:00<08:07,  2.90it/s]"
          ]
        },
        {
          "metadata": {
            "tags": null
          },
          "name": "stdout",
          "output_type": "stream",
          "text": [
            "epoch 24 batch id 1 loss 0.32702890038490295 train acc 0.890625 acc 0.890625\n"
          ]
        },
        {
          "metadata": {
            "tags": null
          },
          "name": "stderr",
          "output_type": "stream",
          "text": [
            " 14%|█▍        | 202/1415 [00:39<03:54,  5.17it/s]"
          ]
        },
        {
          "metadata": {
            "tags": null
          },
          "name": "stdout",
          "output_type": "stream",
          "text": [
            "epoch 24 batch id 201 loss 0.3021089434623718 train acc 0.8799751243781094 acc 0.8799751243781094\n"
          ]
        },
        {
          "metadata": {
            "tags": null
          },
          "name": "stderr",
          "output_type": "stream",
          "text": [
            " 28%|██▊       | 402/1415 [01:18<03:16,  5.16it/s]"
          ]
        },
        {
          "metadata": {
            "tags": null
          },
          "name": "stdout",
          "output_type": "stream",
          "text": [
            "epoch 24 batch id 401 loss 0.346224844455719 train acc 0.8801044264339152 acc 0.8801044264339152\n"
          ]
        },
        {
          "metadata": {
            "tags": null
          },
          "name": "stderr",
          "output_type": "stream",
          "text": [
            " 43%|████▎     | 602/1415 [01:56<02:37,  5.16it/s]"
          ]
        },
        {
          "metadata": {
            "tags": null
          },
          "name": "stdout",
          "output_type": "stream",
          "text": [
            "epoch 24 batch id 601 loss 0.4368273615837097 train acc 0.878821755407654 acc 0.878821755407654\n"
          ]
        },
        {
          "metadata": {
            "tags": null
          },
          "name": "stderr",
          "output_type": "stream",
          "text": [
            " 57%|█████▋    | 802/1415 [02:35<01:58,  5.18it/s]"
          ]
        },
        {
          "metadata": {
            "tags": null
          },
          "name": "stdout",
          "output_type": "stream",
          "text": [
            "epoch 24 batch id 801 loss 0.36351072788238525 train acc 0.8786087702871411 acc 0.8786087702871411\n"
          ]
        },
        {
          "metadata": {
            "tags": null
          },
          "name": "stderr",
          "output_type": "stream",
          "text": [
            " 71%|███████   | 1002/1415 [03:13<01:19,  5.16it/s]"
          ]
        },
        {
          "metadata": {
            "tags": null
          },
          "name": "stdout",
          "output_type": "stream",
          "text": [
            "epoch 24 batch id 1001 loss 0.3158574402332306 train acc 0.8784496753246753 acc 0.8784496753246753\n"
          ]
        },
        {
          "metadata": {
            "tags": null
          },
          "name": "stderr",
          "output_type": "stream",
          "text": [
            " 85%|████████▍ | 1202/1415 [03:52<00:41,  5.18it/s]"
          ]
        },
        {
          "metadata": {
            "tags": null
          },
          "name": "stdout",
          "output_type": "stream",
          "text": [
            "epoch 24 batch id 1201 loss 0.2613736689090729 train acc 0.8783305578684429 acc 0.8783305578684429\n"
          ]
        },
        {
          "metadata": {
            "tags": null
          },
          "name": "stderr",
          "output_type": "stream",
          "text": [
            " 99%|█████████▉| 1402/1415 [04:31<00:02,  5.12it/s]"
          ]
        },
        {
          "metadata": {
            "tags": null
          },
          "name": "stdout",
          "output_type": "stream",
          "text": [
            "epoch 24 batch id 1401 loss 0.42169129848480225 train acc 0.8773532298358315 acc 0.8773532298358315\n"
          ]
        },
        {
          "metadata": {
            "tags": null
          },
          "name": "stderr",
          "output_type": "stream",
          "text": [
            "100%|██████████| 1415/1415 [04:33<00:00,  5.17it/s]\n"
          ]
        },
        {
          "metadata": {
            "tags": null
          },
          "name": "stdout",
          "output_type": "stream",
          "text": [
            "epoch 24 train acc 0.8772865953409239 acc 0.8772865953409239\n"
          ]
        },
        {
          "metadata": {
            "tags": null
          },
          "name": "stderr",
          "output_type": "stream",
          "text": [
            "199it [00:16, 12.14it/s]\n"
          ]
        },
        {
          "metadata": {
            "tags": null
          },
          "name": "stdout",
          "output_type": "stream",
          "text": [
            "****************Epoch : 24 Test 정확도 **************** \n",
            "\n",
            "5중분류 정확도 : 0.38 \n",
            "\n",
            "3중분류 정확도 : 0.48 \n",
            "\n",
            "이진분류 정확도 : 0.62 \n",
            "\n"
          ]
        },
        {
          "metadata": {
            "tags": null
          },
          "name": "stderr",
          "output_type": "stream",
          "text": [
            "  0%|          | 1/1415 [00:00<12:40,  1.86it/s]"
          ]
        },
        {
          "metadata": {
            "tags": null
          },
          "name": "stdout",
          "output_type": "stream",
          "text": [
            "epoch 25 batch id 1 loss 0.3573014736175537 train acc 0.828125 acc 0.828125\n"
          ]
        },
        {
          "metadata": {
            "tags": null
          },
          "name": "stderr",
          "output_type": "stream",
          "text": [
            " 14%|█▍        | 202/1415 [00:39<03:53,  5.19it/s]"
          ]
        },
        {
          "metadata": {
            "tags": null
          },
          "name": "stdout",
          "output_type": "stream",
          "text": [
            "epoch 25 batch id 201 loss 0.3303352892398834 train acc 0.8808302238805971 acc 0.8808302238805971\n"
          ]
        },
        {
          "metadata": {
            "tags": null
          },
          "name": "stderr",
          "output_type": "stream",
          "text": [
            " 28%|██▊       | 402/1415 [01:17<03:15,  5.17it/s]"
          ]
        },
        {
          "metadata": {
            "tags": null
          },
          "name": "stdout",
          "output_type": "stream",
          "text": [
            "epoch 25 batch id 401 loss 0.2736131548881531 train acc 0.8821695760598504 acc 0.8821695760598504\n"
          ]
        },
        {
          "metadata": {
            "tags": null
          },
          "name": "stderr",
          "output_type": "stream",
          "text": [
            " 43%|████▎     | 602/1415 [01:56<02:37,  5.15it/s]"
          ]
        },
        {
          "metadata": {
            "tags": null
          },
          "name": "stdout",
          "output_type": "stream",
          "text": [
            "epoch 25 batch id 601 loss 0.1268988996744156 train acc 0.8828514975041597 acc 0.8828514975041597\n"
          ]
        },
        {
          "metadata": {
            "tags": null
          },
          "name": "stderr",
          "output_type": "stream",
          "text": [
            " 57%|█████▋    | 802/1415 [02:35<01:59,  5.12it/s]"
          ]
        },
        {
          "metadata": {
            "tags": null
          },
          "name": "stdout",
          "output_type": "stream",
          "text": [
            "epoch 25 batch id 801 loss 0.3584470748901367 train acc 0.8823931023720349 acc 0.8823931023720349\n"
          ]
        },
        {
          "metadata": {
            "tags": null
          },
          "name": "stderr",
          "output_type": "stream",
          "text": [
            " 71%|███████   | 1002/1415 [03:14<01:19,  5.17it/s]"
          ]
        },
        {
          "metadata": {
            "tags": null
          },
          "name": "stdout",
          "output_type": "stream",
          "text": [
            "epoch 25 batch id 1001 loss 0.23929771780967712 train acc 0.8817900849150849 acc 0.8817900849150849\n"
          ]
        },
        {
          "metadata": {
            "tags": null
          },
          "name": "stderr",
          "output_type": "stream",
          "text": [
            " 85%|████████▍ | 1202/1415 [03:52<00:41,  5.19it/s]"
          ]
        },
        {
          "metadata": {
            "tags": null
          },
          "name": "stdout",
          "output_type": "stream",
          "text": [
            "epoch 25 batch id 1201 loss 0.3198468089103699 train acc 0.8818432556203164 acc 0.8818432556203164\n"
          ]
        },
        {
          "metadata": {
            "tags": null
          },
          "name": "stderr",
          "output_type": "stream",
          "text": [
            " 99%|█████████▉| 1402/1415 [04:31<00:02,  5.15it/s]"
          ]
        },
        {
          "metadata": {
            "tags": null
          },
          "name": "stdout",
          "output_type": "stream",
          "text": [
            "epoch 25 batch id 1401 loss 0.2818702161312103 train acc 0.8811674696645253 acc 0.8811674696645253\n"
          ]
        },
        {
          "metadata": {
            "tags": null
          },
          "name": "stderr",
          "output_type": "stream",
          "text": [
            "100%|██████████| 1415/1415 [04:33<00:00,  5.17it/s]\n"
          ]
        },
        {
          "metadata": {
            "tags": null
          },
          "name": "stdout",
          "output_type": "stream",
          "text": [
            "epoch 25 train acc 0.88103692252323 acc 0.88103692252323\n"
          ]
        },
        {
          "metadata": {
            "tags": null
          },
          "name": "stderr",
          "output_type": "stream",
          "text": [
            "199it [00:16, 12.17it/s]\n"
          ]
        },
        {
          "metadata": {
            "tags": null
          },
          "name": "stdout",
          "output_type": "stream",
          "text": [
            "****************Epoch : 25 Test 정확도 **************** \n",
            "\n",
            "5중분류 정확도 : 0.29 \n",
            "\n",
            "3중분류 정확도 : 0.43 \n",
            "\n",
            "이진분류 정확도 : 0.52 \n",
            "\n"
          ]
        },
        {
          "metadata": {
            "tags": null
          },
          "name": "stderr",
          "output_type": "stream",
          "text": [
            "  0%|          | 2/1415 [00:00<08:18,  2.84it/s]"
          ]
        },
        {
          "metadata": {
            "tags": null
          },
          "name": "stdout",
          "output_type": "stream",
          "text": [
            "epoch 26 batch id 1 loss 0.2990819215774536 train acc 0.890625 acc 0.890625\n"
          ]
        },
        {
          "metadata": {
            "tags": null
          },
          "name": "stderr",
          "output_type": "stream",
          "text": [
            " 14%|█▍        | 202/1415 [00:39<03:54,  5.16it/s]"
          ]
        },
        {
          "metadata": {
            "tags": null
          },
          "name": "stdout",
          "output_type": "stream",
          "text": [
            "epoch 26 batch id 201 loss 0.26779699325561523 train acc 0.886660447761194 acc 0.886660447761194\n"
          ]
        },
        {
          "metadata": {
            "tags": null
          },
          "name": "stderr",
          "output_type": "stream",
          "text": [
            " 28%|██▊       | 402/1415 [01:17<03:16,  5.16it/s]"
          ]
        },
        {
          "metadata": {
            "tags": null
          },
          "name": "stdout",
          "output_type": "stream",
          "text": [
            "epoch 26 batch id 401 loss 0.20556364953517914 train acc 0.8847023067331671 acc 0.8847023067331671\n"
          ]
        },
        {
          "metadata": {
            "tags": null
          },
          "name": "stderr",
          "output_type": "stream",
          "text": [
            " 43%|████▎     | 602/1415 [01:56<02:38,  5.14it/s]"
          ]
        },
        {
          "metadata": {
            "tags": null
          },
          "name": "stdout",
          "output_type": "stream",
          "text": [
            "epoch 26 batch id 601 loss 0.33936333656311035 train acc 0.8842814059900166 acc 0.8842814059900166\n"
          ]
        },
        {
          "metadata": {
            "tags": null
          },
          "name": "stderr",
          "output_type": "stream",
          "text": [
            " 57%|█████▋    | 802/1415 [02:35<01:59,  5.15it/s]"
          ]
        },
        {
          "metadata": {
            "tags": null
          },
          "name": "stdout",
          "output_type": "stream",
          "text": [
            "epoch 26 batch id 801 loss 0.19943003356456757 train acc 0.8837585830212235 acc 0.8837585830212235\n"
          ]
        },
        {
          "metadata": {
            "tags": null
          },
          "name": "stderr",
          "output_type": "stream",
          "text": [
            " 71%|███████   | 1002/1415 [03:13<01:19,  5.17it/s]"
          ]
        },
        {
          "metadata": {
            "tags": null
          },
          "name": "stdout",
          "output_type": "stream",
          "text": [
            "epoch 26 batch id 1001 loss 0.20657947659492493 train acc 0.8835227272727273 acc 0.8835227272727273\n"
          ]
        },
        {
          "metadata": {
            "tags": null
          },
          "name": "stderr",
          "output_type": "stream",
          "text": [
            " 85%|████████▍ | 1202/1415 [03:52<00:41,  5.18it/s]"
          ]
        },
        {
          "metadata": {
            "tags": null
          },
          "name": "stdout",
          "output_type": "stream",
          "text": [
            "epoch 26 batch id 1201 loss 0.46757277846336365 train acc 0.8823116153205662 acc 0.8823116153205662\n"
          ]
        },
        {
          "metadata": {
            "tags": null
          },
          "name": "stderr",
          "output_type": "stream",
          "text": [
            " 99%|█████████▉| 1402/1415 [04:31<00:02,  5.17it/s]"
          ]
        },
        {
          "metadata": {
            "tags": null
          },
          "name": "stdout",
          "output_type": "stream",
          "text": [
            "epoch 26 batch id 1401 loss 0.4471549987792969 train acc 0.8818812455389008 acc 0.8818812455389008\n"
          ]
        },
        {
          "metadata": {
            "tags": null
          },
          "name": "stderr",
          "output_type": "stream",
          "text": [
            "100%|██████████| 1415/1415 [04:33<00:00,  5.17it/s]\n"
          ]
        },
        {
          "metadata": {
            "tags": null
          },
          "name": "stdout",
          "output_type": "stream",
          "text": [
            "epoch 26 train acc 0.88206100314095 acc 0.88206100314095\n"
          ]
        },
        {
          "metadata": {
            "tags": null
          },
          "name": "stderr",
          "output_type": "stream",
          "text": [
            "199it [00:16, 12.13it/s]\n"
          ]
        },
        {
          "metadata": {
            "tags": null
          },
          "name": "stdout",
          "output_type": "stream",
          "text": [
            "****************Epoch : 26 Test 정확도 **************** \n",
            "\n",
            "5중분류 정확도 : 0.43 \n",
            "\n",
            "3중분류 정확도 : 0.57 \n",
            "\n",
            "이진분류 정확도 : 0.57 \n",
            "\n"
          ]
        },
        {
          "metadata": {
            "tags": null
          },
          "name": "stderr",
          "output_type": "stream",
          "text": [
            "  0%|          | 2/1415 [00:00<08:04,  2.92it/s]"
          ]
        },
        {
          "metadata": {
            "tags": null
          },
          "name": "stdout",
          "output_type": "stream",
          "text": [
            "epoch 27 batch id 1 loss 0.4005037546157837 train acc 0.875 acc 0.875\n"
          ]
        },
        {
          "metadata": {
            "tags": null
          },
          "name": "stderr",
          "output_type": "stream",
          "text": [
            " 14%|█▍        | 202/1415 [00:39<03:53,  5.19it/s]"
          ]
        },
        {
          "metadata": {
            "tags": null
          },
          "name": "stdout",
          "output_type": "stream",
          "text": [
            "epoch 27 batch id 201 loss 0.21586036682128906 train acc 0.8868159203980099 acc 0.8868159203980099\n"
          ]
        },
        {
          "metadata": {
            "tags": null
          },
          "name": "stderr",
          "output_type": "stream",
          "text": [
            " 28%|██▊       | 402/1415 [01:18<03:15,  5.17it/s]"
          ]
        },
        {
          "metadata": {
            "tags": null
          },
          "name": "stdout",
          "output_type": "stream",
          "text": [
            "epoch 27 batch id 401 loss 0.3445470929145813 train acc 0.8870791770573566 acc 0.8870791770573566\n"
          ]
        },
        {
          "metadata": {
            "tags": null
          },
          "name": "stderr",
          "output_type": "stream",
          "text": [
            " 43%|████▎     | 602/1415 [01:56<02:38,  5.12it/s]"
          ]
        },
        {
          "metadata": {
            "tags": null
          },
          "name": "stdout",
          "output_type": "stream",
          "text": [
            "epoch 27 batch id 601 loss 0.36492422223091125 train acc 0.8856073211314476 acc 0.8856073211314476\n"
          ]
        },
        {
          "metadata": {
            "tags": null
          },
          "name": "stderr",
          "output_type": "stream",
          "text": [
            " 57%|█████▋    | 802/1415 [02:35<01:59,  5.14it/s]"
          ]
        },
        {
          "metadata": {
            "tags": null
          },
          "name": "stdout",
          "output_type": "stream",
          "text": [
            "epoch 27 batch id 801 loss 0.16413167119026184 train acc 0.8853581460674157 acc 0.8853581460674157\n"
          ]
        },
        {
          "metadata": {
            "tags": null
          },
          "name": "stderr",
          "output_type": "stream",
          "text": [
            " 71%|███████   | 1002/1415 [03:14<01:19,  5.17it/s]"
          ]
        },
        {
          "metadata": {
            "tags": null
          },
          "name": "stdout",
          "output_type": "stream",
          "text": [
            "epoch 27 batch id 1001 loss 0.3180306851863861 train acc 0.8848026973026973 acc 0.8848026973026973\n"
          ]
        },
        {
          "metadata": {
            "tags": null
          },
          "name": "stderr",
          "output_type": "stream",
          "text": [
            " 85%|████████▍ | 1202/1415 [03:52<00:41,  5.17it/s]"
          ]
        },
        {
          "metadata": {
            "tags": null
          },
          "name": "stdout",
          "output_type": "stream",
          "text": [
            "epoch 27 batch id 1201 loss 0.17068162560462952 train acc 0.8839378642797668 acc 0.8839378642797668\n"
          ]
        },
        {
          "metadata": {
            "tags": null
          },
          "name": "stderr",
          "output_type": "stream",
          "text": [
            " 99%|█████████▉| 1402/1415 [04:31<00:02,  5.20it/s]"
          ]
        },
        {
          "metadata": {
            "tags": null
          },
          "name": "stdout",
          "output_type": "stream",
          "text": [
            "epoch 27 batch id 1401 loss 0.31246092915534973 train acc 0.8830634368308351 acc 0.8830634368308351\n"
          ]
        },
        {
          "metadata": {
            "tags": null
          },
          "name": "stderr",
          "output_type": "stream",
          "text": [
            "100%|██████████| 1415/1415 [04:34<00:00,  5.16it/s]\n"
          ]
        },
        {
          "metadata": {
            "tags": null
          },
          "name": "stdout",
          "output_type": "stream",
          "text": [
            "epoch 27 train acc 0.8830204652532391 acc 0.8830204652532391\n"
          ]
        },
        {
          "metadata": {
            "tags": null
          },
          "name": "stderr",
          "output_type": "stream",
          "text": [
            "199it [00:16, 12.12it/s]\n"
          ]
        },
        {
          "metadata": {
            "tags": null
          },
          "name": "stdout",
          "output_type": "stream",
          "text": [
            "****************Epoch : 27 Test 정확도 **************** \n",
            "\n",
            "5중분류 정확도 : 0.48 \n",
            "\n",
            "3중분류 정확도 : 0.57 \n",
            "\n",
            "이진분류 정확도 : 0.67 \n",
            "\n"
          ]
        },
        {
          "metadata": {
            "tags": null
          },
          "name": "stderr",
          "output_type": "stream",
          "text": [
            "  0%|          | 2/1415 [00:00<08:01,  2.94it/s]"
          ]
        },
        {
          "metadata": {
            "tags": null
          },
          "name": "stdout",
          "output_type": "stream",
          "text": [
            "epoch 28 batch id 1 loss 0.326616108417511 train acc 0.890625 acc 0.890625\n"
          ]
        },
        {
          "metadata": {
            "tags": null
          },
          "name": "stderr",
          "output_type": "stream",
          "text": [
            " 14%|█▍        | 202/1415 [00:39<03:55,  5.14it/s]"
          ]
        },
        {
          "metadata": {
            "tags": null
          },
          "name": "stdout",
          "output_type": "stream",
          "text": [
            "epoch 28 batch id 201 loss 0.42230650782585144 train acc 0.8904695273631841 acc 0.8904695273631841\n"
          ]
        },
        {
          "metadata": {
            "tags": null
          },
          "name": "stderr",
          "output_type": "stream",
          "text": [
            " 28%|██▊       | 402/1415 [01:18<03:19,  5.07it/s]"
          ]
        },
        {
          "metadata": {
            "tags": null
          },
          "name": "stdout",
          "output_type": "stream",
          "text": [
            "epoch 28 batch id 401 loss 0.21175514161586761 train acc 0.8871571072319202 acc 0.8871571072319202\n"
          ]
        },
        {
          "metadata": {
            "tags": null
          },
          "name": "stderr",
          "output_type": "stream",
          "text": [
            " 43%|████▎     | 602/1415 [01:56<02:39,  5.11it/s]"
          ]
        },
        {
          "metadata": {
            "tags": null
          },
          "name": "stdout",
          "output_type": "stream",
          "text": [
            "epoch 28 batch id 601 loss 0.28497496247291565 train acc 0.886803244592346 acc 0.886803244592346\n"
          ]
        },
        {
          "metadata": {
            "tags": null
          },
          "name": "stderr",
          "output_type": "stream",
          "text": [
            " 57%|█████▋    | 801/1415 [02:35<01:58,  5.17it/s]"
          ]
        },
        {
          "metadata": {
            "tags": null
          },
          "name": "stdout",
          "output_type": "stream",
          "text": [
            "epoch 28 batch id 801 loss 0.19563081860542297 train acc 0.8866065855181023 acc 0.8866065855181023\n"
          ]
        },
        {
          "metadata": {
            "tags": null
          },
          "name": "stderr",
          "output_type": "stream",
          "text": [
            " 71%|███████   | 1002/1415 [03:14<01:19,  5.17it/s]"
          ]
        },
        {
          "metadata": {
            "tags": null
          },
          "name": "stdout",
          "output_type": "stream",
          "text": [
            "epoch 28 batch id 1001 loss 0.30727723240852356 train acc 0.8858641358641358 acc 0.8858641358641358\n"
          ]
        },
        {
          "metadata": {
            "tags": null
          },
          "name": "stderr",
          "output_type": "stream",
          "text": [
            " 85%|████████▍ | 1202/1415 [03:52<00:41,  5.19it/s]"
          ]
        },
        {
          "metadata": {
            "tags": null
          },
          "name": "stdout",
          "output_type": "stream",
          "text": [
            "epoch 28 batch id 1201 loss 0.29579800367355347 train acc 0.8854079933388843 acc 0.8854079933388843\n"
          ]
        },
        {
          "metadata": {
            "tags": null
          },
          "name": "stderr",
          "output_type": "stream",
          "text": [
            " 99%|█████████▉| 1402/1415 [04:31<00:02,  5.19it/s]"
          ]
        },
        {
          "metadata": {
            "tags": null
          },
          "name": "stdout",
          "output_type": "stream",
          "text": [
            "epoch 28 batch id 1401 loss 0.3407805263996124 train acc 0.8845802105638829 acc 0.8845802105638829\n"
          ]
        },
        {
          "metadata": {
            "tags": null
          },
          "name": "stderr",
          "output_type": "stream",
          "text": [
            "100%|██████████| 1415/1415 [04:34<00:00,  5.16it/s]\n"
          ]
        },
        {
          "metadata": {
            "tags": null
          },
          "name": "stdout",
          "output_type": "stream",
          "text": [
            "epoch 28 train acc 0.8846457433581992 acc 0.8846457433581992\n"
          ]
        },
        {
          "metadata": {
            "tags": null
          },
          "name": "stderr",
          "output_type": "stream",
          "text": [
            "199it [00:16, 12.15it/s]\n"
          ]
        },
        {
          "metadata": {
            "tags": null
          },
          "name": "stdout",
          "output_type": "stream",
          "text": [
            "****************Epoch : 28 Test 정확도 **************** \n",
            "\n",
            "5중분류 정확도 : 0.24 \n",
            "\n",
            "3중분류 정확도 : 0.33 \n",
            "\n",
            "이진분류 정확도 : 0.52 \n",
            "\n"
          ]
        },
        {
          "metadata": {
            "tags": null
          },
          "name": "stderr",
          "output_type": "stream",
          "text": [
            "  0%|          | 1/1415 [00:00<12:43,  1.85it/s]"
          ]
        },
        {
          "metadata": {
            "tags": null
          },
          "name": "stdout",
          "output_type": "stream",
          "text": [
            "epoch 29 batch id 1 loss 0.21465928852558136 train acc 0.921875 acc 0.921875\n"
          ]
        },
        {
          "metadata": {
            "tags": null
          },
          "name": "stderr",
          "output_type": "stream",
          "text": [
            " 14%|█▍        | 202/1415 [00:39<03:54,  5.16it/s]"
          ]
        },
        {
          "metadata": {
            "tags": null
          },
          "name": "stdout",
          "output_type": "stream",
          "text": [
            "epoch 29 batch id 201 loss 0.390654981136322 train acc 0.894356343283582 acc 0.894356343283582\n"
          ]
        },
        {
          "metadata": {
            "tags": null
          },
          "name": "stderr",
          "output_type": "stream",
          "text": [
            " 28%|██▊       | 402/1415 [01:18<03:14,  5.20it/s]"
          ]
        },
        {
          "metadata": {
            "tags": null
          },
          "name": "stdout",
          "output_type": "stream",
          "text": [
            "epoch 29 batch id 401 loss 0.21040651202201843 train acc 0.892534289276808 acc 0.892534289276808\n"
          ]
        },
        {
          "metadata": {
            "tags": null
          },
          "name": "stderr",
          "output_type": "stream",
          "text": [
            " 43%|████▎     | 602/1415 [01:56<02:37,  5.17it/s]"
          ]
        },
        {
          "metadata": {
            "tags": null
          },
          "name": "stdout",
          "output_type": "stream",
          "text": [
            "epoch 29 batch id 601 loss 0.30296212434768677 train acc 0.8898970465890182 acc 0.8898970465890182\n"
          ]
        },
        {
          "metadata": {
            "tags": null
          },
          "name": "stderr",
          "output_type": "stream",
          "text": [
            " 57%|█████▋    | 802/1415 [02:35<01:58,  5.18it/s]"
          ]
        },
        {
          "metadata": {
            "tags": null
          },
          "name": "stdout",
          "output_type": "stream",
          "text": [
            "epoch 29 batch id 801 loss 0.24212521314620972 train acc 0.8889474094881398 acc 0.8889474094881398\n"
          ]
        },
        {
          "metadata": {
            "tags": null
          },
          "name": "stderr",
          "output_type": "stream",
          "text": [
            " 71%|███████   | 1002/1415 [03:14<01:19,  5.18it/s]"
          ]
        },
        {
          "metadata": {
            "tags": null
          },
          "name": "stdout",
          "output_type": "stream",
          "text": [
            "epoch 29 batch id 1001 loss 0.1911366730928421 train acc 0.8884396853146853 acc 0.8884396853146853\n"
          ]
        },
        {
          "metadata": {
            "tags": null
          },
          "name": "stderr",
          "output_type": "stream",
          "text": [
            " 85%|████████▍ | 1202/1415 [03:52<00:41,  5.17it/s]"
          ]
        },
        {
          "metadata": {
            "tags": null
          },
          "name": "stdout",
          "output_type": "stream",
          "text": [
            "epoch 29 batch id 1201 loss 0.16542257368564606 train acc 0.8881270815986678 acc 0.8881270815986678\n"
          ]
        },
        {
          "metadata": {
            "tags": null
          },
          "name": "stderr",
          "output_type": "stream",
          "text": [
            " 99%|█████████▉| 1402/1415 [04:31<00:02,  5.18it/s]"
          ]
        },
        {
          "metadata": {
            "tags": null
          },
          "name": "stdout",
          "output_type": "stream",
          "text": [
            "epoch 29 batch id 1401 loss 0.5197962522506714 train acc 0.8873460920770878 acc 0.8873460920770878\n"
          ]
        },
        {
          "metadata": {
            "tags": null
          },
          "name": "stderr",
          "output_type": "stream",
          "text": [
            "100%|██████████| 1415/1415 [04:33<00:00,  5.17it/s]\n"
          ]
        },
        {
          "metadata": {
            "tags": null
          },
          "name": "stdout",
          "output_type": "stream",
          "text": [
            "epoch 29 train acc 0.8873270023557126 acc 0.8873270023557126\n"
          ]
        },
        {
          "metadata": {
            "tags": null
          },
          "name": "stderr",
          "output_type": "stream",
          "text": [
            "199it [00:16, 12.11it/s]\n"
          ]
        },
        {
          "metadata": {
            "tags": null
          },
          "name": "stdout",
          "output_type": "stream",
          "text": [
            "****************Epoch : 29 Test 정확도 **************** \n",
            "\n",
            "5중분류 정확도 : 0.33 \n",
            "\n",
            "3중분류 정확도 : 0.43 \n",
            "\n",
            "이진분류 정확도 : 0.52 \n",
            "\n"
          ]
        },
        {
          "metadata": {
            "tags": null
          },
          "name": "stderr",
          "output_type": "stream",
          "text": [
            "  0%|          | 2/1415 [00:00<08:09,  2.89it/s]"
          ]
        },
        {
          "metadata": {
            "tags": null
          },
          "name": "stdout",
          "output_type": "stream",
          "text": [
            "epoch 30 batch id 1 loss 0.22029779851436615 train acc 0.9375 acc 0.9375\n"
          ]
        },
        {
          "metadata": {
            "tags": null
          },
          "name": "stderr",
          "output_type": "stream",
          "text": [
            " 14%|█▍        | 202/1415 [00:39<03:54,  5.18it/s]"
          ]
        },
        {
          "metadata": {
            "tags": null
          },
          "name": "stdout",
          "output_type": "stream",
          "text": [
            "epoch 30 batch id 201 loss 0.3162873089313507 train acc 0.896377487562189 acc 0.896377487562189\n"
          ]
        },
        {
          "metadata": {
            "tags": null
          },
          "name": "stderr",
          "output_type": "stream",
          "text": [
            " 28%|██▊       | 402/1415 [01:18<03:15,  5.17it/s]"
          ]
        },
        {
          "metadata": {
            "tags": null
          },
          "name": "stdout",
          "output_type": "stream",
          "text": [
            "epoch 30 batch id 401 loss 0.2188597172498703 train acc 0.8924173940149626 acc 0.8924173940149626\n"
          ]
        },
        {
          "metadata": {
            "tags": null
          },
          "name": "stderr",
          "output_type": "stream",
          "text": [
            " 43%|████▎     | 602/1415 [01:56<02:39,  5.10it/s]"
          ]
        },
        {
          "metadata": {
            "tags": null
          },
          "name": "stdout",
          "output_type": "stream",
          "text": [
            "epoch 30 batch id 601 loss 0.20546220242977142 train acc 0.8917689267886856 acc 0.8917689267886856\n"
          ]
        },
        {
          "metadata": {
            "tags": null
          },
          "name": "stderr",
          "output_type": "stream",
          "text": [
            " 57%|█████▋    | 801/1415 [02:35<01:57,  5.21it/s]"
          ]
        },
        {
          "metadata": {
            "tags": null
          },
          "name": "stdout",
          "output_type": "stream",
          "text": [
            "epoch 30 batch id 801 loss 0.4057343602180481 train acc 0.8912102059925093 acc 0.8912102059925093\n"
          ]
        },
        {
          "metadata": {
            "tags": null
          },
          "name": "stderr",
          "output_type": "stream",
          "text": [
            " 71%|███████   | 1002/1415 [03:13<01:19,  5.22it/s]"
          ]
        },
        {
          "metadata": {
            "tags": null
          },
          "name": "stdout",
          "output_type": "stream",
          "text": [
            "epoch 30 batch id 1001 loss 0.27094537019729614 train acc 0.8914210789210789 acc 0.8914210789210789\n"
          ]
        },
        {
          "metadata": {
            "tags": null
          },
          "name": "stderr",
          "output_type": "stream",
          "text": [
            " 85%|████████▍ | 1202/1415 [03:52<00:41,  5.17it/s]"
          ]
        },
        {
          "metadata": {
            "tags": null
          },
          "name": "stdout",
          "output_type": "stream",
          "text": [
            "epoch 30 batch id 1201 loss 0.27042829990386963 train acc 0.890559950041632 acc 0.890559950041632\n"
          ]
        },
        {
          "metadata": {
            "tags": null
          },
          "name": "stderr",
          "output_type": "stream",
          "text": [
            " 99%|█████████▉| 1402/1415 [04:31<00:02,  5.14it/s]"
          ]
        },
        {
          "metadata": {
            "tags": null
          },
          "name": "stdout",
          "output_type": "stream",
          "text": [
            "epoch 30 batch id 1401 loss 0.3300846815109253 train acc 0.889866613133476 acc 0.889866613133476\n"
          ]
        },
        {
          "metadata": {
            "tags": null
          },
          "name": "stderr",
          "output_type": "stream",
          "text": [
            "100%|██████████| 1415/1415 [04:33<00:00,  5.17it/s]\n"
          ]
        },
        {
          "metadata": {
            "tags": null
          },
          "name": "stdout",
          "output_type": "stream",
          "text": [
            "epoch 30 train acc 0.8895968296034551 acc 0.8895968296034551\n"
          ]
        },
        {
          "metadata": {
            "tags": null
          },
          "name": "stderr",
          "output_type": "stream",
          "text": [
            "199it [00:16, 12.12it/s]\n"
          ]
        },
        {
          "metadata": {
            "tags": null
          },
          "name": "stdout",
          "output_type": "stream",
          "text": [
            "****************Epoch : 30 Test 정확도 **************** \n",
            "\n",
            "5중분류 정확도 : 0.29 \n",
            "\n",
            "3중분류 정확도 : 0.43 \n",
            "\n",
            "이진분류 정확도 : 0.57 \n",
            "\n"
          ]
        },
        {
          "metadata": {
            "tags": null
          },
          "name": "stderr",
          "output_type": "stream",
          "text": [
            "  0%|          | 1/1415 [00:00<12:57,  1.82it/s]"
          ]
        },
        {
          "metadata": {
            "tags": null
          },
          "name": "stdout",
          "output_type": "stream",
          "text": [
            "epoch 31 batch id 1 loss 0.22272330522537231 train acc 0.9375 acc 0.9375\n"
          ]
        },
        {
          "metadata": {
            "tags": null
          },
          "name": "stderr",
          "output_type": "stream",
          "text": [
            " 14%|█▍        | 202/1415 [00:39<03:53,  5.20it/s]"
          ]
        },
        {
          "metadata": {
            "tags": null
          },
          "name": "stdout",
          "output_type": "stream",
          "text": [
            "epoch 31 batch id 201 loss 0.2891591489315033 train acc 0.9009639303482587 acc 0.9009639303482587\n"
          ]
        },
        {
          "metadata": {
            "tags": null
          },
          "name": "stderr",
          "output_type": "stream",
          "text": [
            " 28%|██▊       | 402/1415 [01:18<03:15,  5.19it/s]"
          ]
        },
        {
          "metadata": {
            "tags": null
          },
          "name": "stdout",
          "output_type": "stream",
          "text": [
            "epoch 31 batch id 401 loss 0.2645707428455353 train acc 0.896158042394015 acc 0.896158042394015\n"
          ]
        },
        {
          "metadata": {
            "tags": null
          },
          "name": "stderr",
          "output_type": "stream",
          "text": [
            " 43%|████▎     | 602/1415 [01:56<02:36,  5.18it/s]"
          ]
        },
        {
          "metadata": {
            "tags": null
          },
          "name": "stdout",
          "output_type": "stream",
          "text": [
            "epoch 31 batch id 601 loss 0.12469648569822311 train acc 0.8956686772046589 acc 0.8956686772046589\n"
          ]
        },
        {
          "metadata": {
            "tags": null
          },
          "name": "stderr",
          "output_type": "stream",
          "text": [
            " 57%|█████▋    | 802/1415 [02:35<01:58,  5.17it/s]"
          ]
        },
        {
          "metadata": {
            "tags": null
          },
          "name": "stdout",
          "output_type": "stream",
          "text": [
            "epoch 31 batch id 801 loss 0.4474722146987915 train acc 0.8949360174781523 acc 0.8949360174781523\n"
          ]
        },
        {
          "metadata": {
            "tags": null
          },
          "name": "stderr",
          "output_type": "stream",
          "text": [
            " 71%|███████   | 1002/1415 [03:13<01:19,  5.18it/s]"
          ]
        },
        {
          "metadata": {
            "tags": null
          },
          "name": "stdout",
          "output_type": "stream",
          "text": [
            "epoch 31 batch id 1001 loss 0.34988075494766235 train acc 0.8943868631368631 acc 0.8943868631368631\n"
          ]
        },
        {
          "metadata": {
            "tags": null
          },
          "name": "stderr",
          "output_type": "stream",
          "text": [
            " 85%|████████▍ | 1202/1415 [03:52<00:41,  5.19it/s]"
          ]
        },
        {
          "metadata": {
            "tags": null
          },
          "name": "stdout",
          "output_type": "stream",
          "text": [
            "epoch 31 batch id 1201 loss 0.29646629095077515 train acc 0.8941637177352206 acc 0.8941637177352206\n"
          ]
        },
        {
          "metadata": {
            "tags": null
          },
          "name": "stderr",
          "output_type": "stream",
          "text": [
            " 99%|█████████▉| 1402/1415 [04:31<00:02,  5.20it/s]"
          ]
        },
        {
          "metadata": {
            "tags": null
          },
          "name": "stdout",
          "output_type": "stream",
          "text": [
            "epoch 31 batch id 1401 loss 0.5065276622772217 train acc 0.8933574232690935 acc 0.8933574232690935\n"
          ]
        },
        {
          "metadata": {
            "tags": null
          },
          "name": "stderr",
          "output_type": "stream",
          "text": [
            "100%|██████████| 1415/1415 [04:33<00:00,  5.17it/s]\n"
          ]
        },
        {
          "metadata": {
            "tags": null
          },
          "name": "stdout",
          "output_type": "stream",
          "text": [
            "epoch 31 train acc 0.8932849921476247 acc 0.8932849921476247\n"
          ]
        },
        {
          "metadata": {
            "tags": null
          },
          "name": "stderr",
          "output_type": "stream",
          "text": [
            "199it [00:16, 12.11it/s]\n"
          ]
        },
        {
          "metadata": {
            "tags": null
          },
          "name": "stdout",
          "output_type": "stream",
          "text": [
            "****************Epoch : 31 Test 정확도 **************** \n",
            "\n",
            "5중분류 정확도 : 0.29 \n",
            "\n",
            "3중분류 정확도 : 0.43 \n",
            "\n",
            "이진분류 정확도 : 0.48 \n",
            "\n"
          ]
        },
        {
          "metadata": {
            "tags": null
          },
          "name": "stderr",
          "output_type": "stream",
          "text": [
            "  0%|          | 1/1415 [00:00<12:54,  1.83it/s]"
          ]
        },
        {
          "metadata": {
            "tags": null
          },
          "name": "stdout",
          "output_type": "stream",
          "text": [
            "epoch 32 batch id 1 loss 0.24604757130146027 train acc 0.90625 acc 0.90625\n"
          ]
        },
        {
          "metadata": {
            "tags": null
          },
          "name": "stderr",
          "output_type": "stream",
          "text": [
            " 14%|█▍        | 202/1415 [00:39<03:54,  5.17it/s]"
          ]
        },
        {
          "metadata": {
            "tags": null
          },
          "name": "stdout",
          "output_type": "stream",
          "text": [
            "epoch 32 batch id 201 loss 0.277925968170166 train acc 0.9006529850746269 acc 0.9006529850746269\n"
          ]
        },
        {
          "metadata": {
            "tags": null
          },
          "name": "stderr",
          "output_type": "stream",
          "text": [
            " 28%|██▊       | 402/1415 [01:18<03:15,  5.19it/s]"
          ]
        },
        {
          "metadata": {
            "tags": null
          },
          "name": "stdout",
          "output_type": "stream",
          "text": [
            "epoch 32 batch id 401 loss 0.19598563015460968 train acc 0.8958073566084788 acc 0.8958073566084788\n"
          ]
        },
        {
          "metadata": {
            "tags": null
          },
          "name": "stderr",
          "output_type": "stream",
          "text": [
            " 43%|████▎     | 602/1415 [01:56<02:38,  5.14it/s]"
          ]
        },
        {
          "metadata": {
            "tags": null
          },
          "name": "stdout",
          "output_type": "stream",
          "text": [
            "epoch 32 batch id 601 loss 0.21857309341430664 train acc 0.8955906821963394 acc 0.8955906821963394\n"
          ]
        },
        {
          "metadata": {
            "tags": null
          },
          "name": "stderr",
          "output_type": "stream",
          "text": [
            " 57%|█████▋    | 802/1415 [02:35<01:58,  5.19it/s]"
          ]
        },
        {
          "metadata": {
            "tags": null
          },
          "name": "stdout",
          "output_type": "stream",
          "text": [
            "epoch 32 batch id 801 loss 0.25060102343559265 train acc 0.896145443196005 acc 0.896145443196005\n"
          ]
        },
        {
          "metadata": {
            "tags": null
          },
          "name": "stderr",
          "output_type": "stream",
          "text": [
            " 71%|███████   | 1002/1415 [03:13<01:19,  5.18it/s]"
          ]
        },
        {
          "metadata": {
            "tags": null
          },
          "name": "stdout",
          "output_type": "stream",
          "text": [
            "epoch 32 batch id 1001 loss 0.2455064356327057 train acc 0.8961038961038961 acc 0.8961038961038961\n"
          ]
        },
        {
          "metadata": {
            "tags": null
          },
          "name": "stderr",
          "output_type": "stream",
          "text": [
            " 85%|████████▍ | 1202/1415 [03:52<00:41,  5.19it/s]"
          ]
        },
        {
          "metadata": {
            "tags": null
          },
          "name": "stdout",
          "output_type": "stream",
          "text": [
            "epoch 32 batch id 1201 loss 0.13311171531677246 train acc 0.8955557868442964 acc 0.8955557868442964\n"
          ]
        },
        {
          "metadata": {
            "tags": null
          },
          "name": "stderr",
          "output_type": "stream",
          "text": [
            " 99%|█████████▉| 1402/1415 [04:31<00:02,  5.19it/s]"
          ]
        },
        {
          "metadata": {
            "tags": null
          },
          "name": "stdout",
          "output_type": "stream",
          "text": [
            "epoch 32 batch id 1401 loss 0.2873353064060211 train acc 0.8942273376159886 acc 0.8942273376159886\n"
          ]
        },
        {
          "metadata": {
            "tags": null
          },
          "name": "stderr",
          "output_type": "stream",
          "text": [
            "100%|██████████| 1415/1415 [04:33<00:00,  5.17it/s]\n"
          ]
        },
        {
          "metadata": {
            "tags": null
          },
          "name": "stdout",
          "output_type": "stream",
          "text": [
            "epoch 32 train acc 0.8941884242900144 acc 0.8941884242900144\n"
          ]
        },
        {
          "metadata": {
            "tags": null
          },
          "name": "stderr",
          "output_type": "stream",
          "text": [
            "199it [00:16, 12.17it/s]\n"
          ]
        },
        {
          "metadata": {
            "tags": null
          },
          "name": "stdout",
          "output_type": "stream",
          "text": [
            "****************Epoch : 32 Test 정확도 **************** \n",
            "\n",
            "5중분류 정확도 : 0.29 \n",
            "\n",
            "3중분류 정확도 : 0.38 \n",
            "\n",
            "이진분류 정확도 : 0.52 \n",
            "\n"
          ]
        },
        {
          "metadata": {
            "tags": null
          },
          "name": "stderr",
          "output_type": "stream",
          "text": [
            "  0%|          | 2/1415 [00:00<08:17,  2.84it/s]"
          ]
        },
        {
          "metadata": {
            "tags": null
          },
          "name": "stdout",
          "output_type": "stream",
          "text": [
            "epoch 33 batch id 1 loss 0.2579289972782135 train acc 0.9375 acc 0.9375\n"
          ]
        },
        {
          "metadata": {
            "tags": null
          },
          "name": "stderr",
          "output_type": "stream",
          "text": [
            " 14%|█▍        | 202/1415 [00:39<03:54,  5.17it/s]"
          ]
        },
        {
          "metadata": {
            "tags": null
          },
          "name": "stdout",
          "output_type": "stream",
          "text": [
            "epoch 33 batch id 201 loss 0.26632606983184814 train acc 0.900264303482587 acc 0.900264303482587\n"
          ]
        },
        {
          "metadata": {
            "tags": null
          },
          "name": "stderr",
          "output_type": "stream",
          "text": [
            " 28%|██▊       | 402/1415 [01:18<03:15,  5.18it/s]"
          ]
        },
        {
          "metadata": {
            "tags": null
          },
          "name": "stdout",
          "output_type": "stream",
          "text": [
            "epoch 33 batch id 401 loss 0.40877237915992737 train acc 0.8989245635910225 acc 0.8989245635910225\n"
          ]
        },
        {
          "metadata": {
            "tags": null
          },
          "name": "stderr",
          "output_type": "stream",
          "text": [
            " 43%|████▎     | 602/1415 [01:56<02:37,  5.15it/s]"
          ]
        },
        {
          "metadata": {
            "tags": null
          },
          "name": "stdout",
          "output_type": "stream",
          "text": [
            "epoch 33 batch id 601 loss 0.5495195984840393 train acc 0.8975665557404326 acc 0.8975665557404326\n"
          ]
        },
        {
          "metadata": {
            "tags": null
          },
          "name": "stderr",
          "output_type": "stream",
          "text": [
            " 57%|█████▋    | 802/1415 [02:35<01:58,  5.18it/s]"
          ]
        },
        {
          "metadata": {
            "tags": null
          },
          "name": "stdout",
          "output_type": "stream",
          "text": [
            "epoch 33 batch id 801 loss 0.2709421217441559 train acc 0.8969842384519351 acc 0.8969842384519351\n"
          ]
        },
        {
          "metadata": {
            "tags": null
          },
          "name": "stderr",
          "output_type": "stream",
          "text": [
            " 71%|███████   | 1002/1415 [03:14<01:20,  5.15it/s]"
          ]
        },
        {
          "metadata": {
            "tags": null
          },
          "name": "stdout",
          "output_type": "stream",
          "text": [
            "epoch 33 batch id 1001 loss 0.2837672233581543 train acc 0.8959321928071928 acc 0.8959321928071928\n"
          ]
        },
        {
          "metadata": {
            "tags": null
          },
          "name": "stderr",
          "output_type": "stream",
          "text": [
            " 85%|████████▍ | 1202/1415 [03:53<00:41,  5.16it/s]"
          ]
        },
        {
          "metadata": {
            "tags": null
          },
          "name": "stdout",
          "output_type": "stream",
          "text": [
            "epoch 33 batch id 1201 loss 0.3284599184989929 train acc 0.8954907368859284 acc 0.8954907368859284\n"
          ]
        },
        {
          "metadata": {
            "tags": null
          },
          "name": "stderr",
          "output_type": "stream",
          "text": [
            " 99%|█████████▉| 1402/1415 [04:31<00:02,  5.15it/s]"
          ]
        },
        {
          "metadata": {
            "tags": null
          },
          "name": "stdout",
          "output_type": "stream",
          "text": [
            "epoch 33 batch id 1401 loss 0.3074624538421631 train acc 0.8952980014275518 acc 0.8952980014275518\n"
          ]
        },
        {
          "metadata": {
            "tags": null
          },
          "name": "stderr",
          "output_type": "stream",
          "text": [
            "100%|██████████| 1415/1415 [04:34<00:00,  5.16it/s]\n"
          ]
        },
        {
          "metadata": {
            "tags": null
          },
          "name": "stdout",
          "output_type": "stream",
          "text": [
            "epoch 33 train acc 0.8951851033896087 acc 0.8951851033896087\n"
          ]
        },
        {
          "metadata": {
            "tags": null
          },
          "name": "stderr",
          "output_type": "stream",
          "text": [
            "199it [00:16, 12.07it/s]\n"
          ]
        },
        {
          "metadata": {
            "tags": null
          },
          "name": "stdout",
          "output_type": "stream",
          "text": [
            "****************Epoch : 33 Test 정확도 **************** \n",
            "\n",
            "5중분류 정확도 : 0.43 \n",
            "\n",
            "3중분류 정확도 : 0.52 \n",
            "\n",
            "이진분류 정확도 : 0.62 \n",
            "\n"
          ]
        },
        {
          "metadata": {
            "tags": null
          },
          "name": "stderr",
          "output_type": "stream",
          "text": [
            "  0%|          | 1/1415 [00:00<13:33,  1.74it/s]"
          ]
        },
        {
          "metadata": {
            "tags": null
          },
          "name": "stdout",
          "output_type": "stream",
          "text": [
            "epoch 34 batch id 1 loss 0.23639145493507385 train acc 0.875 acc 0.875\n"
          ]
        },
        {
          "metadata": {
            "tags": null
          },
          "name": "stderr",
          "output_type": "stream",
          "text": [
            " 14%|█▍        | 202/1415 [00:39<03:54,  5.18it/s]"
          ]
        },
        {
          "metadata": {
            "tags": null
          },
          "name": "stdout",
          "output_type": "stream",
          "text": [
            "epoch 34 batch id 201 loss 0.3420669734477997 train acc 0.9007307213930348 acc 0.9007307213930348\n"
          ]
        },
        {
          "metadata": {
            "tags": null
          },
          "name": "stderr",
          "output_type": "stream",
          "text": [
            " 28%|██▊       | 402/1415 [01:18<03:16,  5.16it/s]"
          ]
        },
        {
          "metadata": {
            "tags": null
          },
          "name": "stdout",
          "output_type": "stream",
          "text": [
            "epoch 34 batch id 401 loss 0.2169729322195053 train acc 0.9020807356608479 acc 0.9020807356608479\n"
          ]
        },
        {
          "metadata": {
            "tags": null
          },
          "name": "stderr",
          "output_type": "stream",
          "text": [
            " 43%|████▎     | 602/1415 [01:57<02:37,  5.17it/s]"
          ]
        },
        {
          "metadata": {
            "tags": null
          },
          "name": "stdout",
          "output_type": "stream",
          "text": [
            "epoch 34 batch id 601 loss 0.1641596406698227 train acc 0.9024542429284526 acc 0.9024542429284526\n"
          ]
        },
        {
          "output_type": "stream",
          "name": "stderr",
          "text": [
            " 57%|█████▋    | 802/1415 [02:35<01:58,  5.16it/s]"
          ]
        },
        {
          "output_type": "stream",
          "name": "stdout",
          "text": [
            "epoch 34 batch id 801 loss 0.3080179691314697 train acc 0.8991495006242197 acc 0.8991495006242197\n"
          ]
        },
        {
          "output_type": "stream",
          "name": "stderr",
          "text": [
            " 71%|███████   | 1002/1415 [03:14<01:19,  5.16it/s]"
          ]
        },
        {
          "output_type": "stream",
          "name": "stdout",
          "text": [
            "epoch 34 batch id 1001 loss 0.12938401103019714 train acc 0.8992882117882118 acc 0.8992882117882118\n"
          ]
        },
        {
          "output_type": "stream",
          "name": "stderr",
          "text": [
            " 85%|████████▍ | 1202/1415 [03:53<00:41,  5.15it/s]"
          ]
        },
        {
          "output_type": "stream",
          "name": "stdout",
          "text": [
            "epoch 34 batch id 1201 loss 0.37478697299957275 train acc 0.8982748751040799 acc 0.8982748751040799\n"
          ]
        },
        {
          "output_type": "stream",
          "name": "stderr",
          "text": [
            " 99%|█████████▉| 1402/1415 [04:32<00:02,  5.15it/s]"
          ]
        },
        {
          "output_type": "stream",
          "name": "stdout",
          "text": [
            "epoch 34 batch id 1401 loss 0.35325148701667786 train acc 0.8975954675231977 acc 0.8975954675231977\n"
          ]
        },
        {
          "output_type": "stream",
          "name": "stderr",
          "text": [
            "100%|██████████| 1415/1415 [04:34<00:00,  5.15it/s]\n"
          ]
        },
        {
          "output_type": "stream",
          "name": "stdout",
          "text": [
            "epoch 34 train acc 0.897508097762073 acc 0.897508097762073\n"
          ]
        },
        {
          "output_type": "stream",
          "name": "stderr",
          "text": [
            "199it [00:16, 12.00it/s]\n"
          ]
        },
        {
          "output_type": "stream",
          "name": "stdout",
          "text": [
            "****************Epoch : 34 Test 정확도 **************** \n",
            "\n",
            "5중분류 정확도 : 0.33 \n",
            "\n",
            "3중분류 정확도 : 0.43 \n",
            "\n",
            "이진분류 정확도 : 0.67 \n",
            "\n"
          ]
        },
        {
          "output_type": "stream",
          "name": "stderr",
          "text": [
            "  0%|          | 1/1415 [00:00<13:28,  1.75it/s]"
          ]
        },
        {
          "output_type": "stream",
          "name": "stdout",
          "text": [
            "epoch 35 batch id 1 loss 0.17086684703826904 train acc 0.921875 acc 0.921875\n"
          ]
        },
        {
          "output_type": "stream",
          "name": "stderr",
          "text": [
            " 14%|█▍        | 202/1415 [00:39<03:54,  5.18it/s]"
          ]
        },
        {
          "output_type": "stream",
          "name": "stdout",
          "text": [
            "epoch 35 batch id 201 loss 0.17760296165943146 train acc 0.9065609452736318 acc 0.9065609452736318\n"
          ]
        },
        {
          "output_type": "stream",
          "name": "stderr",
          "text": [
            " 28%|██▊       | 402/1415 [01:18<03:16,  5.16it/s]"
          ]
        },
        {
          "output_type": "stream",
          "name": "stdout",
          "text": [
            "epoch 35 batch id 401 loss 0.21979226171970367 train acc 0.9064058603491272 acc 0.9064058603491272\n"
          ]
        },
        {
          "output_type": "stream",
          "name": "stderr",
          "text": [
            " 43%|████▎     | 602/1415 [01:57<02:37,  5.15it/s]"
          ]
        },
        {
          "output_type": "stream",
          "name": "stdout",
          "text": [
            "epoch 35 batch id 601 loss 0.20000828802585602 train acc 0.9047420965058236 acc 0.9047420965058236\n"
          ]
        },
        {
          "output_type": "stream",
          "name": "stderr",
          "text": [
            " 57%|█████▋    | 802/1415 [02:36<01:59,  5.13it/s]"
          ]
        },
        {
          "output_type": "stream",
          "name": "stdout",
          "text": [
            "epoch 35 batch id 801 loss 0.35386669635772705 train acc 0.9038311485642946 acc 0.9038311485642946\n"
          ]
        },
        {
          "output_type": "stream",
          "name": "stderr",
          "text": [
            " 71%|███████   | 1002/1415 [03:14<01:20,  5.14it/s]"
          ]
        },
        {
          "output_type": "stream",
          "name": "stdout",
          "text": [
            "epoch 35 batch id 1001 loss 0.23357534408569336 train acc 0.9025193556443556 acc 0.9025193556443556\n"
          ]
        },
        {
          "output_type": "stream",
          "name": "stderr",
          "text": [
            " 85%|████████▍ | 1202/1415 [03:53<00:41,  5.14it/s]"
          ]
        },
        {
          "output_type": "stream",
          "name": "stdout",
          "text": [
            "epoch 35 batch id 1201 loss 0.2383435070514679 train acc 0.9018916527893422 acc 0.9018916527893422\n"
          ]
        },
        {
          "output_type": "stream",
          "name": "stderr",
          "text": [
            " 99%|█████████▉| 1402/1415 [04:32<00:02,  5.17it/s]"
          ]
        },
        {
          "output_type": "stream",
          "name": "stdout",
          "text": [
            "epoch 35 batch id 1401 loss 0.22339662909507751 train acc 0.9006513204853676 acc 0.9006513204853676\n"
          ]
        },
        {
          "output_type": "stream",
          "name": "stderr",
          "text": [
            "100%|██████████| 1415/1415 [04:35<00:00,  5.14it/s]\n"
          ]
        },
        {
          "output_type": "stream",
          "name": "stdout",
          "text": [
            "epoch 35 train acc 0.9006834020416176 acc 0.9006834020416176\n"
          ]
        },
        {
          "output_type": "stream",
          "name": "stderr",
          "text": [
            "199it [00:16, 11.98it/s]\n"
          ]
        },
        {
          "output_type": "stream",
          "name": "stdout",
          "text": [
            "****************Epoch : 35 Test 정확도 **************** \n",
            "\n",
            "5중분류 정확도 : 0.29 \n",
            "\n",
            "3중분류 정확도 : 0.38 \n",
            "\n",
            "이진분류 정확도 : 0.52 \n",
            "\n"
          ]
        },
        {
          "output_type": "stream",
          "name": "stderr",
          "text": [
            "  0%|          | 2/1415 [00:00<07:56,  2.96it/s]"
          ]
        },
        {
          "output_type": "stream",
          "name": "stdout",
          "text": [
            "epoch 36 batch id 1 loss 0.2274998277425766 train acc 0.9375 acc 0.9375\n"
          ]
        },
        {
          "output_type": "stream",
          "name": "stderr",
          "text": [
            " 14%|█▍        | 202/1415 [00:39<03:56,  5.14it/s]"
          ]
        },
        {
          "output_type": "stream",
          "name": "stdout",
          "text": [
            "epoch 36 batch id 201 loss 0.2957833409309387 train acc 0.908271144278607 acc 0.908271144278607\n"
          ]
        },
        {
          "output_type": "stream",
          "name": "stderr",
          "text": [
            " 28%|██▊       | 402/1415 [01:18<03:17,  5.12it/s]"
          ]
        },
        {
          "output_type": "stream",
          "name": "stdout",
          "text": [
            "epoch 36 batch id 401 loss 0.32394298911094666 train acc 0.9067565461346634 acc 0.9067565461346634\n"
          ]
        },
        {
          "output_type": "stream",
          "name": "stderr",
          "text": [
            " 43%|████▎     | 602/1415 [01:57<02:37,  5.15it/s]"
          ]
        },
        {
          "output_type": "stream",
          "name": "stdout",
          "text": [
            "epoch 36 batch id 601 loss 0.38968178629875183 train acc 0.9051580698835274 acc 0.9051580698835274\n"
          ]
        },
        {
          "output_type": "stream",
          "name": "stderr",
          "text": [
            " 57%|█████▋    | 802/1415 [02:35<01:59,  5.14it/s]"
          ]
        },
        {
          "output_type": "stream",
          "name": "stdout",
          "text": [
            "epoch 36 batch id 801 loss 0.22458021342754364 train acc 0.9045333957553059 acc 0.9045333957553059\n"
          ]
        },
        {
          "output_type": "stream",
          "name": "stderr",
          "text": [
            " 71%|███████   | 1002/1415 [03:14<01:20,  5.15it/s]"
          ]
        },
        {
          "output_type": "stream",
          "name": "stdout",
          "text": [
            "epoch 36 batch id 1001 loss 0.2582424283027649 train acc 0.9045485764235764 acc 0.9045485764235764\n"
          ]
        },
        {
          "output_type": "stream",
          "name": "stderr",
          "text": [
            " 85%|████████▍ | 1202/1415 [03:53<00:41,  5.14it/s]"
          ]
        },
        {
          "output_type": "stream",
          "name": "stdout",
          "text": [
            "epoch 36 batch id 1201 loss 0.17155367136001587 train acc 0.9035439217318901 acc 0.9035439217318901\n"
          ]
        },
        {
          "output_type": "stream",
          "name": "stderr",
          "text": [
            " 99%|█████████▉| 1402/1415 [04:32<00:02,  5.12it/s]"
          ]
        },
        {
          "output_type": "stream",
          "name": "stdout",
          "text": [
            "epoch 36 batch id 1401 loss 0.39522212743759155 train acc 0.902904175588865 acc 0.902904175588865\n"
          ]
        },
        {
          "output_type": "stream",
          "name": "stderr",
          "text": [
            "100%|██████████| 1415/1415 [04:35<00:00,  5.14it/s]\n"
          ]
        },
        {
          "output_type": "stream",
          "name": "stdout",
          "text": [
            "epoch 36 train acc 0.9029552741787725 acc 0.9029552741787725\n"
          ]
        },
        {
          "output_type": "stream",
          "name": "stderr",
          "text": [
            "199it [00:16, 11.83it/s]\n"
          ]
        },
        {
          "output_type": "stream",
          "name": "stdout",
          "text": [
            "****************Epoch : 36 Test 정확도 **************** \n",
            "\n",
            "5중분류 정확도 : 0.33 \n",
            "\n",
            "3중분류 정확도 : 0.43 \n",
            "\n",
            "이진분류 정확도 : 0.57 \n",
            "\n"
          ]
        },
        {
          "output_type": "stream",
          "name": "stderr",
          "text": [
            "  0%|          | 2/1415 [00:00<08:11,  2.87it/s]"
          ]
        },
        {
          "output_type": "stream",
          "name": "stdout",
          "text": [
            "epoch 37 batch id 1 loss 0.11244048178195953 train acc 0.9375 acc 0.9375\n"
          ]
        },
        {
          "output_type": "stream",
          "name": "stderr",
          "text": [
            " 14%|█▍        | 202/1415 [00:39<03:55,  5.15it/s]"
          ]
        },
        {
          "output_type": "stream",
          "name": "stdout",
          "text": [
            "epoch 37 batch id 201 loss 0.3556126356124878 train acc 0.9059390547263682 acc 0.9059390547263682\n"
          ]
        },
        {
          "output_type": "stream",
          "name": "stderr",
          "text": [
            " 28%|██▊       | 402/1415 [01:18<03:16,  5.17it/s]"
          ]
        },
        {
          "output_type": "stream",
          "name": "stdout",
          "text": [
            "epoch 37 batch id 401 loss 0.17759163677692413 train acc 0.9062110349127181 acc 0.9062110349127181\n"
          ]
        },
        {
          "output_type": "stream",
          "name": "stderr",
          "text": [
            " 43%|████▎     | 602/1415 [01:57<02:38,  5.14it/s]"
          ]
        },
        {
          "output_type": "stream",
          "name": "stdout",
          "text": [
            "epoch 37 batch id 601 loss 0.23560450971126556 train acc 0.906353993344426 acc 0.906353993344426\n"
          ]
        },
        {
          "output_type": "stream",
          "name": "stderr",
          "text": [
            " 57%|█████▋    | 802/1415 [02:36<01:59,  5.12it/s]"
          ]
        },
        {
          "output_type": "stream",
          "name": "stdout",
          "text": [
            "epoch 37 batch id 801 loss 0.21931153535842896 train acc 0.9055282459425718 acc 0.9055282459425718\n"
          ]
        },
        {
          "output_type": "stream",
          "name": "stderr",
          "text": [
            " 71%|███████   | 1002/1415 [03:15<01:20,  5.13it/s]"
          ]
        },
        {
          "output_type": "stream",
          "name": "stdout",
          "text": [
            "epoch 37 batch id 1001 loss 0.0931931585073471 train acc 0.9059690309690309 acc 0.9059690309690309\n"
          ]
        },
        {
          "output_type": "stream",
          "name": "stderr",
          "text": [
            " 85%|████████▍ | 1202/1415 [03:54<00:41,  5.19it/s]"
          ]
        },
        {
          "output_type": "stream",
          "name": "stdout",
          "text": [
            "epoch 37 batch id 1201 loss 0.24838727712631226 train acc 0.9050530807660283 acc 0.9050530807660283\n"
          ]
        },
        {
          "output_type": "stream",
          "name": "stderr",
          "text": [
            " 99%|█████████▉| 1402/1415 [04:32<00:02,  5.19it/s]"
          ]
        },
        {
          "output_type": "stream",
          "name": "stdout",
          "text": [
            "epoch 37 batch id 1401 loss 0.22548101842403412 train acc 0.904331727337616 acc 0.904331727337616\n"
          ]
        },
        {
          "output_type": "stream",
          "name": "stderr",
          "text": [
            "100%|██████████| 1415/1415 [04:35<00:00,  5.14it/s]\n"
          ]
        },
        {
          "output_type": "stream",
          "name": "stdout",
          "text": [
            "epoch 37 train acc 0.904334347598482 acc 0.904334347598482\n"
          ]
        },
        {
          "output_type": "stream",
          "name": "stderr",
          "text": [
            "199it [00:16, 12.01it/s]\n"
          ]
        },
        {
          "output_type": "stream",
          "name": "stdout",
          "text": [
            "****************Epoch : 37 Test 정확도 **************** \n",
            "\n",
            "5중분류 정확도 : 0.24 \n",
            "\n",
            "3중분류 정확도 : 0.38 \n",
            "\n",
            "이진분류 정확도 : 0.62 \n",
            "\n"
          ]
        },
        {
          "output_type": "stream",
          "name": "stderr",
          "text": [
            "  0%|          | 2/1415 [00:00<08:20,  2.82it/s]"
          ]
        },
        {
          "output_type": "stream",
          "name": "stdout",
          "text": [
            "epoch 38 batch id 1 loss 0.29891034960746765 train acc 0.875 acc 0.875\n"
          ]
        },
        {
          "output_type": "stream",
          "name": "stderr",
          "text": [
            " 14%|█▍        | 202/1415 [00:39<03:56,  5.12it/s]"
          ]
        },
        {
          "output_type": "stream",
          "name": "stdout",
          "text": [
            "epoch 38 batch id 201 loss 0.3346298336982727 train acc 0.9090485074626866 acc 0.9090485074626866\n"
          ]
        },
        {
          "output_type": "stream",
          "name": "stderr",
          "text": [
            " 28%|██▊       | 402/1415 [01:18<03:17,  5.13it/s]"
          ]
        },
        {
          "output_type": "stream",
          "name": "stdout",
          "text": [
            "epoch 38 batch id 401 loss 0.33863747119903564 train acc 0.909484102244389 acc 0.909484102244389\n"
          ]
        },
        {
          "output_type": "stream",
          "name": "stderr",
          "text": [
            " 43%|████▎     | 602/1415 [01:57<02:37,  5.17it/s]"
          ]
        },
        {
          "output_type": "stream",
          "name": "stdout",
          "text": [
            "epoch 38 batch id 601 loss 0.172256201505661 train acc 0.9089018302828619 acc 0.9089018302828619\n"
          ]
        },
        {
          "output_type": "stream",
          "name": "stderr",
          "text": [
            " 57%|█████▋    | 802/1415 [02:36<01:59,  5.12it/s]"
          ]
        },
        {
          "output_type": "stream",
          "name": "stdout",
          "text": [
            "epoch 38 batch id 801 loss 0.2838294208049774 train acc 0.9080446317103621 acc 0.9080446317103621\n"
          ]
        },
        {
          "output_type": "stream",
          "name": "stderr",
          "text": [
            " 71%|███████   | 1002/1415 [03:15<01:20,  5.14it/s]"
          ]
        },
        {
          "output_type": "stream",
          "name": "stdout",
          "text": [
            "epoch 38 batch id 1001 loss 0.3605353534221649 train acc 0.9071085164835165 acc 0.9071085164835165\n"
          ]
        },
        {
          "output_type": "stream",
          "name": "stderr",
          "text": [
            " 85%|████████▍ | 1202/1415 [03:54<00:41,  5.11it/s]"
          ]
        },
        {
          "output_type": "stream",
          "name": "stdout",
          "text": [
            "epoch 38 batch id 1201 loss 0.3423684537410736 train acc 0.9062760199833472 acc 0.9062760199833472\n"
          ]
        },
        {
          "output_type": "stream",
          "name": "stderr",
          "text": [
            " 99%|█████████▉| 1402/1415 [04:33<00:02,  5.13it/s]"
          ]
        },
        {
          "output_type": "stream",
          "name": "stdout",
          "text": [
            "epoch 38 batch id 1401 loss 0.26208123564720154 train acc 0.905770431834404 acc 0.905770431834404\n"
          ]
        },
        {
          "output_type": "stream",
          "name": "stderr",
          "text": [
            "100%|██████████| 1415/1415 [04:35<00:00,  5.13it/s]\n"
          ]
        },
        {
          "output_type": "stream",
          "name": "stdout",
          "text": [
            "epoch 38 train acc 0.9058995059547179 acc 0.9058995059547179\n"
          ]
        },
        {
          "output_type": "stream",
          "name": "stderr",
          "text": [
            "199it [00:16, 11.92it/s]\n"
          ]
        },
        {
          "output_type": "stream",
          "name": "stdout",
          "text": [
            "****************Epoch : 38 Test 정확도 **************** \n",
            "\n",
            "5중분류 정확도 : 0.38 \n",
            "\n",
            "3중분류 정확도 : 0.48 \n",
            "\n",
            "이진분류 정확도 : 0.52 \n",
            "\n"
          ]
        },
        {
          "output_type": "stream",
          "name": "stderr",
          "text": [
            "  0%|          | 1/1415 [00:00<12:53,  1.83it/s]"
          ]
        },
        {
          "output_type": "stream",
          "name": "stdout",
          "text": [
            "epoch 39 batch id 1 loss 0.30277931690216064 train acc 0.859375 acc 0.859375\n"
          ]
        },
        {
          "output_type": "stream",
          "name": "stderr",
          "text": [
            " 14%|█▍        | 202/1415 [00:39<03:55,  5.14it/s]"
          ]
        },
        {
          "output_type": "stream",
          "name": "stdout",
          "text": [
            "epoch 39 batch id 201 loss 0.21410466730594635 train acc 0.9113805970149254 acc 0.9113805970149254\n"
          ]
        },
        {
          "output_type": "stream",
          "name": "stderr",
          "text": [
            " 28%|██▊       | 402/1415 [01:18<03:17,  5.14it/s]"
          ]
        },
        {
          "output_type": "stream",
          "name": "stdout",
          "text": [
            "epoch 39 batch id 401 loss 0.22735437750816345 train acc 0.9111206359102244 acc 0.9111206359102244\n"
          ]
        },
        {
          "output_type": "stream",
          "name": "stderr",
          "text": [
            " 43%|████▎     | 602/1415 [01:57<02:38,  5.13it/s]"
          ]
        },
        {
          "output_type": "stream",
          "name": "stdout",
          "text": [
            "epoch 39 batch id 601 loss 0.3935166001319885 train acc 0.9110076955074875 acc 0.9110076955074875\n"
          ]
        },
        {
          "output_type": "stream",
          "name": "stderr",
          "text": [
            " 57%|█████▋    | 802/1415 [02:36<02:00,  5.11it/s]"
          ]
        },
        {
          "output_type": "stream",
          "name": "stdout",
          "text": [
            "epoch 39 batch id 801 loss 0.21930716931819916 train acc 0.9113022784019975 acc 0.9113022784019975\n"
          ]
        },
        {
          "output_type": "stream",
          "name": "stderr",
          "text": [
            " 71%|███████   | 1002/1415 [03:15<01:20,  5.15it/s]"
          ]
        },
        {
          "output_type": "stream",
          "name": "stdout",
          "text": [
            "epoch 39 batch id 1001 loss 0.2380598932504654 train acc 0.9097152847152847 acc 0.9097152847152847\n"
          ]
        },
        {
          "output_type": "stream",
          "name": "stderr",
          "text": [
            " 85%|████████▍ | 1202/1415 [03:54<00:42,  5.07it/s]"
          ]
        },
        {
          "output_type": "stream",
          "name": "stdout",
          "text": [
            "epoch 39 batch id 1201 loss 0.3223492205142975 train acc 0.9085657785179018 acc 0.9085657785179018\n"
          ]
        },
        {
          "output_type": "stream",
          "name": "stderr",
          "text": [
            " 99%|█████████▉| 1402/1415 [04:33<00:02,  5.16it/s]"
          ]
        },
        {
          "output_type": "stream",
          "name": "stdout",
          "text": [
            "epoch 39 batch id 1401 loss 0.47226884961128235 train acc 0.9073652748037117 acc 0.9073652748037117\n"
          ]
        },
        {
          "output_type": "stream",
          "name": "stderr",
          "text": [
            "100%|██████████| 1415/1415 [04:36<00:00,  5.13it/s]\n"
          ]
        },
        {
          "output_type": "stream",
          "name": "stdout",
          "text": [
            "epoch 39 train acc 0.9074875670723728 acc 0.9074875670723728\n"
          ]
        },
        {
          "output_type": "stream",
          "name": "stderr",
          "text": [
            "199it [00:16, 11.99it/s]\n"
          ]
        },
        {
          "output_type": "stream",
          "name": "stdout",
          "text": [
            "****************Epoch : 39 Test 정확도 **************** \n",
            "\n",
            "5중분류 정확도 : 0.43 \n",
            "\n",
            "3중분류 정확도 : 0.57 \n",
            "\n",
            "이진분류 정확도 : 0.57 \n",
            "\n"
          ]
        },
        {
          "output_type": "stream",
          "name": "stderr",
          "text": [
            "  0%|          | 1/1415 [00:00<12:48,  1.84it/s]"
          ]
        },
        {
          "output_type": "stream",
          "name": "stdout",
          "text": [
            "epoch 40 batch id 1 loss 0.23094847798347473 train acc 0.90625 acc 0.90625\n"
          ]
        },
        {
          "output_type": "stream",
          "name": "stderr",
          "text": [
            " 14%|█▍        | 202/1415 [00:39<03:57,  5.10it/s]"
          ]
        },
        {
          "output_type": "stream",
          "name": "stdout",
          "text": [
            "epoch 40 batch id 201 loss 0.2944678068161011 train acc 0.9148787313432836 acc 0.9148787313432836\n"
          ]
        },
        {
          "output_type": "stream",
          "name": "stderr",
          "text": [
            " 28%|██▊       | 402/1415 [01:18<03:14,  5.20it/s]"
          ]
        },
        {
          "output_type": "stream",
          "name": "stdout",
          "text": [
            "epoch 40 batch id 401 loss 0.2722562551498413 train acc 0.9138871571072319 acc 0.9138871571072319\n"
          ]
        },
        {
          "output_type": "stream",
          "name": "stderr",
          "text": [
            " 43%|████▎     | 602/1415 [01:57<02:38,  5.14it/s]"
          ]
        },
        {
          "output_type": "stream",
          "name": "stdout",
          "text": [
            "epoch 40 batch id 601 loss 0.1889207363128662 train acc 0.91358153078203 acc 0.91358153078203\n"
          ]
        },
        {
          "output_type": "stream",
          "name": "stderr",
          "text": [
            " 57%|█████▋    | 802/1415 [02:36<01:58,  5.18it/s]"
          ]
        },
        {
          "output_type": "stream",
          "name": "stdout",
          "text": [
            "epoch 40 batch id 801 loss 0.13084928691387177 train acc 0.9125897315855181 acc 0.9125897315855181\n"
          ]
        },
        {
          "output_type": "stream",
          "name": "stderr",
          "text": [
            " 71%|███████   | 1002/1415 [03:15<01:20,  5.15it/s]"
          ]
        },
        {
          "output_type": "stream",
          "name": "stdout",
          "text": [
            "epoch 40 batch id 1001 loss 0.2559402585029602 train acc 0.9108547702297702 acc 0.9108547702297702\n"
          ]
        },
        {
          "output_type": "stream",
          "name": "stderr",
          "text": [
            " 85%|████████▍ | 1202/1415 [03:53<00:41,  5.12it/s]"
          ]
        },
        {
          "output_type": "stream",
          "name": "stdout",
          "text": [
            "epoch 40 batch id 1201 loss 0.22298851609230042 train acc 0.9092943380516236 acc 0.9092943380516236\n"
          ]
        },
        {
          "output_type": "stream",
          "name": "stderr",
          "text": [
            " 99%|█████████▉| 1402/1415 [04:32<00:02,  5.13it/s]"
          ]
        },
        {
          "output_type": "stream",
          "name": "stdout",
          "text": [
            "epoch 40 batch id 1401 loss 0.24686893820762634 train acc 0.9089489650249821 acc 0.9089489650249821\n"
          ]
        },
        {
          "output_type": "stream",
          "name": "stderr",
          "text": [
            "100%|██████████| 1415/1415 [04:35<00:00,  5.14it/s]\n"
          ]
        },
        {
          "output_type": "stream",
          "name": "stdout",
          "text": [
            "epoch 40 train acc 0.9091157080225102 acc 0.9091157080225102\n"
          ]
        },
        {
          "output_type": "stream",
          "name": "stderr",
          "text": [
            "199it [00:16, 11.96it/s]\n"
          ]
        },
        {
          "output_type": "stream",
          "name": "stdout",
          "text": [
            "****************Epoch : 40 Test 정확도 **************** \n",
            "\n",
            "5중분류 정확도 : 0.43 \n",
            "\n",
            "3중분류 정확도 : 0.62 \n",
            "\n",
            "이진분류 정확도 : 0.62 \n",
            "\n"
          ]
        },
        {
          "output_type": "stream",
          "name": "stderr",
          "text": [
            "1it [00:00,  9.19it/s]"
          ]
        },
        {
          "output_type": "stream",
          "name": "stdout",
          "text": [
            "0 1\n"
          ]
        },
        {
          "output_type": "stream",
          "name": "stderr",
          "text": [
            "81it [00:07, 11.45it/s]"
          ]
        },
        {
          "output_type": "stream",
          "name": "stdout",
          "text": [
            "5000 2\n"
          ]
        },
        {
          "output_type": "stream",
          "name": "stderr",
          "text": [
            "159it [00:13, 12.01it/s]"
          ]
        },
        {
          "output_type": "stream",
          "name": "stdout",
          "text": [
            "10000 1\n"
          ]
        },
        {
          "output_type": "stream",
          "name": "stderr",
          "text": [
            "199it [00:16, 11.72it/s]\n"
          ]
        },
        {
          "output_type": "stream",
          "name": "stdout",
          "text": [
            "5중분류 정확도 : 0.43 \n",
            "\n",
            "3중분류 정확도 : 0.62 \n",
            "\n",
            "이진분류 정확도 : 0.62 \n",
            "\n"
          ]
        }
      ],
      "source": [
        "\n",
        "save_path = f'/content/drive/MyDrive/뉴스원인분석_modeling/final_news_modeling/{company_name}/{company_name}'\n",
        "model_path = f'/content/drive/MyDrive/뉴스원인분석_modeling/final_news_modeling/{company_name}/'\n",
        "\n",
        "# 몇번째 훈련인지 지정\n",
        "train, test = train_test_dataframe(df_sent)\n",
        "print('train :', train.shape, 'test :', test.shape)\n",
        "\n",
        "\n",
        "sample_labels = int(np.floor(df_sent['target'].value_counts().min() * 0.8))\n",
        "\n",
        "\n",
        "_, train_sampled, train_not_used = train_sampling(train, sample_labels = sample_labels)\n",
        "\n",
        "model = BERTClassifier(bertmodel,  dr_rate=0.5).to(device)\n",
        "model.train()\n",
        "\n",
        "trained_model = train_model(train_sampled, test, model, model_path)\n",
        "\n",
        "\n"
      ]
    },
    {
      "cell_type": "code",
      "execution_count": null,
      "metadata": {
        "id": "2t7AHhF8XmNm"
      },
      "outputs": [],
      "source": [
        "# 추가 훈련 데이터셋 저장\n",
        "\n",
        "\n",
        "# 최종 선정 모델 로드\n",
        "# epoch 27\n",
        "train, test = train_test_dataframe(df_sent)\n",
        "trained_model_best = torch.load('/content/drive/MyDrive/뉴스원인분석_modeling/final_news_modeling/lgenergy/epoch_27/lgenergy_model_ep27_new_sampling.pt')\n",
        "\n",
        "test_pred = predict_test(trained_model_best, test)\n",
        "test_pred, test_pred_date = eval_model(test_pred)\n",
        "\n",
        "\n",
        "train_not_used.to_csv(save_path + f'_train_not_used.csv', index=False)\n",
        "test_pred.to_csv(save_path + f'_test_pred_by_sent.csv', index=False)\n",
        "test_pred_date.to_csv(save_path + f'_test_pred_by_date.csv', index=False)"
      ]
    },
    {
      "cell_type": "markdown",
      "metadata": {
        "id": "gg_0nynRybss"
      },
      "source": [
        "# 키워드 추출"
      ]
    },
    {
      "cell_type": "code",
      "execution_count": null,
      "metadata": {
        "id": "PFe_pyDYi3UG"
      },
      "outputs": [],
      "source": [
        "# 중간 로드 코드\n",
        "# # 키워드 사용 데이터 로드\n",
        "save_path = f'/content/drive/MyDrive/뉴스원인분석_modeling/final_news_modeling/{company_name}/{company_name}'\n",
        "_, test = train_test_dataframe(df_sent)\n",
        "train_not_used = pd.read_csv(save_path + f'_train_not_used.csv')\n",
        "trained_model_best = torch.load('/content/drive/MyDrive/뉴스원인분석_modeling/final_news_modeling/lgenergy/epoch_27/lgenergy_model_ep27_new_sampling.pt')"
      ]
    },
    {
      "cell_type": "code",
      "execution_count": null,
      "metadata": {
        "colab": {
          "base_uri": "https://localhost:8080/"
        },
        "id": "N88mv3A-3JKN",
        "outputId": "8421c102-5150-4482-f0a0-6fb06acc6651"
      },
      "outputs": [
        {
          "output_type": "stream",
          "name": "stdout",
          "text": [
            "###########키워드 추출용 사용하지 않은 데이터 예측 ############\n"
          ]
        },
        {
          "output_type": "stream",
          "name": "stderr",
          "text": [
            "2it [00:00,  7.34it/s]"
          ]
        },
        {
          "output_type": "stream",
          "name": "stdout",
          "text": [
            "0 0\n"
          ]
        },
        {
          "output_type": "stream",
          "name": "stderr",
          "text": [
            "80it [00:10,  8.03it/s]"
          ]
        },
        {
          "output_type": "stream",
          "name": "stdout",
          "text": [
            "5000 1\n"
          ]
        },
        {
          "output_type": "stream",
          "name": "stderr",
          "text": [
            "158it [00:20,  7.86it/s]"
          ]
        },
        {
          "output_type": "stream",
          "name": "stdout",
          "text": [
            "10000 1\n"
          ]
        },
        {
          "output_type": "stream",
          "name": "stderr",
          "text": [
            "236it [00:29,  7.92it/s]"
          ]
        },
        {
          "output_type": "stream",
          "name": "stdout",
          "text": [
            "15000 2\n"
          ]
        },
        {
          "output_type": "stream",
          "name": "stderr",
          "text": [
            "314it [00:39,  7.89it/s]"
          ]
        },
        {
          "output_type": "stream",
          "name": "stdout",
          "text": [
            "20000 3\n"
          ]
        },
        {
          "output_type": "stream",
          "name": "stderr",
          "text": [
            "392it [00:49,  7.93it/s]"
          ]
        },
        {
          "output_type": "stream",
          "name": "stdout",
          "text": [
            "25000 4\n"
          ]
        },
        {
          "output_type": "stream",
          "name": "stderr",
          "text": [
            "470it [00:59,  7.99it/s]"
          ]
        },
        {
          "output_type": "stream",
          "name": "stdout",
          "text": [
            "30000 3\n"
          ]
        },
        {
          "output_type": "stream",
          "name": "stderr",
          "text": [
            "548it [01:09,  8.03it/s]"
          ]
        },
        {
          "output_type": "stream",
          "name": "stdout",
          "text": [
            "35000 3\n"
          ]
        },
        {
          "output_type": "stream",
          "name": "stderr",
          "text": [
            "627it [01:18,  7.86it/s]"
          ]
        },
        {
          "output_type": "stream",
          "name": "stdout",
          "text": [
            "40000 2\n"
          ]
        },
        {
          "output_type": "stream",
          "name": "stderr",
          "text": [
            "705it [01:28,  8.14it/s]"
          ]
        },
        {
          "output_type": "stream",
          "name": "stdout",
          "text": [
            "45000 3\n"
          ]
        },
        {
          "output_type": "stream",
          "name": "stderr",
          "text": [
            "783it [01:38,  8.16it/s]"
          ]
        },
        {
          "output_type": "stream",
          "name": "stdout",
          "text": [
            "50000 3\n"
          ]
        },
        {
          "output_type": "stream",
          "name": "stderr",
          "text": [
            "821it [01:42,  7.98it/s]\n"
          ]
        },
        {
          "output_type": "stream",
          "name": "stdout",
          "text": [
            "5중분류 정확도 : 0.95 \n",
            "\n",
            "3중분류 정확도 : 0.96 \n",
            "\n",
            "이진분류 정확도 : 0.87 \n",
            "\n"
          ]
        }
      ],
      "source": [
        "# 20 ep / 30 ep 훈련 데이터셋 다르니 확인!!\n",
        "# 30ep 모델 사용\n",
        "print('###########키워드 추출용 사용하지 않은 데이터 예측 ############')\n",
        "keyword_total = pd.concat([train_not_used, test])\n",
        "keyword_total['sent'] = keyword_total['sent'].astype('str')\n",
        "keyword_pred = predict_test(trained_model_best, keyword_total)\n",
        "keyword_pred, keyword_pred_date = eval_model(keyword_pred)\n",
        "keyword_pred.to_csv(save_path + f'_test_pred_by_sent.csv', index=False)\n",
        "keyword_pred_date.to_csv(save_path + f'_test_pred_by_date_total.csv', index=False)"
      ]
    },
    {
      "cell_type": "code",
      "execution_count": null,
      "metadata": {
        "colab": {
          "base_uri": "https://localhost:8080/"
        },
        "id": "vQuoYGr70xH7",
        "outputId": "c21198c2-2fcb-4800-a2b2-b0b6f4175368"
      },
      "outputs": [
        {
          "output_type": "stream",
          "name": "stdout",
          "text": [
            "Installing automake (A dependency for mecab-ko)\n",
            "Get:1 https://cloud.r-project.org/bin/linux/ubuntu bionic-cran40/ InRelease [3,626 B]\n",
            "Get:2 http://security.ubuntu.com/ubuntu bionic-security InRelease [88.7 kB]\n",
            "Hit:3 http://archive.ubuntu.com/ubuntu bionic InRelease\n",
            "Ign:4 https://developer.download.nvidia.com/compute/machine-learning/repos/ubuntu1804/x86_64  InRelease\n",
            "Hit:5 https://developer.download.nvidia.com/compute/cuda/repos/ubuntu1804/x86_64  InRelease\n",
            "Get:6 http://archive.ubuntu.com/ubuntu bionic-updates InRelease [88.7 kB]\n",
            "Hit:7 https://developer.download.nvidia.com/compute/machine-learning/repos/ubuntu1804/x86_64  Release\n",
            "Get:8 http://ppa.launchpad.net/c2d4u.team/c2d4u4.0+/ubuntu bionic InRelease [15.9 kB]\n",
            "Get:9 http://archive.ubuntu.com/ubuntu bionic-backports InRelease [83.3 kB]\n",
            "Hit:10 http://ppa.launchpad.net/cran/libgit2/ubuntu bionic InRelease\n",
            "Hit:11 http://ppa.launchpad.net/deadsnakes/ppa/ubuntu bionic InRelease\n",
            "Hit:13 http://ppa.launchpad.net/graphics-drivers/ppa/ubuntu bionic InRelease\n",
            "Get:14 http://archive.ubuntu.com/ubuntu bionic-updates/restricted amd64 Packages [1,412 kB]\n",
            "Get:15 http://archive.ubuntu.com/ubuntu bionic-updates/main amd64 Packages [3,568 kB]\n",
            "Get:16 http://archive.ubuntu.com/ubuntu bionic-updates/universe amd64 Packages [2,351 kB]\n",
            "Get:17 http://ppa.launchpad.net/c2d4u.team/c2d4u4.0+/ubuntu bionic/main Sources [2,240 kB]\n",
            "Get:18 http://security.ubuntu.com/ubuntu bionic-security/restricted amd64 Packages [1,371 kB]\n",
            "Get:19 http://security.ubuntu.com/ubuntu bionic-security/universe amd64 Packages [1,573 kB]\n",
            "Get:20 http://security.ubuntu.com/ubuntu bionic-security/main amd64 Packages [3,145 kB]\n",
            "Get:21 http://ppa.launchpad.net/c2d4u.team/c2d4u4.0+/ubuntu bionic/main amd64 Packages [1,145 kB]\n",
            "Fetched 17.1 MB in 4s (4,197 kB/s)\n",
            "Reading package lists... Done\n",
            "Reading package lists... Done\n",
            "Building dependency tree       \n",
            "Reading state information... Done\n",
            "The following package was automatically installed and is no longer required:\n",
            "  libnvidia-common-460\n",
            "Use 'sudo apt autoremove' to remove it.\n",
            "The following additional packages will be installed:\n",
            "  autoconf autotools-dev libsigsegv2 m4\n",
            "Suggested packages:\n",
            "  autoconf-archive gnu-standards autoconf-doc libtool gettext m4-doc\n",
            "The following NEW packages will be installed:\n",
            "  autoconf automake autotools-dev libsigsegv2 m4\n",
            "0 upgraded, 5 newly installed, 0 to remove and 32 not upgraded.\n",
            "Need to get 1,082 kB of archives.\n",
            "After this operation, 3,994 kB of additional disk space will be used.\n",
            "Get:1 http://archive.ubuntu.com/ubuntu bionic/main amd64 libsigsegv2 amd64 2.12-1 [14.7 kB]\n",
            "Get:2 http://archive.ubuntu.com/ubuntu bionic/main amd64 m4 amd64 1.4.18-1 [197 kB]\n",
            "Get:3 http://archive.ubuntu.com/ubuntu bionic/main amd64 autoconf all 2.69-11 [322 kB]\n",
            "Get:4 http://archive.ubuntu.com/ubuntu bionic/main amd64 autotools-dev all 20180224.1 [39.6 kB]\n",
            "Get:5 http://archive.ubuntu.com/ubuntu bionic/main amd64 automake all 1:1.15.1-3ubuntu2 [509 kB]\n",
            "Fetched 1,082 kB in 0s (2,990 kB/s)\n",
            "debconf: unable to initialize frontend: Dialog\n",
            "debconf: (No usable dialog-like program is installed, so the dialog based frontend cannot be used. at /usr/share/perl5/Debconf/FrontEnd/Dialog.pm line 76, <> line 5.)\n",
            "debconf: falling back to frontend: Readline\n",
            "debconf: unable to initialize frontend: Readline\n",
            "debconf: (This frontend requires a controlling tty.)\n",
            "debconf: falling back to frontend: Teletype\n",
            "dpkg-preconfigure: unable to re-open stdin: \n",
            "Selecting previously unselected package libsigsegv2:amd64.\n",
            "(Reading database ... 124016 files and directories currently installed.)\n",
            "Preparing to unpack .../libsigsegv2_2.12-1_amd64.deb ...\n",
            "Unpacking libsigsegv2:amd64 (2.12-1) ...\n",
            "Selecting previously unselected package m4.\n",
            "Preparing to unpack .../archives/m4_1.4.18-1_amd64.deb ...\n",
            "Unpacking m4 (1.4.18-1) ...\n",
            "Selecting previously unselected package autoconf.\n",
            "Preparing to unpack .../autoconf_2.69-11_all.deb ...\n",
            "Unpacking autoconf (2.69-11) ...\n",
            "Selecting previously unselected package autotools-dev.\n",
            "Preparing to unpack .../autotools-dev_20180224.1_all.deb ...\n",
            "Unpacking autotools-dev (20180224.1) ...\n",
            "Selecting previously unselected package automake.\n",
            "Preparing to unpack .../automake_1%3a1.15.1-3ubuntu2_all.deb ...\n",
            "Unpacking automake (1:1.15.1-3ubuntu2) ...\n",
            "Setting up libsigsegv2:amd64 (2.12-1) ...\n",
            "Setting up m4 (1.4.18-1) ...\n",
            "Setting up autotools-dev (20180224.1) ...\n",
            "Setting up autoconf (2.69-11) ...\n",
            "Setting up automake (1:1.15.1-3ubuntu2) ...\n",
            "update-alternatives: using /usr/bin/automake-1.15 to provide /usr/bin/automake (automake) in auto mode\n",
            "Processing triggers for libc-bin (2.27-3ubuntu1.6) ...\n",
            "Processing triggers for man-db (2.8.3-2ubuntu0.1) ...\n",
            "Install mecab-ko\n",
            "  % Total    % Received % Xferd  Average Speed   Time    Time     Time  Current\n",
            "                                 Dload  Upload   Total   Spent    Left  Speed\n",
            "  0     0    0     0    0     0      0      0 --:--:-- --:--:-- --:--:--     0\n",
            "100 1381k  100 1381k    0     0  3003k      0 --:--:-- --:--:-- --:--:-- 3003k\n",
            "mecab-0.996-ko-0.9.2/\n",
            "mecab-0.996-ko-0.9.2/example/\n",
            "mecab-0.996-ko-0.9.2/example/example.cpp\n",
            "mecab-0.996-ko-0.9.2/example/example_lattice.cpp\n",
            "mecab-0.996-ko-0.9.2/example/example_lattice.c\n",
            "mecab-0.996-ko-0.9.2/example/example.c\n",
            "mecab-0.996-ko-0.9.2/example/thread_test.cpp\n",
            "mecab-0.996-ko-0.9.2/mecab-config.in\n",
            "mecab-0.996-ko-0.9.2/man/\n",
            "mecab-0.996-ko-0.9.2/man/Makefile.am\n",
            "mecab-0.996-ko-0.9.2/man/mecab.1\n",
            "mecab-0.996-ko-0.9.2/man/Makefile.in\n",
            "mecab-0.996-ko-0.9.2/mecab.iss.in\n",
            "mecab-0.996-ko-0.9.2/config.guess\n",
            "mecab-0.996-ko-0.9.2/README\n",
            "mecab-0.996-ko-0.9.2/COPYING\n",
            "mecab-0.996-ko-0.9.2/CHANGES.md\n",
            "mecab-0.996-ko-0.9.2/README.md\n",
            "mecab-0.996-ko-0.9.2/INSTALL\n",
            "mecab-0.996-ko-0.9.2/config.sub\n",
            "mecab-0.996-ko-0.9.2/configure.in\n",
            "mecab-0.996-ko-0.9.2/swig/\n",
            "mecab-0.996-ko-0.9.2/swig/Makefile\n",
            "mecab-0.996-ko-0.9.2/swig/version.h.in\n",
            "mecab-0.996-ko-0.9.2/swig/version.h\n",
            "mecab-0.996-ko-0.9.2/swig/MeCab.i\n",
            "mecab-0.996-ko-0.9.2/aclocal.m4\n",
            "mecab-0.996-ko-0.9.2/LGPL\n",
            "mecab-0.996-ko-0.9.2/Makefile.am\n",
            "mecab-0.996-ko-0.9.2/configure\n",
            "mecab-0.996-ko-0.9.2/tests/\n",
            "mecab-0.996-ko-0.9.2/tests/autolink/\n",
            "mecab-0.996-ko-0.9.2/tests/autolink/unk.def\n",
            "mecab-0.996-ko-0.9.2/tests/autolink/dicrc\n",
            "mecab-0.996-ko-0.9.2/tests/autolink/dic.csv\n",
            "mecab-0.996-ko-0.9.2/tests/autolink/test\n",
            "mecab-0.996-ko-0.9.2/tests/autolink/char.def\n",
            "mecab-0.996-ko-0.9.2/tests/autolink/matrix.def\n",
            "mecab-0.996-ko-0.9.2/tests/autolink/test.gld\n",
            "mecab-0.996-ko-0.9.2/tests/t9/\n",
            "mecab-0.996-ko-0.9.2/tests/t9/unk.def\n",
            "mecab-0.996-ko-0.9.2/tests/t9/ipadic.pl\n",
            "mecab-0.996-ko-0.9.2/tests/t9/dicrc\n",
            "mecab-0.996-ko-0.9.2/tests/t9/dic.csv\n",
            "mecab-0.996-ko-0.9.2/tests/t9/test\n",
            "mecab-0.996-ko-0.9.2/tests/t9/char.def\n",
            "mecab-0.996-ko-0.9.2/tests/t9/matrix.def\n",
            "mecab-0.996-ko-0.9.2/tests/t9/mkdic.pl\n",
            "mecab-0.996-ko-0.9.2/tests/t9/test.gld\n",
            "mecab-0.996-ko-0.9.2/tests/cost-train/\n",
            "mecab-0.996-ko-0.9.2/tests/cost-train/ipa.train\n",
            "mecab-0.996-ko-0.9.2/tests/cost-train/ipa.test\n",
            "mecab-0.996-ko-0.9.2/tests/cost-train/seed/\n",
            "mecab-0.996-ko-0.9.2/tests/cost-train/seed/rewrite.def\n",
            "mecab-0.996-ko-0.9.2/tests/cost-train/seed/feature.def\n",
            "mecab-0.996-ko-0.9.2/tests/cost-train/seed/unk.def\n",
            "mecab-0.996-ko-0.9.2/tests/cost-train/seed/dicrc\n",
            "mecab-0.996-ko-0.9.2/tests/cost-train/seed/dic.csv\n",
            "mecab-0.996-ko-0.9.2/tests/cost-train/seed/char.def\n",
            "mecab-0.996-ko-0.9.2/tests/cost-train/seed/matrix.def\n",
            "mecab-0.996-ko-0.9.2/tests/run-eval.sh\n",
            "mecab-0.996-ko-0.9.2/tests/run-cost-train.sh\n",
            "mecab-0.996-ko-0.9.2/tests/Makefile.am\n",
            "mecab-0.996-ko-0.9.2/tests/katakana/\n",
            "mecab-0.996-ko-0.9.2/tests/katakana/unk.def\n",
            "mecab-0.996-ko-0.9.2/tests/katakana/dicrc\n",
            "mecab-0.996-ko-0.9.2/tests/katakana/dic.csv\n",
            "mecab-0.996-ko-0.9.2/tests/katakana/test\n",
            "mecab-0.996-ko-0.9.2/tests/katakana/char.def\n",
            "mecab-0.996-ko-0.9.2/tests/katakana/matrix.def\n",
            "mecab-0.996-ko-0.9.2/tests/katakana/test.gld\n",
            "mecab-0.996-ko-0.9.2/tests/eval/\n",
            "mecab-0.996-ko-0.9.2/tests/eval/answer\n",
            "mecab-0.996-ko-0.9.2/tests/eval/system\n",
            "mecab-0.996-ko-0.9.2/tests/eval/test.gld\n",
            "mecab-0.996-ko-0.9.2/tests/shiin/\n",
            "mecab-0.996-ko-0.9.2/tests/shiin/unk.def\n",
            "mecab-0.996-ko-0.9.2/tests/shiin/dicrc\n",
            "mecab-0.996-ko-0.9.2/tests/shiin/dic.csv\n",
            "mecab-0.996-ko-0.9.2/tests/shiin/test\n",
            "mecab-0.996-ko-0.9.2/tests/shiin/char.def\n",
            "mecab-0.996-ko-0.9.2/tests/shiin/matrix.def\n",
            "mecab-0.996-ko-0.9.2/tests/shiin/mkdic.pl\n",
            "mecab-0.996-ko-0.9.2/tests/shiin/test.gld\n",
            "mecab-0.996-ko-0.9.2/tests/latin/\n",
            "mecab-0.996-ko-0.9.2/tests/latin/unk.def\n",
            "mecab-0.996-ko-0.9.2/tests/latin/dicrc\n",
            "mecab-0.996-ko-0.9.2/tests/latin/dic.csv\n",
            "mecab-0.996-ko-0.9.2/tests/latin/test\n",
            "mecab-0.996-ko-0.9.2/tests/latin/char.def\n",
            "mecab-0.996-ko-0.9.2/tests/latin/matrix.def\n",
            "mecab-0.996-ko-0.9.2/tests/latin/test.gld\n",
            "mecab-0.996-ko-0.9.2/tests/chartype/\n",
            "mecab-0.996-ko-0.9.2/tests/chartype/unk.def\n",
            "mecab-0.996-ko-0.9.2/tests/chartype/dicrc\n",
            "mecab-0.996-ko-0.9.2/tests/chartype/dic.csv\n",
            "mecab-0.996-ko-0.9.2/tests/chartype/test\n",
            "mecab-0.996-ko-0.9.2/tests/chartype/char.def\n",
            "mecab-0.996-ko-0.9.2/tests/chartype/matrix.def\n",
            "mecab-0.996-ko-0.9.2/tests/chartype/test.gld\n",
            "mecab-0.996-ko-0.9.2/tests/run-dics.sh\n",
            "mecab-0.996-ko-0.9.2/tests/ngram/\n",
            "mecab-0.996-ko-0.9.2/tests/ngram/unk.def\n",
            "mecab-0.996-ko-0.9.2/tests/ngram/dicrc\n",
            "mecab-0.996-ko-0.9.2/tests/ngram/dic.csv\n",
            "mecab-0.996-ko-0.9.2/tests/ngram/test\n",
            "mecab-0.996-ko-0.9.2/tests/ngram/char.def\n",
            "mecab-0.996-ko-0.9.2/tests/ngram/matrix.def\n",
            "mecab-0.996-ko-0.9.2/tests/ngram/test.gld\n",
            "mecab-0.996-ko-0.9.2/tests/Makefile.in\n",
            "mecab-0.996-ko-0.9.2/ltmain.sh\n",
            "mecab-0.996-ko-0.9.2/config.rpath\n",
            "mecab-0.996-ko-0.9.2/config.h.in\n",
            "mecab-0.996-ko-0.9.2/mecabrc.in\n",
            "mecab-0.996-ko-0.9.2/GPL\n",
            "mecab-0.996-ko-0.9.2/Makefile.train\n",
            "mecab-0.996-ko-0.9.2/ChangeLog\n",
            "mecab-0.996-ko-0.9.2/install-sh\n",
            "mecab-0.996-ko-0.9.2/AUTHORS\n",
            "mecab-0.996-ko-0.9.2/doc/\n",
            "mecab-0.996-ko-0.9.2/doc/bindings.html\n",
            "mecab-0.996-ko-0.9.2/doc/posid.html\n",
            "mecab-0.996-ko-0.9.2/doc/unk.html\n",
            "mecab-0.996-ko-0.9.2/doc/learn.html\n",
            "mecab-0.996-ko-0.9.2/doc/format.html\n",
            "mecab-0.996-ko-0.9.2/doc/libmecab.html\n",
            "mecab-0.996-ko-0.9.2/doc/mecab.css\n",
            "mecab-0.996-ko-0.9.2/doc/feature.html\n",
            "mecab-0.996-ko-0.9.2/doc/Makefile.am\n",
            "mecab-0.996-ko-0.9.2/doc/soft.html\n",
            "mecab-0.996-ko-0.9.2/doc/en/\n",
            "mecab-0.996-ko-0.9.2/doc/en/bindings.html\n",
            "mecab-0.996-ko-0.9.2/doc/dic-detail.html\n",
            "mecab-0.996-ko-0.9.2/doc/flow.png\n",
            "mecab-0.996-ko-0.9.2/doc/mecab.html\n",
            "mecab-0.996-ko-0.9.2/doc/index.html\n",
            "mecab-0.996-ko-0.9.2/doc/result.png\n",
            "mecab-0.996-ko-0.9.2/doc/doxygen/\n",
            "mecab-0.996-ko-0.9.2/doc/doxygen/tab_a.png\n",
            "mecab-0.996-ko-0.9.2/doc/doxygen/globals_eval.html\n",
            "mecab-0.996-ko-0.9.2/doc/doxygen/classMeCab_1_1Tagger-members.html\n",
            "mecab-0.996-ko-0.9.2/doc/doxygen/functions_vars.html\n",
            "mecab-0.996-ko-0.9.2/doc/doxygen/doxygen.css\n",
            "mecab-0.996-ko-0.9.2/doc/doxygen/tab_r.gif\n",
            "mecab-0.996-ko-0.9.2/doc/doxygen/classMeCab_1_1Lattice.html\n",
            "mecab-0.996-ko-0.9.2/doc/doxygen/functions.html\n",
            "mecab-0.996-ko-0.9.2/doc/doxygen/classMeCab_1_1Tagger.html\n",
            "mecab-0.996-ko-0.9.2/doc/doxygen/mecab_8h_source.html\n",
            "mecab-0.996-ko-0.9.2/doc/doxygen/tabs.css\n",
            "mecab-0.996-ko-0.9.2/doc/doxygen/nav_f.png\n",
            "mecab-0.996-ko-0.9.2/doc/doxygen/tab_b.png\n",
            "mecab-0.996-ko-0.9.2/doc/doxygen/globals.html\n",
            "mecab-0.996-ko-0.9.2/doc/doxygen/nav_h.png\n",
            "mecab-0.996-ko-0.9.2/doc/doxygen/tab_h.png\n",
            "mecab-0.996-ko-0.9.2/doc/doxygen/classMeCab_1_1Model.html\n",
            "mecab-0.996-ko-0.9.2/doc/doxygen/globals_func.html\n",
            "mecab-0.996-ko-0.9.2/doc/doxygen/closed.png\n",
            "mecab-0.996-ko-0.9.2/doc/doxygen/tab_l.gif\n",
            "mecab-0.996-ko-0.9.2/doc/doxygen/structmecab__path__t-members.html\n",
            "mecab-0.996-ko-0.9.2/doc/doxygen/functions_func.html\n",
            "mecab-0.996-ko-0.9.2/doc/doxygen/globals_type.html\n",
            "mecab-0.996-ko-0.9.2/doc/doxygen/classMeCab_1_1Lattice-members.html\n",
            "mecab-0.996-ko-0.9.2/doc/doxygen/structmecab__node__t.html\n",
            "mecab-0.996-ko-0.9.2/doc/doxygen/namespacemembers_func.html\n",
            "mecab-0.996-ko-0.9.2/doc/doxygen/tab_s.png\n",
            "mecab-0.996-ko-0.9.2/doc/doxygen/structmecab__dictionary__info__t-members.html\n",
            "mecab-0.996-ko-0.9.2/doc/doxygen/namespacemembers_type.html\n",
            "mecab-0.996-ko-0.9.2/doc/doxygen/classMeCab_1_1Model-members.html\n",
            "mecab-0.996-ko-0.9.2/doc/doxygen/structmecab__dictionary__info__t.html\n",
            "mecab-0.996-ko-0.9.2/doc/doxygen/namespaces.html\n",
            "mecab-0.996-ko-0.9.2/doc/doxygen/namespacemembers.html\n",
            "mecab-0.996-ko-0.9.2/doc/doxygen/namespaceMeCab.html\n",
            "mecab-0.996-ko-0.9.2/doc/doxygen/structmecab__path__t.html\n",
            "mecab-0.996-ko-0.9.2/doc/doxygen/files.html\n",
            "mecab-0.996-ko-0.9.2/doc/doxygen/structmecab__node__t-members.html\n",
            "mecab-0.996-ko-0.9.2/doc/doxygen/index.html\n",
            "mecab-0.996-ko-0.9.2/doc/doxygen/annotated.html\n",
            "mecab-0.996-ko-0.9.2/doc/doxygen/globals_defs.html\n",
            "mecab-0.996-ko-0.9.2/doc/doxygen/classes.html\n",
            "mecab-0.996-ko-0.9.2/doc/doxygen/mecab_8h-source.html\n",
            "mecab-0.996-ko-0.9.2/doc/doxygen/doxygen.png\n",
            "mecab-0.996-ko-0.9.2/doc/doxygen/tab_b.gif\n",
            "mecab-0.996-ko-0.9.2/doc/doxygen/bc_s.png\n",
            "mecab-0.996-ko-0.9.2/doc/doxygen/open.png\n",
            "mecab-0.996-ko-0.9.2/doc/doxygen/mecab_8h.html\n",
            "mecab-0.996-ko-0.9.2/doc/dic.html\n",
            "mecab-0.996-ko-0.9.2/doc/partial.html\n",
            "mecab-0.996-ko-0.9.2/doc/feature.png\n",
            "mecab-0.996-ko-0.9.2/doc/Makefile.in\n",
            "mecab-0.996-ko-0.9.2/missing\n",
            "mecab-0.996-ko-0.9.2/BSD\n",
            "mecab-0.996-ko-0.9.2/NEWS\n",
            "mecab-0.996-ko-0.9.2/mkinstalldirs\n",
            "mecab-0.996-ko-0.9.2/src/\n",
            "mecab-0.996-ko-0.9.2/src/dictionary.h\n",
            "mecab-0.996-ko-0.9.2/src/writer.h\n",
            "mecab-0.996-ko-0.9.2/src/utils.h\n",
            "mecab-0.996-ko-0.9.2/src/string_buffer.cpp\n",
            "mecab-0.996-ko-0.9.2/src/tokenizer.cpp\n",
            "mecab-0.996-ko-0.9.2/src/make.bat\n",
            "mecab-0.996-ko-0.9.2/src/mecab.h\n",
            "mecab-0.996-ko-0.9.2/src/freelist.h\n",
            "mecab-0.996-ko-0.9.2/src/string_buffer.h\n",
            "mecab-0.996-ko-0.9.2/src/learner_tagger.h\n",
            "mecab-0.996-ko-0.9.2/src/dictionary_compiler.cpp\n",
            "mecab-0.996-ko-0.9.2/src/eval.cpp\n",
            "mecab-0.996-ko-0.9.2/src/mecab-system-eval.cpp\n",
            "mecab-0.996-ko-0.9.2/src/darts.h\n",
            "mecab-0.996-ko-0.9.2/src/param.h\n",
            "mecab-0.996-ko-0.9.2/src/char_property.h\n",
            "mecab-0.996-ko-0.9.2/src/learner_node.h\n",
            "mecab-0.996-ko-0.9.2/src/mecab-dict-gen.cpp\n",
            "mecab-0.996-ko-0.9.2/src/mecab-dict-index.cpp\n",
            "mecab-0.996-ko-0.9.2/src/winmain.h\n",
            "mecab-0.996-ko-0.9.2/src/thread.h\n",
            "mecab-0.996-ko-0.9.2/src/context_id.cpp\n",
            "mecab-0.996-ko-0.9.2/src/Makefile.am\n",
            "mecab-0.996-ko-0.9.2/src/connector.h\n",
            "mecab-0.996-ko-0.9.2/src/common.h\n",
            "mecab-0.996-ko-0.9.2/src/dictionary_rewriter.cpp\n",
            "mecab-0.996-ko-0.9.2/src/Makefile.msvc.in\n",
            "mecab-0.996-ko-0.9.2/src/dictionary_rewriter.h\n",
            "mecab-0.996-ko-0.9.2/src/feature_index.h\n",
            "mecab-0.996-ko-0.9.2/src/iconv_utils.cpp\n",
            "mecab-0.996-ko-0.9.2/src/char_property.cpp\n",
            "mecab-0.996-ko-0.9.2/src/mecab-test-gen.cpp\n",
            "mecab-0.996-ko-0.9.2/src/tagger.cpp\n",
            "mecab-0.996-ko-0.9.2/src/mecab-cost-train.cpp\n",
            "mecab-0.996-ko-0.9.2/src/learner.cpp\n",
            "mecab-0.996-ko-0.9.2/src/dictionary.cpp\n",
            "mecab-0.996-ko-0.9.2/src/lbfgs.cpp\n",
            "mecab-0.996-ko-0.9.2/src/ucs.h\n",
            "mecab-0.996-ko-0.9.2/src/writer.cpp\n",
            "mecab-0.996-ko-0.9.2/src/learner_tagger.cpp\n",
            "mecab-0.996-ko-0.9.2/src/lbfgs.h\n",
            "mecab-0.996-ko-0.9.2/src/libmecab.cpp\n",
            "mecab-0.996-ko-0.9.2/src/tokenizer.h\n",
            "mecab-0.996-ko-0.9.2/src/mecab.cpp\n",
            "mecab-0.996-ko-0.9.2/src/utils.cpp\n",
            "mecab-0.996-ko-0.9.2/src/dictionary_generator.cpp\n",
            "mecab-0.996-ko-0.9.2/src/param.cpp\n",
            "mecab-0.996-ko-0.9.2/src/context_id.h\n",
            "mecab-0.996-ko-0.9.2/src/mmap.h\n",
            "mecab-0.996-ko-0.9.2/src/viterbi.h\n",
            "mecab-0.996-ko-0.9.2/src/viterbi.cpp\n",
            "mecab-0.996-ko-0.9.2/src/stream_wrapper.h\n",
            "mecab-0.996-ko-0.9.2/src/feature_index.cpp\n",
            "mecab-0.996-ko-0.9.2/src/nbest_generator.h\n",
            "mecab-0.996-ko-0.9.2/src/ucstable.h\n",
            "mecab-0.996-ko-0.9.2/src/nbest_generator.cpp\n",
            "mecab-0.996-ko-0.9.2/src/iconv_utils.h\n",
            "mecab-0.996-ko-0.9.2/src/connector.cpp\n",
            "mecab-0.996-ko-0.9.2/src/Makefile.in\n",
            "mecab-0.996-ko-0.9.2/src/scoped_ptr.h\n",
            "mecab-0.996-ko-0.9.2/Makefile.in\n",
            "checking for a BSD-compatible install... /usr/bin/install -c\n",
            "checking whether build environment is sane... yes\n",
            "checking for a thread-safe mkdir -p... /bin/mkdir -p\n",
            "checking for gawk... no\n",
            "checking for mawk... mawk\n",
            "checking whether make sets $(MAKE)... yes\n",
            "checking for gcc... gcc\n",
            "checking whether the C compiler works... yes\n",
            "checking for C compiler default output file name... a.out\n",
            "checking for suffix of executables... \n",
            "checking whether we are cross compiling... no\n",
            "checking for suffix of object files... o\n",
            "checking whether we are using the GNU C compiler... yes\n",
            "checking whether gcc accepts -g... yes\n",
            "checking for gcc option to accept ISO C89... none needed\n",
            "checking for style of include used by make... GNU\n",
            "checking dependency style of gcc... none\n",
            "checking for g++... g++\n",
            "checking whether we are using the GNU C++ compiler... yes\n",
            "checking whether g++ accepts -g... yes\n",
            "checking dependency style of g++... none\n",
            "checking how to run the C preprocessor... gcc -E\n",
            "checking for grep that handles long lines and -e... /bin/grep\n",
            "checking for egrep... /bin/grep -E\n",
            "checking whether gcc needs -traditional... no\n",
            "checking whether make sets $(MAKE)... (cached) yes\n",
            "checking build system type... x86_64-unknown-linux-gnu\n",
            "checking host system type... x86_64-unknown-linux-gnu\n",
            "checking how to print strings... printf\n",
            "checking for a sed that does not truncate output... /bin/sed\n",
            "checking for fgrep... /bin/grep -F\n",
            "checking for ld used by gcc... /usr/bin/ld\n",
            "checking if the linker (/usr/bin/ld) is GNU ld... yes\n",
            "checking for BSD- or MS-compatible name lister (nm)... /usr/bin/nm -B\n",
            "checking the name lister (/usr/bin/nm -B) interface... BSD nm\n",
            "checking whether ln -s works... yes\n",
            "checking the maximum length of command line arguments... 1572864\n",
            "checking whether the shell understands some XSI constructs... yes\n",
            "checking whether the shell understands \"+=\"... yes\n",
            "checking how to convert x86_64-unknown-linux-gnu file names to x86_64-unknown-linux-gnu format... func_convert_file_noop\n",
            "checking how to convert x86_64-unknown-linux-gnu file names to toolchain format... func_convert_file_noop\n",
            "checking for /usr/bin/ld option to reload object files... -r\n",
            "checking for objdump... objdump\n",
            "checking how to recognize dependent libraries... pass_all\n",
            "checking for dlltool... dlltool\n",
            "checking how to associate runtime and link libraries... printf %s\\n\n",
            "checking for ar... ar\n",
            "checking for archiver @FILE support... @\n",
            "checking for strip... strip\n",
            "checking for ranlib... ranlib\n",
            "checking command to parse /usr/bin/nm -B output from gcc object... ok\n",
            "checking for sysroot... no\n",
            "./configure: line 7378: /usr/bin/file: No such file or directory\n",
            "checking for mt... no\n",
            "checking if : is a manifest tool... no\n",
            "checking for ANSI C header files... yes\n",
            "checking for sys/types.h... yes\n",
            "checking for sys/stat.h... yes\n",
            "checking for stdlib.h... yes\n",
            "checking for string.h... yes\n",
            "checking for memory.h... yes\n",
            "checking for strings.h... yes\n",
            "checking for inttypes.h... yes\n",
            "checking for stdint.h... yes\n",
            "checking for unistd.h... yes\n",
            "checking for dlfcn.h... yes\n",
            "checking for objdir... .libs\n",
            "checking if gcc supports -fno-rtti -fno-exceptions... no\n",
            "checking for gcc option to produce PIC... -fPIC -DPIC\n",
            "checking if gcc PIC flag -fPIC -DPIC works... yes\n",
            "checking if gcc static flag -static works... yes\n",
            "checking if gcc supports -c -o file.o... yes\n",
            "checking if gcc supports -c -o file.o... (cached) yes\n",
            "checking whether the gcc linker (/usr/bin/ld) supports shared libraries... yes\n",
            "checking whether -lc should be explicitly linked in... no\n",
            "checking dynamic linker characteristics... GNU/Linux ld.so\n",
            "checking how to hardcode library paths into programs... immediate\n",
            "checking whether stripping libraries is possible... yes\n",
            "checking if libtool supports shared libraries... yes\n",
            "checking whether to build shared libraries... yes\n",
            "checking whether to build static libraries... yes\n",
            "checking how to run the C++ preprocessor... g++ -E\n",
            "checking for ld used by g++... /usr/bin/ld\n",
            "checking if the linker (/usr/bin/ld) is GNU ld... yes\n",
            "checking whether the g++ linker (/usr/bin/ld) supports shared libraries... yes\n",
            "checking for g++ option to produce PIC... -fPIC -DPIC\n",
            "checking if g++ PIC flag -fPIC -DPIC works... yes\n",
            "checking if g++ static flag -static works... yes\n",
            "checking if g++ supports -c -o file.o... yes\n",
            "checking if g++ supports -c -o file.o... (cached) yes\n",
            "checking whether the g++ linker (/usr/bin/ld) supports shared libraries... yes\n",
            "checking dynamic linker characteristics... (cached) GNU/Linux ld.so\n",
            "checking how to hardcode library paths into programs... immediate\n",
            "checking for library containing strerror... none required\n",
            "checking whether byte ordering is bigendian... no\n",
            "checking for ld used by GCC... /usr/bin/ld\n",
            "checking if the linker (/usr/bin/ld) is GNU ld... yes\n",
            "checking for shared library run path origin... done\n",
            "checking for iconv... yes\n",
            "checking for working iconv... yes\n",
            "checking for iconv declaration... \n",
            "         extern size_t iconv (iconv_t cd, char * *inbuf, size_t *inbytesleft, char * *outbuf, size_t *outbytesleft);\n",
            "checking for ANSI C header files... (cached) yes\n",
            "checking for an ANSI C-conforming const... yes\n",
            "checking whether byte ordering is bigendian... (cached) no\n",
            "checking for string.h... (cached) yes\n",
            "checking for stdlib.h... (cached) yes\n",
            "checking for unistd.h... (cached) yes\n",
            "checking fcntl.h usability... yes\n",
            "checking fcntl.h presence... yes\n",
            "checking for fcntl.h... yes\n",
            "checking for stdint.h... (cached) yes\n",
            "checking for sys/stat.h... (cached) yes\n",
            "checking sys/mman.h usability... yes\n",
            "checking sys/mman.h presence... yes\n",
            "checking for sys/mman.h... yes\n",
            "checking sys/times.h usability... yes\n",
            "checking sys/times.h presence... yes\n",
            "checking for sys/times.h... yes\n",
            "checking for sys/types.h... (cached) yes\n",
            "checking dirent.h usability... yes\n",
            "checking dirent.h presence... yes\n",
            "checking for dirent.h... yes\n",
            "checking ctype.h usability... yes\n",
            "checking ctype.h presence... yes\n",
            "checking for ctype.h... yes\n",
            "checking for sys/types.h... (cached) yes\n",
            "checking io.h usability... no\n",
            "checking io.h presence... no\n",
            "checking for io.h... no\n",
            "checking windows.h usability... no\n",
            "checking windows.h presence... no\n",
            "checking for windows.h... no\n",
            "checking pthread.h usability... yes\n",
            "checking pthread.h presence... yes\n",
            "checking for pthread.h... yes\n",
            "checking for off_t... yes\n",
            "checking for size_t... yes\n",
            "checking size of char... 1\n",
            "checking size of short... 2\n",
            "checking size of int... 4\n",
            "checking size of long... 8\n",
            "checking size of long long... 8\n",
            "checking size of size_t... 8\n",
            "checking for size_t... (cached) yes\n",
            "checking for unsigned long long int... yes\n",
            "checking for stdlib.h... (cached) yes\n",
            "checking for unistd.h... (cached) yes\n",
            "checking for sys/param.h... yes\n",
            "checking for getpagesize... yes\n",
            "checking for working mmap... yes\n",
            "checking for main in -lstdc++... yes\n",
            "checking for pthread_create in -lpthread... yes\n",
            "checking for pthread_join in -lpthread... yes\n",
            "checking for getenv... yes\n",
            "checking for opendir... yes\n",
            "checking whether make is GNU Make... yes\n",
            "checking if g++ supports stl <vector> (required)... yes\n",
            "checking if g++ supports stl <list> (required)... yes\n",
            "checking if g++ supports stl <map> (required)... yes\n",
            "checking if g++ supports stl <set> (required)... yes\n",
            "checking if g++ supports stl <queue> (required)... yes\n",
            "checking if g++ supports stl <functional> (required)... yes\n",
            "checking if g++ supports stl <algorithm> (required)... yes\n",
            "checking if g++ supports stl <string> (required)... yes\n",
            "checking if g++ supports stl <iostream> (required)... yes\n",
            "checking if g++ supports stl <sstream> (required)... yes\n",
            "checking if g++ supports stl <fstream> (required)... yes\n",
            "checking if g++ supports template <class T> (required)... yes\n",
            "checking if g++ supports const_cast<> (required)... yes\n",
            "checking if g++ supports static_cast<> (required)... yes\n",
            "checking if g++ supports reinterpret_cast<> (required)... yes\n",
            "checking if g++ supports namespaces (required) ... yes\n",
            "checking if g++ supports __thread (optional)... yes\n",
            "checking if g++ supports template <class T> (required)... yes\n",
            "checking if g++ supports GCC native atomic operations (optional)... yes\n",
            "checking if g++ supports OSX native atomic operations (optional)... no\n",
            "checking if g++ environment provides all required features... yes\n",
            "configure: creating ./config.status\n",
            "config.status: creating Makefile\n",
            "config.status: creating src/Makefile\n",
            "config.status: creating src/Makefile.msvc\n",
            "config.status: creating man/Makefile\n",
            "config.status: creating doc/Makefile\n",
            "config.status: creating tests/Makefile\n",
            "config.status: creating swig/version.h\n",
            "config.status: creating mecab.iss\n",
            "config.status: creating mecab-config\n",
            "config.status: creating mecabrc\n",
            "config.status: creating config.h\n",
            "config.status: executing depfiles commands\n",
            "config.status: executing libtool commands\n",
            "config.status: executing default commands\n",
            "make  all-recursive\n",
            "make[1]: Entering directory '/tmp/mecab-0.996-ko-0.9.2'\n",
            "Making all in src\n",
            "make[2]: Entering directory '/tmp/mecab-0.996-ko-0.9.2/src'\n",
            "/bin/bash ../libtool --tag=CXX   --mode=compile g++ -DHAVE_CONFIG_H -I. -I.. -DDIC_VERSION=102   -DMECAB_DEFAULT_RC=\"\\\"/usr/local/etc/mecabrc\\\"\"    -O3 -Wall  -c -o viterbi.lo viterbi.cpp\n",
            "libtool: compile:  g++ -DHAVE_CONFIG_H -I. -I.. -DDIC_VERSION=102 -DMECAB_DEFAULT_RC=\\\"/usr/local/etc/mecabrc\\\" -O3 -Wall -c viterbi.cpp  -fPIC -DPIC -o .libs/viterbi.o\n",
            "In file included from \u001b[01m\u001b[Kviterbi.cpp:14:0\u001b[m\u001b[K:\n",
            "\u001b[01m\u001b[Kparam.h:30:13:\u001b[m\u001b[K \u001b[01;35m\u001b[Kwarning: \u001b[m\u001b[K'\u001b[01m\u001b[KTarget {anonymous}::lexical_cast(Source) [with Target = std::__cxx11::basic_string<char>; Source = std::__cxx11::basic_string<char>]\u001b[m\u001b[K' defined but not used [\u001b[01;35m\u001b[K-Wunused-function\u001b[m\u001b[K]\n",
            " std::string \u001b[01;35m\u001b[Klexical_cast<std::string, std::string>\u001b[m\u001b[K(std::string arg) {\n",
            "             \u001b[01;35m\u001b[K^~~~~~~~~~~~~~~~~~~~~~~~~~~~~~~~~~~~~~\u001b[m\u001b[K\n",
            "libtool: compile:  g++ -DHAVE_CONFIG_H -I. -I.. -DDIC_VERSION=102 -DMECAB_DEFAULT_RC=\\\"/usr/local/etc/mecabrc\\\" -O3 -Wall -c viterbi.cpp -o viterbi.o >/dev/null 2>&1\n",
            "/bin/bash ../libtool --tag=CXX   --mode=compile g++ -DHAVE_CONFIG_H -I. -I.. -DDIC_VERSION=102   -DMECAB_DEFAULT_RC=\"\\\"/usr/local/etc/mecabrc\\\"\"    -O3 -Wall  -c -o tagger.lo tagger.cpp\n",
            "libtool: compile:  g++ -DHAVE_CONFIG_H -I. -I.. -DDIC_VERSION=102 -DMECAB_DEFAULT_RC=\\\"/usr/local/etc/mecabrc\\\" -O3 -Wall -c tagger.cpp  -fPIC -DPIC -o .libs/tagger.o\n",
            "libtool: compile:  g++ -DHAVE_CONFIG_H -I. -I.. -DDIC_VERSION=102 -DMECAB_DEFAULT_RC=\\\"/usr/local/etc/mecabrc\\\" -O3 -Wall -c tagger.cpp -o tagger.o >/dev/null 2>&1\n",
            "/bin/bash ../libtool --tag=CXX   --mode=compile g++ -DHAVE_CONFIG_H -I. -I.. -DDIC_VERSION=102   -DMECAB_DEFAULT_RC=\"\\\"/usr/local/etc/mecabrc\\\"\"    -O3 -Wall  -c -o utils.lo utils.cpp\n",
            "libtool: compile:  g++ -DHAVE_CONFIG_H -I. -I.. -DDIC_VERSION=102 -DMECAB_DEFAULT_RC=\\\"/usr/local/etc/mecabrc\\\" -O3 -Wall -c utils.cpp  -fPIC -DPIC -o .libs/utils.o\n",
            "libtool: compile:  g++ -DHAVE_CONFIG_H -I. -I.. -DDIC_VERSION=102 -DMECAB_DEFAULT_RC=\\\"/usr/local/etc/mecabrc\\\" -O3 -Wall -c utils.cpp -o utils.o >/dev/null 2>&1\n",
            "/bin/bash ../libtool --tag=CXX   --mode=compile g++ -DHAVE_CONFIG_H -I. -I.. -DDIC_VERSION=102   -DMECAB_DEFAULT_RC=\"\\\"/usr/local/etc/mecabrc\\\"\"    -O3 -Wall  -c -o eval.lo eval.cpp\n",
            "libtool: compile:  g++ -DHAVE_CONFIG_H -I. -I.. -DDIC_VERSION=102 -DMECAB_DEFAULT_RC=\\\"/usr/local/etc/mecabrc\\\" -O3 -Wall -c eval.cpp  -fPIC -DPIC -o .libs/eval.o\n",
            "libtool: compile:  g++ -DHAVE_CONFIG_H -I. -I.. -DDIC_VERSION=102 -DMECAB_DEFAULT_RC=\\\"/usr/local/etc/mecabrc\\\" -O3 -Wall -c eval.cpp -o eval.o >/dev/null 2>&1\n",
            "/bin/bash ../libtool --tag=CXX   --mode=compile g++ -DHAVE_CONFIG_H -I. -I.. -DDIC_VERSION=102   -DMECAB_DEFAULT_RC=\"\\\"/usr/local/etc/mecabrc\\\"\"    -O3 -Wall  -c -o iconv_utils.lo iconv_utils.cpp\n",
            "libtool: compile:  g++ -DHAVE_CONFIG_H -I. -I.. -DDIC_VERSION=102 -DMECAB_DEFAULT_RC=\\\"/usr/local/etc/mecabrc\\\" -O3 -Wall -c iconv_utils.cpp  -fPIC -DPIC -o .libs/iconv_utils.o\n",
            "libtool: compile:  g++ -DHAVE_CONFIG_H -I. -I.. -DDIC_VERSION=102 -DMECAB_DEFAULT_RC=\\\"/usr/local/etc/mecabrc\\\" -O3 -Wall -c iconv_utils.cpp -o iconv_utils.o >/dev/null 2>&1\n",
            "/bin/bash ../libtool --tag=CXX   --mode=compile g++ -DHAVE_CONFIG_H -I. -I.. -DDIC_VERSION=102   -DMECAB_DEFAULT_RC=\"\\\"/usr/local/etc/mecabrc\\\"\"    -O3 -Wall  -c -o dictionary_rewriter.lo dictionary_rewriter.cpp\n",
            "libtool: compile:  g++ -DHAVE_CONFIG_H -I. -I.. -DDIC_VERSION=102 -DMECAB_DEFAULT_RC=\\\"/usr/local/etc/mecabrc\\\" -O3 -Wall -c dictionary_rewriter.cpp  -fPIC -DPIC -o .libs/dictionary_rewriter.o\n",
            "libtool: compile:  g++ -DHAVE_CONFIG_H -I. -I.. -DDIC_VERSION=102 -DMECAB_DEFAULT_RC=\\\"/usr/local/etc/mecabrc\\\" -O3 -Wall -c dictionary_rewriter.cpp -o dictionary_rewriter.o >/dev/null 2>&1\n",
            "/bin/bash ../libtool --tag=CXX   --mode=compile g++ -DHAVE_CONFIG_H -I. -I.. -DDIC_VERSION=102   -DMECAB_DEFAULT_RC=\"\\\"/usr/local/etc/mecabrc\\\"\"    -O3 -Wall  -c -o dictionary_generator.lo dictionary_generator.cpp\n",
            "libtool: compile:  g++ -DHAVE_CONFIG_H -I. -I.. -DDIC_VERSION=102 -DMECAB_DEFAULT_RC=\\\"/usr/local/etc/mecabrc\\\" -O3 -Wall -c dictionary_generator.cpp  -fPIC -DPIC -o .libs/dictionary_generator.o\n",
            "libtool: compile:  g++ -DHAVE_CONFIG_H -I. -I.. -DDIC_VERSION=102 -DMECAB_DEFAULT_RC=\\\"/usr/local/etc/mecabrc\\\" -O3 -Wall -c dictionary_generator.cpp -o dictionary_generator.o >/dev/null 2>&1\n",
            "/bin/bash ../libtool --tag=CXX   --mode=compile g++ -DHAVE_CONFIG_H -I. -I.. -DDIC_VERSION=102   -DMECAB_DEFAULT_RC=\"\\\"/usr/local/etc/mecabrc\\\"\"    -O3 -Wall  -c -o dictionary_compiler.lo dictionary_compiler.cpp\n",
            "libtool: compile:  g++ -DHAVE_CONFIG_H -I. -I.. -DDIC_VERSION=102 -DMECAB_DEFAULT_RC=\\\"/usr/local/etc/mecabrc\\\" -O3 -Wall -c dictionary_compiler.cpp  -fPIC -DPIC -o .libs/dictionary_compiler.o\n",
            "libtool: compile:  g++ -DHAVE_CONFIG_H -I. -I.. -DDIC_VERSION=102 -DMECAB_DEFAULT_RC=\\\"/usr/local/etc/mecabrc\\\" -O3 -Wall -c dictionary_compiler.cpp -o dictionary_compiler.o >/dev/null 2>&1\n",
            "/bin/bash ../libtool --tag=CXX   --mode=compile g++ -DHAVE_CONFIG_H -I. -I.. -DDIC_VERSION=102   -DMECAB_DEFAULT_RC=\"\\\"/usr/local/etc/mecabrc\\\"\"    -O3 -Wall  -c -o context_id.lo context_id.cpp\n",
            "libtool: compile:  g++ -DHAVE_CONFIG_H -I. -I.. -DDIC_VERSION=102 -DMECAB_DEFAULT_RC=\\\"/usr/local/etc/mecabrc\\\" -O3 -Wall -c context_id.cpp  -fPIC -DPIC -o .libs/context_id.o\n",
            "libtool: compile:  g++ -DHAVE_CONFIG_H -I. -I.. -DDIC_VERSION=102 -DMECAB_DEFAULT_RC=\\\"/usr/local/etc/mecabrc\\\" -O3 -Wall -c context_id.cpp -o context_id.o >/dev/null 2>&1\n",
            "/bin/bash ../libtool --tag=CXX   --mode=compile g++ -DHAVE_CONFIG_H -I. -I.. -DDIC_VERSION=102   -DMECAB_DEFAULT_RC=\"\\\"/usr/local/etc/mecabrc\\\"\"    -O3 -Wall  -c -o connector.lo connector.cpp\n",
            "libtool: compile:  g++ -DHAVE_CONFIG_H -I. -I.. -DDIC_VERSION=102 -DMECAB_DEFAULT_RC=\\\"/usr/local/etc/mecabrc\\\" -O3 -Wall -c connector.cpp  -fPIC -DPIC -o .libs/connector.o\n",
            "libtool: compile:  g++ -DHAVE_CONFIG_H -I. -I.. -DDIC_VERSION=102 -DMECAB_DEFAULT_RC=\\\"/usr/local/etc/mecabrc\\\" -O3 -Wall -c connector.cpp -o connector.o >/dev/null 2>&1\n",
            "/bin/bash ../libtool --tag=CXX   --mode=compile g++ -DHAVE_CONFIG_H -I. -I.. -DDIC_VERSION=102   -DMECAB_DEFAULT_RC=\"\\\"/usr/local/etc/mecabrc\\\"\"    -O3 -Wall  -c -o nbest_generator.lo nbest_generator.cpp\n",
            "libtool: compile:  g++ -DHAVE_CONFIG_H -I. -I.. -DDIC_VERSION=102 -DMECAB_DEFAULT_RC=\\\"/usr/local/etc/mecabrc\\\" -O3 -Wall -c nbest_generator.cpp  -fPIC -DPIC -o .libs/nbest_generator.o\n",
            "libtool: compile:  g++ -DHAVE_CONFIG_H -I. -I.. -DDIC_VERSION=102 -DMECAB_DEFAULT_RC=\\\"/usr/local/etc/mecabrc\\\" -O3 -Wall -c nbest_generator.cpp -o nbest_generator.o >/dev/null 2>&1\n",
            "/bin/bash ../libtool --tag=CXX   --mode=compile g++ -DHAVE_CONFIG_H -I. -I.. -DDIC_VERSION=102   -DMECAB_DEFAULT_RC=\"\\\"/usr/local/etc/mecabrc\\\"\"    -O3 -Wall  -c -o writer.lo writer.cpp\n",
            "libtool: compile:  g++ -DHAVE_CONFIG_H -I. -I.. -DDIC_VERSION=102 -DMECAB_DEFAULT_RC=\\\"/usr/local/etc/mecabrc\\\" -O3 -Wall -c writer.cpp  -fPIC -DPIC -o .libs/writer.o\n",
            "libtool: compile:  g++ -DHAVE_CONFIG_H -I. -I.. -DDIC_VERSION=102 -DMECAB_DEFAULT_RC=\\\"/usr/local/etc/mecabrc\\\" -O3 -Wall -c writer.cpp -o writer.o >/dev/null 2>&1\n",
            "/bin/bash ../libtool --tag=CXX   --mode=compile g++ -DHAVE_CONFIG_H -I. -I.. -DDIC_VERSION=102   -DMECAB_DEFAULT_RC=\"\\\"/usr/local/etc/mecabrc\\\"\"    -O3 -Wall  -c -o string_buffer.lo string_buffer.cpp\n",
            "libtool: compile:  g++ -DHAVE_CONFIG_H -I. -I.. -DDIC_VERSION=102 -DMECAB_DEFAULT_RC=\\\"/usr/local/etc/mecabrc\\\" -O3 -Wall -c string_buffer.cpp  -fPIC -DPIC -o .libs/string_buffer.o\n",
            "libtool: compile:  g++ -DHAVE_CONFIG_H -I. -I.. -DDIC_VERSION=102 -DMECAB_DEFAULT_RC=\\\"/usr/local/etc/mecabrc\\\" -O3 -Wall -c string_buffer.cpp -o string_buffer.o >/dev/null 2>&1\n",
            "/bin/bash ../libtool --tag=CXX   --mode=compile g++ -DHAVE_CONFIG_H -I. -I.. -DDIC_VERSION=102   -DMECAB_DEFAULT_RC=\"\\\"/usr/local/etc/mecabrc\\\"\"    -O3 -Wall  -c -o param.lo param.cpp\n",
            "libtool: compile:  g++ -DHAVE_CONFIG_H -I. -I.. -DDIC_VERSION=102 -DMECAB_DEFAULT_RC=\\\"/usr/local/etc/mecabrc\\\" -O3 -Wall -c param.cpp  -fPIC -DPIC -o .libs/param.o\n",
            "libtool: compile:  g++ -DHAVE_CONFIG_H -I. -I.. -DDIC_VERSION=102 -DMECAB_DEFAULT_RC=\\\"/usr/local/etc/mecabrc\\\" -O3 -Wall -c param.cpp -o param.o >/dev/null 2>&1\n",
            "/bin/bash ../libtool --tag=CXX   --mode=compile g++ -DHAVE_CONFIG_H -I. -I.. -DDIC_VERSION=102   -DMECAB_DEFAULT_RC=\"\\\"/usr/local/etc/mecabrc\\\"\"    -O3 -Wall  -c -o tokenizer.lo tokenizer.cpp\n",
            "libtool: compile:  g++ -DHAVE_CONFIG_H -I. -I.. -DDIC_VERSION=102 -DMECAB_DEFAULT_RC=\\\"/usr/local/etc/mecabrc\\\" -O3 -Wall -c tokenizer.cpp  -fPIC -DPIC -o .libs/tokenizer.o\n",
            "libtool: compile:  g++ -DHAVE_CONFIG_H -I. -I.. -DDIC_VERSION=102 -DMECAB_DEFAULT_RC=\\\"/usr/local/etc/mecabrc\\\" -O3 -Wall -c tokenizer.cpp -o tokenizer.o >/dev/null 2>&1\n",
            "/bin/bash ../libtool --tag=CXX   --mode=compile g++ -DHAVE_CONFIG_H -I. -I.. -DDIC_VERSION=102   -DMECAB_DEFAULT_RC=\"\\\"/usr/local/etc/mecabrc\\\"\"    -O3 -Wall  -c -o char_property.lo char_property.cpp\n",
            "libtool: compile:  g++ -DHAVE_CONFIG_H -I. -I.. -DDIC_VERSION=102 -DMECAB_DEFAULT_RC=\\\"/usr/local/etc/mecabrc\\\" -O3 -Wall -c char_property.cpp  -fPIC -DPIC -o .libs/char_property.o\n",
            "libtool: compile:  g++ -DHAVE_CONFIG_H -I. -I.. -DDIC_VERSION=102 -DMECAB_DEFAULT_RC=\\\"/usr/local/etc/mecabrc\\\" -O3 -Wall -c char_property.cpp -o char_property.o >/dev/null 2>&1\n",
            "/bin/bash ../libtool --tag=CXX   --mode=compile g++ -DHAVE_CONFIG_H -I. -I.. -DDIC_VERSION=102   -DMECAB_DEFAULT_RC=\"\\\"/usr/local/etc/mecabrc\\\"\"    -O3 -Wall  -c -o dictionary.lo dictionary.cpp\n",
            "libtool: compile:  g++ -DHAVE_CONFIG_H -I. -I.. -DDIC_VERSION=102 -DMECAB_DEFAULT_RC=\\\"/usr/local/etc/mecabrc\\\" -O3 -Wall -c dictionary.cpp  -fPIC -DPIC -o .libs/dictionary.o\n",
            "libtool: compile:  g++ -DHAVE_CONFIG_H -I. -I.. -DDIC_VERSION=102 -DMECAB_DEFAULT_RC=\\\"/usr/local/etc/mecabrc\\\" -O3 -Wall -c dictionary.cpp -o dictionary.o >/dev/null 2>&1\n",
            "/bin/bash ../libtool --tag=CXX   --mode=compile g++ -DHAVE_CONFIG_H -I. -I.. -DDIC_VERSION=102   -DMECAB_DEFAULT_RC=\"\\\"/usr/local/etc/mecabrc\\\"\"    -O3 -Wall  -c -o feature_index.lo feature_index.cpp\n",
            "libtool: compile:  g++ -DHAVE_CONFIG_H -I. -I.. -DDIC_VERSION=102 -DMECAB_DEFAULT_RC=\\\"/usr/local/etc/mecabrc\\\" -O3 -Wall -c feature_index.cpp  -fPIC -DPIC -o .libs/feature_index.o\n",
            "libtool: compile:  g++ -DHAVE_CONFIG_H -I. -I.. -DDIC_VERSION=102 -DMECAB_DEFAULT_RC=\\\"/usr/local/etc/mecabrc\\\" -O3 -Wall -c feature_index.cpp -o feature_index.o >/dev/null 2>&1\n",
            "/bin/bash ../libtool --tag=CXX   --mode=compile g++ -DHAVE_CONFIG_H -I. -I.. -DDIC_VERSION=102   -DMECAB_DEFAULT_RC=\"\\\"/usr/local/etc/mecabrc\\\"\"    -O3 -Wall  -c -o lbfgs.lo lbfgs.cpp\n",
            "libtool: compile:  g++ -DHAVE_CONFIG_H -I. -I.. -DDIC_VERSION=102 -DMECAB_DEFAULT_RC=\\\"/usr/local/etc/mecabrc\\\" -O3 -Wall -c lbfgs.cpp  -fPIC -DPIC -o .libs/lbfgs.o\n",
            "libtool: compile:  g++ -DHAVE_CONFIG_H -I. -I.. -DDIC_VERSION=102 -DMECAB_DEFAULT_RC=\\\"/usr/local/etc/mecabrc\\\" -O3 -Wall -c lbfgs.cpp -o lbfgs.o >/dev/null 2>&1\n",
            "/bin/bash ../libtool --tag=CXX   --mode=compile g++ -DHAVE_CONFIG_H -I. -I.. -DDIC_VERSION=102   -DMECAB_DEFAULT_RC=\"\\\"/usr/local/etc/mecabrc\\\"\"    -O3 -Wall  -c -o learner_tagger.lo learner_tagger.cpp\n",
            "libtool: compile:  g++ -DHAVE_CONFIG_H -I. -I.. -DDIC_VERSION=102 -DMECAB_DEFAULT_RC=\\\"/usr/local/etc/mecabrc\\\" -O3 -Wall -c learner_tagger.cpp  -fPIC -DPIC -o .libs/learner_tagger.o\n",
            "\u001b[01m\u001b[Klearner_tagger.cpp:25:7:\u001b[m\u001b[K \u001b[01;35m\u001b[Kwarning: \u001b[m\u001b[K'\u001b[01m\u001b[Kchar* MeCab::{anonymous}::mystrdup(const string&)\u001b[m\u001b[K' defined but not used [\u001b[01;35m\u001b[K-Wunused-function\u001b[m\u001b[K]\n",
            " char *\u001b[01;35m\u001b[Kmystrdup\u001b[m\u001b[K(const std::string &str) {\n",
            "       \u001b[01;35m\u001b[K^~~~~~~~\u001b[m\u001b[K\n",
            "libtool: compile:  g++ -DHAVE_CONFIG_H -I. -I.. -DDIC_VERSION=102 -DMECAB_DEFAULT_RC=\\\"/usr/local/etc/mecabrc\\\" -O3 -Wall -c learner_tagger.cpp -o learner_tagger.o >/dev/null 2>&1\n",
            "/bin/bash ../libtool --tag=CXX   --mode=compile g++ -DHAVE_CONFIG_H -I. -I.. -DDIC_VERSION=102   -DMECAB_DEFAULT_RC=\"\\\"/usr/local/etc/mecabrc\\\"\"    -O3 -Wall  -c -o learner.lo learner.cpp\n",
            "libtool: compile:  g++ -DHAVE_CONFIG_H -I. -I.. -DDIC_VERSION=102 -DMECAB_DEFAULT_RC=\\\"/usr/local/etc/mecabrc\\\" -O3 -Wall -c learner.cpp  -fPIC -DPIC -o .libs/learner.o\n",
            "libtool: compile:  g++ -DHAVE_CONFIG_H -I. -I.. -DDIC_VERSION=102 -DMECAB_DEFAULT_RC=\\\"/usr/local/etc/mecabrc\\\" -O3 -Wall -c learner.cpp -o learner.o >/dev/null 2>&1\n",
            "/bin/bash ../libtool --tag=CXX   --mode=compile g++ -DHAVE_CONFIG_H -I. -I.. -DDIC_VERSION=102   -DMECAB_DEFAULT_RC=\"\\\"/usr/local/etc/mecabrc\\\"\"    -O3 -Wall  -c -o libmecab.lo libmecab.cpp\n",
            "libtool: compile:  g++ -DHAVE_CONFIG_H -I. -I.. -DDIC_VERSION=102 -DMECAB_DEFAULT_RC=\\\"/usr/local/etc/mecabrc\\\" -O3 -Wall -c libmecab.cpp  -fPIC -DPIC -o .libs/libmecab.o\n",
            "libtool: compile:  g++ -DHAVE_CONFIG_H -I. -I.. -DDIC_VERSION=102 -DMECAB_DEFAULT_RC=\\\"/usr/local/etc/mecabrc\\\" -O3 -Wall -c libmecab.cpp -o libmecab.o >/dev/null 2>&1\n",
            "/bin/bash ../libtool --tag=CXX   --mode=link g++  -O3 -Wall  -no-undefined -version-info 2:0:0  -o libmecab.la -rpath /usr/local/lib viterbi.lo tagger.lo utils.lo eval.lo iconv_utils.lo dictionary_rewriter.lo dictionary_generator.lo dictionary_compiler.lo context_id.lo connector.lo nbest_generator.lo writer.lo string_buffer.lo param.lo tokenizer.lo char_property.lo dictionary.lo feature_index.lo lbfgs.lo learner_tagger.lo learner.lo libmecab.lo  -lpthread -lpthread  -lstdc++ \n",
            "libtool: link: g++  -fPIC -DPIC -shared -nostdlib /usr/lib/gcc/x86_64-linux-gnu/7/../../../x86_64-linux-gnu/crti.o /usr/lib/gcc/x86_64-linux-gnu/7/crtbeginS.o  .libs/viterbi.o .libs/tagger.o .libs/utils.o .libs/eval.o .libs/iconv_utils.o .libs/dictionary_rewriter.o .libs/dictionary_generator.o .libs/dictionary_compiler.o .libs/context_id.o .libs/connector.o .libs/nbest_generator.o .libs/writer.o .libs/string_buffer.o .libs/param.o .libs/tokenizer.o .libs/char_property.o .libs/dictionary.o .libs/feature_index.o .libs/lbfgs.o .libs/learner_tagger.o .libs/learner.o .libs/libmecab.o   -lpthread -L/usr/lib/gcc/x86_64-linux-gnu/7 -L/usr/lib/gcc/x86_64-linux-gnu/7/../../../x86_64-linux-gnu -L/usr/lib/gcc/x86_64-linux-gnu/7/../../../../lib -L/lib/x86_64-linux-gnu -L/lib/../lib -L/usr/lib/x86_64-linux-gnu -L/usr/lib/../lib -L/usr/local/cuda/lib64/stubs -L/usr/lib/gcc/x86_64-linux-gnu/7/../../.. -lstdc++ -lm -lc -lgcc_s /usr/lib/gcc/x86_64-linux-gnu/7/crtendS.o /usr/lib/gcc/x86_64-linux-gnu/7/../../../x86_64-linux-gnu/crtn.o  -O3   -Wl,-soname -Wl,libmecab.so.2 -o .libs/libmecab.so.2.0.0\n",
            "libtool: link: (cd \".libs\" && rm -f \"libmecab.so.2\" && ln -s \"libmecab.so.2.0.0\" \"libmecab.so.2\")\n",
            "libtool: link: (cd \".libs\" && rm -f \"libmecab.so\" && ln -s \"libmecab.so.2.0.0\" \"libmecab.so\")\n",
            "libtool: link: ar cru .libs/libmecab.a  viterbi.o tagger.o utils.o eval.o iconv_utils.o dictionary_rewriter.o dictionary_generator.o dictionary_compiler.o context_id.o connector.o nbest_generator.o writer.o string_buffer.o param.o tokenizer.o char_property.o dictionary.o feature_index.o lbfgs.o learner_tagger.o learner.o libmecab.o\n",
            "ar: `u' modifier ignored since `D' is the default (see `U')\n",
            "libtool: link: ranlib .libs/libmecab.a\n",
            "libtool: link: ( cd \".libs\" && rm -f \"libmecab.la\" && ln -s \"../libmecab.la\" \"libmecab.la\" )\n",
            "g++ -DHAVE_CONFIG_H -I. -I.. -DDIC_VERSION=102   -DMECAB_DEFAULT_RC=\"\\\"/usr/local/etc/mecabrc\\\"\"    -O3 -Wall  -c -o mecab.o mecab.cpp\n",
            "/bin/bash ../libtool --tag=CXX   --mode=link g++  -O3 -Wall    -o mecab mecab.o libmecab.la -lpthread -lpthread  -lstdc++ \n",
            "libtool: link: g++ -O3 -Wall -o .libs/mecab mecab.o  ./.libs/libmecab.so -lpthread -lstdc++\n",
            "g++ -DHAVE_CONFIG_H -I. -I.. -DDIC_VERSION=102   -DMECAB_DEFAULT_RC=\"\\\"/usr/local/etc/mecabrc\\\"\"    -O3 -Wall  -c -o mecab-dict-index.o mecab-dict-index.cpp\n",
            "/bin/bash ../libtool --tag=CXX   --mode=link g++  -O3 -Wall    -o mecab-dict-index mecab-dict-index.o libmecab.la -lpthread -lpthread  -lstdc++ \n",
            "libtool: link: g++ -O3 -Wall -o .libs/mecab-dict-index mecab-dict-index.o  ./.libs/libmecab.so -lpthread -lstdc++\n",
            "g++ -DHAVE_CONFIG_H -I. -I.. -DDIC_VERSION=102   -DMECAB_DEFAULT_RC=\"\\\"/usr/local/etc/mecabrc\\\"\"    -O3 -Wall  -c -o mecab-dict-gen.o mecab-dict-gen.cpp\n",
            "/bin/bash ../libtool --tag=CXX   --mode=link g++  -O3 -Wall    -o mecab-dict-gen mecab-dict-gen.o libmecab.la -lpthread -lpthread  -lstdc++ \n",
            "libtool: link: g++ -O3 -Wall -o .libs/mecab-dict-gen mecab-dict-gen.o  ./.libs/libmecab.so -lpthread -lstdc++\n",
            "g++ -DHAVE_CONFIG_H -I. -I.. -DDIC_VERSION=102   -DMECAB_DEFAULT_RC=\"\\\"/usr/local/etc/mecabrc\\\"\"    -O3 -Wall  -c -o mecab-cost-train.o mecab-cost-train.cpp\n",
            "/bin/bash ../libtool --tag=CXX   --mode=link g++  -O3 -Wall    -o mecab-cost-train mecab-cost-train.o libmecab.la -lpthread -lpthread  -lstdc++ \n",
            "libtool: link: g++ -O3 -Wall -o .libs/mecab-cost-train mecab-cost-train.o  ./.libs/libmecab.so -lpthread -lstdc++\n",
            "g++ -DHAVE_CONFIG_H -I. -I.. -DDIC_VERSION=102   -DMECAB_DEFAULT_RC=\"\\\"/usr/local/etc/mecabrc\\\"\"    -O3 -Wall  -c -o mecab-system-eval.o mecab-system-eval.cpp\n",
            "/bin/bash ../libtool --tag=CXX   --mode=link g++  -O3 -Wall    -o mecab-system-eval mecab-system-eval.o libmecab.la -lpthread -lpthread  -lstdc++ \n",
            "libtool: link: g++ -O3 -Wall -o .libs/mecab-system-eval mecab-system-eval.o  ./.libs/libmecab.so -lpthread -lstdc++\n",
            "g++ -DHAVE_CONFIG_H -I. -I.. -DDIC_VERSION=102   -DMECAB_DEFAULT_RC=\"\\\"/usr/local/etc/mecabrc\\\"\"    -O3 -Wall  -c -o mecab-test-gen.o mecab-test-gen.cpp\n",
            "/bin/bash ../libtool --tag=CXX   --mode=link g++  -O3 -Wall    -o mecab-test-gen mecab-test-gen.o libmecab.la -lpthread -lpthread  -lstdc++ \n",
            "libtool: link: g++ -O3 -Wall -o .libs/mecab-test-gen mecab-test-gen.o  ./.libs/libmecab.so -lpthread -lstdc++\n",
            "make[2]: Leaving directory '/tmp/mecab-0.996-ko-0.9.2/src'\n",
            "Making all in man\n",
            "make[2]: Entering directory '/tmp/mecab-0.996-ko-0.9.2/man'\n",
            "make[2]: Nothing to be done for 'all'.\n",
            "make[2]: Leaving directory '/tmp/mecab-0.996-ko-0.9.2/man'\n",
            "Making all in doc\n",
            "make[2]: Entering directory '/tmp/mecab-0.996-ko-0.9.2/doc'\n",
            "make[2]: Nothing to be done for 'all'.\n",
            "make[2]: Leaving directory '/tmp/mecab-0.996-ko-0.9.2/doc'\n",
            "Making all in tests\n",
            "make[2]: Entering directory '/tmp/mecab-0.996-ko-0.9.2/tests'\n",
            "make[2]: Nothing to be done for 'all'.\n",
            "make[2]: Leaving directory '/tmp/mecab-0.996-ko-0.9.2/tests'\n",
            "make[2]: Entering directory '/tmp/mecab-0.996-ko-0.9.2'\n",
            "make[2]: Leaving directory '/tmp/mecab-0.996-ko-0.9.2'\n",
            "make[1]: Leaving directory '/tmp/mecab-0.996-ko-0.9.2'\n",
            "Making check in src\n",
            "make[1]: Entering directory '/tmp/mecab-0.996-ko-0.9.2/src'\n",
            "make[1]: Nothing to be done for 'check'.\n",
            "make[1]: Leaving directory '/tmp/mecab-0.996-ko-0.9.2/src'\n",
            "Making check in man\n",
            "make[1]: Entering directory '/tmp/mecab-0.996-ko-0.9.2/man'\n",
            "make[1]: Nothing to be done for 'check'.\n",
            "make[1]: Leaving directory '/tmp/mecab-0.996-ko-0.9.2/man'\n",
            "Making check in doc\n",
            "make[1]: Entering directory '/tmp/mecab-0.996-ko-0.9.2/doc'\n",
            "make[1]: Nothing to be done for 'check'.\n",
            "make[1]: Leaving directory '/tmp/mecab-0.996-ko-0.9.2/doc'\n",
            "Making check in tests\n",
            "make[1]: Entering directory '/tmp/mecab-0.996-ko-0.9.2/tests'\n",
            "make  check-TESTS\n",
            "make[2]: Entering directory '/tmp/mecab-0.996-ko-0.9.2/tests'\n",
            "./pos-id.def is not found. minimum setting is used\n",
            "reading ./unk.def ... 2\n",
            "emitting double-array: 100% |###########################################| \n",
            "./model.def is not found. skipped.\n",
            "./pos-id.def is not found. minimum setting is used\n",
            "reading ./dic.csv ... 177\n",
            "emitting double-array: 100% |###########################################| \n",
            "reading ./matrix.def ... 178x178\n",
            "emitting matrix      : 100% |###########################################| \n",
            "\n",
            "done!\n",
            "./pos-id.def is not found. minimum setting is used\n",
            "reading ./unk.def ... 2\n",
            "emitting double-array: 100% |###########################################| \n",
            "./model.def is not found. skipped.\n",
            "./pos-id.def is not found. minimum setting is used\n",
            "reading ./dic.csv ... 83\n",
            "emitting double-array: 100% |###########################################| \n",
            "reading ./matrix.def ... 84x84\n",
            "emitting matrix      : 100% |###########################################| \n",
            "\n",
            "done!\n",
            "./pos-id.def is not found. minimum setting is used\n",
            "reading ./unk.def ... 2\n",
            "emitting double-array: 100% |###########################################| \n",
            "./model.def is not found. skipped.\n",
            "./pos-id.def is not found. minimum setting is used\n",
            "reading ./dic.csv ... 450\n",
            "emitting double-array: 100% |###########################################| \n",
            "reading ./matrix.def ... 1x1\n",
            "\n",
            "done!\n",
            "./pos-id.def is not found. minimum setting is used\n",
            "reading ./unk.def ... 2\n",
            "emitting double-array: 100% |###########################################| \n",
            "./model.def is not found. skipped.\n",
            "./pos-id.def is not found. minimum setting is used\n",
            "reading ./dic.csv ... 162\n",
            "emitting double-array: 100% |###########################################| \n",
            "reading ./matrix.def ... 3x3\n",
            "emitting matrix      : 100% |###########################################| \n",
            "\n",
            "done!\n",
            "./pos-id.def is not found. minimum setting is used\n",
            "reading ./unk.def ... 2\n",
            "emitting double-array: 100% |###########################################| \n",
            "./model.def is not found. skipped.\n",
            "./pos-id.def is not found. minimum setting is used\n",
            "reading ./dic.csv ... 4\n",
            "emitting double-array: 100% |###########################################| \n",
            "reading ./matrix.def ... 1x1\n",
            "\n",
            "done!\n",
            "./pos-id.def is not found. minimum setting is used\n",
            "reading ./unk.def ... 11\n",
            "emitting double-array: 100% |###########################################| \n",
            "./model.def is not found. skipped.\n",
            "./pos-id.def is not found. minimum setting is used\n",
            "reading ./dic.csv ... 1\n",
            "reading ./matrix.def ... 1x1\n",
            "\n",
            "done!\n",
            "./pos-id.def is not found. minimum setting is used\n",
            "reading ./unk.def ... 2\n",
            "emitting double-array: 100% |###########################################| \n",
            "./model.def is not found. skipped.\n",
            "./pos-id.def is not found. minimum setting is used\n",
            "reading ./dic.csv ... 1\n",
            "reading ./matrix.def ... 1x1\n",
            "\n",
            "done!\n",
            "PASS: run-dics.sh\n",
            "PASS: run-eval.sh\n",
            "seed/pos-id.def is not found. minimum setting is used\n",
            "reading seed/unk.def ... 40\n",
            "emitting double-array: 100% |###########################################| \n",
            "seed/model.def is not found. skipped.\n",
            "seed/pos-id.def is not found. minimum setting is used\n",
            "reading seed/dic.csv ... 4335\n",
            "emitting double-array: 100% |###########################################| \n",
            "reading seed/matrix.def ... 1x1\n",
            "\n",
            "done!\n",
            "reading corpus ...\n",
            "Number of sentences: 34\n",
            "Number of features:  64108\n",
            "eta:                 0.00005\n",
            "freq:                1\n",
            "eval-size:           6\n",
            "unk-eval-size:       4\n",
            "threads:             1\n",
            "charset:             EUC-JP\n",
            "C(sigma^2):          1.00000\n",
            "\n",
            "iter=0 err=1.00000 F=0.35771 target=2406.28355 diff=1.00000\n",
            "iter=1 err=0.97059 F=0.65652 target=1484.25231 diff=0.38318\n",
            "iter=2 err=0.91176 F=0.79331 target=863.32765 diff=0.41834\n",
            "iter=3 err=0.85294 F=0.89213 target=596.72480 diff=0.30881\n",
            "iter=4 err=0.61765 F=0.95467 target=336.30744 diff=0.43641\n",
            "iter=5 err=0.50000 F=0.96702 target=246.53039 diff=0.26695\n",
            "iter=6 err=0.35294 F=0.95472 target=188.93963 diff=0.23361\n",
            "iter=7 err=0.20588 F=0.99106 target=168.62665 diff=0.10751\n",
            "iter=8 err=0.05882 F=0.99777 target=158.64865 diff=0.05917\n",
            "iter=9 err=0.08824 F=0.99665 target=154.14530 diff=0.02839\n",
            "iter=10 err=0.08824 F=0.99665 target=151.94257 diff=0.01429\n",
            "iter=11 err=0.02941 F=0.99888 target=147.20825 diff=0.03116\n",
            "iter=12 err=0.00000 F=1.00000 target=147.34956 diff=0.00096\n",
            "iter=13 err=0.02941 F=0.99888 target=146.32592 diff=0.00695\n",
            "iter=14 err=0.00000 F=1.00000 target=145.77299 diff=0.00378\n",
            "iter=15 err=0.02941 F=0.99888 target=145.24641 diff=0.00361\n",
            "iter=16 err=0.00000 F=1.00000 target=144.96490 diff=0.00194\n",
            "iter=17 err=0.02941 F=0.99888 target=144.90246 diff=0.00043\n",
            "iter=18 err=0.00000 F=1.00000 target=144.75959 diff=0.00099\n",
            "iter=19 err=0.00000 F=1.00000 target=144.71727 diff=0.00029\n",
            "iter=20 err=0.00000 F=1.00000 target=144.66337 diff=0.00037\n",
            "iter=21 err=0.00000 F=1.00000 target=144.61349 diff=0.00034\n",
            "iter=22 err=0.00000 F=1.00000 target=144.62987 diff=0.00011\n",
            "iter=23 err=0.00000 F=1.00000 target=144.60060 diff=0.00020\n",
            "iter=24 err=0.00000 F=1.00000 target=144.59125 diff=0.00006\n",
            "iter=25 err=0.00000 F=1.00000 target=144.58619 diff=0.00004\n",
            "iter=26 err=0.00000 F=1.00000 target=144.58219 diff=0.00003\n",
            "iter=27 err=0.00000 F=1.00000 target=144.58059 diff=0.00001\n",
            "\n",
            "Done! writing model file ... \n",
            "model-ipadic.c1.0.f1.model is not a binary model. reopen it as text mode...\n",
            "reading seed/unk.def ... 40\n",
            "reading seed/dic.csv ... 4335\n",
            "emitting model-ipadic.c1.0.f1.dic/left-id.def/ model-ipadic.c1.0.f1.dic/right-id.def\n",
            "emitting model-ipadic.c1.0.f1.dic/unk.def ... 40\n",
            "emitting model-ipadic.c1.0.f1.dic/dic.csv ... 4335\n",
            "emitting matrix      : 100% |###########################################| \n",
            "copying seed/char.def to model-ipadic.c1.0.f1.dic/char.def\n",
            "copying seed/rewrite.def to model-ipadic.c1.0.f1.dic/rewrite.def\n",
            "copying seed/dicrc to model-ipadic.c1.0.f1.dic/dicrc\n",
            "copying seed/feature.def to model-ipadic.c1.0.f1.dic/feature.def\n",
            "copying model-ipadic.c1.0.f1.model to model-ipadic.c1.0.f1.dic/model.def\n",
            "\n",
            "done!\n",
            "model-ipadic.c1.0.f1.dic/pos-id.def is not found. minimum setting is used\n",
            "reading model-ipadic.c1.0.f1.dic/unk.def ... 40\n",
            "emitting double-array: 100% |###########################################| \n",
            "model-ipadic.c1.0.f1.dic/pos-id.def is not found. minimum setting is used\n",
            "reading model-ipadic.c1.0.f1.dic/dic.csv ... 4335\n",
            "emitting double-array: 100% |###########################################| \n",
            "reading model-ipadic.c1.0.f1.dic/matrix.def ... 346x346\n",
            "emitting matrix      : 100% |###########################################| \n",
            "\n",
            "done!\n",
            "              precision          recall         F\n",
            "LEVEL 0:    12.8959(57/442) 11.8998(57/479) 12.3779\n",
            "LEVEL 1:    12.2172(54/442) 11.2735(54/479) 11.7264\n",
            "LEVEL 2:    11.7647(52/442) 10.8559(52/479) 11.2921\n",
            "LEVEL 4:    11.7647(52/442) 10.8559(52/479) 11.2921\n",
            "PASS: run-cost-train.sh\n",
            "==================\n",
            "All 3 tests passed\n",
            "==================\n",
            "make[2]: Leaving directory '/tmp/mecab-0.996-ko-0.9.2/tests'\n",
            "make[1]: Leaving directory '/tmp/mecab-0.996-ko-0.9.2/tests'\n",
            "make[1]: Entering directory '/tmp/mecab-0.996-ko-0.9.2'\n",
            "make[1]: Leaving directory '/tmp/mecab-0.996-ko-0.9.2'\n",
            "Making install in src\n",
            "make[1]: Entering directory '/tmp/mecab-0.996-ko-0.9.2/src'\n",
            "make[2]: Entering directory '/tmp/mecab-0.996-ko-0.9.2/src'\n",
            "test -z \"/usr/local/lib\" || /bin/mkdir -p \"/usr/local/lib\"\n",
            " /bin/bash ../libtool   --mode=install /usr/bin/install -c   libmecab.la '/usr/local/lib'\n",
            "libtool: install: /usr/bin/install -c .libs/libmecab.so.2.0.0 /usr/local/lib/libmecab.so.2.0.0\n",
            "libtool: install: (cd /usr/local/lib && { ln -s -f libmecab.so.2.0.0 libmecab.so.2 || { rm -f libmecab.so.2 && ln -s libmecab.so.2.0.0 libmecab.so.2; }; })\n",
            "libtool: install: (cd /usr/local/lib && { ln -s -f libmecab.so.2.0.0 libmecab.so || { rm -f libmecab.so && ln -s libmecab.so.2.0.0 libmecab.so; }; })\n",
            "libtool: install: /usr/bin/install -c .libs/libmecab.lai /usr/local/lib/libmecab.la\n",
            "libtool: install: /usr/bin/install -c .libs/libmecab.a /usr/local/lib/libmecab.a\n",
            "libtool: install: chmod 644 /usr/local/lib/libmecab.a\n",
            "libtool: install: ranlib /usr/local/lib/libmecab.a\n",
            "libtool: finish: PATH=\"/usr/local/sbin:/usr/local/bin:/usr/sbin:/usr/bin:/sbin:/bin:/snap/bin:/sbin\" ldconfig -n /usr/local/lib\n",
            "----------------------------------------------------------------------\n",
            "Libraries have been installed in:\n",
            "   /usr/local/lib\n",
            "\n",
            "If you ever happen to want to link against installed libraries\n",
            "in a given directory, LIBDIR, you must either use libtool, and\n",
            "specify the full pathname of the library, or use the `-LLIBDIR'\n",
            "flag during linking and do at least one of the following:\n",
            "   - add LIBDIR to the `LD_LIBRARY_PATH' environment variable\n",
            "     during execution\n",
            "   - add LIBDIR to the `LD_RUN_PATH' environment variable\n",
            "     during linking\n",
            "   - use the `-Wl,-rpath -Wl,LIBDIR' linker flag\n",
            "   - have your system administrator add LIBDIR to `/etc/ld.so.conf'\n",
            "\n",
            "See any operating system documentation about shared libraries for\n",
            "more information, such as the ld(1) and ld.so(8) manual pages.\n",
            "----------------------------------------------------------------------\n",
            "test -z \"/usr/local/bin\" || /bin/mkdir -p \"/usr/local/bin\"\n",
            "  /bin/bash ../libtool   --mode=install /usr/bin/install -c mecab '/usr/local/bin'\n",
            "libtool: install: /usr/bin/install -c .libs/mecab /usr/local/bin/mecab\n",
            "test -z \"/usr/local/libexec/mecab\" || /bin/mkdir -p \"/usr/local/libexec/mecab\"\n",
            "  /bin/bash ../libtool   --mode=install /usr/bin/install -c mecab-dict-index mecab-dict-gen mecab-cost-train mecab-system-eval mecab-test-gen '/usr/local/libexec/mecab'\n",
            "libtool: install: /usr/bin/install -c .libs/mecab-dict-index /usr/local/libexec/mecab/mecab-dict-index\n",
            "libtool: install: /usr/bin/install -c .libs/mecab-dict-gen /usr/local/libexec/mecab/mecab-dict-gen\n",
            "libtool: install: /usr/bin/install -c .libs/mecab-cost-train /usr/local/libexec/mecab/mecab-cost-train\n",
            "libtool: install: /usr/bin/install -c .libs/mecab-system-eval /usr/local/libexec/mecab/mecab-system-eval\n",
            "libtool: install: /usr/bin/install -c .libs/mecab-test-gen /usr/local/libexec/mecab/mecab-test-gen\n",
            "test -z \"/usr/local/include\" || /bin/mkdir -p \"/usr/local/include\"\n",
            " /usr/bin/install -c -m 644 mecab.h '/usr/local/include'\n",
            "make[2]: Leaving directory '/tmp/mecab-0.996-ko-0.9.2/src'\n",
            "make[1]: Leaving directory '/tmp/mecab-0.996-ko-0.9.2/src'\n",
            "Making install in man\n",
            "make[1]: Entering directory '/tmp/mecab-0.996-ko-0.9.2/man'\n",
            "make[2]: Entering directory '/tmp/mecab-0.996-ko-0.9.2/man'\n",
            "make[2]: Nothing to be done for 'install-exec-am'.\n",
            "test -z \"/usr/local/share/man/man1\" || /bin/mkdir -p \"/usr/local/share/man/man1\"\n",
            " /usr/bin/install -c -m 644 mecab.1 '/usr/local/share/man/man1'\n",
            "make[2]: Leaving directory '/tmp/mecab-0.996-ko-0.9.2/man'\n",
            "make[1]: Leaving directory '/tmp/mecab-0.996-ko-0.9.2/man'\n",
            "Making install in doc\n",
            "make[1]: Entering directory '/tmp/mecab-0.996-ko-0.9.2/doc'\n",
            "make[2]: Entering directory '/tmp/mecab-0.996-ko-0.9.2/doc'\n",
            "make[2]: Nothing to be done for 'install-exec-am'.\n",
            "make[2]: Nothing to be done for 'install-data-am'.\n",
            "make[2]: Leaving directory '/tmp/mecab-0.996-ko-0.9.2/doc'\n",
            "make[1]: Leaving directory '/tmp/mecab-0.996-ko-0.9.2/doc'\n",
            "Making install in tests\n",
            "make[1]: Entering directory '/tmp/mecab-0.996-ko-0.9.2/tests'\n",
            "make[2]: Entering directory '/tmp/mecab-0.996-ko-0.9.2/tests'\n",
            "make[2]: Nothing to be done for 'install-exec-am'.\n",
            "make[2]: Nothing to be done for 'install-data-am'.\n",
            "make[2]: Leaving directory '/tmp/mecab-0.996-ko-0.9.2/tests'\n",
            "make[1]: Leaving directory '/tmp/mecab-0.996-ko-0.9.2/tests'\n",
            "make[1]: Entering directory '/tmp/mecab-0.996-ko-0.9.2'\n",
            "make[2]: Entering directory '/tmp/mecab-0.996-ko-0.9.2'\n",
            "test -z \"/usr/local/bin\" || /bin/mkdir -p \"/usr/local/bin\"\n",
            " /usr/bin/install -c mecab-config '/usr/local/bin'\n",
            "test -z \"/usr/local/etc\" || /bin/mkdir -p \"/usr/local/etc\"\n",
            " /usr/bin/install -c -m 644 mecabrc '/usr/local/etc'\n",
            "make[2]: Leaving directory '/tmp/mecab-0.996-ko-0.9.2'\n",
            "make[1]: Leaving directory '/tmp/mecab-0.996-ko-0.9.2'\n",
            "Install mecab-ko-dic\n",
            "Install mecab-ko-dic\n",
            "  % Total    % Received % Xferd  Average Speed   Time    Time     Time  Current\n",
            "                                 Dload  Upload   Total   Spent    Left  Speed\n",
            "  0     0    0     0    0     0      0      0 --:--:-- --:--:-- --:--:--     0\n",
            "100 47.4M  100 47.4M    0     0  52.8M      0 --:--:-- --:--:-- --:--:-- 91.9M\n",
            "mecab-ko-dic-2.1.1-20180720/\n",
            "mecab-ko-dic-2.1.1-20180720/configure\n",
            "mecab-ko-dic-2.1.1-20180720/COPYING\n",
            "mecab-ko-dic-2.1.1-20180720/autogen.sh\n",
            "mecab-ko-dic-2.1.1-20180720/Place-station.csv\n",
            "mecab-ko-dic-2.1.1-20180720/NNG.csv\n",
            "mecab-ko-dic-2.1.1-20180720/README\n",
            "mecab-ko-dic-2.1.1-20180720/EF.csv\n",
            "mecab-ko-dic-2.1.1-20180720/MAG.csv\n",
            "mecab-ko-dic-2.1.1-20180720/Preanalysis.csv\n",
            "mecab-ko-dic-2.1.1-20180720/NNB.csv\n",
            "mecab-ko-dic-2.1.1-20180720/Person-actor.csv\n",
            "mecab-ko-dic-2.1.1-20180720/VV.csv\n",
            "mecab-ko-dic-2.1.1-20180720/Makefile.in\n",
            "mecab-ko-dic-2.1.1-20180720/matrix.def\n",
            "mecab-ko-dic-2.1.1-20180720/EC.csv\n",
            "mecab-ko-dic-2.1.1-20180720/NNBC.csv\n",
            "mecab-ko-dic-2.1.1-20180720/clean\n",
            "mecab-ko-dic-2.1.1-20180720/ChangeLog\n",
            "mecab-ko-dic-2.1.1-20180720/J.csv\n",
            "mecab-ko-dic-2.1.1-20180720/.keep\n",
            "mecab-ko-dic-2.1.1-20180720/feature.def\n",
            "mecab-ko-dic-2.1.1-20180720/Foreign.csv\n",
            "mecab-ko-dic-2.1.1-20180720/XPN.csv\n",
            "mecab-ko-dic-2.1.1-20180720/EP.csv\n",
            "mecab-ko-dic-2.1.1-20180720/NR.csv\n",
            "mecab-ko-dic-2.1.1-20180720/left-id.def\n",
            "mecab-ko-dic-2.1.1-20180720/Place.csv\n",
            "mecab-ko-dic-2.1.1-20180720/Symbol.csv\n",
            "mecab-ko-dic-2.1.1-20180720/dicrc\n",
            "mecab-ko-dic-2.1.1-20180720/NP.csv\n",
            "mecab-ko-dic-2.1.1-20180720/ETM.csv\n",
            "mecab-ko-dic-2.1.1-20180720/IC.csv\n",
            "mecab-ko-dic-2.1.1-20180720/Place-address.csv\n",
            "mecab-ko-dic-2.1.1-20180720/Group.csv\n",
            "mecab-ko-dic-2.1.1-20180720/model.def\n",
            "mecab-ko-dic-2.1.1-20180720/XSN.csv\n",
            "mecab-ko-dic-2.1.1-20180720/INSTALL\n",
            "mecab-ko-dic-2.1.1-20180720/rewrite.def\n",
            "mecab-ko-dic-2.1.1-20180720/Inflect.csv\n",
            "mecab-ko-dic-2.1.1-20180720/configure.ac\n",
            "mecab-ko-dic-2.1.1-20180720/NNP.csv\n",
            "mecab-ko-dic-2.1.1-20180720/CoinedWord.csv\n",
            "mecab-ko-dic-2.1.1-20180720/XSV.csv\n",
            "mecab-ko-dic-2.1.1-20180720/pos-id.def\n",
            "mecab-ko-dic-2.1.1-20180720/Makefile.am\n",
            "mecab-ko-dic-2.1.1-20180720/unk.def\n",
            "mecab-ko-dic-2.1.1-20180720/missing\n",
            "mecab-ko-dic-2.1.1-20180720/VCP.csv\n",
            "mecab-ko-dic-2.1.1-20180720/install-sh\n",
            "mecab-ko-dic-2.1.1-20180720/Hanja.csv\n",
            "mecab-ko-dic-2.1.1-20180720/MAJ.csv\n",
            "mecab-ko-dic-2.1.1-20180720/XSA.csv\n",
            "mecab-ko-dic-2.1.1-20180720/Wikipedia.csv\n",
            "mecab-ko-dic-2.1.1-20180720/tools/\n",
            "mecab-ko-dic-2.1.1-20180720/tools/add-userdic.sh\n",
            "mecab-ko-dic-2.1.1-20180720/tools/mecab-bestn.sh\n",
            "mecab-ko-dic-2.1.1-20180720/tools/convert_for_using_store.sh\n",
            "mecab-ko-dic-2.1.1-20180720/user-dic/\n",
            "mecab-ko-dic-2.1.1-20180720/user-dic/nnp.csv\n",
            "mecab-ko-dic-2.1.1-20180720/user-dic/place.csv\n",
            "mecab-ko-dic-2.1.1-20180720/user-dic/person.csv\n",
            "mecab-ko-dic-2.1.1-20180720/user-dic/README.md\n",
            "mecab-ko-dic-2.1.1-20180720/NorthKorea.csv\n",
            "mecab-ko-dic-2.1.1-20180720/VX.csv\n",
            "mecab-ko-dic-2.1.1-20180720/right-id.def\n",
            "mecab-ko-dic-2.1.1-20180720/VA.csv\n",
            "mecab-ko-dic-2.1.1-20180720/char.def\n",
            "mecab-ko-dic-2.1.1-20180720/NEWS\n",
            "mecab-ko-dic-2.1.1-20180720/MM.csv\n",
            "mecab-ko-dic-2.1.1-20180720/ETN.csv\n",
            "mecab-ko-dic-2.1.1-20180720/AUTHORS\n",
            "mecab-ko-dic-2.1.1-20180720/Person.csv\n",
            "mecab-ko-dic-2.1.1-20180720/XR.csv\n",
            "mecab-ko-dic-2.1.1-20180720/VCN.csv\n",
            "Looking in current directory for macros.\n",
            "configure.ac:2: warning: AM_INIT_AUTOMAKE: two- and three-arguments forms are deprecated.  For more info, see:\n",
            "configure.ac:2: http://www.gnu.org/software/automake/manual/automake.html#Modernize-AM_005fINIT_005fAUTOMAKE-invocation\n",
            "checking for a BSD-compatible install... /usr/bin/install -c\n",
            "checking whether build environment is sane... yes\n",
            "/tmp/mecab-ko-dic-2.1.1-20180720/missing: Unknown `--is-lightweight' option\n",
            "Try `/tmp/mecab-ko-dic-2.1.1-20180720/missing --help' for more information\n",
            "configure: WARNING: 'missing' script is too old or missing\n",
            "checking for a thread-safe mkdir -p... /bin/mkdir -p\n",
            "checking for gawk... no\n",
            "checking for mawk... mawk\n",
            "checking whether make sets $(MAKE)... yes\n",
            "checking whether make supports nested variables... yes\n",
            "checking for mecab-config... /usr/local/bin/mecab-config\n",
            "checking that generated files are newer than configure... done\n",
            "configure: creating ./config.status\n",
            "config.status: creating Makefile\n",
            "/usr/local/lib\n",
            "/usr/local/libexec/mecab/mecab-dict-index -d . -o . -f UTF-8 -t UTF-8\n",
            "reading ./unk.def ... 13\n",
            "emitting double-array: 100% |###########################################| \n",
            "reading ./Wikipedia.csv ... 36762\n",
            "reading ./Person.csv ... 196459\n",
            "reading ./XPN.csv ... 83\n",
            "reading ./NNG.csv ... 208524\n",
            "reading ./XSV.csv ... 23\n",
            "reading ./XSN.csv ... 124\n",
            "reading ./NNBC.csv ... 677\n",
            "reading ./Place.csv ... 30303\n",
            "reading ./Preanalysis.csv ... 5\n",
            "reading ./VA.csv ... 2360\n",
            "reading ./XR.csv ... 3637\n",
            "reading ./NP.csv ... 342\n",
            "reading ./Foreign.csv ... 11690\n",
            "reading ./CoinedWord.csv ... 148\n",
            "reading ./Person-actor.csv ... 99230\n",
            "reading ./VX.csv ... 125\n",
            "reading ./EP.csv ... 51\n",
            "reading ./EC.csv ... 2547\n",
            "reading ./VCN.csv ... 7\n",
            "reading ./ETM.csv ... 133\n",
            "reading ./Inflect.csv ... 44820\n",
            "reading ./NR.csv ... 482\n",
            "reading ./Group.csv ... 3176\n",
            "reading ./MAG.csv ... 14242\n",
            "reading ./NNB.csv ... 140\n",
            "reading ./ETN.csv ... 14\n",
            "reading ./Place-station.csv ... 1145\n",
            "reading ./EF.csv ... 1820\n",
            "reading ./J.csv ... 416\n",
            "reading ./VV.csv ... 7331\n",
            "reading ./VCP.csv ... 9\n",
            "reading ./MM.csv ... 453\n",
            "reading ./NorthKorea.csv ... 3\n",
            "reading ./NNP.csv ... 2371\n",
            "reading ./IC.csv ... 1305\n",
            "reading ./MAJ.csv ... 240\n",
            "reading ./Symbol.csv ... 16\n",
            "reading ./XSA.csv ... 19\n",
            "reading ./Hanja.csv ... 125750\n",
            "reading ./Place-address.csv ... 19301\n",
            "emitting double-array: 100% |###########################################| \n",
            "reading ./matrix.def ... 3822x2693\n",
            "emitting matrix      : 100% |###########################################| \n",
            "\n",
            "done!\n",
            "echo To enable dictionary, rewrite /usr/local/etc/mecabrc as \\\"dicdir = /usr/local/lib/mecab/dic/mecab-ko-dic\\\"\n",
            "To enable dictionary, rewrite /usr/local/etc/mecabrc as \"dicdir = /usr/local/lib/mecab/dic/mecab-ko-dic\"\n",
            "make[1]: Entering directory '/tmp/mecab-ko-dic-2.1.1-20180720'\n",
            "make[1]: Nothing to be done for 'install-exec-am'.\n",
            " /bin/mkdir -p '/usr/local/lib/mecab/dic/mecab-ko-dic'\n",
            " /usr/bin/install -c -m 644 model.bin matrix.bin char.bin sys.dic unk.dic left-id.def right-id.def rewrite.def pos-id.def dicrc '/usr/local/lib/mecab/dic/mecab-ko-dic'\n",
            "make[1]: Leaving directory '/tmp/mecab-ko-dic-2.1.1-20180720'\n",
            "Install mecab-python\n",
            "/tmp /tmp/mecab-ko-dic-2.1.1-20180720\n",
            "Cloning into 'mecab-python-0.996'...\n",
            "remote: Enumerating objects: 17, done.\u001b[K\n",
            "remote: Counting objects: 100% (17/17), done.\u001b[K\n",
            "remote: Compressing objects: 100% (16/16), done.\u001b[K\n",
            "remote: Total 17 (delta 3), reused 0 (delta 0), pack-reused 0\n",
            "Unpacking objects: 100% (17/17), done.\n",
            "/tmp/mecab-ko-dic-2.1.1-20180720\n",
            "Looking in indexes: https://pypi.org/simple, https://us-python.pkg.dev/colab-wheels/public/simple/\n",
            "Processing /tmp/mecab-python-0.996\n",
            "  Preparing metadata (setup.py) ... \u001b[?25l\u001b[?25hdone\n",
            "Building wheels for collected packages: mecab-python\n",
            "  Building wheel for mecab-python (setup.py) ... \u001b[?25l\u001b[?25hdone\n",
            "  Created wheel for mecab-python: filename=mecab_python-0.996_ko_0.9.2-cp38-cp38-linux_x86_64.whl size=142118 sha256=3ed397ec5b74e5afd5d367513ad37cb163c94e43dfb6f90c47d55778dde090ae\n",
            "  Stored in directory: /root/.cache/pip/wheels/e3/88/e7/a947778cce3c142d5721c0629e05db7b09979d3a973277ec2f\n",
            "\u001b[33m  WARNING: Built wheel for mecab-python is invalid: Metadata 1.2 mandates PEP 440 version, but '0.996-ko-0.9.2' is not\u001b[0m\u001b[33m\n",
            "\u001b[0mFailed to build mecab-python\n",
            "Installing collected packages: mecab-python\n",
            "  Running setup.py install for mecab-python ... \u001b[?25l\u001b[?25hdone\n",
            "\u001b[33m  DEPRECATION: mecab-python was installed using the legacy 'setup.py install' method, because a wheel could not be built for it. A possible replacement is to fix the wheel build issue reported above. Discussion can be found at https://github.com/pypa/pip/issues/8368\u001b[0m\u001b[33m\n",
            "\u001b[0mSuccessfully installed mecab-python-0.996-ko-0.9.2\n",
            "Done.\n",
            "Looking in indexes: https://pypi.org/simple, https://us-python.pkg.dev/colab-wheels/public/simple/\n",
            "Collecting kss\n",
            "  Downloading kss-4.4.0.tar.gz (73 kB)\n",
            "\u001b[2K     \u001b[90m━━━━━━━━━━━━━━━━━━━━━━━━━━━━━━━━━━━━━━━━\u001b[0m \u001b[32m73.8/73.8 KB\u001b[0m \u001b[31m3.4 MB/s\u001b[0m eta \u001b[36m0:00:00\u001b[0m\n",
            "\u001b[?25h  Preparing metadata (setup.py) ... \u001b[?25l\u001b[?25hdone\n",
            "Collecting emoji==1.2.0\n",
            "  Downloading emoji-1.2.0-py3-none-any.whl (131 kB)\n",
            "\u001b[2K     \u001b[90m━━━━━━━━━━━━━━━━━━━━━━━━━━━━━━━━━━━━━━━\u001b[0m \u001b[32m131.3/131.3 KB\u001b[0m \u001b[31m7.8 MB/s\u001b[0m eta \u001b[36m0:00:00\u001b[0m\n",
            "\u001b[?25hRequirement already satisfied: regex in /usr/local/lib/python3.8/dist-packages (from kss) (2022.6.2)\n",
            "Collecting pecab\n",
            "  Downloading pecab-1.0.8.tar.gz (26.4 MB)\n",
            "\u001b[2K     \u001b[90m━━━━━━━━━━━━━━━━━━━━━━━━━━━━━━━━━━━━━━━━\u001b[0m \u001b[32m26.4/26.4 MB\u001b[0m \u001b[31m50.5 MB/s\u001b[0m eta \u001b[36m0:00:00\u001b[0m\n",
            "\u001b[?25h  Preparing metadata (setup.py) ... \u001b[?25l\u001b[?25hdone\n",
            "Requirement already satisfied: networkx in /usr/local/lib/python3.8/dist-packages (from kss) (2.8.8)\n",
            "Requirement already satisfied: numpy in /usr/local/lib/python3.8/dist-packages (from pecab->kss) (1.21.6)\n",
            "Requirement already satisfied: pyarrow in /usr/local/lib/python3.8/dist-packages (from pecab->kss) (9.0.0)\n",
            "Requirement already satisfied: pytest in /usr/local/lib/python3.8/dist-packages (from pecab->kss) (3.6.4)\n",
            "Requirement already satisfied: six>=1.10.0 in /usr/local/lib/python3.8/dist-packages (from pytest->pecab->kss) (1.15.0)\n",
            "Requirement already satisfied: atomicwrites>=1.0 in /usr/local/lib/python3.8/dist-packages (from pytest->pecab->kss) (1.4.1)\n",
            "Requirement already satisfied: more-itertools>=4.0.0 in /usr/local/lib/python3.8/dist-packages (from pytest->pecab->kss) (9.0.0)\n",
            "Requirement already satisfied: attrs>=17.4.0 in /usr/local/lib/python3.8/dist-packages (from pytest->pecab->kss) (22.2.0)\n",
            "Requirement already satisfied: py>=1.5.0 in /usr/local/lib/python3.8/dist-packages (from pytest->pecab->kss) (1.11.0)\n",
            "Requirement already satisfied: pluggy<0.8,>=0.5 in /usr/local/lib/python3.8/dist-packages (from pytest->pecab->kss) (0.7.1)\n",
            "Requirement already satisfied: setuptools in /usr/local/lib/python3.8/dist-packages (from pytest->pecab->kss) (57.4.0)\n",
            "Building wheels for collected packages: kss, pecab\n",
            "  Building wheel for kss (setup.py) ... \u001b[?25l\u001b[?25hdone\n",
            "  Created wheel for kss: filename=kss-4.4.0-py3-none-any.whl size=50762 sha256=b057048985b23c8561c19461b29673b89c31ce2543ca6a1dfcb37c60c736ed8f\n",
            "  Stored in directory: /root/.cache/pip/wheels/9a/37/ef/2b007670d374e379be38ed12533c286265af44944a8b6b95d3\n",
            "  Building wheel for pecab (setup.py) ... \u001b[?25l\u001b[?25hdone\n",
            "  Created wheel for pecab: filename=pecab-1.0.8-py3-none-any.whl size=26646667 sha256=cc9fbe6e66515ba38a24fbe6f631f5ec6d6db016d74463e6f68d4e766fcc21f9\n",
            "  Stored in directory: /root/.cache/pip/wheels/a9/98/a3/085a909aa25805f321467a3af3b80d43b6094ed335b4818775\n",
            "Successfully built kss pecab\n",
            "Installing collected packages: emoji, pecab, kss\n",
            "Successfully installed emoji-1.2.0 kss-4.4.0 pecab-1.0.8\n",
            "Looking in indexes: https://pypi.org/simple, https://us-python.pkg.dev/colab-wheels/public/simple/\n",
            "Collecting scipy==1.8.0\n",
            "  Downloading scipy-1.8.0-cp38-cp38-manylinux_2_17_x86_64.manylinux2014_x86_64.whl (41.6 MB)\n",
            "\u001b[2K     \u001b[90m━━━━━━━━━━━━━━━━━━━━━━━━━━━━━━━━━━━━━━━━\u001b[0m \u001b[32m41.6/41.6 MB\u001b[0m \u001b[31m15.5 MB/s\u001b[0m eta \u001b[36m0:00:00\u001b[0m\n",
            "\u001b[?25hRequirement already satisfied: numpy<1.25.0,>=1.17.3 in /usr/local/lib/python3.8/dist-packages (from scipy==1.8.0) (1.21.6)\n",
            "Installing collected packages: scipy\n",
            "  Attempting uninstall: scipy\n",
            "    Found existing installation: scipy 1.7.3\n",
            "    Uninstalling scipy-1.7.3:\n",
            "      Successfully uninstalled scipy-1.7.3\n",
            "Successfully installed scipy-1.8.0\n",
            "Looking in indexes: https://pypi.org/simple, https://us-python.pkg.dev/colab-wheels/public/simple/\n",
            "Collecting git+https://github.com/lovit/textrank.git\n",
            "  Cloning https://github.com/lovit/textrank.git to /tmp/pip-req-build-750e7nis\n",
            "  Running command git clone --filter=blob:none --quiet https://github.com/lovit/textrank.git /tmp/pip-req-build-750e7nis\n",
            "  Resolved https://github.com/lovit/textrank.git to commit 578c7fbbb22b24561b1bd4bab9a9ecc2dc9515e1\n",
            "  Preparing metadata (setup.py) ... \u001b[?25l\u001b[?25hdone\n",
            "Building wheels for collected packages: textrank\n",
            "  Building wheel for textrank (setup.py) ... \u001b[?25l\u001b[?25hdone\n",
            "  Created wheel for textrank: filename=textrank-0.1.2-py3-none-any.whl size=11170 sha256=1f20758af62c99f0ddeedfc1b9838108e550ff198339fe63f42da5a0feb7c307\n",
            "  Stored in directory: /tmp/pip-ephem-wheel-cache-5u0er97b/wheels/88/fe/9c/129f61ac6c8c9b04f4d33fc3a39560cb97997b1b59c064ffd3\n",
            "Successfully built textrank\n",
            "Installing collected packages: textrank\n",
            "Successfully installed textrank-0.1.2\n",
            "Looking in indexes: https://pypi.org/simple, https://us-python.pkg.dev/colab-wheels/public/simple/\n",
            "Collecting konlpy\n",
            "  Downloading konlpy-0.6.0-py2.py3-none-any.whl (19.4 MB)\n",
            "\u001b[2K     \u001b[90m━━━━━━━━━━━━━━━━━━━━━━━━━━━━━━━━━━━━━━━━\u001b[0m \u001b[32m19.4/19.4 MB\u001b[0m \u001b[31m53.8 MB/s\u001b[0m eta \u001b[36m0:00:00\u001b[0m\n",
            "\u001b[?25hRequirement already satisfied: lxml>=4.1.0 in /usr/local/lib/python3.8/dist-packages (from konlpy) (4.9.2)\n",
            "Collecting JPype1>=0.7.0\n",
            "  Downloading JPype1-1.4.1-cp38-cp38-manylinux_2_12_x86_64.manylinux2010_x86_64.whl (465 kB)\n",
            "\u001b[2K     \u001b[90m━━━━━━━━━━━━━━━━━━━━━━━━━━━━━━━━━━━━━━\u001b[0m \u001b[32m465.6/465.6 KB\u001b[0m \u001b[31m31.3 MB/s\u001b[0m eta \u001b[36m0:00:00\u001b[0m\n",
            "\u001b[?25hRequirement already satisfied: numpy>=1.6 in /usr/local/lib/python3.8/dist-packages (from konlpy) (1.21.6)\n",
            "Requirement already satisfied: packaging in /usr/local/lib/python3.8/dist-packages (from JPype1>=0.7.0->konlpy) (21.3)\n",
            "Requirement already satisfied: pyparsing!=3.0.5,>=2.0.2 in /usr/local/lib/python3.8/dist-packages (from packaging->JPype1>=0.7.0->konlpy) (3.0.9)\n",
            "Installing collected packages: JPype1, konlpy\n",
            "Successfully installed JPype1-1.4.1 konlpy-0.6.0\n",
            "Looking in indexes: https://pypi.org/simple, https://us-python.pkg.dev/colab-wheels/public/simple/\n",
            "Collecting git+https://github.com/krevas/huggingface_konlpy\n",
            "  Cloning https://github.com/krevas/huggingface_konlpy to /tmp/pip-req-build-8yur754l\n",
            "  Running command git clone --filter=blob:none --quiet https://github.com/krevas/huggingface_konlpy /tmp/pip-req-build-8yur754l\n",
            "  Resolved https://github.com/krevas/huggingface_konlpy to commit 00af654a4a24563b4df0a8903faef2121dbc8d90\n",
            "  Preparing metadata (setup.py) ... \u001b[?25l\u001b[?25hdone\n",
            "Requirement already satisfied: konlpy in /usr/local/lib/python3.8/dist-packages (from huggingface-konlpy==0.1.0) (0.6.0)\n",
            "Collecting tokenizers\n",
            "  Downloading tokenizers-0.13.2-cp38-cp38-manylinux_2_17_x86_64.manylinux2014_x86_64.whl (7.6 MB)\n",
            "\u001b[2K     \u001b[90m━━━━━━━━━━━━━━━━━━━━━━━━━━━━━━━━━━━━━━━━\u001b[0m \u001b[32m7.6/7.6 MB\u001b[0m \u001b[31m48.2 MB/s\u001b[0m eta \u001b[36m0:00:00\u001b[0m\n",
            "\u001b[?25hCollecting transformers\n",
            "  Downloading transformers-4.25.1-py3-none-any.whl (5.8 MB)\n",
            "\u001b[2K     \u001b[90m━━━━━━━━━━━━━━━━━━━━━━━━━━━━━━━━━━━━━━━━\u001b[0m \u001b[32m5.8/5.8 MB\u001b[0m \u001b[31m79.2 MB/s\u001b[0m eta \u001b[36m0:00:00\u001b[0m\n",
            "\u001b[?25hRequirement already satisfied: tqdm in /usr/local/lib/python3.8/dist-packages (from huggingface-konlpy==0.1.0) (4.64.1)\n",
            "Requirement already satisfied: numpy>=1.6 in /usr/local/lib/python3.8/dist-packages (from konlpy->huggingface-konlpy==0.1.0) (1.21.6)\n",
            "Requirement already satisfied: lxml>=4.1.0 in /usr/local/lib/python3.8/dist-packages (from konlpy->huggingface-konlpy==0.1.0) (4.9.2)\n",
            "Requirement already satisfied: JPype1>=0.7.0 in /usr/local/lib/python3.8/dist-packages (from konlpy->huggingface-konlpy==0.1.0) (1.4.1)\n",
            "Requirement already satisfied: filelock in /usr/local/lib/python3.8/dist-packages (from transformers->huggingface-konlpy==0.1.0) (3.9.0)\n",
            "Requirement already satisfied: packaging>=20.0 in /usr/local/lib/python3.8/dist-packages (from transformers->huggingface-konlpy==0.1.0) (21.3)\n",
            "Requirement already satisfied: pyyaml>=5.1 in /usr/local/lib/python3.8/dist-packages (from transformers->huggingface-konlpy==0.1.0) (6.0)\n",
            "Requirement already satisfied: requests in /usr/local/lib/python3.8/dist-packages (from transformers->huggingface-konlpy==0.1.0) (2.25.1)\n",
            "Requirement already satisfied: regex!=2019.12.17 in /usr/local/lib/python3.8/dist-packages (from transformers->huggingface-konlpy==0.1.0) (2022.6.2)\n",
            "Collecting huggingface-hub<1.0,>=0.10.0\n",
            "  Downloading huggingface_hub-0.11.1-py3-none-any.whl (182 kB)\n",
            "\u001b[2K     \u001b[90m━━━━━━━━━━━━━━━━━━━━━━━━━━━━━━━━━━━━━━\u001b[0m \u001b[32m182.4/182.4 KB\u001b[0m \u001b[31m17.1 MB/s\u001b[0m eta \u001b[36m0:00:00\u001b[0m\n",
            "\u001b[?25hRequirement already satisfied: typing-extensions>=3.7.4.3 in /usr/local/lib/python3.8/dist-packages (from huggingface-hub<1.0,>=0.10.0->transformers->huggingface-konlpy==0.1.0) (4.4.0)\n",
            "Requirement already satisfied: pyparsing!=3.0.5,>=2.0.2 in /usr/local/lib/python3.8/dist-packages (from packaging>=20.0->transformers->huggingface-konlpy==0.1.0) (3.0.9)\n",
            "Requirement already satisfied: certifi>=2017.4.17 in /usr/local/lib/python3.8/dist-packages (from requests->transformers->huggingface-konlpy==0.1.0) (2022.12.7)\n",
            "Requirement already satisfied: urllib3<1.27,>=1.21.1 in /usr/local/lib/python3.8/dist-packages (from requests->transformers->huggingface-konlpy==0.1.0) (1.24.3)\n",
            "Requirement already satisfied: chardet<5,>=3.0.2 in /usr/local/lib/python3.8/dist-packages (from requests->transformers->huggingface-konlpy==0.1.0) (4.0.0)\n",
            "Requirement already satisfied: idna<3,>=2.5 in /usr/local/lib/python3.8/dist-packages (from requests->transformers->huggingface-konlpy==0.1.0) (2.10)\n",
            "Building wheels for collected packages: huggingface-konlpy\n",
            "  Building wheel for huggingface-konlpy (setup.py) ... \u001b[?25l\u001b[?25hdone\n",
            "  Created wheel for huggingface-konlpy: filename=huggingface_konlpy-0.1.0-py3-none-any.whl size=9336 sha256=35700b8441fbb47c763835b189a11114d4b02bc9827f28f7c607441e87743045\n",
            "  Stored in directory: /tmp/pip-ephem-wheel-cache-a3o4yeqf/wheels/49/a7/e8/a1aea7796eb1fbac153e80fb2eac7b5eaf536fdee028f8d6b4\n",
            "Successfully built huggingface-konlpy\n",
            "Installing collected packages: tokenizers, huggingface-hub, transformers, huggingface-konlpy\n",
            "Successfully installed huggingface-hub-0.11.1 huggingface-konlpy-0.1.0 tokenizers-0.13.2 transformers-4.25.1\n"
          ]
        }
      ],
      "source": [
        "!bash <(curl -s https://raw.githubusercontent.com/konlpy/konlpy/master/scripts/mecab.sh)\n",
        "!pip install kss\n",
        "!pip install scipy==1.8.0\n",
        "!pip install git+https://github.com/lovit/textrank.git\n",
        "!pip install konlpy\n",
        "!pip install 'git+https://github.com/krevas/huggingface_konlpy'"
      ]
    },
    {
      "cell_type": "code",
      "execution_count": null,
      "metadata": {
        "id": "3AcPA8eO0wWJ"
      },
      "outputs": [],
      "source": [
        "# 라이브러리 import\n",
        "import pandas as pd\n",
        "from tqdm.notebook import tqdm\n",
        "from kss import split_sentences\n",
        "import numpy as np\n",
        "from konlpy.tag import Mecab\n",
        "from konlpy.tag import Okt\n",
        "okt = Okt()\n",
        "import warnings\n",
        "from collections import Counter\n",
        "warnings.filterwarnings(\"ignore\")\n",
        "mecab = Mecab()"
      ]
    },
    {
      "cell_type": "code",
      "execution_count": null,
      "metadata": {
        "id": "N44nS7FAiXKf"
      },
      "outputs": [],
      "source": [
        "# stopword\n",
        "stop_word_public = ['', ' ',  '기업', '코스피' , '시장', '업종' ,'포인트' ,'연합뉴스','서울경제','서울' ,'경제','헤럴드 경제','더 벨', '이데일리', '연합인포맥스', '매일경제', '매일']\n",
        "\n",
        "stop_word_company = ['가가', '가까이중국', '가드', '가량', '가바', '가상', '가온', '가운데', '가운데외국인',\n",
        "       '가운데이익', '가의', '가이드', '가장', '가지', '가지하락', '가치', '각각', '간관', '간담',\n",
        "       '간밤', '간장', '갈수', '갈수록', '감리', '감마', '감소치료', '강남구', '강릉의료원',\n",
        "       '강세금융', '강세미국', '개시', '개월', '개인', '개인감소', '개인고가', '개인고용', '개인기관',\n",
        "       '개인밀러', '개인배당', '개인이모션', '개인이익', '개인전기차', '개인제약', '개인코스닥', '개인판매',\n",
        "       '개장', '개장출발', '거래', '게임스톱', '겨례', '결론', '결정', '경관', '경기리지', '경우',\n",
        "       '경인', '경향신문', '계승현', '고객', '고래', '고스', '고작', '고준혁', '골드만삭스', '골든',\n",
        "       '공간', '공사', '관계자', '관련', '관련대감', '관왕', '광장', '구미영', '구성', '국내',\n",
        "       '국내외', '권수현', '권효', '권효매도', '권효집값', '규모', '그간', '그나', '그동안', '그랜드',\n",
        "       '그룹', '그룹그룹', '금요일', '금융투자니콜라', '금융허브', '금은', '금지보합', '금지상향',\n",
        "       '금지완제', '금지전장', '금지중소형주', '금지출발', '금지현장', '급등외국인', '급락약세', '기가스',\n",
        "       '기간', '기간산업', '기간전장', '기관', '기관코로나', '기관코스닥', '기대에이치엘비', '기대외국인',\n",
        "       '기도', '기록', '기반', '기사', '기자', '기존', '기준', '기준상승', '기준피하', '기초',\n",
        "       '길리어드', '김가영', '김건희', '김경림', '김경림수익률', '김경림피스', '김국배', '김기훈',\n",
        "       '김대웅', '김동연', '김동원', '김범수', '김병주', '김보', '김상열', '김상조', '김성훈',\n",
        "       '김소연', '김승', '김아람', '김용재', '김윤지', '김은비', '김은총', '김응태', '김응태종목',\n",
        "       '김인', '김인매도', '김인상승', '김인종목', '김잔디', '김재', '김재중', '김정유', '김정은',\n",
        "       '김정주', '김주형', '김지연', '김진호', '김현아', '김형기', '김호준', '나스', '나파', '나흘',\n",
        "       '나흘외국인', '나흘주간', '남동', '남부', '내년', '내년강세', '내외', '냉장고', '년도', '노반',\n",
        "       '노재웅', '노총', '노희준', '누가', '누적개발', '뉴스바이오', '다나', '다른', '다만', '다변',\n",
        "       '다소', '다스', '다시', '다시창업', '다운', '다음', '다음주', '닥터', '단가', '단계',\n",
        "       '단위', '단장', '달러', '달리', '달새', '닷새', '닷새사외이사', '당국', '당첨', '대감',\n",
        "       '대감코스닥', '대감혈장', '대감확보', '대량', '대로', '대부분', '대부분상승', '대비', '대전',\n",
        "       '대체로', '대통령케이드', '대한', '대해', '더니낙폭', '더블유', '도로', '도세', '돌파바이오',\n",
        "       '동안', '동주', '두번째', '등락의약품', '등락중간', '디바', '디바이', '디아', '디움',\n",
        "       '디자인상', '디지털', '디테일', '딕주', '딜로', '때문', '또한', '라며', '라운드', '라이',\n",
        "       '란티스', '량잔량', '량잔량매도', '롄위보', '로나', '로부터', '룩스', '르마트렐', '리서치',\n",
        "       '리아', '리제', '리지', '리터', '리토', '린지', '마감', '마녀', '마녀보고서', '마는',\n",
        "       '마마', '마이', '마켓', '만기일물량', '만도', '만이', '만큼', '망치', '매도', '매도수준',\n",
        "       '매도스케', '매도실적', '매도외국인', '매도의약품', '매도저가', '매도치료', '매도케미칼', '매도코스닥',\n",
        "       '매도하락', '매물분가', '매수', '매수매수', '매수상승', '매수연초', '매수오후', '매수외국인',\n",
        "       '매수중국', '매수코스닥', '매수포스코', '매수항체', '매출다애', '머크', '메이', '멜라', '명근',\n",
        "       '모건', '모두', '모든', '모든박태진', '모리', '모비모습업체', '모습외국인', '모주', '모충',\n",
        "       '모친상', '무거워', '무단', '문정원', '물량미국', '미국강세', '미국기관', '미국매도', '미국매수',\n",
        "       '미나', '미노', '미라', '미만', '미만개인', '미만매수', '미만복합', '미스', '미아', '미취',\n",
        "       '민선', '밀도', '밀러', '밀리', '바로', '바이', '바이오가량', '바짝', '박경훈', '박순',\n",
        "       '박영철', '박용만', '박원희', '박정수', '박종오', '박태진', '박형수', '반납', '반대', '반도',\n",
        "       '반도체', '반등', '반락', '반려', '반면', '반복', '반영', '반전', '반토막', '발미달러',\n",
        "       '발트', '방서', '방인', '방준혁', '배우자', '배지', '백미경', '밸류', '번의', '베바',\n",
        "       '베터', '벤처캐피탈', '별로', '보삼', '보이', '복씨', '부담급락', '부분', '부사', '부산',\n",
        "       '부장', '부총', '분기', '분쟁전일', '불댕', '불어', '불확실유가', '붕괴이명철', '비롯', '비르',\n",
        "       '비메', '비율외국인', '비임', '비주', '비중', '비즈', '빅머', '빅스텝망막', '사거리', '사람',\n",
        "       '사이드카', '사자', '사자증가', '사창', '사흘', '산업', '산이', '삼성동', '삼성맨', '삼성전날',\n",
        "       '삼성출발', '삼성코스닥', '상기에스', '상무부예측', '상서발생', '상속', '상승', '상승세', '상장',\n",
        "       '상적', '상치', '상한매도', '샘피뉴트', '서동', '서비스연기금', '서희', '선도상장폐지', '선사로',\n",
        "       '선임', '선출', '선택', '설명', '성가', '성장추가', '세로하락', '세미', '세상', '섹터지난해',\n",
        "       '센트럴', '센티', '숏스', '수권', '수도', '수행', '순이', '슈빌', '스냅', '스랩', '스케',\n",
        "       '스케개발', '스케기관', '스케바이', '스케상승', '스케외국인', '스케인사말', '스케종목', '스퀘어',\n",
        "       '스타', '스텔', '승률가량', '시가총액러시아', '시가총액전날', '시간', '시기', '시대', '시도',\n",
        "       '시마', '시브', '시비르', '신정은', '신축', '실적외국인', '심주', '쌍끌이', '쌍둥이', '아바스',\n",
        "       '아빠', '아시아유가', '아이오', '아파트', '안이', '안팎상승', '안혜신', '안혜신미국', '안혜신세포',\n",
        "       '알루', '알제', '압도수익률', '앞서', '약세외국인', '양은', '어가', '어제', '어치', '어치전자',\n",
        "       '억만장자', '언스', '얼마', '업계', '업체', '에스', '에스티', '에이', '에이치', '에프',\n",
        "       '엘리', '엘앤', '엠큐', '여기', '역대', '역시', '연간', '연결스케', '연구원', '연구원상승',\n",
        "       '연구원제외', '연구원한국', '연기금명예', '연기금치료', '연매출', '연속', '연수구', '열사', '엿새',\n",
        "       '영석', '영업', '영일만', '영향비비', '오딘', '오른', '오른쪽', '오은영', '오전', '오전관련',\n",
        "       '오전급락', '오전박태진', '오전상반기', '오전서도', '오전외국인', '오전중국', '오전출발', '오후',\n",
        "       '오후부회장', '오후전장', '오후코스닥', '오후회전', '오희', '오히려', '올해', '올해대부분',\n",
        "       '외국인', '외국인넷마블', '외국인코스닥', '외국인콘퍼런스', '외인스케', '외인외국인', '우리', '우성',\n",
        "       '우시', '움직종목', '월간', '웹툰대감', '위로미국', '위주', '위주외국인', '위주전명훈', '위해',\n",
        "       '위협출발', '유가기념', '유가엘지', '유가징용', '유가측은', '유급', '유준', '유진희', '윤선',\n",
        "       '윤정', '윤정분할', '윤필', '의무', '이광수', '이내', '이도연', '이드', '이명철', '이번',\n",
        "       '이상', '이상미', '이상은', '이서현', '이슬기', '이엠', '이윤정', '이은정', '이은정매도',\n",
        "       '이은정매수', '이정현', '이정현코스닥', '이제', '이지현', '이진욱', '이징', '이틀', '이후',\n",
        "       '인구', '인조', '인천광역시', '인카', '인터콘티넨탈', '인플레', '인플릭시맙를', '인하진자', '일간',\n",
        "       '일단', '일드', '일만', '일별', '일보', '일부', '일부반도체', '일삼', '임은진확대', '자기',\n",
        "       '자산', '자청', '작년', '장주', '장현', '재는', '재차', '잭슨', '적용', '전날', '전날점유',\n",
        "       '전날코로나', '전날한국', '전량폐경', '전명훈', '전일', '전일브렉', '전일우승', '전자신용',\n",
        "       '전자중국', '전장', '전장밀러', '전장상승', '전장의약품', '전장통해', '전장허머', '전재욱', '전체',\n",
        "       '전환', '접수', '정두리', '정오', '제과', '제시', '제약재개', '제약코로나', '제약하락', '제이',\n",
        "       '조건', '조기', '조세백신', '조현영', '종가', '종가코바', '종로구검사', '종목', '종목공학',\n",
        "       '종목법인세', '종목스케', '종목전체', '종목치료', '종목코로나', '종은', '종이', '종합매도',\n",
        "       '종합무역', '종합자문', '종합종목', '종합처음', '종합코스닥', '종합회계', '주가', '주근', '주기도',\n",
        "       '주로', '주말', '주식랠리', '주원', '주재', '주주', '주택', '줄줄이', '중등', '중심미국',\n",
        "       '중이', '중인', '증권', '증시', '증시스케', '지금', '지난', '지난공사', '지난달', '지난생산',\n",
        "       '지난외국인', '지난주', '지난집행', '지난해', '지난해투자', '지사', '지수', '지온', '지윤',\n",
        "       '지윤하락', '지음', '지표유치', '직스', '직접', '진자', '진흥', '차잔', '채새롬', '처음',\n",
        "       '청과', '청약', '청주시', '체라', '체육관', '초반', '초반무역', '초반민주당', '초반소액',\n",
        "       '초반오후', '초반지점', '최근', '최근보합', '최대', '최정우백신', '최정희', '추락도시', '축소미국',\n",
        "       '축소트러스트', '출발미국', '출발상승', '출발시마', '출발외국인', '출발임상시험', '출신', '출퇴근',\n",
        "       '충북', '충북대학교', '측은', '치가', '침공배당', '칩스', '카불', '카운슬', '카카오나주',\n",
        "       '카카오상승세', '카카오전체', '케다', '케이', '케이드', '케이엠', '코로나전날', '코비',\n",
        "       '코스닥매수', '코스닥카카오', '코스피지수음성인식', '쿠폰', '퀸스', '크게', '타가', '타고', '타라',\n",
        "       '탁금', '태현', '턱걸이순이익', '털썩', '텍메', '텍메드', '토대', '통해', '통화정책화학',\n",
        "       '투연', '투자자기관', '투타', '트럼프트럼프', '티바', '티스', '파르', '파우치', '파이', '파적',\n",
        "       '판사', '팔고', '팔자문제', '팔자미국', '페이', '포토', '포함', '폰데', '풀이', '프라',\n",
        "       '프레', '프로비', '프리', '프티', '플라이', '피어', '피젠', '하나', '하락가상', '하락전장',\n",
        "       '하락투자자', '하반기', '하우스', '학인', '학회', '한국', '한국인', '한라', '한상대', '한자리',\n",
        "       '한편', '한해', '해당', '해도', '해리', '허쥬마', '헤럴드경제', '현재', '협상바이오', '협주',\n",
        "       '혜미', '호실', '호조냉장', '호조발생', '호조주요', '호텔', '홀로', '홍콩달러', '화학채무',\n",
        "       '화학합성', '확대정상회담', '환율유럽', '환율제약', '환자하락', '회복제약', '회복하락', '회사',\n",
        "       '회하', '후시서비스', '훈풍전자', '훌쩍', '휘둘린', '흐름', '흥덕구']\n",
        "\n",
        "\n",
        "stop_word = stop_word_public + company_stopword + stop_word_company "
      ]
    },
    {
      "cell_type": "code",
      "execution_count": null,
      "metadata": {
        "id": "1CFCEJaeyeDM"
      },
      "outputs": [],
      "source": [
        "# 뉴스 날짜 dict\n",
        "\n",
        "def news_keyword(keyword_pred, keyword_pred_date):\n",
        "  news_date_dict = {}\n",
        "  for news_idx in keyword_pred['news_id'].unique():\n",
        "    df_temp = keyword_pred[keyword_pred['news_id'] == news_idx]\n",
        "    temp_date = df_temp.iloc[0,0]\n",
        "    news_date_dict[news_idx] = temp_date\n",
        "\n",
        "  # 이진 분류 dict\n",
        "  df_date_targetpm_dict = {}\n",
        "  for idx in keyword_pred_date.index :\n",
        "    df_date_targetpm_dict[keyword_pred_date.loc[idx,'date']] = int(keyword_pred_date.loc[idx, 'targetpm'])\n",
        "\n",
        "  df_news = keyword_pred.groupby('news_id')[['sent']].sum()\n",
        "  df_news_temp = keyword_pred.groupby('news_id')[['pred', 'date']].mean()\n",
        "  df_news_temp['pred_pm'] = df_news_temp['pred'].apply(lambda x : 1 if x < 2 else 3)\n",
        "  df_news['pred_pm'] = df_news_temp['pred_pm']\n",
        "  df_news = df_news.reset_index()\n",
        "  df_news['date'] = df_news['news_id'].apply(lambda x : news_date_dict[x])\n",
        "\n",
        "  # 뉴스 기반으로 top20 먼저 추출\n",
        "\n",
        "  news_id_list = df_news.index\n",
        "  # 해당 뉴스 아이디 값산 토큰 \n",
        "  for news in tqdm(news_id_list) :\n",
        "    text_temp = df_sent[df_sent['news_id'] == news]['sent'].values\n",
        "    news_len = len(df_sent[df_sent['news_id'] == news]['sent'].values)\n",
        "    cmm_list = []\n",
        "\n",
        "    # 문장단위 토큰\n",
        "    for sent in text_temp :\n",
        "      count_list = []\n",
        "      text_noun = okt.nouns(sent)\n",
        "      for nn in text_noun :\n",
        "        if len(nn) >= 2 :\n",
        "          count_list.append(nn)\n",
        "      cnt1 = Counter(count_list)\n",
        "      if len(cnt1) >= 20 :\n",
        "        cnt1_cmm = cnt1.most_common(20)\n",
        "      else :\n",
        "        try : \n",
        "          cnt1_cmm = cnt1.most_common(10)\n",
        "        except :\n",
        "          try : \n",
        "            cnt1_cmm = cnt1.most_common(5)\n",
        "          except :\n",
        "            try : \n",
        "              cnt1_cmm = cnt1.most_common(3)\n",
        "            except :\n",
        "              cnt1_cmm = cnt1.most_common(1)\n",
        "\n",
        "      cmm_list.append([tk[0] for tk in cnt1_cmm])\n",
        "    total_list = []\n",
        "    for news_token in cmm_list:\n",
        "      for tok in news_token: \n",
        "        total_list.append(tok)\n",
        "    cnt2 = Counter(total_list)\n",
        "    cnt2_cmm = cnt2.most_common(20)\n",
        "    top20_list = []\n",
        "    top20 = cnt2_cmm[3:20]\n",
        "    for tok in top20 :\n",
        "      text, _ = tok\n",
        "      if text not in stop_word  :\n",
        "        top20_list.append(text)\n",
        "    df_news.at[news,'top20_okt'] = ','.join(top20_list)\n",
        "\n",
        "  # 날짜별 키워드 산출\n",
        "  df_news_gr = df_news.groupby('date')[['top20_okt']].sum()\n",
        "  df_news_gr_temp = df_news.groupby('date')[['top20_okt']].count()\n",
        "  df_news_gr['news_cnt'] = df_news_gr_temp['top20_okt']\n",
        "  for idx in tqdm(df_news_gr.index) :\n",
        "    keyword_dict = {}\n",
        "    for target in [1, 3]:\n",
        "      df_temp = df_news[(df_news['date'] == idx) & (df_news['pred_pm'] == target)]\n",
        "      news_cnt = len(df_news[(df_news['date'] == idx) & (df_news['pred_pm'] == target)])\n",
        "      df_temp_gr = df_temp.groupby('date')[['top20_okt']].sum()\n",
        "      if target == 1:\n",
        "        target_col = '부정'\n",
        "      else :\n",
        "        target_col = '긍정'\n",
        "      if len(df_temp_gr) != 0:\n",
        "        cnt_temp = Counter(df_temp_gr['top20_okt'].values[0].split(','))\n",
        "        cnt_temp_cmm = cnt_temp.most_common(100)\n",
        "        text_list = []\n",
        "        cnt_list = []\n",
        "        for text, cnt in cnt_temp_cmm[:10] :\n",
        "          if text not in stop_word  :\n",
        "            text_list.append(text) \n",
        "          cnt_list.append(str(round(cnt/news_cnt, 2)))\n",
        "        if text_list != []:\n",
        "          keyword_dict[f\"{target_col}_단어\"] = \",\".join(text_list)\n",
        "          # keyword_dict[f\"{target_col}_빈도\"] = \",\".join(cnt_list)\n",
        "        else :\n",
        "          keyword_dict[f\"{target_col}_단어\"] = \"\"\n",
        "          # keyword_dict[f\"{target_col}_빈도\"] = \"\"\n",
        "      else :\n",
        "        keyword_dict[f\"{target_col}_단어\"] = \"\"\n",
        "        # keyword_dict[f\"{target_col}_빈도\"] = \"\"\n",
        "    df_news_gr.loc[idx, 'keyword'] = '한글'\n",
        "    df_news_gr.at[idx, 'keyword'] = keyword_dict\n",
        "  df_news_gr = df_news_gr.reset_index()\n",
        "  df_news_gr['target_pm'] =  df_news_gr['date'].apply(lambda x : df_date_targetpm_dict[x])\n",
        "  return df_news_gr\n"
      ]
    },
    {
      "cell_type": "code",
      "source": [
        "save_path = f'/content/drive/MyDrive/뉴스원인분석_modeling/final_news_modeling/{company_name}/{company_name}'\n",
        "save_df_sent_path = f'/content/drive/MyDrive/뉴스원인분석_modeling/final_news_modeling/{company_name}/{company_name}_sent_split.csv'\n",
        "keyword_pred = pd.read_csv(save_path + f'_test_pred_by_sent.csv')\n",
        "keyword_pred_date = pd.read_csv(save_path + f'_test_pred_by_date_total.csv')\n",
        "df_sent = pd.read_csv(save_df_sent_path)"
      ],
      "metadata": {
        "id": "2438zc--gusG"
      },
      "execution_count": null,
      "outputs": []
    },
    {
      "cell_type": "code",
      "execution_count": null,
      "metadata": {
        "colab": {
          "base_uri": "https://localhost:8080/",
          "height": 488,
          "referenced_widgets": [
            "cd60e020ad724ab8b9ce97b5e00bf753",
            "18986fdff227497fbc6481abd1ccbc3c",
            "813ee48ed22545aaa62e492452fd6599",
            "a346258df5d44d03a25c58ceae2d3c4b",
            "1914834357004b94a6ed40d542141b69",
            "67f7fb2c85c1464e94180a673b0bafe0",
            "3e76a74f729d4eaa85512d3fda920166",
            "4268ac9c54c145048759313e16b42fe5",
            "22874330cf5145c0bf36c48d1345edd2",
            "8b92c7aeed0644b58db4f16b4ff4ed44",
            "3498516b5fe547168cb3bbaeea6187ec",
            "49b21a7271404426b4f2fcd64110e438",
            "59c96f88b2344ea9b79b36ecfef2fa18",
            "72a9c4527c9142e097248c41cfee580f",
            "fe7a9be5321f4b2a996306f6b6e81e10",
            "257e0c969c0245ab838d67a140351bf9",
            "4ae761746aca4416b3176bc73c2f912f",
            "32640ecaaa9847c8b66b446df8e4ce35",
            "0bb2c8c138d04934b56d931489b6625a",
            "ad3782c4e9a14e6f975968aec2b3bff7",
            "05091340a90942e58d3b91ae13894a36",
            "c6cf7a0f760c4a7ebe52d73f852d2c19"
          ]
        },
        "id": "G72GLdOsRkqE",
        "outputId": "26dc8806-e433-4d45-915a-a79da88460a2"
      },
      "outputs": [
        {
          "output_type": "display_data",
          "data": {
            "text/plain": [
              "  0%|          | 0/5718 [00:00<?, ?it/s]"
            ],
            "application/vnd.jupyter.widget-view+json": {
              "version_major": 2,
              "version_minor": 0,
              "model_id": "cd60e020ad724ab8b9ce97b5e00bf753"
            }
          },
          "metadata": {}
        },
        {
          "output_type": "display_data",
          "data": {
            "text/plain": [
              "  0%|          | 0/206 [00:00<?, ?it/s]"
            ],
            "application/vnd.jupyter.widget-view+json": {
              "version_major": 2,
              "version_minor": 0,
              "model_id": "49b21a7271404426b4f2fcd64110e438"
            }
          },
          "metadata": {}
        },
        {
          "output_type": "execute_result",
          "data": {
            "text/plain": [
              "           date                                          top20_okt  news_cnt  \\\n",
              "0    2022-01-28  시가총액,제외,연초,자금,블랙홀차관,토론,양자,민주당,진행,입장,국민,대선,재판,검...        72   \n",
              "1    2022-02-03  정부,생산,공급,자율,소재,재활용,플라스틱,전망,제휴,네이버,주머니,유럽,리스크첫날...       112   \n",
              "2    2022-02-04  배터리,스테인리스강,세계,수요,전기차,원료,경기,미국,비량,차지대형,뱅크,증가,사상...        39   \n",
              "3    2022-02-07  하락,출발,중심,전자,삼성,대형주계약,배터리,리튬,첫날,편입,평가,생산,공급망,과정...        61   \n",
              "4    2022-02-08  전망,투자,상황,하락,긴축,미국,바닥,세계,정책,심리,보통금통위,금리,스프레드,투자...        68   \n",
              "..          ...                                                ...       ...   \n",
              "201  2022-11-24  미국,환율민주당,투자,결과,혜주,법안,장기,관점,상원,승리,공화당,신재생에너지,기대...        35   \n",
              "202  2022-11-25  출발,물가,발표,압력,뉴욕,나스닥,대유행고가,경신,특징,신고돌입,합작,얼티엄셀즈,공...        34   \n",
              "203  2022-11-28  사업,도청,체결,건설,기술,행정,서비스,발리,협력,김영섭,보르네오섬,글로벌하락,보합...        28   \n",
              "204  2022-11-29  현금,추진,사업,당시,자금,방식,상황,건설,보유,수익이재성,효율,기술,개발,본부장,...        15   \n",
              "205  2022-11-30  제품,수상,선정,전자,배터리,부문,평가,미국,최초,수상작,협회수상,부문,전자,기술,...        18   \n",
              "\n",
              "                                               keyword  target_pm  \n",
              "0    {'부정_단어': '하락,시가총액,삼성,사업,투자,미국,전망,실적,자금,분할', '...          1  \n",
              "1    {'부정_단어': '', '긍정_단어': '하락,미국,투자,배터리,긴축,금리,생산,...          3  \n",
              "2    {'부정_단어': '하락,매매,연휴', '긍정_단어': '배터리,미국,전기차,계약,...          3  \n",
              "3    {'부정_단어': '', '긍정_단어': '미국,투자,삼성,배터리,전자,자금,글로벌...          3  \n",
              "4    {'부정_단어': '투자,증가,확대,글로벌,전기차,이익,자금,목표,배터리,미국', ...          1  \n",
              "..                                                 ...        ...  \n",
              "201  {'부정_단어': '', '긍정_단어': '주식,투자,전자,차지,구매,보합,삼성,상...          3  \n",
              "202  {'부정_단어': '생산,배터리,공급,확보,파스,미네랄,미국,계약,체결,탄산', '...          3  \n",
              "203  {'부정_단어': '전자,삼성,재계,재무,생산,전기차,참여,투자,주식,확대', '긍...          1  \n",
              "204  {'부정_단어': '', '긍정_단어': '사업,전자,부문,기술,수상,미국,배터리,...          3  \n",
              "205  {'부정_단어': '', '긍정_단어': '미국,연구,소재,산학,변경,센터,개발,업...          3  \n",
              "\n",
              "[206 rows x 5 columns]"
            ],
            "text/html": [
              "\n",
              "  <div id=\"df-b1df28da-8833-4572-9da1-a0ff937dd6b9\">\n",
              "    <div class=\"colab-df-container\">\n",
              "      <div>\n",
              "<style scoped>\n",
              "    .dataframe tbody tr th:only-of-type {\n",
              "        vertical-align: middle;\n",
              "    }\n",
              "\n",
              "    .dataframe tbody tr th {\n",
              "        vertical-align: top;\n",
              "    }\n",
              "\n",
              "    .dataframe thead th {\n",
              "        text-align: right;\n",
              "    }\n",
              "</style>\n",
              "<table border=\"1\" class=\"dataframe\">\n",
              "  <thead>\n",
              "    <tr style=\"text-align: right;\">\n",
              "      <th></th>\n",
              "      <th>date</th>\n",
              "      <th>top20_okt</th>\n",
              "      <th>news_cnt</th>\n",
              "      <th>keyword</th>\n",
              "      <th>target_pm</th>\n",
              "    </tr>\n",
              "  </thead>\n",
              "  <tbody>\n",
              "    <tr>\n",
              "      <th>0</th>\n",
              "      <td>2022-01-28</td>\n",
              "      <td>시가총액,제외,연초,자금,블랙홀차관,토론,양자,민주당,진행,입장,국민,대선,재판,검...</td>\n",
              "      <td>72</td>\n",
              "      <td>{'부정_단어': '하락,시가총액,삼성,사업,투자,미국,전망,실적,자금,분할', '...</td>\n",
              "      <td>1</td>\n",
              "    </tr>\n",
              "    <tr>\n",
              "      <th>1</th>\n",
              "      <td>2022-02-03</td>\n",
              "      <td>정부,생산,공급,자율,소재,재활용,플라스틱,전망,제휴,네이버,주머니,유럽,리스크첫날...</td>\n",
              "      <td>112</td>\n",
              "      <td>{'부정_단어': '', '긍정_단어': '하락,미국,투자,배터리,긴축,금리,생산,...</td>\n",
              "      <td>3</td>\n",
              "    </tr>\n",
              "    <tr>\n",
              "      <th>2</th>\n",
              "      <td>2022-02-04</td>\n",
              "      <td>배터리,스테인리스강,세계,수요,전기차,원료,경기,미국,비량,차지대형,뱅크,증가,사상...</td>\n",
              "      <td>39</td>\n",
              "      <td>{'부정_단어': '하락,매매,연휴', '긍정_단어': '배터리,미국,전기차,계약,...</td>\n",
              "      <td>3</td>\n",
              "    </tr>\n",
              "    <tr>\n",
              "      <th>3</th>\n",
              "      <td>2022-02-07</td>\n",
              "      <td>하락,출발,중심,전자,삼성,대형주계약,배터리,리튬,첫날,편입,평가,생산,공급망,과정...</td>\n",
              "      <td>61</td>\n",
              "      <td>{'부정_단어': '', '긍정_단어': '미국,투자,삼성,배터리,전자,자금,글로벌...</td>\n",
              "      <td>3</td>\n",
              "    </tr>\n",
              "    <tr>\n",
              "      <th>4</th>\n",
              "      <td>2022-02-08</td>\n",
              "      <td>전망,투자,상황,하락,긴축,미국,바닥,세계,정책,심리,보통금통위,금리,스프레드,투자...</td>\n",
              "      <td>68</td>\n",
              "      <td>{'부정_단어': '투자,증가,확대,글로벌,전기차,이익,자금,목표,배터리,미국', ...</td>\n",
              "      <td>1</td>\n",
              "    </tr>\n",
              "    <tr>\n",
              "      <th>...</th>\n",
              "      <td>...</td>\n",
              "      <td>...</td>\n",
              "      <td>...</td>\n",
              "      <td>...</td>\n",
              "      <td>...</td>\n",
              "    </tr>\n",
              "    <tr>\n",
              "      <th>201</th>\n",
              "      <td>2022-11-24</td>\n",
              "      <td>미국,환율민주당,투자,결과,혜주,법안,장기,관점,상원,승리,공화당,신재생에너지,기대...</td>\n",
              "      <td>35</td>\n",
              "      <td>{'부정_단어': '', '긍정_단어': '주식,투자,전자,차지,구매,보합,삼성,상...</td>\n",
              "      <td>3</td>\n",
              "    </tr>\n",
              "    <tr>\n",
              "      <th>202</th>\n",
              "      <td>2022-11-25</td>\n",
              "      <td>출발,물가,발표,압력,뉴욕,나스닥,대유행고가,경신,특징,신고돌입,합작,얼티엄셀즈,공...</td>\n",
              "      <td>34</td>\n",
              "      <td>{'부정_단어': '생산,배터리,공급,확보,파스,미네랄,미국,계약,체결,탄산', '...</td>\n",
              "      <td>3</td>\n",
              "    </tr>\n",
              "    <tr>\n",
              "      <th>203</th>\n",
              "      <td>2022-11-28</td>\n",
              "      <td>사업,도청,체결,건설,기술,행정,서비스,발리,협력,김영섭,보르네오섬,글로벌하락,보합...</td>\n",
              "      <td>28</td>\n",
              "      <td>{'부정_단어': '전자,삼성,재계,재무,생산,전기차,참여,투자,주식,확대', '긍...</td>\n",
              "      <td>1</td>\n",
              "    </tr>\n",
              "    <tr>\n",
              "      <th>204</th>\n",
              "      <td>2022-11-29</td>\n",
              "      <td>현금,추진,사업,당시,자금,방식,상황,건설,보유,수익이재성,효율,기술,개발,본부장,...</td>\n",
              "      <td>15</td>\n",
              "      <td>{'부정_단어': '', '긍정_단어': '사업,전자,부문,기술,수상,미국,배터리,...</td>\n",
              "      <td>3</td>\n",
              "    </tr>\n",
              "    <tr>\n",
              "      <th>205</th>\n",
              "      <td>2022-11-30</td>\n",
              "      <td>제품,수상,선정,전자,배터리,부문,평가,미국,최초,수상작,협회수상,부문,전자,기술,...</td>\n",
              "      <td>18</td>\n",
              "      <td>{'부정_단어': '', '긍정_단어': '미국,연구,소재,산학,변경,센터,개발,업...</td>\n",
              "      <td>3</td>\n",
              "    </tr>\n",
              "  </tbody>\n",
              "</table>\n",
              "<p>206 rows × 5 columns</p>\n",
              "</div>\n",
              "      <button class=\"colab-df-convert\" onclick=\"convertToInteractive('df-b1df28da-8833-4572-9da1-a0ff937dd6b9')\"\n",
              "              title=\"Convert this dataframe to an interactive table.\"\n",
              "              style=\"display:none;\">\n",
              "        \n",
              "  <svg xmlns=\"http://www.w3.org/2000/svg\" height=\"24px\"viewBox=\"0 0 24 24\"\n",
              "       width=\"24px\">\n",
              "    <path d=\"M0 0h24v24H0V0z\" fill=\"none\"/>\n",
              "    <path d=\"M18.56 5.44l.94 2.06.94-2.06 2.06-.94-2.06-.94-.94-2.06-.94 2.06-2.06.94zm-11 1L8.5 8.5l.94-2.06 2.06-.94-2.06-.94L8.5 2.5l-.94 2.06-2.06.94zm10 10l.94 2.06.94-2.06 2.06-.94-2.06-.94-.94-2.06-.94 2.06-2.06.94z\"/><path d=\"M17.41 7.96l-1.37-1.37c-.4-.4-.92-.59-1.43-.59-.52 0-1.04.2-1.43.59L10.3 9.45l-7.72 7.72c-.78.78-.78 2.05 0 2.83L4 21.41c.39.39.9.59 1.41.59.51 0 1.02-.2 1.41-.59l7.78-7.78 2.81-2.81c.8-.78.8-2.07 0-2.86zM5.41 20L4 18.59l7.72-7.72 1.47 1.35L5.41 20z\"/>\n",
              "  </svg>\n",
              "      </button>\n",
              "      \n",
              "  <style>\n",
              "    .colab-df-container {\n",
              "      display:flex;\n",
              "      flex-wrap:wrap;\n",
              "      gap: 12px;\n",
              "    }\n",
              "\n",
              "    .colab-df-convert {\n",
              "      background-color: #E8F0FE;\n",
              "      border: none;\n",
              "      border-radius: 50%;\n",
              "      cursor: pointer;\n",
              "      display: none;\n",
              "      fill: #1967D2;\n",
              "      height: 32px;\n",
              "      padding: 0 0 0 0;\n",
              "      width: 32px;\n",
              "    }\n",
              "\n",
              "    .colab-df-convert:hover {\n",
              "      background-color: #E2EBFA;\n",
              "      box-shadow: 0px 1px 2px rgba(60, 64, 67, 0.3), 0px 1px 3px 1px rgba(60, 64, 67, 0.15);\n",
              "      fill: #174EA6;\n",
              "    }\n",
              "\n",
              "    [theme=dark] .colab-df-convert {\n",
              "      background-color: #3B4455;\n",
              "      fill: #D2E3FC;\n",
              "    }\n",
              "\n",
              "    [theme=dark] .colab-df-convert:hover {\n",
              "      background-color: #434B5C;\n",
              "      box-shadow: 0px 1px 3px 1px rgba(0, 0, 0, 0.15);\n",
              "      filter: drop-shadow(0px 1px 2px rgba(0, 0, 0, 0.3));\n",
              "      fill: #FFFFFF;\n",
              "    }\n",
              "  </style>\n",
              "\n",
              "      <script>\n",
              "        const buttonEl =\n",
              "          document.querySelector('#df-b1df28da-8833-4572-9da1-a0ff937dd6b9 button.colab-df-convert');\n",
              "        buttonEl.style.display =\n",
              "          google.colab.kernel.accessAllowed ? 'block' : 'none';\n",
              "\n",
              "        async function convertToInteractive(key) {\n",
              "          const element = document.querySelector('#df-b1df28da-8833-4572-9da1-a0ff937dd6b9');\n",
              "          const dataTable =\n",
              "            await google.colab.kernel.invokeFunction('convertToInteractive',\n",
              "                                                     [key], {});\n",
              "          if (!dataTable) return;\n",
              "\n",
              "          const docLinkHtml = 'Like what you see? Visit the ' +\n",
              "            '<a target=\"_blank\" href=https://colab.research.google.com/notebooks/data_table.ipynb>data table notebook</a>'\n",
              "            + ' to learn more about interactive tables.';\n",
              "          element.innerHTML = '';\n",
              "          dataTable['output_type'] = 'display_data';\n",
              "          await google.colab.output.renderOutput(dataTable, element);\n",
              "          const docLink = document.createElement('div');\n",
              "          docLink.innerHTML = docLinkHtml;\n",
              "          element.appendChild(docLink);\n",
              "        }\n",
              "      </script>\n",
              "    </div>\n",
              "  </div>\n",
              "  "
            ]
          },
          "metadata": {},
          "execution_count": 9
        }
      ],
      "source": [
        "df_keyword = news_keyword(keyword_pred, keyword_pred_date)\n",
        "df_keyword"
      ]
    },
    {
      "cell_type": "code",
      "source": [
        "for idx in df_keyword.sample(frac=1).index[:50] :\n",
        "  temp_neg = df_keyword.loc[idx, 'keyword']['부정_단어']\n",
        "  temp_pos = df_keyword.loc[idx, 'keyword']['긍정_단어']\n",
        "  print(idx, df_keyword.loc[idx, 'date'])\n",
        "  print('부정단어 :',temp_neg, '\\n', '긍정_단어 :', temp_pos, '\\n\\n')"
      ],
      "metadata": {
        "colab": {
          "base_uri": "https://localhost:8080/"
        },
        "id": "zsGgYmtckV6S",
        "outputId": "be2a4b17-719f-4907-de49-b544d6b6424b"
      },
      "execution_count": null,
      "outputs": [
        {
          "output_type": "stream",
          "name": "stdout",
          "text": [
            "7 2022-02-11\n",
            "부정단어 :  \n",
            " 긍정_단어 : 금융,지주,투자,하락,특징,메리츠화재,정기,더존,제약,미국 \n",
            "\n",
            "\n",
            "111 2022-07-14\n",
            "부정단어 : 삼성,하락,거래소,소재,특징,이익,매출,중국,증가,배터리 \n",
            " 긍정_단어 : 매출,이익,하락,실적,전자,화학,보호,예수,해제,목표 \n",
            "\n",
            "\n",
            "45 2022-04-08\n",
            "부정단어 : 인재,영상,유튜브,신입사원,절차,직원,확보,코믹,인사,제작 \n",
            " 긍정_단어 : 하락,출발,미국,투자,보합,삼성,전기차,차량,운용,특징 \n",
            "\n",
            "\n",
            "151 2022-09-13\n",
            "부정단어 :  \n",
            " 긍정_단어 : 미국,생산,배터리,전기차,법인,현대차,투자,환율,인상,공장 \n",
            "\n",
            "\n",
            "175 2022-10-19\n",
            "부정단어 :  \n",
            " 긍정_단어 : 동기,실적,연결,매출,증가,지원,전기차,첫날,바이오,공시 \n",
            "\n",
            "\n",
            "131 2022-08-11\n",
            "부정단어 : 상반기,수주,디스플레이,설립,증가,생산,해외,글로벌,시장점유율,세계 \n",
            " 긍정_단어 : 상반기,배터리,생산,미국,중국,사업,성장,글로벌,신규,현대차 \n",
            "\n",
            "\n",
            "30 2022-03-18\n",
            "부정단어 :  \n",
            " 긍정_단어 : 전기차,판매,현지,자동차,최초,준공,정부,전략,완성,공장 \n",
            "\n",
            "\n",
            "97 2022-06-24\n",
            "부정단어 : 투자,확대,유치,공장,미국,세계,대통령,허브,자카르타,자동차 \n",
            " 긍정_단어 : 전자,코스닥,출발,출하,가격,대표,경영인,경영,전당,연방 \n",
            "\n",
            "\n",
            "10 2022-02-16\n",
            "부정단어 : 가격,미국,글로벌,원자재,탑재,출시,전자,세계,광물,안정 \n",
            " 긍정_단어 : 전기차,하락,글로벌,탑재,이익,유가,지정학적,세계,카카오,전기 \n",
            "\n",
            "\n",
            "161 2022-09-27\n",
            "부정단어 : 투자,미국,삼성,이익,매출,사업,전기차,포럼,코트라,진출 \n",
            " 긍정_단어 :  \n",
            "\n",
            "\n",
            "120 2022-07-27\n",
            "부정단어 : 하락,강세,우위,소프트웨어,미국,지원스탠퍼드대,생산,협력,아시아,지속가능성 \n",
            " 긍정_단어 : 공급,투자,전자,마하,증설,라인,미국,전기차,판매량,배터리 \n",
            "\n",
            "\n",
            "23 2022-03-08\n",
            "부정단어 : 생산,우크라이나,하락,목표,의장,배터리,글로벌,공장,약세,긴축 \n",
            " 긍정_단어 :  \n",
            "\n",
            "\n",
            "109 2022-07-12\n",
            "부정단어 :  \n",
            " 긍정_단어 : 공급,상용차,일본,엘프,동화,생산,프로젝트,특징,하락,트럭 \n",
            "\n",
            "\n",
            "96 2022-06-23\n",
            "부정단어 : 하락,미국,영향,금리,출발,투자,심리실적,적자,흑자,개선 \n",
            " 긍정_단어 : 미국,사업,코스닥,배터리,글로벌,세계,자이언트,공장,인상,생산 \n",
            "\n",
            "\n",
            "186 2022-11-03\n",
            "부정단어 :  \n",
            " 긍정_단어 : 전자,연방,정부,인상,삼성,사업,중국,유동성,미국,하이닉스 \n",
            "\n",
            "\n",
            "149 2022-09-07\n",
            "부정단어 :  \n",
            " 긍정_단어 : 공장,합작,일본,전기차,생산,북미,법인,미국,배터리,세계 \n",
            "\n",
            "\n",
            "1 2022-02-03\n",
            "부정단어 :  \n",
            " 긍정_단어 : 하락,미국,투자,배터리,긴축,금리,생산,시가총액,전기차,발표 \n",
            "\n",
            "\n",
            "68 2022-05-12\n",
            "부정단어 : 미국,사업,공장,생산,전문가,전기차,투자,미래,충전,출발 \n",
            " 긍정_단어 : 매출,라이온하트,주식,전환사채,자회사,개발,보유,안팎,추가리츠,수익 \n",
            "\n",
            "\n",
            "199 2022-11-22\n",
            "부정단어 : 하락,미국,자동차,화학,리콜,부담,분담,현대차,내연기관차,엔진 \n",
            " 긍정_단어 : 선거,삼성,중간,전자,투자,미국,원화,우위,결과,확대 \n",
            "\n",
            "\n",
            "172 2022-10-14\n",
            "부정단어 :  \n",
            " 긍정_단어 : 미국,주식,코스닥,공장,엑스포,총리,라비,츠키,생산,유치 \n",
            "\n",
            "\n",
            "150 2022-09-08\n",
            "부정단어 : 사업,사주,배정,취득,신탁,해지,법인,장비,합병,위메이드 \n",
            " 긍정_단어 : 전기차,일본,생산,미국,설립,북미,완성,소재,가동,라인 \n",
            "\n",
            "\n",
            "50 2022-04-15\n",
            "부정단어 : 전자,상위,약세,미국,신청,영향,투자자,외인,코로나,우려 \n",
            " 긍정_단어 :  \n",
            "\n",
            "\n",
            "18 2022-02-28\n",
            "부정단어 : 주식,편입,종합,인상,실적,감소,전월,전자,평가,저가 \n",
            " 긍정_단어 : 우크라이나,세계,투자,하락,수준,유가,침공,코스닥,종합하락,중국 \n",
            "\n",
            "\n",
            "95 2022-06-22\n",
            "부정단어 : 삼성,심리,경계,생산,낙폭,투자,유입,전자,하락,미국 \n",
            " 긍정_단어 : 이익,단기,섹터,소비재,상위,포스코,인터내셔널,돌파 \n",
            "\n",
            "\n",
            "90 2022-06-15\n",
            "부정단어 : 글로벌,미국,물가,투자,기술,확대,사업,대응,전자,핵심 \n",
            " 긍정_단어 : 투자,카카오,보증,채무,계약,체결,타인,장내,토지,취득 \n",
            "\n",
            "\n",
            "155 2022-09-19\n",
            "부정단어 : 미국,투자,전자,공장,계획,전기차,자산운용,글로벌,삼성,환율 \n",
            " 긍정_단어 :  \n",
            "\n",
            "\n",
            "141 2022-08-26\n",
            "부정단어 :  \n",
            " 긍정_단어 : 생산,전기차,주요,상반기,미국,비용,인건비,증가,매입,자동차 \n",
            "\n",
            "\n",
            "54 2022-04-21\n",
            "부정단어 :  \n",
            " 긍정_단어 : 광물,확보,생산,전자,영향,건수,한영,삼성,프로젝트,컨소시엄 \n",
            "\n",
            "\n",
            "146 2022-09-02\n",
            "부정단어 :  \n",
            " 긍정_단어 : 전기차,배터리,법안,대응,보조금,중국,인플레이션,감축,가드레일,통상 \n",
            "\n",
            "\n",
            "138 2022-08-23\n",
            "부정단어 : 투자,미국,음극,고체,실리콘,특허,코팅,충전,전해질,종류 \n",
            " 긍정_단어 : 삼성,전자,약세,평균,미국,하락,화학,지원,대표이사,현대 \n",
            "\n",
            "\n",
            "8 2022-02-14\n",
            "부정단어 : 공급,전자,물가,가격,금리,미국,생산,주식,투자,매출 \n",
            " 긍정_단어 :  \n",
            "\n",
            "\n",
            "167 2022-10-06\n",
            "부정단어 :  \n",
            " 긍정_단어 : 지원,활동,프로그램,청소년,직원,낙폭,삼성,디스,블드,나무 \n",
            "\n",
            "\n",
            "3 2022-02-07\n",
            "부정단어 :  \n",
            " 긍정_단어 : 미국,투자,삼성,배터리,전자,자금,글로벌,생산,전력,수준 \n",
            "\n",
            "\n",
            "83 2022-06-03\n",
            "부정단어 : 미래,사업,소재,친환경,개발,전자,성장,채용,전략,투자 \n",
            " 긍정_단어 :  \n",
            "\n",
            "\n",
            "72 2022-05-18\n",
            "부정단어 : 소재,흑연,충전,중국,차세대,기술,급속,개발,팽창,케미칼 \n",
            " 긍정_단어 : 중국,전기차,생산,회장,계열,사별,주요,발간,보고서,구축 \n",
            "\n",
            "\n",
            "170 2022-10-12\n",
            "부정단어 : 삼성,주식,신청,정기,구매,코스닥,투자,투자자,카카오,글로벌 \n",
            " 긍정_단어 :  \n",
            "\n",
            "\n",
            "132 2022-08-12\n",
            "부정단어 : 생산,달성,세계,배터리,공장,중립,완료,미국,의장,재생에너지 \n",
            " 긍정_단어 :  \n",
            "\n",
            "\n",
            "82 2022-06-02\n",
            "부정단어 : 하락,미국,자금,생산,투자,코스닥,투자자,소재,공시,보증 \n",
            " 긍정_단어 : 기준금리,인상,한국은행,코스닥,출발,투자가 \n",
            "\n",
            "\n",
            "166 2022-10-05\n",
            "부정단어 :  \n",
            " 긍정_단어 : 미국,투자,배터리,공급망,생산,광물,재료,업무,협약,북미 \n",
            "\n",
            "\n",
            "35 2022-03-25\n",
            "부정단어 : 보고서,제출,거래소,발행,예정,코스닥시장,사업,본부,지연,행사 \n",
            " 긍정_단어 : 증설,사업,배터리,생산,보조금,국민연금,미국,세금,미시간,계획 \n",
            "\n",
            "\n",
            "122 2022-07-29\n",
            "부정단어 :  \n",
            " 긍정_단어 : 주식,투자,생산,공장,법인,해제,사업,신규,중국,설립 \n",
            "\n",
            "\n",
            "107 2022-07-08\n",
            "부정단어 :  \n",
            " 긍정_단어 : 하락,삼성,성장,배터리,동기,협력,공장,주요,북미,생산 \n",
            "\n",
            "\n",
            "92 2022-06-17\n",
            "부정단어 : 소비자,하락,낙폭,심리,미국,물가,최저,폭락,코스피지수투자,테슬라 \n",
            " 긍정_단어 : 투자,완성,전기차,사업,물가,낙폭,증설,양산,라인,글로벌 \n",
            "\n",
            "\n",
            "24 2022-03-10\n",
            "부정단어 :  \n",
            " 긍정_단어 : 사업,유가,미국,우크라이나,핵심,러시아,출발,우려,기술,한양대 \n",
            "\n",
            "\n",
            "126 2022-08-04\n",
            "부정단어 :  \n",
            " 긍정_단어 : 생산,니켈,공장,배터리,소재,투자,인상,실적,동기,광양 \n",
            "\n",
            "\n",
            "21 2022-03-04\n",
            "부정단어 : 사업,러시아,생산,배터리,네온,세계,원자재,제재,미국,재고 \n",
            " 긍정_단어 :  \n",
            "\n",
            "\n",
            "43 2022-04-06\n",
            "부정단어 : 미국,유가,대표,화학,전자,공장,우려,차지,유상증자,참여 \n",
            " 긍정_단어 :  \n",
            "\n",
            "\n",
            "40 2022-04-01\n",
            "부정단어 : 플랫폼,확대,강세,카카오,전기,충전,가맹,정부,활성화,스마트 \n",
            " 긍정_단어 :  \n",
            "\n",
            "\n",
            "164 2022-09-30\n",
            "부정단어 : 배터리,전망,하락,연방,미국,기술,전지,사업,금리,준비 \n",
            " 긍정_단어 :  \n",
            "\n",
            "\n",
            "63 2022-05-04\n",
            "부정단어 : 실적,하락,증가,출발,삼성,이익,동기,매출,약세,부문 \n",
            " 긍정_단어 :  \n",
            "\n",
            "\n"
          ]
        }
      ]
    },
    {
      "cell_type": "code",
      "execution_count": null,
      "metadata": {
        "id": "H2cGAxs-yeIt"
      },
      "outputs": [],
      "source": [
        "save_path = f'/content/drive/MyDrive/뉴스원인분석_modeling/final_news_modeling/{company_name}/{company_name}'\n",
        "import os\n",
        "os.makedirs(save_path, exist_ok=True)\n",
        "df_keyword.to_csv(save_path + '_news_keyword.csv', index=False)"
      ]
    },
    {
      "cell_type": "markdown",
      "metadata": {
        "id": "7CUag25j4JZE"
      },
      "source": [
        "# 댓글 분석\n"
      ]
    },
    {
      "cell_type": "code",
      "execution_count": null,
      "metadata": {
        "id": "ckF5bugJL66b",
        "colab": {
          "base_uri": "https://localhost:8080/"
        },
        "outputId": "38a2c487-8cda-40b2-9458-13c18e7724e0"
      },
      "outputs": [
        {
          "output_type": "stream",
          "name": "stdout",
          "text": [
            "Looking in indexes: https://pypi.org/simple, https://us-python.pkg.dev/colab-wheels/public/simple/\n",
            "Requirement already satisfied: transformers in /usr/local/lib/python3.8/dist-packages (4.25.1)\n",
            "Requirement already satisfied: packaging>=20.0 in /usr/local/lib/python3.8/dist-packages (from transformers) (21.3)\n",
            "Requirement already satisfied: filelock in /usr/local/lib/python3.8/dist-packages (from transformers) (3.9.0)\n",
            "Requirement already satisfied: numpy>=1.17 in /usr/local/lib/python3.8/dist-packages (from transformers) (1.21.6)\n",
            "Requirement already satisfied: requests in /usr/local/lib/python3.8/dist-packages (from transformers) (2.25.1)\n",
            "Requirement already satisfied: tqdm>=4.27 in /usr/local/lib/python3.8/dist-packages (from transformers) (4.64.1)\n",
            "Requirement already satisfied: huggingface-hub<1.0,>=0.10.0 in /usr/local/lib/python3.8/dist-packages (from transformers) (0.11.1)\n",
            "Requirement already satisfied: regex!=2019.12.17 in /usr/local/lib/python3.8/dist-packages (from transformers) (2022.6.2)\n",
            "Requirement already satisfied: tokenizers!=0.11.3,<0.14,>=0.11.1 in /usr/local/lib/python3.8/dist-packages (from transformers) (0.13.2)\n",
            "Requirement already satisfied: pyyaml>=5.1 in /usr/local/lib/python3.8/dist-packages (from transformers) (6.0)\n",
            "Requirement already satisfied: typing-extensions>=3.7.4.3 in /usr/local/lib/python3.8/dist-packages (from huggingface-hub<1.0,>=0.10.0->transformers) (4.4.0)\n",
            "Requirement already satisfied: pyparsing!=3.0.5,>=2.0.2 in /usr/local/lib/python3.8/dist-packages (from packaging>=20.0->transformers) (3.0.9)\n",
            "Requirement already satisfied: certifi>=2017.4.17 in /usr/local/lib/python3.8/dist-packages (from requests->transformers) (2022.12.7)\n",
            "Requirement already satisfied: chardet<5,>=3.0.2 in /usr/local/lib/python3.8/dist-packages (from requests->transformers) (4.0.0)\n",
            "Requirement already satisfied: idna<3,>=2.5 in /usr/local/lib/python3.8/dist-packages (from requests->transformers) (2.10)\n",
            "Requirement already satisfied: urllib3<1.27,>=1.21.1 in /usr/local/lib/python3.8/dist-packages (from requests->transformers) (1.24.3)\n",
            "Looking in indexes: https://pypi.org/simple, https://us-python.pkg.dev/colab-wheels/public/simple/\n",
            "Collecting attrdict\n",
            "  Downloading attrdict-2.0.1-py2.py3-none-any.whl (9.9 kB)\n",
            "Requirement already satisfied: six in /usr/local/lib/python3.8/dist-packages (from attrdict) (1.15.0)\n",
            "Installing collected packages: attrdict\n",
            "Successfully installed attrdict-2.0.1\n",
            "Looking in indexes: https://pypi.org/simple, https://us-python.pkg.dev/colab-wheels/public/simple/\n",
            "Requirement already satisfied: konlpy in /usr/local/lib/python3.8/dist-packages (0.6.0)\n",
            "Requirement already satisfied: JPype1>=0.7.0 in /usr/local/lib/python3.8/dist-packages (from konlpy) (1.4.1)\n",
            "Requirement already satisfied: numpy>=1.6 in /usr/local/lib/python3.8/dist-packages (from konlpy) (1.21.6)\n",
            "Requirement already satisfied: lxml>=4.1.0 in /usr/local/lib/python3.8/dist-packages (from konlpy) (4.9.2)\n",
            "Requirement already satisfied: packaging in /usr/local/lib/python3.8/dist-packages (from JPype1>=0.7.0->konlpy) (21.3)\n",
            "Requirement already satisfied: pyparsing!=3.0.5,>=2.0.2 in /usr/local/lib/python3.8/dist-packages (from packaging->JPype1>=0.7.0->konlpy) (3.0.9)\n",
            "Looking in indexes: https://pypi.org/simple, https://us-python.pkg.dev/colab-wheels/public/simple/\n",
            "Collecting git+https://github.com/krevas/huggingface_konlpy\n",
            "  Cloning https://github.com/krevas/huggingface_konlpy to /tmp/pip-req-build-oaupi15u\n",
            "  Running command git clone --filter=blob:none --quiet https://github.com/krevas/huggingface_konlpy /tmp/pip-req-build-oaupi15u\n",
            "  Resolved https://github.com/krevas/huggingface_konlpy to commit 00af654a4a24563b4df0a8903faef2121dbc8d90\n",
            "  Preparing metadata (setup.py) ... \u001b[?25l\u001b[?25hdone\n",
            "Requirement already satisfied: konlpy in /usr/local/lib/python3.8/dist-packages (from huggingface-konlpy==0.1.0) (0.6.0)\n",
            "Requirement already satisfied: tokenizers in /usr/local/lib/python3.8/dist-packages (from huggingface-konlpy==0.1.0) (0.13.2)\n",
            "Requirement already satisfied: transformers in /usr/local/lib/python3.8/dist-packages (from huggingface-konlpy==0.1.0) (4.25.1)\n",
            "Requirement already satisfied: tqdm in /usr/local/lib/python3.8/dist-packages (from huggingface-konlpy==0.1.0) (4.64.1)\n",
            "Requirement already satisfied: JPype1>=0.7.0 in /usr/local/lib/python3.8/dist-packages (from konlpy->huggingface-konlpy==0.1.0) (1.4.1)\n",
            "Requirement already satisfied: numpy>=1.6 in /usr/local/lib/python3.8/dist-packages (from konlpy->huggingface-konlpy==0.1.0) (1.21.6)\n",
            "Requirement already satisfied: lxml>=4.1.0 in /usr/local/lib/python3.8/dist-packages (from konlpy->huggingface-konlpy==0.1.0) (4.9.2)\n",
            "Requirement already satisfied: requests in /usr/local/lib/python3.8/dist-packages (from transformers->huggingface-konlpy==0.1.0) (2.25.1)\n",
            "Requirement already satisfied: filelock in /usr/local/lib/python3.8/dist-packages (from transformers->huggingface-konlpy==0.1.0) (3.9.0)\n",
            "Requirement already satisfied: huggingface-hub<1.0,>=0.10.0 in /usr/local/lib/python3.8/dist-packages (from transformers->huggingface-konlpy==0.1.0) (0.11.1)\n",
            "Requirement already satisfied: regex!=2019.12.17 in /usr/local/lib/python3.8/dist-packages (from transformers->huggingface-konlpy==0.1.0) (2022.6.2)\n",
            "Requirement already satisfied: packaging>=20.0 in /usr/local/lib/python3.8/dist-packages (from transformers->huggingface-konlpy==0.1.0) (21.3)\n",
            "Requirement already satisfied: pyyaml>=5.1 in /usr/local/lib/python3.8/dist-packages (from transformers->huggingface-konlpy==0.1.0) (6.0)\n",
            "Requirement already satisfied: typing-extensions>=3.7.4.3 in /usr/local/lib/python3.8/dist-packages (from huggingface-hub<1.0,>=0.10.0->transformers->huggingface-konlpy==0.1.0) (4.4.0)\n",
            "Requirement already satisfied: pyparsing!=3.0.5,>=2.0.2 in /usr/local/lib/python3.8/dist-packages (from packaging>=20.0->transformers->huggingface-konlpy==0.1.0) (3.0.9)\n",
            "Requirement already satisfied: urllib3<1.27,>=1.21.1 in /usr/local/lib/python3.8/dist-packages (from requests->transformers->huggingface-konlpy==0.1.0) (1.24.3)\n",
            "Requirement already satisfied: idna<3,>=2.5 in /usr/local/lib/python3.8/dist-packages (from requests->transformers->huggingface-konlpy==0.1.0) (2.10)\n",
            "Requirement already satisfied: chardet<5,>=3.0.2 in /usr/local/lib/python3.8/dist-packages (from requests->transformers->huggingface-konlpy==0.1.0) (4.0.0)\n",
            "Requirement already satisfied: certifi>=2017.4.17 in /usr/local/lib/python3.8/dist-packages (from requests->transformers->huggingface-konlpy==0.1.0) (2022.12.7)\n",
            "Looking in indexes: https://pypi.org/simple, https://us-python.pkg.dev/colab-wheels/public/simple/\n",
            "Collecting ruamel-yaml\n",
            "  Downloading ruamel.yaml-0.17.21-py3-none-any.whl (109 kB)\n",
            "\u001b[2K     \u001b[90m━━━━━━━━━━━━━━━━━━━━━━━━━━━━━━━━━━━━━━━\u001b[0m \u001b[32m109.5/109.5 KB\u001b[0m \u001b[31m4.2 MB/s\u001b[0m eta \u001b[36m0:00:00\u001b[0m\n",
            "\u001b[?25hCollecting ruamel.yaml.clib>=0.2.6\n",
            "  Downloading ruamel.yaml.clib-0.2.7-cp38-cp38-manylinux_2_17_x86_64.manylinux2014_x86_64.manylinux_2_24_x86_64.whl (555 kB)\n",
            "\u001b[2K     \u001b[90m━━━━━━━━━━━━━━━━━━━━━━━━━━━━━━━━━━━━━━\u001b[0m \u001b[32m555.3/555.3 KB\u001b[0m \u001b[31m16.3 MB/s\u001b[0m eta \u001b[36m0:00:00\u001b[0m\n",
            "\u001b[?25hInstalling collected packages: ruamel.yaml.clib, ruamel-yaml\n",
            "Successfully installed ruamel-yaml-0.17.21 ruamel.yaml.clib-0.2.7\n",
            "Looking in indexes: https://pypi.org/simple, https://us-python.pkg.dev/colab-wheels/public/simple/\n",
            "Collecting seqeval\n",
            "  Downloading seqeval-1.2.2.tar.gz (43 kB)\n",
            "\u001b[2K     \u001b[90m━━━━━━━━━━━━━━━━━━━━━━━━━━━━━━━━━━━━━━━━\u001b[0m \u001b[32m43.6/43.6 KB\u001b[0m \u001b[31m2.5 MB/s\u001b[0m eta \u001b[36m0:00:00\u001b[0m\n",
            "\u001b[?25h  Preparing metadata (setup.py) ... \u001b[?25l\u001b[?25hdone\n",
            "Requirement already satisfied: numpy>=1.14.0 in /usr/local/lib/python3.8/dist-packages (from seqeval) (1.21.6)\n",
            "Requirement already satisfied: scikit-learn>=0.21.3 in /usr/local/lib/python3.8/dist-packages (from seqeval) (1.0.2)\n",
            "Requirement already satisfied: joblib>=0.11 in /usr/local/lib/python3.8/dist-packages (from scikit-learn>=0.21.3->seqeval) (1.2.0)\n",
            "Requirement already satisfied: threadpoolctl>=2.0.0 in /usr/local/lib/python3.8/dist-packages (from scikit-learn>=0.21.3->seqeval) (3.1.0)\n",
            "Requirement already satisfied: scipy>=1.1.0 in /usr/local/lib/python3.8/dist-packages (from scikit-learn>=0.21.3->seqeval) (1.8.0)\n",
            "Building wheels for collected packages: seqeval\n",
            "  Building wheel for seqeval (setup.py) ... \u001b[?25l\u001b[?25hdone\n",
            "  Created wheel for seqeval: filename=seqeval-1.2.2-py3-none-any.whl size=16179 sha256=b7e5e6e90723cb08e81a0029d05cebd500e5aa6358452d88096bacbdbb2d3591\n",
            "  Stored in directory: /root/.cache/pip/wheels/ad/5c/ba/05fa33fa5855777b7d686e843ec07452f22a66a138e290e732\n",
            "Successfully built seqeval\n",
            "Installing collected packages: seqeval\n",
            "Successfully installed seqeval-1.2.2\n"
          ]
        }
      ],
      "source": [
        "!pip install transformers\n",
        "!pip install attrdict \n",
        "!pip install konlpy\n",
        "!pip install 'git+https://github.com/krevas/huggingface_konlpy'\n",
        "!pip install ruamel-yaml\n",
        "!pip install seqeval"
      ]
    },
    {
      "cell_type": "code",
      "execution_count": null,
      "metadata": {
        "id": "SdKbaOsmL8_C"
      },
      "outputs": [],
      "source": [
        "import pandas as pd\n",
        "from tqdm.notebook import tqdm\n",
        "import numpy as np\n",
        "import matplotlib.pyplot as plt\n",
        "from sklearn.model_selection import train_test_split\n",
        "import re\n",
        "import warnings\n",
        "warnings.filterwarnings(action='default')"
      ]
    },
    {
      "cell_type": "code",
      "execution_count": null,
      "metadata": {
        "id": "vQAqTdTsLaCs"
      },
      "outputs": [],
      "source": [
        "def preprocessing_train_save(df_bc):\n",
        "  df_bc = df_bc[['date_cate','content', 'reaction']]\n",
        "  df_bc = df_bc.rename(columns={'date_cate' : 'date', 'reaction' : 'target'})\n",
        "  df_bc['recontent'] = df_bc['content'].apply(lambda x : re.sub('[^a-zA-Z가-힣ㄱ-ㅎ.0-9 ]', '', x))\n",
        "  df_bc['recontent'] =df_bc['recontent'].apply(lambda x : re.sub(' +', ' ', x))\n",
        "  df_bc = df_bc[(df_bc['recontent'] != '') & (df_bc['recontent'] != ' ') & (df_bc['recontent'] != '  ')]\n",
        "  df_bc = df_bc.sample(frac=1, random_state=2022)\n",
        "\n",
        "  df_gr = df_bc.groupby('date')[['target']].mean()\n",
        "  # 날짜별로 train_test_split\n",
        "  train_date, test_date = train_test_split(df_gr, test_size=0.1, random_state=2022, stratify=df_gr['target'])\n",
        "  train_date_list = train_date.index\n",
        "  test_date_list = test_date.index\n",
        "  # 라벨링 문자로\n",
        "  df_dict = {'0' : '하락', '1' : '상승'}\n",
        "  train = df_bc[df_bc['date'].isin(train_date_list)][['date','recontent', 'target']]\n",
        "  test = df_bc[df_bc['date'].isin(test_date_list)][['date','recontent', 'target']]\n",
        "  train['target'] = train['target'].apply(lambda x : df_dict[str(x)])\n",
        "  test['target'] = test['target'].apply(lambda x : df_dict[str(x)])\n",
        "  train_raw = train.copy()\n",
        "  test_pred = test.copy()\n",
        "  train = train[['recontent', 'target', 'date']]\n",
        "  test = test[['recontent', 'target', 'date']]\n",
        "\n",
        "  train_sampling_up = train[train['target'] == '상승'].sample(10000, random_state=1)\n",
        "  train_sampling_down = train[train['target'] == '하락'].sample(10000, random_state=1)\n",
        "  train_sampling = pd.concat([train_sampling_up, train_sampling_down])[['recontent', 'target']]\n",
        "  train_not_sampled = train.loc[~train.index.isin(train_sampling.index), :]\n",
        "  train_sampling = train_sampling.sample(frac=1 , random_state=2022)\n",
        "  return train_sampling , train_not_sampled, test[['recontent', 'target']], test\n",
        "\n",
        "def board_pred(model, test):\n",
        "  model.eval()\n",
        "  from transformers import TextClassificationPipeline\n",
        "  sentiment_classifier = TextClassificationPipeline(tokenizer=tokenizer, model=model)\n",
        "\n",
        "  for idx in tqdm(test.index) :\n",
        "    review_list = [test.loc[idx,'recontent']]\n",
        "    for review in review_list:\n",
        "      pred = sentiment_classifier(review[:128])\n",
        "      pred_label = pred[0]['label'][-1]\n",
        "      pred_score = pred[0]['score']\n",
        "      test.loc[idx,'pred_label'] = pred_label\n",
        "      test.loc[idx,'score'] = pred_score\n",
        "  return test"
      ]
    },
    {
      "cell_type": "code",
      "execution_count": null,
      "metadata": {
        "colab": {
          "base_uri": "https://localhost:8080/",
          "height": 424
        },
        "id": "bqe64Z-TLaAc",
        "outputId": "fc1570aa-bbe8-44f8-c723-ab0e8beab900"
      },
      "outputs": [
        {
          "output_type": "execute_result",
          "data": {
            "text/plain": [
              "         code                   title  \\\n",
              "0      373220               나쁘지 않은 정보   \n",
              "1      373220        외인입니다. 입장  밝힙니다.   \n",
              "2      373220           370조  수주잔고  ~   \n",
              "3      373220  33%  공매도 거래! 외인숏커버  물량   \n",
              "4      373220                     내일도   \n",
              "...       ...                     ...   \n",
              "63641  373220                  소문난 잔치   \n",
              "63642  373220               적정주가 63만원   \n",
              "63643  373220       오전에 매수세 겁나게 들어올거다   \n",
              "63644  373220                따상상상 갑니다   \n",
              "63645  373220                엘지 머리잘?다   \n",
              "\n",
              "                                                 content                 date  \\\n",
              "0      여기서 공유하고 있습니다.소통도 원활하게 진행중입니다.함께해요.kakaoshorts...  2022-11-30 16:03:00   \n",
              "1                                         VI.......ctory  2022-11-30 15:52:00   \n",
              "2                                             앞으로 고고싱싱 !  2022-11-30 16:03:00   \n",
              "3                                 이건 시간외 또는 내일 또 오른다는 ~~  2022-11-30 15:56:00   \n",
              "4                                            이어 달리기  하겠지  2022-11-30 16:04:00   \n",
              "...                                                  ...                  ...   \n",
              "63641      주식하루이틀허냐 빨간봉 한두개보임 팔어라물량투하 눈에 보이는구만 17만에 입성하마  2022-01-27 08:23:00   \n",
              "63642                                          적정주가 63만원  2022-01-27 08:23:00   \n",
              "63643                                      가지고만 있는놈이 승자다  2022-01-27 08:24:00   \n",
              "63644                               내일 100만원에 팔면 됩니다 ㄱㄱㄱ  2022-01-27 08:24:00   \n",
              "63645  에코프로비엠악재+상장전공장증설기사+ 오늘팔아도구정전에 돈못찾음    엘지아주작정햇구...  2022-01-27 08:24:00   \n",
              "\n",
              "       like  unlike  view_count   date_cate  전일비_비율  reaction  \n",
              "0         2       1         225  2022-11-30    3.53         1  \n",
              "1         2       2         508  2022-11-30    3.53         1  \n",
              "2         6       1         277  2022-11-30    3.53         1  \n",
              "3         6       1         473  2022-11-30    3.53         1  \n",
              "4         7       0         237  2022-11-30    3.53         1  \n",
              "...     ...     ...         ...         ...     ...       ...  \n",
              "63641     2       2          78  2022-01-27    0.00         1  \n",
              "63642     1       2          93  2022-01-27    0.00         1  \n",
              "63643     1       2          75  2022-01-27    0.00         1  \n",
              "63644     3       1         290  2022-01-27    0.00         1  \n",
              "63645     0       1          81  2022-01-27    0.00         1  \n",
              "\n",
              "[63646 rows x 10 columns]"
            ],
            "text/html": [
              "\n",
              "  <div id=\"df-e56cb101-0e1e-4591-92c8-3e0f369d4453\">\n",
              "    <div class=\"colab-df-container\">\n",
              "      <div>\n",
              "<style scoped>\n",
              "    .dataframe tbody tr th:only-of-type {\n",
              "        vertical-align: middle;\n",
              "    }\n",
              "\n",
              "    .dataframe tbody tr th {\n",
              "        vertical-align: top;\n",
              "    }\n",
              "\n",
              "    .dataframe thead th {\n",
              "        text-align: right;\n",
              "    }\n",
              "</style>\n",
              "<table border=\"1\" class=\"dataframe\">\n",
              "  <thead>\n",
              "    <tr style=\"text-align: right;\">\n",
              "      <th></th>\n",
              "      <th>code</th>\n",
              "      <th>title</th>\n",
              "      <th>content</th>\n",
              "      <th>date</th>\n",
              "      <th>like</th>\n",
              "      <th>unlike</th>\n",
              "      <th>view_count</th>\n",
              "      <th>date_cate</th>\n",
              "      <th>전일비_비율</th>\n",
              "      <th>reaction</th>\n",
              "    </tr>\n",
              "  </thead>\n",
              "  <tbody>\n",
              "    <tr>\n",
              "      <th>0</th>\n",
              "      <td>373220</td>\n",
              "      <td>나쁘지 않은 정보</td>\n",
              "      <td>여기서 공유하고 있습니다.소통도 원활하게 진행중입니다.함께해요.kakaoshorts...</td>\n",
              "      <td>2022-11-30 16:03:00</td>\n",
              "      <td>2</td>\n",
              "      <td>1</td>\n",
              "      <td>225</td>\n",
              "      <td>2022-11-30</td>\n",
              "      <td>3.53</td>\n",
              "      <td>1</td>\n",
              "    </tr>\n",
              "    <tr>\n",
              "      <th>1</th>\n",
              "      <td>373220</td>\n",
              "      <td>외인입니다. 입장  밝힙니다.</td>\n",
              "      <td>VI.......ctory</td>\n",
              "      <td>2022-11-30 15:52:00</td>\n",
              "      <td>2</td>\n",
              "      <td>2</td>\n",
              "      <td>508</td>\n",
              "      <td>2022-11-30</td>\n",
              "      <td>3.53</td>\n",
              "      <td>1</td>\n",
              "    </tr>\n",
              "    <tr>\n",
              "      <th>2</th>\n",
              "      <td>373220</td>\n",
              "      <td>370조  수주잔고  ~</td>\n",
              "      <td>앞으로 고고싱싱 !</td>\n",
              "      <td>2022-11-30 16:03:00</td>\n",
              "      <td>6</td>\n",
              "      <td>1</td>\n",
              "      <td>277</td>\n",
              "      <td>2022-11-30</td>\n",
              "      <td>3.53</td>\n",
              "      <td>1</td>\n",
              "    </tr>\n",
              "    <tr>\n",
              "      <th>3</th>\n",
              "      <td>373220</td>\n",
              "      <td>33%  공매도 거래! 외인숏커버  물량</td>\n",
              "      <td>이건 시간외 또는 내일 또 오른다는 ~~</td>\n",
              "      <td>2022-11-30 15:56:00</td>\n",
              "      <td>6</td>\n",
              "      <td>1</td>\n",
              "      <td>473</td>\n",
              "      <td>2022-11-30</td>\n",
              "      <td>3.53</td>\n",
              "      <td>1</td>\n",
              "    </tr>\n",
              "    <tr>\n",
              "      <th>4</th>\n",
              "      <td>373220</td>\n",
              "      <td>내일도</td>\n",
              "      <td>이어 달리기  하겠지</td>\n",
              "      <td>2022-11-30 16:04:00</td>\n",
              "      <td>7</td>\n",
              "      <td>0</td>\n",
              "      <td>237</td>\n",
              "      <td>2022-11-30</td>\n",
              "      <td>3.53</td>\n",
              "      <td>1</td>\n",
              "    </tr>\n",
              "    <tr>\n",
              "      <th>...</th>\n",
              "      <td>...</td>\n",
              "      <td>...</td>\n",
              "      <td>...</td>\n",
              "      <td>...</td>\n",
              "      <td>...</td>\n",
              "      <td>...</td>\n",
              "      <td>...</td>\n",
              "      <td>...</td>\n",
              "      <td>...</td>\n",
              "      <td>...</td>\n",
              "    </tr>\n",
              "    <tr>\n",
              "      <th>63641</th>\n",
              "      <td>373220</td>\n",
              "      <td>소문난 잔치</td>\n",
              "      <td>주식하루이틀허냐 빨간봉 한두개보임 팔어라물량투하 눈에 보이는구만 17만에 입성하마</td>\n",
              "      <td>2022-01-27 08:23:00</td>\n",
              "      <td>2</td>\n",
              "      <td>2</td>\n",
              "      <td>78</td>\n",
              "      <td>2022-01-27</td>\n",
              "      <td>0.00</td>\n",
              "      <td>1</td>\n",
              "    </tr>\n",
              "    <tr>\n",
              "      <th>63642</th>\n",
              "      <td>373220</td>\n",
              "      <td>적정주가 63만원</td>\n",
              "      <td>적정주가 63만원</td>\n",
              "      <td>2022-01-27 08:23:00</td>\n",
              "      <td>1</td>\n",
              "      <td>2</td>\n",
              "      <td>93</td>\n",
              "      <td>2022-01-27</td>\n",
              "      <td>0.00</td>\n",
              "      <td>1</td>\n",
              "    </tr>\n",
              "    <tr>\n",
              "      <th>63643</th>\n",
              "      <td>373220</td>\n",
              "      <td>오전에 매수세 겁나게 들어올거다</td>\n",
              "      <td>가지고만 있는놈이 승자다</td>\n",
              "      <td>2022-01-27 08:24:00</td>\n",
              "      <td>1</td>\n",
              "      <td>2</td>\n",
              "      <td>75</td>\n",
              "      <td>2022-01-27</td>\n",
              "      <td>0.00</td>\n",
              "      <td>1</td>\n",
              "    </tr>\n",
              "    <tr>\n",
              "      <th>63644</th>\n",
              "      <td>373220</td>\n",
              "      <td>따상상상 갑니다</td>\n",
              "      <td>내일 100만원에 팔면 됩니다 ㄱㄱㄱ</td>\n",
              "      <td>2022-01-27 08:24:00</td>\n",
              "      <td>3</td>\n",
              "      <td>1</td>\n",
              "      <td>290</td>\n",
              "      <td>2022-01-27</td>\n",
              "      <td>0.00</td>\n",
              "      <td>1</td>\n",
              "    </tr>\n",
              "    <tr>\n",
              "      <th>63645</th>\n",
              "      <td>373220</td>\n",
              "      <td>엘지 머리잘?다</td>\n",
              "      <td>에코프로비엠악재+상장전공장증설기사+ 오늘팔아도구정전에 돈못찾음    엘지아주작정햇구...</td>\n",
              "      <td>2022-01-27 08:24:00</td>\n",
              "      <td>0</td>\n",
              "      <td>1</td>\n",
              "      <td>81</td>\n",
              "      <td>2022-01-27</td>\n",
              "      <td>0.00</td>\n",
              "      <td>1</td>\n",
              "    </tr>\n",
              "  </tbody>\n",
              "</table>\n",
              "<p>63646 rows × 10 columns</p>\n",
              "</div>\n",
              "      <button class=\"colab-df-convert\" onclick=\"convertToInteractive('df-e56cb101-0e1e-4591-92c8-3e0f369d4453')\"\n",
              "              title=\"Convert this dataframe to an interactive table.\"\n",
              "              style=\"display:none;\">\n",
              "        \n",
              "  <svg xmlns=\"http://www.w3.org/2000/svg\" height=\"24px\"viewBox=\"0 0 24 24\"\n",
              "       width=\"24px\">\n",
              "    <path d=\"M0 0h24v24H0V0z\" fill=\"none\"/>\n",
              "    <path d=\"M18.56 5.44l.94 2.06.94-2.06 2.06-.94-2.06-.94-.94-2.06-.94 2.06-2.06.94zm-11 1L8.5 8.5l.94-2.06 2.06-.94-2.06-.94L8.5 2.5l-.94 2.06-2.06.94zm10 10l.94 2.06.94-2.06 2.06-.94-2.06-.94-.94-2.06-.94 2.06-2.06.94z\"/><path d=\"M17.41 7.96l-1.37-1.37c-.4-.4-.92-.59-1.43-.59-.52 0-1.04.2-1.43.59L10.3 9.45l-7.72 7.72c-.78.78-.78 2.05 0 2.83L4 21.41c.39.39.9.59 1.41.59.51 0 1.02-.2 1.41-.59l7.78-7.78 2.81-2.81c.8-.78.8-2.07 0-2.86zM5.41 20L4 18.59l7.72-7.72 1.47 1.35L5.41 20z\"/>\n",
              "  </svg>\n",
              "      </button>\n",
              "      \n",
              "  <style>\n",
              "    .colab-df-container {\n",
              "      display:flex;\n",
              "      flex-wrap:wrap;\n",
              "      gap: 12px;\n",
              "    }\n",
              "\n",
              "    .colab-df-convert {\n",
              "      background-color: #E8F0FE;\n",
              "      border: none;\n",
              "      border-radius: 50%;\n",
              "      cursor: pointer;\n",
              "      display: none;\n",
              "      fill: #1967D2;\n",
              "      height: 32px;\n",
              "      padding: 0 0 0 0;\n",
              "      width: 32px;\n",
              "    }\n",
              "\n",
              "    .colab-df-convert:hover {\n",
              "      background-color: #E2EBFA;\n",
              "      box-shadow: 0px 1px 2px rgba(60, 64, 67, 0.3), 0px 1px 3px 1px rgba(60, 64, 67, 0.15);\n",
              "      fill: #174EA6;\n",
              "    }\n",
              "\n",
              "    [theme=dark] .colab-df-convert {\n",
              "      background-color: #3B4455;\n",
              "      fill: #D2E3FC;\n",
              "    }\n",
              "\n",
              "    [theme=dark] .colab-df-convert:hover {\n",
              "      background-color: #434B5C;\n",
              "      box-shadow: 0px 1px 3px 1px rgba(0, 0, 0, 0.15);\n",
              "      filter: drop-shadow(0px 1px 2px rgba(0, 0, 0, 0.3));\n",
              "      fill: #FFFFFF;\n",
              "    }\n",
              "  </style>\n",
              "\n",
              "      <script>\n",
              "        const buttonEl =\n",
              "          document.querySelector('#df-e56cb101-0e1e-4591-92c8-3e0f369d4453 button.colab-df-convert');\n",
              "        buttonEl.style.display =\n",
              "          google.colab.kernel.accessAllowed ? 'block' : 'none';\n",
              "\n",
              "        async function convertToInteractive(key) {\n",
              "          const element = document.querySelector('#df-e56cb101-0e1e-4591-92c8-3e0f369d4453');\n",
              "          const dataTable =\n",
              "            await google.colab.kernel.invokeFunction('convertToInteractive',\n",
              "                                                     [key], {});\n",
              "          if (!dataTable) return;\n",
              "\n",
              "          const docLinkHtml = 'Like what you see? Visit the ' +\n",
              "            '<a target=\"_blank\" href=https://colab.research.google.com/notebooks/data_table.ipynb>data table notebook</a>'\n",
              "            + ' to learn more about interactive tables.';\n",
              "          element.innerHTML = '';\n",
              "          dataTable['output_type'] = 'display_data';\n",
              "          await google.colab.output.renderOutput(dataTable, element);\n",
              "          const docLink = document.createElement('div');\n",
              "          docLink.innerHTML = docLinkHtml;\n",
              "          element.appendChild(docLink);\n",
              "        }\n",
              "      </script>\n",
              "    </div>\n",
              "  </div>\n",
              "  "
            ]
          },
          "metadata": {},
          "execution_count": 7
        }
      ],
      "source": [
        "df_bc"
      ]
    },
    {
      "cell_type": "code",
      "execution_count": null,
      "metadata": {
        "colab": {
          "base_uri": "https://localhost:8080/"
        },
        "id": "AR5ajWnmLaEz",
        "outputId": "1d83e45f-67b5-4b6e-e1b9-bf47b1f39964"
      },
      "outputs": [
        {
          "output_type": "stream",
          "name": "stdout",
          "text": [
            "/content/drive/MyDrive/뉴스원인분석_modeling/final_news_modeling/lgenergy/Dialog-KoELECTRA_light/dialog_electra/finetune/dialog_electra/finetune/data/hate-speech\n",
            "/content/drive/MyDrive/뉴스원인분석_modeling/final_news_modeling/lgenergy/Dialog-KoELECTRA_light/dialog_electra/finetune\n",
            "2023-01-15 11:53:58.438592: I tensorflow/core/util/util.cc:169] oneDNN custom operations are on. You may see slightly different numerical results due to floating-point round-off errors from different computation orders. To turn them off, set the environment variable `TF_ENABLE_ONEDNN_OPTS=0`.\n",
            "/usr/local/lib/python3.8/dist-packages/ruamel/yaml/constructor.py:532: MantissaNoDotYAML1_1Warning: \n",
            "In YAML 1.1 floating point values should have a dot ('.') in their mantissa.\n",
            "See the Floating-Point Language-Independent Type for YAML™ Version 1.1 specification\n",
            "( http://yaml.org/type/float.html ). This dot is not required for JSON nor for YAML 1.2\n",
            "\n",
            "Correct your float: \"1e-8\" on line: 18, column: 14\n",
            "\n",
            "or alternatively include the following in your code:\n",
            "\n",
            "  import warnings\n",
            "  warnings.simplefilter('ignore', ruamel.yaml.error.MantissaNoDotYAML1_1Warning)\n",
            "\n",
            "\n",
            "  warnings.warn(MantissaNoDotYAML1_1Warning(node, value_so))\n",
            "/usr/local/lib/python3.8/dist-packages/ruamel/yaml/constructor.py:532: MantissaNoDotYAML1_1Warning: \n",
            "In YAML 1.1 floating point values should have a dot ('.') in their mantissa.\n",
            "See the Floating-Point Language-Independent Type for YAML™ Version 1.1 specification\n",
            "( http://yaml.org/type/float.html ). This dot is not required for JSON nor for YAML 1.2\n",
            "\n",
            "Correct your float: \"7e-5\" on line: 30, column: 15\n",
            "\n",
            "or alternatively include the following in your code:\n",
            "\n",
            "  import warnings\n",
            "  warnings.simplefilter('ignore', ruamel.yaml.error.MantissaNoDotYAML1_1Warning)\n",
            "\n",
            "\n",
            "  warnings.warn(MantissaNoDotYAML1_1Warning(node, value_so))\n",
            "INFO:root:Training/evaluation parameters AttrDict({'task': 'hate-speech_small_v1', 'train_file': '/dialog_electra/finetune/data/hate-speech/train.tsv', 'test_file': '/dialog_electra/finetune/data/hate-speech/val.tsv', 'dev_file': None, 'config_dir': '/dialog_electra/finetune/conf', 'data_dir': '/dialog_electra/finetune/data', 'ckpt_dir': '/dialog_electra/finetune/model/ep30sample', 'mecab': False, 'evaluate_test_during_training': True, 'eval_all_checkpoints': True, 'save_optimizer': False, 'do_lower_case': False, 'do_train': True, 'do_eval': True, 'max_seq_len': 128, 'num_train_epochs': 20, 'weight_decay': 0.0, 'gradient_accumulation_steps': 1, 'adam_epsilon': 1e-08, 'warmup_proportion': 0.1, 'max_steps': -1, 'max_grad_norm': 1.0, 'no_cuda': False, 'model_type': 'electra-small', 'model_name_or_path': 'skplanet/dialog-koelectra-small-discriminator', 'seed': 42, 'train_batch_size': 512, 'eval_batch_size': 512, 'logging_steps': 100, 'save_steps': 100, 'learning_rate': 7e-05, 'config_file': 'conf/hate-speech/electra-small.yaml', 'do_nni': False, 'do_reinit': False})\n",
            "Downloading: 100% 458/458 [00:00<00:00, 430kB/s]\n",
            "Downloading: 100% 319k/319k [00:00<00:00, 355kB/s]\n",
            "Downloading: 100% 56.0/56.0 [00:00<00:00, 49.1kB/s]\n",
            "Downloading: 100% 58.9M/58.9M [00:01<00:00, 47.3MB/s]\n",
            "Some weights of the model checkpoint at skplanet/dialog-koelectra-small-discriminator were not used when initializing ElectraForSequenceClassification: ['discriminator_predictions.dense.weight', 'discriminator_predictions.dense_prediction.bias', 'discriminator_predictions.dense.bias', 'discriminator_predictions.dense_prediction.weight']\n",
            "- This IS expected if you are initializing ElectraForSequenceClassification from the checkpoint of a model trained on another task or with another architecture (e.g. initializing a BertForSequenceClassification model from a BertForPreTraining model).\n",
            "- This IS NOT expected if you are initializing ElectraForSequenceClassification from the checkpoint of a model that you expect to be exactly identical (initializing a BertForSequenceClassification model from a BertForSequenceClassification model).\n",
            "Some weights of ElectraForSequenceClassification were not initialized from the model checkpoint at skplanet/dialog-koelectra-small-discriminator and are newly initialized: ['classifier.out_proj.bias', 'classifier.out_proj.weight', 'classifier.dense.bias', 'classifier.dense.weight']\n",
            "You should probably TRAIN this model on a down-stream task to be able to use it for predictions and inference.\n",
            "INFO:root:Creating features from dataset file at /dialog_electra/finetune/data\n",
            "INFO:root:LOOKING AT /dialog_electra/finetune/data/hate-speech/train.tsv\n",
            "INFO:root:['Lg전자영업이익40097 테슬라22800.테슬라는 1조 적자에서 흑자전환그동안 적자메우면 개뿔이다시총은 Lg전자 20조 테슬라 1030조시총이 51배 차이실적포함 100배로 테슬라가 비싸다이래도 광남공구리졸부의 자식은테슬라 리어카를 원한다조선족의 수준이 이모양이다차바닥에 물이고이는 테슬라 리어카가 좋다고광남 미치광네촌 공구리거품이 10배로헬로우껌 하는 종내기들미국이라면 흑인똥도 좋아하지OOO광남에 다주택자가 고위 ㅇ직자라는 보도가뭘 시사하는고', '상승']\n",
            "INFO:root:['40만원깨지겠다 30만원대에보자', '상승']\n",
            "INFO:root:['45 지지할까요', '하락']\n",
            "INFO:root:['역쉬 연기금 대단행', '상승']\n",
            "INFO:root:['싼가격이라고 가격할인 안해준단다. 지금사라 ㅋㅋ 바보들 30만원이 진짜로 온다고 생각했나보네.', '상승']\n",
            "INFO:root:['수요일 간다', '상승']\n",
            "INFO:root:['이 글은 성ㄱ가된다', '하락']\n",
            "INFO:root:['잘못말었넹', '하락']\n",
            "INFO:root:['속마음 저는 권력에 충성합니다검찰총장을 달기위해서 전직 대통령 박근혜도 담궈버렸고이제는 대통령을 달기 위해 저를 키워준 문재인 대통령 뒷통수까지 후려갈겼으며대통령을 달기 위해 내가 담궈버린 박근혜 내가 사면에 앞장서며 친박 딸랑이까지 하고 있습니다저만큼 권력에 충실한 개가 또 있겠습니까 여러분', '상승']\n",
            "INFO:root:['사기꾼들이 득실거릴까처먹고 살기 힘들수록 인간들이 올바른길을 가야 하는데 주식관련 사기꾼들... 소위 리딩방이라고 하는 사기꾼들이 여기저기 우후죽순 난립해서 지랄들이란...여기에 대통령을 하겠다고 출마한 유력후보 두사람은 깜도 아닌것들이 나와서 돈 퍼붓겠다고 대국민 사기치며 표를 구걸하고...도대한민국처럼 사기꾼들이 많은 국가도 찾아보기 힘들거야. 이런 개같은 나라는 일찍 망하는게...', '하락']\n",
            "INFO:root:['상에 걸어놓았는데 ', '상승']\n",
            "INFO:root:['니들 미쳤나', '상승']\n",
            "INFO:root:['더럽네 더러워 K증시', '하락']\n",
            "INFO:root:['지수가 폭락하던 말건 꿋꿋이 버티는구나', '상승']\n",
            "INFO:root:['50만 넘자', '상승']\n",
            "INFO:root:['저 아래', '하락']\n",
            "INFO:root:['...가 얼마나 가나 한번보자', '하락']\n",
            "INFO:root:['전재산도아니고 따상상기다린다.자동차악세사리회사오토앤도 따상상갔는데', '상승']\n",
            "INFO:root:['완져 고평가20만원 아래로 가야 적정가지금 주가는기관이 해처먹기위해만든 주가지', '하락']\n",
            "INFO:root:['김만배 음성파일 박영수윤석열 통해 부산저축은행 사건 해결httpsn.news.naver.comarticle6070000001024', '상승']\n",
            "INFO:root:Using label list ['하락', '상승']\n",
            "INFO:root:Using output mode classification\n",
            "ERROR:root:*** Example ***\n",
            "ERROR:root:guid: train-0\n",
            "ERROR:root:input_ids: 2 988 10121 8272 13582 7661 13289 22548 24553 9480 13739 506 24553 5725 552 6042 8284 5742 11580 12680 12611 8284 10202 9742 5745 10611 5724 8219 9692 5731 988 10121 8272 5942 6042 24553 21399 6530 6042 5806 9692 5724 11579 6266 6582 12812 16004 6012 6266 5743 24553 5733 8009 24986 17233 815 6737 22061 7013 14593 6995 6281 5731 6726 7973 5772 29141 26334 16228 16731 5737 5962 5724 14215 30602 5726 5919 16552 5730 666 5724 5729 5724 5725 24553 29141 27308 760 5787 13835 6737 7601 13835 5757 12045 25482 30223 14490 5724 5842 6266 5743 28792 9742 32479 511 5725 731 21889 5732 7909 31104 5745 11491 8495 5736 760 27399 5741 7861 13835 6737 5730 507 6998 15221 8712 3\n",
            "ERROR:root:attention_mask: 1 1 1 1 1 1 1 1 1 1 1 1 1 1 1 1 1 1 1 1 1 1 1 1 1 1 1 1 1 1 1 1 1 1 1 1 1 1 1 1 1 1 1 1 1 1 1 1 1 1 1 1 1 1 1 1 1 1 1 1 1 1 1 1 1 1 1 1 1 1 1 1 1 1 1 1 1 1 1 1 1 1 1 1 1 1 1 1 1 1 1 1 1 1 1 1 1 1 1 1 1 1 1 1 1 1 1 1 1 1 1 1 1 1 1 1 1 1 1 1 1 1 1 1 1 1 1 1\n",
            "ERROR:root:token_type_ids: 0 0 0 0 0 0 0 0 0 0 0 0 0 0 0 0 0 0 0 0 0 0 0 0 0 0 0 0 0 0 0 0 0 0 0 0 0 0 0 0 0 0 0 0 0 0 0 0 0 0 0 0 0 0 0 0 0 0 0 0 0 0 0 0 0 0 0 0 0 0 0 0 0 0 0 0 0 0 0 0 0 0 0 0 0 0 0 0 0 0 0 0 0 0 0 0 0 0 0 0 0 0 0 0 0 0 0 0 0 0 0 0 0 0 0 0 0 0 0 0 0 0 0 0 0 0 0 0\n",
            "ERROR:root:label: 1\n",
            "ERROR:root:*** Example ***\n",
            "ERROR:root:guid: train-1\n",
            "ERROR:root:input_ids: 2 5807 12972 6055 5727 22227 5725 5830 5737 8718 5741 722 24691 5748 9713 5725 17811 13041 5730 6136 5740 17043 14938 5733 827 723 571 543 5763 3 0 0 0 0 0 0 0 0 0 0 0 0 0 0 0 0 0 0 0 0 0 0 0 0 0 0 0 0 0 0 0 0 0 0 0 0 0 0 0 0 0 0 0 0 0 0 0 0 0 0 0 0 0 0 0 0 0 0 0 0 0 0 0 0 0 0 0 0 0 0 0 0 0 0 0 0 0 0 0 0 0 0 0 0 0 0 0 0 0 0 0 0 0 0 0 0 0 0\n",
            "ERROR:root:attention_mask: 1 1 1 1 1 1 1 1 1 1 1 1 1 1 1 1 1 1 1 1 1 1 1 1 1 1 1 1 1 1 0 0 0 0 0 0 0 0 0 0 0 0 0 0 0 0 0 0 0 0 0 0 0 0 0 0 0 0 0 0 0 0 0 0 0 0 0 0 0 0 0 0 0 0 0 0 0 0 0 0 0 0 0 0 0 0 0 0 0 0 0 0 0 0 0 0 0 0 0 0 0 0 0 0 0 0 0 0 0 0 0 0 0 0 0 0 0 0 0 0 0 0 0 0 0 0 0 0\n",
            "ERROR:root:token_type_ids: 0 0 0 0 0 0 0 0 0 0 0 0 0 0 0 0 0 0 0 0 0 0 0 0 0 0 0 0 0 0 0 0 0 0 0 0 0 0 0 0 0 0 0 0 0 0 0 0 0 0 0 0 0 0 0 0 0 0 0 0 0 0 0 0 0 0 0 0 0 0 0 0 0 0 0 0 0 0 0 0 0 0 0 0 0 0 0 0 0 0 0 0 0 0 0 0 0 0 0 0 0 0 0 0 0 0 0 0 0 0 0 0 0 0 0 0 0 0 0 0 0 0 0 0 0 0 0 0\n",
            "ERROR:root:label: 0\n",
            "ERROR:root:*** Example ***\n",
            "ERROR:root:guid: train-2\n",
            "ERROR:root:input_ids: 2 6465 5736 5823 10366 5740 5930 5739 781 827 1303 5978 8136 581 3 0 0 0 0 0 0 0 0 0 0 0 0 0 0 0 0 0 0 0 0 0 0 0 0 0 0 0 0 0 0 0 0 0 0 0 0 0 0 0 0 0 0 0 0 0 0 0 0 0 0 0 0 0 0 0 0 0 0 0 0 0 0 0 0 0 0 0 0 0 0 0 0 0 0 0 0 0 0 0 0 0 0 0 0 0 0 0 0 0 0 0 0 0 0 0 0 0 0 0 0 0 0 0 0 0 0 0 0 0 0 0 0 0\n",
            "ERROR:root:attention_mask: 1 1 1 1 1 1 1 1 1 1 1 1 1 1 1 0 0 0 0 0 0 0 0 0 0 0 0 0 0 0 0 0 0 0 0 0 0 0 0 0 0 0 0 0 0 0 0 0 0 0 0 0 0 0 0 0 0 0 0 0 0 0 0 0 0 0 0 0 0 0 0 0 0 0 0 0 0 0 0 0 0 0 0 0 0 0 0 0 0 0 0 0 0 0 0 0 0 0 0 0 0 0 0 0 0 0 0 0 0 0 0 0 0 0 0 0 0 0 0 0 0 0 0 0 0 0 0 0\n",
            "ERROR:root:token_type_ids: 0 0 0 0 0 0 0 0 0 0 0 0 0 0 0 0 0 0 0 0 0 0 0 0 0 0 0 0 0 0 0 0 0 0 0 0 0 0 0 0 0 0 0 0 0 0 0 0 0 0 0 0 0 0 0 0 0 0 0 0 0 0 0 0 0 0 0 0 0 0 0 0 0 0 0 0 0 0 0 0 0 0 0 0 0 0 0 0 0 0 0 0 0 0 0 0 0 0 0 0 0 0 0 0 0 0 0 0 0 0 0 0 0 0 0 0 0 0 0 0 0 0 0 0 0 0 0 0\n",
            "ERROR:root:label: 0\n",
            "ERROR:root:*** Example ***\n",
            "ERROR:root:guid: train-3\n",
            "ERROR:root:input_ids: 2 781 10689 5829 8995 6889 5757 3 0 0 0 0 0 0 0 0 0 0 0 0 0 0 0 0 0 0 0 0 0 0 0 0 0 0 0 0 0 0 0 0 0 0 0 0 0 0 0 0 0 0 0 0 0 0 0 0 0 0 0 0 0 0 0 0 0 0 0 0 0 0 0 0 0 0 0 0 0 0 0 0 0 0 0 0 0 0 0 0 0 0 0 0 0 0 0 0 0 0 0 0 0 0 0 0 0 0 0 0 0 0 0 0 0 0 0 0 0 0 0 0 0 0 0 0 0 0 0 0\n",
            "ERROR:root:attention_mask: 1 1 1 1 1 1 1 1 0 0 0 0 0 0 0 0 0 0 0 0 0 0 0 0 0 0 0 0 0 0 0 0 0 0 0 0 0 0 0 0 0 0 0 0 0 0 0 0 0 0 0 0 0 0 0 0 0 0 0 0 0 0 0 0 0 0 0 0 0 0 0 0 0 0 0 0 0 0 0 0 0 0 0 0 0 0 0 0 0 0 0 0 0 0 0 0 0 0 0 0 0 0 0 0 0 0 0 0 0 0 0 0 0 0 0 0 0 0 0 0 0 0 0 0 0 0 0 0\n",
            "ERROR:root:token_type_ids: 0 0 0 0 0 0 0 0 0 0 0 0 0 0 0 0 0 0 0 0 0 0 0 0 0 0 0 0 0 0 0 0 0 0 0 0 0 0 0 0 0 0 0 0 0 0 0 0 0 0 0 0 0 0 0 0 0 0 0 0 0 0 0 0 0 0 0 0 0 0 0 0 0 0 0 0 0 0 0 0 0 0 0 0 0 0 0 0 0 0 0 0 0 0 0 0 0 0 0 0 0 0 0 0 0 0 0 0 0 0 0 0 0 0 0 0 0 0 0 0 0 0 0 0 0 0 0 0\n",
            "ERROR:root:label: 0\n",
            "ERROR:root:*** Example ***\n",
            "ERROR:root:guid: train-4\n",
            "ERROR:root:input_ids: 2 24852 1226 6734 11772 781 35278 6149 10790 17918 5927 3 0 0 0 0 0 0 0 0 0 0 0 0 0 0 0 0 0 0 0 0 0 0 0 0 0 0 0 0 0 0 0 0 0 0 0 0 0 0 0 0 0 0 0 0 0 0 0 0 0 0 0 0 0 0 0 0 0 0 0 0 0 0 0 0 0 0 0 0 0 0 0 0 0 0 0 0 0 0 0 0 0 0 0 0 0 0 0 0 0 0 0 0 0 0 0 0 0 0 0 0 0 0 0 0 0 0 0 0 0 0 0 0 0 0 0 0\n",
            "ERROR:root:attention_mask: 1 1 1 1 1 1 1 1 1 1 1 1 0 0 0 0 0 0 0 0 0 0 0 0 0 0 0 0 0 0 0 0 0 0 0 0 0 0 0 0 0 0 0 0 0 0 0 0 0 0 0 0 0 0 0 0 0 0 0 0 0 0 0 0 0 0 0 0 0 0 0 0 0 0 0 0 0 0 0 0 0 0 0 0 0 0 0 0 0 0 0 0 0 0 0 0 0 0 0 0 0 0 0 0 0 0 0 0 0 0 0 0 0 0 0 0 0 0 0 0 0 0 0 0 0 0 0 0\n",
            "ERROR:root:token_type_ids: 0 0 0 0 0 0 0 0 0 0 0 0 0 0 0 0 0 0 0 0 0 0 0 0 0 0 0 0 0 0 0 0 0 0 0 0 0 0 0 0 0 0 0 0 0 0 0 0 0 0 0 0 0 0 0 0 0 0 0 0 0 0 0 0 0 0 0 0 0 0 0 0 0 0 0 0 0 0 0 0 0 0 0 0 0 0 0 0 0 0 0 0 0 0 0 0 0 0 0 0 0 0 0 0 0 0 0 0 0 0 0 0 0 0 0 0 0 0 0 0 0 0 0 0 0 0 0 0\n",
            "ERROR:root:label: 0\n",
            "INFO:root:Saving features into cached file /dialog_electra/finetune/data/cached_hate-speech_small_v1_dialog-koelectra-small-discriminator_128_train\n",
            "tensor([1, 0, 0,  ..., 1, 0, 1])\n",
            "INFO:root:Creating features from dataset file at /dialog_electra/finetune/data\n",
            "INFO:root:LOOKING AT /dialog_electra/finetune/data/hate-speech/val.tsv\n",
            "INFO:root:['이래 개투들은 호구로 전락엥간하면 주식은 하지마라사기꾼들이 개투들 돈강탈해가는게 주식이야', '상승']\n",
            "INFO:root:['다시 진입하는구만.이번에는 지켜보마.더 기다리지 머.', '상승']\n",
            "INFO:root:['미친거지 감히 밧데리 주제에 삼성전자랑 같을수는 없지고로 내가 볼땐 30만까지는 떨어진다', '상승']\n",
            "INFO:root:['연기금이 너희들처럼 단타하는 애들인줄 아냐ㅋㅋㅋ 하루 하루 계산하며 몇조 손실이라고 까불더니 국민연금 연간 수익률은 알고 떠드냐 담주면 안티들 입 꿰맬 수 있을듯', '상승']\n",
            "INFO:root:['방끗', '상승']\n",
            "INFO:root:['공머가 깬다규인자 쪼끔 느낌드노진찌 미끄럼은 시작도 안혔따어여 떤지구 티아라', '하락']\n",
            "INFO:root:['오지게 쳐 물다 ㅋㅋ', '하락']\n",
            "INFO:root:Using label list ['하락', '상승']\n",
            "INFO:root:Using output mode classification\n",
            "ERROR:root:*** Example ***\n",
            "ERROR:root:guid: test-0\n",
            "ERROR:root:input_ids: 2 8909 586 10655 5732 5731 8170 5743 10817 34834 6006 5728 5745 6938 5731 16976 12781 29276 16795 586 10655 5732 827 7446 36236 5733 5725 5744 6938 18738 3 0 0 0 0 0 0 0 0 0 0 0 0 0 0 0 0 0 0 0 0 0 0 0 0 0 0 0 0 0 0 0 0 0 0 0 0 0 0 0 0 0 0 0 0 0 0 0 0 0 0 0 0 0 0 0 0 0 0 0 0 0 0 0 0 0 0 0 0 0 0 0 0 0 0 0 0 0 0 0 0 0 0 0 0 0 0 0 0 0 0 0 0 0 0 0 0 0\n",
            "ERROR:root:attention_mask: 1 1 1 1 1 1 1 1 1 1 1 1 1 1 1 1 1 1 1 1 1 1 1 1 1 1 1 1 1 1 1 0 0 0 0 0 0 0 0 0 0 0 0 0 0 0 0 0 0 0 0 0 0 0 0 0 0 0 0 0 0 0 0 0 0 0 0 0 0 0 0 0 0 0 0 0 0 0 0 0 0 0 0 0 0 0 0 0 0 0 0 0 0 0 0 0 0 0 0 0 0 0 0 0 0 0 0 0 0 0 0 0 0 0 0 0 0 0 0 0 0 0 0 0 0 0 0 0\n",
            "ERROR:root:token_type_ids: 0 0 0 0 0 0 0 0 0 0 0 0 0 0 0 0 0 0 0 0 0 0 0 0 0 0 0 0 0 0 0 0 0 0 0 0 0 0 0 0 0 0 0 0 0 0 0 0 0 0 0 0 0 0 0 0 0 0 0 0 0 0 0 0 0 0 0 0 0 0 0 0 0 0 0 0 0 0 0 0 0 0 0 0 0 0 0 0 0 0 0 0 0 0 0 0 0 0 0 0 0 0 0 0 0 0 0 0 0 0 0 0 0 0 0 0 0 0 0 0 0 0 0 0 0 0 0 0\n",
            "ERROR:root:label: 1\n",
            "ERROR:root:*** Example ***\n",
            "ERROR:root:guid: test-1\n",
            "ERROR:root:input_ids: 2 12273 9681 5733 5990 5748 5810 3 0 0 0 0 0 0 0 0 0 0 0 0 0 0 0 0 0 0 0 0 0 0 0 0 0 0 0 0 0 0 0 0 0 0 0 0 0 0 0 0 0 0 0 0 0 0 0 0 0 0 0 0 0 0 0 0 0 0 0 0 0 0 0 0 0 0 0 0 0 0 0 0 0 0 0 0 0 0 0 0 0 0 0 0 0 0 0 0 0 0 0 0 0 0 0 0 0 0 0 0 0 0 0 0 0 0 0 0 0 0 0 0 0 0 0 0 0 0 0 0\n",
            "ERROR:root:attention_mask: 1 1 1 1 1 1 1 1 0 0 0 0 0 0 0 0 0 0 0 0 0 0 0 0 0 0 0 0 0 0 0 0 0 0 0 0 0 0 0 0 0 0 0 0 0 0 0 0 0 0 0 0 0 0 0 0 0 0 0 0 0 0 0 0 0 0 0 0 0 0 0 0 0 0 0 0 0 0 0 0 0 0 0 0 0 0 0 0 0 0 0 0 0 0 0 0 0 0 0 0 0 0 0 0 0 0 0 0 0 0 0 0 0 0 0 0 0 0 0 0 0 0 0 0 0 0 0 0\n",
            "ERROR:root:token_type_ids: 0 0 0 0 0 0 0 0 0 0 0 0 0 0 0 0 0 0 0 0 0 0 0 0 0 0 0 0 0 0 0 0 0 0 0 0 0 0 0 0 0 0 0 0 0 0 0 0 0 0 0 0 0 0 0 0 0 0 0 0 0 0 0 0 0 0 0 0 0 0 0 0 0 0 0 0 0 0 0 0 0 0 0 0 0 0 0 0 0 0 0 0 0 0 0 0 0 0 0 0 0 0 0 0 0 0 0 0 0 0 0 0 0 0 0 0 0 0 0 0 0 0 0 0 0 0 0 0\n",
            "ERROR:root:label: 0\n",
            "ERROR:root:*** Example ***\n",
            "ERROR:root:guid: test-2\n",
            "ERROR:root:input_ids: 2 14626 8879 5725 5929 6012 5748 5810 34606 799 6149 3 0 0 0 0 0 0 0 0 0 0 0 0 0 0 0 0 0 0 0 0 0 0 0 0 0 0 0 0 0 0 0 0 0 0 0 0 0 0 0 0 0 0 0 0 0 0 0 0 0 0 0 0 0 0 0 0 0 0 0 0 0 0 0 0 0 0 0 0 0 0 0 0 0 0 0 0 0 0 0 0 0 0 0 0 0 0 0 0 0 0 0 0 0 0 0 0 0 0 0 0 0 0 0 0 0 0 0 0 0 0 0 0 0 0 0 0\n",
            "ERROR:root:attention_mask: 1 1 1 1 1 1 1 1 1 1 1 1 0 0 0 0 0 0 0 0 0 0 0 0 0 0 0 0 0 0 0 0 0 0 0 0 0 0 0 0 0 0 0 0 0 0 0 0 0 0 0 0 0 0 0 0 0 0 0 0 0 0 0 0 0 0 0 0 0 0 0 0 0 0 0 0 0 0 0 0 0 0 0 0 0 0 0 0 0 0 0 0 0 0 0 0 0 0 0 0 0 0 0 0 0 0 0 0 0 0 0 0 0 0 0 0 0 0 0 0 0 0 0 0 0 0 0 0\n",
            "ERROR:root:token_type_ids: 0 0 0 0 0 0 0 0 0 0 0 0 0 0 0 0 0 0 0 0 0 0 0 0 0 0 0 0 0 0 0 0 0 0 0 0 0 0 0 0 0 0 0 0 0 0 0 0 0 0 0 0 0 0 0 0 0 0 0 0 0 0 0 0 0 0 0 0 0 0 0 0 0 0 0 0 0 0 0 0 0 0 0 0 0 0 0 0 0 0 0 0 0 0 0 0 0 0 0 0 0 0 0 0 0 0 0 0 0 0 0 0 0 0 0 0 0 0 0 0 0 0 0 0 0 0 0 0\n",
            "ERROR:root:label: 1\n",
            "ERROR:root:*** Example ***\n",
            "ERROR:root:guid: test-3\n",
            "ERROR:root:input_ids: 2 15653 5732 18302 5752 6525 3 0 0 0 0 0 0 0 0 0 0 0 0 0 0 0 0 0 0 0 0 0 0 0 0 0 0 0 0 0 0 0 0 0 0 0 0 0 0 0 0 0 0 0 0 0 0 0 0 0 0 0 0 0 0 0 0 0 0 0 0 0 0 0 0 0 0 0 0 0 0 0 0 0 0 0 0 0 0 0 0 0 0 0 0 0 0 0 0 0 0 0 0 0 0 0 0 0 0 0 0 0 0 0 0 0 0 0 0 0 0 0 0 0 0 0 0 0 0 0 0 0\n",
            "ERROR:root:attention_mask: 1 1 1 1 1 1 1 0 0 0 0 0 0 0 0 0 0 0 0 0 0 0 0 0 0 0 0 0 0 0 0 0 0 0 0 0 0 0 0 0 0 0 0 0 0 0 0 0 0 0 0 0 0 0 0 0 0 0 0 0 0 0 0 0 0 0 0 0 0 0 0 0 0 0 0 0 0 0 0 0 0 0 0 0 0 0 0 0 0 0 0 0 0 0 0 0 0 0 0 0 0 0 0 0 0 0 0 0 0 0 0 0 0 0 0 0 0 0 0 0 0 0 0 0 0 0 0 0\n",
            "ERROR:root:token_type_ids: 0 0 0 0 0 0 0 0 0 0 0 0 0 0 0 0 0 0 0 0 0 0 0 0 0 0 0 0 0 0 0 0 0 0 0 0 0 0 0 0 0 0 0 0 0 0 0 0 0 0 0 0 0 0 0 0 0 0 0 0 0 0 0 0 0 0 0 0 0 0 0 0 0 0 0 0 0 0 0 0 0 0 0 0 0 0 0 0 0 0 0 0 0 0 0 0 0 0 0 0 0 0 0 0 0 0 0 0 0 0 0 0 0 0 0 0 0 0 0 0 0 0 0 0 0 0 0 0\n",
            "ERROR:root:label: 1\n",
            "ERROR:root:*** Example ***\n",
            "ERROR:root:guid: test-4\n",
            "ERROR:root:input_ids: 2 10689 6207 5786 15285 6373 28204 8815 8566 17443 10790 5755 6780 22679 8228 5724 726 6083 38422 11306 30368 3 0 0 0 0 0 0 0 0 0 0 0 0 0 0 0 0 0 0 0 0 0 0 0 0 0 0 0 0 0 0 0 0 0 0 0 0 0 0 0 0 0 0 0 0 0 0 0 0 0 0 0 0 0 0 0 0 0 0 0 0 0 0 0 0 0 0 0 0 0 0 0 0 0 0 0 0 0 0 0 0 0 0 0 0 0 0 0 0 0 0 0 0 0 0 0 0 0 0 0 0 0 0 0 0 0 0\n",
            "ERROR:root:attention_mask: 1 1 1 1 1 1 1 1 1 1 1 1 1 1 1 1 1 1 1 1 1 1 0 0 0 0 0 0 0 0 0 0 0 0 0 0 0 0 0 0 0 0 0 0 0 0 0 0 0 0 0 0 0 0 0 0 0 0 0 0 0 0 0 0 0 0 0 0 0 0 0 0 0 0 0 0 0 0 0 0 0 0 0 0 0 0 0 0 0 0 0 0 0 0 0 0 0 0 0 0 0 0 0 0 0 0 0 0 0 0 0 0 0 0 0 0 0 0 0 0 0 0 0 0 0 0 0 0\n",
            "ERROR:root:token_type_ids: 0 0 0 0 0 0 0 0 0 0 0 0 0 0 0 0 0 0 0 0 0 0 0 0 0 0 0 0 0 0 0 0 0 0 0 0 0 0 0 0 0 0 0 0 0 0 0 0 0 0 0 0 0 0 0 0 0 0 0 0 0 0 0 0 0 0 0 0 0 0 0 0 0 0 0 0 0 0 0 0 0 0 0 0 0 0 0 0 0 0 0 0 0 0 0 0 0 0 0 0 0 0 0 0 0 0 0 0 0 0 0 0 0 0 0 0 0 0 0 0 0 0 0 0 0 0 0 0\n",
            "ERROR:root:label: 1\n",
            "INFO:root:Saving features into cached file /dialog_electra/finetune/data/cached_hate-speech_small_v1_dialog-koelectra-small-discriminator_128_test\n",
            "tensor([1, 0, 1,  ..., 1, 1, 1])\n",
            "/usr/local/lib/python3.8/dist-packages/transformers/optimization.py:306: FutureWarning: This implementation of AdamW is deprecated and will be removed in a future version. Use the PyTorch implementation torch.optim.AdamW instead, or set `no_deprecation_warning=True` to disable this warning\n",
            "  warnings.warn(\n",
            "INFO:root:***** Running training *****\n",
            "INFO:root:  Num examples = 20000\n",
            "INFO:root:  Num Epochs = 20\n",
            "INFO:root:  Total train batch size = 512\n",
            "INFO:root:  Gradient Accumulation steps = 1\n",
            "INFO:root:  Total optimization steps = 800\n",
            "INFO:root:  Logging steps = 100\n",
            "INFO:root:  Save steps = 100\n",
            "  0%|          | 0/20 [00:00<?, ?it/s]\n",
            "0it [00:00, ?it/s]\n",
            "\n",
            " ********Epoch 1 done******** \n",
            "\n",
            "\n",
            " *****Epoch : 1, train_loss : 0.6927915811538696 \n",
            "\n",
            "0it [00:00, ?it/s]\n",
            "\n",
            " ********Epoch 2 done******** \n",
            "\n",
            "\n",
            " *****Epoch : 2, train_loss : 0.6605069041252136 \n",
            "\n",
            "0it [00:00, ?it/s]\n",
            "INFO:root:***** Running evaluation on test dataset (100 step) *****\n",
            "INFO:root:  Num examples = 6362\n",
            "INFO:root:  Eval Batch size = 512\n",
            "  0%|          | 0/13 [00:00<?, ?it/s]\n",
            "INFO:root:***** Eval results on test dataset *****\n",
            "INFO:root:  f1 = 0.5092933792105263\n",
            "INFO:root:  precision = 0.5436436097115012\n",
            "INFO:root:  recall = 0.545760075019059\n",
            "INFO:root:Saving model checkpoint to ./dialog_electra/finetune/model/ep30sample/hate-speech_small_v1/checkpoint-100\n",
            "\n",
            " ********Epoch 3 done******** \n",
            "\n",
            "\n",
            " *****Epoch : 3, train_loss : 0.7729517221450806 \n",
            "\n",
            "0it [00:00, ?it/s]\n",
            "\n",
            " ********Epoch 4 done******** \n",
            "\n",
            "\n",
            " *****Epoch : 4, train_loss : 0.7002737522125244 \n",
            "\n",
            "0it [00:00, ?it/s]\n",
            "INFO:root:***** Running evaluation on test dataset (200 step) *****\n",
            "INFO:root:  Num examples = 6362\n",
            "INFO:root:  Eval Batch size = 512\n",
            "  0%|          | 0/13 [00:00<?, ?it/s]\n",
            "INFO:root:***** Eval results on test dataset *****\n",
            "INFO:root:  f1 = 0.5502251940334154\n",
            "INFO:root:  precision = 0.552184525250106\n",
            "INFO:root:  recall = 0.5562439581447274\n",
            "INFO:root:Saving model checkpoint to ./dialog_electra/finetune/model/ep30sample/hate-speech_small_v1/checkpoint-200\n",
            "\n",
            " ********Epoch 5 done******** \n",
            "\n",
            "\n",
            " *****Epoch : 5, train_loss : 0.5581425428390503 \n",
            "\n",
            "0it [00:00, ?it/s]\n",
            "\n",
            " ********Epoch 6 done******** \n",
            "\n",
            "\n",
            " *****Epoch : 6, train_loss : 0.6789361238479614 \n",
            "\n",
            "0it [00:00, ?it/s]\n",
            "\n",
            " ********Epoch 7 done******** \n",
            "\n",
            "\n",
            " *****Epoch : 7, train_loss : 0.17863908410072327 \n",
            "\n",
            "0it [00:00, ?it/s]\n",
            "INFO:root:***** Running evaluation on test dataset (300 step) *****\n",
            "INFO:root:  Num examples = 6362\n",
            "INFO:root:  Eval Batch size = 512\n",
            "  0%|          | 0/13 [00:00<?, ?it/s]\n",
            "INFO:root:***** Eval results on test dataset *****\n",
            "INFO:root:  f1 = 0.5213084791799181\n",
            "INFO:root:  precision = 0.5360629893180269\n",
            "INFO:root:  recall = 0.5394853849602015\n",
            "INFO:root:Saving model checkpoint to ./dialog_electra/finetune/model/ep30sample/hate-speech_small_v1/checkpoint-300\n",
            "\n",
            " ********Epoch 8 done******** \n",
            "\n",
            "\n",
            " *****Epoch : 8, train_loss : 0.3661457300186157 \n",
            "\n",
            "0it [00:00, ?it/s]\n",
            "\n",
            " ********Epoch 9 done******** \n",
            "\n",
            "\n",
            " *****Epoch : 9, train_loss : 0.16631460189819336 \n",
            "\n",
            "0it [00:00, ?it/s]\n",
            "INFO:root:***** Running evaluation on test dataset (400 step) *****\n",
            "INFO:root:  Num examples = 6362\n",
            "INFO:root:  Eval Batch size = 512\n",
            "  0%|          | 0/13 [00:00<?, ?it/s]\n",
            "INFO:root:***** Eval results on test dataset *****\n",
            "INFO:root:  f1 = 0.5307069672300988\n",
            "INFO:root:  precision = 0.5333370139310624\n",
            "INFO:root:  recall = 0.5359547126444012\n",
            "INFO:root:Saving model checkpoint to ./dialog_electra/finetune/model/ep30sample/hate-speech_small_v1/checkpoint-400\n",
            "\n",
            " ********Epoch 10 done******** \n",
            "\n",
            "\n",
            " *****Epoch : 10, train_loss : 0.3175899088382721 \n",
            "\n",
            "0it [00:00, ?it/s]\n",
            "\n",
            " ********Epoch 11 done******** \n",
            "\n",
            "\n",
            " *****Epoch : 11, train_loss : 0.3022958040237427 \n",
            "\n",
            "0it [00:00, ?it/s]\n",
            "\n",
            " ********Epoch 12 done******** \n",
            "\n",
            "\n",
            " *****Epoch : 12, train_loss : 0.2130693793296814 \n",
            "\n",
            "0it [00:00, ?it/s]\n",
            "INFO:root:***** Running evaluation on test dataset (500 step) *****\n",
            "INFO:root:  Num examples = 6362\n",
            "INFO:root:  Eval Batch size = 512\n",
            "  0%|          | 0/13 [00:00<?, ?it/s]\n",
            "INFO:root:***** Eval results on test dataset *****\n",
            "INFO:root:  f1 = 0.5260607849341966\n",
            "INFO:root:  precision = 0.5349333948726406\n",
            "INFO:root:  recall = 0.5383198824041977\n",
            "INFO:root:Saving model checkpoint to ./dialog_electra/finetune/model/ep30sample/hate-speech_small_v1/checkpoint-500\n",
            "\n",
            " ********Epoch 13 done******** \n",
            "\n",
            "\n",
            " *****Epoch : 13, train_loss : 0.16404740512371063 \n",
            "\n",
            "0it [00:00, ?it/s]\n",
            "\n",
            " ********Epoch 14 done******** \n",
            "\n",
            "\n",
            " *****Epoch : 14, train_loss : 0.18461008369922638 \n",
            "\n",
            "0it [00:00, ?it/s]\n",
            "INFO:root:***** Running evaluation on test dataset (600 step) *****\n",
            "INFO:root:  Num examples = 6362\n",
            "INFO:root:  Eval Batch size = 512\n",
            "  0%|          | 0/13 [00:00<?, ?it/s]\n",
            "INFO:root:***** Eval results on test dataset *****\n",
            "INFO:root:  f1 = 0.5329368632005489\n",
            "INFO:root:  precision = 0.5331254058004977\n",
            "INFO:root:  recall = 0.5346337880557571\n",
            "INFO:root:Saving model checkpoint to ./dialog_electra/finetune/model/ep30sample/hate-speech_small_v1/checkpoint-600\n",
            "\n",
            " ********Epoch 15 done******** \n",
            "\n",
            "\n",
            " *****Epoch : 15, train_loss : 0.05537839233875275 \n",
            "\n",
            "0it [00:00, ?it/s]\n",
            "\n",
            " ********Epoch 16 done******** \n",
            "\n",
            "\n",
            " *****Epoch : 16, train_loss : 0.08293020725250244 \n",
            "\n",
            "0it [00:00, ?it/s]\n",
            "\n",
            " ********Epoch 17 done******** \n",
            "\n",
            "\n",
            " *****Epoch : 17, train_loss : 0.1938975304365158 \n",
            "\n",
            "0it [00:00, ?it/s]\n",
            "INFO:root:***** Running evaluation on test dataset (700 step) *****\n",
            "INFO:root:  Num examples = 6362\n",
            "INFO:root:  Eval Batch size = 512\n",
            "  0%|          | 0/13 [00:00<?, ?it/s]\n",
            "INFO:root:***** Eval results on test dataset *****\n",
            "INFO:root:  f1 = 0.5325446305682716\n",
            "INFO:root:  precision = 0.535525256716025\n",
            "INFO:root:  recall = 0.5384109339020355\n",
            "INFO:root:Saving model checkpoint to ./dialog_electra/finetune/model/ep30sample/hate-speech_small_v1/checkpoint-700\n",
            "\n",
            " ********Epoch 18 done******** \n",
            "\n",
            "\n",
            " *****Epoch : 18, train_loss : 0.17278438806533813 \n",
            "\n",
            "0it [00:00, ?it/s]\n",
            "\n",
            " ********Epoch 19 done******** \n",
            "\n",
            "\n",
            " *****Epoch : 19, train_loss : 0.14817661046981812 \n",
            "\n",
            "0it [00:00, ?it/s]\n",
            "INFO:root:***** Running evaluation on test dataset (800 step) *****\n",
            "INFO:root:  Num examples = 6362\n",
            "INFO:root:  Eval Batch size = 512\n",
            "  0%|          | 0/13 [00:00<?, ?it/s]\n",
            "INFO:root:***** Eval results on test dataset *****\n",
            "INFO:root:  f1 = 0.527626796488625\n",
            "INFO:root:  precision = 0.5324268602157711\n",
            "INFO:root:  recall = 0.5353196840323222\n",
            "INFO:root:Saving model checkpoint to ./dialog_electra/finetune/model/ep30sample/hate-speech_small_v1/checkpoint-800\n",
            "\n",
            " ********Epoch 20 done******** \n",
            "\n",
            "\n",
            " *****Epoch : 20, train_loss : 0.15435047447681427 \n",
            "\n",
            "INFO:root: global_step = 800, average loss = 0.33240523498505353\n",
            "INFO:root:Evaluate the following checkpoints: []\n"
          ]
        }
      ],
      "source": [
        "# 회사명에 따른 경로 설정 변경\n",
        "%cd /content/drive/MyDrive/뉴스원인분석_modeling/final_news_modeling/lgenergy/Dialog-KoELECTRA_light/dialog_electra/finetune/dialog_electra/finetune/data/hate-speech\n",
        "\n",
        "train, train_not_sampled, test, test_pred = preprocessing_train_save(df_bc)\n",
        "train.to_csv('train.tsv', sep='\\t', index=False)\n",
        "test.to_csv('val.tsv', sep='\\t', index=False)\n",
        "\n",
        "\n",
        "%cd /content/drive/MyDrive/뉴스원인분석_modeling/final_news_modeling/lgenergy/Dialog-KoELECTRA_light/dialog_electra/finetune\n",
        "!python3 run_finetune.py --config_file conf/hate-speech/electra-small.yaml"
      ]
    },
    {
      "cell_type": "code",
      "execution_count": null,
      "metadata": {
        "colab": {
          "base_uri": "https://localhost:8080/"
        },
        "id": "nU8acd2lMDai",
        "outputId": "19e7d7b2-3689-4886-8011-b7c8bfbc572b"
      },
      "outputs": [
        {
          "output_type": "stream",
          "name": "stderr",
          "text": [
            "Some weights of the model checkpoint at skplanet/dialog-koelectra-small-discriminator were not used when initializing ElectraForSequenceClassification: ['discriminator_predictions.dense.bias', 'discriminator_predictions.dense_prediction.weight', 'discriminator_predictions.dense_prediction.bias', 'discriminator_predictions.dense.weight']\n",
            "- This IS expected if you are initializing ElectraForSequenceClassification from the checkpoint of a model trained on another task or with another architecture (e.g. initializing a BertForSequenceClassification model from a BertForPreTraining model).\n",
            "- This IS NOT expected if you are initializing ElectraForSequenceClassification from the checkpoint of a model that you expect to be exactly identical (initializing a BertForSequenceClassification model from a BertForSequenceClassification model).\n",
            "Some weights of ElectraForSequenceClassification were not initialized from the model checkpoint at skplanet/dialog-koelectra-small-discriminator and are newly initialized: ['classifier.dense.weight', 'classifier.out_proj.weight', 'classifier.out_proj.bias', 'classifier.dense.bias']\n",
            "You should probably TRAIN this model on a down-stream task to be able to use it for predictions and inference.\n"
          ]
        }
      ],
      "source": [
        "# 마지막 체크포인트 모델 확인 후 저장\n",
        "import torch\n",
        "from transformers import ElectraTokenizer, ElectraForSequenceClassification\n",
        "model = ElectraForSequenceClassification.from_pretrained(\"skplanet/dialog-koelectra-small-discriminator\", num_labels=2)\n",
        "tokenizer = ElectraTokenizer.from_pretrained(\"skplanet/dialog-koelectra-small-discriminator\")\n",
        "model.load_state_dict(torch.load('./dialog_electra/finetune/model/ep30sample/hate-speech_small_v1/checkpoint-800/pytorch_model.bin'))\n",
        "\n",
        "torch.save(model, f'/content/drive/MyDrive/뉴스원인분석_modeling/final_news_modeling/{company_name}/{company_name}_board_comment_ep20.pt')\n",
        "torch.save(model.state_dict(),f'/content/drive/MyDrive/뉴스원인분석_modeling/final_news_modeling/{company_name}/{company_name}_board_comment_ep20_state_dict.bin')"
      ]
    },
    {
      "cell_type": "code",
      "execution_count": null,
      "metadata": {
        "colab": {
          "base_uri": "https://localhost:8080/",
          "height": 456,
          "referenced_widgets": [
            "3e7fce46758349fcaa317326d83dc671",
            "2a7ca803fb3845238d3aa45136a5a193",
            "05861c46ce884180b6772629c339f221",
            "e676ae02ad854fe6b699363536726250",
            "b2d92de2bb19441bab9cf466980f3d50",
            "749607910962455eb429c61e75bb0a48",
            "13d6634e06ff4b1ab1a79d78876f7e1b",
            "da961cfa16284e3583bc92268420e8e9",
            "c22f9eec68c342559a76fe21cd21bb1f",
            "9c49871de2eb4c8e94f079f8cff86bb7",
            "8341f83729774044ae1195e5f350632d"
          ]
        },
        "id": "7ub4EV_VTnEt",
        "outputId": "6fdadc32-67da-4c0f-d386-0fe244b487ec"
      },
      "outputs": [
        {
          "output_type": "display_data",
          "data": {
            "text/plain": [
              "  0%|          | 0/43621 [00:00<?, ?it/s]"
            ],
            "application/vnd.jupyter.widget-view+json": {
              "version_major": 2,
              "version_minor": 0,
              "model_id": "3e7fce46758349fcaa317326d83dc671"
            }
          },
          "metadata": {}
        },
        {
          "output_type": "execute_result",
          "data": {
            "text/plain": [
              "                                               recontent target        date  \\\n",
              "48915                                      한국에있다 여기는중국인가     하락  2022-01-28   \n",
              "27412                                            어여 나오길.     하락  2022-03-07   \n",
              "4805   러시아군 지속적인 후퇴는 핵무기 사용을 위한 것일어나믄 안되는 일이 일어날라고 한다...     상승  2022-10-05   \n",
              "26694                        3000이라도 올리라고혀봐.ㅊㅊㅊ.삭열이틀렸어..     하락  2022-03-11   \n",
              "60016    지금 나스닥도 박고 있고 코스피도 박고 있는데이렇게 시총 큰 애가 갈 거라고 생각하냐     상승  2022-01-27   \n",
              "...                                                  ...    ...         ...   \n",
              "13392  아직도 시총 90조라니....lg화학 반성해라 자기들끼리 헤쳐먹고 주주들 배신때리고...     하락  2022-06-30   \n",
              "41063                                               기원하네     상승  2022-02-07   \n",
              "43777  msci편입으로 55006900억이 수급 들어온다는데이게 보통 장마감하면 수급이 개...     상승  2022-02-04   \n",
              "43035                                              60층본다     상승  2022-02-04   \n",
              "41120  그릇이 작아 여기서 하차합니다.더 오를거 같긴한데 계속 신경쓰고 그러느니 한 80프...     상승  2022-02-07   \n",
              "\n",
              "      pred_label     score  \n",
              "48915          0  0.848676  \n",
              "27412          1  0.988648  \n",
              "4805           0  0.988855  \n",
              "26694          1  0.991375  \n",
              "60016          1  0.665379  \n",
              "...          ...       ...  \n",
              "13392          0  0.980204  \n",
              "41063          1  0.900274  \n",
              "43777          0  0.989691  \n",
              "43035          0  0.672662  \n",
              "41120          1  0.992195  \n",
              "\n",
              "[43621 rows x 5 columns]"
            ],
            "text/html": [
              "\n",
              "  <div id=\"df-b0ee039f-4e14-4c44-af50-8b8bbdcfbb48\">\n",
              "    <div class=\"colab-df-container\">\n",
              "      <div>\n",
              "<style scoped>\n",
              "    .dataframe tbody tr th:only-of-type {\n",
              "        vertical-align: middle;\n",
              "    }\n",
              "\n",
              "    .dataframe tbody tr th {\n",
              "        vertical-align: top;\n",
              "    }\n",
              "\n",
              "    .dataframe thead th {\n",
              "        text-align: right;\n",
              "    }\n",
              "</style>\n",
              "<table border=\"1\" class=\"dataframe\">\n",
              "  <thead>\n",
              "    <tr style=\"text-align: right;\">\n",
              "      <th></th>\n",
              "      <th>recontent</th>\n",
              "      <th>target</th>\n",
              "      <th>date</th>\n",
              "      <th>pred_label</th>\n",
              "      <th>score</th>\n",
              "    </tr>\n",
              "  </thead>\n",
              "  <tbody>\n",
              "    <tr>\n",
              "      <th>48915</th>\n",
              "      <td>한국에있다 여기는중국인가</td>\n",
              "      <td>하락</td>\n",
              "      <td>2022-01-28</td>\n",
              "      <td>0</td>\n",
              "      <td>0.848676</td>\n",
              "    </tr>\n",
              "    <tr>\n",
              "      <th>27412</th>\n",
              "      <td>어여 나오길.</td>\n",
              "      <td>하락</td>\n",
              "      <td>2022-03-07</td>\n",
              "      <td>1</td>\n",
              "      <td>0.988648</td>\n",
              "    </tr>\n",
              "    <tr>\n",
              "      <th>4805</th>\n",
              "      <td>러시아군 지속적인 후퇴는 핵무기 사용을 위한 것일어나믄 안되는 일이 일어날라고 한다...</td>\n",
              "      <td>상승</td>\n",
              "      <td>2022-10-05</td>\n",
              "      <td>0</td>\n",
              "      <td>0.988855</td>\n",
              "    </tr>\n",
              "    <tr>\n",
              "      <th>26694</th>\n",
              "      <td>3000이라도 올리라고혀봐.ㅊㅊㅊ.삭열이틀렸어..</td>\n",
              "      <td>하락</td>\n",
              "      <td>2022-03-11</td>\n",
              "      <td>1</td>\n",
              "      <td>0.991375</td>\n",
              "    </tr>\n",
              "    <tr>\n",
              "      <th>60016</th>\n",
              "      <td>지금 나스닥도 박고 있고 코스피도 박고 있는데이렇게 시총 큰 애가 갈 거라고 생각하냐</td>\n",
              "      <td>상승</td>\n",
              "      <td>2022-01-27</td>\n",
              "      <td>1</td>\n",
              "      <td>0.665379</td>\n",
              "    </tr>\n",
              "    <tr>\n",
              "      <th>...</th>\n",
              "      <td>...</td>\n",
              "      <td>...</td>\n",
              "      <td>...</td>\n",
              "      <td>...</td>\n",
              "      <td>...</td>\n",
              "    </tr>\n",
              "    <tr>\n",
              "      <th>13392</th>\n",
              "      <td>아직도 시총 90조라니....lg화학 반성해라 자기들끼리 헤쳐먹고 주주들 배신때리고...</td>\n",
              "      <td>하락</td>\n",
              "      <td>2022-06-30</td>\n",
              "      <td>0</td>\n",
              "      <td>0.980204</td>\n",
              "    </tr>\n",
              "    <tr>\n",
              "      <th>41063</th>\n",
              "      <td>기원하네</td>\n",
              "      <td>상승</td>\n",
              "      <td>2022-02-07</td>\n",
              "      <td>1</td>\n",
              "      <td>0.900274</td>\n",
              "    </tr>\n",
              "    <tr>\n",
              "      <th>43777</th>\n",
              "      <td>msci편입으로 55006900억이 수급 들어온다는데이게 보통 장마감하면 수급이 개...</td>\n",
              "      <td>상승</td>\n",
              "      <td>2022-02-04</td>\n",
              "      <td>0</td>\n",
              "      <td>0.989691</td>\n",
              "    </tr>\n",
              "    <tr>\n",
              "      <th>43035</th>\n",
              "      <td>60층본다</td>\n",
              "      <td>상승</td>\n",
              "      <td>2022-02-04</td>\n",
              "      <td>0</td>\n",
              "      <td>0.672662</td>\n",
              "    </tr>\n",
              "    <tr>\n",
              "      <th>41120</th>\n",
              "      <td>그릇이 작아 여기서 하차합니다.더 오를거 같긴한데 계속 신경쓰고 그러느니 한 80프...</td>\n",
              "      <td>상승</td>\n",
              "      <td>2022-02-07</td>\n",
              "      <td>1</td>\n",
              "      <td>0.992195</td>\n",
              "    </tr>\n",
              "  </tbody>\n",
              "</table>\n",
              "<p>43621 rows × 5 columns</p>\n",
              "</div>\n",
              "      <button class=\"colab-df-convert\" onclick=\"convertToInteractive('df-b0ee039f-4e14-4c44-af50-8b8bbdcfbb48')\"\n",
              "              title=\"Convert this dataframe to an interactive table.\"\n",
              "              style=\"display:none;\">\n",
              "        \n",
              "  <svg xmlns=\"http://www.w3.org/2000/svg\" height=\"24px\"viewBox=\"0 0 24 24\"\n",
              "       width=\"24px\">\n",
              "    <path d=\"M0 0h24v24H0V0z\" fill=\"none\"/>\n",
              "    <path d=\"M18.56 5.44l.94 2.06.94-2.06 2.06-.94-2.06-.94-.94-2.06-.94 2.06-2.06.94zm-11 1L8.5 8.5l.94-2.06 2.06-.94-2.06-.94L8.5 2.5l-.94 2.06-2.06.94zm10 10l.94 2.06.94-2.06 2.06-.94-2.06-.94-.94-2.06-.94 2.06-2.06.94z\"/><path d=\"M17.41 7.96l-1.37-1.37c-.4-.4-.92-.59-1.43-.59-.52 0-1.04.2-1.43.59L10.3 9.45l-7.72 7.72c-.78.78-.78 2.05 0 2.83L4 21.41c.39.39.9.59 1.41.59.51 0 1.02-.2 1.41-.59l7.78-7.78 2.81-2.81c.8-.78.8-2.07 0-2.86zM5.41 20L4 18.59l7.72-7.72 1.47 1.35L5.41 20z\"/>\n",
              "  </svg>\n",
              "      </button>\n",
              "      \n",
              "  <style>\n",
              "    .colab-df-container {\n",
              "      display:flex;\n",
              "      flex-wrap:wrap;\n",
              "      gap: 12px;\n",
              "    }\n",
              "\n",
              "    .colab-df-convert {\n",
              "      background-color: #E8F0FE;\n",
              "      border: none;\n",
              "      border-radius: 50%;\n",
              "      cursor: pointer;\n",
              "      display: none;\n",
              "      fill: #1967D2;\n",
              "      height: 32px;\n",
              "      padding: 0 0 0 0;\n",
              "      width: 32px;\n",
              "    }\n",
              "\n",
              "    .colab-df-convert:hover {\n",
              "      background-color: #E2EBFA;\n",
              "      box-shadow: 0px 1px 2px rgba(60, 64, 67, 0.3), 0px 1px 3px 1px rgba(60, 64, 67, 0.15);\n",
              "      fill: #174EA6;\n",
              "    }\n",
              "\n",
              "    [theme=dark] .colab-df-convert {\n",
              "      background-color: #3B4455;\n",
              "      fill: #D2E3FC;\n",
              "    }\n",
              "\n",
              "    [theme=dark] .colab-df-convert:hover {\n",
              "      background-color: #434B5C;\n",
              "      box-shadow: 0px 1px 3px 1px rgba(0, 0, 0, 0.15);\n",
              "      filter: drop-shadow(0px 1px 2px rgba(0, 0, 0, 0.3));\n",
              "      fill: #FFFFFF;\n",
              "    }\n",
              "  </style>\n",
              "\n",
              "      <script>\n",
              "        const buttonEl =\n",
              "          document.querySelector('#df-b0ee039f-4e14-4c44-af50-8b8bbdcfbb48 button.colab-df-convert');\n",
              "        buttonEl.style.display =\n",
              "          google.colab.kernel.accessAllowed ? 'block' : 'none';\n",
              "\n",
              "        async function convertToInteractive(key) {\n",
              "          const element = document.querySelector('#df-b0ee039f-4e14-4c44-af50-8b8bbdcfbb48');\n",
              "          const dataTable =\n",
              "            await google.colab.kernel.invokeFunction('convertToInteractive',\n",
              "                                                     [key], {});\n",
              "          if (!dataTable) return;\n",
              "\n",
              "          const docLinkHtml = 'Like what you see? Visit the ' +\n",
              "            '<a target=\"_blank\" href=https://colab.research.google.com/notebooks/data_table.ipynb>data table notebook</a>'\n",
              "            + ' to learn more about interactive tables.';\n",
              "          element.innerHTML = '';\n",
              "          dataTable['output_type'] = 'display_data';\n",
              "          await google.colab.output.renderOutput(dataTable, element);\n",
              "          const docLink = document.createElement('div');\n",
              "          docLink.innerHTML = docLinkHtml;\n",
              "          element.appendChild(docLink);\n",
              "        }\n",
              "      </script>\n",
              "    </div>\n",
              "  </div>\n",
              "  "
            ]
          },
          "metadata": {},
          "execution_count": 27
        }
      ],
      "source": [
        "# 전체 결과값 예측\n",
        "df_total = pd.concat([train_not_sampled, test_pred])\n",
        "board_total_pred = board_pred(model, df_total)\n",
        "board_total_pred"
      ]
    },
    {
      "cell_type": "code",
      "execution_count": null,
      "metadata": {
        "colab": {
          "base_uri": "https://localhost:8080/",
          "height": 424
        },
        "id": "evXek7DP0Xg9",
        "outputId": "5e6c645b-e13d-47a6-fa81-7cbe36d240d4"
      },
      "outputs": [
        {
          "output_type": "execute_result",
          "data": {
            "text/plain": [
              "           date  pred_label   neg_cnt   pos_cnt  year  week  day  \\\n",
              "0    2022-01-27    0.586125  0.413875  0.586125  2022     4    4   \n",
              "1    2022-01-28    0.464843  0.535157  0.464843  2022     4    5   \n",
              "2    2022-02-03    0.558496  0.441504  0.558496  2022     5    4   \n",
              "3    2022-02-04    0.577187  0.422813  0.577187  2022     5    5   \n",
              "4    2022-02-07    0.591686  0.408314  0.591686  2022     6    1   \n",
              "..          ...         ...       ...       ...   ...   ...  ...   \n",
              "202  2022-11-24    0.454545  0.545455  0.454545  2022    47    4   \n",
              "203  2022-11-25    0.476190  0.523810  0.476190  2022    47    5   \n",
              "204  2022-11-28    0.557377  0.442623  0.557377  2022    48    1   \n",
              "205  2022-11-29    0.500000  0.500000  0.500000  2022    48    2   \n",
              "206  2022-11-30    0.592105  0.407895  0.592105  2022    48    3   \n",
              "\n",
              "                      last_week  \n",
              "0                            -1  \n",
              "1                            -1  \n",
              "2    {'neg': 0.47, 'pos': 0.53}  \n",
              "3    {'neg': 0.47, 'pos': 0.53}  \n",
              "4    {'neg': 0.43, 'pos': 0.57}  \n",
              "..                          ...  \n",
              "202  {'neg': 0.45, 'pos': 0.55}  \n",
              "203  {'neg': 0.45, 'pos': 0.55}  \n",
              "204  {'neg': 0.51, 'pos': 0.49}  \n",
              "205  {'neg': 0.51, 'pos': 0.49}  \n",
              "206  {'neg': 0.51, 'pos': 0.49}  \n",
              "\n",
              "[207 rows x 8 columns]"
            ],
            "text/html": [
              "\n",
              "  <div id=\"df-3d2f1009-fbaf-4ded-9d8d-0b6f830c782f\">\n",
              "    <div class=\"colab-df-container\">\n",
              "      <div>\n",
              "<style scoped>\n",
              "    .dataframe tbody tr th:only-of-type {\n",
              "        vertical-align: middle;\n",
              "    }\n",
              "\n",
              "    .dataframe tbody tr th {\n",
              "        vertical-align: top;\n",
              "    }\n",
              "\n",
              "    .dataframe thead th {\n",
              "        text-align: right;\n",
              "    }\n",
              "</style>\n",
              "<table border=\"1\" class=\"dataframe\">\n",
              "  <thead>\n",
              "    <tr style=\"text-align: right;\">\n",
              "      <th></th>\n",
              "      <th>date</th>\n",
              "      <th>pred_label</th>\n",
              "      <th>neg_cnt</th>\n",
              "      <th>pos_cnt</th>\n",
              "      <th>year</th>\n",
              "      <th>week</th>\n",
              "      <th>day</th>\n",
              "      <th>last_week</th>\n",
              "    </tr>\n",
              "  </thead>\n",
              "  <tbody>\n",
              "    <tr>\n",
              "      <th>0</th>\n",
              "      <td>2022-01-27</td>\n",
              "      <td>0.586125</td>\n",
              "      <td>0.413875</td>\n",
              "      <td>0.586125</td>\n",
              "      <td>2022</td>\n",
              "      <td>4</td>\n",
              "      <td>4</td>\n",
              "      <td>-1</td>\n",
              "    </tr>\n",
              "    <tr>\n",
              "      <th>1</th>\n",
              "      <td>2022-01-28</td>\n",
              "      <td>0.464843</td>\n",
              "      <td>0.535157</td>\n",
              "      <td>0.464843</td>\n",
              "      <td>2022</td>\n",
              "      <td>4</td>\n",
              "      <td>5</td>\n",
              "      <td>-1</td>\n",
              "    </tr>\n",
              "    <tr>\n",
              "      <th>2</th>\n",
              "      <td>2022-02-03</td>\n",
              "      <td>0.558496</td>\n",
              "      <td>0.441504</td>\n",
              "      <td>0.558496</td>\n",
              "      <td>2022</td>\n",
              "      <td>5</td>\n",
              "      <td>4</td>\n",
              "      <td>{'neg': 0.47, 'pos': 0.53}</td>\n",
              "    </tr>\n",
              "    <tr>\n",
              "      <th>3</th>\n",
              "      <td>2022-02-04</td>\n",
              "      <td>0.577187</td>\n",
              "      <td>0.422813</td>\n",
              "      <td>0.577187</td>\n",
              "      <td>2022</td>\n",
              "      <td>5</td>\n",
              "      <td>5</td>\n",
              "      <td>{'neg': 0.47, 'pos': 0.53}</td>\n",
              "    </tr>\n",
              "    <tr>\n",
              "      <th>4</th>\n",
              "      <td>2022-02-07</td>\n",
              "      <td>0.591686</td>\n",
              "      <td>0.408314</td>\n",
              "      <td>0.591686</td>\n",
              "      <td>2022</td>\n",
              "      <td>6</td>\n",
              "      <td>1</td>\n",
              "      <td>{'neg': 0.43, 'pos': 0.57}</td>\n",
              "    </tr>\n",
              "    <tr>\n",
              "      <th>...</th>\n",
              "      <td>...</td>\n",
              "      <td>...</td>\n",
              "      <td>...</td>\n",
              "      <td>...</td>\n",
              "      <td>...</td>\n",
              "      <td>...</td>\n",
              "      <td>...</td>\n",
              "      <td>...</td>\n",
              "    </tr>\n",
              "    <tr>\n",
              "      <th>202</th>\n",
              "      <td>2022-11-24</td>\n",
              "      <td>0.454545</td>\n",
              "      <td>0.545455</td>\n",
              "      <td>0.454545</td>\n",
              "      <td>2022</td>\n",
              "      <td>47</td>\n",
              "      <td>4</td>\n",
              "      <td>{'neg': 0.45, 'pos': 0.55}</td>\n",
              "    </tr>\n",
              "    <tr>\n",
              "      <th>203</th>\n",
              "      <td>2022-11-25</td>\n",
              "      <td>0.476190</td>\n",
              "      <td>0.523810</td>\n",
              "      <td>0.476190</td>\n",
              "      <td>2022</td>\n",
              "      <td>47</td>\n",
              "      <td>5</td>\n",
              "      <td>{'neg': 0.45, 'pos': 0.55}</td>\n",
              "    </tr>\n",
              "    <tr>\n",
              "      <th>204</th>\n",
              "      <td>2022-11-28</td>\n",
              "      <td>0.557377</td>\n",
              "      <td>0.442623</td>\n",
              "      <td>0.557377</td>\n",
              "      <td>2022</td>\n",
              "      <td>48</td>\n",
              "      <td>1</td>\n",
              "      <td>{'neg': 0.51, 'pos': 0.49}</td>\n",
              "    </tr>\n",
              "    <tr>\n",
              "      <th>205</th>\n",
              "      <td>2022-11-29</td>\n",
              "      <td>0.500000</td>\n",
              "      <td>0.500000</td>\n",
              "      <td>0.500000</td>\n",
              "      <td>2022</td>\n",
              "      <td>48</td>\n",
              "      <td>2</td>\n",
              "      <td>{'neg': 0.51, 'pos': 0.49}</td>\n",
              "    </tr>\n",
              "    <tr>\n",
              "      <th>206</th>\n",
              "      <td>2022-11-30</td>\n",
              "      <td>0.592105</td>\n",
              "      <td>0.407895</td>\n",
              "      <td>0.592105</td>\n",
              "      <td>2022</td>\n",
              "      <td>48</td>\n",
              "      <td>3</td>\n",
              "      <td>{'neg': 0.51, 'pos': 0.49}</td>\n",
              "    </tr>\n",
              "  </tbody>\n",
              "</table>\n",
              "<p>207 rows × 8 columns</p>\n",
              "</div>\n",
              "      <button class=\"colab-df-convert\" onclick=\"convertToInteractive('df-3d2f1009-fbaf-4ded-9d8d-0b6f830c782f')\"\n",
              "              title=\"Convert this dataframe to an interactive table.\"\n",
              "              style=\"display:none;\">\n",
              "        \n",
              "  <svg xmlns=\"http://www.w3.org/2000/svg\" height=\"24px\"viewBox=\"0 0 24 24\"\n",
              "       width=\"24px\">\n",
              "    <path d=\"M0 0h24v24H0V0z\" fill=\"none\"/>\n",
              "    <path d=\"M18.56 5.44l.94 2.06.94-2.06 2.06-.94-2.06-.94-.94-2.06-.94 2.06-2.06.94zm-11 1L8.5 8.5l.94-2.06 2.06-.94-2.06-.94L8.5 2.5l-.94 2.06-2.06.94zm10 10l.94 2.06.94-2.06 2.06-.94-2.06-.94-.94-2.06-.94 2.06-2.06.94z\"/><path d=\"M17.41 7.96l-1.37-1.37c-.4-.4-.92-.59-1.43-.59-.52 0-1.04.2-1.43.59L10.3 9.45l-7.72 7.72c-.78.78-.78 2.05 0 2.83L4 21.41c.39.39.9.59 1.41.59.51 0 1.02-.2 1.41-.59l7.78-7.78 2.81-2.81c.8-.78.8-2.07 0-2.86zM5.41 20L4 18.59l7.72-7.72 1.47 1.35L5.41 20z\"/>\n",
              "  </svg>\n",
              "      </button>\n",
              "      \n",
              "  <style>\n",
              "    .colab-df-container {\n",
              "      display:flex;\n",
              "      flex-wrap:wrap;\n",
              "      gap: 12px;\n",
              "    }\n",
              "\n",
              "    .colab-df-convert {\n",
              "      background-color: #E8F0FE;\n",
              "      border: none;\n",
              "      border-radius: 50%;\n",
              "      cursor: pointer;\n",
              "      display: none;\n",
              "      fill: #1967D2;\n",
              "      height: 32px;\n",
              "      padding: 0 0 0 0;\n",
              "      width: 32px;\n",
              "    }\n",
              "\n",
              "    .colab-df-convert:hover {\n",
              "      background-color: #E2EBFA;\n",
              "      box-shadow: 0px 1px 2px rgba(60, 64, 67, 0.3), 0px 1px 3px 1px rgba(60, 64, 67, 0.15);\n",
              "      fill: #174EA6;\n",
              "    }\n",
              "\n",
              "    [theme=dark] .colab-df-convert {\n",
              "      background-color: #3B4455;\n",
              "      fill: #D2E3FC;\n",
              "    }\n",
              "\n",
              "    [theme=dark] .colab-df-convert:hover {\n",
              "      background-color: #434B5C;\n",
              "      box-shadow: 0px 1px 3px 1px rgba(0, 0, 0, 0.15);\n",
              "      filter: drop-shadow(0px 1px 2px rgba(0, 0, 0, 0.3));\n",
              "      fill: #FFFFFF;\n",
              "    }\n",
              "  </style>\n",
              "\n",
              "      <script>\n",
              "        const buttonEl =\n",
              "          document.querySelector('#df-3d2f1009-fbaf-4ded-9d8d-0b6f830c782f button.colab-df-convert');\n",
              "        buttonEl.style.display =\n",
              "          google.colab.kernel.accessAllowed ? 'block' : 'none';\n",
              "\n",
              "        async function convertToInteractive(key) {\n",
              "          const element = document.querySelector('#df-3d2f1009-fbaf-4ded-9d8d-0b6f830c782f');\n",
              "          const dataTable =\n",
              "            await google.colab.kernel.invokeFunction('convertToInteractive',\n",
              "                                                     [key], {});\n",
              "          if (!dataTable) return;\n",
              "\n",
              "          const docLinkHtml = 'Like what you see? Visit the ' +\n",
              "            '<a target=\"_blank\" href=https://colab.research.google.com/notebooks/data_table.ipynb>data table notebook</a>'\n",
              "            + ' to learn more about interactive tables.';\n",
              "          element.innerHTML = '';\n",
              "          dataTable['output_type'] = 'display_data';\n",
              "          await google.colab.output.renderOutput(dataTable, element);\n",
              "          const docLink = document.createElement('div');\n",
              "          docLink.innerHTML = docLinkHtml;\n",
              "          element.appendChild(docLink);\n",
              "        }\n",
              "      </script>\n",
              "    </div>\n",
              "  </div>\n",
              "  "
            ]
          },
          "metadata": {},
          "execution_count": 28
        }
      ],
      "source": [
        "board_total_pred['pred_label'] = board_total_pred['pred_label'].astype('int')\n",
        "board_total_pred_gr = board_total_pred.sort_values('date').groupby('date')[['pred_label']].mean()\n",
        "board_total_pred_gr = board_total_pred_gr.reset_index()\n",
        "for idx in board_total_pred_gr.index :\n",
        "  date = board_total_pred_gr.loc[idx, 'date']\n",
        "  neg_cnt = len(board_total_pred[(board_total_pred['date'] == date) & (board_total_pred['pred_label'] == 0)])\n",
        "  pos_cnt = len(board_total_pred[(board_total_pred['date'] == date) & (board_total_pred['pred_label'] == 1)])\n",
        "  sum_cnt = neg_cnt + pos_cnt\n",
        "  board_total_pred_gr.loc[idx, 'neg_cnt'] = neg_cnt / sum_cnt\n",
        "  board_total_pred_gr.loc[idx, 'pos_cnt'] = pos_cnt / sum_cnt\n",
        "board_total_pred_gr['year'] = board_total_pred_gr['date'].apply(lambda x : pd.to_datetime(x).isocalendar()[0])\n",
        "board_total_pred_gr['week'] = board_total_pred_gr['date'].apply(lambda x : pd.to_datetime(x).isocalendar()[1])\n",
        "board_total_pred_gr['day'] = board_total_pred_gr['date'].apply(lambda x : pd.to_datetime(x).isocalendar()[2])\n",
        "total_day_week = board_total_pred_gr.groupby(['year', 'week'])[['neg_cnt', 'pos_cnt']].mean()\n",
        "for idx in board_total_pred_gr.index :\n",
        "  year = board_total_pred_gr.loc[idx,'year']\n",
        "  week = board_total_pred_gr.loc[idx,'week']\n",
        "  try :\n",
        "    board_total_pred_gr.loc[idx, 'last_week'] = '-1'\n",
        "    last_dict = {}\n",
        "    last_dict['neg'] = round(total_day_week.loc[(year,week -1), 'neg_cnt'],2)\n",
        "    last_dict['pos'] = round(total_day_week.loc[(year,week -1), 'pos_cnt'],2)\n",
        "    board_total_pred_gr.at[idx, 'last_week'] = last_dict\n",
        "  except :\n",
        "    board_total_pred_gr.loc[idx, 'last_week'] = '-1'\n",
        "board_total_pred_gr"
      ]
    },
    {
      "cell_type": "code",
      "execution_count": null,
      "metadata": {
        "id": "DviR6WA23NMA"
      },
      "outputs": [],
      "source": [
        "# 댓글 전체 예측값 저장\n",
        "board_total_pred_gr.to_csv(f'/content/drive/MyDrive/뉴스원인분석_modeling/final_news_modeling/{company_name}/{company_name}'  + '_board_pred.csv', index=False)"
      ]
    },
    {
      "cell_type": "markdown",
      "metadata": {
        "id": "owGSbzhaO0HI"
      },
      "source": [
        "# 전체 데이터 저장"
      ]
    },
    {
      "cell_type": "code",
      "source": [
        "save_path = f'/content/drive/MyDrive/뉴스원인분석_modeling/final_news_modeling/{company_name}/{company_name}'\n",
        "board_total_pred_gr = pd.read_csv(save_path  + '_board_pred.csv')\n",
        "df_keyword = pd.read_csv(save_path + '_news_keyword.csv')\n",
        "keyword_pred_date = pd.read_csv(save_path + f'_test_pred_by_date_total.csv')\n",
        "import datetime\n",
        "from tqdm.notebook import tqdm\n",
        "bd_m1 = board_total_pred_gr[board_total_pred_gr['last_week'] == '-1']\n",
        "\n",
        "# 전주차 댓글 없는 경우 디버깅\n",
        "for idx in tqdm(bd_m1.index) :\n",
        "  temp_date = bd_m1.loc[idx,'date']\n",
        "  last_week = (pd.to_datetime(temp_date) - datetime.timedelta(weeks=1)).strftime('%Y-%m-%d')\n",
        "  last_calender = pd.to_datetime(last_week).isocalendar()\n",
        "  last_year = last_calender[0]\n",
        "  last_week = last_calender[1]\n",
        "  df_temp = board_total_pred_gr[(board_total_pred_gr['year'] == last_year) & (board_total_pred_gr['week'] == last_week)]\n",
        "  if len(df_temp) == 0 or str(df_temp['neg_cnt']) == 'nan':\n",
        "    board_total_pred_gr.loc[idx, 'last_week'] = '-1'\n",
        "  else :\n",
        "    last_neg = df_temp['neg_cnt'].mean()\n",
        "    last_pos = df_temp['pos_cnt'].mean()\n",
        "    temp_dict = {}\n",
        "    temp_dict['neg'] = round(last_neg, 2)\n",
        "    temp_dict['pos'] = round(last_pos, 2)\n",
        "    board_total_pred_gr.at[idx, 'last_week'] = temp_dict"
      ],
      "metadata": {
        "id": "5hx0TPMjjV1L",
        "colab": {
          "base_uri": "https://localhost:8080/",
          "height": 49,
          "referenced_widgets": [
            "d3f876e6f34e4538993fbfae3c8c1bf0",
            "16bb62f584d14cac8c6d6f7a39a4ba91",
            "f4a56687be304e4c8e4ba5df2c66a282",
            "9a36b6a3972a49a58909aa28e3fde9f2",
            "f11498e7b93a4517a325c9d118eb1721",
            "44789511b33048a6b5685edb3fe25a73",
            "9edebbc534294dd5804e0e435f32f374",
            "769f82ddee004897a9651f3755bb075a",
            "4406d3fd26cd4e3cbd905014222057d8",
            "e6018ab1b1a7440ea385cc3b80450ad1",
            "2bc35f680fe24d7da21a88342b600e3a"
          ]
        },
        "outputId": "fa1c0cd8-eeff-4862-c4ea-7cac58c3293e"
      },
      "execution_count": null,
      "outputs": [
        {
          "output_type": "display_data",
          "data": {
            "text/plain": [
              "  0%|          | 0/2 [00:00<?, ?it/s]"
            ],
            "application/vnd.jupyter.widget-view+json": {
              "version_major": 2,
              "version_minor": 0,
              "model_id": "d3f876e6f34e4538993fbfae3c8c1bf0"
            }
          },
          "metadata": {}
        }
      ]
    },
    {
      "cell_type": "code",
      "execution_count": null,
      "metadata": {
        "colab": {
          "base_uri": "https://localhost:8080/",
          "height": 815
        },
        "id": "ew3rvxD3Tyrg",
        "outputId": "5abc2392-8a5b-4987-a5b6-6534acce172b"
      },
      "outputs": [
        {
          "output_type": "execute_result",
          "data": {
            "text/plain": [
              "           date  target  news_pred  targetpm  cnt_pred  pred_target  pred_pm  \\\n",
              "0    2022-01-28     0.0   0.000000       1.0       0.0            0        1   \n",
              "1    2022-02-03     4.0   3.997347       3.0       4.0            4        3   \n",
              "2    2022-02-04     4.0   3.939130       3.0       4.0            4        3   \n",
              "3    2022-02-07     4.0   4.000000       3.0       4.0            4        3   \n",
              "4    2022-02-08     1.0   0.985011       1.0       1.0            1        1   \n",
              "..          ...     ...        ...       ...       ...          ...      ...   \n",
              "201  2022-11-24     3.0   3.000000       3.0       3.0            3        3   \n",
              "202  2022-11-25     2.0   2.055118       3.0       2.0            2        3   \n",
              "203  2022-11-28     1.0   1.000000       1.0       1.0            1        1   \n",
              "204  2022-11-29     3.0   3.000000       3.0       3.0            3        3   \n",
              "205  2022-11-30     4.0   4.000000       3.0       4.0            4        3   \n",
              "\n",
              "     eval_5  3target  pred_3target  ...   neg_cnt   pos_cnt  year  week  day  \\\n",
              "0      True      1.0             1  ...  0.535157  0.464843  2022     4    5   \n",
              "1      True      3.0             3  ...  0.441504  0.558496  2022     5    4   \n",
              "2      True      3.0             3  ...  0.422813  0.577187  2022     5    5   \n",
              "3      True      3.0             3  ...  0.408314  0.591686  2022     6    1   \n",
              "4      True      1.0             1  ...  0.503724  0.496276  2022     6    2   \n",
              "..      ...      ...           ...  ...       ...       ...   ...   ...  ...   \n",
              "201    True      3.0             3  ...  0.545455  0.454545  2022    47    4   \n",
              "202    True      2.0             2  ...  0.523810  0.476190  2022    47    5   \n",
              "203    True      1.0             1  ...  0.442623  0.557377  2022    48    1   \n",
              "204    True      3.0             3  ...  0.500000  0.500000  2022    48    2   \n",
              "205    True      3.0             3  ...  0.407895  0.592105  2022    48    3   \n",
              "\n",
              "                      last_week  \\\n",
              "0                            -1   \n",
              "1    {'neg': 0.47, 'pos': 0.53}   \n",
              "2    {'neg': 0.47, 'pos': 0.53}   \n",
              "3    {'neg': 0.43, 'pos': 0.57}   \n",
              "4    {'neg': 0.43, 'pos': 0.57}   \n",
              "..                          ...   \n",
              "201  {'neg': 0.45, 'pos': 0.55}   \n",
              "202  {'neg': 0.45, 'pos': 0.55}   \n",
              "203  {'neg': 0.51, 'pos': 0.49}   \n",
              "204  {'neg': 0.51, 'pos': 0.49}   \n",
              "205  {'neg': 0.51, 'pos': 0.49}   \n",
              "\n",
              "                                             top20_okt  news_cnt  \\\n",
              "0    시가총액,제외,연초,자금,블랙홀차관,토론,양자,민주당,진행,입장,국민,대선,재판,검...        72   \n",
              "1    정부,생산,공급,자율,소재,재활용,플라스틱,전망,제휴,네이버,주머니,유럽,리스크첫날...       112   \n",
              "2    배터리,스테인리스강,세계,수요,전기차,원료,경기,미국,비량,차지대형,뱅크,증가,사상...        39   \n",
              "3    하락,출발,중심,전자,삼성,대형주계약,배터리,리튬,첫날,편입,평가,생산,공급망,과정...        61   \n",
              "4    전망,투자,상황,하락,긴축,미국,바닥,세계,정책,심리,보통금통위,금리,스프레드,투자...        68   \n",
              "..                                                 ...       ...   \n",
              "201  미국,환율민주당,투자,결과,혜주,법안,장기,관점,상원,승리,공화당,신재생에너지,기대...        35   \n",
              "202  출발,물가,발표,압력,뉴욕,나스닥,대유행고가,경신,특징,신고돌입,합작,얼티엄셀즈,공...        34   \n",
              "203  사업,도청,체결,건설,기술,행정,서비스,발리,협력,김영섭,보르네오섬,글로벌하락,보합...        28   \n",
              "204  현금,추진,사업,당시,자금,방식,상황,건설,보유,수익이재성,효율,기술,개발,본부장,...        15   \n",
              "205  제품,수상,선정,전자,배터리,부문,평가,미국,최초,수상작,협회수상,부문,전자,기술,...        18   \n",
              "\n",
              "                                               keyword target_pm  \n",
              "0    {'부정_단어': '하락,시가총액,삼성,사업,투자,미국,전망,실적,자금,분할', '...         1  \n",
              "1    {'부정_단어': '', '긍정_단어': '하락,미국,투자,배터리,긴축,금리,생산,...         3  \n",
              "2    {'부정_단어': '하락,매매,연휴', '긍정_단어': '배터리,미국,전기차,계약,...         3  \n",
              "3    {'부정_단어': '', '긍정_단어': '미국,투자,삼성,배터리,전자,자금,글로벌...         3  \n",
              "4    {'부정_단어': '투자,증가,확대,글로벌,전기차,이익,자금,목표,배터리,미국', ...         1  \n",
              "..                                                 ...       ...  \n",
              "201  {'부정_단어': '', '긍정_단어': '주식,투자,전자,차지,구매,보합,삼성,상...         3  \n",
              "202  {'부정_단어': '생산,배터리,공급,확보,파스,미네랄,미국,계약,체결,탄산', '...         3  \n",
              "203  {'부정_단어': '전자,삼성,재계,재무,생산,전기차,참여,투자,주식,확대', '긍...         1  \n",
              "204  {'부정_단어': '', '긍정_단어': '사업,전자,부문,기술,수상,미국,배터리,...         3  \n",
              "205  {'부정_단어': '', '긍정_단어': '미국,연구,소재,산학,변경,센터,개발,업...         3  \n",
              "\n",
              "[206 rows x 23 columns]"
            ],
            "text/html": [
              "\n",
              "  <div id=\"df-0e6338b2-547c-4ce4-9310-130907f8db92\">\n",
              "    <div class=\"colab-df-container\">\n",
              "      <div>\n",
              "<style scoped>\n",
              "    .dataframe tbody tr th:only-of-type {\n",
              "        vertical-align: middle;\n",
              "    }\n",
              "\n",
              "    .dataframe tbody tr th {\n",
              "        vertical-align: top;\n",
              "    }\n",
              "\n",
              "    .dataframe thead th {\n",
              "        text-align: right;\n",
              "    }\n",
              "</style>\n",
              "<table border=\"1\" class=\"dataframe\">\n",
              "  <thead>\n",
              "    <tr style=\"text-align: right;\">\n",
              "      <th></th>\n",
              "      <th>date</th>\n",
              "      <th>target</th>\n",
              "      <th>news_pred</th>\n",
              "      <th>targetpm</th>\n",
              "      <th>cnt_pred</th>\n",
              "      <th>pred_target</th>\n",
              "      <th>pred_pm</th>\n",
              "      <th>eval_5</th>\n",
              "      <th>3target</th>\n",
              "      <th>pred_3target</th>\n",
              "      <th>...</th>\n",
              "      <th>neg_cnt</th>\n",
              "      <th>pos_cnt</th>\n",
              "      <th>year</th>\n",
              "      <th>week</th>\n",
              "      <th>day</th>\n",
              "      <th>last_week</th>\n",
              "      <th>top20_okt</th>\n",
              "      <th>news_cnt</th>\n",
              "      <th>keyword</th>\n",
              "      <th>target_pm</th>\n",
              "    </tr>\n",
              "  </thead>\n",
              "  <tbody>\n",
              "    <tr>\n",
              "      <th>0</th>\n",
              "      <td>2022-01-28</td>\n",
              "      <td>0.0</td>\n",
              "      <td>0.000000</td>\n",
              "      <td>1.0</td>\n",
              "      <td>0.0</td>\n",
              "      <td>0</td>\n",
              "      <td>1</td>\n",
              "      <td>True</td>\n",
              "      <td>1.0</td>\n",
              "      <td>1</td>\n",
              "      <td>...</td>\n",
              "      <td>0.535157</td>\n",
              "      <td>0.464843</td>\n",
              "      <td>2022</td>\n",
              "      <td>4</td>\n",
              "      <td>5</td>\n",
              "      <td>-1</td>\n",
              "      <td>시가총액,제외,연초,자금,블랙홀차관,토론,양자,민주당,진행,입장,국민,대선,재판,검...</td>\n",
              "      <td>72</td>\n",
              "      <td>{'부정_단어': '하락,시가총액,삼성,사업,투자,미국,전망,실적,자금,분할', '...</td>\n",
              "      <td>1</td>\n",
              "    </tr>\n",
              "    <tr>\n",
              "      <th>1</th>\n",
              "      <td>2022-02-03</td>\n",
              "      <td>4.0</td>\n",
              "      <td>3.997347</td>\n",
              "      <td>3.0</td>\n",
              "      <td>4.0</td>\n",
              "      <td>4</td>\n",
              "      <td>3</td>\n",
              "      <td>True</td>\n",
              "      <td>3.0</td>\n",
              "      <td>3</td>\n",
              "      <td>...</td>\n",
              "      <td>0.441504</td>\n",
              "      <td>0.558496</td>\n",
              "      <td>2022</td>\n",
              "      <td>5</td>\n",
              "      <td>4</td>\n",
              "      <td>{'neg': 0.47, 'pos': 0.53}</td>\n",
              "      <td>정부,생산,공급,자율,소재,재활용,플라스틱,전망,제휴,네이버,주머니,유럽,리스크첫날...</td>\n",
              "      <td>112</td>\n",
              "      <td>{'부정_단어': '', '긍정_단어': '하락,미국,투자,배터리,긴축,금리,생산,...</td>\n",
              "      <td>3</td>\n",
              "    </tr>\n",
              "    <tr>\n",
              "      <th>2</th>\n",
              "      <td>2022-02-04</td>\n",
              "      <td>4.0</td>\n",
              "      <td>3.939130</td>\n",
              "      <td>3.0</td>\n",
              "      <td>4.0</td>\n",
              "      <td>4</td>\n",
              "      <td>3</td>\n",
              "      <td>True</td>\n",
              "      <td>3.0</td>\n",
              "      <td>3</td>\n",
              "      <td>...</td>\n",
              "      <td>0.422813</td>\n",
              "      <td>0.577187</td>\n",
              "      <td>2022</td>\n",
              "      <td>5</td>\n",
              "      <td>5</td>\n",
              "      <td>{'neg': 0.47, 'pos': 0.53}</td>\n",
              "      <td>배터리,스테인리스강,세계,수요,전기차,원료,경기,미국,비량,차지대형,뱅크,증가,사상...</td>\n",
              "      <td>39</td>\n",
              "      <td>{'부정_단어': '하락,매매,연휴', '긍정_단어': '배터리,미국,전기차,계약,...</td>\n",
              "      <td>3</td>\n",
              "    </tr>\n",
              "    <tr>\n",
              "      <th>3</th>\n",
              "      <td>2022-02-07</td>\n",
              "      <td>4.0</td>\n",
              "      <td>4.000000</td>\n",
              "      <td>3.0</td>\n",
              "      <td>4.0</td>\n",
              "      <td>4</td>\n",
              "      <td>3</td>\n",
              "      <td>True</td>\n",
              "      <td>3.0</td>\n",
              "      <td>3</td>\n",
              "      <td>...</td>\n",
              "      <td>0.408314</td>\n",
              "      <td>0.591686</td>\n",
              "      <td>2022</td>\n",
              "      <td>6</td>\n",
              "      <td>1</td>\n",
              "      <td>{'neg': 0.43, 'pos': 0.57}</td>\n",
              "      <td>하락,출발,중심,전자,삼성,대형주계약,배터리,리튬,첫날,편입,평가,생산,공급망,과정...</td>\n",
              "      <td>61</td>\n",
              "      <td>{'부정_단어': '', '긍정_단어': '미국,투자,삼성,배터리,전자,자금,글로벌...</td>\n",
              "      <td>3</td>\n",
              "    </tr>\n",
              "    <tr>\n",
              "      <th>4</th>\n",
              "      <td>2022-02-08</td>\n",
              "      <td>1.0</td>\n",
              "      <td>0.985011</td>\n",
              "      <td>1.0</td>\n",
              "      <td>1.0</td>\n",
              "      <td>1</td>\n",
              "      <td>1</td>\n",
              "      <td>True</td>\n",
              "      <td>1.0</td>\n",
              "      <td>1</td>\n",
              "      <td>...</td>\n",
              "      <td>0.503724</td>\n",
              "      <td>0.496276</td>\n",
              "      <td>2022</td>\n",
              "      <td>6</td>\n",
              "      <td>2</td>\n",
              "      <td>{'neg': 0.43, 'pos': 0.57}</td>\n",
              "      <td>전망,투자,상황,하락,긴축,미국,바닥,세계,정책,심리,보통금통위,금리,스프레드,투자...</td>\n",
              "      <td>68</td>\n",
              "      <td>{'부정_단어': '투자,증가,확대,글로벌,전기차,이익,자금,목표,배터리,미국', ...</td>\n",
              "      <td>1</td>\n",
              "    </tr>\n",
              "    <tr>\n",
              "      <th>...</th>\n",
              "      <td>...</td>\n",
              "      <td>...</td>\n",
              "      <td>...</td>\n",
              "      <td>...</td>\n",
              "      <td>...</td>\n",
              "      <td>...</td>\n",
              "      <td>...</td>\n",
              "      <td>...</td>\n",
              "      <td>...</td>\n",
              "      <td>...</td>\n",
              "      <td>...</td>\n",
              "      <td>...</td>\n",
              "      <td>...</td>\n",
              "      <td>...</td>\n",
              "      <td>...</td>\n",
              "      <td>...</td>\n",
              "      <td>...</td>\n",
              "      <td>...</td>\n",
              "      <td>...</td>\n",
              "      <td>...</td>\n",
              "      <td>...</td>\n",
              "    </tr>\n",
              "    <tr>\n",
              "      <th>201</th>\n",
              "      <td>2022-11-24</td>\n",
              "      <td>3.0</td>\n",
              "      <td>3.000000</td>\n",
              "      <td>3.0</td>\n",
              "      <td>3.0</td>\n",
              "      <td>3</td>\n",
              "      <td>3</td>\n",
              "      <td>True</td>\n",
              "      <td>3.0</td>\n",
              "      <td>3</td>\n",
              "      <td>...</td>\n",
              "      <td>0.545455</td>\n",
              "      <td>0.454545</td>\n",
              "      <td>2022</td>\n",
              "      <td>47</td>\n",
              "      <td>4</td>\n",
              "      <td>{'neg': 0.45, 'pos': 0.55}</td>\n",
              "      <td>미국,환율민주당,투자,결과,혜주,법안,장기,관점,상원,승리,공화당,신재생에너지,기대...</td>\n",
              "      <td>35</td>\n",
              "      <td>{'부정_단어': '', '긍정_단어': '주식,투자,전자,차지,구매,보합,삼성,상...</td>\n",
              "      <td>3</td>\n",
              "    </tr>\n",
              "    <tr>\n",
              "      <th>202</th>\n",
              "      <td>2022-11-25</td>\n",
              "      <td>2.0</td>\n",
              "      <td>2.055118</td>\n",
              "      <td>3.0</td>\n",
              "      <td>2.0</td>\n",
              "      <td>2</td>\n",
              "      <td>3</td>\n",
              "      <td>True</td>\n",
              "      <td>2.0</td>\n",
              "      <td>2</td>\n",
              "      <td>...</td>\n",
              "      <td>0.523810</td>\n",
              "      <td>0.476190</td>\n",
              "      <td>2022</td>\n",
              "      <td>47</td>\n",
              "      <td>5</td>\n",
              "      <td>{'neg': 0.45, 'pos': 0.55}</td>\n",
              "      <td>출발,물가,발표,압력,뉴욕,나스닥,대유행고가,경신,특징,신고돌입,합작,얼티엄셀즈,공...</td>\n",
              "      <td>34</td>\n",
              "      <td>{'부정_단어': '생산,배터리,공급,확보,파스,미네랄,미국,계약,체결,탄산', '...</td>\n",
              "      <td>3</td>\n",
              "    </tr>\n",
              "    <tr>\n",
              "      <th>203</th>\n",
              "      <td>2022-11-28</td>\n",
              "      <td>1.0</td>\n",
              "      <td>1.000000</td>\n",
              "      <td>1.0</td>\n",
              "      <td>1.0</td>\n",
              "      <td>1</td>\n",
              "      <td>1</td>\n",
              "      <td>True</td>\n",
              "      <td>1.0</td>\n",
              "      <td>1</td>\n",
              "      <td>...</td>\n",
              "      <td>0.442623</td>\n",
              "      <td>0.557377</td>\n",
              "      <td>2022</td>\n",
              "      <td>48</td>\n",
              "      <td>1</td>\n",
              "      <td>{'neg': 0.51, 'pos': 0.49}</td>\n",
              "      <td>사업,도청,체결,건설,기술,행정,서비스,발리,협력,김영섭,보르네오섬,글로벌하락,보합...</td>\n",
              "      <td>28</td>\n",
              "      <td>{'부정_단어': '전자,삼성,재계,재무,생산,전기차,참여,투자,주식,확대', '긍...</td>\n",
              "      <td>1</td>\n",
              "    </tr>\n",
              "    <tr>\n",
              "      <th>204</th>\n",
              "      <td>2022-11-29</td>\n",
              "      <td>3.0</td>\n",
              "      <td>3.000000</td>\n",
              "      <td>3.0</td>\n",
              "      <td>3.0</td>\n",
              "      <td>3</td>\n",
              "      <td>3</td>\n",
              "      <td>True</td>\n",
              "      <td>3.0</td>\n",
              "      <td>3</td>\n",
              "      <td>...</td>\n",
              "      <td>0.500000</td>\n",
              "      <td>0.500000</td>\n",
              "      <td>2022</td>\n",
              "      <td>48</td>\n",
              "      <td>2</td>\n",
              "      <td>{'neg': 0.51, 'pos': 0.49}</td>\n",
              "      <td>현금,추진,사업,당시,자금,방식,상황,건설,보유,수익이재성,효율,기술,개발,본부장,...</td>\n",
              "      <td>15</td>\n",
              "      <td>{'부정_단어': '', '긍정_단어': '사업,전자,부문,기술,수상,미국,배터리,...</td>\n",
              "      <td>3</td>\n",
              "    </tr>\n",
              "    <tr>\n",
              "      <th>205</th>\n",
              "      <td>2022-11-30</td>\n",
              "      <td>4.0</td>\n",
              "      <td>4.000000</td>\n",
              "      <td>3.0</td>\n",
              "      <td>4.0</td>\n",
              "      <td>4</td>\n",
              "      <td>3</td>\n",
              "      <td>True</td>\n",
              "      <td>3.0</td>\n",
              "      <td>3</td>\n",
              "      <td>...</td>\n",
              "      <td>0.407895</td>\n",
              "      <td>0.592105</td>\n",
              "      <td>2022</td>\n",
              "      <td>48</td>\n",
              "      <td>3</td>\n",
              "      <td>{'neg': 0.51, 'pos': 0.49}</td>\n",
              "      <td>제품,수상,선정,전자,배터리,부문,평가,미국,최초,수상작,협회수상,부문,전자,기술,...</td>\n",
              "      <td>18</td>\n",
              "      <td>{'부정_단어': '', '긍정_단어': '미국,연구,소재,산학,변경,센터,개발,업...</td>\n",
              "      <td>3</td>\n",
              "    </tr>\n",
              "  </tbody>\n",
              "</table>\n",
              "<p>206 rows × 23 columns</p>\n",
              "</div>\n",
              "      <button class=\"colab-df-convert\" onclick=\"convertToInteractive('df-0e6338b2-547c-4ce4-9310-130907f8db92')\"\n",
              "              title=\"Convert this dataframe to an interactive table.\"\n",
              "              style=\"display:none;\">\n",
              "        \n",
              "  <svg xmlns=\"http://www.w3.org/2000/svg\" height=\"24px\"viewBox=\"0 0 24 24\"\n",
              "       width=\"24px\">\n",
              "    <path d=\"M0 0h24v24H0V0z\" fill=\"none\"/>\n",
              "    <path d=\"M18.56 5.44l.94 2.06.94-2.06 2.06-.94-2.06-.94-.94-2.06-.94 2.06-2.06.94zm-11 1L8.5 8.5l.94-2.06 2.06-.94-2.06-.94L8.5 2.5l-.94 2.06-2.06.94zm10 10l.94 2.06.94-2.06 2.06-.94-2.06-.94-.94-2.06-.94 2.06-2.06.94z\"/><path d=\"M17.41 7.96l-1.37-1.37c-.4-.4-.92-.59-1.43-.59-.52 0-1.04.2-1.43.59L10.3 9.45l-7.72 7.72c-.78.78-.78 2.05 0 2.83L4 21.41c.39.39.9.59 1.41.59.51 0 1.02-.2 1.41-.59l7.78-7.78 2.81-2.81c.8-.78.8-2.07 0-2.86zM5.41 20L4 18.59l7.72-7.72 1.47 1.35L5.41 20z\"/>\n",
              "  </svg>\n",
              "      </button>\n",
              "      \n",
              "  <style>\n",
              "    .colab-df-container {\n",
              "      display:flex;\n",
              "      flex-wrap:wrap;\n",
              "      gap: 12px;\n",
              "    }\n",
              "\n",
              "    .colab-df-convert {\n",
              "      background-color: #E8F0FE;\n",
              "      border: none;\n",
              "      border-radius: 50%;\n",
              "      cursor: pointer;\n",
              "      display: none;\n",
              "      fill: #1967D2;\n",
              "      height: 32px;\n",
              "      padding: 0 0 0 0;\n",
              "      width: 32px;\n",
              "    }\n",
              "\n",
              "    .colab-df-convert:hover {\n",
              "      background-color: #E2EBFA;\n",
              "      box-shadow: 0px 1px 2px rgba(60, 64, 67, 0.3), 0px 1px 3px 1px rgba(60, 64, 67, 0.15);\n",
              "      fill: #174EA6;\n",
              "    }\n",
              "\n",
              "    [theme=dark] .colab-df-convert {\n",
              "      background-color: #3B4455;\n",
              "      fill: #D2E3FC;\n",
              "    }\n",
              "\n",
              "    [theme=dark] .colab-df-convert:hover {\n",
              "      background-color: #434B5C;\n",
              "      box-shadow: 0px 1px 3px 1px rgba(0, 0, 0, 0.15);\n",
              "      filter: drop-shadow(0px 1px 2px rgba(0, 0, 0, 0.3));\n",
              "      fill: #FFFFFF;\n",
              "    }\n",
              "  </style>\n",
              "\n",
              "      <script>\n",
              "        const buttonEl =\n",
              "          document.querySelector('#df-0e6338b2-547c-4ce4-9310-130907f8db92 button.colab-df-convert');\n",
              "        buttonEl.style.display =\n",
              "          google.colab.kernel.accessAllowed ? 'block' : 'none';\n",
              "\n",
              "        async function convertToInteractive(key) {\n",
              "          const element = document.querySelector('#df-0e6338b2-547c-4ce4-9310-130907f8db92');\n",
              "          const dataTable =\n",
              "            await google.colab.kernel.invokeFunction('convertToInteractive',\n",
              "                                                     [key], {});\n",
              "          if (!dataTable) return;\n",
              "\n",
              "          const docLinkHtml = 'Like what you see? Visit the ' +\n",
              "            '<a target=\"_blank\" href=https://colab.research.google.com/notebooks/data_table.ipynb>data table notebook</a>'\n",
              "            + ' to learn more about interactive tables.';\n",
              "          element.innerHTML = '';\n",
              "          dataTable['output_type'] = 'display_data';\n",
              "          await google.colab.output.renderOutput(dataTable, element);\n",
              "          const docLink = document.createElement('div');\n",
              "          docLink.innerHTML = docLinkHtml;\n",
              "          element.appendChild(docLink);\n",
              "        }\n",
              "      </script>\n",
              "    </div>\n",
              "  </div>\n",
              "  "
            ]
          },
          "metadata": {},
          "execution_count": 5
        }
      ],
      "source": [
        "# 머지\n",
        "merge_total = pd.merge(keyword_pred_date, board_total_pred_gr, how='left', on='date')\n",
        "merge_total = pd.merge(merge_total, df_keyword, how='left', on='date')\n",
        "merge_total.to_csv(save_path + '_data_total.csv', index=False)\n",
        "merge_total"
      ]
    },
    {
      "cell_type": "code",
      "execution_count": null,
      "metadata": {
        "colab": {
          "base_uri": "https://localhost:8080/",
          "height": 424
        },
        "id": "bUkbye8UNnpk",
        "outputId": "e06fa624-1c7a-417b-bc5f-85590a1d4f6b"
      },
      "outputs": [
        {
          "output_type": "execute_result",
          "data": {
            "text/plain": [
              "          date    code                                       news_keyword  \\\n",
              "0   2022-01-28  373220  {'부정_단어': '하락,시가총액,삼성,사업,투자,미국,전망,실적,자금,분할', '...   \n",
              "1   2022-02-03  373220  {'부정_단어': '', '긍정_단어': '하락,미국,투자,배터리,긴축,금리,생산,...   \n",
              "2   2022-02-04  373220  {'부정_단어': '하락,매매,연휴', '긍정_단어': '배터리,미국,전기차,계약,...   \n",
              "3   2022-02-07  373220  {'부정_단어': '', '긍정_단어': '미국,투자,삼성,배터리,전자,자금,글로벌...   \n",
              "4   2022-02-08  373220  {'부정_단어': '투자,증가,확대,글로벌,전기차,이익,자금,목표,배터리,미국', ...   \n",
              "..         ...     ...                                                ...   \n",
              "201 2022-11-24  373220  {'부정_단어': '', '긍정_단어': '주식,투자,전자,차지,구매,보합,삼성,상...   \n",
              "202 2022-11-25  373220  {'부정_단어': '생산,배터리,공급,확보,파스,미네랄,미국,계약,체결,탄산', '...   \n",
              "203 2022-11-28  373220  {'부정_단어': '전자,삼성,재계,재무,생산,전기차,참여,투자,주식,확대', '긍...   \n",
              "204 2022-11-29  373220  {'부정_단어': '', '긍정_단어': '사업,전자,부문,기술,수상,미국,배터리,...   \n",
              "205 2022-11-30  373220  {'부정_단어': '', '긍정_단어': '미국,연구,소재,산학,변경,센터,개발,업...   \n",
              "\n",
              "                        comment updated_date  \n",
              "0                            -1   2023-01-18  \n",
              "1    {'neg': 0.47, 'pos': 0.53}   2023-01-18  \n",
              "2    {'neg': 0.47, 'pos': 0.53}   2023-01-18  \n",
              "3    {'neg': 0.43, 'pos': 0.57}   2023-01-18  \n",
              "4    {'neg': 0.43, 'pos': 0.57}   2023-01-18  \n",
              "..                          ...          ...  \n",
              "201  {'neg': 0.45, 'pos': 0.55}   2023-01-18  \n",
              "202  {'neg': 0.45, 'pos': 0.55}   2023-01-18  \n",
              "203  {'neg': 0.51, 'pos': 0.49}   2023-01-18  \n",
              "204  {'neg': 0.51, 'pos': 0.49}   2023-01-18  \n",
              "205  {'neg': 0.51, 'pos': 0.49}   2023-01-18  \n",
              "\n",
              "[206 rows x 5 columns]"
            ],
            "text/html": [
              "\n",
              "  <div id=\"df-de04e570-f88f-4ddd-ba18-17bcf8476113\">\n",
              "    <div class=\"colab-df-container\">\n",
              "      <div>\n",
              "<style scoped>\n",
              "    .dataframe tbody tr th:only-of-type {\n",
              "        vertical-align: middle;\n",
              "    }\n",
              "\n",
              "    .dataframe tbody tr th {\n",
              "        vertical-align: top;\n",
              "    }\n",
              "\n",
              "    .dataframe thead th {\n",
              "        text-align: right;\n",
              "    }\n",
              "</style>\n",
              "<table border=\"1\" class=\"dataframe\">\n",
              "  <thead>\n",
              "    <tr style=\"text-align: right;\">\n",
              "      <th></th>\n",
              "      <th>date</th>\n",
              "      <th>code</th>\n",
              "      <th>news_keyword</th>\n",
              "      <th>comment</th>\n",
              "      <th>updated_date</th>\n",
              "    </tr>\n",
              "  </thead>\n",
              "  <tbody>\n",
              "    <tr>\n",
              "      <th>0</th>\n",
              "      <td>2022-01-28</td>\n",
              "      <td>373220</td>\n",
              "      <td>{'부정_단어': '하락,시가총액,삼성,사업,투자,미국,전망,실적,자금,분할', '...</td>\n",
              "      <td>-1</td>\n",
              "      <td>2023-01-18</td>\n",
              "    </tr>\n",
              "    <tr>\n",
              "      <th>1</th>\n",
              "      <td>2022-02-03</td>\n",
              "      <td>373220</td>\n",
              "      <td>{'부정_단어': '', '긍정_단어': '하락,미국,투자,배터리,긴축,금리,생산,...</td>\n",
              "      <td>{'neg': 0.47, 'pos': 0.53}</td>\n",
              "      <td>2023-01-18</td>\n",
              "    </tr>\n",
              "    <tr>\n",
              "      <th>2</th>\n",
              "      <td>2022-02-04</td>\n",
              "      <td>373220</td>\n",
              "      <td>{'부정_단어': '하락,매매,연휴', '긍정_단어': '배터리,미국,전기차,계약,...</td>\n",
              "      <td>{'neg': 0.47, 'pos': 0.53}</td>\n",
              "      <td>2023-01-18</td>\n",
              "    </tr>\n",
              "    <tr>\n",
              "      <th>3</th>\n",
              "      <td>2022-02-07</td>\n",
              "      <td>373220</td>\n",
              "      <td>{'부정_단어': '', '긍정_단어': '미국,투자,삼성,배터리,전자,자금,글로벌...</td>\n",
              "      <td>{'neg': 0.43, 'pos': 0.57}</td>\n",
              "      <td>2023-01-18</td>\n",
              "    </tr>\n",
              "    <tr>\n",
              "      <th>4</th>\n",
              "      <td>2022-02-08</td>\n",
              "      <td>373220</td>\n",
              "      <td>{'부정_단어': '투자,증가,확대,글로벌,전기차,이익,자금,목표,배터리,미국', ...</td>\n",
              "      <td>{'neg': 0.43, 'pos': 0.57}</td>\n",
              "      <td>2023-01-18</td>\n",
              "    </tr>\n",
              "    <tr>\n",
              "      <th>...</th>\n",
              "      <td>...</td>\n",
              "      <td>...</td>\n",
              "      <td>...</td>\n",
              "      <td>...</td>\n",
              "      <td>...</td>\n",
              "    </tr>\n",
              "    <tr>\n",
              "      <th>201</th>\n",
              "      <td>2022-11-24</td>\n",
              "      <td>373220</td>\n",
              "      <td>{'부정_단어': '', '긍정_단어': '주식,투자,전자,차지,구매,보합,삼성,상...</td>\n",
              "      <td>{'neg': 0.45, 'pos': 0.55}</td>\n",
              "      <td>2023-01-18</td>\n",
              "    </tr>\n",
              "    <tr>\n",
              "      <th>202</th>\n",
              "      <td>2022-11-25</td>\n",
              "      <td>373220</td>\n",
              "      <td>{'부정_단어': '생산,배터리,공급,확보,파스,미네랄,미국,계약,체결,탄산', '...</td>\n",
              "      <td>{'neg': 0.45, 'pos': 0.55}</td>\n",
              "      <td>2023-01-18</td>\n",
              "    </tr>\n",
              "    <tr>\n",
              "      <th>203</th>\n",
              "      <td>2022-11-28</td>\n",
              "      <td>373220</td>\n",
              "      <td>{'부정_단어': '전자,삼성,재계,재무,생산,전기차,참여,투자,주식,확대', '긍...</td>\n",
              "      <td>{'neg': 0.51, 'pos': 0.49}</td>\n",
              "      <td>2023-01-18</td>\n",
              "    </tr>\n",
              "    <tr>\n",
              "      <th>204</th>\n",
              "      <td>2022-11-29</td>\n",
              "      <td>373220</td>\n",
              "      <td>{'부정_단어': '', '긍정_단어': '사업,전자,부문,기술,수상,미국,배터리,...</td>\n",
              "      <td>{'neg': 0.51, 'pos': 0.49}</td>\n",
              "      <td>2023-01-18</td>\n",
              "    </tr>\n",
              "    <tr>\n",
              "      <th>205</th>\n",
              "      <td>2022-11-30</td>\n",
              "      <td>373220</td>\n",
              "      <td>{'부정_단어': '', '긍정_단어': '미국,연구,소재,산학,변경,센터,개발,업...</td>\n",
              "      <td>{'neg': 0.51, 'pos': 0.49}</td>\n",
              "      <td>2023-01-18</td>\n",
              "    </tr>\n",
              "  </tbody>\n",
              "</table>\n",
              "<p>206 rows × 5 columns</p>\n",
              "</div>\n",
              "      <button class=\"colab-df-convert\" onclick=\"convertToInteractive('df-de04e570-f88f-4ddd-ba18-17bcf8476113')\"\n",
              "              title=\"Convert this dataframe to an interactive table.\"\n",
              "              style=\"display:none;\">\n",
              "        \n",
              "  <svg xmlns=\"http://www.w3.org/2000/svg\" height=\"24px\"viewBox=\"0 0 24 24\"\n",
              "       width=\"24px\">\n",
              "    <path d=\"M0 0h24v24H0V0z\" fill=\"none\"/>\n",
              "    <path d=\"M18.56 5.44l.94 2.06.94-2.06 2.06-.94-2.06-.94-.94-2.06-.94 2.06-2.06.94zm-11 1L8.5 8.5l.94-2.06 2.06-.94-2.06-.94L8.5 2.5l-.94 2.06-2.06.94zm10 10l.94 2.06.94-2.06 2.06-.94-2.06-.94-.94-2.06-.94 2.06-2.06.94z\"/><path d=\"M17.41 7.96l-1.37-1.37c-.4-.4-.92-.59-1.43-.59-.52 0-1.04.2-1.43.59L10.3 9.45l-7.72 7.72c-.78.78-.78 2.05 0 2.83L4 21.41c.39.39.9.59 1.41.59.51 0 1.02-.2 1.41-.59l7.78-7.78 2.81-2.81c.8-.78.8-2.07 0-2.86zM5.41 20L4 18.59l7.72-7.72 1.47 1.35L5.41 20z\"/>\n",
              "  </svg>\n",
              "      </button>\n",
              "      \n",
              "  <style>\n",
              "    .colab-df-container {\n",
              "      display:flex;\n",
              "      flex-wrap:wrap;\n",
              "      gap: 12px;\n",
              "    }\n",
              "\n",
              "    .colab-df-convert {\n",
              "      background-color: #E8F0FE;\n",
              "      border: none;\n",
              "      border-radius: 50%;\n",
              "      cursor: pointer;\n",
              "      display: none;\n",
              "      fill: #1967D2;\n",
              "      height: 32px;\n",
              "      padding: 0 0 0 0;\n",
              "      width: 32px;\n",
              "    }\n",
              "\n",
              "    .colab-df-convert:hover {\n",
              "      background-color: #E2EBFA;\n",
              "      box-shadow: 0px 1px 2px rgba(60, 64, 67, 0.3), 0px 1px 3px 1px rgba(60, 64, 67, 0.15);\n",
              "      fill: #174EA6;\n",
              "    }\n",
              "\n",
              "    [theme=dark] .colab-df-convert {\n",
              "      background-color: #3B4455;\n",
              "      fill: #D2E3FC;\n",
              "    }\n",
              "\n",
              "    [theme=dark] .colab-df-convert:hover {\n",
              "      background-color: #434B5C;\n",
              "      box-shadow: 0px 1px 3px 1px rgba(0, 0, 0, 0.15);\n",
              "      filter: drop-shadow(0px 1px 2px rgba(0, 0, 0, 0.3));\n",
              "      fill: #FFFFFF;\n",
              "    }\n",
              "  </style>\n",
              "\n",
              "      <script>\n",
              "        const buttonEl =\n",
              "          document.querySelector('#df-de04e570-f88f-4ddd-ba18-17bcf8476113 button.colab-df-convert');\n",
              "        buttonEl.style.display =\n",
              "          google.colab.kernel.accessAllowed ? 'block' : 'none';\n",
              "\n",
              "        async function convertToInteractive(key) {\n",
              "          const element = document.querySelector('#df-de04e570-f88f-4ddd-ba18-17bcf8476113');\n",
              "          const dataTable =\n",
              "            await google.colab.kernel.invokeFunction('convertToInteractive',\n",
              "                                                     [key], {});\n",
              "          if (!dataTable) return;\n",
              "\n",
              "          const docLinkHtml = 'Like what you see? Visit the ' +\n",
              "            '<a target=\"_blank\" href=https://colab.research.google.com/notebooks/data_table.ipynb>data table notebook</a>'\n",
              "            + ' to learn more about interactive tables.';\n",
              "          element.innerHTML = '';\n",
              "          dataTable['output_type'] = 'display_data';\n",
              "          await google.colab.output.renderOutput(dataTable, element);\n",
              "          const docLink = document.createElement('div');\n",
              "          docLink.innerHTML = docLinkHtml;\n",
              "          element.appendChild(docLink);\n",
              "        }\n",
              "      </script>\n",
              "    </div>\n",
              "  </div>\n",
              "  "
            ]
          },
          "metadata": {},
          "execution_count": 7
        }
      ],
      "source": [
        "# DB와 형식 맞추기\n",
        "from datetime import datetime \n",
        "merge_total['date'] = pd.to_datetime(merge_total['date'])\n",
        "merge_total['code'] = company_code\n",
        "merge_total['updated_date'] = datetime.today().strftime('%Y-%m-%d')\n",
        "merge_total.rename(columns={'keyword' : 'news_keyword', 'last_week': 'comment'}, inplace=True)\n",
        "merge_total_db = merge_total[['date','code','news_keyword','comment', 'updated_date']]\n",
        "merge_total_db.to_csv(save_path + f'_total_data_for_db.csv', index=False)\n",
        "merge_total_db"
      ]
    },
    {
      "cell_type": "code",
      "execution_count": null,
      "metadata": {
        "colab": {
          "base_uri": "https://localhost:8080/"
        },
        "id": "EfFTVk96Nvp8",
        "outputId": "fb215825-526e-42ae-9c98-430ea3aa1da4"
      },
      "outputs": [
        {
          "output_type": "stream",
          "name": "stdout",
          "text": [
            "<class 'pandas.core.frame.DataFrame'>\n",
            "Int64Index: 206 entries, 0 to 205\n",
            "Data columns (total 5 columns):\n",
            " #   Column        Non-Null Count  Dtype         \n",
            "---  ------        --------------  -----         \n",
            " 0   date          206 non-null    datetime64[ns]\n",
            " 1   code          206 non-null    object        \n",
            " 2   news_keyword  206 non-null    object        \n",
            " 3   comment       206 non-null    object        \n",
            " 4   updated_date  206 non-null    object        \n",
            "dtypes: datetime64[ns](1), object(4)\n",
            "memory usage: 9.7+ KB\n"
          ]
        }
      ],
      "source": [
        "merge_total_db.info()"
      ]
    },
    {
      "cell_type": "code",
      "source": [
        "merge_total_db[merge_total_db['comment'] == '-1']"
      ],
      "metadata": {
        "id": "021vbg3jedmJ",
        "colab": {
          "base_uri": "https://localhost:8080/",
          "height": 81
        },
        "outputId": "bba47151-3da7-44ae-cba1-310fd9232aeb"
      },
      "execution_count": null,
      "outputs": [
        {
          "output_type": "execute_result",
          "data": {
            "text/plain": [
              "        date    code                                       news_keyword  \\\n",
              "0 2022-01-28  373220  {'부정_단어': '하락,시가총액,삼성,사업,투자,미국,전망,실적,자금,분할', '...   \n",
              "\n",
              "  comment updated_date  \n",
              "0      -1   2023-01-18  "
            ],
            "text/html": [
              "\n",
              "  <div id=\"df-22417246-fcaf-475c-957e-daf089f6eacd\">\n",
              "    <div class=\"colab-df-container\">\n",
              "      <div>\n",
              "<style scoped>\n",
              "    .dataframe tbody tr th:only-of-type {\n",
              "        vertical-align: middle;\n",
              "    }\n",
              "\n",
              "    .dataframe tbody tr th {\n",
              "        vertical-align: top;\n",
              "    }\n",
              "\n",
              "    .dataframe thead th {\n",
              "        text-align: right;\n",
              "    }\n",
              "</style>\n",
              "<table border=\"1\" class=\"dataframe\">\n",
              "  <thead>\n",
              "    <tr style=\"text-align: right;\">\n",
              "      <th></th>\n",
              "      <th>date</th>\n",
              "      <th>code</th>\n",
              "      <th>news_keyword</th>\n",
              "      <th>comment</th>\n",
              "      <th>updated_date</th>\n",
              "    </tr>\n",
              "  </thead>\n",
              "  <tbody>\n",
              "    <tr>\n",
              "      <th>0</th>\n",
              "      <td>2022-01-28</td>\n",
              "      <td>373220</td>\n",
              "      <td>{'부정_단어': '하락,시가총액,삼성,사업,투자,미국,전망,실적,자금,분할', '...</td>\n",
              "      <td>-1</td>\n",
              "      <td>2023-01-18</td>\n",
              "    </tr>\n",
              "  </tbody>\n",
              "</table>\n",
              "</div>\n",
              "      <button class=\"colab-df-convert\" onclick=\"convertToInteractive('df-22417246-fcaf-475c-957e-daf089f6eacd')\"\n",
              "              title=\"Convert this dataframe to an interactive table.\"\n",
              "              style=\"display:none;\">\n",
              "        \n",
              "  <svg xmlns=\"http://www.w3.org/2000/svg\" height=\"24px\"viewBox=\"0 0 24 24\"\n",
              "       width=\"24px\">\n",
              "    <path d=\"M0 0h24v24H0V0z\" fill=\"none\"/>\n",
              "    <path d=\"M18.56 5.44l.94 2.06.94-2.06 2.06-.94-2.06-.94-.94-2.06-.94 2.06-2.06.94zm-11 1L8.5 8.5l.94-2.06 2.06-.94-2.06-.94L8.5 2.5l-.94 2.06-2.06.94zm10 10l.94 2.06.94-2.06 2.06-.94-2.06-.94-.94-2.06-.94 2.06-2.06.94z\"/><path d=\"M17.41 7.96l-1.37-1.37c-.4-.4-.92-.59-1.43-.59-.52 0-1.04.2-1.43.59L10.3 9.45l-7.72 7.72c-.78.78-.78 2.05 0 2.83L4 21.41c.39.39.9.59 1.41.59.51 0 1.02-.2 1.41-.59l7.78-7.78 2.81-2.81c.8-.78.8-2.07 0-2.86zM5.41 20L4 18.59l7.72-7.72 1.47 1.35L5.41 20z\"/>\n",
              "  </svg>\n",
              "      </button>\n",
              "      \n",
              "  <style>\n",
              "    .colab-df-container {\n",
              "      display:flex;\n",
              "      flex-wrap:wrap;\n",
              "      gap: 12px;\n",
              "    }\n",
              "\n",
              "    .colab-df-convert {\n",
              "      background-color: #E8F0FE;\n",
              "      border: none;\n",
              "      border-radius: 50%;\n",
              "      cursor: pointer;\n",
              "      display: none;\n",
              "      fill: #1967D2;\n",
              "      height: 32px;\n",
              "      padding: 0 0 0 0;\n",
              "      width: 32px;\n",
              "    }\n",
              "\n",
              "    .colab-df-convert:hover {\n",
              "      background-color: #E2EBFA;\n",
              "      box-shadow: 0px 1px 2px rgba(60, 64, 67, 0.3), 0px 1px 3px 1px rgba(60, 64, 67, 0.15);\n",
              "      fill: #174EA6;\n",
              "    }\n",
              "\n",
              "    [theme=dark] .colab-df-convert {\n",
              "      background-color: #3B4455;\n",
              "      fill: #D2E3FC;\n",
              "    }\n",
              "\n",
              "    [theme=dark] .colab-df-convert:hover {\n",
              "      background-color: #434B5C;\n",
              "      box-shadow: 0px 1px 3px 1px rgba(0, 0, 0, 0.15);\n",
              "      filter: drop-shadow(0px 1px 2px rgba(0, 0, 0, 0.3));\n",
              "      fill: #FFFFFF;\n",
              "    }\n",
              "  </style>\n",
              "\n",
              "      <script>\n",
              "        const buttonEl =\n",
              "          document.querySelector('#df-22417246-fcaf-475c-957e-daf089f6eacd button.colab-df-convert');\n",
              "        buttonEl.style.display =\n",
              "          google.colab.kernel.accessAllowed ? 'block' : 'none';\n",
              "\n",
              "        async function convertToInteractive(key) {\n",
              "          const element = document.querySelector('#df-22417246-fcaf-475c-957e-daf089f6eacd');\n",
              "          const dataTable =\n",
              "            await google.colab.kernel.invokeFunction('convertToInteractive',\n",
              "                                                     [key], {});\n",
              "          if (!dataTable) return;\n",
              "\n",
              "          const docLinkHtml = 'Like what you see? Visit the ' +\n",
              "            '<a target=\"_blank\" href=https://colab.research.google.com/notebooks/data_table.ipynb>data table notebook</a>'\n",
              "            + ' to learn more about interactive tables.';\n",
              "          element.innerHTML = '';\n",
              "          dataTable['output_type'] = 'display_data';\n",
              "          await google.colab.output.renderOutput(dataTable, element);\n",
              "          const docLink = document.createElement('div');\n",
              "          docLink.innerHTML = docLinkHtml;\n",
              "          element.appendChild(docLink);\n",
              "        }\n",
              "      </script>\n",
              "    </div>\n",
              "  </div>\n",
              "  "
            ]
          },
          "metadata": {},
          "execution_count": 9
        }
      ]
    },
    {
      "cell_type": "code",
      "source": [
        "merge_total_db.loc[merge_total_db['comment'].isna(),:]"
      ],
      "metadata": {
        "colab": {
          "base_uri": "https://localhost:8080/",
          "height": 49
        },
        "id": "yTFC5eBfgXUm",
        "outputId": "0967a0f8-8eee-4be4-ba2d-862541429bc5"
      },
      "execution_count": null,
      "outputs": [
        {
          "output_type": "execute_result",
          "data": {
            "text/plain": [
              "Empty DataFrame\n",
              "Columns: [date, code, news_keyword, comment, updated_date]\n",
              "Index: []"
            ],
            "text/html": [
              "\n",
              "  <div id=\"df-57aa1c87-55ed-44a5-b63a-e748f7a4f7b5\">\n",
              "    <div class=\"colab-df-container\">\n",
              "      <div>\n",
              "<style scoped>\n",
              "    .dataframe tbody tr th:only-of-type {\n",
              "        vertical-align: middle;\n",
              "    }\n",
              "\n",
              "    .dataframe tbody tr th {\n",
              "        vertical-align: top;\n",
              "    }\n",
              "\n",
              "    .dataframe thead th {\n",
              "        text-align: right;\n",
              "    }\n",
              "</style>\n",
              "<table border=\"1\" class=\"dataframe\">\n",
              "  <thead>\n",
              "    <tr style=\"text-align: right;\">\n",
              "      <th></th>\n",
              "      <th>date</th>\n",
              "      <th>code</th>\n",
              "      <th>news_keyword</th>\n",
              "      <th>comment</th>\n",
              "      <th>updated_date</th>\n",
              "    </tr>\n",
              "  </thead>\n",
              "  <tbody>\n",
              "  </tbody>\n",
              "</table>\n",
              "</div>\n",
              "      <button class=\"colab-df-convert\" onclick=\"convertToInteractive('df-57aa1c87-55ed-44a5-b63a-e748f7a4f7b5')\"\n",
              "              title=\"Convert this dataframe to an interactive table.\"\n",
              "              style=\"display:none;\">\n",
              "        \n",
              "  <svg xmlns=\"http://www.w3.org/2000/svg\" height=\"24px\"viewBox=\"0 0 24 24\"\n",
              "       width=\"24px\">\n",
              "    <path d=\"M0 0h24v24H0V0z\" fill=\"none\"/>\n",
              "    <path d=\"M18.56 5.44l.94 2.06.94-2.06 2.06-.94-2.06-.94-.94-2.06-.94 2.06-2.06.94zm-11 1L8.5 8.5l.94-2.06 2.06-.94-2.06-.94L8.5 2.5l-.94 2.06-2.06.94zm10 10l.94 2.06.94-2.06 2.06-.94-2.06-.94-.94-2.06-.94 2.06-2.06.94z\"/><path d=\"M17.41 7.96l-1.37-1.37c-.4-.4-.92-.59-1.43-.59-.52 0-1.04.2-1.43.59L10.3 9.45l-7.72 7.72c-.78.78-.78 2.05 0 2.83L4 21.41c.39.39.9.59 1.41.59.51 0 1.02-.2 1.41-.59l7.78-7.78 2.81-2.81c.8-.78.8-2.07 0-2.86zM5.41 20L4 18.59l7.72-7.72 1.47 1.35L5.41 20z\"/>\n",
              "  </svg>\n",
              "      </button>\n",
              "      \n",
              "  <style>\n",
              "    .colab-df-container {\n",
              "      display:flex;\n",
              "      flex-wrap:wrap;\n",
              "      gap: 12px;\n",
              "    }\n",
              "\n",
              "    .colab-df-convert {\n",
              "      background-color: #E8F0FE;\n",
              "      border: none;\n",
              "      border-radius: 50%;\n",
              "      cursor: pointer;\n",
              "      display: none;\n",
              "      fill: #1967D2;\n",
              "      height: 32px;\n",
              "      padding: 0 0 0 0;\n",
              "      width: 32px;\n",
              "    }\n",
              "\n",
              "    .colab-df-convert:hover {\n",
              "      background-color: #E2EBFA;\n",
              "      box-shadow: 0px 1px 2px rgba(60, 64, 67, 0.3), 0px 1px 3px 1px rgba(60, 64, 67, 0.15);\n",
              "      fill: #174EA6;\n",
              "    }\n",
              "\n",
              "    [theme=dark] .colab-df-convert {\n",
              "      background-color: #3B4455;\n",
              "      fill: #D2E3FC;\n",
              "    }\n",
              "\n",
              "    [theme=dark] .colab-df-convert:hover {\n",
              "      background-color: #434B5C;\n",
              "      box-shadow: 0px 1px 3px 1px rgba(0, 0, 0, 0.15);\n",
              "      filter: drop-shadow(0px 1px 2px rgba(0, 0, 0, 0.3));\n",
              "      fill: #FFFFFF;\n",
              "    }\n",
              "  </style>\n",
              "\n",
              "      <script>\n",
              "        const buttonEl =\n",
              "          document.querySelector('#df-57aa1c87-55ed-44a5-b63a-e748f7a4f7b5 button.colab-df-convert');\n",
              "        buttonEl.style.display =\n",
              "          google.colab.kernel.accessAllowed ? 'block' : 'none';\n",
              "\n",
              "        async function convertToInteractive(key) {\n",
              "          const element = document.querySelector('#df-57aa1c87-55ed-44a5-b63a-e748f7a4f7b5');\n",
              "          const dataTable =\n",
              "            await google.colab.kernel.invokeFunction('convertToInteractive',\n",
              "                                                     [key], {});\n",
              "          if (!dataTable) return;\n",
              "\n",
              "          const docLinkHtml = 'Like what you see? Visit the ' +\n",
              "            '<a target=\"_blank\" href=https://colab.research.google.com/notebooks/data_table.ipynb>data table notebook</a>'\n",
              "            + ' to learn more about interactive tables.';\n",
              "          element.innerHTML = '';\n",
              "          dataTable['output_type'] = 'display_data';\n",
              "          await google.colab.output.renderOutput(dataTable, element);\n",
              "          const docLink = document.createElement('div');\n",
              "          docLink.innerHTML = docLinkHtml;\n",
              "          element.appendChild(docLink);\n",
              "        }\n",
              "      </script>\n",
              "    </div>\n",
              "  </div>\n",
              "  "
            ]
          },
          "metadata": {},
          "execution_count": 10
        }
      ]
    },
    {
      "cell_type": "code",
      "execution_count": null,
      "metadata": {
        "colab": {
          "base_uri": "https://localhost:8080/",
          "height": 528
        },
        "id": "fneoitXaURwC",
        "outputId": "271df42c-7c5c-49a7-d295-d99fd77e2463"
      },
      "outputs": [
        {
          "output_type": "stream",
          "name": "stderr",
          "text": [
            "<ipython-input-33-bfb0385aabd8>:4: SettingWithCopyWarning: \n",
            "A value is trying to be set on a copy of a slice from a DataFrame.\n",
            "Try using .loc[row_indexer,col_indexer] = value instead\n",
            "\n",
            "See the caveats in the documentation: https://pandas.pydata.org/pandas-docs/stable/user_guide/indexing.html#returning-a-view-versus-a-copy\n",
            "  merge_total_tableau['news_cnt'] = df_sent.sort_values('date').groupby('date')[['news_id']].nunique()['news_id'].values\n"
          ]
        },
        {
          "output_type": "execute_result",
          "data": {
            "text/plain": [
              "          date  tableau_pred  news_cnt\n",
              "0   2022-01-28          -1.0        79\n",
              "1   2022-02-03           1.0       122\n",
              "2   2022-02-04           1.0        40\n",
              "3   2022-02-07           1.0        69\n",
              "4   2022-02-08          -0.5        68\n",
              "..         ...           ...       ...\n",
              "201 2022-11-24           0.5        36\n",
              "202 2022-11-25           0.0        38\n",
              "203 2022-11-28          -0.5        29\n",
              "204 2022-11-29           0.5        16\n",
              "205 2022-11-30           1.0        20\n",
              "\n",
              "[206 rows x 3 columns]"
            ],
            "text/html": [
              "\n",
              "  <div id=\"df-1a88d44e-ac98-45ec-a91a-fd01d1691650\">\n",
              "    <div class=\"colab-df-container\">\n",
              "      <div>\n",
              "<style scoped>\n",
              "    .dataframe tbody tr th:only-of-type {\n",
              "        vertical-align: middle;\n",
              "    }\n",
              "\n",
              "    .dataframe tbody tr th {\n",
              "        vertical-align: top;\n",
              "    }\n",
              "\n",
              "    .dataframe thead th {\n",
              "        text-align: right;\n",
              "    }\n",
              "</style>\n",
              "<table border=\"1\" class=\"dataframe\">\n",
              "  <thead>\n",
              "    <tr style=\"text-align: right;\">\n",
              "      <th></th>\n",
              "      <th>date</th>\n",
              "      <th>tableau_pred</th>\n",
              "      <th>news_cnt</th>\n",
              "    </tr>\n",
              "  </thead>\n",
              "  <tbody>\n",
              "    <tr>\n",
              "      <th>0</th>\n",
              "      <td>2022-01-28</td>\n",
              "      <td>-1.0</td>\n",
              "      <td>79</td>\n",
              "    </tr>\n",
              "    <tr>\n",
              "      <th>1</th>\n",
              "      <td>2022-02-03</td>\n",
              "      <td>1.0</td>\n",
              "      <td>122</td>\n",
              "    </tr>\n",
              "    <tr>\n",
              "      <th>2</th>\n",
              "      <td>2022-02-04</td>\n",
              "      <td>1.0</td>\n",
              "      <td>40</td>\n",
              "    </tr>\n",
              "    <tr>\n",
              "      <th>3</th>\n",
              "      <td>2022-02-07</td>\n",
              "      <td>1.0</td>\n",
              "      <td>69</td>\n",
              "    </tr>\n",
              "    <tr>\n",
              "      <th>4</th>\n",
              "      <td>2022-02-08</td>\n",
              "      <td>-0.5</td>\n",
              "      <td>68</td>\n",
              "    </tr>\n",
              "    <tr>\n",
              "      <th>...</th>\n",
              "      <td>...</td>\n",
              "      <td>...</td>\n",
              "      <td>...</td>\n",
              "    </tr>\n",
              "    <tr>\n",
              "      <th>201</th>\n",
              "      <td>2022-11-24</td>\n",
              "      <td>0.5</td>\n",
              "      <td>36</td>\n",
              "    </tr>\n",
              "    <tr>\n",
              "      <th>202</th>\n",
              "      <td>2022-11-25</td>\n",
              "      <td>0.0</td>\n",
              "      <td>38</td>\n",
              "    </tr>\n",
              "    <tr>\n",
              "      <th>203</th>\n",
              "      <td>2022-11-28</td>\n",
              "      <td>-0.5</td>\n",
              "      <td>29</td>\n",
              "    </tr>\n",
              "    <tr>\n",
              "      <th>204</th>\n",
              "      <td>2022-11-29</td>\n",
              "      <td>0.5</td>\n",
              "      <td>16</td>\n",
              "    </tr>\n",
              "    <tr>\n",
              "      <th>205</th>\n",
              "      <td>2022-11-30</td>\n",
              "      <td>1.0</td>\n",
              "      <td>20</td>\n",
              "    </tr>\n",
              "  </tbody>\n",
              "</table>\n",
              "<p>206 rows × 3 columns</p>\n",
              "</div>\n",
              "      <button class=\"colab-df-convert\" onclick=\"convertToInteractive('df-1a88d44e-ac98-45ec-a91a-fd01d1691650')\"\n",
              "              title=\"Convert this dataframe to an interactive table.\"\n",
              "              style=\"display:none;\">\n",
              "        \n",
              "  <svg xmlns=\"http://www.w3.org/2000/svg\" height=\"24px\"viewBox=\"0 0 24 24\"\n",
              "       width=\"24px\">\n",
              "    <path d=\"M0 0h24v24H0V0z\" fill=\"none\"/>\n",
              "    <path d=\"M18.56 5.44l.94 2.06.94-2.06 2.06-.94-2.06-.94-.94-2.06-.94 2.06-2.06.94zm-11 1L8.5 8.5l.94-2.06 2.06-.94-2.06-.94L8.5 2.5l-.94 2.06-2.06.94zm10 10l.94 2.06.94-2.06 2.06-.94-2.06-.94-.94-2.06-.94 2.06-2.06.94z\"/><path d=\"M17.41 7.96l-1.37-1.37c-.4-.4-.92-.59-1.43-.59-.52 0-1.04.2-1.43.59L10.3 9.45l-7.72 7.72c-.78.78-.78 2.05 0 2.83L4 21.41c.39.39.9.59 1.41.59.51 0 1.02-.2 1.41-.59l7.78-7.78 2.81-2.81c.8-.78.8-2.07 0-2.86zM5.41 20L4 18.59l7.72-7.72 1.47 1.35L5.41 20z\"/>\n",
              "  </svg>\n",
              "      </button>\n",
              "      \n",
              "  <style>\n",
              "    .colab-df-container {\n",
              "      display:flex;\n",
              "      flex-wrap:wrap;\n",
              "      gap: 12px;\n",
              "    }\n",
              "\n",
              "    .colab-df-convert {\n",
              "      background-color: #E8F0FE;\n",
              "      border: none;\n",
              "      border-radius: 50%;\n",
              "      cursor: pointer;\n",
              "      display: none;\n",
              "      fill: #1967D2;\n",
              "      height: 32px;\n",
              "      padding: 0 0 0 0;\n",
              "      width: 32px;\n",
              "    }\n",
              "\n",
              "    .colab-df-convert:hover {\n",
              "      background-color: #E2EBFA;\n",
              "      box-shadow: 0px 1px 2px rgba(60, 64, 67, 0.3), 0px 1px 3px 1px rgba(60, 64, 67, 0.15);\n",
              "      fill: #174EA6;\n",
              "    }\n",
              "\n",
              "    [theme=dark] .colab-df-convert {\n",
              "      background-color: #3B4455;\n",
              "      fill: #D2E3FC;\n",
              "    }\n",
              "\n",
              "    [theme=dark] .colab-df-convert:hover {\n",
              "      background-color: #434B5C;\n",
              "      box-shadow: 0px 1px 3px 1px rgba(0, 0, 0, 0.15);\n",
              "      filter: drop-shadow(0px 1px 2px rgba(0, 0, 0, 0.3));\n",
              "      fill: #FFFFFF;\n",
              "    }\n",
              "  </style>\n",
              "\n",
              "      <script>\n",
              "        const buttonEl =\n",
              "          document.querySelector('#df-1a88d44e-ac98-45ec-a91a-fd01d1691650 button.colab-df-convert');\n",
              "        buttonEl.style.display =\n",
              "          google.colab.kernel.accessAllowed ? 'block' : 'none';\n",
              "\n",
              "        async function convertToInteractive(key) {\n",
              "          const element = document.querySelector('#df-1a88d44e-ac98-45ec-a91a-fd01d1691650');\n",
              "          const dataTable =\n",
              "            await google.colab.kernel.invokeFunction('convertToInteractive',\n",
              "                                                     [key], {});\n",
              "          if (!dataTable) return;\n",
              "\n",
              "          const docLinkHtml = 'Like what you see? Visit the ' +\n",
              "            '<a target=\"_blank\" href=https://colab.research.google.com/notebooks/data_table.ipynb>data table notebook</a>'\n",
              "            + ' to learn more about interactive tables.';\n",
              "          element.innerHTML = '';\n",
              "          dataTable['output_type'] = 'display_data';\n",
              "          await google.colab.output.renderOutput(dataTable, element);\n",
              "          const docLink = document.createElement('div');\n",
              "          docLink.innerHTML = docLinkHtml;\n",
              "          element.appendChild(docLink);\n",
              "        }\n",
              "      </script>\n",
              "    </div>\n",
              "  </div>\n",
              "  "
            ]
          },
          "metadata": {},
          "execution_count": 33
        }
      ],
      "source": [
        "# 태블로 데이터 저장\n",
        "merge_total['tableau_pred'] = (merge_total['pred_target'] - 2) / 2\n",
        "merge_total_tableau = merge_total[['date', 'tableau_pred']]\n",
        "merge_total_tableau['news_cnt'] = df_sent.sort_values('date').groupby('date')[['news_id']].nunique()['news_id'].values\n",
        "merge_total_tableau.to_csv(save_path + f'_test_pred_for_tableau.csv', index=False)\n",
        "merge_total_tableau"
      ]
    }
  ],
  "metadata": {
    "colab": {
      "provenance": []
    },
    "gpuClass": "premium",
    "kernelspec": {
      "display_name": "Python 3",
      "name": "python3"
    },
    "language_info": {
      "name": "python"
    },
    "widgets": {
      "application/vnd.jupyter.widget-state+json": {
        "00007d4bc9e84ba399f2b69ccaec0171": {
          "model_module": "@jupyter-widgets/controls",
          "model_module_version": "1.5.0",
          "model_name": "HTMLModel",
          "state": {
            "_dom_classes": [],
            "_model_module": "@jupyter-widgets/controls",
            "_model_module_version": "1.5.0",
            "_model_name": "HTMLModel",
            "_view_count": null,
            "_view_module": "@jupyter-widgets/controls",
            "_view_module_version": "1.5.0",
            "_view_name": "HTMLView",
            "description": "",
            "description_tooltip": null,
            "layout": "IPY_MODEL_2b03d813cbe84a839ba01fdbcdeba5ae",
            "placeholder": "​",
            "style": "IPY_MODEL_f05a430b14194709806d4bc2609c4c10",
            "value": "100%"
          }
        },
        "16e320a8dbff46569ba97a04bfc35e67": {
          "model_module": "@jupyter-widgets/controls",
          "model_module_version": "1.5.0",
          "model_name": "FloatProgressModel",
          "state": {
            "_dom_classes": [],
            "_model_module": "@jupyter-widgets/controls",
            "_model_module_version": "1.5.0",
            "_model_name": "FloatProgressModel",
            "_view_count": null,
            "_view_module": "@jupyter-widgets/controls",
            "_view_module_version": "1.5.0",
            "_view_name": "ProgressView",
            "bar_style": "success",
            "description": "",
            "description_tooltip": null,
            "layout": "IPY_MODEL_4b2f640825484340861d241e3547981e",
            "max": 5953,
            "min": 0,
            "orientation": "horizontal",
            "style": "IPY_MODEL_5a43c2e88cf44b00b3d13d341163dfe0",
            "value": 5953
          }
        },
        "2b03d813cbe84a839ba01fdbcdeba5ae": {
          "model_module": "@jupyter-widgets/base",
          "model_module_version": "1.2.0",
          "model_name": "LayoutModel",
          "state": {
            "_model_module": "@jupyter-widgets/base",
            "_model_module_version": "1.2.0",
            "_model_name": "LayoutModel",
            "_view_count": null,
            "_view_module": "@jupyter-widgets/base",
            "_view_module_version": "1.2.0",
            "_view_name": "LayoutView",
            "align_content": null,
            "align_items": null,
            "align_self": null,
            "border": null,
            "bottom": null,
            "display": null,
            "flex": null,
            "flex_flow": null,
            "grid_area": null,
            "grid_auto_columns": null,
            "grid_auto_flow": null,
            "grid_auto_rows": null,
            "grid_column": null,
            "grid_gap": null,
            "grid_row": null,
            "grid_template_areas": null,
            "grid_template_columns": null,
            "grid_template_rows": null,
            "height": null,
            "justify_content": null,
            "justify_items": null,
            "left": null,
            "margin": null,
            "max_height": null,
            "max_width": null,
            "min_height": null,
            "min_width": null,
            "object_fit": null,
            "object_position": null,
            "order": null,
            "overflow": null,
            "overflow_x": null,
            "overflow_y": null,
            "padding": null,
            "right": null,
            "top": null,
            "visibility": null,
            "width": null
          }
        },
        "4859eb5c52d148d994731b07d2bac389": {
          "model_module": "@jupyter-widgets/base",
          "model_module_version": "1.2.0",
          "model_name": "LayoutModel",
          "state": {
            "_model_module": "@jupyter-widgets/base",
            "_model_module_version": "1.2.0",
            "_model_name": "LayoutModel",
            "_view_count": null,
            "_view_module": "@jupyter-widgets/base",
            "_view_module_version": "1.2.0",
            "_view_name": "LayoutView",
            "align_content": null,
            "align_items": null,
            "align_self": null,
            "border": null,
            "bottom": null,
            "display": null,
            "flex": null,
            "flex_flow": null,
            "grid_area": null,
            "grid_auto_columns": null,
            "grid_auto_flow": null,
            "grid_auto_rows": null,
            "grid_column": null,
            "grid_gap": null,
            "grid_row": null,
            "grid_template_areas": null,
            "grid_template_columns": null,
            "grid_template_rows": null,
            "height": null,
            "justify_content": null,
            "justify_items": null,
            "left": null,
            "margin": null,
            "max_height": null,
            "max_width": null,
            "min_height": null,
            "min_width": null,
            "object_fit": null,
            "object_position": null,
            "order": null,
            "overflow": null,
            "overflow_x": null,
            "overflow_y": null,
            "padding": null,
            "right": null,
            "top": null,
            "visibility": null,
            "width": null
          }
        },
        "4b2f640825484340861d241e3547981e": {
          "model_module": "@jupyter-widgets/base",
          "model_module_version": "1.2.0",
          "model_name": "LayoutModel",
          "state": {
            "_model_module": "@jupyter-widgets/base",
            "_model_module_version": "1.2.0",
            "_model_name": "LayoutModel",
            "_view_count": null,
            "_view_module": "@jupyter-widgets/base",
            "_view_module_version": "1.2.0",
            "_view_name": "LayoutView",
            "align_content": null,
            "align_items": null,
            "align_self": null,
            "border": null,
            "bottom": null,
            "display": null,
            "flex": null,
            "flex_flow": null,
            "grid_area": null,
            "grid_auto_columns": null,
            "grid_auto_flow": null,
            "grid_auto_rows": null,
            "grid_column": null,
            "grid_gap": null,
            "grid_row": null,
            "grid_template_areas": null,
            "grid_template_columns": null,
            "grid_template_rows": null,
            "height": null,
            "justify_content": null,
            "justify_items": null,
            "left": null,
            "margin": null,
            "max_height": null,
            "max_width": null,
            "min_height": null,
            "min_width": null,
            "object_fit": null,
            "object_position": null,
            "order": null,
            "overflow": null,
            "overflow_x": null,
            "overflow_y": null,
            "padding": null,
            "right": null,
            "top": null,
            "visibility": null,
            "width": null
          }
        },
        "5a43c2e88cf44b00b3d13d341163dfe0": {
          "model_module": "@jupyter-widgets/controls",
          "model_module_version": "1.5.0",
          "model_name": "ProgressStyleModel",
          "state": {
            "_model_module": "@jupyter-widgets/controls",
            "_model_module_version": "1.5.0",
            "_model_name": "ProgressStyleModel",
            "_view_count": null,
            "_view_module": "@jupyter-widgets/base",
            "_view_module_version": "1.2.0",
            "_view_name": "StyleView",
            "bar_color": null,
            "description_width": ""
          }
        },
        "765e48e71bb34020944f6449a99801f0": {
          "model_module": "@jupyter-widgets/controls",
          "model_module_version": "1.5.0",
          "model_name": "HBoxModel",
          "state": {
            "_dom_classes": [],
            "_model_module": "@jupyter-widgets/controls",
            "_model_module_version": "1.5.0",
            "_model_name": "HBoxModel",
            "_view_count": null,
            "_view_module": "@jupyter-widgets/controls",
            "_view_module_version": "1.5.0",
            "_view_name": "HBoxView",
            "box_style": "",
            "children": [
              "IPY_MODEL_00007d4bc9e84ba399f2b69ccaec0171",
              "IPY_MODEL_16e320a8dbff46569ba97a04bfc35e67",
              "IPY_MODEL_a0c93019b9634c8cb618d24ce71b7402"
            ],
            "layout": "IPY_MODEL_de4a5f5e3f2c4eb3b393242ce739182e"
          }
        },
        "97a9f9e1c2904f999265e49dbe889ad7": {
          "model_module": "@jupyter-widgets/controls",
          "model_module_version": "1.5.0",
          "model_name": "DescriptionStyleModel",
          "state": {
            "_model_module": "@jupyter-widgets/controls",
            "_model_module_version": "1.5.0",
            "_model_name": "DescriptionStyleModel",
            "_view_count": null,
            "_view_module": "@jupyter-widgets/base",
            "_view_module_version": "1.2.0",
            "_view_name": "StyleView",
            "description_width": ""
          }
        },
        "a0c93019b9634c8cb618d24ce71b7402": {
          "model_module": "@jupyter-widgets/controls",
          "model_module_version": "1.5.0",
          "model_name": "HTMLModel",
          "state": {
            "_dom_classes": [],
            "_model_module": "@jupyter-widgets/controls",
            "_model_module_version": "1.5.0",
            "_model_name": "HTMLModel",
            "_view_count": null,
            "_view_module": "@jupyter-widgets/controls",
            "_view_module_version": "1.5.0",
            "_view_name": "HTMLView",
            "description": "",
            "description_tooltip": null,
            "layout": "IPY_MODEL_4859eb5c52d148d994731b07d2bac389",
            "placeholder": "​",
            "style": "IPY_MODEL_97a9f9e1c2904f999265e49dbe889ad7",
            "value": " 5953/5953 [05:42&lt;00:00, 21.81it/s]"
          }
        },
        "de4a5f5e3f2c4eb3b393242ce739182e": {
          "model_module": "@jupyter-widgets/base",
          "model_module_version": "1.2.0",
          "model_name": "LayoutModel",
          "state": {
            "_model_module": "@jupyter-widgets/base",
            "_model_module_version": "1.2.0",
            "_model_name": "LayoutModel",
            "_view_count": null,
            "_view_module": "@jupyter-widgets/base",
            "_view_module_version": "1.2.0",
            "_view_name": "LayoutView",
            "align_content": null,
            "align_items": null,
            "align_self": null,
            "border": null,
            "bottom": null,
            "display": null,
            "flex": null,
            "flex_flow": null,
            "grid_area": null,
            "grid_auto_columns": null,
            "grid_auto_flow": null,
            "grid_auto_rows": null,
            "grid_column": null,
            "grid_gap": null,
            "grid_row": null,
            "grid_template_areas": null,
            "grid_template_columns": null,
            "grid_template_rows": null,
            "height": null,
            "justify_content": null,
            "justify_items": null,
            "left": null,
            "margin": null,
            "max_height": null,
            "max_width": null,
            "min_height": null,
            "min_width": null,
            "object_fit": null,
            "object_position": null,
            "order": null,
            "overflow": null,
            "overflow_x": null,
            "overflow_y": null,
            "padding": null,
            "right": null,
            "top": null,
            "visibility": null,
            "width": null
          }
        },
        "f05a430b14194709806d4bc2609c4c10": {
          "model_module": "@jupyter-widgets/controls",
          "model_module_version": "1.5.0",
          "model_name": "DescriptionStyleModel",
          "state": {
            "_model_module": "@jupyter-widgets/controls",
            "_model_module_version": "1.5.0",
            "_model_name": "DescriptionStyleModel",
            "_view_count": null,
            "_view_module": "@jupyter-widgets/base",
            "_view_module_version": "1.2.0",
            "_view_name": "StyleView",
            "description_width": ""
          }
        },
        "3e7fce46758349fcaa317326d83dc671": {
          "model_module": "@jupyter-widgets/controls",
          "model_name": "HBoxModel",
          "model_module_version": "1.5.0",
          "state": {
            "_dom_classes": [],
            "_model_module": "@jupyter-widgets/controls",
            "_model_module_version": "1.5.0",
            "_model_name": "HBoxModel",
            "_view_count": null,
            "_view_module": "@jupyter-widgets/controls",
            "_view_module_version": "1.5.0",
            "_view_name": "HBoxView",
            "box_style": "",
            "children": [
              "IPY_MODEL_2a7ca803fb3845238d3aa45136a5a193",
              "IPY_MODEL_05861c46ce884180b6772629c339f221",
              "IPY_MODEL_e676ae02ad854fe6b699363536726250"
            ],
            "layout": "IPY_MODEL_b2d92de2bb19441bab9cf466980f3d50"
          }
        },
        "2a7ca803fb3845238d3aa45136a5a193": {
          "model_module": "@jupyter-widgets/controls",
          "model_name": "HTMLModel",
          "model_module_version": "1.5.0",
          "state": {
            "_dom_classes": [],
            "_model_module": "@jupyter-widgets/controls",
            "_model_module_version": "1.5.0",
            "_model_name": "HTMLModel",
            "_view_count": null,
            "_view_module": "@jupyter-widgets/controls",
            "_view_module_version": "1.5.0",
            "_view_name": "HTMLView",
            "description": "",
            "description_tooltip": null,
            "layout": "IPY_MODEL_749607910962455eb429c61e75bb0a48",
            "placeholder": "​",
            "style": "IPY_MODEL_13d6634e06ff4b1ab1a79d78876f7e1b",
            "value": "100%"
          }
        },
        "05861c46ce884180b6772629c339f221": {
          "model_module": "@jupyter-widgets/controls",
          "model_name": "FloatProgressModel",
          "model_module_version": "1.5.0",
          "state": {
            "_dom_classes": [],
            "_model_module": "@jupyter-widgets/controls",
            "_model_module_version": "1.5.0",
            "_model_name": "FloatProgressModel",
            "_view_count": null,
            "_view_module": "@jupyter-widgets/controls",
            "_view_module_version": "1.5.0",
            "_view_name": "ProgressView",
            "bar_style": "success",
            "description": "",
            "description_tooltip": null,
            "layout": "IPY_MODEL_da961cfa16284e3583bc92268420e8e9",
            "max": 43621,
            "min": 0,
            "orientation": "horizontal",
            "style": "IPY_MODEL_c22f9eec68c342559a76fe21cd21bb1f",
            "value": 43621
          }
        },
        "e676ae02ad854fe6b699363536726250": {
          "model_module": "@jupyter-widgets/controls",
          "model_name": "HTMLModel",
          "model_module_version": "1.5.0",
          "state": {
            "_dom_classes": [],
            "_model_module": "@jupyter-widgets/controls",
            "_model_module_version": "1.5.0",
            "_model_name": "HTMLModel",
            "_view_count": null,
            "_view_module": "@jupyter-widgets/controls",
            "_view_module_version": "1.5.0",
            "_view_name": "HTMLView",
            "description": "",
            "description_tooltip": null,
            "layout": "IPY_MODEL_9c49871de2eb4c8e94f079f8cff86bb7",
            "placeholder": "​",
            "style": "IPY_MODEL_8341f83729774044ae1195e5f350632d",
            "value": " 43621/43621 [10:18&lt;00:00, 66.60it/s]"
          }
        },
        "b2d92de2bb19441bab9cf466980f3d50": {
          "model_module": "@jupyter-widgets/base",
          "model_name": "LayoutModel",
          "model_module_version": "1.2.0",
          "state": {
            "_model_module": "@jupyter-widgets/base",
            "_model_module_version": "1.2.0",
            "_model_name": "LayoutModel",
            "_view_count": null,
            "_view_module": "@jupyter-widgets/base",
            "_view_module_version": "1.2.0",
            "_view_name": "LayoutView",
            "align_content": null,
            "align_items": null,
            "align_self": null,
            "border": null,
            "bottom": null,
            "display": null,
            "flex": null,
            "flex_flow": null,
            "grid_area": null,
            "grid_auto_columns": null,
            "grid_auto_flow": null,
            "grid_auto_rows": null,
            "grid_column": null,
            "grid_gap": null,
            "grid_row": null,
            "grid_template_areas": null,
            "grid_template_columns": null,
            "grid_template_rows": null,
            "height": null,
            "justify_content": null,
            "justify_items": null,
            "left": null,
            "margin": null,
            "max_height": null,
            "max_width": null,
            "min_height": null,
            "min_width": null,
            "object_fit": null,
            "object_position": null,
            "order": null,
            "overflow": null,
            "overflow_x": null,
            "overflow_y": null,
            "padding": null,
            "right": null,
            "top": null,
            "visibility": null,
            "width": null
          }
        },
        "749607910962455eb429c61e75bb0a48": {
          "model_module": "@jupyter-widgets/base",
          "model_name": "LayoutModel",
          "model_module_version": "1.2.0",
          "state": {
            "_model_module": "@jupyter-widgets/base",
            "_model_module_version": "1.2.0",
            "_model_name": "LayoutModel",
            "_view_count": null,
            "_view_module": "@jupyter-widgets/base",
            "_view_module_version": "1.2.0",
            "_view_name": "LayoutView",
            "align_content": null,
            "align_items": null,
            "align_self": null,
            "border": null,
            "bottom": null,
            "display": null,
            "flex": null,
            "flex_flow": null,
            "grid_area": null,
            "grid_auto_columns": null,
            "grid_auto_flow": null,
            "grid_auto_rows": null,
            "grid_column": null,
            "grid_gap": null,
            "grid_row": null,
            "grid_template_areas": null,
            "grid_template_columns": null,
            "grid_template_rows": null,
            "height": null,
            "justify_content": null,
            "justify_items": null,
            "left": null,
            "margin": null,
            "max_height": null,
            "max_width": null,
            "min_height": null,
            "min_width": null,
            "object_fit": null,
            "object_position": null,
            "order": null,
            "overflow": null,
            "overflow_x": null,
            "overflow_y": null,
            "padding": null,
            "right": null,
            "top": null,
            "visibility": null,
            "width": null
          }
        },
        "13d6634e06ff4b1ab1a79d78876f7e1b": {
          "model_module": "@jupyter-widgets/controls",
          "model_name": "DescriptionStyleModel",
          "model_module_version": "1.5.0",
          "state": {
            "_model_module": "@jupyter-widgets/controls",
            "_model_module_version": "1.5.0",
            "_model_name": "DescriptionStyleModel",
            "_view_count": null,
            "_view_module": "@jupyter-widgets/base",
            "_view_module_version": "1.2.0",
            "_view_name": "StyleView",
            "description_width": ""
          }
        },
        "da961cfa16284e3583bc92268420e8e9": {
          "model_module": "@jupyter-widgets/base",
          "model_name": "LayoutModel",
          "model_module_version": "1.2.0",
          "state": {
            "_model_module": "@jupyter-widgets/base",
            "_model_module_version": "1.2.0",
            "_model_name": "LayoutModel",
            "_view_count": null,
            "_view_module": "@jupyter-widgets/base",
            "_view_module_version": "1.2.0",
            "_view_name": "LayoutView",
            "align_content": null,
            "align_items": null,
            "align_self": null,
            "border": null,
            "bottom": null,
            "display": null,
            "flex": null,
            "flex_flow": null,
            "grid_area": null,
            "grid_auto_columns": null,
            "grid_auto_flow": null,
            "grid_auto_rows": null,
            "grid_column": null,
            "grid_gap": null,
            "grid_row": null,
            "grid_template_areas": null,
            "grid_template_columns": null,
            "grid_template_rows": null,
            "height": null,
            "justify_content": null,
            "justify_items": null,
            "left": null,
            "margin": null,
            "max_height": null,
            "max_width": null,
            "min_height": null,
            "min_width": null,
            "object_fit": null,
            "object_position": null,
            "order": null,
            "overflow": null,
            "overflow_x": null,
            "overflow_y": null,
            "padding": null,
            "right": null,
            "top": null,
            "visibility": null,
            "width": null
          }
        },
        "c22f9eec68c342559a76fe21cd21bb1f": {
          "model_module": "@jupyter-widgets/controls",
          "model_name": "ProgressStyleModel",
          "model_module_version": "1.5.0",
          "state": {
            "_model_module": "@jupyter-widgets/controls",
            "_model_module_version": "1.5.0",
            "_model_name": "ProgressStyleModel",
            "_view_count": null,
            "_view_module": "@jupyter-widgets/base",
            "_view_module_version": "1.2.0",
            "_view_name": "StyleView",
            "bar_color": null,
            "description_width": ""
          }
        },
        "9c49871de2eb4c8e94f079f8cff86bb7": {
          "model_module": "@jupyter-widgets/base",
          "model_name": "LayoutModel",
          "model_module_version": "1.2.0",
          "state": {
            "_model_module": "@jupyter-widgets/base",
            "_model_module_version": "1.2.0",
            "_model_name": "LayoutModel",
            "_view_count": null,
            "_view_module": "@jupyter-widgets/base",
            "_view_module_version": "1.2.0",
            "_view_name": "LayoutView",
            "align_content": null,
            "align_items": null,
            "align_self": null,
            "border": null,
            "bottom": null,
            "display": null,
            "flex": null,
            "flex_flow": null,
            "grid_area": null,
            "grid_auto_columns": null,
            "grid_auto_flow": null,
            "grid_auto_rows": null,
            "grid_column": null,
            "grid_gap": null,
            "grid_row": null,
            "grid_template_areas": null,
            "grid_template_columns": null,
            "grid_template_rows": null,
            "height": null,
            "justify_content": null,
            "justify_items": null,
            "left": null,
            "margin": null,
            "max_height": null,
            "max_width": null,
            "min_height": null,
            "min_width": null,
            "object_fit": null,
            "object_position": null,
            "order": null,
            "overflow": null,
            "overflow_x": null,
            "overflow_y": null,
            "padding": null,
            "right": null,
            "top": null,
            "visibility": null,
            "width": null
          }
        },
        "8341f83729774044ae1195e5f350632d": {
          "model_module": "@jupyter-widgets/controls",
          "model_name": "DescriptionStyleModel",
          "model_module_version": "1.5.0",
          "state": {
            "_model_module": "@jupyter-widgets/controls",
            "_model_module_version": "1.5.0",
            "_model_name": "DescriptionStyleModel",
            "_view_count": null,
            "_view_module": "@jupyter-widgets/base",
            "_view_module_version": "1.2.0",
            "_view_name": "StyleView",
            "description_width": ""
          }
        },
        "cd60e020ad724ab8b9ce97b5e00bf753": {
          "model_module": "@jupyter-widgets/controls",
          "model_name": "HBoxModel",
          "model_module_version": "1.5.0",
          "state": {
            "_dom_classes": [],
            "_model_module": "@jupyter-widgets/controls",
            "_model_module_version": "1.5.0",
            "_model_name": "HBoxModel",
            "_view_count": null,
            "_view_module": "@jupyter-widgets/controls",
            "_view_module_version": "1.5.0",
            "_view_name": "HBoxView",
            "box_style": "",
            "children": [
              "IPY_MODEL_18986fdff227497fbc6481abd1ccbc3c",
              "IPY_MODEL_813ee48ed22545aaa62e492452fd6599",
              "IPY_MODEL_a346258df5d44d03a25c58ceae2d3c4b"
            ],
            "layout": "IPY_MODEL_1914834357004b94a6ed40d542141b69"
          }
        },
        "18986fdff227497fbc6481abd1ccbc3c": {
          "model_module": "@jupyter-widgets/controls",
          "model_name": "HTMLModel",
          "model_module_version": "1.5.0",
          "state": {
            "_dom_classes": [],
            "_model_module": "@jupyter-widgets/controls",
            "_model_module_version": "1.5.0",
            "_model_name": "HTMLModel",
            "_view_count": null,
            "_view_module": "@jupyter-widgets/controls",
            "_view_module_version": "1.5.0",
            "_view_name": "HTMLView",
            "description": "",
            "description_tooltip": null,
            "layout": "IPY_MODEL_67f7fb2c85c1464e94180a673b0bafe0",
            "placeholder": "​",
            "style": "IPY_MODEL_3e76a74f729d4eaa85512d3fda920166",
            "value": "100%"
          }
        },
        "813ee48ed22545aaa62e492452fd6599": {
          "model_module": "@jupyter-widgets/controls",
          "model_name": "FloatProgressModel",
          "model_module_version": "1.5.0",
          "state": {
            "_dom_classes": [],
            "_model_module": "@jupyter-widgets/controls",
            "_model_module_version": "1.5.0",
            "_model_name": "FloatProgressModel",
            "_view_count": null,
            "_view_module": "@jupyter-widgets/controls",
            "_view_module_version": "1.5.0",
            "_view_name": "ProgressView",
            "bar_style": "success",
            "description": "",
            "description_tooltip": null,
            "layout": "IPY_MODEL_4268ac9c54c145048759313e16b42fe5",
            "max": 5718,
            "min": 0,
            "orientation": "horizontal",
            "style": "IPY_MODEL_22874330cf5145c0bf36c48d1345edd2",
            "value": 5718
          }
        },
        "a346258df5d44d03a25c58ceae2d3c4b": {
          "model_module": "@jupyter-widgets/controls",
          "model_name": "HTMLModel",
          "model_module_version": "1.5.0",
          "state": {
            "_dom_classes": [],
            "_model_module": "@jupyter-widgets/controls",
            "_model_module_version": "1.5.0",
            "_model_name": "HTMLModel",
            "_view_count": null,
            "_view_module": "@jupyter-widgets/controls",
            "_view_module_version": "1.5.0",
            "_view_name": "HTMLView",
            "description": "",
            "description_tooltip": null,
            "layout": "IPY_MODEL_8b92c7aeed0644b58db4f16b4ff4ed44",
            "placeholder": "​",
            "style": "IPY_MODEL_3498516b5fe547168cb3bbaeea6187ec",
            "value": " 5718/5718 [08:19&lt;00:00, 13.94it/s]"
          }
        },
        "1914834357004b94a6ed40d542141b69": {
          "model_module": "@jupyter-widgets/base",
          "model_name": "LayoutModel",
          "model_module_version": "1.2.0",
          "state": {
            "_model_module": "@jupyter-widgets/base",
            "_model_module_version": "1.2.0",
            "_model_name": "LayoutModel",
            "_view_count": null,
            "_view_module": "@jupyter-widgets/base",
            "_view_module_version": "1.2.0",
            "_view_name": "LayoutView",
            "align_content": null,
            "align_items": null,
            "align_self": null,
            "border": null,
            "bottom": null,
            "display": null,
            "flex": null,
            "flex_flow": null,
            "grid_area": null,
            "grid_auto_columns": null,
            "grid_auto_flow": null,
            "grid_auto_rows": null,
            "grid_column": null,
            "grid_gap": null,
            "grid_row": null,
            "grid_template_areas": null,
            "grid_template_columns": null,
            "grid_template_rows": null,
            "height": null,
            "justify_content": null,
            "justify_items": null,
            "left": null,
            "margin": null,
            "max_height": null,
            "max_width": null,
            "min_height": null,
            "min_width": null,
            "object_fit": null,
            "object_position": null,
            "order": null,
            "overflow": null,
            "overflow_x": null,
            "overflow_y": null,
            "padding": null,
            "right": null,
            "top": null,
            "visibility": null,
            "width": null
          }
        },
        "67f7fb2c85c1464e94180a673b0bafe0": {
          "model_module": "@jupyter-widgets/base",
          "model_name": "LayoutModel",
          "model_module_version": "1.2.0",
          "state": {
            "_model_module": "@jupyter-widgets/base",
            "_model_module_version": "1.2.0",
            "_model_name": "LayoutModel",
            "_view_count": null,
            "_view_module": "@jupyter-widgets/base",
            "_view_module_version": "1.2.0",
            "_view_name": "LayoutView",
            "align_content": null,
            "align_items": null,
            "align_self": null,
            "border": null,
            "bottom": null,
            "display": null,
            "flex": null,
            "flex_flow": null,
            "grid_area": null,
            "grid_auto_columns": null,
            "grid_auto_flow": null,
            "grid_auto_rows": null,
            "grid_column": null,
            "grid_gap": null,
            "grid_row": null,
            "grid_template_areas": null,
            "grid_template_columns": null,
            "grid_template_rows": null,
            "height": null,
            "justify_content": null,
            "justify_items": null,
            "left": null,
            "margin": null,
            "max_height": null,
            "max_width": null,
            "min_height": null,
            "min_width": null,
            "object_fit": null,
            "object_position": null,
            "order": null,
            "overflow": null,
            "overflow_x": null,
            "overflow_y": null,
            "padding": null,
            "right": null,
            "top": null,
            "visibility": null,
            "width": null
          }
        },
        "3e76a74f729d4eaa85512d3fda920166": {
          "model_module": "@jupyter-widgets/controls",
          "model_name": "DescriptionStyleModel",
          "model_module_version": "1.5.0",
          "state": {
            "_model_module": "@jupyter-widgets/controls",
            "_model_module_version": "1.5.0",
            "_model_name": "DescriptionStyleModel",
            "_view_count": null,
            "_view_module": "@jupyter-widgets/base",
            "_view_module_version": "1.2.0",
            "_view_name": "StyleView",
            "description_width": ""
          }
        },
        "4268ac9c54c145048759313e16b42fe5": {
          "model_module": "@jupyter-widgets/base",
          "model_name": "LayoutModel",
          "model_module_version": "1.2.0",
          "state": {
            "_model_module": "@jupyter-widgets/base",
            "_model_module_version": "1.2.0",
            "_model_name": "LayoutModel",
            "_view_count": null,
            "_view_module": "@jupyter-widgets/base",
            "_view_module_version": "1.2.0",
            "_view_name": "LayoutView",
            "align_content": null,
            "align_items": null,
            "align_self": null,
            "border": null,
            "bottom": null,
            "display": null,
            "flex": null,
            "flex_flow": null,
            "grid_area": null,
            "grid_auto_columns": null,
            "grid_auto_flow": null,
            "grid_auto_rows": null,
            "grid_column": null,
            "grid_gap": null,
            "grid_row": null,
            "grid_template_areas": null,
            "grid_template_columns": null,
            "grid_template_rows": null,
            "height": null,
            "justify_content": null,
            "justify_items": null,
            "left": null,
            "margin": null,
            "max_height": null,
            "max_width": null,
            "min_height": null,
            "min_width": null,
            "object_fit": null,
            "object_position": null,
            "order": null,
            "overflow": null,
            "overflow_x": null,
            "overflow_y": null,
            "padding": null,
            "right": null,
            "top": null,
            "visibility": null,
            "width": null
          }
        },
        "22874330cf5145c0bf36c48d1345edd2": {
          "model_module": "@jupyter-widgets/controls",
          "model_name": "ProgressStyleModel",
          "model_module_version": "1.5.0",
          "state": {
            "_model_module": "@jupyter-widgets/controls",
            "_model_module_version": "1.5.0",
            "_model_name": "ProgressStyleModel",
            "_view_count": null,
            "_view_module": "@jupyter-widgets/base",
            "_view_module_version": "1.2.0",
            "_view_name": "StyleView",
            "bar_color": null,
            "description_width": ""
          }
        },
        "8b92c7aeed0644b58db4f16b4ff4ed44": {
          "model_module": "@jupyter-widgets/base",
          "model_name": "LayoutModel",
          "model_module_version": "1.2.0",
          "state": {
            "_model_module": "@jupyter-widgets/base",
            "_model_module_version": "1.2.0",
            "_model_name": "LayoutModel",
            "_view_count": null,
            "_view_module": "@jupyter-widgets/base",
            "_view_module_version": "1.2.0",
            "_view_name": "LayoutView",
            "align_content": null,
            "align_items": null,
            "align_self": null,
            "border": null,
            "bottom": null,
            "display": null,
            "flex": null,
            "flex_flow": null,
            "grid_area": null,
            "grid_auto_columns": null,
            "grid_auto_flow": null,
            "grid_auto_rows": null,
            "grid_column": null,
            "grid_gap": null,
            "grid_row": null,
            "grid_template_areas": null,
            "grid_template_columns": null,
            "grid_template_rows": null,
            "height": null,
            "justify_content": null,
            "justify_items": null,
            "left": null,
            "margin": null,
            "max_height": null,
            "max_width": null,
            "min_height": null,
            "min_width": null,
            "object_fit": null,
            "object_position": null,
            "order": null,
            "overflow": null,
            "overflow_x": null,
            "overflow_y": null,
            "padding": null,
            "right": null,
            "top": null,
            "visibility": null,
            "width": null
          }
        },
        "3498516b5fe547168cb3bbaeea6187ec": {
          "model_module": "@jupyter-widgets/controls",
          "model_name": "DescriptionStyleModel",
          "model_module_version": "1.5.0",
          "state": {
            "_model_module": "@jupyter-widgets/controls",
            "_model_module_version": "1.5.0",
            "_model_name": "DescriptionStyleModel",
            "_view_count": null,
            "_view_module": "@jupyter-widgets/base",
            "_view_module_version": "1.2.0",
            "_view_name": "StyleView",
            "description_width": ""
          }
        },
        "49b21a7271404426b4f2fcd64110e438": {
          "model_module": "@jupyter-widgets/controls",
          "model_name": "HBoxModel",
          "model_module_version": "1.5.0",
          "state": {
            "_dom_classes": [],
            "_model_module": "@jupyter-widgets/controls",
            "_model_module_version": "1.5.0",
            "_model_name": "HBoxModel",
            "_view_count": null,
            "_view_module": "@jupyter-widgets/controls",
            "_view_module_version": "1.5.0",
            "_view_name": "HBoxView",
            "box_style": "",
            "children": [
              "IPY_MODEL_59c96f88b2344ea9b79b36ecfef2fa18",
              "IPY_MODEL_72a9c4527c9142e097248c41cfee580f",
              "IPY_MODEL_fe7a9be5321f4b2a996306f6b6e81e10"
            ],
            "layout": "IPY_MODEL_257e0c969c0245ab838d67a140351bf9"
          }
        },
        "59c96f88b2344ea9b79b36ecfef2fa18": {
          "model_module": "@jupyter-widgets/controls",
          "model_name": "HTMLModel",
          "model_module_version": "1.5.0",
          "state": {
            "_dom_classes": [],
            "_model_module": "@jupyter-widgets/controls",
            "_model_module_version": "1.5.0",
            "_model_name": "HTMLModel",
            "_view_count": null,
            "_view_module": "@jupyter-widgets/controls",
            "_view_module_version": "1.5.0",
            "_view_name": "HTMLView",
            "description": "",
            "description_tooltip": null,
            "layout": "IPY_MODEL_4ae761746aca4416b3176bc73c2f912f",
            "placeholder": "​",
            "style": "IPY_MODEL_32640ecaaa9847c8b66b446df8e4ce35",
            "value": "100%"
          }
        },
        "72a9c4527c9142e097248c41cfee580f": {
          "model_module": "@jupyter-widgets/controls",
          "model_name": "FloatProgressModel",
          "model_module_version": "1.5.0",
          "state": {
            "_dom_classes": [],
            "_model_module": "@jupyter-widgets/controls",
            "_model_module_version": "1.5.0",
            "_model_name": "FloatProgressModel",
            "_view_count": null,
            "_view_module": "@jupyter-widgets/controls",
            "_view_module_version": "1.5.0",
            "_view_name": "ProgressView",
            "bar_style": "success",
            "description": "",
            "description_tooltip": null,
            "layout": "IPY_MODEL_0bb2c8c138d04934b56d931489b6625a",
            "max": 206,
            "min": 0,
            "orientation": "horizontal",
            "style": "IPY_MODEL_ad3782c4e9a14e6f975968aec2b3bff7",
            "value": 206
          }
        },
        "fe7a9be5321f4b2a996306f6b6e81e10": {
          "model_module": "@jupyter-widgets/controls",
          "model_name": "HTMLModel",
          "model_module_version": "1.5.0",
          "state": {
            "_dom_classes": [],
            "_model_module": "@jupyter-widgets/controls",
            "_model_module_version": "1.5.0",
            "_model_name": "HTMLModel",
            "_view_count": null,
            "_view_module": "@jupyter-widgets/controls",
            "_view_module_version": "1.5.0",
            "_view_name": "HTMLView",
            "description": "",
            "description_tooltip": null,
            "layout": "IPY_MODEL_05091340a90942e58d3b91ae13894a36",
            "placeholder": "​",
            "style": "IPY_MODEL_c6cf7a0f760c4a7ebe52d73f852d2c19",
            "value": " 206/206 [00:02&lt;00:00, 91.79it/s]"
          }
        },
        "257e0c969c0245ab838d67a140351bf9": {
          "model_module": "@jupyter-widgets/base",
          "model_name": "LayoutModel",
          "model_module_version": "1.2.0",
          "state": {
            "_model_module": "@jupyter-widgets/base",
            "_model_module_version": "1.2.0",
            "_model_name": "LayoutModel",
            "_view_count": null,
            "_view_module": "@jupyter-widgets/base",
            "_view_module_version": "1.2.0",
            "_view_name": "LayoutView",
            "align_content": null,
            "align_items": null,
            "align_self": null,
            "border": null,
            "bottom": null,
            "display": null,
            "flex": null,
            "flex_flow": null,
            "grid_area": null,
            "grid_auto_columns": null,
            "grid_auto_flow": null,
            "grid_auto_rows": null,
            "grid_column": null,
            "grid_gap": null,
            "grid_row": null,
            "grid_template_areas": null,
            "grid_template_columns": null,
            "grid_template_rows": null,
            "height": null,
            "justify_content": null,
            "justify_items": null,
            "left": null,
            "margin": null,
            "max_height": null,
            "max_width": null,
            "min_height": null,
            "min_width": null,
            "object_fit": null,
            "object_position": null,
            "order": null,
            "overflow": null,
            "overflow_x": null,
            "overflow_y": null,
            "padding": null,
            "right": null,
            "top": null,
            "visibility": null,
            "width": null
          }
        },
        "4ae761746aca4416b3176bc73c2f912f": {
          "model_module": "@jupyter-widgets/base",
          "model_name": "LayoutModel",
          "model_module_version": "1.2.0",
          "state": {
            "_model_module": "@jupyter-widgets/base",
            "_model_module_version": "1.2.0",
            "_model_name": "LayoutModel",
            "_view_count": null,
            "_view_module": "@jupyter-widgets/base",
            "_view_module_version": "1.2.0",
            "_view_name": "LayoutView",
            "align_content": null,
            "align_items": null,
            "align_self": null,
            "border": null,
            "bottom": null,
            "display": null,
            "flex": null,
            "flex_flow": null,
            "grid_area": null,
            "grid_auto_columns": null,
            "grid_auto_flow": null,
            "grid_auto_rows": null,
            "grid_column": null,
            "grid_gap": null,
            "grid_row": null,
            "grid_template_areas": null,
            "grid_template_columns": null,
            "grid_template_rows": null,
            "height": null,
            "justify_content": null,
            "justify_items": null,
            "left": null,
            "margin": null,
            "max_height": null,
            "max_width": null,
            "min_height": null,
            "min_width": null,
            "object_fit": null,
            "object_position": null,
            "order": null,
            "overflow": null,
            "overflow_x": null,
            "overflow_y": null,
            "padding": null,
            "right": null,
            "top": null,
            "visibility": null,
            "width": null
          }
        },
        "32640ecaaa9847c8b66b446df8e4ce35": {
          "model_module": "@jupyter-widgets/controls",
          "model_name": "DescriptionStyleModel",
          "model_module_version": "1.5.0",
          "state": {
            "_model_module": "@jupyter-widgets/controls",
            "_model_module_version": "1.5.0",
            "_model_name": "DescriptionStyleModel",
            "_view_count": null,
            "_view_module": "@jupyter-widgets/base",
            "_view_module_version": "1.2.0",
            "_view_name": "StyleView",
            "description_width": ""
          }
        },
        "0bb2c8c138d04934b56d931489b6625a": {
          "model_module": "@jupyter-widgets/base",
          "model_name": "LayoutModel",
          "model_module_version": "1.2.0",
          "state": {
            "_model_module": "@jupyter-widgets/base",
            "_model_module_version": "1.2.0",
            "_model_name": "LayoutModel",
            "_view_count": null,
            "_view_module": "@jupyter-widgets/base",
            "_view_module_version": "1.2.0",
            "_view_name": "LayoutView",
            "align_content": null,
            "align_items": null,
            "align_self": null,
            "border": null,
            "bottom": null,
            "display": null,
            "flex": null,
            "flex_flow": null,
            "grid_area": null,
            "grid_auto_columns": null,
            "grid_auto_flow": null,
            "grid_auto_rows": null,
            "grid_column": null,
            "grid_gap": null,
            "grid_row": null,
            "grid_template_areas": null,
            "grid_template_columns": null,
            "grid_template_rows": null,
            "height": null,
            "justify_content": null,
            "justify_items": null,
            "left": null,
            "margin": null,
            "max_height": null,
            "max_width": null,
            "min_height": null,
            "min_width": null,
            "object_fit": null,
            "object_position": null,
            "order": null,
            "overflow": null,
            "overflow_x": null,
            "overflow_y": null,
            "padding": null,
            "right": null,
            "top": null,
            "visibility": null,
            "width": null
          }
        },
        "ad3782c4e9a14e6f975968aec2b3bff7": {
          "model_module": "@jupyter-widgets/controls",
          "model_name": "ProgressStyleModel",
          "model_module_version": "1.5.0",
          "state": {
            "_model_module": "@jupyter-widgets/controls",
            "_model_module_version": "1.5.0",
            "_model_name": "ProgressStyleModel",
            "_view_count": null,
            "_view_module": "@jupyter-widgets/base",
            "_view_module_version": "1.2.0",
            "_view_name": "StyleView",
            "bar_color": null,
            "description_width": ""
          }
        },
        "05091340a90942e58d3b91ae13894a36": {
          "model_module": "@jupyter-widgets/base",
          "model_name": "LayoutModel",
          "model_module_version": "1.2.0",
          "state": {
            "_model_module": "@jupyter-widgets/base",
            "_model_module_version": "1.2.0",
            "_model_name": "LayoutModel",
            "_view_count": null,
            "_view_module": "@jupyter-widgets/base",
            "_view_module_version": "1.2.0",
            "_view_name": "LayoutView",
            "align_content": null,
            "align_items": null,
            "align_self": null,
            "border": null,
            "bottom": null,
            "display": null,
            "flex": null,
            "flex_flow": null,
            "grid_area": null,
            "grid_auto_columns": null,
            "grid_auto_flow": null,
            "grid_auto_rows": null,
            "grid_column": null,
            "grid_gap": null,
            "grid_row": null,
            "grid_template_areas": null,
            "grid_template_columns": null,
            "grid_template_rows": null,
            "height": null,
            "justify_content": null,
            "justify_items": null,
            "left": null,
            "margin": null,
            "max_height": null,
            "max_width": null,
            "min_height": null,
            "min_width": null,
            "object_fit": null,
            "object_position": null,
            "order": null,
            "overflow": null,
            "overflow_x": null,
            "overflow_y": null,
            "padding": null,
            "right": null,
            "top": null,
            "visibility": null,
            "width": null
          }
        },
        "c6cf7a0f760c4a7ebe52d73f852d2c19": {
          "model_module": "@jupyter-widgets/controls",
          "model_name": "DescriptionStyleModel",
          "model_module_version": "1.5.0",
          "state": {
            "_model_module": "@jupyter-widgets/controls",
            "_model_module_version": "1.5.0",
            "_model_name": "DescriptionStyleModel",
            "_view_count": null,
            "_view_module": "@jupyter-widgets/base",
            "_view_module_version": "1.2.0",
            "_view_name": "StyleView",
            "description_width": ""
          }
        },
        "d3f876e6f34e4538993fbfae3c8c1bf0": {
          "model_module": "@jupyter-widgets/controls",
          "model_name": "HBoxModel",
          "model_module_version": "1.5.0",
          "state": {
            "_dom_classes": [],
            "_model_module": "@jupyter-widgets/controls",
            "_model_module_version": "1.5.0",
            "_model_name": "HBoxModel",
            "_view_count": null,
            "_view_module": "@jupyter-widgets/controls",
            "_view_module_version": "1.5.0",
            "_view_name": "HBoxView",
            "box_style": "",
            "children": [
              "IPY_MODEL_16bb62f584d14cac8c6d6f7a39a4ba91",
              "IPY_MODEL_f4a56687be304e4c8e4ba5df2c66a282",
              "IPY_MODEL_9a36b6a3972a49a58909aa28e3fde9f2"
            ],
            "layout": "IPY_MODEL_f11498e7b93a4517a325c9d118eb1721"
          }
        },
        "16bb62f584d14cac8c6d6f7a39a4ba91": {
          "model_module": "@jupyter-widgets/controls",
          "model_name": "HTMLModel",
          "model_module_version": "1.5.0",
          "state": {
            "_dom_classes": [],
            "_model_module": "@jupyter-widgets/controls",
            "_model_module_version": "1.5.0",
            "_model_name": "HTMLModel",
            "_view_count": null,
            "_view_module": "@jupyter-widgets/controls",
            "_view_module_version": "1.5.0",
            "_view_name": "HTMLView",
            "description": "",
            "description_tooltip": null,
            "layout": "IPY_MODEL_44789511b33048a6b5685edb3fe25a73",
            "placeholder": "​",
            "style": "IPY_MODEL_9edebbc534294dd5804e0e435f32f374",
            "value": "100%"
          }
        },
        "f4a56687be304e4c8e4ba5df2c66a282": {
          "model_module": "@jupyter-widgets/controls",
          "model_name": "FloatProgressModel",
          "model_module_version": "1.5.0",
          "state": {
            "_dom_classes": [],
            "_model_module": "@jupyter-widgets/controls",
            "_model_module_version": "1.5.0",
            "_model_name": "FloatProgressModel",
            "_view_count": null,
            "_view_module": "@jupyter-widgets/controls",
            "_view_module_version": "1.5.0",
            "_view_name": "ProgressView",
            "bar_style": "success",
            "description": "",
            "description_tooltip": null,
            "layout": "IPY_MODEL_769f82ddee004897a9651f3755bb075a",
            "max": 2,
            "min": 0,
            "orientation": "horizontal",
            "style": "IPY_MODEL_4406d3fd26cd4e3cbd905014222057d8",
            "value": 2
          }
        },
        "9a36b6a3972a49a58909aa28e3fde9f2": {
          "model_module": "@jupyter-widgets/controls",
          "model_name": "HTMLModel",
          "model_module_version": "1.5.0",
          "state": {
            "_dom_classes": [],
            "_model_module": "@jupyter-widgets/controls",
            "_model_module_version": "1.5.0",
            "_model_name": "HTMLModel",
            "_view_count": null,
            "_view_module": "@jupyter-widgets/controls",
            "_view_module_version": "1.5.0",
            "_view_name": "HTMLView",
            "description": "",
            "description_tooltip": null,
            "layout": "IPY_MODEL_e6018ab1b1a7440ea385cc3b80450ad1",
            "placeholder": "​",
            "style": "IPY_MODEL_2bc35f680fe24d7da21a88342b600e3a",
            "value": " 2/2 [00:00&lt;00:00, 24.30it/s]"
          }
        },
        "f11498e7b93a4517a325c9d118eb1721": {
          "model_module": "@jupyter-widgets/base",
          "model_name": "LayoutModel",
          "model_module_version": "1.2.0",
          "state": {
            "_model_module": "@jupyter-widgets/base",
            "_model_module_version": "1.2.0",
            "_model_name": "LayoutModel",
            "_view_count": null,
            "_view_module": "@jupyter-widgets/base",
            "_view_module_version": "1.2.0",
            "_view_name": "LayoutView",
            "align_content": null,
            "align_items": null,
            "align_self": null,
            "border": null,
            "bottom": null,
            "display": null,
            "flex": null,
            "flex_flow": null,
            "grid_area": null,
            "grid_auto_columns": null,
            "grid_auto_flow": null,
            "grid_auto_rows": null,
            "grid_column": null,
            "grid_gap": null,
            "grid_row": null,
            "grid_template_areas": null,
            "grid_template_columns": null,
            "grid_template_rows": null,
            "height": null,
            "justify_content": null,
            "justify_items": null,
            "left": null,
            "margin": null,
            "max_height": null,
            "max_width": null,
            "min_height": null,
            "min_width": null,
            "object_fit": null,
            "object_position": null,
            "order": null,
            "overflow": null,
            "overflow_x": null,
            "overflow_y": null,
            "padding": null,
            "right": null,
            "top": null,
            "visibility": null,
            "width": null
          }
        },
        "44789511b33048a6b5685edb3fe25a73": {
          "model_module": "@jupyter-widgets/base",
          "model_name": "LayoutModel",
          "model_module_version": "1.2.0",
          "state": {
            "_model_module": "@jupyter-widgets/base",
            "_model_module_version": "1.2.0",
            "_model_name": "LayoutModel",
            "_view_count": null,
            "_view_module": "@jupyter-widgets/base",
            "_view_module_version": "1.2.0",
            "_view_name": "LayoutView",
            "align_content": null,
            "align_items": null,
            "align_self": null,
            "border": null,
            "bottom": null,
            "display": null,
            "flex": null,
            "flex_flow": null,
            "grid_area": null,
            "grid_auto_columns": null,
            "grid_auto_flow": null,
            "grid_auto_rows": null,
            "grid_column": null,
            "grid_gap": null,
            "grid_row": null,
            "grid_template_areas": null,
            "grid_template_columns": null,
            "grid_template_rows": null,
            "height": null,
            "justify_content": null,
            "justify_items": null,
            "left": null,
            "margin": null,
            "max_height": null,
            "max_width": null,
            "min_height": null,
            "min_width": null,
            "object_fit": null,
            "object_position": null,
            "order": null,
            "overflow": null,
            "overflow_x": null,
            "overflow_y": null,
            "padding": null,
            "right": null,
            "top": null,
            "visibility": null,
            "width": null
          }
        },
        "9edebbc534294dd5804e0e435f32f374": {
          "model_module": "@jupyter-widgets/controls",
          "model_name": "DescriptionStyleModel",
          "model_module_version": "1.5.0",
          "state": {
            "_model_module": "@jupyter-widgets/controls",
            "_model_module_version": "1.5.0",
            "_model_name": "DescriptionStyleModel",
            "_view_count": null,
            "_view_module": "@jupyter-widgets/base",
            "_view_module_version": "1.2.0",
            "_view_name": "StyleView",
            "description_width": ""
          }
        },
        "769f82ddee004897a9651f3755bb075a": {
          "model_module": "@jupyter-widgets/base",
          "model_name": "LayoutModel",
          "model_module_version": "1.2.0",
          "state": {
            "_model_module": "@jupyter-widgets/base",
            "_model_module_version": "1.2.0",
            "_model_name": "LayoutModel",
            "_view_count": null,
            "_view_module": "@jupyter-widgets/base",
            "_view_module_version": "1.2.0",
            "_view_name": "LayoutView",
            "align_content": null,
            "align_items": null,
            "align_self": null,
            "border": null,
            "bottom": null,
            "display": null,
            "flex": null,
            "flex_flow": null,
            "grid_area": null,
            "grid_auto_columns": null,
            "grid_auto_flow": null,
            "grid_auto_rows": null,
            "grid_column": null,
            "grid_gap": null,
            "grid_row": null,
            "grid_template_areas": null,
            "grid_template_columns": null,
            "grid_template_rows": null,
            "height": null,
            "justify_content": null,
            "justify_items": null,
            "left": null,
            "margin": null,
            "max_height": null,
            "max_width": null,
            "min_height": null,
            "min_width": null,
            "object_fit": null,
            "object_position": null,
            "order": null,
            "overflow": null,
            "overflow_x": null,
            "overflow_y": null,
            "padding": null,
            "right": null,
            "top": null,
            "visibility": null,
            "width": null
          }
        },
        "4406d3fd26cd4e3cbd905014222057d8": {
          "model_module": "@jupyter-widgets/controls",
          "model_name": "ProgressStyleModel",
          "model_module_version": "1.5.0",
          "state": {
            "_model_module": "@jupyter-widgets/controls",
            "_model_module_version": "1.5.0",
            "_model_name": "ProgressStyleModel",
            "_view_count": null,
            "_view_module": "@jupyter-widgets/base",
            "_view_module_version": "1.2.0",
            "_view_name": "StyleView",
            "bar_color": null,
            "description_width": ""
          }
        },
        "e6018ab1b1a7440ea385cc3b80450ad1": {
          "model_module": "@jupyter-widgets/base",
          "model_name": "LayoutModel",
          "model_module_version": "1.2.0",
          "state": {
            "_model_module": "@jupyter-widgets/base",
            "_model_module_version": "1.2.0",
            "_model_name": "LayoutModel",
            "_view_count": null,
            "_view_module": "@jupyter-widgets/base",
            "_view_module_version": "1.2.0",
            "_view_name": "LayoutView",
            "align_content": null,
            "align_items": null,
            "align_self": null,
            "border": null,
            "bottom": null,
            "display": null,
            "flex": null,
            "flex_flow": null,
            "grid_area": null,
            "grid_auto_columns": null,
            "grid_auto_flow": null,
            "grid_auto_rows": null,
            "grid_column": null,
            "grid_gap": null,
            "grid_row": null,
            "grid_template_areas": null,
            "grid_template_columns": null,
            "grid_template_rows": null,
            "height": null,
            "justify_content": null,
            "justify_items": null,
            "left": null,
            "margin": null,
            "max_height": null,
            "max_width": null,
            "min_height": null,
            "min_width": null,
            "object_fit": null,
            "object_position": null,
            "order": null,
            "overflow": null,
            "overflow_x": null,
            "overflow_y": null,
            "padding": null,
            "right": null,
            "top": null,
            "visibility": null,
            "width": null
          }
        },
        "2bc35f680fe24d7da21a88342b600e3a": {
          "model_module": "@jupyter-widgets/controls",
          "model_name": "DescriptionStyleModel",
          "model_module_version": "1.5.0",
          "state": {
            "_model_module": "@jupyter-widgets/controls",
            "_model_module_version": "1.5.0",
            "_model_name": "DescriptionStyleModel",
            "_view_count": null,
            "_view_module": "@jupyter-widgets/base",
            "_view_module_version": "1.2.0",
            "_view_name": "StyleView",
            "description_width": ""
          }
        }
      }
    }
  },
  "nbformat": 4,
  "nbformat_minor": 0
}