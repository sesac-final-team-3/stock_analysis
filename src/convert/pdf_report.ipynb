{
 "cells": [
  {
   "cell_type": "code",
   "execution_count": 1,
   "metadata": {},
   "outputs": [
    {
     "ename": "FileNotFoundError",
     "evalue": "[Errno 2] No such file or directory: '../Data/myasset_data'",
     "output_type": "error",
     "traceback": [
      "\u001b[0;31m---------------------------------------------------------------------------\u001b[0m",
      "\u001b[0;31mFileNotFoundError\u001b[0m                         Traceback (most recent call last)",
      "\u001b[1;32m/Users/hoon/Desktop/sesac/final_project/git_upload/src/convert/pdf_report.ipynb 셀 1\u001b[0m in \u001b[0;36m<cell line: 12>\u001b[0;34m()\u001b[0m\n\u001b[1;32m      <a href='vscode-notebook-cell:/Users/hoon/Desktop/sesac/final_project/git_upload/src/convert/pdf_report.ipynb#W0sZmlsZQ%3D%3D?line=7'>8</a>\u001b[0m \u001b[39mfrom\u001b[39;00m \u001b[39mpdfminer\u001b[39;00m\u001b[39m.\u001b[39;00m\u001b[39mpdfpage\u001b[39;00m \u001b[39mimport\u001b[39;00m PDFPage\n\u001b[1;32m      <a href='vscode-notebook-cell:/Users/hoon/Desktop/sesac/final_project/git_upload/src/convert/pdf_report.ipynb#W0sZmlsZQ%3D%3D?line=8'>9</a>\u001b[0m \u001b[39mfrom\u001b[39;00m \u001b[39mpdfminer\u001b[39;00m\u001b[39m.\u001b[39;00m\u001b[39mpdfparser\u001b[39;00m \u001b[39mimport\u001b[39;00m PDFParser\n\u001b[0;32m---> <a href='vscode-notebook-cell:/Users/hoon/Desktop/sesac/final_project/git_upload/src/convert/pdf_report.ipynb#W0sZmlsZQ%3D%3D?line=11'>12</a>\u001b[0m file_list \u001b[39m=\u001b[39m os\u001b[39m.\u001b[39;49mlistdir(\u001b[39m'\u001b[39;49m\u001b[39m../Data/myasset_data\u001b[39;49m\u001b[39m'\u001b[39;49m)\n\u001b[1;32m     <a href='vscode-notebook-cell:/Users/hoon/Desktop/sesac/final_project/git_upload/src/convert/pdf_report.ipynb#W0sZmlsZQ%3D%3D?line=13'>14</a>\u001b[0m count \u001b[39m=\u001b[39m \u001b[39m0\u001b[39m\n\u001b[1;32m     <a href='vscode-notebook-cell:/Users/hoon/Desktop/sesac/final_project/git_upload/src/convert/pdf_report.ipynb#W0sZmlsZQ%3D%3D?line=14'>15</a>\u001b[0m \u001b[39mfor\u001b[39;00m file \u001b[39min\u001b[39;00m file_list:\n",
      "\u001b[0;31mFileNotFoundError\u001b[0m: [Errno 2] No such file or directory: '../Data/myasset_data'"
     ]
    }
   ],
   "source": [
    "from io import StringIO\n",
    "import os\n",
    "\n",
    "from pdfminer.converter import TextConverter\n",
    "from pdfminer.layout import LAParams\n",
    "from pdfminer.pdfdocument import PDFDocument\n",
    "from pdfminer.pdfinterp import PDFResourceManager, PDFPageInterpreter\n",
    "from pdfminer.pdfpage import PDFPage\n",
    "from pdfminer.pdfparser import PDFParser\n",
    "\n",
    "\n",
    "file_list = os.listdir('../Data/myasset_data')\n",
    "\n",
    "count = 0\n",
    "for file in file_list:\n",
    "    count+=1\n",
    "    output_string = StringIO()\n",
    "    try:\n",
    "        with open(f'../Data/myasset_data/{file}', 'rb') as in_file:\n",
    "            parser = PDFParser(in_file)\n",
    "            doc = PDFDocument(parser)\n",
    "            rsrcmgr = PDFResourceManager()\n",
    "            device = TextConverter(rsrcmgr, output_string, laparams=LAParams())\n",
    "            interpreter = PDFPageInterpreter(rsrcmgr, device)\n",
    "            print(file,'PDFPageInterpreter 완료')\n",
    "            for page in PDFPage.create_pages(doc):\n",
    "                interpreter.process_page(page)\n",
    "\n",
    "        name = file[:-4].split('_')\n",
    "        # file_name = f'{name[0]}_{name[1][:2]}-{name[1][3:5]}-{name[1][6:8]}'\n",
    "        \n",
    "        text = output_string.getvalue()\n",
    "        print('getvalue 완료')\n",
    "        with open(f'../data/기아/convert_txt_기아/{name}.txt','w',encoding='utf-8') as txt:\n",
    "            print(name,'을 writing 중...')\n",
    "            print(text,file=txt)\n",
    "            print('!!!',count,name)\n",
    "            \n",
    "    except Exception as e :\n",
    "        print('@@',e,file)"
   ]
  },
  {
   "cell_type": "code",
   "execution_count": 4,
   "metadata": {},
   "outputs": [
    {
     "name": "stdout",
     "output_type": "stream",
     "text": [
      "Requirement already satisfied: pdfminer.six in /usr/local/anaconda3/envs/s_study/lib/python3.10/site-packages (20221105)\n",
      "Requirement already satisfied: charset-normalizer>=2.0.0 in /usr/local/anaconda3/envs/s_study/lib/python3.10/site-packages (from pdfminer.six) (2.1.1)\n",
      "Requirement already satisfied: cryptography>=36.0.0 in /usr/local/anaconda3/envs/s_study/lib/python3.10/site-packages (from pdfminer.six) (38.0.2)\n",
      "Requirement already satisfied: cffi>=1.12 in /usr/local/anaconda3/envs/s_study/lib/python3.10/site-packages (from cryptography>=36.0.0->pdfminer.six) (1.15.1)\n",
      "Requirement already satisfied: pycparser in /usr/local/anaconda3/envs/s_study/lib/python3.10/site-packages (from cffi>=1.12->cryptography>=36.0.0->pdfminer.six) (2.21)\n"
     ]
    }
   ],
   "source": [
    "! pip install pdfminer.six"
   ]
  },
  {
   "cell_type": "code",
   "execution_count": 5,
   "metadata": {},
   "outputs": [
    {
     "name": "stdout",
     "output_type": "stream",
     "text": [
      "Collecting pdfminer\n",
      "  Using cached pdfminer-20191125-py3-none-any.whl\n",
      "Requirement already satisfied: pycryptodome in /usr/local/anaconda3/envs/s_study/lib/python3.10/site-packages (from pdfminer) (3.15.0)\n",
      "Installing collected packages: pdfminer\n",
      "Successfully installed pdfminer-20191125\n"
     ]
    }
   ],
   "source": [
    "! pip install pdfminer"
   ]
  },
  {
   "cell_type": "code",
   "execution_count": null,
   "metadata": {},
   "outputs": [],
   "source": []
  }
 ],
 "metadata": {
  "kernelspec": {
   "display_name": "Python 3",
   "language": "python",
   "name": "python3"
  },
  "language_info": {
   "codemirror_mode": {
    "name": "ipython",
    "version": 3
   },
   "file_extension": ".py",
   "mimetype": "text/x-python",
   "name": "python",
   "nbconvert_exporter": "python",
   "pygments_lexer": "ipython3",
   "version": "3.10.4"
  },
  "toc": {
   "base_numbering": 1,
   "nav_menu": {},
   "number_sections": false,
   "sideBar": true,
   "skip_h1_title": true,
   "title_cell": "Table of Contents",
   "title_sidebar": "Contents",
   "toc_cell": false,
   "toc_position": {},
   "toc_section_display": true,
   "toc_window_display": false
  },
  "vscode": {
   "interpreter": {
    "hash": "d6006f95bfff2514fb4eca4ee299b85ec7882bfed1a4856f404de985b4cfda43"
   }
  }
 },
 "nbformat": 4,
 "nbformat_minor": 2
}
